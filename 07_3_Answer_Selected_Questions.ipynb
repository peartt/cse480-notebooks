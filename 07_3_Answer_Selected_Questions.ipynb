{
  "nbformat": 4,
  "nbformat_minor": 0,
  "metadata": {
    "colab": {
      "name": "07_3_Answer_Selected_Questions.ipynb",
      "provenance": [],
      "authorship_tag": "ABX9TyO789PUQvy4BOqOPWiJVyw6",
      "include_colab_link": true
    },
    "kernelspec": {
      "name": "python3",
      "display_name": "Python 3"
    }
  },
  "cells": [
    {
      "cell_type": "markdown",
      "metadata": {
        "id": "view-in-github",
        "colab_type": "text"
      },
      "source": [
        "<a href=\"https://colab.research.google.com/github/byui-cse/cse480-notebooks/blob/master/07_3_Answer_Selected_Questions.ipynb\" target=\"_parent\"><img src=\"https://colab.research.google.com/assets/colab-badge.svg\" alt=\"Open In Colab\"/></a>"
      ]
    },
    {
      "cell_type": "markdown",
      "metadata": {
        "id": "ZXeF_yjVBVXH"
      },
      "source": [
        "# How does that Harder Proof go?"
      ]
    },
    {
      "cell_type": "markdown",
      "metadata": {
        "id": "sfoO4hg8R1L8"
      },
      "source": [
        "As warmup, consider the question:\n",
        "\n",
        "Given that $$\\sum_{k=1}^{\\infty} \\frac{1}{k^2} = \\frac{\\pi^2}{6},$$\n",
        "\n",
        "the sum $$\\sum_{k=1}^{\\infty} \\frac{1}{(2k-1)^2}$$\n",
        "\n",
        "is readily computed as a fraction with the same numerator $(\\pi^2)$ and what denominator?\n",
        "\n",
        "The trick is to exploit the commutativity and associativity of addition and divide the first sum into two sums, those with odd denominators and those with even denominators. The former is the sum we seek. The latter can be further transformed by dividing all those even denominators (which are squared) by $2^2$, effectively factoring out $\\frac{1}{4}$ from each term, as follows:\n",
        "\n",
        "$$\\frac{\\pi^2}{6} = \\sum_{k=1}^{\\infty} \\frac{1}{k^2} = \\sum_{k=1}^{\\infty} \\frac{1}{(2k-1)^2} + \\sum_{k=1}^{\\infty} \\frac{1}{(2k)^2}.$$\n",
        "\n",
        "So then\n",
        "\n",
        "$$\\frac{\\pi^2}{6} = \\sum_{k=1}^{\\infty} \\frac{1}{k^2} = \\sum_{k=1}^{\\infty} \\frac{1}{(2k-1)^2} + \\frac{1}{4} \\sum_{k=1}^{\\infty} \\frac{1}{k^2}.$$\n",
        "\n",
        "and so\n",
        "\n",
        "$$\\frac{\\pi^2}{6} = \\sum_{k=1}^{\\infty} \\frac{1}{(2k-1)^2} + \\frac{1}{4}\\left(\\frac{\\pi^2}{6}\\right)$$\n",
        "\n",
        "and so the sum we seek is\n",
        "\n",
        "$$\\sum_{k=1}^{\\infty} \\frac{1}{(2k-1)^2} = \\frac{\\pi^2}{6} - \\frac{1}{4}\\left(\\frac{\\pi^2}{6}\\right) = \\frac{3}{4}\\left(\\frac{\\pi^2}{6}\\right) = \\frac{\\pi^2}{8}.$$\n"
      ]
    },
    {
      "cell_type": "markdown",
      "metadata": {
        "id": "89jEmiC9airU"
      },
      "source": [
        "## On to the Proof"
      ]
    },
    {
      "cell_type": "markdown",
      "metadata": {
        "id": "MZHXT3x1YKxy"
      },
      "source": [
        "To prove that $$\\sum_{n=1}^{\\infty} \\frac{b(n)}{n(n+1)} = ln\\ 4$$\n",
        "\n",
        "where $b(n) =$ the number of ones in the binary expansion of $n$, we use the same trick, along with the given hints that $$\\frac{1}{n(n+1)} = \\frac{1}{n} - \\frac{1}{n+1}$$ and the alternating harmonic series\n",
        "(https://mathworld.wolfram.com/AlternatingHarmonicSeries.html) sums to $ln\\ 2$.\n"
      ]
    },
    {
      "cell_type": "markdown",
      "metadata": {
        "id": "6-na09Mchn3I"
      },
      "source": [
        "### Key Facts"
      ]
    },
    {
      "cell_type": "markdown",
      "metadata": {
        "id": "E8DsqlufaNa8"
      },
      "source": [
        "To decompose the sum into manageable sub-sums, we must also **use the facts**:\n",
        "1. $b(2n) = b(n)$, and\n",
        "2. $b(2n + 1) = b(2n) + 1 = b(n) + 1$."
      ]
    },
    {
      "cell_type": "code",
      "metadata": {
        "id": "Geq1EduEIB9e"
      },
      "source": [
        "for n in range(0,100):\n",
        "  print(n, bin(n), bin(n).count('1'))"
      ],
      "execution_count": null,
      "outputs": []
    },
    {
      "cell_type": "markdown",
      "metadata": {
        "id": "bKmqsv_FRvVZ"
      },
      "source": [
        "So divide the sum (call it $S$) into alternating plus and minus terms, divide those sums into odds and evens:\n",
        "\n",
        "$$S = \\sum_{n=1}^{\\infty} \\frac{b(n)}{n(n+1)}$$\n",
        "\n",
        "$$= \\sum_{n=1}^{\\infty} \\left(\\frac{b(n)}{n} - \\frac{b(n)}{n+1}\\right)$$\n",
        "\n",
        "$$= \\sum_{n=1}^{\\infty} \\frac{b(n)}{n} - \\sum_{n=1}^{\\infty} \\frac{b(n)}{n+1}$$\n",
        "\n",
        "$$= \\sum_{n=0}^{\\infty} \\frac{b(2n + 1)}{2n + 1} + \\sum_{n=1}^{\\infty} \\frac{b(2n)}{2n} - \\sum_{n=0}^{\\infty} \\frac{b(2n + 1)}{2(n + 1)} - \\sum_{n=1}^{\\infty} \\frac{b(2n)}{2n + 1 }$$\n",
        "\n",
        "$$= \\sum_{n=0}^{\\infty} \\frac{b(2n)}{2n + 1} + \\sum_{n=0}^{\\infty} \\frac{1}{2n + 1} + \\sum_{n=1}^{\\infty} \\frac{b(2n)}{2n} - \\sum_{n=0}^{\\infty} \\frac{b(2n + 1)}{2(n + 1)} - \\sum_{n=1}^{\\infty} \\frac{b(2n)}{2n + 1 }$$\n",
        "\n",
        "$$= \\sum_{n=0}^{\\infty} \\frac{b(2n)}{2n + 1} + \\sum_{n=0}^{\\infty} \\frac{1}{2n + 1} + \\sum_{n=1}^{\\infty} \\frac{b(n)}{2n} - \\sum_{n=0}^{\\infty} \\frac{b(2n + 1)}{2(n + 1)} - \\sum_{n=1}^{\\infty} \\frac{b(2n)}{2n + 1 }$$\n",
        "\n",
        "$$= \\sum_{n=0}^{\\infty} \\frac{b(2n)}{2n + 1} + \\sum_{n=0}^{\\infty} \\frac{1}{2n + 1} + \\frac{1}{2} \\sum_{n=1}^{\\infty} \\frac{b(n)}{n} - \\sum_{n=0}^{\\infty} \\frac{b(2n + 1)}{2(n + 1)} - \\sum_{n=1}^{\\infty} \\frac{b(2n)}{2n + 1 }$$\n",
        "\n",
        "$$= \\sum_{n=0}^{\\infty} \\frac{1}{2n + 1} + \\frac{1}{2} \\sum_{n=1}^{\\infty} \\frac{b(n)}{n} - \\frac{1}{2}\\sum_{n=0}^{\\infty} \\frac{b(2n + 1)}{n + 1}.$$\n",
        "\n",
        "That last step was justified because the first and last sums cancel each other out, because $b(2\\cdot 0) = b(0) = 0.$\n",
        "\n",
        "So now we have\n",
        "$$S = \\sum_{n=0}^{\\infty} \\frac{1}{2n + 1} + \\frac{1}{2} \\sum_{n=1}^{\\infty} \\frac{b(n)}{n} - \\frac{1}{2}\\sum_{n=0}^{\\infty} \\frac{b(2n + 1)}{n + 1}$$\n",
        "\n",
        "$$= \\sum_{n=0}^{\\infty} \\frac{1}{2n + 1} + \\frac{1}{2} \\sum_{n=1}^{\\infty} \\frac{b(n)}{n} - \\frac{1}{2} \\sum_{n=0}^{\\infty} \\frac{b(2n)}{n + 1} - \\frac{1}{2} \\sum_{n=0}^{\\infty} \\frac{1}{n + 1}.$$\n",
        "\n",
        "That last sum after multiplying through by $\\frac{1}{2}$\n",
        "$$= \\sum_{n=1}^{\\infty} \\frac{1}{2n}$$\n",
        "\n",
        "and that sum combines with the first sum to form the alternating harmonic series\n",
        "$$\\frac{1}{1} - \\frac{1}{2} + \\frac{1}{3} - \\frac{1}{4} + \\cdots = \\sum_{n=1}^{\\infty} \\frac{(-1)^{n+1}}{n} = ln\\ 2.$$\n",
        "\n",
        "So now we have\n",
        "\n",
        "$$S = \\frac{1}{2} \\sum_{n=1}^{\\infty} \\frac{b(n)}{n} -\n",
        "\\frac{1}{2} \\sum_{n=0}^{\\infty} \\frac{b(2n)}{n + 1} + ln\\ 2$$\n",
        "\n",
        "$$= \\frac{1}{2} \\sum_{n=1}^{\\infty} \\frac{b(n)}{n} -\n",
        "\\frac{1}{2} \\sum_{n=0}^{\\infty} \\frac{b(n)}{n + 1} + ln\\ 2$$\n",
        "\n",
        "$$= \\frac{1}{2} \\left(\\sum_{n=1}^{\\infty} \\frac{b(n)}{n} -\n",
        "\\sum_{n=1}^{\\infty} \\frac{b(n)}{n + 1}\\right) + ln\\ 2$$\n",
        "\n",
        "$$= \\frac{1}{2} S + ln\\ 2.$$\n",
        "\n",
        "Multiplying both sides of the equation\n",
        "$S = \\frac{1}{2} S + ln\\ 2$\n",
        "by $2$ yields $2S= S + 2\\ ln\\ 2, \\mbox{or}\\ S = 2\\ ln\\ 2 = ln\\ 4.$\n",
        "\n",
        "QED\n",
        "\n"
      ]
    },
    {
      "cell_type": "markdown",
      "metadata": {
        "id": "SMIb3PWBcRa1"
      },
      "source": [
        "# What about that Hardest Proof Problem?\n"
      ]
    },
    {
      "cell_type": "markdown",
      "metadata": {
        "id": "hzdZkxbqcVba"
      },
      "source": [
        "Prove that $a^4 + b^4 + c^4 = d^4$ has no positive integer solutions."
      ]
    },
    {
      "cell_type": "markdown",
      "metadata": {
        "id": "KeA_xw2_cWx6"
      },
      "source": [
        "## What's the trick here?"
      ]
    },
    {
      "cell_type": "markdown",
      "metadata": {
        "id": "cUQMvazacaJ6"
      },
      "source": [
        "The trick is that proving a negative is the hardest kind of proof.\n",
        "\n",
        "Brute force search is impossible --- we can't write a program to try every possible set of 4 positive integers to see if all of them fail!\n",
        "\n",
        "This equation and negative claim bear strong resemblance to Fermat's **Last** Theorem, which simply put --- deceptively simple --- statement was finally proved in 1995 by Andrew Wiles, after mathematicians tried and failed for over 350 years.\n",
        "\n",
        "Wiles' proof weighs in at well over 100 pages. Of course, I did not expect you to write a proof like that!\n",
        "\n"
      ]
    },
    {
      "cell_type": "markdown",
      "metadata": {
        "id": "Rsb6aNPffMXM"
      },
      "source": [
        "#### But wait!"
      ]
    },
    {
      "cell_type": "markdown",
      "metadata": {
        "id": "97_V_XGpfPkL"
      },
      "source": [
        "There's actually a harder-than-hardest kind of proof.\n",
        "\n"
      ]
    },
    {
      "cell_type": "markdown",
      "metadata": {
        "id": "0qSCeonsfeIp"
      },
      "source": [
        "#### Wait for it..."
      ]
    },
    {
      "cell_type": "markdown",
      "metadata": {
        "id": "37wXKPoKfieK"
      },
      "source": [
        "Trying to prove something that is **impossible to prove** is the hardest kind!"
      ]
    },
    {
      "cell_type": "markdown",
      "metadata": {
        "id": "L6afu8IWfxZs"
      },
      "source": [
        "##### In fact"
      ]
    },
    {
      "cell_type": "markdown",
      "metadata": {
        "id": "XDdkejObf1A_"
      },
      "source": [
        "There are no positive integer solutions to $a^4 + b^4 + c^4 = d^4$ is **FALSE**!\n",
        "\n",
        "There **IS** at least one solution:"
      ]
    },
    {
      "cell_type": "markdown",
      "metadata": {
        "id": "UHbhvMs2gPrR"
      },
      "source": [
        "##### But how?"
      ]
    },
    {
      "cell_type": "markdown",
      "metadata": {
        "id": "UJXzSNgmgTn_"
      },
      "source": [
        "How it was found I do not know.\n",
        "\n",
        "Conducting a brute-force search in the hopes of finding this solution seems doomed to fail because of the size of the numbers:"
      ]
    },
    {
      "cell_type": "markdown",
      "metadata": {
        "id": "IhK1qaiDhHc0"
      },
      "source": [
        "###### To wit:"
      ]
    },
    {
      "cell_type": "code",
      "metadata": {
        "colab": {
          "base_uri": "https://localhost:8080/"
        },
        "id": "jowlvJJ0gmx-",
        "outputId": "17cbc607-0d17-4003-b8bc-e2fc8480e749"
      },
      "source": [
        "a = 2682440\n",
        "b = 15365639\n",
        "c = 18796760\n",
        "d = 20615673\n",
        "\n",
        "a ** 4 + b ** 4 + c ** 4 == d ** 4"
      ],
      "execution_count": 3,
      "outputs": [
        {
          "output_type": "execute_result",
          "data": {
            "text/plain": [
              "True"
            ]
          },
          "metadata": {
            "tags": []
          },
          "execution_count": 3
        }
      ]
    }
  ]
}