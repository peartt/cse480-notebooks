{
  "nbformat": 4,
  "nbformat_minor": 0,
  "metadata": {
    "colab": {
      "name": "12_1_Ponder_and_Prove_Binary_Decision_Diagrams.ipynb",
      "provenance": [],
      "authorship_tag": "ABX9TyNrInmf5FpQp/RVdx/uqluC",
      "include_colab_link": true
    },
    "kernelspec": {
      "name": "python3",
      "display_name": "Python 3"
    },
    "language_info": {
      "name": "python"
    }
  },
  "cells": [
    {
      "cell_type": "markdown",
      "metadata": {
        "id": "view-in-github",
        "colab_type": "text"
      },
      "source": [
        "<a href=\"https://colab.research.google.com/github/byui-cse/cse480-notebooks/blob/master/12_1_Ponder_and_Prove_Binary_Decision_Diagrams.ipynb\" target=\"_parent\"><img src=\"https://colab.research.google.com/assets/colab-badge.svg\" alt=\"Open In Colab\"/></a>"
      ]
    },
    {
      "cell_type": "markdown",
      "metadata": {
        "id": "xq3VkxSE_aCX"
      },
      "source": [
        "# Ponder and Prove Binary Decision Diagrams\n",
        "## Due: Saturday, 27 March 2021, 11:59 pm"
      ]
    },
    {
      "cell_type": "markdown",
      "metadata": {
        "id": "sq86m4Gl_i_6"
      },
      "source": [
        "In a nutshell, what Binary Decision Diagrams (BDDs) give us is a way to describe Boolean expressions with **another normal form** that has more desirable properties than DNFs and CNFs. In particular, there are efficient algorithms for determining the satisfiability and tautology questions."
      ]
    },
    {
      "cell_type": "markdown",
      "metadata": {
        "id": "ZJMvsb5HCWQJ"
      },
      "source": [
        "## TODO Have Fun with DEK and BDDs"
      ]
    },
    {
      "cell_type": "markdown",
      "metadata": {
        "id": "GwuZyM4QCXY6"
      },
      "source": [
        "From a giant of Computer Science (mostly watchable at double-speed, painful at normal):\n",
        "\n",
        "Watch https://www.youtube.com/watch?v=SQE21efsf7Y --- direct link. Or see the code block below for the embedded video.\n",
        "\n",
        "Pay particular attention at the 25-minute mark. This is Professor Knuth explaining clearly why it is that for most practical problems, the associated BDD will be relatively small."
      ]
    },
    {
      "cell_type": "code",
      "metadata": {
        "colab": {
          "base_uri": "https://localhost:8080/",
          "height": 322
        },
        "id": "tupW_oB2CfPe",
        "outputId": "01f0653e-d528-4f3e-a0df-fbc92bc6b6e4"
      },
      "source": [
        "from IPython.display import YouTubeVideo\n",
        "YouTubeVideo('SQE21efsf7Y')"
      ],
      "execution_count": 1,
      "outputs": [
        {
          "output_type": "execute_result",
          "data": {
            "text/html": [
              "\n",
              "        <iframe\n",
              "            width=\"400\"\n",
              "            height=\"300\"\n",
              "            src=\"https://www.youtube.com/embed/SQE21efsf7Y\"\n",
              "            frameborder=\"0\"\n",
              "            allowfullscreen\n",
              "        ></iframe>\n",
              "        "
            ],
            "text/plain": [
              "<IPython.lib.display.YouTubeVideo at 0x7fb9e9a94450>"
            ],
            "image/jpeg": "[encoded data removed]"
          },
          "metadata": {
            "tags": []
          },
          "execution_count": 1
        }
      ]
    },
    {
      "cell_type": "markdown",
      "metadata": {
        "id": "leURv7bkDJaA"
      },
      "source": [
        "## TODO Run the BDD tool"
      ]
    },
    {
      "cell_type": "markdown",
      "metadata": {
        "id": "w8YpBqwiDTdT"
      },
      "source": [
        "Found at http://formal.cs.utah.edu:8080/pbl/BDD.php\n",
        "\n",
        "This will help you understand Boolean logic in general, and BDDs in particular."
      ]
    },
    {
      "cell_type": "markdown",
      "metadata": {
        "id": "94hRLx1cDoki"
      },
      "source": [
        "## TODO Answer Some Questions"
      ]
    },
    {
      "cell_type": "markdown",
      "metadata": {
        "id": "4bRvZoxsDwp0"
      },
      "source": [
        "We want to implement the following functions:\n",
        "* The magnitude comparison function ```<``` (written ```lt``` in the BDD file) defined over bits ```a3,a2,a1,a0``` and ```b3,b2,b1,b0```. In particular, ```a3 a2 a1 a0 < b3 b2 b1 b0``` must be true exactly when the magnitude of the unsigned binary nibble ```a3 a2 a1 a0``` is less than that of the nibble ```b3 b2 b1 b0```. Examples: ```0100 < 1100```, ```0100 < 0101```, etc.\n",
        "* The magnitude comparison function ```>``` (written ```gt``` in the BDD file) defined over bits ```a3,a2,a1,a0``` and ```b3,b2,b1,b0```. It is defined similar to how ```<``` was defined. Examples: ```1100 > 0100```, ```0101 > 0100```, etc.\n",
        "* The equality function ```=``` (written ```eq``` in the BDD file) defined over bits ```a3,a2,a1,a0``` and ```b3,b2,b1,b0```. Examples: ```1100 = 1100```, ```0101 = 0101```, etc."
      ]
    },
    {
      "cell_type": "markdown",
      "metadata": {
        "id": "ljBA_Y6_Fcuo"
      },
      "source": [
        "Using the BDD tool, some computational theorists have come up with the following definitions. Your task is to help them debug their constructions.\n",
        "\n",
        "Due to the symmetry of their constructions, they trust ```lt1``` and ```gt1``` to be both right or wrong.\n",
        "\n",
        "Similarly, they trust ```lt2``` and ```gt2``` to be both right or wrong.\n",
        "\n",
        "They also trust ```eq```'s definition.\n",
        "\n",
        "They need help with which pair ```lt1,gt1``` or ```lt2,gt2``` to trust.\n",
        "\n",
        "They also need help with size-control of the BDD:\n"
      ]
    },
    {
      "cell_type": "markdown",
      "metadata": {
        "id": "nku7xTRUGljU"
      },
      "source": [
        "```\n",
        "#1 Var_Order : a3, a2, a1, a0, b3, b2, b1, b0\n",
        "#2 Var_Order : something else\n",
        "\n",
        "lt1 = (~a3 & b3) | (~a2 & b2) | (~a1 & b1) | (~a0 & b0)\n",
        "gt1 = (a3 & ~b3) | (a2 & ~b2) | (a1 & ~b1) | (a0 & ~b0)\n",
        "\n",
        "lt2 = ~a3 & b3 | (a3<=>b3) & (~a2 & b2 | ((a2<=>b2) & (~a1 & b1 | (a1<=>b1) & ~a0 & b0)))\n",
        "gt2 = a3 & ~b3 | (a3<=>b3) & (a2 & ~b2 | ((a2<=>b2) & (a1 & ~b1 | (a1<=>b1) & a0 & ~b0)))\n",
        "    \n",
        "eq = (a3 <=> b3) & (a2 <=> b2) & (a1 <=> b1) & (a0 <=> b0)\n",
        "\n",
        "#3 Main_Exp  : lt1 & gt1\n",
        "#4 Main_Exp  : lt2 & gt2\n",
        "#5 Main_Exp  : (lt1 & ~gt1) <=> lt1\n",
        "#6 Main_Exp  : (lt2 & ~gt2) <=> lt2\n",
        "```"
      ]
    },
    {
      "cell_type": "markdown",
      "metadata": {
        "id": "Yn3HtBF-Gr7q"
      },
      "source": [
        "Which ```Var_Order``` (```# 1``` or ```# 2```) do you recommend, and why? What is a good criterion for picking a variable ordering that results in smaller BDD sizes? Write about 2 bullet points answering these two questions in the block below."
      ]
    },
    {
      "cell_type": "markdown",
      "metadata": {
        "id": "4NApzKhgHFbw"
      },
      "source": [
        "\n",
        "When you enable ```#3``` as the ```Main_Exp```, does the resulting BDD suggest that ```lt1``` and ```gt1``` are correct?\n",
        "\n",
        "Also, when you enable ```#4``` as the ```Main_Exp```, does the resulting BDD suggest that ```lt2``` and ```gt2``` are correct?\n",
        "\n",
        "Explain in clear bullet points (about 2) by reading the resulting BDDs, saying which of the expressions are correct (```lt1,gt1``` or ```lt2,gt2```).\n",
        "\n",
        "When you enable ```#5``` as the ```Main_Exp```, does the resulting BDD suggest that ```lt1``` and ```gt1``` are correct?\n",
        "\n",
        "Also, when you enable ```#6``` as the ```Main_Exp```, does the resulting BDD suggest that ```lt2``` and ```gt2``` are correct?\n",
        "\n",
        "Explain in clear bullet points (about 2) by reading the resulting BDDs, saying which of the expressions are correct (```lt1,gt1``` or ```lt2,gt2```).\n",
        "\n",
        "What is the main flaw in ```lt1/gt1```? (about 2 bullets)\n",
        "\n",
        "How is this flaw fixed in ```lt2/gt2```? (about 2 bullets)"
      ]
    },
    {
      "cell_type": "markdown",
      "metadata": {
        "id": "HulcvLE5IK0m"
      },
      "source": [
        "Your answers go here."
      ]
    }
  ]
}