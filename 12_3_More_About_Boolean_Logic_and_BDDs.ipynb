{
  "nbformat": 4,
  "nbformat_minor": 0,
  "metadata": {
    "colab": {
      "name": "12_3_More_About_Boolean_Logic_and_BDDs.ipynb",
      "provenance": [],
      "authorship_tag": "ABX9TyM4fQpcEhZagFEFKG4DD2bt",
      "include_colab_link": true
    },
    "kernelspec": {
      "name": "python3",
      "display_name": "Python 3"
    },
    "language_info": {
      "name": "python"
    }
  },
  "cells": [
    {
      "cell_type": "markdown",
      "metadata": {
        "id": "view-in-github",
        "colab_type": "text"
      },
      "source": [
        "<a href=\"https://colab.research.google.com/github/byui-cse/cse480-notebooks/blob/master/12_3_More_About_Boolean_Logic_and_BDDs.ipynb\" target=\"_parent\"><img src=\"https://colab.research.google.com/assets/colab-badge.svg\" alt=\"Open In Colab\"/></a>"
      ]
    },
    {
      "cell_type": "markdown",
      "metadata": {
        "id": "u9nSUDMdYEyz"
      },
      "source": [
        "# More About Boolean Logic and BDDs\n",
        "## Class Directed Learning\n",
        "### 24 March 2021"
      ]
    },
    {
      "cell_type": "markdown",
      "metadata": {
        "id": "mIhVw4X1a96g"
      },
      "source": [
        "## TODO Explore Inequivalence of Combinational Circuits"
      ]
    },
    {
      "cell_type": "markdown",
      "metadata": {
        "id": "rS6r5fIubAZ7"
      },
      "source": [
        "...by way of BDDs.\n",
        "\n",
        "Construct BDDs from two combinational circuits and use their BDDs to show that the two circuits are **NOT** equivalent --- i.e., find an input that returns different outputs in the two circuits.\n",
        "\n",
        "[Here are the schematics of the two circuits](https://rickneff.github.io/img/two-inequivalent-circuits.pdf), call them A and B.\n",
        "\n",
        "Hint: Use the [PBDD tool](http://formal.cs.utah.edu:8080/pbl/BDD.php) introduced in the book."
      ]
    },
    {
      "cell_type": "markdown",
      "metadata": {
        "id": "8gyjjYz0bI0I"
      },
      "source": [
        "## TODO Give a Short Answer"
      ]
    },
    {
      "cell_type": "markdown",
      "metadata": {
        "id": "2l6SAkUCbLGa"
      },
      "source": [
        "On page 277 Ganesh writes:\n",
        "> For many commonly occurring Boolean functions, the BDDs involved are polynomially sized, and for these problems, Boolean reasoning becomes polynomial-time. Heuristics help choose variable orders that often ensure polynomially sized BDDs.\n",
        "\n",
        "> [...]\n",
        "\n",
        "> From Chapter 16 we know that Boolean satisfiability is NP-Complete. Thus, there shouldn't be a way to get away with satisfiability checking with a lower cost even by using BDDs. This is indeed clinched by the result that discovering a good variable ordering for BDDs is NP-Complete.\n",
        "\n",
        "What is the difference between \"Boolean reasoning\" and \"Boolean satisfiability\"?\n",
        "\n",
        "Please explain why one is in P and the other is in NP."
      ]
    },
    {
      "cell_type": "markdown",
      "metadata": {
        "id": "P4wfQNyobYPO"
      },
      "source": [
        "## TODO CNF and DNF"
      ]
    },
    {
      "cell_type": "markdown",
      "metadata": {
        "id": "bFHNzNFUbaK6"
      },
      "source": [
        "Argue that $e_1$ and $e_2$ are equal if and only if $e_1 \\leftrightarrow e_2$ is a tautology.\n",
        "\n",
        "Is it possible to say whether $e$ is satisfiable from the fact that $\\lnot e$ is a tautology?\n",
        "\n",
        "Now argue that **any** Boolean expression is equal to an expression in CNF and an expression in DNF."
      ]
    },
    {
      "cell_type": "markdown",
      "metadata": {
        "id": "F3afoaLcbgh_"
      },
      "source": [
        "## Now Consider"
      ]
    },
    {
      "cell_type": "markdown",
      "metadata": {
        "id": "6vwkIA9bbjaO"
      },
      "source": [
        "The Cook-Levin theorem holds that when restricted to expressions in CNF, Satisfiability (SAT) is NP-Complete.\n",
        "\n",
        "However, satisfiability is decidable in polynomial time for DNFs, but their tautology check is hard (co-NP-complete)."
      ]
    },
    {
      "cell_type": "markdown",
      "metadata": {
        "id": "gaXMpgsrbnxs"
      },
      "source": [
        "### TODO Convince yourselves of these assertions\n"
      ]
    },
    {
      "cell_type": "markdown",
      "metadata": {
        "id": "bzCmCKicbq1s"
      },
      "source": [
        "Describe polynomial-time algorithms in high-level pseudocode for determining whether a DNF is satisfiable and for determining whether a CNF is a tautology.\n"
      ]
    },
    {
      "cell_type": "markdown",
      "metadata": {
        "id": "a1yf9QFNbupc"
      },
      "source": [
        "## Continuing"
      ]
    },
    {
      "cell_type": "markdown",
      "metadata": {
        "id": "BT4qZNz9bwXO"
      },
      "source": [
        "Although satisfiability is easy for DNFs and the tautology check is easy for CNFs, we are not sitting pretty.\n",
        "\n",
        "Why?\n",
        "\n",
        "Because the conversion between CNFs and DNFs is hard (exponential)!\n",
        "\n",
        "For example, the following CNF over the variables $u, t, w, x, y, z$:\n",
        "\n",
        "$(u \\lor x) \\land (t \\lor y) \\land (w \\lor z)$\n",
        "\n",
        "has $3$ conjuncts. Its corresponding DNF has $2^3 = 8$ disjuncts:\n",
        "\n",
        "$(u \\land t \\land w)\\ \\lor$\n",
        "\n",
        "$(u \\land t \\land z)\\ \\lor$\n",
        "\n",
        "$(u \\land y \\land w)\\ \\lor$\n",
        "\n",
        "$(u \\land y \\land z)\\ \\lor$\n",
        "\n",
        "$(x \\land t \\land w)\\ \\lor$\n",
        "\n",
        "$(x \\land t \\land z)\\ \\lor$\n",
        "\n",
        "$(x \\land y \\land w)\\ \\lor$\n",
        "\n",
        "$(x \\land y \\land z).$\n"
      ]
    },
    {
      "cell_type": "markdown",
      "metadata": {
        "id": "eop0NCbvcBc5"
      },
      "source": [
        "## TODO Follow the Process\n"
      ]
    },
    {
      "cell_type": "markdown",
      "metadata": {
        "id": "rDTYpGh6cDHk"
      },
      "source": [
        "Show how the CNF-to-DNF conversion works for $(u \\lor x) \\land (t \\lor y) \\land (w \\lor z)$.\n"
      ]
    },
    {
      "cell_type": "markdown",
      "metadata": {
        "id": "e01sEgnPcHui"
      },
      "source": [
        "### Generalizing"
      ]
    },
    {
      "cell_type": "markdown",
      "metadata": {
        "id": "b19t2gE_cJwc"
      },
      "source": [
        "Formed over the $2n$ variables\n",
        "\n",
        "$x^1_0, \\cdots, x^n_0, x^1_1, \\cdots, x^n_1$\n",
        "\n",
        "the CNF\n",
        "\n",
        "$(x^1_0 \\lor x^1_1) \\land (x^2_0 \\lor x^2_1) \\land \\cdots \\land (x^n_0 \\lor x^n_1)$\n",
        "\n",
        "has $n$ conjuncts. Its corresponding DNF has $2^n$ disjuncts, one for each of the $n$-digit binary numbers 000...000 to 111...111 --- the $i^{th}$ digit representing a choice of either $x^i_0$ (for 0) or $x^i_1$ (for 1).\n",
        "\n",
        "$(x^1_0 \\land x^2_0 \\land \\cdots \\land x^{n - 1}_0 \\land x^n_0)\\ \\lor$\n",
        "\n",
        "$(x^1_0 \\land x^2_0 \\land \\cdots \\land x^{n - 1}_0 \\land x^n_1)\\ \\lor$\n",
        "\n",
        "$\\cdots$\n",
        "\n",
        "$(x^1_1 \\land x^2_1 \\land \\cdots \\land x^{n - 1}_1 \\land x^n_0)\\ \\lor$\n",
        "\n",
        "$(x^1_1 \\land x^2_1 \\land \\cdots \\land x^{n - 1}_1 \\land x^n_1)$.\n",
        "\n",
        "Whereas the original expression has size proportional to $n$ the DNF has size proportional to $n2^n$."
      ]
    },
    {
      "cell_type": "markdown",
      "metadata": {
        "id": "D4TZ6MPxcfQ9"
      },
      "source": [
        "### TODO Explain Two Things\n"
      ]
    },
    {
      "cell_type": "markdown",
      "metadata": {
        "id": "D0DVA-aKci54"
      },
      "source": [
        "Now explain how the Cook-Levin Theorem implies that checking INequivalence between Boolean expressions is NP-Hard.\n",
        "\n",
        "Next, explain how the question of tautology and satisfiability can be decided if we are given an algorithm for checking equivalence between Boolean expressions."
      ]
    }
  ]
}