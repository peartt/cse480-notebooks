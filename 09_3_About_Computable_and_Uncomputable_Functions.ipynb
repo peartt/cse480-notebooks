{
  "nbformat": 4,
  "nbformat_minor": 0,
  "metadata": {
    "colab": {
      "name": "09_3_About_Computable_and_Uncomputable_Functions.ipynb",
      "provenance": [],
      "authorship_tag": "ABX9TyOKm64WTQ4gDaFeW3tnceJf",
      "include_colab_link": true
    },
    "kernelspec": {
      "name": "python3",
      "display_name": "Python 3"
    }
  },
  "cells": [
    {
      "cell_type": "markdown",
      "metadata": {
        "id": "view-in-github",
        "colab_type": "text"
      },
      "source": [
        "<a href=\"https://colab.research.google.com/github/byui-cse/cse480-notebooks/blob/master/09_3_About_Computable_and_Uncomputable_Functions.ipynb\" target=\"_parent\"><img src=\"https://colab.research.google.com/assets/colab-badge.svg\" alt=\"Open In Colab\"/></a>"
      ]
    },
    {
      "cell_type": "markdown",
      "metadata": {
        "id": "93CBtDW8o7jL"
      },
      "source": [
        "# About Computable and Uncomputable Functions"
      ]
    },
    {
      "cell_type": "markdown",
      "metadata": {
        "id": "m0oKcJHMpAM6"
      },
      "source": [
        "## Consider the following definition:"
      ]
    },
    {
      "cell_type": "markdown",
      "metadata": {
        "id": "HU4F7zh-pFI8"
      },
      "source": [
        "A number $x$ between 0 and 1 is defined to be **computable** if there is a Python program that when given the input $i$, will produce the $i^{th}$ digit in the decimal expansion of $x$."
      ]
    },
    {
      "cell_type": "markdown",
      "metadata": {
        "id": "7Hg8f5N1pk1Z"
      },
      "source": [
        "For a trivial example, the number 1/3 is computable, because the Python program that always outputs the digit 3, regardless of its input, computes this number.\n"
      ]
    },
    {
      "cell_type": "markdown",
      "metadata": {
        "id": "GSy11cUbeYzz"
      },
      "source": [
        "## Consider a lower-level definition:"
      ]
    },
    {
      "cell_type": "markdown",
      "metadata": {
        "id": "duk3GBGMegr6"
      },
      "source": [
        "A function $f$ is a computable function if some Turing machine $M$, on every input $w$, halts with just $f(w)$ on its tape."
      ]
    },
    {
      "cell_type": "markdown",
      "metadata": {
        "id": "rcMOEmi8pu7t"
      },
      "source": [
        "## How about this one?"
      ]
    },
    {
      "cell_type": "markdown",
      "metadata": {
        "id": "zXf7ow6cp18T"
      },
      "source": [
        "The doubly infinite sum of an exponential scaled and squared:"
      ]
    },
    {
      "cell_type": "markdown",
      "metadata": {
        "id": "Bpk7lEsAp6oA"
      },
      "source": [
        "$$\\left( \\frac{1}{10^5} \\sum_{n = - \\infty}^{\\infty} e^{-(n^2/10^{10})} \\right)^2$$"
      ]
    },
    {
      "cell_type": "markdown",
      "metadata": {
        "id": "JXUliNIlv5K0"
      },
      "source": [
        "https://www.desmos.com/calculator/qtecy5otdy"
      ]
    },
    {
      "cell_type": "markdown",
      "metadata": {
        "id": "CRuGNeLrqDwo"
      },
      "source": [
        "## What about this one?"
      ]
    },
    {
      "cell_type": "markdown",
      "metadata": {
        "id": "ZcmDylftr7FV"
      },
      "source": [
        "Calculating the base of natural logarithms. Not a number between 0 and 1, but if you divide it by 10 it is. To compute it exactly you must evaluate\n",
        "$$e = lim_{n \\rightarrow \\infty}\\left(1 + \\frac{1}{n}\\right)^n.$$"
      ]
    },
    {
      "cell_type": "code",
      "metadata": {
        "id": "Uqd38qB6s5bz"
      },
      "source": [
        "from decimal import *\n",
        "getcontext().prec = 2000\n",
        "Decimal(1).exp()"
      ],
      "execution_count": null,
      "outputs": []
    },
    {
      "cell_type": "code",
      "metadata": {
        "id": "FAoqAhmGsTxC"
      },
      "source": [
        "# Up to 2000 decimal digits\n",
        "\n",
        "\n",
        "# Using a series sum you could calculate it:\n",
        "import math\n",
        "getcontext().prec = 2000\n",
        "e = Decimal(0)\n",
        "i = 0\n",
        "while True:\n",
        "    fact = math.factorial(i)\n",
        "    e += Decimal(1)/fact\n",
        "    i += 1\n",
        "    if fact > 10**2000: break\n",
        "e"
      ],
      "execution_count": null,
      "outputs": []
    },
    {
      "cell_type": "markdown",
      "metadata": {
        "id": "h7A0xN2BqI4-"
      },
      "source": [
        "Here is an amazing **pandigital** approximation to $e$ that is correct to 18457734525360901453873570 decimal digits:"
      ]
    },
    {
      "cell_type": "markdown",
      "metadata": {
        "id": "LpepXxRg6xv7"
      },
      "source": [
        "Explained by James Grimes on Numberphile:\n",
        "https://www.youtube.com/watch?v=xgBGibfLD-U"
      ]
    },
    {
      "cell_type": "markdown",
      "metadata": {
        "id": "qorrmmG_qaQP"
      },
      "source": [
        "### Found by"
      ]
    },
    {
      "cell_type": "markdown",
      "metadata": {
        "id": "3CO3AJbLqdsM"
      },
      "source": [
        "R. Sabey in 2004 (http://mathworld.wolfram.com/eApproximations.html)\n"
      ]
    },
    {
      "cell_type": "markdown",
      "metadata": {
        "id": "fVMdVRowq9bi"
      },
      "source": [
        "$$\\left(1 + 9^{-4^{6\\cdot7}}\\right)^{3^{2^{85}}}$$\n",
        "\n",
        "$$\\left(1 + \\frac{1}{9^{4^{42}}}\\right)^{3^{2^{85}}}$$\n",
        "\n",
        "$$\\left(1 + \\frac{1}{3^{2 \\cdot 4^{42}}}\\right)^{3^{2^{85}}}$$\n",
        "\n",
        "$$\\left(1 + \\frac{1}{3^{2 \\cdot 2^{2 \\cdot 42}}}\\right)^{3^{2^{85}}}$$\n",
        "\n",
        "$$\\left(1 + \\frac{1}{3^{2 \\cdot 2^{84}}}\\right)^{3^{2^{85}}}$$\n",
        "\n",
        "$$\\left(1 + \\frac{1}{3^{2^{85}}}\\right)^{3^{2^{85}}}$$"
      ]
    },
    {
      "cell_type": "code",
      "metadata": {
        "id": "8whfksHV0Icw"
      },
      "source": [
        "3 ** (2 ** 85)"
      ],
      "execution_count": null,
      "outputs": []
    },
    {
      "cell_type": "markdown",
      "metadata": {
        "id": "WPyooWHI3k8G"
      },
      "source": [
        "## Even though the computation is difficult..."
      ]
    },
    {
      "cell_type": "markdown",
      "metadata": {
        "id": "h54RT6Y03qZu"
      },
      "source": [
        "...it's still possible. These are all **computable** --- **able to be computed** numbers/functions."
      ]
    },
    {
      "cell_type": "markdown",
      "metadata": {
        "id": "Rj3tj67aDz_E"
      },
      "source": [
        "### On the other hand..."
      ]
    },
    {
      "cell_type": "markdown",
      "metadata": {
        "id": "nG3Xb3yJD4x3"
      },
      "source": [
        "A simple counting argument establishes this theorem:\n",
        "\n",
        "There exists a number x between 0 and 1 that is NOT computable.\n",
        "\n",
        "In other words, there **does not exist** a program (in any language) that will compute it.\n",
        "\n"
      ]
    },
    {
      "cell_type": "markdown",
      "metadata": {
        "id": "HjtMMjGvECB-"
      },
      "source": [
        "#### Why?"
      ]
    },
    {
      "cell_type": "markdown",
      "metadata": {
        "id": "Rs7xSF4XEDnB"
      },
      "source": [
        "Because there are more numbers between 0 and 1 than there are programs to compute them.\n",
        "\n",
        "There are an **uncountable** number of numbers between 0 and 1. There are only a **countable** number of possible programs. Therefore there are only a countable number of computable functions. Hence not all functions are computable."
      ]
    },
    {
      "cell_type": "markdown",
      "metadata": {
        "id": "uF4op2DX31-y"
      },
      "source": [
        "## What is an Example of an Uncomputable Function?"
      ]
    },
    {
      "cell_type": "markdown",
      "metadata": {
        "id": "pD83Zabz4GnS"
      },
      "source": [
        "The Busy Beaver function is one --- and it can be stated as a **problem**.\n",
        "\n",
        "Let $T = \\{0, 1, B\\}$ be the tape alphabet for all TMs in this problem.\n",
        "\n",
        "Define the Busy Beaver function $BB: N \\rightarrow N$ as follows:\n",
        "\n",
        "For each value of $k$, consider all $k$-state TMs *that halt* when started with a blank tape.\n"
      ]
    },
    {
      "cell_type": "markdown",
      "metadata": {
        "id": "stY-ZJgo4t_a"
      },
      "source": [
        "### What's the problem?"
      ]
    },
    {
      "cell_type": "markdown",
      "metadata": {
        "id": "zIl4zuoE40G5"
      },
      "source": [
        "Let $BB(k)$ be the maximum number of $1$s that remain on the tape among all of these machines.\n",
        "\n",
        "The goal is to show that $BB(n)$ is not a computable function.\n"
      ]
    },
    {
      "cell_type": "markdown",
      "metadata": {
        "id": "TwEs8YDHFDLZ"
      },
      "source": [
        "#### Put in other words"
      ]
    },
    {
      "cell_type": "markdown",
      "metadata": {
        "id": "uQfhOS-rFFTd"
      },
      "source": [
        "The Busy Beaver problem looks for the \"most complex\" (or \"busiest\") $k$-state Turing Machine.\n",
        "\n",
        "The search is difficult because of just how many $k$-state TMs there are:"
      ]
    },
    {
      "cell_type": "markdown",
      "metadata": {
        "id": "IV0Fu3_2FrAJ"
      },
      "source": [
        "#### How many is that?"
      ]
    },
    {
      "cell_type": "markdown",
      "metadata": {
        "id": "bMxqPzw1FuJZ"
      },
      "source": [
        "Focus on the two-symbol (blanks don't count) TMs:\n",
        "\n",
        "$Q \\times \\Gamma \\rightarrow Q \\times \\Gamma \\times \\{L, R\\}$ is the space of possibilities. The size is $k \\times 2$ for the domain, $k \\times 2 \\times 2$ for the range."
      ]
    },
    {
      "cell_type": "markdown",
      "metadata": {
        "id": "5gQz1oaCG5wi"
      },
      "source": [
        "##### For a total of..."
      ]
    },
    {
      "cell_type": "markdown",
      "metadata": {
        "id": "z_WAErmFG_sB"
      },
      "source": [
        "The total number of functions with a domain of size $2k$ and a range of size $4k$ is $4k^{2k}$."
      ]
    },
    {
      "cell_type": "code",
      "metadata": {
        "id": "KBIlRWB2GjTj"
      },
      "source": [
        "for k in range(1, 6):\n",
        "  print(k, 2 * k, 4 * k, (4 * k) ** (2 * k))"
      ],
      "execution_count": null,
      "outputs": []
    },
    {
      "cell_type": "markdown",
      "metadata": {
        "id": "xUluuSMo5DHV"
      },
      "source": [
        "### Before going on, let's look at a super-fast-growing function called **Ackerman's function** first.\n",
        "\n",
        "It is **computable** --- but it grows faster than any so-called \"primitive recursive\" function. That means it grows faster than any polynomial function, or any exponential function, or any factorial function ..."
      ]
    },
    {
      "cell_type": "markdown",
      "metadata": {
        "id": "z8xN9mOO5uch"
      },
      "source": [
        "#### How does it do that (grow so fast)?"
      ]
    },
    {
      "cell_type": "markdown",
      "metadata": {
        "id": "wOewWvs-5yEj"
      },
      "source": [
        "Ackerman's function, $A(n)$ is **doubly recursive**. Here's one of several ways it has been defined:\n",
        "\n",
        "* $A(0, y) = 1$ for $y \\ge 0$\n",
        "* $A(1, 0) = 2$\n",
        "* $A(x, 0) = x + 2$ for $x \\ge 2$\n",
        "* $A(x, y) = A(A(x - 1, y), y - 1)$ for $x, y > 1$"
      ]
    },
    {
      "cell_type": "markdown",
      "metadata": {
        "id": "fVXR4D106Ugc"
      },
      "source": [
        "##### The $y$ decides"
      ]
    },
    {
      "cell_type": "markdown",
      "metadata": {
        "id": "uZohMT8H6Y1z"
      },
      "source": [
        "Each value of $y$ defines a function of one variable:\n",
        "\n",
        "| When $y$ = | the function is   | or, in notation |\n",
        "|------------|-------------------|-----------------|\n",
        "|          0 | add 2             | x + 2           |\n",
        "|          1 | multiply by 2     | x * 2           |\n",
        "|          2 | exponentiate by 2 | x ** 2          |\n",
        "|          3 | \"tetrate\" by 2    | a stack of $x$  |\n",
        "|            |                   | exponentiated   |\n",
        "|            |                   | 2s: $2^{2^{2^{...}}}$ |\n",
        "|          4 | ????              | no accepted     |\n",
        "|            |                   | mathematical    |\n",
        "|            |                   | notation        |"
      ]
    },
    {
      "cell_type": "code",
      "metadata": {
        "id": "dpA_NPC_7cZO"
      },
      "source": [
        "def A(x, y):\n",
        "  # print(f'A({x}, {y})')\n",
        "  if x == 0 and y >= 0:\n",
        "    return 1\n",
        "  elif x == 1 and y == 0:\n",
        "    return 2\n",
        "  elif x > 1 and y == 0:\n",
        "    return x + 2\n",
        "  elif x > 1 and y == 1:\n",
        "    return x * 2\n",
        "  elif x > 1 and y == 2:\n",
        "    return x ** 2\n",
        "  elif x > 0 and y > 2:\n",
        "    return A(A(x - 1, y), y - 1)\n",
        "  else:\n",
        "    return \"oops\""
      ],
      "execution_count": 5,
      "outputs": []
    },
    {
      "cell_type": "code",
      "metadata": {
        "colab": {
          "base_uri": "https://localhost:8080/",
          "height": 319
        },
        "id": "96LeapfzAo4Y",
        "outputId": "853cc830-781a-4931-d41c-d52d36dc0806"
      },
      "source": [
        "A(2, 3)"
      ],
      "execution_count": 10,
      "outputs": [
        {
          "output_type": "error",
          "ename": "TypeError",
          "evalue": "ignored",
          "traceback": [
            "\u001b[0;31m---------------------------------------------------------------------------\u001b[0m",
            "\u001b[0;31mTypeError\u001b[0m                                 Traceback (most recent call last)",
            "\u001b[0;32m<ipython-input-10-e044273a1b2c>\u001b[0m in \u001b[0;36m<module>\u001b[0;34m()\u001b[0m\n\u001b[0;32m----> 1\u001b[0;31m \u001b[0mA\u001b[0m\u001b[0;34m(\u001b[0m\u001b[0;36m2\u001b[0m\u001b[0;34m,\u001b[0m \u001b[0;36m3\u001b[0m\u001b[0;34m)\u001b[0m\u001b[0;34m\u001b[0m\u001b[0;34m\u001b[0m\u001b[0m\n\u001b[0m",
            "\u001b[0;32m<ipython-input-5-bab78c38da47>\u001b[0m in \u001b[0;36mA\u001b[0;34m(x, y)\u001b[0m\n\u001b[1;32m     12\u001b[0m     \u001b[0;32mreturn\u001b[0m \u001b[0mx\u001b[0m \u001b[0;34m**\u001b[0m \u001b[0;36m2\u001b[0m\u001b[0;34m\u001b[0m\u001b[0;34m\u001b[0m\u001b[0m\n\u001b[1;32m     13\u001b[0m   \u001b[0;32melif\u001b[0m \u001b[0mx\u001b[0m \u001b[0;34m>\u001b[0m \u001b[0;36m0\u001b[0m \u001b[0;32mand\u001b[0m \u001b[0my\u001b[0m \u001b[0;34m>\u001b[0m \u001b[0;36m2\u001b[0m\u001b[0;34m:\u001b[0m\u001b[0;34m\u001b[0m\u001b[0;34m\u001b[0m\u001b[0m\n\u001b[0;32m---> 14\u001b[0;31m     \u001b[0;32mreturn\u001b[0m \u001b[0mA\u001b[0m\u001b[0;34m(\u001b[0m\u001b[0mA\u001b[0m\u001b[0;34m(\u001b[0m\u001b[0mx\u001b[0m \u001b[0;34m-\u001b[0m \u001b[0;36m1\u001b[0m\u001b[0;34m,\u001b[0m \u001b[0my\u001b[0m\u001b[0;34m)\u001b[0m\u001b[0;34m,\u001b[0m \u001b[0my\u001b[0m \u001b[0;34m-\u001b[0m \u001b[0;36m1\u001b[0m\u001b[0;34m)\u001b[0m\u001b[0;34m\u001b[0m\u001b[0;34m\u001b[0m\u001b[0m\n\u001b[0m\u001b[1;32m     15\u001b[0m   \u001b[0;32melse\u001b[0m\u001b[0;34m:\u001b[0m\u001b[0;34m\u001b[0m\u001b[0;34m\u001b[0m\u001b[0m\n\u001b[1;32m     16\u001b[0m     \u001b[0;32mreturn\u001b[0m \u001b[0;34m\"oops\"\u001b[0m\u001b[0;34m\u001b[0m\u001b[0;34m\u001b[0m\u001b[0m\n",
            "\u001b[0;32m<ipython-input-5-bab78c38da47>\u001b[0m in \u001b[0;36mA\u001b[0;34m(x, y)\u001b[0m\n\u001b[1;32m      5\u001b[0m   \u001b[0;32melif\u001b[0m \u001b[0mx\u001b[0m \u001b[0;34m==\u001b[0m \u001b[0;36m1\u001b[0m \u001b[0;32mand\u001b[0m \u001b[0my\u001b[0m \u001b[0;34m==\u001b[0m \u001b[0;36m0\u001b[0m\u001b[0;34m:\u001b[0m\u001b[0;34m\u001b[0m\u001b[0;34m\u001b[0m\u001b[0m\n\u001b[1;32m      6\u001b[0m     \u001b[0;32mreturn\u001b[0m \u001b[0;36m2\u001b[0m\u001b[0;34m\u001b[0m\u001b[0;34m\u001b[0m\u001b[0m\n\u001b[0;32m----> 7\u001b[0;31m   \u001b[0;32melif\u001b[0m \u001b[0mx\u001b[0m \u001b[0;34m>\u001b[0m \u001b[0;36m1\u001b[0m \u001b[0;32mand\u001b[0m \u001b[0my\u001b[0m \u001b[0;34m==\u001b[0m \u001b[0;36m0\u001b[0m\u001b[0;34m:\u001b[0m\u001b[0;34m\u001b[0m\u001b[0;34m\u001b[0m\u001b[0m\n\u001b[0m\u001b[1;32m      8\u001b[0m     \u001b[0;32mreturn\u001b[0m \u001b[0mx\u001b[0m \u001b[0;34m+\u001b[0m \u001b[0;36m2\u001b[0m\u001b[0;34m\u001b[0m\u001b[0;34m\u001b[0m\u001b[0m\n\u001b[1;32m      9\u001b[0m   \u001b[0;32melif\u001b[0m \u001b[0mx\u001b[0m \u001b[0;34m>\u001b[0m \u001b[0;36m1\u001b[0m \u001b[0;32mand\u001b[0m \u001b[0my\u001b[0m \u001b[0;34m==\u001b[0m \u001b[0;36m1\u001b[0m\u001b[0;34m:\u001b[0m\u001b[0;34m\u001b[0m\u001b[0;34m\u001b[0m\u001b[0m\n",
            "\u001b[0;31mTypeError\u001b[0m: '>' not supported between instances of 'str' and 'int'"
          ]
        }
      ]
    },
    {
      "cell_type": "code",
      "metadata": {
        "id": "QS65n7of-rgT"
      },
      "source": [
        "def int_(n):\n",
        "  try:\n",
        "    return int(n)\n",
        "  except TypeError:\n",
        "    return n\n",
        "\n",
        "def A1(x, y):\n",
        "  x = int_(x)\n",
        "  y = int_(y)\n",
        "  # The stack stores the `y` of the unfinished calls\n",
        "  stack = []\n",
        "  while y or stack:\n",
        "    if not y:\n",
        "      y, x = stack.pop(), x + 1\n",
        "    elif not x:\n",
        "      y, x = y - 1, 1\n",
        "    else:\n",
        "      stack.append(y - 1)\n",
        "      x -= 1\n",
        "  return x + 1"
      ],
      "execution_count": 11,
      "outputs": []
    },
    {
      "cell_type": "code",
      "metadata": {
        "colab": {
          "base_uri": "https://localhost:8080/"
        },
        "id": "NTd47geaDPuZ",
        "outputId": "82edd419-9266-4603-c196-8a1425f54ffd"
      },
      "source": [
        "A1(4, 3)"
      ],
      "execution_count": 12,
      "outputs": [
        {
          "output_type": "execute_result",
          "data": {
            "text/plain": [
              "125"
            ]
          },
          "metadata": {
            "tags": []
          },
          "execution_count": 12
        }
      ]
    },
    {
      "cell_type": "markdown",
      "metadata": {
        "id": "b8vZEj5fEQ7j"
      },
      "source": [
        "### What is the point?"
      ]
    },
    {
      "cell_type": "markdown",
      "metadata": {
        "id": "47r4vLfKETI4"
      },
      "source": [
        "The point is, if, for convenience, we define $A1(n)$ as $A(n, n)$, then\n",
        "\n",
        "for some $n$, $A1(BB(n)) < BB(n + 1)$!"
      ]
    },
    {
      "cell_type": "markdown",
      "metadata": {
        "id": "FhT5vTtsHbZ6"
      },
      "source": [
        "#### So?"
      ]
    },
    {
      "cell_type": "markdown",
      "metadata": {
        "id": "B_ubO9ViHgHj"
      },
      "source": [
        "So $BB(n)$ is **NON-computable**!"
      ]
    },
    {
      "cell_type": "markdown",
      "metadata": {
        "id": "LSqV63RXrLUW"
      },
      "source": [
        "## Reducibility"
      ]
    },
    {
      "cell_type": "markdown",
      "metadata": {
        "id": "92J_CRHQrPjM"
      },
      "source": [
        "In plain-speak, **reducibility** is converting one problem to another problem such that the solution to the second problem can be used to solve the first problem.\n",
        "\n",
        "So, $A$ is reducible to $B$ means solving $A$ is\n",
        "\n",
        "**AT MOST** as hard as solving $B$.\n",
        "\n",
        "A common way of writing \"$A$ is reducible to $B$\" is\n",
        "\n",
        "$A \\le B$."
      ]
    },
    {
      "cell_type": "markdown",
      "metadata": {
        "id": "8eiIqLB-r_fJ"
      },
      "source": [
        "## Decidability"
      ]
    },
    {
      "cell_type": "markdown",
      "metadata": {
        "id": "IY1o5y6nsESm"
      },
      "source": [
        "If $A$ is reducible to $B$, and $B$ is decidable, then $A$ is decidable too.\n",
        "\n",
        "Equivalently (because *contrapositively*), and **THIS IS IMPORTANT**:\n",
        "\n",
        "If $A$ is undecidable and reducible to $B$, then B is undecidable too.\n",
        "\n",
        "So, in other words, to prove that a problem is undecidable, we only need to show that some other problem already known to be undecidable reduces to it.\n"
      ]
    },
    {
      "cell_type": "markdown",
      "metadata": {
        "id": "9scrKZvyYZwp"
      },
      "source": [
        "### Two Sides of the Same Coin"
      ]
    },
    {
      "cell_type": "markdown",
      "metadata": {
        "id": "1LUMdymKddaR"
      },
      "source": [
        "$A_{TM}$ is undecidable.\n",
        "\n",
        "What about $HALT_{TM}$?\n",
        "\n",
        "Recall that $A_{TM} = \\{\\langle M, w \\rangle\\ |\\ M$ is a TM and $M$ accepts $w\\}$.\n",
        "\n",
        "$HALT_{TM} = \\{\\langle M, w \\rangle\\ |\\ M$ is a TM and $M$ halts on input $w\\}$.\n",
        "\n",
        "Show that $A_{TM}$ reduces to $HALT_{TM}$ and you've shown that $HALT_{TM}$ is undecidable too.\n",
        "\n",
        "Assume to the contrary that TM $R$ decides $HALT_{TM}$.\n",
        "\n",
        "Then construct TM $S$ to decide $A_{TM}$."
      ]
    },
    {
      "cell_type": "markdown",
      "metadata": {
        "id": "yPVhx_i0dxzn"
      },
      "source": [
        "#### Construction of $S$"
      ]
    },
    {
      "cell_type": "markdown",
      "metadata": {
        "id": "ijbN2VXoYjbB"
      },
      "source": [
        "$S = $ \"On input $\\langle M, w \\rangle$, an encoding of a TM $M$ and a string $w$:\n",
        "\n",
        "1. Run TM $R$ on input $\\langle M, w \\rangle$.\n",
        "\n",
        "2. If $R$ rejects, **reject**.\n",
        "\n",
        "3. If $R$ accepts, simulate $M$ on $w$ until it halts.\n",
        "\n",
        "4. If $M$ has accepted, **accept**.\n",
        "\n",
        "5. If $M$ has rejected, **reject**.\"\n"
      ]
    },
    {
      "cell_type": "markdown",
      "metadata": {
        "id": "md6dgpV3d3OM"
      },
      "source": [
        "#### Clinch the argument"
      ]
    },
    {
      "cell_type": "markdown",
      "metadata": {
        "id": "fy62UvRYd5fP"
      },
      "source": [
        "If $R$ decides $HALT_{TM}$, then $S$ decides $A_{TM}$.\n",
        "\n",
        "But because $A_{TM}$ is undecidable, so must $HALT_{TM}$ be undecidable."
      ]
    },
    {
      "cell_type": "markdown",
      "metadata": {
        "id": "3uyPdAkKfHkQ"
      },
      "source": [
        "##### The Reduction"
      ]
    },
    {
      "cell_type": "markdown",
      "metadata": {
        "id": "pAx4nOY5fJfz"
      },
      "source": [
        "We now know $HALT_{TM}$ is undecidable, so if $HALT_{TM}$ is somehow reducible to $BB(n)$, then $BB(n)$ is undecidable also.\n",
        "\n",
        "Or rather, membership in the language $\\{n\\ |\\ n = BB(k)\\ \\mbox{for all}\\ k\\ \\mbox{in}\\ N\\}$ is undecidable, which is the same as saying that $BB(n)$ is noncomputable!\n",
        "\n",
        "So to show that $BB(n)$ is not a computable function, we must simply reduce $HALT_{TM}$ to $BB(n)$.\n",
        "\n",
        "Put another way, $BB(n)$ is computable iff $HALT_{TM}$ is decidable."
      ]
    },
    {
      "cell_type": "markdown",
      "metadata": {
        "id": "Wx3UuCvPfJ4_"
      },
      "source": [
        "##### The Actual Proof"
      ]
    },
    {
      "cell_type": "markdown",
      "metadata": {
        "id": "a8gG7kFdfWtI"
      },
      "source": [
        "Let\n",
        "\n",
        "$D = $ \"On input $\\langle M,w \\rangle$, where $M$ has $k$ states:\n",
        "\n",
        "1. Compute $BB(k)$\n",
        "\n",
        "2. Run $M$ on $w$, counting the steps.\n",
        "\n",
        "3. If $M$ halts on $w$, **accept**.\n",
        "\n",
        "4. If $M$ hasn't halted on $w$ after $BB(k)$ steps, **reject**.\"\n",
        "\n",
        "$D$ is a decider for $M$.\n",
        "\n",
        "But $HALT_{TM}$ says no such decider can exist.\n",
        "\n",
        "Therefore computing $BB(k)$ is impossible, so the Busy Beaver function is noncomputable."
      ]
    },
    {
      "cell_type": "markdown",
      "metadata": {
        "id": "aWI-hQ2wfdsV"
      },
      "source": [
        "##### An Analogy"
      ]
    },
    {
      "cell_type": "markdown",
      "metadata": {
        "id": "ZC9-SG26ffq3"
      },
      "source": [
        "From Scott Aaronson:\n",
        "\n",
        "> If you knew that all mortals died before age 200,\n",
        "\n",
        "> then if Sally lived to be 200,\n",
        "\n",
        "> you could conclude that Sally was immortal.\n"
      ]
    }
  ]
}