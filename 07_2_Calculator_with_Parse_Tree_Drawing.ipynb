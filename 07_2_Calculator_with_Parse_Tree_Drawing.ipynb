{
  "nbformat": 4,
  "nbformat_minor": 0,
  "metadata": {
    "colab": {
      "name": "07_2_Calculator_with_Parse_Tree_Drawing.ipynb",
      "provenance": [],
      "collapsed_sections": [],
      "authorship_tag": "ABX9TyOG2wCwgXB0lHwgZZFuJhLG",
      "include_colab_link": true
    },
    "kernelspec": {
      "name": "python3",
      "display_name": "Python 3"
    }
  },
  "cells": [
    {
      "cell_type": "markdown",
      "metadata": {
        "id": "view-in-github",
        "colab_type": "text"
      },
      "source": [
        "<a href=\"https://colab.research.google.com/github/byui-cse/cse480-notebooks/blob/master/07_2_Calculator_with_Parse_Tree_Drawing.ipynb\" target=\"_parent\"><img src=\"https://colab.research.google.com/assets/colab-badge.svg\" alt=\"Open In Colab\"/></a>"
      ]
    },
    {
      "cell_type": "markdown",
      "metadata": {
        "id": "rWL5ElBILfn7"
      },
      "source": [
        "# Calculator with Parse Tree Drawing\n",
        "## Class Directed Learning\n",
        "### Due: Thursday, 18 February 2021, 11:59 pm"
      ]
    },
    {
      "cell_type": "markdown",
      "metadata": {
        "id": "rpO-5K7KZ1DR"
      },
      "source": [
        "## Imports first, then assignment"
      ]
    },
    {
      "cell_type": "code",
      "metadata": {
        "id": "3aTAiJlvM-v_"
      },
      "source": [
        "#~~~~~~~~~~~~~~~~~~~~~~~~~~~~~~~~~~~~~~~~~~~~~~~~~~~~~~~\n",
        "import sys\n",
        "\n",
        "# -- Detect if in Own Install or in Colab\n",
        "try:\n",
        "    import google.colab\n",
        "    OWN_INSTALL = False\n",
        "except:\n",
        "    OWN_INSTALL = True\n",
        "    \n",
        "if OWN_INSTALL:\n",
        "\n",
        "  sys.path[0:0] = ['../../../../..',  '../../../../../3rdparty',  \n",
        "                   '../../../..',  '../../../../3rdparty',  \n",
        "                   '../../..',     '../../../3rdparty', \n",
        "                   '../..',        '../../3rdparty',\n",
        "                   '..',           '../3rdparty',\n",
        "                   '../Jove',      '../Jove/jove']\n",
        "\n",
        "else: # In colab\n",
        "  ! if [ ! -d Jove ]; then git clone https://github.com/ganeshutah/Jove Jove; fi\n",
        "  sys.path.append('./Jove')\n",
        "  sys.path.append('./Jove/jove')\n",
        "\n",
        "# -- common imports --\n",
        "from jove.SystemImports import *\n",
        "from jove.lex           import lex\n",
        "from jove.yacc          import yacc\n",
        "\n",
        "from jove.StateNameSanitizers import ResetStNum, NxtStateStr\n",
        "from IPython.display          import YouTubeVideo\n",
        "#~~~~~~~~~~~~~~~~~~~~~~~~~~~~~~~~~~~~~~~~~~~~~~~~~~~~~~~"
      ],
      "execution_count": null,
      "outputs": []
    },
    {
      "cell_type": "markdown",
      "metadata": {
        "id": "KsTHyaLSTDFF"
      },
      "source": [
        "## Investigate PLY\n",
        " "
      ]
    },
    {
      "cell_type": "markdown",
      "metadata": {
        "id": "4G5JUGcVTI96"
      },
      "source": [
        "Refer to the documentation for detailed information:\n",
        "\n",
        "https://www.dabeaz.com/ply/ply.html"
      ]
    },
    {
      "cell_type": "markdown",
      "metadata": {
        "id": "rb64nThwTNDz"
      },
      "source": [
        "### TODO Watch this YouTube video of a talk by David Beazley, the author of PLY."
      ]
    },
    {
      "cell_type": "markdown",
      "metadata": {
        "id": "g101b0eoTyqs"
      },
      "source": [
        "Direct path is https://youtu.be/zJ9z6Ge-vXs"
      ]
    },
    {
      "cell_type": "code",
      "metadata": {
        "id": "7V40qoNSTZ7J"
      },
      "source": [
        "YouTubeVideo('zJ9z6Ge-vXs')"
      ],
      "execution_count": null,
      "outputs": []
    },
    {
      "cell_type": "markdown",
      "metadata": {
        "id": "Nz2djtp1TgLY"
      },
      "source": [
        "### TODO Watch this Youtube video sequence (total 5 segments)\n",
        "that talks about designing a calculator."
      ]
    },
    {
      "cell_type": "markdown",
      "metadata": {
        "id": "kMB6KoB8T3RI"
      },
      "source": [
        "Direct path is https://youtu.be/Hh49BXmHxX8"
      ]
    },
    {
      "cell_type": "code",
      "metadata": {
        "id": "STC_LCgVTq7M"
      },
      "source": [
        "YouTubeVideo('Hh49BXmHxX8')"
      ],
      "execution_count": null,
      "outputs": []
    },
    {
      "cell_type": "markdown",
      "metadata": {
        "id": "mK6o1AmBTwMT"
      },
      "source": [
        "### TODO Study this Arithmetic Expression Parser"
      ]
    },
    {
      "cell_type": "markdown",
      "metadata": {
        "id": "y9NhXDzcT26m"
      },
      "source": [
        "The goal is to discover differences with real parsers in the field."
      ]
    },
    {
      "cell_type": "markdown",
      "metadata": {
        "id": "_rdKyJUvWS5t"
      },
      "source": [
        "Background information about a calculator following these CFG rules:\n",
        "\n",
        "```\n",
        "Rule 0     S -> expression\n",
        "Rule 1     expression -> expression PLUS term\n",
        "Rule 2     expression -> expression MINUS term\n",
        "Rule 3     expression -> term\n",
        "Rule 4     term -> term TIMES factor\n",
        "Rule 5     term -> term DIVIDE factor\n",
        "Rule 6     term -> factor\n",
        "Rule 7     factor -> innerfactor EXP factor\n",
        "Rule 8     factor -> innerfactor\n",
        "Rule 9     innerfactor -> UMINUS innerfactor\n",
        "Rule 10    innerfactor -> LPAREN expression RPAREN\n",
        "Rule 11    innerfactor -> NUMBER\n",
        "```\n",
        "\n",
        "These rules are implemented in the following parser.\n",
        "\n",
        "Note the use of:\n",
        "* \"~\" (tilde) for unary minus,\n",
        "* \"-\" (regular minus) for binary infix minus, and\n",
        "* \"^\" for exponentiation."
      ]
    },
    {
      "cell_type": "code",
      "metadata": {
        "id": "sUF7KuveUXtN"
      },
      "source": [
        "# Following ideas from http://www.dabeaz.com/ply/example.html heavily\n",
        "tokens = ('NUMBER','LPAREN','RPAREN','PLUS','MINUS','TIMES','DIVIDE','UMINUS','EXP') \n",
        "\n",
        "# Tokens\n",
        "t_PLUS    = r'\\+'\n",
        "t_MINUS   = r'\\-'\n",
        "t_TIMES   = r'\\*'\n",
        "t_DIVIDE  = r'\\/'\n",
        "t_LPAREN  = r'\\('\n",
        "t_RPAREN  = r'\\)' \n",
        "t_UMINUS  = r'\\~' \n",
        "t_EXP     = r'\\^'\n",
        "\n",
        "# parsing + semantic actions in one place!\n",
        "def t_NUMBER(t):\n",
        "    r'\\d+'\n",
        "    try:\n",
        "        t.value = int(t.value)\n",
        "    except ValueError:\n",
        "        print(\"Integer value too large %d\", t.value)\n",
        "        t.value = 0\n",
        "    return t\n",
        "\n",
        "# Ignored characters\n",
        "t_ignore = \" \\t\"\n",
        "\n",
        "def t_newline(t):\n",
        "    r'\\n+'\n",
        "    t.lexer.lineno += t.value.count(\"\\n\")\n",
        "    \n",
        "def t_error(t):\n",
        "    print(\"Illegal character '%s'\" % t.value[0])\n",
        "    t.lexer.skip(1)"
      ],
      "execution_count": null,
      "outputs": []
    },
    {
      "cell_type": "code",
      "metadata": {
        "id": "wOf0k2AxUagr"
      },
      "source": [
        "\n",
        "def p_expression_1(t):\n",
        "    'expression : expression PLUS term'\n",
        "    #\n",
        "    t[0] = (t[1][0] + t[3][0],\n",
        "            attrDyadicInfix(\"+\", t[1][1], t[3][1]))   \n",
        "    \n",
        "def p_expression_2(t):\n",
        "    'expression : expression MINUS term'\n",
        "    #\n",
        "    t[0] = (t[1][0] - t[3][0],\n",
        "            attrDyadicInfix(\"-\", t[1][1], t[3][1]))   \n",
        "    \n",
        "def p_expression_3(t):\n",
        "    'expression : term'\n",
        "    #\n",
        "    t[0] = t[1]  \n",
        "    \n",
        "# Consult this excellent reference for info on precedences\n",
        "# https://www.cs.utah.edu/~zachary/isp/worksheets/operprec/operprec.html\n",
        "    \n",
        "    \n",
        "def p_term_1(t):\n",
        "    'term :  term TIMES factor'\n",
        "    #\n",
        "    t[0] = (t[1][0] * t[3][0],\n",
        "            attrDyadicInfix(\"*\", t[1][1], t[3][1])) \n",
        "\n",
        "    \n",
        "def p_term_2(t):\n",
        "    'term :  term DIVIDE factor'\n",
        "    #\n",
        "    if (t[3][0] == 0):\n",
        "        print(\"Error, divide by zero!\")\n",
        "        t[3][0] = 1 # fix it\n",
        "    t[0] = (t[1][0] / t[3][0],\n",
        "            attrDyadicInfix(\"/\", t[1][1], t[3][1]))\n",
        "\n",
        "\n",
        "def p_term_3(t):\n",
        "    'term :  factor'\n",
        "    #\n",
        "    t[0] = t[1]  \n",
        "\n",
        "def p_factor_1(t):\n",
        "    'factor : innerfactor EXP factor'\n",
        "    #\n",
        "    t[0] = (t[1][0] ** t[3][0],\n",
        "            attrDyadicInfix(\"^\", t[1][1], t[3][1])) \n",
        "\n",
        "def p_factor_2(t):\n",
        "    'factor : innerfactor'\n",
        "    #\n",
        "    t[0] = t[1]\n",
        "    \n",
        "def p_innerfactor_1(t):\n",
        "    'innerfactor : UMINUS innerfactor'\n",
        "    #\n",
        "    ast  = ('~', t[2][1]['ast'])\n",
        "    \n",
        "    nlin = t[2][1]['dig']['nl']\n",
        "    elin = t[2][1]['dig']['el']\n",
        "    \n",
        "    rootin = nlin[0]\n",
        "\n",
        "    root = NxtStateStr(\"~E_\") \n",
        "    left = NxtStateStr(\"~_\")\n",
        "\n",
        "    t[0] =(-t[2][0], \n",
        "           {'ast' : ast,\n",
        "            'dig' : {'nl' : [ root, left ] + nlin, # this order important for proper layout!\n",
        "                     'el' : elin + [ (root, left),\n",
        "                                     (root, rootin) ]\n",
        "                    }})\n",
        "\n",
        "    \n",
        "def p_innerfactor_2(t):\n",
        "    'innerfactor : LPAREN expression RPAREN'\n",
        "    #\n",
        "    ast  = t[2][1]['ast']\n",
        "    \n",
        "    nlin = t[2][1]['dig']['nl']\n",
        "    elin = t[2][1]['dig']['el']\n",
        "    \n",
        "    rootin = nlin[0]\n",
        "    \n",
        "    root = NxtStateStr(\"(E)_\")\n",
        "    left = NxtStateStr(\"(_\")\n",
        "    right= NxtStateStr(\")_\")\n",
        "    \n",
        "    t[0] =(t[2][0],\n",
        "           {'ast' : ast,\n",
        "            'dig' : {'nl' : [root, left] + nlin + [right], #order important f. proper layout!\n",
        "                     'el' : elin + [ (root, left),\n",
        "                                     (root, rootin),\n",
        "                                     (root, right) ]\n",
        "                    }})\n",
        "\n",
        "def p_innerfactor_3(t):\n",
        "    'innerfactor : NUMBER'\n",
        "    #\n",
        "    strn = str(t[1])\n",
        "    ast  = ('NUMBER', strn)           \n",
        "    t[0] =(t[1],\n",
        "           { 'ast' : ast,\n",
        "             'dig' : {'nl' : [ strn + NxtStateStr(\"_\") ],\n",
        "                      'el' : []\n",
        "                     }})\n",
        "\n",
        "\n",
        "def p_error(t):\n",
        "    print(\"Syntax error at '%s'\" % t.value)\n",
        "\n",
        "#--\n",
        "    \n",
        "def attrDyadicInfix(op, attr1, attr3):\n",
        "    ast  = (op, (attr1['ast'], attr3['ast']))\n",
        "    \n",
        "    nlin1 = attr1['dig']['nl']\n",
        "    nlin3 = attr3['dig']['nl']\n",
        "    nlin  = nlin1 + nlin3\n",
        "    \n",
        "    elin1 = attr1['dig']['el']\n",
        "    elin3 = attr3['dig']['el']\n",
        "    elin  = elin1 + elin3\n",
        "    \n",
        "    rootin1 = nlin1[0]\n",
        "    rootin3 = nlin3[0]    \n",
        "    \n",
        "    root   = NxtStateStr(\"E1\"+op+\"E2\"+\"_\") # NxtStateStr(\"$_\")\n",
        "    left   = rootin1\n",
        "    middle = NxtStateStr(op+\"_\")\n",
        "    right  = rootin3\n",
        "    \n",
        "    return {'ast' : ast,\n",
        "            'dig' : {'nl' : [ root, left, middle, right ] + nlin,\n",
        "                     'el' : elin + [ (root, left),\n",
        "                                     (root, middle),\n",
        "                                     (root, right) ]\n",
        "                     }}\n",
        "\n",
        "#===\n",
        "# This is the main function in this Jove file.  \n",
        "#===\n",
        "\n",
        "def parseExp(s):\n",
        "    \"\"\"In: a string s containing a regular expression.\n",
        "       Out: An attribute triple consisting of\n",
        "            1) An abstract syntax tree suitable for processing in the derivative-based scanner\n",
        "            2) A node-list for the parse-tree digraph generated. Good for drawing a parse tree \n",
        "               using the drawPT function below\n",
        "            3) An edge list for the parse-tree generated (again good for drawing using the\n",
        "               drawPT function below)\n",
        "    \"\"\"\n",
        "    mylexer  = lex()\n",
        "    myparser = yacc()\n",
        "    pt = myparser.parse(s, lexer = mylexer)\n",
        "    \n",
        "    # print('parsed result  is ', pt)\n",
        "    # (result, ast, nodes, edges)\n",
        "    return (pt[0], pt[1]['ast'], pt[1]['dig']['nl'], pt[1]['dig']['el'])\n",
        "\n",
        "def drawPT(ast_rslt_nl_el, comment=\"PT\"):\n",
        "    \"\"\"Given an (ast, nl, el) triple where nl is the node and el the edge-list,\n",
        "       draw the Parse Tree by returning a dot object.\n",
        "    \"\"\"\n",
        "    (rslt, ast, nl, el) = ast_rslt_nl_el\n",
        "    \n",
        "    print(\"Result calculated = \", rslt)\n",
        "    print(\"Drawing AST for \", ast)\n",
        "    \n",
        "    dotObj_pt = Digraph(comment)\n",
        "    dotObj_pt.graph_attr['rankdir'] = 'TB'\n",
        "    for n in nl:\n",
        "        prNam = n.split('_')[0]\n",
        "        dotObj_pt.node(n, prNam, shape=\"oval\", peripheries=\"1\")\n",
        "    for e in el:\n",
        "        dotObj_pt.edge(e[0], e[1])\n",
        "    return dotObj_pt"
      ],
      "execution_count": null,
      "outputs": []
    },
    {
      "cell_type": "markdown",
      "metadata": {
        "id": "MPqnSFFeUl7t"
      },
      "source": [
        "#### TODO Answer the question"
      ]
    },
    {
      "cell_type": "markdown",
      "metadata": {
        "id": "rdAZeAOsXD2_"
      },
      "source": [
        "How does the above calculator above parse ```~2^2```?"
      ]
    },
    {
      "cell_type": "code",
      "metadata": {
        "id": "N-_B_smbUtTU"
      },
      "source": [
        "drawPT(parseExp('~2^2'))"
      ],
      "execution_count": null,
      "outputs": []
    },
    {
      "cell_type": "markdown",
      "metadata": {
        "id": "Ii0ng5Z9UwZa"
      },
      "source": [
        "#### TODO Answer the question"
      ]
    },
    {
      "cell_type": "markdown",
      "metadata": {
        "id": "3RfEqNgVXIOo"
      },
      "source": [
        "How does this calculator differ from Python?"
      ]
    },
    {
      "cell_type": "code",
      "metadata": {
        "id": "Ol3JrlmvU7W-"
      },
      "source": [
        "# Python evaluation\n",
        "-2 ** 2"
      ],
      "execution_count": null,
      "outputs": []
    },
    {
      "cell_type": "markdown",
      "metadata": {
        "id": "egsPFIIGSkw7"
      },
      "source": [
        "#### TODO Answer the question"
      ]
    },
    {
      "cell_type": "markdown",
      "metadata": {
        "id": "ZS7-ammzW44j"
      },
      "source": [
        "How would you parenthesize the ```-2 ** 2``` expression so that Python would give the same answer?"
      ]
    },
    {
      "cell_type": "code",
      "metadata": {
        "id": "AxR0txTqSx9J"
      },
      "source": [
        "# Put your answer here"
      ],
      "execution_count": null,
      "outputs": []
    },
    {
      "cell_type": "markdown",
      "metadata": {
        "id": "kZHrKCgETLr4"
      },
      "source": [
        "#### Now look at how ```2^~3^~4``` is parsed."
      ]
    },
    {
      "cell_type": "code",
      "metadata": {
        "id": "hvv0k_tiTSIv"
      },
      "source": [
        "drawPT(parseExp(\"2^~3^~4\"))"
      ],
      "execution_count": null,
      "outputs": []
    },
    {
      "cell_type": "markdown",
      "metadata": {
        "id": "tBZvtkBeT3DZ"
      },
      "source": [
        "#### Do the same compare/contrast exercise for this longer expression."
      ]
    },
    {
      "cell_type": "markdown",
      "metadata": {
        "id": "OEzM2ggBUvu3"
      },
      "source": [
        "I.e., parse it, draw its parse tree, parenthesize the Python version so they match."
      ]
    },
    {
      "cell_type": "code",
      "metadata": {
        "id": "6GYuRfEVT7tr"
      },
      "source": [
        " # The above expression in Python's syntax is below. See what it produces!\n",
        "2**-3**-4"
      ],
      "execution_count": null,
      "outputs": []
    },
    {
      "cell_type": "markdown",
      "metadata": {
        "id": "ybzKjlWyURX-"
      },
      "source": [
        "#### Do the same compare/contrast exercise for this even longer expression."
      ]
    },
    {
      "cell_type": "code",
      "metadata": {
        "id": "Ja9ENeMfUV3N"
      },
      "source": [
        "6*3/4*~5/(2+3-4-5-6/7*~8)-~9"
      ],
      "execution_count": null,
      "outputs": []
    },
    {
      "cell_type": "markdown",
      "metadata": {
        "id": "hbELM_NqVDzK"
      },
      "source": [
        "#### TODO Answer the question"
      ]
    },
    {
      "cell_type": "markdown",
      "metadata": {
        "id": "Ep8g7T7lVIZM"
      },
      "source": [
        "Except for expressions with unary minus and exponentiation, are the two parsers in complete agreement?"
      ]
    },
    {
      "cell_type": "markdown",
      "metadata": {
        "id": "TiBiqonfVWMe"
      },
      "source": [
        "#### TODO Answer the question"
      ]
    },
    {
      "cell_type": "markdown",
      "metadata": {
        "id": "1IbXemg6VmFD"
      },
      "source": [
        "With regard to parsing arithmetic expressions, how does Python differ from C++ and Google Sheets?"
      ]
    },
    {
      "cell_type": "markdown",
      "metadata": {
        "id": "NjNYVWZuV3FE"
      },
      "source": [
        "Point out the similarities and differences between C++, Python, and Google Sheets when it comes to handling these expressions. Write a few sentences talking about similarities and a few sentences about the differences.\n",
        "\n",
        "Specifically, answer these two questions for each of C++, Python, and Google Sheets:\n",
        "1. What is the associativity of exponentiation, left-associative or right-associative?\n",
        "2. Which is handled first, unary minus or exponentiation?\n"
      ]
    }
  ]
}