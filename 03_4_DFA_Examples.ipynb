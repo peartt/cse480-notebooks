{
  "nbformat": 4,
  "nbformat_minor": 0,
  "metadata": {
    "kernelspec": {
      "display_name": "Python 3",
      "language": "python",
      "name": "python3"
    },
    "language_info": {
      "codemirror_mode": {
        "name": "ipython",
        "version": 3
      },
      "file_extension": ".py",
      "mimetype": "text/x-python",
      "name": "python",
      "nbconvert_exporter": "python",
      "pygments_lexer": "ipython3",
      "version": "3.9.0"
    },
    "colab": {
      "name": "03_4_DFA_Examples.ipynb",
      "provenance": []
    }
  },
  "cells": [
    {
      "cell_type": "markdown",
      "metadata": {
        "id": "8CFrlKNX-PtT"
      },
      "source": [
        "# First let's import, then look for DFA Examples/Tasks below"
      ]
    },
    {
      "cell_type": "code",
      "metadata": {
        "id": "FuORa6A3-PtY",
        "outputId": "fed75cce-456a-449c-d17d-77be08206b9d",
        "colab": {
          "base_uri": "https://localhost:8080/"
        }
      },
      "source": [
        "#~~~~~~~~~~~~~~~~~~~~~~~~~~~~~~~~~~~~~~~~~~~~~~~~~~~~~~~\n",
        "import sys\n",
        "\n",
        "# -- Detect if in Own Install or in Colab\n",
        "try:\n",
        "    import google.colab\n",
        "    OWN_INSTALL = False\n",
        "except:\n",
        "    OWN_INSTALL = True\n",
        "    \n",
        "if OWN_INSTALL:\n",
        "\n",
        "  sys.path[0:0] = ['../../../../..',  '../../../../../3rdparty',  \n",
        "                   '../../../..',  '../../../../3rdparty',  \n",
        "                   '../../..',     '../../../3rdparty', \n",
        "                   '../..',        '../../3rdparty',\n",
        "                   '..',           '../3rdparty' ]\n",
        "\n",
        "else: # In colab\n",
        "  ! if [ ! -d Jove ]; then git clone https://github.com/ganeshutah/Jove Jove; fi\n",
        "  sys.path.append('./Jove')\n",
        "  sys.path.append('./Jove/jove')\n",
        "\n",
        "# -- common imports --\n",
        "from jove.LangDef   import *  #-- mainly for nthnumeric\n",
        "from jove.Def_md2mc import *  #-- for md2mc\n",
        "from jove.Def_DFA   import *  #-- for all DFA functions\n",
        "from jove.DotBashers import * #-- for dotObj_dfa\n",
        "#~~~~~~~~~~~~~~~~~~~~~~~~~~~~~~~~~~~~~~~~~~~~~~~~~~~~~~~"
      ],
      "execution_count": 1,
      "outputs": [
        {
          "output_type": "stream",
          "text": [
            "Cloning into 'Jove'...\n",
            "remote: Enumerating objects: 4634, done.\u001b[K\n",
            "remote: Total 4634 (delta 0), reused 0 (delta 0), pack-reused 4634\u001b[K\n",
            "Receiving objects: 100% (4634/4634), 7.38 MiB | 22.48 MiB/s, done.\n",
            "Resolving deltas: 100% (3005/3005), done.\n",
            "You may use any of these help commands:\n",
            "help(lphi)\n",
            "help(lunit)\n",
            "help(lcat)\n",
            "help(lexp)\n",
            "help(lunion)\n",
            "help(lstar)\n",
            "help(srev)\n",
            "help(lrev)\n",
            "help(shomo)\n",
            "help(lhomo)\n",
            "help(powset)\n",
            "help(lint)\n",
            "help(lsymdiff)\n",
            "help(lminus)\n",
            "help(lissubset)\n",
            "help(lissuperset)\n",
            "help(lcomplem)\n",
            "help(product)\n",
            "help(nthnumeric)\n",
            "\n",
            "You may use any of these help commands:\n",
            "help(md2mc)\n",
            ".. and if you want to dig more, then ..\n",
            "help(default_line_attr)\n",
            "help(length_ok_input_items)\n",
            "help(union_line_attr_list_fld)\n",
            "help(extend_rsltdict)\n",
            "help(form_delta)\n",
            "help(get_machine_components)\n",
            "\n",
            "You may use any of these help commands:\n",
            "help(ResetStNum)\n",
            "help(NxtStateStr)\n",
            "\n",
            "You may use any of these help commands:\n",
            "help(mkp_dfa)\n",
            "help(mk_dfa)\n",
            "help(totalize_dfa)\n",
            "help(addtosigma_delta)\n",
            "help(step_dfa)\n",
            "help(run_dfa)\n",
            "help(accepts_dfa)\n",
            "help(comp_dfa)\n",
            "help(union_dfa)\n",
            "help(intersect_dfa)\n",
            "help(pruneUnreach)\n",
            "help(iso_dfa)\n",
            "help(langeq_dfa)\n",
            "help(same_status)\n",
            "help(h_langeq_dfa)\n",
            "help(fixptDist)\n",
            "help(min_dfa)\n",
            "help(pairFR)\n",
            "help(state_combos)\n",
            "help(sepFinNonFin)\n",
            "help(bash_eql_classes)\n",
            "help(listminus)\n",
            "help(bash_1)\n",
            "help(mk_rep_eqc)\n",
            "help(F_of)\n",
            "help(rep_of_s)\n",
            "help(q0_of)\n",
            "help(Delta_of)\n",
            "help(mk_state_eqc_name)\n",
            "\n"
          ],
          "name": "stdout"
        }
      ]
    },
    {
      "cell_type": "code",
      "metadata": {
        "id": "MClDoqMu-PtZ",
        "outputId": "100279c9-52bc-4583-e733-e90a6723bec2",
        "colab": {
          "base_uri": "https://localhost:8080/"
        }
      },
      "source": [
        "odd0Even1 = md2mc('''\n",
        "DFA\n",
        "\n",
        "!! DFA that accepts so long as the string seen so far \n",
        "!! has odd0s and even1s (in any order)\n",
        "\n",
        "!! State design: I'll tag along letters \"EO, OE, etc.\"\n",
        "!! to indicate parity of 0's and 1's\n",
        "\n",
        "I_EE : 0 -> F_OE\n",
        "I_EE : 1 -> S_EO\n",
        "\n",
        "S_EO : 0 -> S_OO\n",
        "S_EO : 1 -> I_EE\n",
        "\n",
        "F_OE : 0 -> I_EE\n",
        "F_OE : 1 -> S_OO\n",
        "\n",
        "S_OO : 0 -> S_EO\n",
        "S_OO : 1 -> F_OE\n",
        "\n",
        "''')"
      ],
      "execution_count": 2,
      "outputs": [
        {
          "output_type": "stream",
          "text": [
            "Generating LALR tables\n"
          ],
          "name": "stderr"
        }
      ]
    },
    {
      "cell_type": "code",
      "metadata": {
        "id": "QZJyjlKU-PtZ",
        "outputId": "76ef86f6-5f26-4cf6-d682-d868a4003468",
        "colab": {
          "base_uri": "https://localhost:8080/",
          "height": 196
        }
      },
      "source": [
        "dotObj_dfa(odd0Even1)"
      ],
      "execution_count": 3,
      "outputs": [
        {
          "output_type": "execute_result",
          "data": {
            "text/plain": [
              "<graphviz.dot.Digraph at 0x7fb61627a198>"
            ],
            "image/svg+xml": "<?xml version=\"1.0\" encoding=\"UTF-8\" standalone=\"no\"?>\n<!DOCTYPE svg PUBLIC \"-//W3C//DTD SVG 1.1//EN\"\n \"http://www.w3.org/Graphics/SVG/1.1/DTD/svg11.dtd\">\n<!-- Generated by graphviz version 2.40.1 (20161225.0304)\n -->\n<!-- Title: %3 Pages: 1 -->\n<svg width=\"516pt\" height=\"131pt\"\n viewBox=\"0.00 0.00 516.18 131.24\" xmlns=\"http://www.w3.org/2000/svg\" xmlns:xlink=\"http://www.w3.org/1999/xlink\">\n<g id=\"graph0\" class=\"graph\" transform=\"scale(1 1) rotate(0) translate(4 127.2439)\">\n<title>%3</title>\n<polygon fill=\"#ffffff\" stroke=\"transparent\" points=\"-4,4 -4,-127.2439 512.1765,-127.2439 512.1765,4 -4,4\"/>\n<!-- EMPTY -->\n<g id=\"node1\" class=\"node\">\n<title>EMPTY</title>\n</g>\n<!-- I_EE -->\n<g id=\"node2\" class=\"node\">\n<title>I_EE</title>\n<ellipse fill=\"none\" stroke=\"#000000\" cx=\"121.5473\" cy=\"-37.797\" rx=\"30.5947\" ry=\"30.5947\"/>\n<text text-anchor=\"middle\" x=\"121.5473\" y=\"-34.097\" font-family=\"Times,serif\" font-size=\"14.00\" fill=\"#000000\">I_EE</text>\n</g>\n<!-- EMPTY&#45;&gt;I_EE -->\n<g id=\"edge1\" class=\"edge\">\n<title>EMPTY&#45;&gt;I_EE</title>\n<path fill=\"none\" stroke=\"#000000\" d=\"M54.0935,-37.797C62.3297,-37.797 71.5721,-37.797 80.5116,-37.797\"/>\n<polygon fill=\"#000000\" stroke=\"#000000\" points=\"80.7883,-41.2971 90.7882,-37.797 80.7882,-34.2971 80.7883,-41.2971\"/>\n</g>\n<!-- S_EO -->\n<g id=\"node3\" class=\"node\">\n<title>S_EO</title>\n<ellipse fill=\"none\" stroke=\"#000000\" cx=\"233.8916\" cy=\"-88.797\" rx=\"33.5952\" ry=\"33.5952\"/>\n<text text-anchor=\"middle\" x=\"233.8916\" y=\"-85.097\" font-family=\"Times,serif\" font-size=\"14.00\" fill=\"#000000\">S_EO</text>\n</g>\n<!-- I_EE&#45;&gt;S_EO -->\n<g id=\"edge3\" class=\"edge\">\n<title>I_EE&#45;&gt;S_EO</title>\n<path fill=\"none\" stroke=\"#000000\" d=\"M145.8253,-56.5427C153.3121,-61.6948 161.7806,-66.9235 170.0946,-70.797 176.6926,-73.871 183.9247,-76.5249 191.0747,-78.7785\"/>\n<polygon fill=\"#000000\" stroke=\"#000000\" points=\"190.1258,-82.1475 200.7067,-81.6054 192.0971,-75.4308 190.1258,-82.1475\"/>\n<text text-anchor=\"middle\" x=\"176.0946\" y=\"-78.597\" font-family=\"Times,serif\" font-size=\"14.00\" fill=\"#000000\">1 </text>\n</g>\n<!-- F_OE -->\n<g id=\"node5\" class=\"node\">\n<title>F_OE</title>\n<ellipse fill=\"none\" stroke=\"#000000\" cx=\"470.3795\" cy=\"-37.797\" rx=\"33.6165\" ry=\"33.6165\"/>\n<ellipse fill=\"none\" stroke=\"#000000\" cx=\"470.3795\" cy=\"-37.797\" rx=\"37.5951\" ry=\"37.5951\"/>\n<text text-anchor=\"middle\" x=\"470.3795\" y=\"-34.097\" font-family=\"Times,serif\" font-size=\"14.00\" fill=\"#000000\">F_OE</text>\n</g>\n<!-- I_EE&#45;&gt;F_OE -->\n<g id=\"edge2\" class=\"edge\">\n<title>I_EE&#45;&gt;F_OE</title>\n<path fill=\"none\" stroke=\"#000000\" d=\"M152.1981,-37.797C212.9674,-37.797 349.1368,-37.797 422.0756,-37.797\"/>\n<polygon fill=\"#000000\" stroke=\"#000000\" points=\"422.3618,-41.2971 432.3618,-37.797 422.3618,-34.2971 422.3618,-41.2971\"/>\n<text text-anchor=\"middle\" x=\"291.6886\" y=\"-41.597\" font-family=\"Times,serif\" font-size=\"14.00\" fill=\"#000000\">0 </text>\n</g>\n<!-- S_EO&#45;&gt;I_EE -->\n<g id=\"edge5\" class=\"edge\">\n<title>S_EO&#45;&gt;I_EE</title>\n<path fill=\"none\" stroke=\"#000000\" d=\"M207.7017,-67.0738C199.8503,-61.4175 190.9595,-55.7958 182.0946,-51.797 175.7512,-48.9356 168.7607,-46.6273 161.8518,-44.7752\"/>\n<polygon fill=\"#000000\" stroke=\"#000000\" points=\"162.414,-41.3107 151.8729,-42.3765 160.778,-48.1168 162.414,-41.3107\"/>\n<text text-anchor=\"middle\" x=\"176.0946\" y=\"-55.597\" font-family=\"Times,serif\" font-size=\"14.00\" fill=\"#000000\">1 </text>\n</g>\n<!-- S_OO -->\n<g id=\"node4\" class=\"node\">\n<title>S_OO</title>\n<ellipse fill=\"none\" stroke=\"#000000\" cx=\"350.1355\" cy=\"-88.797\" rx=\"34.394\" ry=\"34.394\"/>\n<text text-anchor=\"middle\" x=\"350.1355\" y=\"-85.097\" font-family=\"Times,serif\" font-size=\"14.00\" fill=\"#000000\">S_OO</text>\n</g>\n<!-- S_EO&#45;&gt;S_OO -->\n<g id=\"edge4\" class=\"edge\">\n<title>S_EO&#45;&gt;S_OO</title>\n<path fill=\"none\" stroke=\"#000000\" d=\"M267.8712,-91.0469C273.8076,-91.3594 279.9261,-91.6303 285.6886,-91.797 292.0809,-91.982 298.8274,-91.9352 305.4523,-91.7509\"/>\n<polygon fill=\"#000000\" stroke=\"#000000\" points=\"305.8345,-95.239 315.6943,-91.3615 305.5685,-88.244 305.8345,-95.239\"/>\n<text text-anchor=\"middle\" x=\"291.6886\" y=\"-95.597\" font-family=\"Times,serif\" font-size=\"14.00\" fill=\"#000000\">0 </text>\n</g>\n<!-- S_OO&#45;&gt;S_EO -->\n<g id=\"edge8\" class=\"edge\">\n<title>S_OO&#45;&gt;S_EO</title>\n<path fill=\"none\" stroke=\"#000000\" d=\"M318.2479,-75.7416C307.9393,-72.9074 296.4039,-71.1797 285.6886,-72.797 282.4313,-73.2886 279.0966,-73.9449 275.7663,-74.7116\"/>\n<polygon fill=\"#000000\" stroke=\"#000000\" points=\"274.6664,-71.3812 265.8714,-77.2888 276.4307,-78.1552 274.6664,-71.3812\"/>\n<text text-anchor=\"middle\" x=\"291.6886\" y=\"-76.597\" font-family=\"Times,serif\" font-size=\"14.00\" fill=\"#000000\">0 </text>\n</g>\n<!-- S_OO&#45;&gt;F_OE -->\n<g id=\"edge9\" class=\"edge\">\n<title>S_OO&#45;&gt;F_OE</title>\n<path fill=\"none\" stroke=\"#000000\" d=\"M383.8236,-81.173C393.9048,-78.4186 404.8589,-74.9451 414.5825,-70.797 419.629,-68.6442 424.7768,-66.1146 429.8045,-63.4297\"/>\n<polygon fill=\"#000000\" stroke=\"#000000\" points=\"431.6507,-66.4076 438.6765,-58.4773 428.2388,-60.2954 431.6507,-66.4076\"/>\n<text text-anchor=\"middle\" x=\"408.5825\" y=\"-78.597\" font-family=\"Times,serif\" font-size=\"14.00\" fill=\"#000000\">1 </text>\n</g>\n<!-- F_OE&#45;&gt;I_EE -->\n<g id=\"edge6\" class=\"edge\">\n<title>F_OE&#45;&gt;I_EE</title>\n<path fill=\"none\" stroke=\"#000000\" d=\"M432.9634,-30.4095C395.709,-23.8897 336.855,-15.8455 285.6886,-18.797 243.4359,-21.2343 195.3686,-27.1727 162.2218,-31.7674\"/>\n<polygon fill=\"#000000\" stroke=\"#000000\" points=\"161.4244,-28.345 152.0104,-33.2058 162.4008,-35.2766 161.4244,-28.345\"/>\n<text text-anchor=\"middle\" x=\"291.6886\" y=\"-22.597\" font-family=\"Times,serif\" font-size=\"14.00\" fill=\"#000000\">0 </text>\n</g>\n<!-- F_OE&#45;&gt;S_OO -->\n<g id=\"edge7\" class=\"edge\">\n<title>F_OE&#45;&gt;S_OO</title>\n<path fill=\"none\" stroke=\"#000000\" d=\"M433.0992,-45.5377C422.9873,-48.2139 412.1853,-51.6169 402.5825,-55.797 397.4656,-58.0244 392.2689,-60.7041 387.2349,-63.5614\"/>\n<polygon fill=\"#000000\" stroke=\"#000000\" points=\"385.1924,-60.7045 378.4016,-68.8369 388.7816,-66.7143 385.1924,-60.7045\"/>\n<text text-anchor=\"middle\" x=\"408.5825\" y=\"-59.597\" font-family=\"Times,serif\" font-size=\"14.00\" fill=\"#000000\">1 </text>\n</g>\n</g>\n</svg>\n"
          },
          "metadata": {
            "tags": []
          },
          "execution_count": 3
        }
      ]
    },
    {
      "cell_type": "code",
      "metadata": {
        "id": "1MvDyCq--PtZ"
      },
      "source": [
        "# Now arrive at this via DFA intersection\n",
        "\n",
        "Odd0 = md2mc('''\n",
        "DFA\n",
        "I : 1 -> I\n",
        "I : 0 -> F\n",
        "\n",
        "F : 1 -> F\n",
        "F : 0 -> I\n",
        "''')\n",
        "\n",
        "Even1 = md2mc('''\n",
        "DFA\n",
        "IF : 0 -> IF\n",
        "IF : 1 -> S\n",
        "\n",
        "S : 0 -> S\n",
        "S : 1 -> IF\n",
        "''')\n",
        "\n",
        "Odd0_and_Even1 = intersect_dfa(Odd0, Even1)"
      ],
      "execution_count": 4,
      "outputs": []
    },
    {
      "cell_type": "code",
      "metadata": {
        "id": "bk4nuwoU-Pta",
        "outputId": "08550184-0181-47ff-8703-e70aa2f58c23",
        "colab": {
          "base_uri": "https://localhost:8080/",
          "height": 134
        }
      },
      "source": [
        "dotObj_dfa(Odd0)"
      ],
      "execution_count": 5,
      "outputs": [
        {
          "output_type": "execute_result",
          "data": {
            "text/plain": [
              "<graphviz.dot.Digraph at 0x7fb61629ef98>"
            ],
            "image/svg+xml": "<?xml version=\"1.0\" encoding=\"UTF-8\" standalone=\"no\"?>\n<!DOCTYPE svg PUBLIC \"-//W3C//DTD SVG 1.1//EN\"\n \"http://www.w3.org/Graphics/SVG/1.1/DTD/svg11.dtd\">\n<!-- Generated by graphviz version 2.40.1 (20161225.0304)\n -->\n<!-- Title: %3 Pages: 1 -->\n<svg width=\"227pt\" height=\"85pt\"\n viewBox=\"0.00 0.00 227.00 85.00\" xmlns=\"http://www.w3.org/2000/svg\" xmlns:xlink=\"http://www.w3.org/1999/xlink\">\n<g id=\"graph0\" class=\"graph\" transform=\"scale(1 1) rotate(0) translate(4 81)\">\n<title>%3</title>\n<polygon fill=\"#ffffff\" stroke=\"transparent\" points=\"-4,4 -4,-81 223,-81 223,4 -4,4\"/>\n<!-- EMPTY -->\n<g id=\"node1\" class=\"node\">\n<title>EMPTY</title>\n</g>\n<!-- I -->\n<g id=\"node2\" class=\"node\">\n<title>I</title>\n<ellipse fill=\"none\" stroke=\"#000000\" cx=\"109\" cy=\"-22\" rx=\"18\" ry=\"18\"/>\n<text text-anchor=\"middle\" x=\"109\" y=\"-18.3\" font-family=\"Times,serif\" font-size=\"14.00\" fill=\"#000000\">I</text>\n</g>\n<!-- EMPTY&#45;&gt;I -->\n<g id=\"edge1\" class=\"edge\">\n<title>EMPTY&#45;&gt;I</title>\n<path fill=\"none\" stroke=\"#000000\" d=\"M54.3048,-22C62.6909,-22 71.9407,-22 80.4103,-22\"/>\n<polygon fill=\"#000000\" stroke=\"#000000\" points=\"80.5976,-25.5001 90.5976,-22 80.5976,-18.5001 80.5976,-25.5001\"/>\n</g>\n<!-- I&#45;&gt;I -->\n<g id=\"edge2\" class=\"edge\">\n<title>I&#45;&gt;I</title>\n<path fill=\"none\" stroke=\"#000000\" d=\"M102.6208,-39.0373C101.3189,-48.8579 103.4453,-58 109,-58 112.4717,-58 114.6042,-54.4289 115.3975,-49.3529\"/>\n<polygon fill=\"#000000\" stroke=\"#000000\" points=\"118.8971,-49.031 115.3792,-39.0373 111.8971,-49.0435 118.8971,-49.031\"/>\n<text text-anchor=\"middle\" x=\"109\" y=\"-61.8\" font-family=\"Times,serif\" font-size=\"14.00\" fill=\"#000000\">1 </text>\n</g>\n<!-- F -->\n<g id=\"node3\" class=\"node\">\n<title>F</title>\n<ellipse fill=\"none\" stroke=\"#000000\" cx=\"197\" cy=\"-22\" rx=\"18\" ry=\"18\"/>\n<ellipse fill=\"none\" stroke=\"#000000\" cx=\"197\" cy=\"-22\" rx=\"22\" ry=\"22\"/>\n<text text-anchor=\"middle\" x=\"197\" y=\"-18.3\" font-family=\"Times,serif\" font-size=\"14.00\" fill=\"#000000\">F</text>\n</g>\n<!-- I&#45;&gt;F -->\n<g id=\"edge3\" class=\"edge\">\n<title>I&#45;&gt;F</title>\n<path fill=\"none\" stroke=\"#000000\" d=\"M127.2337,-22C138.0103,-22 151.9708,-22 164.5692,-22\"/>\n<polygon fill=\"#000000\" stroke=\"#000000\" points=\"164.7317,-25.5001 174.7317,-22 164.7317,-18.5001 164.7317,-25.5001\"/>\n<text text-anchor=\"middle\" x=\"151\" y=\"-25.8\" font-family=\"Times,serif\" font-size=\"14.00\" fill=\"#000000\">0 </text>\n</g>\n<!-- F&#45;&gt;I -->\n<g id=\"edge5\" class=\"edge\">\n<title>F&#45;&gt;I</title>\n<path fill=\"none\" stroke=\"#000000\" d=\"M178.5288,-9.5151C168.7254,-4.3636 156.3821,-.1807 145,-3 141.0235,-3.985 137.0019,-5.4981 133.1597,-7.2497\"/>\n<polygon fill=\"#000000\" stroke=\"#000000\" points=\"131.3818,-4.2287 124.1057,-11.93 134.5962,-10.447 131.3818,-4.2287\"/>\n<text text-anchor=\"middle\" x=\"151\" y=\"-6.8\" font-family=\"Times,serif\" font-size=\"14.00\" fill=\"#000000\">0 </text>\n</g>\n<!-- F&#45;&gt;F -->\n<g id=\"edge4\" class=\"edge\">\n<title>F&#45;&gt;F</title>\n<path fill=\"none\" stroke=\"#000000\" d=\"M188.6298,-42.5808C187.4716,-52.8447 190.2617,-62 197,-62 201.3167,-62 204.0131,-58.2427 205.0891,-52.8436\"/>\n<polygon fill=\"#000000\" stroke=\"#000000\" points=\"208.595,-52.6729 205.3702,-42.5808 201.5976,-52.4812 208.595,-52.6729\"/>\n<text text-anchor=\"middle\" x=\"197\" y=\"-65.8\" font-family=\"Times,serif\" font-size=\"14.00\" fill=\"#000000\">1 </text>\n</g>\n</g>\n</svg>\n"
          },
          "metadata": {
            "tags": []
          },
          "execution_count": 5
        }
      ]
    },
    {
      "cell_type": "code",
      "metadata": {
        "id": "WT5HCsCf-Pta",
        "outputId": "e906a720-87a3-44ab-a93a-e328ce71cd61",
        "colab": {
          "base_uri": "https://localhost:8080/",
          "height": 137
        }
      },
      "source": [
        "dotObj_dfa(Even1)"
      ],
      "execution_count": 6,
      "outputs": [
        {
          "output_type": "execute_result",
          "data": {
            "text/plain": [
              "<graphviz.dot.Digraph at 0x7fb6162a02e8>"
            ],
            "image/svg+xml": "<?xml version=\"1.0\" encoding=\"UTF-8\" standalone=\"no\"?>\n<!DOCTYPE svg PUBLIC \"-//W3C//DTD SVG 1.1//EN\"\n \"http://www.w3.org/Graphics/SVG/1.1/DTD/svg11.dtd\">\n<!-- Generated by graphviz version 2.40.1 (20161225.0304)\n -->\n<!-- Title: %3 Pages: 1 -->\n<svg width=\"229pt\" height=\"87pt\"\n viewBox=\"0.00 0.00 228.70 86.70\" xmlns=\"http://www.w3.org/2000/svg\" xmlns:xlink=\"http://www.w3.org/1999/xlink\">\n<g id=\"graph0\" class=\"graph\" transform=\"scale(1 1) rotate(0) translate(4 82.6967)\">\n<title>%3</title>\n<polygon fill=\"#ffffff\" stroke=\"transparent\" points=\"-4,4 -4,-82.6967 224.6967,-82.6967 224.6967,4 -4,4\"/>\n<!-- EMPTY -->\n<g id=\"node1\" class=\"node\">\n<title>EMPTY</title>\n</g>\n<!-- IF -->\n<g id=\"node3\" class=\"node\">\n<title>IF</title>\n<ellipse fill=\"none\" stroke=\"#000000\" cx=\"113.8483\" cy=\"-22.8483\" rx=\"18.724\" ry=\"18.724\"/>\n<ellipse fill=\"none\" stroke=\"#000000\" cx=\"113.8483\" cy=\"-22.8483\" rx=\"22.6977\" ry=\"22.6977\"/>\n<text text-anchor=\"middle\" x=\"113.8483\" y=\"-19.1483\" font-family=\"Times,serif\" font-size=\"14.00\" fill=\"#000000\">IF</text>\n</g>\n<!-- EMPTY&#45;&gt;IF -->\n<g id=\"edge1\" class=\"edge\">\n<title>EMPTY&#45;&gt;IF</title>\n<path fill=\"none\" stroke=\"#000000\" d=\"M54.0033,-22.8483C62.5212,-22.8483 72.0276,-22.8483 80.9112,-22.8483\"/>\n<polygon fill=\"#000000\" stroke=\"#000000\" points=\"80.9572,-26.3484 90.9572,-22.8483 80.9572,-19.3484 80.9572,-26.3484\"/>\n</g>\n<!-- S -->\n<g id=\"node2\" class=\"node\">\n<title>S</title>\n<ellipse fill=\"none\" stroke=\"#000000\" cx=\"202.6967\" cy=\"-22.8483\" rx=\"18\" ry=\"18\"/>\n<text text-anchor=\"middle\" x=\"202.6967\" y=\"-19.1483\" font-family=\"Times,serif\" font-size=\"14.00\" fill=\"#000000\">S</text>\n</g>\n<!-- S&#45;&gt;S -->\n<g id=\"edge4\" class=\"edge\">\n<title>S&#45;&gt;S</title>\n<path fill=\"none\" stroke=\"#000000\" d=\"M195.3138,-39.5124C193.6732,-49.4733 196.1342,-58.8483 202.6967,-58.8483 206.9008,-58.8483 209.4216,-55.0008 210.2591,-49.6166\"/>\n<polygon fill=\"#000000\" stroke=\"#000000\" points=\"213.7568,-49.4486 210.0795,-39.5124 206.7579,-49.5731 213.7568,-49.4486\"/>\n<text text-anchor=\"middle\" x=\"202.6967\" y=\"-62.6483\" font-family=\"Times,serif\" font-size=\"14.00\" fill=\"#000000\">0 </text>\n</g>\n<!-- S&#45;&gt;IF -->\n<g id=\"edge5\" class=\"edge\">\n<title>S&#45;&gt;IF</title>\n<path fill=\"none\" stroke=\"#000000\" d=\"M187.591,-12.7783C181.3899,-9.2165 173.968,-5.6494 166.6967,-3.8483 158.7114,-1.8704 150.249,-3.2602 142.4914,-6.0127\"/>\n<polygon fill=\"#000000\" stroke=\"#000000\" points=\"140.9096,-2.8838 133.131,-10.0771 143.6976,-9.3046 140.9096,-2.8838\"/>\n<text text-anchor=\"middle\" x=\"160.6967\" y=\"-7.6483\" font-family=\"Times,serif\" font-size=\"14.00\" fill=\"#000000\">1 </text>\n</g>\n<!-- IF&#45;&gt;S -->\n<g id=\"edge3\" class=\"edge\">\n<title>IF&#45;&gt;S</title>\n<path fill=\"none\" stroke=\"#000000\" d=\"M136.729,-22.8483C148.2615,-22.8483 162.3498,-22.8483 174.5414,-22.8483\"/>\n<polygon fill=\"#000000\" stroke=\"#000000\" points=\"174.655,-26.3484 184.655,-22.8483 174.6549,-19.3484 174.655,-26.3484\"/>\n<text text-anchor=\"middle\" x=\"160.6967\" y=\"-26.6483\" font-family=\"Times,serif\" font-size=\"14.00\" fill=\"#000000\">1 </text>\n</g>\n<!-- IF&#45;&gt;IF -->\n<g id=\"edge2\" class=\"edge\">\n<title>IF&#45;&gt;IF</title>\n<path fill=\"none\" stroke=\"#000000\" d=\"M106.4966,-44.7016C105.6946,-54.8392 108.1452,-63.6967 113.8483,-63.6967 117.5019,-63.6967 119.8206,-60.0616 120.8045,-54.7835\"/>\n<polygon fill=\"#000000\" stroke=\"#000000\" points=\"124.3052,-54.8311 121.2,-44.7016 117.3106,-54.5566 124.3052,-54.8311\"/>\n<text text-anchor=\"middle\" x=\"113.8483\" y=\"-67.4967\" font-family=\"Times,serif\" font-size=\"14.00\" fill=\"#000000\">0 </text>\n</g>\n</g>\n</svg>\n"
          },
          "metadata": {
            "tags": []
          },
          "execution_count": 6
        }
      ]
    },
    {
      "cell_type": "code",
      "metadata": {
        "id": "0MVAOv93-Pta",
        "outputId": "1b5b6c9d-9333-47df-f340-e35655053b5f",
        "colab": {
          "base_uri": "https://localhost:8080/",
          "height": 194
        }
      },
      "source": [
        "dotObj_dfa(Odd0_and_Even1)"
      ],
      "execution_count": 7,
      "outputs": [
        {
          "output_type": "execute_result",
          "data": {
            "text/plain": [
              "<graphviz.dot.Digraph at 0x7fb6162a03c8>"
            ],
            "image/svg+xml": "<?xml version=\"1.0\" encoding=\"UTF-8\" standalone=\"no\"?>\n<!DOCTYPE svg PUBLIC \"-//W3C//DTD SVG 1.1//EN\"\n \"http://www.w3.org/Graphics/SVG/1.1/DTD/svg11.dtd\">\n<!-- Generated by graphviz version 2.40.1 (20161225.0304)\n -->\n<!-- Title: %3 Pages: 1 -->\n<svg width=\"511pt\" height=\"130pt\"\n viewBox=\"0.00 0.00 510.98 129.59\" xmlns=\"http://www.w3.org/2000/svg\" xmlns:xlink=\"http://www.w3.org/1999/xlink\">\n<g id=\"graph0\" class=\"graph\" transform=\"scale(1 1) rotate(0) translate(4 125.594)\">\n<title>%3</title>\n<polygon fill=\"#ffffff\" stroke=\"transparent\" points=\"-4,4 -4,-125.594 506.9769,-125.594 506.9769,4 -4,4\"/>\n<!-- EMPTY -->\n<g id=\"node1\" class=\"node\">\n<title>EMPTY</title>\n</g>\n<!-- \\(I_IF\\) -->\n<g id=\"node3\" class=\"node\">\n<title>\\(I_IF\\)</title>\n<ellipse fill=\"none\" stroke=\"#000000\" cx=\"123.4971\" cy=\"-39.0969\" rx=\"32.4942\" ry=\"32.4942\"/>\n<text text-anchor=\"middle\" x=\"123.4971\" y=\"-35.3969\" font-family=\"Times,serif\" font-size=\"14.00\" fill=\"#000000\">(I_IF)</text>\n</g>\n<!-- EMPTY&#45;&gt;\\(I_IF\\) -->\n<g id=\"edge1\" class=\"edge\">\n<title>EMPTY&#45;&gt;\\(I_IF\\)</title>\n<path fill=\"none\" stroke=\"#000000\" d=\"M54.1366,-39.0969C62.3991,-39.0969 71.6905,-39.0969 80.7226,-39.0969\"/>\n<polygon fill=\"#000000\" stroke=\"#000000\" points=\"80.7414,-42.597 90.7413,-39.0969 80.7413,-35.597 80.7414,-42.597\"/>\n</g>\n<!-- \\(I_S\\) -->\n<g id=\"node2\" class=\"node\">\n<title>\\(I_S\\)</title>\n<ellipse fill=\"none\" stroke=\"#000000\" cx=\"233.8916\" cy=\"-88.0969\" rx=\"29.795\" ry=\"29.795\"/>\n<text text-anchor=\"middle\" x=\"233.8916\" y=\"-84.3969\" font-family=\"Times,serif\" font-size=\"14.00\" fill=\"#000000\">(I_S)</text>\n</g>\n<!-- \\(I_S\\)&#45;&gt;\\(I_IF\\) -->\n<g id=\"edge8\" class=\"edge\">\n<title>\\(I_S\\)&#45;&gt;\\(I_IF\\)</title>\n<path fill=\"none\" stroke=\"#000000\" d=\"M209.331,-70.236C202.0653,-65.5023 193.9267,-60.7101 185.9942,-57.0969 179.3537,-54.0721 172.0831,-51.4274 164.9238,-49.1637\"/>\n<polygon fill=\"#000000\" stroke=\"#000000\" points=\"165.8819,-45.7972 155.2996,-46.3129 163.8938,-52.509 165.8819,-45.7972\"/>\n<text text-anchor=\"middle\" x=\"179.9942\" y=\"-60.8969\" font-family=\"Times,serif\" font-size=\"14.00\" fill=\"#000000\">1 </text>\n</g>\n<!-- \\(F_S\\) -->\n<g id=\"node4\" class=\"node\">\n<title>\\(F_S\\)</title>\n<ellipse fill=\"none\" stroke=\"#000000\" cx=\"344.286\" cy=\"-89.0969\" rx=\"32.4942\" ry=\"32.4942\"/>\n<text text-anchor=\"middle\" x=\"344.286\" y=\"-85.3969\" font-family=\"Times,serif\" font-size=\"14.00\" fill=\"#000000\">(F_S)</text>\n</g>\n<!-- \\(I_S\\)&#45;&gt;\\(F_S\\) -->\n<g id=\"edge4\" class=\"edge\">\n<title>\\(I_S\\)&#45;&gt;\\(F_S\\)</title>\n<path fill=\"none\" stroke=\"#000000\" d=\"M263.7479,-91.698C269.7148,-92.281 275.9444,-92.7927 281.7889,-93.0969 288.2018,-93.4307 294.9822,-93.3976 301.6192,-93.149\"/>\n<polygon fill=\"#000000\" stroke=\"#000000\" points=\"302.058,-96.6307 311.8574,-92.603 301.6851,-89.6406 302.058,-96.6307\"/>\n<text text-anchor=\"middle\" x=\"287.7889\" y=\"-96.8969\" font-family=\"Times,serif\" font-size=\"14.00\" fill=\"#000000\">0 </text>\n</g>\n<!-- \\(I_IF\\)&#45;&gt;\\(I_S\\) -->\n<g id=\"edge9\" class=\"edge\">\n<title>\\(I_IF\\)&#45;&gt;\\(I_S\\)</title>\n<path fill=\"none\" stroke=\"#000000\" d=\"M149.8467,-58.5687C157.3727,-63.4958 165.7701,-68.4249 173.9942,-72.0969 180.3995,-74.9568 187.4255,-77.3975 194.3409,-79.4471\"/>\n<polygon fill=\"#000000\" stroke=\"#000000\" points=\"193.7395,-82.9111 204.3086,-82.1735 195.5864,-76.1591 193.7395,-82.9111\"/>\n<text text-anchor=\"middle\" x=\"179.9942\" y=\"-79.8969\" font-family=\"Times,serif\" font-size=\"14.00\" fill=\"#000000\">1 </text>\n</g>\n<!-- \\(F_IF\\) -->\n<g id=\"node5\" class=\"node\">\n<title>\\(F_IF\\)</title>\n<ellipse fill=\"none\" stroke=\"#000000\" cx=\"463.88\" cy=\"-39.0969\" rx=\"35.1841\" ry=\"35.1841\"/>\n<ellipse fill=\"none\" stroke=\"#000000\" cx=\"463.88\" cy=\"-39.0969\" rx=\"39.194\" ry=\"39.194\"/>\n<text text-anchor=\"middle\" x=\"463.88\" y=\"-35.3969\" font-family=\"Times,serif\" font-size=\"14.00\" fill=\"#000000\">(F_IF)</text>\n</g>\n<!-- \\(I_IF\\)&#45;&gt;\\(F_IF\\) -->\n<g id=\"edge3\" class=\"edge\">\n<title>\\(I_IF\\)&#45;&gt;\\(F_IF\\)</title>\n<path fill=\"none\" stroke=\"#000000\" d=\"M156.1345,-39.0969C215.9612,-39.0969 343.5221,-39.0969 414.1845,-39.0969\"/>\n<polygon fill=\"#000000\" stroke=\"#000000\" points=\"414.6001,-42.597 424.6001,-39.0969 414.6001,-35.597 414.6001,-42.597\"/>\n<text text-anchor=\"middle\" x=\"287.7889\" y=\"-42.8969\" font-family=\"Times,serif\" font-size=\"14.00\" fill=\"#000000\">0 </text>\n</g>\n<!-- \\(F_S\\)&#45;&gt;\\(I_S\\) -->\n<g id=\"edge2\" class=\"edge\">\n<title>\\(F_S\\)&#45;&gt;\\(I_S\\)</title>\n<path fill=\"none\" stroke=\"#000000\" d=\"M312.9355,-80.1171C303.0152,-78.2082 291.9805,-77.0443 281.7889,-78.0969 278.9371,-78.3914 276.0047,-78.7821 273.0626,-79.2384\"/>\n<polygon fill=\"#000000\" stroke=\"#000000\" points=\"272.3612,-75.8081 263.125,-80.9988 273.5822,-82.7008 272.3612,-75.8081\"/>\n<text text-anchor=\"middle\" x=\"287.7889\" y=\"-81.8969\" font-family=\"Times,serif\" font-size=\"14.00\" fill=\"#000000\">0 </text>\n</g>\n<!-- \\(F_S\\)&#45;&gt;\\(F_IF\\) -->\n<g id=\"edge5\" class=\"edge\">\n<title>\\(F_S\\)&#45;&gt;\\(F_IF\\)</title>\n<path fill=\"none\" stroke=\"#000000\" d=\"M376.2919,-82.0896C386.243,-79.4627 397.1304,-76.1192 406.7832,-72.0969 411.8031,-70.005 416.9259,-67.5534 421.9406,-64.9474\"/>\n<polygon fill=\"#000000\" stroke=\"#000000\" points=\"423.6866,-67.982 430.8046,-60.1344 420.3463,-61.8304 423.6866,-67.982\"/>\n<text text-anchor=\"middle\" x=\"400.7832\" y=\"-79.8969\" font-family=\"Times,serif\" font-size=\"14.00\" fill=\"#000000\">1 </text>\n</g>\n<!-- \\(F_IF\\)&#45;&gt;\\(I_IF\\) -->\n<g id=\"edge6\" class=\"edge\">\n<title>\\(F_IF\\)&#45;&gt;\\(I_IF\\)</title>\n<path fill=\"none\" stroke=\"#000000\" d=\"M425.243,-31.3716C388.4389,-24.8894 331.4432,-17.1275 281.7889,-20.0969 242.4444,-22.4497 197.8921,-28.0641 166.0998,-32.5834\"/>\n<polygon fill=\"#000000\" stroke=\"#000000\" points=\"165.2295,-29.1727 155.8333,-34.0677 166.2312,-36.1007 165.2295,-29.1727\"/>\n<text text-anchor=\"middle\" x=\"287.7889\" y=\"-23.8969\" font-family=\"Times,serif\" font-size=\"14.00\" fill=\"#000000\">0 </text>\n</g>\n<!-- \\(F_IF\\)&#45;&gt;\\(F_S\\) -->\n<g id=\"edge7\" class=\"edge\">\n<title>\\(F_IF\\)&#45;&gt;\\(F_S\\)</title>\n<path fill=\"none\" stroke=\"#000000\" d=\"M424.9909,-44.0188C414.8952,-46.0873 404.214,-49.0022 394.7832,-53.0969 388.9502,-55.6295 383.1208,-58.9097 377.6039,-62.4577\"/>\n<polygon fill=\"#000000\" stroke=\"#000000\" points=\"375.5115,-59.6485 369.2359,-68.1847 379.4651,-65.4251 375.5115,-59.6485\"/>\n<text text-anchor=\"middle\" x=\"400.7832\" y=\"-56.8969\" font-family=\"Times,serif\" font-size=\"14.00\" fill=\"#000000\">1 </text>\n</g>\n</g>\n</svg>\n"
          },
          "metadata": {
            "tags": []
          },
          "execution_count": 7
        }
      ]
    },
    {
      "cell_type": "markdown",
      "metadata": {
        "id": "HBr1fR-E-Pta"
      },
      "source": [
        "# Now you do the union of Odd0 and Even1\n",
        "## Then try it via DeMorgan's law"
      ]
    },
    {
      "cell_type": "code",
      "metadata": {
        "id": "ZRmMz2d7-Ptb"
      },
      "source": [
        "# Put your answers here:\n",
        "# Union algo\n",
        "test = union_dfa(Odd0, Even1)\n",
        "# DeMorgan's law\n",
        "#Not sure how to get union without using complements."
      ],
      "execution_count": 8,
      "outputs": []
    },
    {
      "cell_type": "code",
      "metadata": {
        "id": "FSlVOlfl-Ptb"
      },
      "source": [
        "Odd0FbyEven1 = md2mc('''\n",
        "DFA\n",
        "\n",
        "!! DFA that accepts so long as the string seen so far \n",
        "!! has odd0s and even1s (in THAT order)\n",
        "\n",
        "!! State design: Must close-off 0's after seeing a 1\n",
        "!! I'll denote this by adding a 'd' for the 0 position\n",
        "!! So S_EE, Sd_EE, Fd_EE etc, where the 'd' says 0's are unwelcome\n",
        "\n",
        "I_EE : 0 -> F_OE\n",
        "I_EE : 1 -> Sd_EO\n",
        "\n",
        "Sd_EO : 0 -> BH\n",
        "Sd_EO : 1 -> Sd_EE\n",
        "\n",
        "F_OE : 0 -> I_EE\n",
        "F_OE : 1 -> Sd_OO\n",
        "\n",
        "Sd_OO : 0 -> BH\n",
        "Sd_OO : 1 -> Fd_OE\n",
        "\n",
        "Sd_EE : 0 -> BH\n",
        "Sd_EE : 1 -> Sd_EO\n",
        "\n",
        "Fd_OE : 0 -> BH\n",
        "Fd_OE : 1 -> Sd_OO\n",
        "\n",
        "BH  : 0|1 -> BH\n",
        "''')"
      ],
      "execution_count": 9,
      "outputs": []
    },
    {
      "cell_type": "code",
      "metadata": {
        "id": "XIfEGYmk-Ptb",
        "outputId": "5dac346f-060a-4221-d318-567622783ce5",
        "colab": {
          "base_uri": "https://localhost:8080/",
          "height": 405
        }
      },
      "source": [
        "dotObj_dfa_w_bh(Odd0FbyEven1)"
      ],
      "execution_count": 10,
      "outputs": [
        {
          "output_type": "execute_result",
          "data": {
            "text/plain": [
              "<graphviz.dot.Digraph at 0x7fb616250438>"
            ],
            "image/svg+xml": "<?xml version=\"1.0\" encoding=\"UTF-8\" standalone=\"no\"?>\n<!DOCTYPE svg PUBLIC \"-//W3C//DTD SVG 1.1//EN\"\n \"http://www.w3.org/Graphics/SVG/1.1/DTD/svg11.dtd\">\n<!-- Generated by graphviz version 2.40.1 (20161225.0304)\n -->\n<!-- Title: %3 Pages: 1 -->\n<svg width=\"640pt\" height=\"288pt\"\n viewBox=\"0.00 0.00 639.77 288.04\" xmlns=\"http://www.w3.org/2000/svg\" xmlns:xlink=\"http://www.w3.org/1999/xlink\">\n<g id=\"graph0\" class=\"graph\" transform=\"scale(1 1) rotate(0) translate(4 284.0433)\">\n<title>%3</title>\n<polygon fill=\"#ffffff\" stroke=\"transparent\" points=\"-4,4 -4,-284.0433 635.7705,-284.0433 635.7705,4 -4,4\"/>\n<!-- EMPTY -->\n<g id=\"node1\" class=\"node\">\n<title>EMPTY</title>\n</g>\n<!-- I_EE -->\n<g id=\"node5\" class=\"node\">\n<title>I_EE</title>\n<ellipse fill=\"none\" stroke=\"#000000\" cx=\"121.5473\" cy=\"-153.3466\" rx=\"30.5947\" ry=\"30.5947\"/>\n<text text-anchor=\"middle\" x=\"121.5473\" y=\"-149.6466\" font-family=\"Times,serif\" font-size=\"14.00\" fill=\"#000000\">I_EE</text>\n</g>\n<!-- EMPTY&#45;&gt;I_EE -->\n<g id=\"edge1\" class=\"edge\">\n<title>EMPTY&#45;&gt;I_EE</title>\n<path fill=\"none\" stroke=\"#000000\" d=\"M54.0935,-153.3466C62.3297,-153.3466 71.5721,-153.3466 80.5116,-153.3466\"/>\n<polygon fill=\"#000000\" stroke=\"#000000\" points=\"80.7883,-156.8467 90.7882,-153.3466 80.7882,-149.8467 80.7883,-156.8467\"/>\n</g>\n<!-- Sd_OO -->\n<g id=\"node2\" class=\"node\">\n<title>Sd_OO</title>\n<ellipse fill=\"none\" stroke=\"#000000\" cx=\"363.3351\" cy=\"-99.3466\" rx=\"39.7935\" ry=\"39.7935\"/>\n<text text-anchor=\"middle\" x=\"363.3351\" y=\"-95.6466\" font-family=\"Times,serif\" font-size=\"14.00\" fill=\"#000000\">Sd_OO</text>\n</g>\n<!-- BH -->\n<g id=\"node6\" class=\"node\">\n<title>BH</title>\n<ellipse fill=\"none\" stroke=\"#000000\" cx=\"607.7226\" cy=\"-145.3466\" rx=\"24.0958\" ry=\"24.0958\"/>\n<text text-anchor=\"middle\" x=\"607.7226\" y=\"-141.6466\" font-family=\"Times,serif\" font-size=\"14.00\" fill=\"#000000\">BH</text>\n</g>\n<!-- Sd_OO&#45;&gt;BH -->\n<g id=\"edge8\" class=\"edge\">\n<title>Sd_OO&#45;&gt;BH</title>\n<path fill=\"none\" stroke=\"#000000\" d=\"M402.3292,-106.6863C449.8375,-115.6286 529.2999,-130.5854 574.1883,-139.0346\"/>\n<polygon fill=\"#000000\" stroke=\"#000000\" points=\"573.5423,-142.4744 584.0172,-140.8846 574.8372,-135.5952 573.5423,-142.4744\"/>\n<text text-anchor=\"middle\" x=\"493.3281\" y=\"-135.1466\" font-family=\"Times,serif\" font-size=\"14.00\" fill=\"#000000\">0 </text>\n</g>\n<!-- Fd_OE -->\n<g id=\"node7\" class=\"node\">\n<title>Fd_OE</title>\n<ellipse fill=\"none\" stroke=\"#000000\" cx=\"493.3281\" cy=\"-42.3466\" rx=\"38.2082\" ry=\"38.2082\"/>\n<ellipse fill=\"none\" stroke=\"#000000\" cx=\"493.3281\" cy=\"-42.3466\" rx=\"42.1937\" ry=\"42.1937\"/>\n<text text-anchor=\"middle\" x=\"493.3281\" y=\"-38.6466\" font-family=\"Times,serif\" font-size=\"14.00\" fill=\"#000000\">Fd_OE</text>\n</g>\n<!-- Sd_OO&#45;&gt;Fd_OE -->\n<g id=\"edge9\" class=\"edge\">\n<title>Sd_OO&#45;&gt;Fd_OE</title>\n<path fill=\"none\" stroke=\"#000000\" d=\"M399.8913,-83.3172C413.8133,-77.2127 429.9037,-70.1573 444.7669,-63.64\"/>\n<polygon fill=\"#000000\" stroke=\"#000000\" points=\"446.5691,-66.6715 454.3218,-59.4503 443.758,-60.2607 446.5691,-66.6715\"/>\n<text text-anchor=\"middle\" x=\"426.9815\" y=\"-77.1466\" font-family=\"Times,serif\" font-size=\"14.00\" fill=\"#000000\">1 </text>\n</g>\n<!-- Sd_EE -->\n<g id=\"node3\" class=\"node\">\n<title>Sd_EE</title>\n<ellipse fill=\"none\" stroke=\"#000000\" cx=\"493.3281\" cy=\"-242.3466\" rx=\"37.8943\" ry=\"37.8943\"/>\n<text text-anchor=\"middle\" x=\"493.3281\" y=\"-238.6466\" font-family=\"Times,serif\" font-size=\"14.00\" fill=\"#000000\">Sd_EE</text>\n</g>\n<!-- Sd_EO -->\n<g id=\"node4\" class=\"node\">\n<title>Sd_EO</title>\n<ellipse fill=\"none\" stroke=\"#000000\" cx=\"363.3351\" cy=\"-202.3466\" rx=\"38.1938\" ry=\"38.1938\"/>\n<text text-anchor=\"middle\" x=\"363.3351\" y=\"-198.6466\" font-family=\"Times,serif\" font-size=\"14.00\" fill=\"#000000\">Sd_EO</text>\n</g>\n<!-- Sd_EE&#45;&gt;Sd_EO -->\n<g id=\"edge11\" class=\"edge\">\n<title>Sd_EE&#45;&gt;Sd_EO</title>\n<path fill=\"none\" stroke=\"#000000\" d=\"M464.4742,-217.6439C455.0458,-211.0309 444.1195,-204.7723 432.9815,-201.3466 426.303,-199.2925 419.0912,-198.2166 411.9271,-197.7819\"/>\n<polygon fill=\"#000000\" stroke=\"#000000\" points=\"411.6035,-194.2745 401.5326,-197.5648 411.4572,-201.273 411.6035,-194.2745\"/>\n<text text-anchor=\"middle\" x=\"426.9815\" y=\"-205.1466\" font-family=\"Times,serif\" font-size=\"14.00\" fill=\"#000000\">1 </text>\n</g>\n<!-- Sd_EE&#45;&gt;BH -->\n<g id=\"edge10\" class=\"edge\">\n<title>Sd_EE&#45;&gt;BH</title>\n<path fill=\"none\" stroke=\"#000000\" d=\"M523.7539,-219.3873C536.8763,-209.2278 552.2594,-196.9681 565.6747,-185.3466 571.4338,-180.3576 577.4598,-174.8255 583.0923,-169.5065\"/>\n<polygon fill=\"#000000\" stroke=\"#000000\" points=\"585.6571,-171.8967 590.4671,-162.4566 580.82,-166.8367 585.6571,-171.8967\"/>\n<text text-anchor=\"middle\" x=\"559.6747\" y=\"-198.1466\" font-family=\"Times,serif\" font-size=\"14.00\" fill=\"#000000\">0 </text>\n</g>\n<!-- Sd_EO&#45;&gt;Sd_EE -->\n<g id=\"edge5\" class=\"edge\">\n<title>Sd_EO&#45;&gt;Sd_EE</title>\n<path fill=\"none\" stroke=\"#000000\" d=\"M400.2254,-213.9104C407.1206,-216.059 414.2684,-218.2778 420.9815,-220.3466 429.4588,-222.959 438.5012,-225.725 447.2198,-228.3816\"/>\n<polygon fill=\"#000000\" stroke=\"#000000\" points=\"446.2927,-231.7578 456.8785,-231.3204 448.3304,-225.061 446.2927,-231.7578\"/>\n<text text-anchor=\"middle\" x=\"426.9815\" y=\"-227.1466\" font-family=\"Times,serif\" font-size=\"14.00\" fill=\"#000000\">1 </text>\n</g>\n<!-- Sd_EO&#45;&gt;BH -->\n<g id=\"edge4\" class=\"edge\">\n<title>Sd_EO&#45;&gt;BH</title>\n<path fill=\"none\" stroke=\"#000000\" d=\"M400.8151,-192.709C416.3199,-188.782 434.4951,-184.2557 450.9815,-180.3466 493.2714,-170.3192 542.1741,-159.5266 573.957,-152.6184\"/>\n<polygon fill=\"#000000\" stroke=\"#000000\" points=\"575.0136,-155.9707 584.045,-150.4312 573.5304,-149.1296 575.0136,-155.9707\"/>\n<text text-anchor=\"middle\" x=\"493.3281\" y=\"-184.1466\" font-family=\"Times,serif\" font-size=\"14.00\" fill=\"#000000\">0 </text>\n</g>\n<!-- I_EE&#45;&gt;Sd_EO -->\n<g id=\"edge3\" class=\"edge\">\n<title>I_EE&#45;&gt;Sd_EO</title>\n<path fill=\"none\" stroke=\"#000000\" d=\"M151.681,-159.4534C192.8098,-167.7884 266.9657,-182.8167 315.6731,-192.6876\"/>\n<polygon fill=\"#000000\" stroke=\"#000000\" points=\"315.1635,-196.1554 325.6594,-194.7114 316.5539,-189.2948 315.1635,-196.1554\"/>\n<text text-anchor=\"middle\" x=\"237.8916\" y=\"-187.1466\" font-family=\"Times,serif\" font-size=\"14.00\" fill=\"#000000\">1 </text>\n</g>\n<!-- F_OE -->\n<g id=\"node8\" class=\"node\">\n<title>F_OE</title>\n<ellipse fill=\"none\" stroke=\"#000000\" cx=\"237.8916\" cy=\"-115.3466\" rx=\"33.6165\" ry=\"33.6165\"/>\n<ellipse fill=\"none\" stroke=\"#000000\" cx=\"237.8916\" cy=\"-115.3466\" rx=\"37.5951\" ry=\"37.5951\"/>\n<text text-anchor=\"middle\" x=\"237.8916\" y=\"-111.6466\" font-family=\"Times,serif\" font-size=\"14.00\" fill=\"#000000\">F_OE</text>\n</g>\n<!-- I_EE&#45;&gt;F_OE -->\n<g id=\"edge2\" class=\"edge\">\n<title>I_EE&#45;&gt;F_OE</title>\n<path fill=\"none\" stroke=\"#000000\" d=\"M150.6058,-143.8556C163.0625,-139.787 177.919,-134.9346 191.8126,-130.3968\"/>\n<polygon fill=\"#000000\" stroke=\"#000000\" points=\"193.2919,-133.5956 201.7111,-127.1638 191.1186,-126.9416 193.2919,-133.5956\"/>\n<text text-anchor=\"middle\" x=\"176.0946\" y=\"-141.1466\" font-family=\"Times,serif\" font-size=\"14.00\" fill=\"#000000\">0 </text>\n</g>\n<!-- BH&#45;&gt;BH -->\n<g id=\"edge14\" class=\"edge\">\n<title>BH&#45;&gt;BH</title>\n<path fill=\"none\" stroke=\"#000000\" d=\"M603.2622,-169.1209C602.9545,-179.0109 604.4414,-187.3945 607.7226,-187.3945 609.7734,-187.3945 611.1232,-184.1196 611.7721,-179.249\"/>\n<polygon fill=\"#000000\" stroke=\"#000000\" points=\"615.2747,-179.2546 612.1831,-169.1209 608.2804,-178.9708 615.2747,-179.2546\"/>\n<text text-anchor=\"middle\" x=\"607.7226\" y=\"-191.1945\" font-family=\"Times,serif\" font-size=\"14.00\" fill=\"#000000\">0 </text>\n</g>\n<!-- BH&#45;&gt;BH -->\n<g id=\"edge15\" class=\"edge\">\n<title>BH&#45;&gt;BH</title>\n<path fill=\"none\" stroke=\"#000000\" d=\"M599.9882,-168.1431C596.8945,-186.4731 599.4726,-205.3945 607.7226,-205.3945 614.4257,-205.3945 617.3845,-192.9034 616.599,-178.3875\"/>\n<polygon fill=\"#000000\" stroke=\"#000000\" points=\"620.0434,-177.6937 615.457,-168.1431 613.0865,-178.4693 620.0434,-177.6937\"/>\n<text text-anchor=\"middle\" x=\"607.7226\" y=\"-209.1945\" font-family=\"Times,serif\" font-size=\"14.00\" fill=\"#000000\">1 </text>\n</g>\n<!-- Fd_OE&#45;&gt;Sd_OO -->\n<g id=\"edge13\" class=\"edge\">\n<title>Fd_OE&#45;&gt;Sd_OO</title>\n<path fill=\"none\" stroke=\"#000000\" d=\"M450.9232,-42.8125C440.8098,-44.0588 430.2639,-46.3418 420.9815,-50.3466 413.0933,-53.7499 405.4728,-58.6128 398.4982,-63.9672\"/>\n<polygon fill=\"#000000\" stroke=\"#000000\" points=\"396.1425,-61.3727 390.6301,-70.4206 400.5816,-66.7851 396.1425,-61.3727\"/>\n<text text-anchor=\"middle\" x=\"426.9815\" y=\"-54.1466\" font-family=\"Times,serif\" font-size=\"14.00\" fill=\"#000000\">1 </text>\n</g>\n<!-- Fd_OE&#45;&gt;BH -->\n<g id=\"edge12\" class=\"edge\">\n<title>Fd_OE&#45;&gt;BH</title>\n<path fill=\"none\" stroke=\"#000000\" d=\"M529.9519,-63.9372C541.942,-71.8221 554.9308,-81.2921 565.6747,-91.3466 573.827,-98.9758 581.6599,-108.2799 588.3094,-117.0015\"/>\n<polygon fill=\"#000000\" stroke=\"#000000\" points=\"585.5399,-119.1431 594.2939,-125.1112 591.1723,-114.9866 585.5399,-119.1431\"/>\n<text text-anchor=\"middle\" x=\"559.6747\" y=\"-95.1466\" font-family=\"Times,serif\" font-size=\"14.00\" fill=\"#000000\">0 </text>\n</g>\n<!-- F_OE&#45;&gt;Sd_OO -->\n<g id=\"edge7\" class=\"edge\">\n<title>F_OE&#45;&gt;Sd_OO</title>\n<path fill=\"none\" stroke=\"#000000\" d=\"M275.5288,-110.5461C287.6012,-109.0063 301.158,-107.2771 313.9405,-105.6467\"/>\n<polygon fill=\"#000000\" stroke=\"#000000\" points=\"314.506,-109.1031 323.9828,-104.3659 313.6203,-102.1593 314.506,-109.1031\"/>\n<text text-anchor=\"middle\" x=\"299.6886\" y=\"-112.1466\" font-family=\"Times,serif\" font-size=\"14.00\" fill=\"#000000\">1 </text>\n</g>\n<!-- F_OE&#45;&gt;I_EE -->\n<g id=\"edge6\" class=\"edge\">\n<title>F_OE&#45;&gt;I_EE</title>\n<path fill=\"none\" stroke=\"#000000\" d=\"M200.2143,-110.9809C190.2044,-110.9894 179.5528,-112.0851 170.0946,-115.3466 163.5681,-117.5971 157.2485,-121.1259 151.446,-125.1459\"/>\n<polygon fill=\"#000000\" stroke=\"#000000\" points=\"149.1964,-122.4593 143.3505,-131.2954 153.4307,-128.0335 149.1964,-122.4593\"/>\n<text text-anchor=\"middle\" x=\"176.0946\" y=\"-119.1466\" font-family=\"Times,serif\" font-size=\"14.00\" fill=\"#000000\">0 </text>\n</g>\n</g>\n</svg>\n"
          },
          "metadata": {
            "tags": []
          },
          "execution_count": 10
        }
      ]
    },
    {
      "cell_type": "markdown",
      "metadata": {
        "id": "JZ0KfafI-Ptb"
      },
      "source": [
        "# We can express the language of this DFA as:\n",
        "\n",
        "$\\{ 0^n \\;:\\; odd(n)\\} \\; \\{ 1^n \\;:\\; even(n)\\}$ "
      ]
    },
    {
      "cell_type": "markdown",
      "metadata": {
        "id": "R3vPCmcD-Ptb"
      },
      "source": [
        "# Question: \n",
        "## A DFA for the unit language has how many states?\n",
        "Two. One initial plus final state and a second non-final state that loops on itself"
      ]
    },
    {
      "cell_type": "markdown",
      "metadata": {
        "id": "K1EcBEs9-Ptc"
      },
      "source": [
        "# END"
      ]
    }
  ]
}