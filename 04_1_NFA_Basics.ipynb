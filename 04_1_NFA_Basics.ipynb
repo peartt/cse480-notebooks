{
  "nbformat": 4,
  "nbformat_minor": 0,
  "metadata": {
    "kernelspec": {
      "display_name": "Python 3",
      "language": "python",
      "name": "python3"
    },
    "language_info": {
      "codemirror_mode": {
        "name": "ipython",
        "version": 3
      },
      "file_extension": ".py",
      "mimetype": "text/x-python",
      "name": "python",
      "nbconvert_exporter": "python",
      "pygments_lexer": "ipython3",
      "version": "3.9.0"
    },
    "toc": {
      "colors": {
        "hover_highlight": "#DAA520",
        "running_highlight": "#FF0000",
        "selected_highlight": "#FFD700"
      },
      "moveMenuLeft": true,
      "nav_menu": {
        "height": "121px",
        "width": "252px"
      },
      "navigate_menu": true,
      "number_sections": true,
      "sideBar": true,
      "threshold": 4,
      "toc_cell": false,
      "toc_section_display": "block",
      "toc_window_display": false,
      "widenNotebook": false
    },
    "widgets": {
      "application/vnd.jupyter.widget-state+json": {
        "82cb519df568446eae81f703057547de": {
          "model_module": "@jupyter-widgets/controls",
          "model_name": "VBoxModel",
          "state": {
            "_view_name": "VBoxView",
            "_dom_classes": [],
            "_model_name": "VBoxModel",
            "_view_module": "@jupyter-widgets/controls",
            "_model_module_version": "1.5.0",
            "_view_count": null,
            "_view_module_version": "1.5.0",
            "box_style": "",
            "layout": "IPY_MODEL_bc658d8e4cce437b96832f3af3d2b45b",
            "_model_module": "@jupyter-widgets/controls",
            "children": [
              "IPY_MODEL_9ca87b73385f46e0801c713539093dec",
              "IPY_MODEL_1d6ea6deecac41f7a20042c8926dd86d",
              "IPY_MODEL_37d701e59f1048a19ad986404df168b3",
              "IPY_MODEL_b32034a2fe1742fb8745be92d2f7ee69"
            ]
          }
        },
        "bc658d8e4cce437b96832f3af3d2b45b": {
          "model_module": "@jupyter-widgets/base",
          "model_name": "LayoutModel",
          "state": {
            "_view_name": "LayoutView",
            "grid_template_rows": null,
            "right": null,
            "justify_content": null,
            "_view_module": "@jupyter-widgets/base",
            "overflow": null,
            "_model_module_version": "1.2.0",
            "_view_count": null,
            "flex_flow": null,
            "width": null,
            "min_width": null,
            "border": null,
            "align_items": null,
            "bottom": null,
            "_model_module": "@jupyter-widgets/base",
            "top": null,
            "grid_column": null,
            "overflow_y": null,
            "overflow_x": null,
            "grid_auto_flow": null,
            "grid_area": null,
            "grid_template_columns": null,
            "flex": null,
            "_model_name": "LayoutModel",
            "justify_items": null,
            "grid_row": null,
            "max_height": null,
            "align_content": null,
            "visibility": null,
            "align_self": null,
            "height": null,
            "min_height": null,
            "padding": null,
            "grid_auto_rows": null,
            "grid_gap": null,
            "max_width": null,
            "order": null,
            "_view_module_version": "1.2.0",
            "grid_template_areas": null,
            "object_position": null,
            "object_fit": null,
            "grid_auto_columns": null,
            "margin": null,
            "display": null,
            "left": null
          }
        },
        "9ca87b73385f46e0801c713539093dec": {
          "model_module": "@jupyter-widgets/controls",
          "model_name": "HBoxModel",
          "state": {
            "_view_name": "HBoxView",
            "_dom_classes": [],
            "_model_name": "HBoxModel",
            "_view_module": "@jupyter-widgets/controls",
            "_model_module_version": "1.5.0",
            "_view_count": null,
            "_view_module_version": "1.5.0",
            "box_style": "",
            "layout": "IPY_MODEL_fe0685f1daa74712b0414782e38901e8",
            "_model_module": "@jupyter-widgets/controls",
            "children": [
              "IPY_MODEL_3c97b7a6e042465eae143ad558bd90e9",
              "IPY_MODEL_0ef467c6399c46ea8412f9742f35a575"
            ]
          }
        },
        "1d6ea6deecac41f7a20042c8926dd86d": {
          "model_module": "@jupyter-widgets/output",
          "model_name": "OutputModel",
          "state": {
            "_view_name": "OutputView",
            "msg_id": "",
            "_dom_classes": [],
            "_model_name": "OutputModel",
            "outputs": [
              {
                "output_type": "display_data",
                "metadata": {
                  "tags": []
                },
                "text/plain": "<graphviz.files.Source at 0x7f221098ec88>",
                "image/svg+xml": "<?xml version=\"1.0\" encoding=\"UTF-8\" standalone=\"no\"?>\n<!DOCTYPE svg PUBLIC \"-//W3C//DTD SVG 1.1//EN\"\n \"http://www.w3.org/Graphics/SVG/1.1/DTD/svg11.dtd\">\n<!-- Generated by graphviz version 2.40.1 (20161225.0304)\n -->\n<!-- Title: %3 Pages: 1 -->\n<svg width=\"473pt\" height=\"114pt\"\n viewBox=\"0.00 0.00 473.00 114.00\" xmlns=\"http://www.w3.org/2000/svg\" xmlns:xlink=\"http://www.w3.org/1999/xlink\">\n<g id=\"graph0\" class=\"graph\" transform=\"scale(1 1) rotate(0) translate(4 110)\">\n<title>%3</title>\n<polygon fill=\"#ffffff\" stroke=\"transparent\" points=\"-4,4 -4,-110 469,-110 469,4 -4,4\"/>\n<!-- EMPTY -->\n<g id=\"node1\" class=\"node\">\n<title>EMPTY</title>\n</g>\n<!-- I -->\n<g id=\"node3\" class=\"node\">\n<title>I</title>\n<ellipse fill=\"#66cd00\" stroke=\"#000000\" cx=\"109\" cy=\"-22\" rx=\"18\" ry=\"18\"/>\n<text text-anchor=\"middle\" x=\"109\" y=\"-18.3\" font-family=\"Times,serif\" font-size=\"14.00\" fill=\"#ffffff\">I</text>\n</g>\n<!-- EMPTY&#45;&gt;I -->\n<g id=\"edge1\" class=\"edge\">\n<title>EMPTY&#45;&gt;I</title>\n<path fill=\"none\" stroke=\"#000000\" d=\"M54.3048,-22C62.6909,-22 71.9407,-22 80.4103,-22\"/>\n<polygon fill=\"#000000\" stroke=\"#000000\" points=\"80.5976,-25.5001 90.5976,-22 80.5976,-18.5001 80.5976,-25.5001\"/>\n</g>\n<!-- B -->\n<g id=\"node2\" class=\"node\">\n<title>B</title>\n<ellipse fill=\"#66cd00\" stroke=\"#000000\" cx=\"274\" cy=\"-22\" rx=\"18\" ry=\"18\"/>\n<text text-anchor=\"middle\" x=\"274\" y=\"-18.3\" font-family=\"Times,serif\" font-size=\"14.00\" fill=\"#ffffff\">B</text>\n</g>\n<!-- C -->\n<g id=\"node4\" class=\"node\">\n<title>C</title>\n<ellipse fill=\"#66cd00\" stroke=\"#000000\" cx=\"358\" cy=\"-22\" rx=\"18\" ry=\"18\"/>\n<text text-anchor=\"middle\" x=\"358\" y=\"-18.3\" font-family=\"Times,serif\" font-size=\"14.00\" fill=\"#ffffff\">C</text>\n</g>\n<!-- B&#45;&gt;C -->\n<g id=\"edge6\" class=\"edge\">\n<title>B&#45;&gt;C</title>\n<path fill=\"none\" stroke=\"#000000\" d=\"M292.2267,-22C303.1242,-22 317.2054,-22 329.5413,-22\"/>\n<polygon fill=\"#000000\" stroke=\"#000000\" points=\"329.8089,-25.5001 339.8088,-22 329.8088,-18.5001 329.8089,-25.5001\"/>\n<text text-anchor=\"start\" x=\"310\" y=\"-25.8\" font-family=\"Times,serif\" font-size=\"14.00\" fill=\"#000000\"> 1</text>\n</g>\n<!-- I&#45;&gt;I -->\n<g id=\"edge2\" class=\"edge\">\n<title>I&#45;&gt;I</title>\n<path fill=\"none\" stroke=\"#000000\" d=\"M105.7643,-39.7817C105.2144,-49.3149 106.293,-58 109,-58 110.6496,-58 111.6945,-54.7749 112.1347,-50.0981\"/>\n<polygon fill=\"#000000\" stroke=\"#000000\" points=\"115.6375,-49.8156 112.2357,-39.7817 108.6379,-49.7469 115.6375,-49.8156\"/>\n<text text-anchor=\"start\" x=\"103\" y=\"-61.8\" font-family=\"Times,serif\" font-size=\"14.00\" fill=\"#000000\"> 0</text>\n</g>\n<!-- I&#45;&gt;I -->\n<g id=\"edge3\" class=\"edge\">\n<title>I&#45;&gt;I</title>\n<path fill=\"none\" stroke=\"#000000\" d=\"M103.6841,-39.4203C100.6538,-56.791 102.4258,-76 109,-76 114.2902,-76 116.4708,-63.5617 115.5419,-49.652\"/>\n<polygon fill=\"#000000\" stroke=\"#000000\" points=\"118.9808,-48.9328 114.3159,-39.4203 112.0305,-49.7657 118.9808,-48.9328\"/>\n<text text-anchor=\"start\" x=\"103\" y=\"-79.8\" font-family=\"Times,serif\" font-size=\"14.00\" fill=\"#000000\"> 1</text>\n</g>\n<!-- A -->\n<g id=\"node5\" class=\"node\">\n<title>A</title>\n<ellipse fill=\"#66cd00\" stroke=\"#000000\" cx=\"190\" cy=\"-22\" rx=\"18\" ry=\"18\"/>\n<text text-anchor=\"middle\" x=\"190\" y=\"-18.3\" font-family=\"Times,serif\" font-size=\"14.00\" fill=\"#ffffff\">A</text>\n</g>\n<!-- I&#45;&gt;A -->\n<g id=\"edge4\" class=\"edge\">\n<title>I&#45;&gt;A</title>\n<path fill=\"none\" stroke=\"#000000\" d=\"M127.3802,-22C137.4966,-22 150.2691,-22 161.6363,-22\"/>\n<polygon fill=\"#000000\" stroke=\"#000000\" points=\"161.9716,-25.5001 171.9716,-22 161.9716,-18.5001 161.9716,-25.5001\"/>\n<text text-anchor=\"start\" x=\"145\" y=\"-25.8\" font-family=\"Times,serif\" font-size=\"14.00\" fill=\"#000000\"> &#39;&#39;</text>\n</g>\n<!-- C&#45;&gt;C -->\n<g id=\"edge7\" class=\"edge\">\n<title>C&#45;&gt;C</title>\n<path fill=\"none\" stroke=\"#000000\" d=\"M354.4047,-39.7817C353.7938,-49.3149 354.9922,-58 358,-58 359.8329,-58 360.9939,-54.7749 361.483,-50.0981\"/>\n<polygon fill=\"#000000\" stroke=\"#000000\" points=\"364.9861,-49.8193 361.5953,-39.7817 357.9865,-49.743 364.9861,-49.8193\"/>\n<text text-anchor=\"start\" x=\"352\" y=\"-61.8\" font-family=\"Times,serif\" font-size=\"14.00\" fill=\"#000000\"> 0</text>\n</g>\n<!-- C&#45;&gt;C -->\n<g id=\"edge8\" class=\"edge\">\n<title>C&#45;&gt;C</title>\n<path fill=\"none\" stroke=\"#000000\" d=\"M352.1479,-39.1418C348.7056,-56.585 350.6563,-76 358,-76 363.9094,-76 366.3267,-63.4283 365.2519,-49.4287\"/>\n<polygon fill=\"#000000\" stroke=\"#000000\" points=\"368.6685,-48.5785 363.8521,-39.1418 361.7325,-49.5224 368.6685,-48.5785\"/>\n<text text-anchor=\"start\" x=\"352\" y=\"-79.8\" font-family=\"Times,serif\" font-size=\"14.00\" fill=\"#000000\"> 1</text>\n</g>\n<!-- F -->\n<g id=\"node6\" class=\"node\">\n<title>F</title>\n<ellipse fill=\"#66cd00\" stroke=\"#000000\" cx=\"443\" cy=\"-22\" rx=\"18\" ry=\"18\"/>\n<ellipse fill=\"none\" stroke=\"#000000\" cx=\"443\" cy=\"-22\" rx=\"22\" ry=\"22\"/>\n<text text-anchor=\"middle\" x=\"443\" y=\"-18.3\" font-family=\"Times,serif\" font-size=\"14.00\" fill=\"#ffffff\">F</text>\n</g>\n<!-- C&#45;&gt;F -->\n<g id=\"edge9\" class=\"edge\">\n<title>C&#45;&gt;F</title>\n<path fill=\"none\" stroke=\"#000000\" d=\"M376.0263,-22C386.0256,-22 398.7667,-22 410.4461,-22\"/>\n<polygon fill=\"#000000\" stroke=\"#000000\" points=\"410.7644,-25.5001 420.7644,-22 410.7644,-18.5001 410.7644,-25.5001\"/>\n<text text-anchor=\"start\" x=\"394\" y=\"-25.8\" font-family=\"Times,serif\" font-size=\"14.00\" fill=\"#000000\"> &#39;&#39;</text>\n</g>\n<!-- A&#45;&gt;B -->\n<g id=\"edge5\" class=\"edge\">\n<title>A&#45;&gt;B</title>\n<path fill=\"none\" stroke=\"#000000\" d=\"M208.2267,-22C219.1242,-22 233.2054,-22 245.5413,-22\"/>\n<polygon fill=\"#000000\" stroke=\"#000000\" points=\"245.8089,-25.5001 255.8088,-22 245.8088,-18.5001 245.8089,-25.5001\"/>\n<text text-anchor=\"start\" x=\"226\" y=\"-25.8\" font-family=\"Times,serif\" font-size=\"14.00\" fill=\"#000000\"> 0</text>\n</g>\n</g>\n</svg>\n"
              }
            ],
            "_view_module": "@jupyter-widgets/output",
            "_model_module_version": "1.0.0",
            "_view_count": null,
            "_view_module_version": "1.0.0",
            "layout": "IPY_MODEL_53c9663b67a246cf96c14800cd122e61",
            "_model_module": "@jupyter-widgets/output"
          }
        },
        "37d701e59f1048a19ad986404df168b3": {
          "model_module": "@jupyter-widgets/output",
          "model_name": "OutputModel",
          "state": {
            "_view_name": "OutputView",
            "msg_id": "",
            "_dom_classes": [],
            "_model_name": "OutputModel",
            "outputs": [
              {
                "output_type": "display_data",
                "metadata": {
                  "tags": []
                },
                "text/plain": "<graphviz.files.Source at 0x7f221098ec88>",
                "image/svg+xml": "<?xml version=\"1.0\" encoding=\"UTF-8\" standalone=\"no\"?>\n<!DOCTYPE svg PUBLIC \"-//W3C//DTD SVG 1.1//EN\"\n \"http://www.w3.org/Graphics/SVG/1.1/DTD/svg11.dtd\">\n<!-- Generated by graphviz version 2.40.1 (20161225.0304)\n -->\n<!-- Title: %3 Pages: 1 -->\n<svg width=\"127pt\" height=\"47pt\"\n viewBox=\"0.00 0.00 127.00 47.00\" xmlns=\"http://www.w3.org/2000/svg\" xmlns:xlink=\"http://www.w3.org/1999/xlink\">\n<g id=\"graph0\" class=\"graph\" transform=\"scale(1 1) rotate(0) translate(4 43)\">\n<title>%3</title>\n<polygon fill=\"#ffffff\" stroke=\"transparent\" points=\"-4,4 -4,-43 123,-43 123,4 -4,4\"/>\n<!-- feed -->\n<g id=\"node1\" class=\"node\">\n<title>feed</title>\n<polygon fill=\"none\" stroke=\"#000000\" points=\"8.5,-3.5 8.5,-34.5 68.5,-34.5 68.5,-3.5 8.5,-3.5\"/>\n<text text-anchor=\"start\" x=\"17.5\" y=\"-15.9\" font-family=\"Times,serif\" font-size=\"12.00\" fill=\"#000000\">0010110</text>\n<polygon fill=\"none\" stroke=\"#000000\" points=\"68.5,-3.5 68.5,-34.5 93.5,-34.5 93.5,-3.5 68.5,-3.5\"/>\n<text text-anchor=\"start\" x=\"77.5\" y=\"-15.9\" font-family=\"Times,serif\" font-size=\"12.00\" fill=\"#000000\"> &#160;</text>\n<polygon fill=\"none\" stroke=\"#000000\" points=\"93.5,-3.5 93.5,-34.5 111.5,-34.5 111.5,-3.5 93.5,-3.5\"/>\n</g>\n</g>\n</svg>\n"
              }
            ],
            "_view_module": "@jupyter-widgets/output",
            "_model_module_version": "1.0.0",
            "_view_count": null,
            "_view_module_version": "1.0.0",
            "layout": "IPY_MODEL_5bb67ca6971e478e8432a3ce844e4600",
            "_model_module": "@jupyter-widgets/output"
          }
        },
        "b32034a2fe1742fb8745be92d2f7ee69": {
          "model_module": "@jupyter-widgets/controls",
          "model_name": "HBoxModel",
          "state": {
            "_view_name": "HBoxView",
            "_dom_classes": [],
            "_model_name": "HBoxModel",
            "_view_module": "@jupyter-widgets/controls",
            "_model_module_version": "1.5.0",
            "_view_count": null,
            "_view_module_version": "1.5.0",
            "box_style": "",
            "layout": "IPY_MODEL_660934d627ea4bfab3ec0f749e456b22",
            "_model_module": "@jupyter-widgets/controls",
            "children": [
              "IPY_MODEL_2a5f37e9caa84b3f8a932c5d58b7977a",
              "IPY_MODEL_ee453e51412a4f1e8f3409bd8b371852",
              "IPY_MODEL_f9d214ca6d714d35bc80b63c8c12ee04",
              "IPY_MODEL_63f8f4c902e945738f02141cba83567a"
            ]
          }
        },
        "fe0685f1daa74712b0414782e38901e8": {
          "model_module": "@jupyter-widgets/base",
          "model_name": "LayoutModel",
          "state": {
            "_view_name": "LayoutView",
            "grid_template_rows": null,
            "right": null,
            "justify_content": null,
            "_view_module": "@jupyter-widgets/base",
            "overflow": null,
            "_model_module_version": "1.2.0",
            "_view_count": null,
            "flex_flow": null,
            "width": null,
            "min_width": null,
            "border": null,
            "align_items": null,
            "bottom": null,
            "_model_module": "@jupyter-widgets/base",
            "top": null,
            "grid_column": null,
            "overflow_y": null,
            "overflow_x": null,
            "grid_auto_flow": null,
            "grid_area": null,
            "grid_template_columns": null,
            "flex": null,
            "_model_name": "LayoutModel",
            "justify_items": null,
            "grid_row": null,
            "max_height": null,
            "align_content": null,
            "visibility": null,
            "align_self": null,
            "height": null,
            "min_height": null,
            "padding": null,
            "grid_auto_rows": null,
            "grid_gap": null,
            "max_width": null,
            "order": null,
            "_view_module_version": "1.2.0",
            "grid_template_areas": null,
            "object_position": null,
            "object_fit": null,
            "grid_auto_columns": null,
            "margin": null,
            "display": null,
            "left": null
          }
        },
        "3c97b7a6e042465eae143ad558bd90e9": {
          "model_module": "@jupyter-widgets/controls",
          "model_name": "TextModel",
          "state": {
            "_view_name": "TextView",
            "style": "IPY_MODEL_8f48d78705b74c5fbe6cee334c745d5a",
            "_dom_classes": [],
            "description": "Input:",
            "_model_name": "TextModel",
            "placeholder": "Sigma: {0,1}",
            "_view_module": "@jupyter-widgets/controls",
            "_model_module_version": "1.5.0",
            "value": "0010110",
            "_view_count": null,
            "disabled": true,
            "_view_module_version": "1.5.0",
            "continuous_update": true,
            "description_tooltip": null,
            "_model_module": "@jupyter-widgets/controls",
            "layout": "IPY_MODEL_6dd8972150a94f8c9d2a85de1c643780"
          }
        },
        "0ef467c6399c46ea8412f9742f35a575": {
          "model_module": "@jupyter-widgets/controls",
          "model_name": "ButtonModel",
          "state": {
            "_view_name": "ButtonView",
            "style": "IPY_MODEL_d38666716b4944fd9ac4fceb5b23f3ac",
            "_dom_classes": [],
            "description": "Change Input",
            "_model_name": "ButtonModel",
            "button_style": "primary",
            "_view_module": "@jupyter-widgets/controls",
            "_model_module_version": "1.5.0",
            "tooltip": "",
            "_view_count": null,
            "disabled": false,
            "_view_module_version": "1.5.0",
            "layout": "IPY_MODEL_a374f8cc35014a77936a635636b56c66",
            "_model_module": "@jupyter-widgets/controls",
            "icon": ""
          }
        },
        "660934d627ea4bfab3ec0f749e456b22": {
          "model_module": "@jupyter-widgets/base",
          "model_name": "LayoutModel",
          "state": {
            "_view_name": "LayoutView",
            "grid_template_rows": null,
            "right": null,
            "justify_content": null,
            "_view_module": "@jupyter-widgets/base",
            "overflow": null,
            "_model_module_version": "1.2.0",
            "_view_count": null,
            "flex_flow": null,
            "width": null,
            "min_width": null,
            "border": null,
            "align_items": null,
            "bottom": null,
            "_model_module": "@jupyter-widgets/base",
            "top": null,
            "grid_column": null,
            "overflow_y": null,
            "overflow_x": null,
            "grid_auto_flow": null,
            "grid_area": null,
            "grid_template_columns": null,
            "flex": null,
            "_model_name": "LayoutModel",
            "justify_items": null,
            "grid_row": null,
            "max_height": null,
            "align_content": null,
            "visibility": null,
            "align_self": null,
            "height": null,
            "min_height": null,
            "padding": null,
            "grid_auto_rows": null,
            "grid_gap": null,
            "max_width": null,
            "order": null,
            "_view_module_version": "1.2.0",
            "grid_template_areas": null,
            "object_position": null,
            "object_fit": null,
            "grid_auto_columns": null,
            "margin": null,
            "display": null,
            "left": null
          }
        },
        "2a5f37e9caa84b3f8a932c5d58b7977a": {
          "model_module": "@jupyter-widgets/controls",
          "model_name": "PlayModel",
          "state": {
            "_view_name": "PlayView",
            "style": "IPY_MODEL_7fd2164b01ae46aca9182d047ae3b5b3",
            "interval": 950,
            "_dom_classes": [],
            "description": "Press play",
            "_model_name": "PlayModel",
            "max": 21,
            "_view_module": "@jupyter-widgets/controls",
            "_model_module_version": "1.5.0",
            "value": 21,
            "_view_count": null,
            "disabled": false,
            "_repeat": false,
            "_view_module_version": "1.5.0",
            "show_repeat": true,
            "min": 0,
            "_playing": false,
            "step": 1,
            "description_tooltip": null,
            "_model_module": "@jupyter-widgets/controls",
            "layout": "IPY_MODEL_62e012c8439d484cb163e0ead8322906"
          }
        },
        "ee453e51412a4f1e8f3409bd8b371852": {
          "model_module": "@jupyter-widgets/controls",
          "model_name": "ButtonModel",
          "state": {
            "_view_name": "ButtonView",
            "style": "IPY_MODEL_8b0992208ed3495cbf6f8fead90d36e9",
            "_dom_classes": [],
            "description": "",
            "_model_name": "ButtonModel",
            "button_style": "",
            "_view_module": "@jupyter-widgets/controls",
            "_model_module_version": "1.5.0",
            "tooltip": "",
            "_view_count": null,
            "disabled": false,
            "_view_module_version": "1.5.0",
            "layout": "IPY_MODEL_87d98b5c9bac419cb93d990569bb0201",
            "_model_module": "@jupyter-widgets/controls",
            "icon": "step-backward"
          }
        },
        "f9d214ca6d714d35bc80b63c8c12ee04": {
          "model_module": "@jupyter-widgets/controls",
          "model_name": "ButtonModel",
          "state": {
            "_view_name": "ButtonView",
            "style": "IPY_MODEL_d9e59f655a844c6181c89c7014c010d3",
            "_dom_classes": [],
            "description": "",
            "_model_name": "ButtonModel",
            "button_style": "",
            "_view_module": "@jupyter-widgets/controls",
            "_model_module_version": "1.5.0",
            "tooltip": "",
            "_view_count": null,
            "disabled": true,
            "_view_module_version": "1.5.0",
            "layout": "IPY_MODEL_86a73eee91ce4303b88b8fbce87d9216",
            "_model_module": "@jupyter-widgets/controls",
            "icon": "step-forward"
          }
        },
        "63f8f4c902e945738f02141cba83567a": {
          "model_module": "@jupyter-widgets/controls",
          "model_name": "IntSliderModel",
          "state": {
            "_view_name": "IntSliderView",
            "style": "IPY_MODEL_9e51057529d04d8cb74462e932168533",
            "_dom_classes": [],
            "description": "Speed:",
            "step": 1,
            "_model_name": "IntSliderModel",
            "orientation": "horizontal",
            "max": 10,
            "_view_module": "@jupyter-widgets/controls",
            "_model_module_version": "1.5.0",
            "value": 1,
            "_view_count": null,
            "disabled": false,
            "_view_module_version": "1.5.0",
            "min": 1,
            "continuous_update": false,
            "readout_format": "d",
            "description_tooltip": null,
            "readout": true,
            "_model_module": "@jupyter-widgets/controls",
            "layout": "IPY_MODEL_416722d8bc1b469f9c97aa96598dc9bf"
          }
        },
        "8f48d78705b74c5fbe6cee334c745d5a": {
          "model_module": "@jupyter-widgets/controls",
          "model_name": "DescriptionStyleModel",
          "state": {
            "_view_name": "StyleView",
            "_model_name": "DescriptionStyleModel",
            "description_width": "",
            "_view_module": "@jupyter-widgets/base",
            "_model_module_version": "1.5.0",
            "_view_count": null,
            "_view_module_version": "1.2.0",
            "_model_module": "@jupyter-widgets/controls"
          }
        },
        "6dd8972150a94f8c9d2a85de1c643780": {
          "model_module": "@jupyter-widgets/base",
          "model_name": "LayoutModel",
          "state": {
            "_view_name": "LayoutView",
            "grid_template_rows": null,
            "right": null,
            "justify_content": null,
            "_view_module": "@jupyter-widgets/base",
            "overflow": null,
            "_model_module_version": "1.2.0",
            "_view_count": null,
            "flex_flow": null,
            "width": "500px",
            "min_width": null,
            "border": null,
            "align_items": null,
            "bottom": null,
            "_model_module": "@jupyter-widgets/base",
            "top": null,
            "grid_column": null,
            "overflow_y": null,
            "overflow_x": null,
            "grid_auto_flow": null,
            "grid_area": null,
            "grid_template_columns": null,
            "flex": null,
            "_model_name": "LayoutModel",
            "justify_items": null,
            "grid_row": null,
            "max_height": null,
            "align_content": null,
            "visibility": null,
            "align_self": null,
            "height": null,
            "min_height": null,
            "padding": null,
            "grid_auto_rows": null,
            "grid_gap": null,
            "max_width": null,
            "order": null,
            "_view_module_version": "1.2.0",
            "grid_template_areas": null,
            "object_position": null,
            "object_fit": null,
            "grid_auto_columns": null,
            "margin": null,
            "display": null,
            "left": null
          }
        },
        "d38666716b4944fd9ac4fceb5b23f3ac": {
          "model_module": "@jupyter-widgets/controls",
          "model_name": "ButtonStyleModel",
          "state": {
            "_view_name": "StyleView",
            "_model_name": "ButtonStyleModel",
            "_view_module": "@jupyter-widgets/base",
            "_model_module_version": "1.5.0",
            "_view_count": null,
            "button_color": null,
            "font_weight": "",
            "_view_module_version": "1.2.0",
            "_model_module": "@jupyter-widgets/controls"
          }
        },
        "a374f8cc35014a77936a635636b56c66": {
          "model_module": "@jupyter-widgets/base",
          "model_name": "LayoutModel",
          "state": {
            "_view_name": "LayoutView",
            "grid_template_rows": null,
            "right": null,
            "justify_content": null,
            "_view_module": "@jupyter-widgets/base",
            "overflow": null,
            "_model_module_version": "1.2.0",
            "_view_count": null,
            "flex_flow": null,
            "width": null,
            "min_width": null,
            "border": null,
            "align_items": null,
            "bottom": null,
            "_model_module": "@jupyter-widgets/base",
            "top": null,
            "grid_column": null,
            "overflow_y": null,
            "overflow_x": null,
            "grid_auto_flow": null,
            "grid_area": null,
            "grid_template_columns": null,
            "flex": null,
            "_model_name": "LayoutModel",
            "justify_items": null,
            "grid_row": null,
            "max_height": null,
            "align_content": null,
            "visibility": null,
            "align_self": null,
            "height": null,
            "min_height": null,
            "padding": null,
            "grid_auto_rows": null,
            "grid_gap": null,
            "max_width": null,
            "order": null,
            "_view_module_version": "1.2.0",
            "grid_template_areas": null,
            "object_position": null,
            "object_fit": null,
            "grid_auto_columns": null,
            "margin": null,
            "display": null,
            "left": null
          }
        },
        "7fd2164b01ae46aca9182d047ae3b5b3": {
          "model_module": "@jupyter-widgets/controls",
          "model_name": "DescriptionStyleModel",
          "state": {
            "_view_name": "StyleView",
            "_model_name": "DescriptionStyleModel",
            "description_width": "",
            "_view_module": "@jupyter-widgets/base",
            "_model_module_version": "1.5.0",
            "_view_count": null,
            "_view_module_version": "1.2.0",
            "_model_module": "@jupyter-widgets/controls"
          }
        },
        "62e012c8439d484cb163e0ead8322906": {
          "model_module": "@jupyter-widgets/base",
          "model_name": "LayoutModel",
          "state": {
            "_view_name": "LayoutView",
            "grid_template_rows": null,
            "right": null,
            "justify_content": null,
            "_view_module": "@jupyter-widgets/base",
            "overflow": null,
            "_model_module_version": "1.2.0",
            "_view_count": null,
            "flex_flow": null,
            "width": null,
            "min_width": null,
            "border": null,
            "align_items": null,
            "bottom": null,
            "_model_module": "@jupyter-widgets/base",
            "top": null,
            "grid_column": null,
            "overflow_y": null,
            "overflow_x": null,
            "grid_auto_flow": null,
            "grid_area": null,
            "grid_template_columns": null,
            "flex": null,
            "_model_name": "LayoutModel",
            "justify_items": null,
            "grid_row": null,
            "max_height": null,
            "align_content": null,
            "visibility": null,
            "align_self": null,
            "height": null,
            "min_height": null,
            "padding": null,
            "grid_auto_rows": null,
            "grid_gap": null,
            "max_width": null,
            "order": null,
            "_view_module_version": "1.2.0",
            "grid_template_areas": null,
            "object_position": null,
            "object_fit": null,
            "grid_auto_columns": null,
            "margin": null,
            "display": null,
            "left": null
          }
        },
        "8b0992208ed3495cbf6f8fead90d36e9": {
          "model_module": "@jupyter-widgets/controls",
          "model_name": "ButtonStyleModel",
          "state": {
            "_view_name": "StyleView",
            "_model_name": "ButtonStyleModel",
            "_view_module": "@jupyter-widgets/base",
            "_model_module_version": "1.5.0",
            "_view_count": null,
            "button_color": null,
            "font_weight": "",
            "_view_module_version": "1.2.0",
            "_model_module": "@jupyter-widgets/controls"
          }
        },
        "87d98b5c9bac419cb93d990569bb0201": {
          "model_module": "@jupyter-widgets/base",
          "model_name": "LayoutModel",
          "state": {
            "_view_name": "LayoutView",
            "grid_template_rows": null,
            "right": null,
            "justify_content": null,
            "_view_module": "@jupyter-widgets/base",
            "overflow": null,
            "_model_module_version": "1.2.0",
            "_view_count": null,
            "flex_flow": null,
            "width": "40px",
            "min_width": null,
            "border": null,
            "align_items": null,
            "bottom": null,
            "_model_module": "@jupyter-widgets/base",
            "top": null,
            "grid_column": null,
            "overflow_y": null,
            "overflow_x": null,
            "grid_auto_flow": null,
            "grid_area": null,
            "grid_template_columns": null,
            "flex": null,
            "_model_name": "LayoutModel",
            "justify_items": null,
            "grid_row": null,
            "max_height": null,
            "align_content": null,
            "visibility": null,
            "align_self": null,
            "height": null,
            "min_height": null,
            "padding": null,
            "grid_auto_rows": null,
            "grid_gap": null,
            "max_width": null,
            "order": null,
            "_view_module_version": "1.2.0",
            "grid_template_areas": null,
            "object_position": null,
            "object_fit": null,
            "grid_auto_columns": null,
            "margin": null,
            "display": null,
            "left": null
          }
        },
        "d9e59f655a844c6181c89c7014c010d3": {
          "model_module": "@jupyter-widgets/controls",
          "model_name": "ButtonStyleModel",
          "state": {
            "_view_name": "StyleView",
            "_model_name": "ButtonStyleModel",
            "_view_module": "@jupyter-widgets/base",
            "_model_module_version": "1.5.0",
            "_view_count": null,
            "button_color": null,
            "font_weight": "",
            "_view_module_version": "1.2.0",
            "_model_module": "@jupyter-widgets/controls"
          }
        },
        "86a73eee91ce4303b88b8fbce87d9216": {
          "model_module": "@jupyter-widgets/base",
          "model_name": "LayoutModel",
          "state": {
            "_view_name": "LayoutView",
            "grid_template_rows": null,
            "right": null,
            "justify_content": null,
            "_view_module": "@jupyter-widgets/base",
            "overflow": null,
            "_model_module_version": "1.2.0",
            "_view_count": null,
            "flex_flow": null,
            "width": "40px",
            "min_width": null,
            "border": null,
            "align_items": null,
            "bottom": null,
            "_model_module": "@jupyter-widgets/base",
            "top": null,
            "grid_column": null,
            "overflow_y": null,
            "overflow_x": null,
            "grid_auto_flow": null,
            "grid_area": null,
            "grid_template_columns": null,
            "flex": null,
            "_model_name": "LayoutModel",
            "justify_items": null,
            "grid_row": null,
            "max_height": null,
            "align_content": null,
            "visibility": null,
            "align_self": null,
            "height": null,
            "min_height": null,
            "padding": null,
            "grid_auto_rows": null,
            "grid_gap": null,
            "max_width": null,
            "order": null,
            "_view_module_version": "1.2.0",
            "grid_template_areas": null,
            "object_position": null,
            "object_fit": null,
            "grid_auto_columns": null,
            "margin": null,
            "display": null,
            "left": null
          }
        },
        "9e51057529d04d8cb74462e932168533": {
          "model_module": "@jupyter-widgets/controls",
          "model_name": "SliderStyleModel",
          "state": {
            "_view_name": "StyleView",
            "handle_color": null,
            "_model_name": "SliderStyleModel",
            "description_width": "",
            "_view_module": "@jupyter-widgets/base",
            "_model_module_version": "1.5.0",
            "_view_count": null,
            "_view_module_version": "1.2.0",
            "_model_module": "@jupyter-widgets/controls"
          }
        },
        "416722d8bc1b469f9c97aa96598dc9bf": {
          "model_module": "@jupyter-widgets/base",
          "model_name": "LayoutModel",
          "state": {
            "_view_name": "LayoutView",
            "grid_template_rows": null,
            "right": null,
            "justify_content": null,
            "_view_module": "@jupyter-widgets/base",
            "overflow": null,
            "_model_module_version": "1.2.0",
            "_view_count": null,
            "flex_flow": null,
            "width": null,
            "min_width": null,
            "border": null,
            "align_items": null,
            "bottom": null,
            "_model_module": "@jupyter-widgets/base",
            "top": null,
            "grid_column": null,
            "overflow_y": null,
            "overflow_x": null,
            "grid_auto_flow": null,
            "grid_area": null,
            "grid_template_columns": null,
            "flex": null,
            "_model_name": "LayoutModel",
            "justify_items": null,
            "grid_row": null,
            "max_height": null,
            "align_content": null,
            "visibility": null,
            "align_self": null,
            "height": null,
            "min_height": null,
            "padding": null,
            "grid_auto_rows": null,
            "grid_gap": null,
            "max_width": null,
            "order": null,
            "_view_module_version": "1.2.0",
            "grid_template_areas": null,
            "object_position": null,
            "object_fit": null,
            "grid_auto_columns": null,
            "margin": null,
            "display": null,
            "left": null
          }
        },
        "53c9663b67a246cf96c14800cd122e61": {
          "model_module": "@jupyter-widgets/base",
          "model_name": "LayoutModel",
          "state": {
            "_view_name": "LayoutView",
            "grid_template_rows": null,
            "right": null,
            "justify_content": null,
            "_view_module": "@jupyter-widgets/base",
            "overflow": null,
            "_model_module_version": "1.2.0",
            "_view_count": null,
            "flex_flow": null,
            "width": null,
            "min_width": null,
            "border": null,
            "align_items": null,
            "bottom": null,
            "_model_module": "@jupyter-widgets/base",
            "top": null,
            "grid_column": null,
            "overflow_y": null,
            "overflow_x": null,
            "grid_auto_flow": null,
            "grid_area": null,
            "grid_template_columns": null,
            "flex": null,
            "_model_name": "LayoutModel",
            "justify_items": null,
            "grid_row": null,
            "max_height": null,
            "align_content": null,
            "visibility": null,
            "align_self": null,
            "height": null,
            "min_height": null,
            "padding": null,
            "grid_auto_rows": null,
            "grid_gap": null,
            "max_width": null,
            "order": null,
            "_view_module_version": "1.2.0",
            "grid_template_areas": null,
            "object_position": null,
            "object_fit": null,
            "grid_auto_columns": null,
            "margin": null,
            "display": null,
            "left": null
          }
        },
        "5bb67ca6971e478e8432a3ce844e4600": {
          "model_module": "@jupyter-widgets/base",
          "model_name": "LayoutModel",
          "state": {
            "_view_name": "LayoutView",
            "grid_template_rows": null,
            "right": null,
            "justify_content": null,
            "_view_module": "@jupyter-widgets/base",
            "overflow": null,
            "_model_module_version": "1.2.0",
            "_view_count": null,
            "flex_flow": null,
            "width": null,
            "min_width": null,
            "border": null,
            "align_items": null,
            "bottom": null,
            "_model_module": "@jupyter-widgets/base",
            "top": null,
            "grid_column": null,
            "overflow_y": null,
            "overflow_x": null,
            "grid_auto_flow": null,
            "grid_area": null,
            "grid_template_columns": null,
            "flex": null,
            "_model_name": "LayoutModel",
            "justify_items": null,
            "grid_row": null,
            "max_height": null,
            "align_content": null,
            "visibility": null,
            "align_self": null,
            "height": null,
            "min_height": null,
            "padding": null,
            "grid_auto_rows": null,
            "grid_gap": null,
            "max_width": null,
            "order": null,
            "_view_module_version": "1.2.0",
            "grid_template_areas": null,
            "object_position": null,
            "object_fit": null,
            "grid_auto_columns": null,
            "margin": null,
            "display": null,
            "left": null
          }
        },
        "862f860f9f2f4591ae6a970975e754ae": {
          "model_module": "@jupyter-widgets/controls",
          "model_name": "VBoxModel",
          "state": {
            "_view_name": "VBoxView",
            "_dom_classes": [],
            "_model_name": "VBoxModel",
            "_view_module": "@jupyter-widgets/controls",
            "_model_module_version": "1.5.0",
            "_view_count": null,
            "_view_module_version": "1.5.0",
            "box_style": "",
            "layout": "IPY_MODEL_b83a624f0f6c47f3b51432fdd4230158",
            "_model_module": "@jupyter-widgets/controls",
            "children": [
              "IPY_MODEL_b66039a3e4734849b0b342a625d58c7d",
              "IPY_MODEL_dbec8700eae447799831d8dc13204eb8",
              "IPY_MODEL_e2b357b6def44c269a32d1a5a458c9b9",
              "IPY_MODEL_93802016c94548daad3bde8efe77074b"
            ]
          }
        },
        "b83a624f0f6c47f3b51432fdd4230158": {
          "model_module": "@jupyter-widgets/base",
          "model_name": "LayoutModel",
          "state": {
            "_view_name": "LayoutView",
            "grid_template_rows": null,
            "right": null,
            "justify_content": null,
            "_view_module": "@jupyter-widgets/base",
            "overflow": null,
            "_model_module_version": "1.2.0",
            "_view_count": null,
            "flex_flow": null,
            "width": null,
            "min_width": null,
            "border": null,
            "align_items": null,
            "bottom": null,
            "_model_module": "@jupyter-widgets/base",
            "top": null,
            "grid_column": null,
            "overflow_y": null,
            "overflow_x": null,
            "grid_auto_flow": null,
            "grid_area": null,
            "grid_template_columns": null,
            "flex": null,
            "_model_name": "LayoutModel",
            "justify_items": null,
            "grid_row": null,
            "max_height": null,
            "align_content": null,
            "visibility": null,
            "align_self": null,
            "height": null,
            "min_height": null,
            "padding": null,
            "grid_auto_rows": null,
            "grid_gap": null,
            "max_width": null,
            "order": null,
            "_view_module_version": "1.2.0",
            "grid_template_areas": null,
            "object_position": null,
            "object_fit": null,
            "grid_auto_columns": null,
            "margin": null,
            "display": null,
            "left": null
          }
        },
        "b66039a3e4734849b0b342a625d58c7d": {
          "model_module": "@jupyter-widgets/controls",
          "model_name": "HBoxModel",
          "state": {
            "_view_name": "HBoxView",
            "_dom_classes": [],
            "_model_name": "HBoxModel",
            "_view_module": "@jupyter-widgets/controls",
            "_model_module_version": "1.5.0",
            "_view_count": null,
            "_view_module_version": "1.5.0",
            "box_style": "",
            "layout": "IPY_MODEL_0a2525dfbca54d018697f56222161004",
            "_model_module": "@jupyter-widgets/controls",
            "children": [
              "IPY_MODEL_978f61125296487d917baf872464c434",
              "IPY_MODEL_2ea2da6131ed4e3192fbd43ce593841f"
            ]
          }
        },
        "dbec8700eae447799831d8dc13204eb8": {
          "model_module": "@jupyter-widgets/output",
          "model_name": "OutputModel",
          "state": {
            "_view_name": "OutputView",
            "msg_id": "",
            "_dom_classes": [],
            "_model_name": "OutputModel",
            "outputs": [
              {
                "output_type": "display_data",
                "metadata": {
                  "tags": []
                },
                "text/plain": "<graphviz.files.Source at 0x7f22118b7c88>",
                "image/svg+xml": "<?xml version=\"1.0\" encoding=\"UTF-8\" standalone=\"no\"?>\n<!DOCTYPE svg PUBLIC \"-//W3C//DTD SVG 1.1//EN\"\n \"http://www.w3.org/Graphics/SVG/1.1/DTD/svg11.dtd\">\n<!-- Generated by graphviz version 2.40.1 (20161225.0304)\n -->\n<!-- Title: %3 Pages: 1 -->\n<svg width=\"554pt\" height=\"229pt\"\n viewBox=\"0.00 0.00 554.00 229.18\" xmlns=\"http://www.w3.org/2000/svg\" xmlns:xlink=\"http://www.w3.org/1999/xlink\">\n<g id=\"graph0\" class=\"graph\" transform=\"scale(1 1) rotate(0) translate(4 225.1841)\">\n<title>%3</title>\n<polygon fill=\"#ffffff\" stroke=\"transparent\" points=\"-4,4 -4,-225.1841 550,-225.1841 550,4 -4,4\"/>\n<!-- EMPTY -->\n<g id=\"node1\" class=\"node\">\n<title>EMPTY</title>\n</g>\n<!-- I -->\n<g id=\"node6\" class=\"node\">\n<title>I</title>\n<ellipse fill=\"none\" stroke=\"#000000\" cx=\"109\" cy=\"-154.1841\" rx=\"18\" ry=\"18\"/>\n<text text-anchor=\"middle\" x=\"109\" y=\"-150.4841\" font-family=\"Times,serif\" font-size=\"14.00\" fill=\"#000000\">I</text>\n</g>\n<!-- EMPTY&#45;&gt;I -->\n<g id=\"edge1\" class=\"edge\">\n<title>EMPTY&#45;&gt;I</title>\n<path fill=\"none\" stroke=\"#000000\" d=\"M54.3048,-154.1841C62.6909,-154.1841 71.9407,-154.1841 80.4103,-154.1841\"/>\n<polygon fill=\"#000000\" stroke=\"#000000\" points=\"80.5976,-157.6842 90.5976,-154.1841 80.5976,-150.6842 80.5976,-157.6842\"/>\n</g>\n<!-- G -->\n<g id=\"node2\" class=\"node\">\n<title>G</title>\n<ellipse fill=\"#ff0000\" stroke=\"#000000\" cx=\"436\" cy=\"-128.1841\" rx=\"18\" ry=\"18\"/>\n<text text-anchor=\"middle\" x=\"436\" y=\"-124.4841\" font-family=\"Times,serif\" font-size=\"14.00\" fill=\"#ffffff\">G</text>\n</g>\n<!-- F -->\n<g id=\"node9\" class=\"node\">\n<title>F</title>\n<ellipse fill=\"none\" stroke=\"#000000\" cx=\"524\" cy=\"-128.1841\" rx=\"18\" ry=\"18\"/>\n<ellipse fill=\"none\" stroke=\"#000000\" cx=\"524\" cy=\"-128.1841\" rx=\"22\" ry=\"22\"/>\n<text text-anchor=\"middle\" x=\"524\" y=\"-124.4841\" font-family=\"Times,serif\" font-size=\"14.00\" fill=\"#000000\">F</text>\n</g>\n<!-- G&#45;&gt;F -->\n<g id=\"edge6\" class=\"edge\">\n<title>G&#45;&gt;F</title>\n<path fill=\"none\" stroke=\"#000000\" d=\"M454.2337,-128.1841C465.0103,-128.1841 478.9708,-128.1841 491.5692,-128.1841\"/>\n<polygon fill=\"#000000\" stroke=\"#000000\" points=\"491.7317,-131.6842 501.7317,-128.1841 491.7317,-124.6842 491.7317,-131.6842\"/>\n<text text-anchor=\"start\" x=\"472\" y=\"-131.9841\" font-family=\"Times,serif\" font-size=\"14.00\" fill=\"#000000\"> 1</text>\n</g>\n<!-- B -->\n<g id=\"node3\" class=\"node\">\n<title>B</title>\n<ellipse fill=\"#ff0000\" stroke=\"#000000\" cx=\"271\" cy=\"-101.1841\" rx=\"18\" ry=\"18\"/>\n<text text-anchor=\"middle\" x=\"271\" y=\"-97.4841\" font-family=\"Times,serif\" font-size=\"14.00\" fill=\"#ffffff\">B</text>\n</g>\n<!-- D -->\n<g id=\"node4\" class=\"node\">\n<title>D</title>\n<ellipse fill=\"none\" stroke=\"#000000\" cx=\"355\" cy=\"-128.1841\" rx=\"18\" ry=\"18\"/>\n<text text-anchor=\"middle\" x=\"355\" y=\"-124.4841\" font-family=\"Times,serif\" font-size=\"14.00\" fill=\"#000000\">D</text>\n</g>\n<!-- B&#45;&gt;D -->\n<g id=\"edge7\" class=\"edge\">\n<title>B&#45;&gt;D</title>\n<path fill=\"none\" stroke=\"#000000\" d=\"M288.4049,-106.7785C299.7804,-110.4349 314.8725,-115.2859 327.8129,-119.4454\"/>\n<polygon fill=\"#000000\" stroke=\"#000000\" points=\"327.0261,-122.8688 337.6174,-122.5968 329.1682,-116.2046 327.0261,-122.8688\"/>\n<text text-anchor=\"start\" x=\"307\" y=\"-119.9841\" font-family=\"Times,serif\" font-size=\"14.00\" fill=\"#000000\"> 1</text>\n</g>\n<!-- D&#45;&gt;G -->\n<g id=\"edge9\" class=\"edge\">\n<title>D&#45;&gt;G</title>\n<path fill=\"none\" stroke=\"#000000\" d=\"M373.3802,-128.1841C383.4966,-128.1841 396.2691,-128.1841 407.6363,-128.1841\"/>\n<polygon fill=\"#000000\" stroke=\"#000000\" points=\"407.9716,-131.6842 417.9716,-128.1841 407.9716,-124.6842 407.9716,-131.6842\"/>\n<text text-anchor=\"start\" x=\"391\" y=\"-131.9841\" font-family=\"Times,serif\" font-size=\"14.00\" fill=\"#000000\"> &#39;&#39;</text>\n</g>\n<!-- A -->\n<g id=\"node5\" class=\"node\">\n<title>A</title>\n<ellipse fill=\"#ff0000\" stroke=\"#000000\" cx=\"190\" cy=\"-101.1841\" rx=\"18\" ry=\"18\"/>\n<text text-anchor=\"middle\" x=\"190\" y=\"-97.4841\" font-family=\"Times,serif\" font-size=\"14.00\" fill=\"#ffffff\">A</text>\n</g>\n<!-- D&#45;&gt;A -->\n<g id=\"edge10\" class=\"edge\">\n<title>D&#45;&gt;A</title>\n<path fill=\"none\" stroke=\"#000000\" d=\"M337.1538,-132.3564C331.3937,-133.514 324.9575,-134.6103 319,-135.1841 313.6912,-135.6954 312.3223,-135.5276 307,-135.1841 270.4639,-132.8259 259.9067,-133.9964 226,-120.1841 222.2776,-118.6677 218.4323,-116.8873 214.7024,-115.035\"/>\n<polygon fill=\"#000000\" stroke=\"#000000\" points=\"216.2891,-111.9152 205.8044,-110.3921 213.0509,-118.1212 216.2891,-111.9152\"/>\n<text text-anchor=\"start\" x=\"266.5\" y=\"-136.9841\" font-family=\"Times,serif\" font-size=\"14.00\" fill=\"#000000\"> &#39;&#39;</text>\n</g>\n<!-- A&#45;&gt;B -->\n<g id=\"edge4\" class=\"edge\">\n<title>A&#45;&gt;B</title>\n<path fill=\"none\" stroke=\"#000000\" d=\"M208.3802,-101.1841C218.4966,-101.1841 231.2691,-101.1841 242.6363,-101.1841\"/>\n<polygon fill=\"#000000\" stroke=\"#000000\" points=\"242.9716,-104.6842 252.9716,-101.1841 242.9716,-97.6842 242.9716,-104.6842\"/>\n<text text-anchor=\"start\" x=\"226\" y=\"-104.9841\" font-family=\"Times,serif\" font-size=\"14.00\" fill=\"#000000\"> &#39;&#39;</text>\n</g>\n<!-- C -->\n<g id=\"node8\" class=\"node\">\n<title>C</title>\n<ellipse fill=\"#ff0000\" stroke=\"#000000\" cx=\"271\" cy=\"-47.1841\" rx=\"18\" ry=\"18\"/>\n<text text-anchor=\"middle\" x=\"271\" y=\"-43.4841\" font-family=\"Times,serif\" font-size=\"14.00\" fill=\"#ffffff\">C</text>\n</g>\n<!-- A&#45;&gt;C -->\n<g id=\"edge5\" class=\"edge\">\n<title>A&#45;&gt;C</title>\n<path fill=\"none\" stroke=\"#000000\" d=\"M205.2355,-91.0271C217.1148,-83.1075 233.8227,-71.969 247.4248,-62.9009\"/>\n<polygon fill=\"#000000\" stroke=\"#000000\" points=\"249.4538,-65.7547 255.8328,-57.2955 245.5709,-59.9304 249.4538,-65.7547\"/>\n<text text-anchor=\"start\" x=\"226\" y=\"-79.9841\" font-family=\"Times,serif\" font-size=\"14.00\" fill=\"#000000\"> &#39;&#39;</text>\n</g>\n<!-- I&#45;&gt;G -->\n<g id=\"edge2\" class=\"edge\">\n<title>I&#45;&gt;G</title>\n<path fill=\"none\" stroke=\"#000000\" d=\"M120.9214,-168.1191C135.5043,-183.5221 161.7586,-206.1841 190,-206.1841 190,-206.1841 190,-206.1841 355,-206.1841 385.8853,-206.1841 409.5315,-176.3958 423.0907,-153.6365\"/>\n<polygon fill=\"#000000\" stroke=\"#000000\" points=\"426.252,-155.1559 428.1133,-144.7259 420.154,-151.7187 426.252,-155.1559\"/>\n<text text-anchor=\"start\" x=\"266.5\" y=\"-209.9841\" font-family=\"Times,serif\" font-size=\"14.00\" fill=\"#000000\"> &#39;&#39;</text>\n</g>\n<!-- I&#45;&gt;A -->\n<g id=\"edge3\" class=\"edge\">\n<title>I&#45;&gt;A</title>\n<path fill=\"none\" stroke=\"#000000\" d=\"M124.2355,-144.2152C136.1148,-136.4423 152.8227,-125.51 166.4248,-116.6099\"/>\n<polygon fill=\"#000000\" stroke=\"#000000\" points=\"168.3813,-119.5124 174.8328,-111.1083 164.5486,-113.6548 168.3813,-119.5124\"/>\n<text text-anchor=\"start\" x=\"145\" y=\"-132.9841\" font-family=\"Times,serif\" font-size=\"14.00\" fill=\"#000000\"> &#39;&#39;</text>\n</g>\n<!-- E -->\n<g id=\"node7\" class=\"node\">\n<title>E</title>\n<ellipse fill=\"#ff0000\" stroke=\"#000000\" cx=\"355\" cy=\"-47.1841\" rx=\"18\" ry=\"18\"/>\n<text text-anchor=\"middle\" x=\"355\" y=\"-43.4841\" font-family=\"Times,serif\" font-size=\"14.00\" fill=\"#ffffff\">E</text>\n</g>\n<!-- E&#45;&gt;G -->\n<g id=\"edge11\" class=\"edge\">\n<title>E&#45;&gt;G</title>\n<path fill=\"none\" stroke=\"#000000\" d=\"M368.0141,-60.1981C380.8858,-73.0699 400.771,-92.9551 415.7164,-107.9004\"/>\n<polygon fill=\"#000000\" stroke=\"#000000\" points=\"413.4723,-110.6061 423.0182,-115.2023 418.422,-105.6563 413.4723,-110.6061\"/>\n<text text-anchor=\"start\" x=\"391\" y=\"-93.9841\" font-family=\"Times,serif\" font-size=\"14.00\" fill=\"#000000\"> &#39;&#39;</text>\n</g>\n<!-- E&#45;&gt;A -->\n<g id=\"edge12\" class=\"edge\">\n<title>E&#45;&gt;A</title>\n<path fill=\"none\" stroke=\"#000000\" d=\"M342.047,-34.5342C322.2855,-16.8399 283.6705,11.3735 253,-5.1841 226.1059,-19.703 208.8291,-51.2626 199.2962,-74.245\"/>\n<polygon fill=\"#000000\" stroke=\"#000000\" points=\"195.9418,-73.2133 195.5667,-83.8015 202.4628,-75.7582 195.9418,-73.2133\"/>\n<text text-anchor=\"start\" x=\"266.5\" y=\"-8.9841\" font-family=\"Times,serif\" font-size=\"14.00\" fill=\"#000000\"> &#39;&#39;</text>\n</g>\n<!-- C&#45;&gt;E -->\n<g id=\"edge8\" class=\"edge\">\n<title>C&#45;&gt;E</title>\n<path fill=\"none\" stroke=\"#000000\" d=\"M289.2267,-47.1841C300.1242,-47.1841 314.2054,-47.1841 326.5413,-47.1841\"/>\n<polygon fill=\"#000000\" stroke=\"#000000\" points=\"326.8089,-50.6842 336.8088,-47.1841 326.8088,-43.6842 326.8089,-50.6842\"/>\n<text text-anchor=\"start\" x=\"307\" y=\"-50.9841\" font-family=\"Times,serif\" font-size=\"14.00\" fill=\"#000000\"> 0</text>\n</g>\n</g>\n</svg>\n"
              }
            ],
            "_view_module": "@jupyter-widgets/output",
            "_model_module_version": "1.0.0",
            "_view_count": null,
            "_view_module_version": "1.0.0",
            "layout": "IPY_MODEL_1bd2cc8458534ceb92797d6dab610bcf",
            "_model_module": "@jupyter-widgets/output"
          }
        },
        "e2b357b6def44c269a32d1a5a458c9b9": {
          "model_module": "@jupyter-widgets/output",
          "model_name": "OutputModel",
          "state": {
            "_view_name": "OutputView",
            "msg_id": "",
            "_dom_classes": [],
            "_model_name": "OutputModel",
            "outputs": [
              {
                "output_type": "display_data",
                "metadata": {
                  "tags": []
                },
                "text/plain": "<graphviz.files.Source at 0x7f22118b7c88>",
                "image/svg+xml": "<?xml version=\"1.0\" encoding=\"UTF-8\" standalone=\"no\"?>\n<!DOCTYPE svg PUBLIC \"-//W3C//DTD SVG 1.1//EN\"\n \"http://www.w3.org/Graphics/SVG/1.1/DTD/svg11.dtd\">\n<!-- Generated by graphviz version 2.40.1 (20161225.0304)\n -->\n<!-- Title: %3 Pages: 1 -->\n<svg width=\"139pt\" height=\"47pt\"\n viewBox=\"0.00 0.00 139.00 47.00\" xmlns=\"http://www.w3.org/2000/svg\" xmlns:xlink=\"http://www.w3.org/1999/xlink\">\n<g id=\"graph0\" class=\"graph\" transform=\"scale(1 1) rotate(0) translate(4 43)\">\n<title>%3</title>\n<polygon fill=\"#ffffff\" stroke=\"transparent\" points=\"-4,4 -4,-43 135,-43 135,4 -4,4\"/>\n<!-- feed -->\n<g id=\"node1\" class=\"node\">\n<title>feed</title>\n<polygon fill=\"none\" stroke=\"#000000\" points=\"8.5,-3.5 8.5,-34.5 80.5,-34.5 80.5,-3.5 8.5,-3.5\"/>\n<text text-anchor=\"start\" x=\"17.5\" y=\"-15.9\" font-family=\"Times,serif\" font-size=\"12.00\" fill=\"#000000\">110100010</text>\n<polygon fill=\"none\" stroke=\"#000000\" points=\"80.5,-3.5 80.5,-34.5 105.5,-34.5 105.5,-3.5 80.5,-3.5\"/>\n<text text-anchor=\"start\" x=\"89.5\" y=\"-15.9\" font-family=\"Times,serif\" font-size=\"12.00\" fill=\"#000000\"> &#160;</text>\n<polygon fill=\"none\" stroke=\"#000000\" points=\"105.5,-3.5 105.5,-34.5 123.5,-34.5 123.5,-3.5 105.5,-3.5\"/>\n</g>\n</g>\n</svg>\n"
              }
            ],
            "_view_module": "@jupyter-widgets/output",
            "_model_module_version": "1.0.0",
            "_view_count": null,
            "_view_module_version": "1.0.0",
            "layout": "IPY_MODEL_4a2e99bf38da40a3a3c8315d5477c0a7",
            "_model_module": "@jupyter-widgets/output"
          }
        },
        "93802016c94548daad3bde8efe77074b": {
          "model_module": "@jupyter-widgets/controls",
          "model_name": "HBoxModel",
          "state": {
            "_view_name": "HBoxView",
            "_dom_classes": [],
            "_model_name": "HBoxModel",
            "_view_module": "@jupyter-widgets/controls",
            "_model_module_version": "1.5.0",
            "_view_count": null,
            "_view_module_version": "1.5.0",
            "box_style": "",
            "layout": "IPY_MODEL_09588c3b2ce04b08854c1832481c8279",
            "_model_module": "@jupyter-widgets/controls",
            "children": [
              "IPY_MODEL_65183b681d6d40afb1622723184f6808",
              "IPY_MODEL_bd43673f14f04816b05ec6baa8ef1b31",
              "IPY_MODEL_b891d541e1fd496b96d1450d703554ea",
              "IPY_MODEL_45d5b4d4fbc74b3fb38c425d2ac26ffd"
            ]
          }
        },
        "0a2525dfbca54d018697f56222161004": {
          "model_module": "@jupyter-widgets/base",
          "model_name": "LayoutModel",
          "state": {
            "_view_name": "LayoutView",
            "grid_template_rows": null,
            "right": null,
            "justify_content": null,
            "_view_module": "@jupyter-widgets/base",
            "overflow": null,
            "_model_module_version": "1.2.0",
            "_view_count": null,
            "flex_flow": null,
            "width": null,
            "min_width": null,
            "border": null,
            "align_items": null,
            "bottom": null,
            "_model_module": "@jupyter-widgets/base",
            "top": null,
            "grid_column": null,
            "overflow_y": null,
            "overflow_x": null,
            "grid_auto_flow": null,
            "grid_area": null,
            "grid_template_columns": null,
            "flex": null,
            "_model_name": "LayoutModel",
            "justify_items": null,
            "grid_row": null,
            "max_height": null,
            "align_content": null,
            "visibility": null,
            "align_self": null,
            "height": null,
            "min_height": null,
            "padding": null,
            "grid_auto_rows": null,
            "grid_gap": null,
            "max_width": null,
            "order": null,
            "_view_module_version": "1.2.0",
            "grid_template_areas": null,
            "object_position": null,
            "object_fit": null,
            "grid_auto_columns": null,
            "margin": null,
            "display": null,
            "left": null
          }
        },
        "978f61125296487d917baf872464c434": {
          "model_module": "@jupyter-widgets/controls",
          "model_name": "TextModel",
          "state": {
            "_view_name": "TextView",
            "style": "IPY_MODEL_be292f27a5c841dfaa0195ab05637a42",
            "_dom_classes": [],
            "description": "Input:",
            "_model_name": "TextModel",
            "placeholder": "Sigma: {0,1}",
            "_view_module": "@jupyter-widgets/controls",
            "_model_module_version": "1.5.0",
            "value": "110100010",
            "_view_count": null,
            "disabled": true,
            "_view_module_version": "1.5.0",
            "continuous_update": true,
            "description_tooltip": null,
            "_model_module": "@jupyter-widgets/controls",
            "layout": "IPY_MODEL_9493163d5227434a993337e543d861a6"
          }
        },
        "2ea2da6131ed4e3192fbd43ce593841f": {
          "model_module": "@jupyter-widgets/controls",
          "model_name": "ButtonModel",
          "state": {
            "_view_name": "ButtonView",
            "style": "IPY_MODEL_8df1e02414b6481597332046cd3f3d7e",
            "_dom_classes": [],
            "description": "Change Input",
            "_model_name": "ButtonModel",
            "button_style": "primary",
            "_view_module": "@jupyter-widgets/controls",
            "_model_module_version": "1.5.0",
            "tooltip": "",
            "_view_count": null,
            "disabled": false,
            "_view_module_version": "1.5.0",
            "layout": "IPY_MODEL_9cb74c7868144b359518b408171e1fd3",
            "_model_module": "@jupyter-widgets/controls",
            "icon": ""
          }
        },
        "09588c3b2ce04b08854c1832481c8279": {
          "model_module": "@jupyter-widgets/base",
          "model_name": "LayoutModel",
          "state": {
            "_view_name": "LayoutView",
            "grid_template_rows": null,
            "right": null,
            "justify_content": null,
            "_view_module": "@jupyter-widgets/base",
            "overflow": null,
            "_model_module_version": "1.2.0",
            "_view_count": null,
            "flex_flow": null,
            "width": null,
            "min_width": null,
            "border": null,
            "align_items": null,
            "bottom": null,
            "_model_module": "@jupyter-widgets/base",
            "top": null,
            "grid_column": null,
            "overflow_y": null,
            "overflow_x": null,
            "grid_auto_flow": null,
            "grid_area": null,
            "grid_template_columns": null,
            "flex": null,
            "_model_name": "LayoutModel",
            "justify_items": null,
            "grid_row": null,
            "max_height": null,
            "align_content": null,
            "visibility": null,
            "align_self": null,
            "height": null,
            "min_height": null,
            "padding": null,
            "grid_auto_rows": null,
            "grid_gap": null,
            "max_width": null,
            "order": null,
            "_view_module_version": "1.2.0",
            "grid_template_areas": null,
            "object_position": null,
            "object_fit": null,
            "grid_auto_columns": null,
            "margin": null,
            "display": null,
            "left": null
          }
        },
        "65183b681d6d40afb1622723184f6808": {
          "model_module": "@jupyter-widgets/controls",
          "model_name": "PlayModel",
          "state": {
            "_view_name": "PlayView",
            "style": "IPY_MODEL_b22993a938c2491289f863278920da1b",
            "interval": 950,
            "_dom_classes": [],
            "description": "Press play",
            "_model_name": "PlayModel",
            "max": 27,
            "_view_module": "@jupyter-widgets/controls",
            "_model_module_version": "1.5.0",
            "value": 27,
            "_view_count": null,
            "disabled": false,
            "_repeat": false,
            "_view_module_version": "1.5.0",
            "show_repeat": true,
            "min": 0,
            "_playing": false,
            "step": 1,
            "description_tooltip": null,
            "_model_module": "@jupyter-widgets/controls",
            "layout": "IPY_MODEL_af2a9980521d415aa00fcf1f04469bed"
          }
        },
        "bd43673f14f04816b05ec6baa8ef1b31": {
          "model_module": "@jupyter-widgets/controls",
          "model_name": "ButtonModel",
          "state": {
            "_view_name": "ButtonView",
            "style": "IPY_MODEL_6e4fe5e65fb34ae5bbb8b6a373c9e8b0",
            "_dom_classes": [],
            "description": "",
            "_model_name": "ButtonModel",
            "button_style": "",
            "_view_module": "@jupyter-widgets/controls",
            "_model_module_version": "1.5.0",
            "tooltip": "",
            "_view_count": null,
            "disabled": false,
            "_view_module_version": "1.5.0",
            "layout": "IPY_MODEL_c888bf4396904398bafcf7880200ca07",
            "_model_module": "@jupyter-widgets/controls",
            "icon": "step-backward"
          }
        },
        "b891d541e1fd496b96d1450d703554ea": {
          "model_module": "@jupyter-widgets/controls",
          "model_name": "ButtonModel",
          "state": {
            "_view_name": "ButtonView",
            "style": "IPY_MODEL_bd7b6d480ef6446cb16d9e714425e967",
            "_dom_classes": [],
            "description": "",
            "_model_name": "ButtonModel",
            "button_style": "",
            "_view_module": "@jupyter-widgets/controls",
            "_model_module_version": "1.5.0",
            "tooltip": "",
            "_view_count": null,
            "disabled": true,
            "_view_module_version": "1.5.0",
            "layout": "IPY_MODEL_ef085020344046108925535974c04f9c",
            "_model_module": "@jupyter-widgets/controls",
            "icon": "step-forward"
          }
        },
        "45d5b4d4fbc74b3fb38c425d2ac26ffd": {
          "model_module": "@jupyter-widgets/controls",
          "model_name": "IntSliderModel",
          "state": {
            "_view_name": "IntSliderView",
            "style": "IPY_MODEL_40698d854ab44cac9bb9235cd58139d1",
            "_dom_classes": [],
            "description": "Speed:",
            "step": 1,
            "_model_name": "IntSliderModel",
            "orientation": "horizontal",
            "max": 10,
            "_view_module": "@jupyter-widgets/controls",
            "_model_module_version": "1.5.0",
            "value": 1,
            "_view_count": null,
            "disabled": false,
            "_view_module_version": "1.5.0",
            "min": 1,
            "continuous_update": false,
            "readout_format": "d",
            "description_tooltip": null,
            "readout": true,
            "_model_module": "@jupyter-widgets/controls",
            "layout": "IPY_MODEL_598b785e4a5e43f09cdb306c2556b8e2"
          }
        },
        "be292f27a5c841dfaa0195ab05637a42": {
          "model_module": "@jupyter-widgets/controls",
          "model_name": "DescriptionStyleModel",
          "state": {
            "_view_name": "StyleView",
            "_model_name": "DescriptionStyleModel",
            "description_width": "",
            "_view_module": "@jupyter-widgets/base",
            "_model_module_version": "1.5.0",
            "_view_count": null,
            "_view_module_version": "1.2.0",
            "_model_module": "@jupyter-widgets/controls"
          }
        },
        "9493163d5227434a993337e543d861a6": {
          "model_module": "@jupyter-widgets/base",
          "model_name": "LayoutModel",
          "state": {
            "_view_name": "LayoutView",
            "grid_template_rows": null,
            "right": null,
            "justify_content": null,
            "_view_module": "@jupyter-widgets/base",
            "overflow": null,
            "_model_module_version": "1.2.0",
            "_view_count": null,
            "flex_flow": null,
            "width": "500px",
            "min_width": null,
            "border": null,
            "align_items": null,
            "bottom": null,
            "_model_module": "@jupyter-widgets/base",
            "top": null,
            "grid_column": null,
            "overflow_y": null,
            "overflow_x": null,
            "grid_auto_flow": null,
            "grid_area": null,
            "grid_template_columns": null,
            "flex": null,
            "_model_name": "LayoutModel",
            "justify_items": null,
            "grid_row": null,
            "max_height": null,
            "align_content": null,
            "visibility": null,
            "align_self": null,
            "height": null,
            "min_height": null,
            "padding": null,
            "grid_auto_rows": null,
            "grid_gap": null,
            "max_width": null,
            "order": null,
            "_view_module_version": "1.2.0",
            "grid_template_areas": null,
            "object_position": null,
            "object_fit": null,
            "grid_auto_columns": null,
            "margin": null,
            "display": null,
            "left": null
          }
        },
        "8df1e02414b6481597332046cd3f3d7e": {
          "model_module": "@jupyter-widgets/controls",
          "model_name": "ButtonStyleModel",
          "state": {
            "_view_name": "StyleView",
            "_model_name": "ButtonStyleModel",
            "_view_module": "@jupyter-widgets/base",
            "_model_module_version": "1.5.0",
            "_view_count": null,
            "button_color": null,
            "font_weight": "",
            "_view_module_version": "1.2.0",
            "_model_module": "@jupyter-widgets/controls"
          }
        },
        "9cb74c7868144b359518b408171e1fd3": {
          "model_module": "@jupyter-widgets/base",
          "model_name": "LayoutModel",
          "state": {
            "_view_name": "LayoutView",
            "grid_template_rows": null,
            "right": null,
            "justify_content": null,
            "_view_module": "@jupyter-widgets/base",
            "overflow": null,
            "_model_module_version": "1.2.0",
            "_view_count": null,
            "flex_flow": null,
            "width": null,
            "min_width": null,
            "border": null,
            "align_items": null,
            "bottom": null,
            "_model_module": "@jupyter-widgets/base",
            "top": null,
            "grid_column": null,
            "overflow_y": null,
            "overflow_x": null,
            "grid_auto_flow": null,
            "grid_area": null,
            "grid_template_columns": null,
            "flex": null,
            "_model_name": "LayoutModel",
            "justify_items": null,
            "grid_row": null,
            "max_height": null,
            "align_content": null,
            "visibility": null,
            "align_self": null,
            "height": null,
            "min_height": null,
            "padding": null,
            "grid_auto_rows": null,
            "grid_gap": null,
            "max_width": null,
            "order": null,
            "_view_module_version": "1.2.0",
            "grid_template_areas": null,
            "object_position": null,
            "object_fit": null,
            "grid_auto_columns": null,
            "margin": null,
            "display": null,
            "left": null
          }
        },
        "b22993a938c2491289f863278920da1b": {
          "model_module": "@jupyter-widgets/controls",
          "model_name": "DescriptionStyleModel",
          "state": {
            "_view_name": "StyleView",
            "_model_name": "DescriptionStyleModel",
            "description_width": "",
            "_view_module": "@jupyter-widgets/base",
            "_model_module_version": "1.5.0",
            "_view_count": null,
            "_view_module_version": "1.2.0",
            "_model_module": "@jupyter-widgets/controls"
          }
        },
        "af2a9980521d415aa00fcf1f04469bed": {
          "model_module": "@jupyter-widgets/base",
          "model_name": "LayoutModel",
          "state": {
            "_view_name": "LayoutView",
            "grid_template_rows": null,
            "right": null,
            "justify_content": null,
            "_view_module": "@jupyter-widgets/base",
            "overflow": null,
            "_model_module_version": "1.2.0",
            "_view_count": null,
            "flex_flow": null,
            "width": null,
            "min_width": null,
            "border": null,
            "align_items": null,
            "bottom": null,
            "_model_module": "@jupyter-widgets/base",
            "top": null,
            "grid_column": null,
            "overflow_y": null,
            "overflow_x": null,
            "grid_auto_flow": null,
            "grid_area": null,
            "grid_template_columns": null,
            "flex": null,
            "_model_name": "LayoutModel",
            "justify_items": null,
            "grid_row": null,
            "max_height": null,
            "align_content": null,
            "visibility": null,
            "align_self": null,
            "height": null,
            "min_height": null,
            "padding": null,
            "grid_auto_rows": null,
            "grid_gap": null,
            "max_width": null,
            "order": null,
            "_view_module_version": "1.2.0",
            "grid_template_areas": null,
            "object_position": null,
            "object_fit": null,
            "grid_auto_columns": null,
            "margin": null,
            "display": null,
            "left": null
          }
        },
        "6e4fe5e65fb34ae5bbb8b6a373c9e8b0": {
          "model_module": "@jupyter-widgets/controls",
          "model_name": "ButtonStyleModel",
          "state": {
            "_view_name": "StyleView",
            "_model_name": "ButtonStyleModel",
            "_view_module": "@jupyter-widgets/base",
            "_model_module_version": "1.5.0",
            "_view_count": null,
            "button_color": null,
            "font_weight": "",
            "_view_module_version": "1.2.0",
            "_model_module": "@jupyter-widgets/controls"
          }
        },
        "c888bf4396904398bafcf7880200ca07": {
          "model_module": "@jupyter-widgets/base",
          "model_name": "LayoutModel",
          "state": {
            "_view_name": "LayoutView",
            "grid_template_rows": null,
            "right": null,
            "justify_content": null,
            "_view_module": "@jupyter-widgets/base",
            "overflow": null,
            "_model_module_version": "1.2.0",
            "_view_count": null,
            "flex_flow": null,
            "width": "40px",
            "min_width": null,
            "border": null,
            "align_items": null,
            "bottom": null,
            "_model_module": "@jupyter-widgets/base",
            "top": null,
            "grid_column": null,
            "overflow_y": null,
            "overflow_x": null,
            "grid_auto_flow": null,
            "grid_area": null,
            "grid_template_columns": null,
            "flex": null,
            "_model_name": "LayoutModel",
            "justify_items": null,
            "grid_row": null,
            "max_height": null,
            "align_content": null,
            "visibility": null,
            "align_self": null,
            "height": null,
            "min_height": null,
            "padding": null,
            "grid_auto_rows": null,
            "grid_gap": null,
            "max_width": null,
            "order": null,
            "_view_module_version": "1.2.0",
            "grid_template_areas": null,
            "object_position": null,
            "object_fit": null,
            "grid_auto_columns": null,
            "margin": null,
            "display": null,
            "left": null
          }
        },
        "bd7b6d480ef6446cb16d9e714425e967": {
          "model_module": "@jupyter-widgets/controls",
          "model_name": "ButtonStyleModel",
          "state": {
            "_view_name": "StyleView",
            "_model_name": "ButtonStyleModel",
            "_view_module": "@jupyter-widgets/base",
            "_model_module_version": "1.5.0",
            "_view_count": null,
            "button_color": null,
            "font_weight": "",
            "_view_module_version": "1.2.0",
            "_model_module": "@jupyter-widgets/controls"
          }
        },
        "ef085020344046108925535974c04f9c": {
          "model_module": "@jupyter-widgets/base",
          "model_name": "LayoutModel",
          "state": {
            "_view_name": "LayoutView",
            "grid_template_rows": null,
            "right": null,
            "justify_content": null,
            "_view_module": "@jupyter-widgets/base",
            "overflow": null,
            "_model_module_version": "1.2.0",
            "_view_count": null,
            "flex_flow": null,
            "width": "40px",
            "min_width": null,
            "border": null,
            "align_items": null,
            "bottom": null,
            "_model_module": "@jupyter-widgets/base",
            "top": null,
            "grid_column": null,
            "overflow_y": null,
            "overflow_x": null,
            "grid_auto_flow": null,
            "grid_area": null,
            "grid_template_columns": null,
            "flex": null,
            "_model_name": "LayoutModel",
            "justify_items": null,
            "grid_row": null,
            "max_height": null,
            "align_content": null,
            "visibility": null,
            "align_self": null,
            "height": null,
            "min_height": null,
            "padding": null,
            "grid_auto_rows": null,
            "grid_gap": null,
            "max_width": null,
            "order": null,
            "_view_module_version": "1.2.0",
            "grid_template_areas": null,
            "object_position": null,
            "object_fit": null,
            "grid_auto_columns": null,
            "margin": null,
            "display": null,
            "left": null
          }
        },
        "40698d854ab44cac9bb9235cd58139d1": {
          "model_module": "@jupyter-widgets/controls",
          "model_name": "SliderStyleModel",
          "state": {
            "_view_name": "StyleView",
            "handle_color": null,
            "_model_name": "SliderStyleModel",
            "description_width": "",
            "_view_module": "@jupyter-widgets/base",
            "_model_module_version": "1.5.0",
            "_view_count": null,
            "_view_module_version": "1.2.0",
            "_model_module": "@jupyter-widgets/controls"
          }
        },
        "598b785e4a5e43f09cdb306c2556b8e2": {
          "model_module": "@jupyter-widgets/base",
          "model_name": "LayoutModel",
          "state": {
            "_view_name": "LayoutView",
            "grid_template_rows": null,
            "right": null,
            "justify_content": null,
            "_view_module": "@jupyter-widgets/base",
            "overflow": null,
            "_model_module_version": "1.2.0",
            "_view_count": null,
            "flex_flow": null,
            "width": null,
            "min_width": null,
            "border": null,
            "align_items": null,
            "bottom": null,
            "_model_module": "@jupyter-widgets/base",
            "top": null,
            "grid_column": null,
            "overflow_y": null,
            "overflow_x": null,
            "grid_auto_flow": null,
            "grid_area": null,
            "grid_template_columns": null,
            "flex": null,
            "_model_name": "LayoutModel",
            "justify_items": null,
            "grid_row": null,
            "max_height": null,
            "align_content": null,
            "visibility": null,
            "align_self": null,
            "height": null,
            "min_height": null,
            "padding": null,
            "grid_auto_rows": null,
            "grid_gap": null,
            "max_width": null,
            "order": null,
            "_view_module_version": "1.2.0",
            "grid_template_areas": null,
            "object_position": null,
            "object_fit": null,
            "grid_auto_columns": null,
            "margin": null,
            "display": null,
            "left": null
          }
        },
        "1bd2cc8458534ceb92797d6dab610bcf": {
          "model_module": "@jupyter-widgets/base",
          "model_name": "LayoutModel",
          "state": {
            "_view_name": "LayoutView",
            "grid_template_rows": null,
            "right": null,
            "justify_content": null,
            "_view_module": "@jupyter-widgets/base",
            "overflow": null,
            "_model_module_version": "1.2.0",
            "_view_count": null,
            "flex_flow": null,
            "width": null,
            "min_width": null,
            "border": null,
            "align_items": null,
            "bottom": null,
            "_model_module": "@jupyter-widgets/base",
            "top": null,
            "grid_column": null,
            "overflow_y": null,
            "overflow_x": null,
            "grid_auto_flow": null,
            "grid_area": null,
            "grid_template_columns": null,
            "flex": null,
            "_model_name": "LayoutModel",
            "justify_items": null,
            "grid_row": null,
            "max_height": null,
            "align_content": null,
            "visibility": null,
            "align_self": null,
            "height": null,
            "min_height": null,
            "padding": null,
            "grid_auto_rows": null,
            "grid_gap": null,
            "max_width": null,
            "order": null,
            "_view_module_version": "1.2.0",
            "grid_template_areas": null,
            "object_position": null,
            "object_fit": null,
            "grid_auto_columns": null,
            "margin": null,
            "display": null,
            "left": null
          }
        },
        "4a2e99bf38da40a3a3c8315d5477c0a7": {
          "model_module": "@jupyter-widgets/base",
          "model_name": "LayoutModel",
          "state": {
            "_view_name": "LayoutView",
            "grid_template_rows": null,
            "right": null,
            "justify_content": null,
            "_view_module": "@jupyter-widgets/base",
            "overflow": null,
            "_model_module_version": "1.2.0",
            "_view_count": null,
            "flex_flow": null,
            "width": null,
            "min_width": null,
            "border": null,
            "align_items": null,
            "bottom": null,
            "_model_module": "@jupyter-widgets/base",
            "top": null,
            "grid_column": null,
            "overflow_y": null,
            "overflow_x": null,
            "grid_auto_flow": null,
            "grid_area": null,
            "grid_template_columns": null,
            "flex": null,
            "_model_name": "LayoutModel",
            "justify_items": null,
            "grid_row": null,
            "max_height": null,
            "align_content": null,
            "visibility": null,
            "align_self": null,
            "height": null,
            "min_height": null,
            "padding": null,
            "grid_auto_rows": null,
            "grid_gap": null,
            "max_width": null,
            "order": null,
            "_view_module_version": "1.2.0",
            "grid_template_areas": null,
            "object_position": null,
            "object_fit": null,
            "grid_auto_columns": null,
            "margin": null,
            "display": null,
            "left": null
          }
        },
        "dfcdc480d3984cd884798e5f549aa7c0": {
          "model_module": "@jupyter-widgets/controls",
          "model_name": "VBoxModel",
          "state": {
            "_view_name": "VBoxView",
            "_dom_classes": [
              "widget-interact"
            ],
            "_model_name": "VBoxModel",
            "_view_module": "@jupyter-widgets/controls",
            "_model_module_version": "1.5.0",
            "_view_count": null,
            "_view_module_version": "1.5.0",
            "box_style": "",
            "layout": "IPY_MODEL_40c04b8f30784a0c9b1eb516a6768c50",
            "_model_module": "@jupyter-widgets/controls",
            "children": [
              "IPY_MODEL_d651525a6a574e418f473b15635a372c",
              "IPY_MODEL_b80496ddf06e4b1081255fdb0c3836e4",
              "IPY_MODEL_ac5bf4b5bad1463cb6fa3c25a6b3e71a",
              "IPY_MODEL_848d942c0e1d42f698626c57b9f2bb69"
            ]
          }
        },
        "40c04b8f30784a0c9b1eb516a6768c50": {
          "model_module": "@jupyter-widgets/base",
          "model_name": "LayoutModel",
          "state": {
            "_view_name": "LayoutView",
            "grid_template_rows": null,
            "right": null,
            "justify_content": null,
            "_view_module": "@jupyter-widgets/base",
            "overflow": null,
            "_model_module_version": "1.2.0",
            "_view_count": null,
            "flex_flow": null,
            "width": null,
            "min_width": null,
            "border": null,
            "align_items": null,
            "bottom": null,
            "_model_module": "@jupyter-widgets/base",
            "top": null,
            "grid_column": null,
            "overflow_y": null,
            "overflow_x": null,
            "grid_auto_flow": null,
            "grid_area": null,
            "grid_template_columns": null,
            "flex": null,
            "_model_name": "LayoutModel",
            "justify_items": null,
            "grid_row": null,
            "max_height": null,
            "align_content": null,
            "visibility": null,
            "align_self": null,
            "height": null,
            "min_height": null,
            "padding": null,
            "grid_auto_rows": null,
            "grid_gap": null,
            "max_width": null,
            "order": null,
            "_view_module_version": "1.2.0",
            "grid_template_areas": null,
            "object_position": null,
            "object_fit": null,
            "grid_auto_columns": null,
            "margin": null,
            "display": null,
            "left": null
          }
        },
        "d651525a6a574e418f473b15635a372c": {
          "model_module": "@jupyter-widgets/controls",
          "model_name": "DropdownModel",
          "state": {
            "_options_labels": [
              "N1",
              "N2"
            ],
            "_view_name": "DropdownView",
            "style": "IPY_MODEL_bd116f66644d4d6da446378433650d20",
            "_dom_classes": [],
            "description": "N",
            "_model_name": "DropdownModel",
            "index": 0,
            "_view_module": "@jupyter-widgets/controls",
            "_model_module_version": "1.5.0",
            "_view_count": null,
            "disabled": false,
            "_view_module_version": "1.5.0",
            "description_tooltip": null,
            "_model_module": "@jupyter-widgets/controls",
            "layout": "IPY_MODEL_6a9270dc4ac44766bb552a8712113a22"
          }
        },
        "b80496ddf06e4b1081255fdb0c3836e4": {
          "model_module": "@jupyter-widgets/controls",
          "model_name": "TextModel",
          "state": {
            "_view_name": "TextView",
            "style": "IPY_MODEL_9c6548dc879a491d93c1a6b252a43dfd",
            "_dom_classes": [],
            "description": "s",
            "_model_name": "TextModel",
            "placeholder": "​",
            "_view_module": "@jupyter-widgets/controls",
            "_model_module_version": "1.5.0",
            "value": "0010110",
            "_view_count": null,
            "disabled": false,
            "_view_module_version": "1.5.0",
            "continuous_update": true,
            "description_tooltip": null,
            "_model_module": "@jupyter-widgets/controls",
            "layout": "IPY_MODEL_72f7b4402d7748ed828848dbfe1b6557"
          }
        },
        "ac5bf4b5bad1463cb6fa3c25a6b3e71a": {
          "model_module": "@jupyter-widgets/controls",
          "model_name": "IntSliderModel",
          "state": {
            "_view_name": "IntSliderView",
            "style": "IPY_MODEL_f5ee0aacb5dd478dbf902d4af6dcedb4",
            "_dom_classes": [],
            "description": "n",
            "step": 1,
            "_model_name": "IntSliderModel",
            "orientation": "horizontal",
            "max": 32,
            "_view_module": "@jupyter-widgets/controls",
            "_model_module_version": "1.5.0",
            "value": 16,
            "_view_count": null,
            "disabled": false,
            "_view_module_version": "1.5.0",
            "min": 0,
            "continuous_update": true,
            "readout_format": "d",
            "description_tooltip": null,
            "readout": true,
            "_model_module": "@jupyter-widgets/controls",
            "layout": "IPY_MODEL_41490afa97ce40ad8ab245524c36095c"
          }
        },
        "848d942c0e1d42f698626c57b9f2bb69": {
          "model_module": "@jupyter-widgets/output",
          "model_name": "OutputModel",
          "state": {
            "_view_name": "OutputView",
            "msg_id": "",
            "_dom_classes": [],
            "_model_name": "OutputModel",
            "outputs": [
              {
                "output_type": "stream",
                "metadata": {
                  "tags": []
                },
                "text": "string =  0010110\nStates reached =  {'S0', 'I'}\nStates reached =  {'S0', 'I'}\nStates reached =  {'S01', 'I'}\nStates reached =  {'S0', 'I', 'S010'}\nStates reached =  {'S01', 'I', 'F'}\nStates reached =  {'I'}\nStates reached =  {'S0', 'I'}\n",
                "stream": "stdout"
              }
            ],
            "_view_module": "@jupyter-widgets/output",
            "_model_module_version": "1.0.0",
            "_view_count": null,
            "_view_module_version": "1.0.0",
            "layout": "IPY_MODEL_743b6e3fd306416ab640ecb3334768bb",
            "_model_module": "@jupyter-widgets/output"
          }
        },
        "bd116f66644d4d6da446378433650d20": {
          "model_module": "@jupyter-widgets/controls",
          "model_name": "DescriptionStyleModel",
          "state": {
            "_view_name": "StyleView",
            "_model_name": "DescriptionStyleModel",
            "description_width": "",
            "_view_module": "@jupyter-widgets/base",
            "_model_module_version": "1.5.0",
            "_view_count": null,
            "_view_module_version": "1.2.0",
            "_model_module": "@jupyter-widgets/controls"
          }
        },
        "6a9270dc4ac44766bb552a8712113a22": {
          "model_module": "@jupyter-widgets/base",
          "model_name": "LayoutModel",
          "state": {
            "_view_name": "LayoutView",
            "grid_template_rows": null,
            "right": null,
            "justify_content": null,
            "_view_module": "@jupyter-widgets/base",
            "overflow": null,
            "_model_module_version": "1.2.0",
            "_view_count": null,
            "flex_flow": null,
            "width": null,
            "min_width": null,
            "border": null,
            "align_items": null,
            "bottom": null,
            "_model_module": "@jupyter-widgets/base",
            "top": null,
            "grid_column": null,
            "overflow_y": null,
            "overflow_x": null,
            "grid_auto_flow": null,
            "grid_area": null,
            "grid_template_columns": null,
            "flex": null,
            "_model_name": "LayoutModel",
            "justify_items": null,
            "grid_row": null,
            "max_height": null,
            "align_content": null,
            "visibility": null,
            "align_self": null,
            "height": null,
            "min_height": null,
            "padding": null,
            "grid_auto_rows": null,
            "grid_gap": null,
            "max_width": null,
            "order": null,
            "_view_module_version": "1.2.0",
            "grid_template_areas": null,
            "object_position": null,
            "object_fit": null,
            "grid_auto_columns": null,
            "margin": null,
            "display": null,
            "left": null
          }
        },
        "9c6548dc879a491d93c1a6b252a43dfd": {
          "model_module": "@jupyter-widgets/controls",
          "model_name": "DescriptionStyleModel",
          "state": {
            "_view_name": "StyleView",
            "_model_name": "DescriptionStyleModel",
            "description_width": "",
            "_view_module": "@jupyter-widgets/base",
            "_model_module_version": "1.5.0",
            "_view_count": null,
            "_view_module_version": "1.2.0",
            "_model_module": "@jupyter-widgets/controls"
          }
        },
        "72f7b4402d7748ed828848dbfe1b6557": {
          "model_module": "@jupyter-widgets/base",
          "model_name": "LayoutModel",
          "state": {
            "_view_name": "LayoutView",
            "grid_template_rows": null,
            "right": null,
            "justify_content": null,
            "_view_module": "@jupyter-widgets/base",
            "overflow": null,
            "_model_module_version": "1.2.0",
            "_view_count": null,
            "flex_flow": null,
            "width": null,
            "min_width": null,
            "border": null,
            "align_items": null,
            "bottom": null,
            "_model_module": "@jupyter-widgets/base",
            "top": null,
            "grid_column": null,
            "overflow_y": null,
            "overflow_x": null,
            "grid_auto_flow": null,
            "grid_area": null,
            "grid_template_columns": null,
            "flex": null,
            "_model_name": "LayoutModel",
            "justify_items": null,
            "grid_row": null,
            "max_height": null,
            "align_content": null,
            "visibility": null,
            "align_self": null,
            "height": null,
            "min_height": null,
            "padding": null,
            "grid_auto_rows": null,
            "grid_gap": null,
            "max_width": null,
            "order": null,
            "_view_module_version": "1.2.0",
            "grid_template_areas": null,
            "object_position": null,
            "object_fit": null,
            "grid_auto_columns": null,
            "margin": null,
            "display": null,
            "left": null
          }
        },
        "f5ee0aacb5dd478dbf902d4af6dcedb4": {
          "model_module": "@jupyter-widgets/controls",
          "model_name": "SliderStyleModel",
          "state": {
            "_view_name": "StyleView",
            "handle_color": null,
            "_model_name": "SliderStyleModel",
            "description_width": "",
            "_view_module": "@jupyter-widgets/base",
            "_model_module_version": "1.5.0",
            "_view_count": null,
            "_view_module_version": "1.2.0",
            "_model_module": "@jupyter-widgets/controls"
          }
        },
        "41490afa97ce40ad8ab245524c36095c": {
          "model_module": "@jupyter-widgets/base",
          "model_name": "LayoutModel",
          "state": {
            "_view_name": "LayoutView",
            "grid_template_rows": null,
            "right": null,
            "justify_content": null,
            "_view_module": "@jupyter-widgets/base",
            "overflow": null,
            "_model_module_version": "1.2.0",
            "_view_count": null,
            "flex_flow": null,
            "width": null,
            "min_width": null,
            "border": null,
            "align_items": null,
            "bottom": null,
            "_model_module": "@jupyter-widgets/base",
            "top": null,
            "grid_column": null,
            "overflow_y": null,
            "overflow_x": null,
            "grid_auto_flow": null,
            "grid_area": null,
            "grid_template_columns": null,
            "flex": null,
            "_model_name": "LayoutModel",
            "justify_items": null,
            "grid_row": null,
            "max_height": null,
            "align_content": null,
            "visibility": null,
            "align_self": null,
            "height": null,
            "min_height": null,
            "padding": null,
            "grid_auto_rows": null,
            "grid_gap": null,
            "max_width": null,
            "order": null,
            "_view_module_version": "1.2.0",
            "grid_template_areas": null,
            "object_position": null,
            "object_fit": null,
            "grid_auto_columns": null,
            "margin": null,
            "display": null,
            "left": null
          }
        },
        "743b6e3fd306416ab640ecb3334768bb": {
          "model_module": "@jupyter-widgets/base",
          "model_name": "LayoutModel",
          "state": {
            "_view_name": "LayoutView",
            "grid_template_rows": null,
            "right": null,
            "justify_content": null,
            "_view_module": "@jupyter-widgets/base",
            "overflow": null,
            "_model_module_version": "1.2.0",
            "_view_count": null,
            "flex_flow": null,
            "width": null,
            "min_width": null,
            "border": null,
            "align_items": null,
            "bottom": null,
            "_model_module": "@jupyter-widgets/base",
            "top": null,
            "grid_column": null,
            "overflow_y": null,
            "overflow_x": null,
            "grid_auto_flow": null,
            "grid_area": null,
            "grid_template_columns": null,
            "flex": null,
            "_model_name": "LayoutModel",
            "justify_items": null,
            "grid_row": null,
            "max_height": null,
            "align_content": null,
            "visibility": null,
            "align_self": null,
            "height": null,
            "min_height": null,
            "padding": null,
            "grid_auto_rows": null,
            "grid_gap": null,
            "max_width": null,
            "order": null,
            "_view_module_version": "1.2.0",
            "grid_template_areas": null,
            "object_position": null,
            "object_fit": null,
            "grid_auto_columns": null,
            "margin": null,
            "display": null,
            "left": null
          }
        }
      }
    },
    "colab": {
      "name": "04_1_NFA_Basics.ipynb",
      "provenance": []
    }
  },
  "cells": [
    {
      "cell_type": "markdown",
      "metadata": {
        "run_control": {
          "frozen": false,
          "read_only": false
        },
        "id": "8nnQGlj6xWzY"
      },
      "source": [
        "# NFA Basics\n",
        "\n",
        "You may wish to watch Ganesh's lecture on NFA a little, then play with the\n",
        "code below, and then finish watching."
      ]
    },
    {
      "cell_type": "code",
      "metadata": {
        "run_control": {
          "frozen": false,
          "read_only": false
        },
        "id": "M9K5VRe4xWze",
        "outputId": "5e087ad0-2065-4b22-c3d3-ae175ab24d77",
        "colab": {
          "base_uri": "https://localhost:8080/",
          "height": 321
        }
      },
      "source": [
        "# This Youtube video walks through this notebook\n",
        "from IPython.display import YouTubeVideo\n",
        "YouTubeVideo('xjFtLF95uBc')"
      ],
      "execution_count": 1,
      "outputs": [
        {
          "output_type": "execute_result",
          "data": {
            "text/html": [
              "\n",
              "        <iframe\n",
              "            width=\"400\"\n",
              "            height=\"300\"\n",
              "            src=\"https://www.youtube.com/embed/xjFtLF95uBc\"\n",
              "            frameborder=\"0\"\n",
              "            allowfullscreen\n",
              "        ></iframe>\n",
              "        "
            ],
            "text/plain": [
              "<IPython.lib.display.YouTubeVideo at 0x7f22120dcf28>"
            ],
            "image/jpeg": "[encoded data removed]"
          },
          "metadata": {
            "tags": []
          },
          "execution_count": 1
        }
      ]
    },
    {
      "cell_type": "code",
      "metadata": {
        "run_control": {
          "frozen": false,
          "read_only": false
        },
        "id": "XzChaACTxWze",
        "outputId": "4528deba-0237-4849-cf85-c3e517037f51",
        "colab": {
          "base_uri": "https://localhost:8080/"
        }
      },
      "source": [
        "#~~~~~~~~~~~~~~~~~~~~~~~~~~~~~~~~~~~~~~~~~~~~~~~~~~~~~~~\n",
        "import sys\n",
        "\n",
        "# -- Detect if in Own Install or in Colab\n",
        "try:\n",
        "    import google.colab\n",
        "    OWN_INSTALL = False\n",
        "except:\n",
        "    OWN_INSTALL = True\n",
        "    \n",
        "if OWN_INSTALL:\n",
        "    \n",
        "  #---- Leave these definitions ON if running on laptop\n",
        "  #---- Else turn OFF by putting them between ''' ... '''\n",
        "\n",
        "  sys.path[0:0] = ['../../../../..',  '../../../../../3rdparty',  \n",
        "                   '../../../..',  '../../../../3rdparty',  \n",
        "                   '../../..',     '../../../3rdparty', \n",
        "                   '../..',        '../../3rdparty',\n",
        "                   '..',           '../3rdparty' ]\n",
        "\n",
        "else: # In colab\n",
        "  ! if [ ! -d Jove ]; then git clone https://github.com/ganeshutah/Jove Jove; fi\n",
        "  sys.path.append('./Jove')\n",
        "  sys.path.append('./Jove/jove')\n",
        "\n",
        "# -- common imports --\n",
        "from jove.DotBashers import *\n",
        "from jove.Def_md2mc  import *\n",
        "from jove.Def_NFA    import *\n",
        "from jove.Def_DFA    import *\n",
        "from jove.AnimateNFA import *\n",
        "#~~~~~~~~~~~~~~~~~~~~~~~~~~~~~~~~~~~~~~~~~~~~~~~~~~~~~~~"
      ],
      "execution_count": 2,
      "outputs": [
        {
          "output_type": "stream",
          "text": [
            "Cloning into 'Jove'...\n",
            "remote: Enumerating objects: 4634, done.\u001b[K\n",
            "remote: Total 4634 (delta 0), reused 0 (delta 0), pack-reused 4634\u001b[K\n",
            "Receiving objects: 100% (4634/4634), 7.38 MiB | 4.88 MiB/s, done.\n",
            "Resolving deltas: 100% (3005/3005), done.\n",
            "You may use any of these help commands:\n",
            "help(ResetStNum)\n",
            "help(NxtStateStr)\n",
            "\n",
            "You may use any of these help commands:\n",
            "help(md2mc)\n",
            ".. and if you want to dig more, then ..\n",
            "help(default_line_attr)\n",
            "help(length_ok_input_items)\n",
            "help(union_line_attr_list_fld)\n",
            "help(extend_rsltdict)\n",
            "help(form_delta)\n",
            "help(get_machine_components)\n",
            "\n",
            "You may use any of these help commands:\n",
            "help(mkp_dfa)\n",
            "help(mk_dfa)\n",
            "help(totalize_dfa)\n",
            "help(addtosigma_delta)\n",
            "help(step_dfa)\n",
            "help(run_dfa)\n",
            "help(accepts_dfa)\n",
            "help(comp_dfa)\n",
            "help(union_dfa)\n",
            "help(intersect_dfa)\n",
            "help(pruneUnreach)\n",
            "help(iso_dfa)\n",
            "help(langeq_dfa)\n",
            "help(same_status)\n",
            "help(h_langeq_dfa)\n",
            "help(fixptDist)\n",
            "help(min_dfa)\n",
            "help(pairFR)\n",
            "help(state_combos)\n",
            "help(sepFinNonFin)\n",
            "help(bash_eql_classes)\n",
            "help(listminus)\n",
            "help(bash_1)\n",
            "help(mk_rep_eqc)\n",
            "help(F_of)\n",
            "help(rep_of_s)\n",
            "help(q0_of)\n",
            "help(Delta_of)\n",
            "help(mk_state_eqc_name)\n",
            "\n",
            "You may use any of these help commands:\n",
            "help(mk_nfa)\n",
            "help(totalize_nfa)\n",
            "help(step_nfa)\n",
            "help(run_nfa)\n",
            "help(ec_step_nfa)\n",
            "help(Eclosure)\n",
            "help(Echelp)\n",
            "help(accepts_nfa)\n",
            "help(nfa2dfa)\n",
            "help(n2d)\n",
            "help(inSets)\n",
            "help(rev_dfa)\n",
            "help(min_dfa_brz)\n",
            "\n",
            " \"help(AnimateNFA)\" gives you info on how to use animations with NFA \n"
          ],
          "name": "stdout"
        }
      ]
    },
    {
      "cell_type": "markdown",
      "metadata": {
        "id": "VGMr_r7exWzf"
      },
      "source": [
        "# This NFA checks whether a string has \"01\" in it."
      ]
    },
    {
      "cell_type": "code",
      "metadata": {
        "id": "jra840VHxWzf",
        "outputId": "f93b96c4-e5b2-4fef-f9aa-a4831c1e7f29",
        "colab": {
          "base_uri": "https://localhost:8080/"
        }
      },
      "source": [
        "nfahas01 = md2mc('''\n",
        "NFA \n",
        "I : 0 | 1 -> I\n",
        "I : '' -> A\n",
        "A : 0  -> B\n",
        "B : 1  -> C\n",
        "C : 0 | 1 -> C\n",
        "C : '' -> F\n",
        "''')"
      ],
      "execution_count": 3,
      "outputs": [
        {
          "output_type": "stream",
          "text": [
            "Generating LALR tables\n"
          ],
          "name": "stderr"
        }
      ]
    },
    {
      "cell_type": "markdown",
      "metadata": {
        "id": "G34-qKWVxWzf"
      },
      "source": [
        "## This example is highly worth studying via animations.\n",
        "\n",
        "Put it in animate mode, and then single-step to see the EClosure of states"
      ]
    },
    {
      "cell_type": "code",
      "metadata": {
        "id": "jz7Ml95jxWzg",
        "outputId": "ee08b4dc-2e68-46d0-82bf-d0ec48f7ee06",
        "colab": {
          "base_uri": "https://localhost:8080/",
          "height": 304,
          "referenced_widgets": [
            "82cb519df568446eae81f703057547de",
            "bc658d8e4cce437b96832f3af3d2b45b",
            "9ca87b73385f46e0801c713539093dec",
            "1d6ea6deecac41f7a20042c8926dd86d",
            "37d701e59f1048a19ad986404df168b3",
            "b32034a2fe1742fb8745be92d2f7ee69",
            "fe0685f1daa74712b0414782e38901e8",
            "3c97b7a6e042465eae143ad558bd90e9",
            "0ef467c6399c46ea8412f9742f35a575",
            "660934d627ea4bfab3ec0f749e456b22",
            "2a5f37e9caa84b3f8a932c5d58b7977a",
            "ee453e51412a4f1e8f3409bd8b371852",
            "f9d214ca6d714d35bc80b63c8c12ee04",
            "63f8f4c902e945738f02141cba83567a",
            "8f48d78705b74c5fbe6cee334c745d5a",
            "6dd8972150a94f8c9d2a85de1c643780",
            "d38666716b4944fd9ac4fceb5b23f3ac",
            "a374f8cc35014a77936a635636b56c66",
            "7fd2164b01ae46aca9182d047ae3b5b3",
            "62e012c8439d484cb163e0ead8322906",
            "8b0992208ed3495cbf6f8fead90d36e9",
            "87d98b5c9bac419cb93d990569bb0201",
            "d9e59f655a844c6181c89c7014c010d3",
            "86a73eee91ce4303b88b8fbce87d9216",
            "9e51057529d04d8cb74462e932168533",
            "416722d8bc1b469f9c97aa96598dc9bf",
            "53c9663b67a246cf96c14800cd122e61",
            "5bb67ca6971e478e8432a3ce844e4600"
          ]
        }
      },
      "source": [
        "AnimateNFA(nfahas01, FuseEdges=False)\n",
        "display(HTML('<link rel=\\\"stylesheet\\\" href=\\\"//stackpath.bootstrapcdn.com/font-awesome/4.7.0/css/font-awesome.min.css\\\"/>'))"
      ],
      "execution_count": 4,
      "outputs": [
        {
          "output_type": "display_data",
          "data": {
            "application/vnd.jupyter.widget-view+json": {
              "model_id": "82cb519df568446eae81f703057547de",
              "version_minor": 0,
              "version_major": 2
            },
            "text/plain": [
              "VBox(children=(HBox(children=(Text(value='', description='Input:', layout=Layout(width='500px'), placeholder='…"
            ]
          },
          "metadata": {
            "tags": []
          }
        },
        {
          "output_type": "display_data",
          "data": {
            "text/html": [
              "<link rel=\"stylesheet\" href=\"//stackpath.bootstrapcdn.com/font-awesome/4.7.0/css/font-awesome.min.css\"/>"
            ],
            "text/plain": [
              "<IPython.core.display.HTML object>"
            ]
          },
          "metadata": {
            "tags": []
          }
        }
      ]
    },
    {
      "cell_type": "markdown",
      "metadata": {
        "id": "jBfMBe5rxWzg"
      },
      "source": [
        "# This is an example from Figure 7.7 of the book.\n",
        "\n",
        "Presented in two different ways: one with a single initial state, and \n",
        "another with multiple initial states. Fig77 is the single initial state version, and\n",
        "Fig77a is with multiple initial states."
      ]
    },
    {
      "cell_type": "code",
      "metadata": {
        "id": "AgY_CRBMxWzg"
      },
      "source": [
        "Fig77 = md2mc('''NFA\n",
        "I : '' -> A, G\n",
        "A : '' -> B, C\n",
        "G : 1  -> F\n",
        "B : 1  -> D\n",
        "C : 0  -> E\n",
        "D : '' -> A, G\n",
        "E : '' -> A, G\n",
        "''')"
      ],
      "execution_count": 5,
      "outputs": []
    },
    {
      "cell_type": "code",
      "metadata": {
        "scrolled": true,
        "id": "LS2T3DUvxWzg",
        "outputId": "8c4bf4e8-873a-43a6-8ec0-bb0dd8f94d9f",
        "colab": {
          "base_uri": "https://localhost:8080/",
          "height": 457,
          "referenced_widgets": [
            "862f860f9f2f4591ae6a970975e754ae",
            "b83a624f0f6c47f3b51432fdd4230158",
            "b66039a3e4734849b0b342a625d58c7d",
            "dbec8700eae447799831d8dc13204eb8",
            "e2b357b6def44c269a32d1a5a458c9b9",
            "93802016c94548daad3bde8efe77074b",
            "0a2525dfbca54d018697f56222161004",
            "978f61125296487d917baf872464c434",
            "2ea2da6131ed4e3192fbd43ce593841f",
            "09588c3b2ce04b08854c1832481c8279",
            "65183b681d6d40afb1622723184f6808",
            "bd43673f14f04816b05ec6baa8ef1b31",
            "b891d541e1fd496b96d1450d703554ea",
            "45d5b4d4fbc74b3fb38c425d2ac26ffd",
            "be292f27a5c841dfaa0195ab05637a42",
            "9493163d5227434a993337e543d861a6",
            "8df1e02414b6481597332046cd3f3d7e",
            "9cb74c7868144b359518b408171e1fd3",
            "b22993a938c2491289f863278920da1b",
            "af2a9980521d415aa00fcf1f04469bed",
            "6e4fe5e65fb34ae5bbb8b6a373c9e8b0",
            "c888bf4396904398bafcf7880200ca07",
            "bd7b6d480ef6446cb16d9e714425e967",
            "ef085020344046108925535974c04f9c",
            "40698d854ab44cac9bb9235cd58139d1",
            "598b785e4a5e43f09cdb306c2556b8e2",
            "1bd2cc8458534ceb92797d6dab610bcf",
            "4a2e99bf38da40a3a3c8315d5477c0a7"
          ]
        }
      },
      "source": [
        "AnimateNFA(Fig77, FuseEdges=False)\n",
        "display(HTML('<link rel=\\\"stylesheet\\\" href=\\\"//stackpath.bootstrapcdn.com/font-awesome/4.7.0/css/font-awesome.min.css\\\"/>'))"
      ],
      "execution_count": 6,
      "outputs": [
        {
          "output_type": "display_data",
          "data": {
            "application/vnd.jupyter.widget-view+json": {
              "model_id": "862f860f9f2f4591ae6a970975e754ae",
              "version_minor": 0,
              "version_major": 2
            },
            "text/plain": [
              "VBox(children=(HBox(children=(Text(value='', description='Input:', layout=Layout(width='500px'), placeholder='…"
            ]
          },
          "metadata": {
            "tags": []
          }
        },
        {
          "output_type": "display_data",
          "data": {
            "text/html": [
              "<link rel=\"stylesheet\" href=\"//stackpath.bootstrapcdn.com/font-awesome/4.7.0/css/font-awesome.min.css\"/>"
            ],
            "text/plain": [
              "<IPython.core.display.HTML object>"
            ]
          },
          "metadata": {
            "tags": []
          }
        }
      ]
    },
    {
      "cell_type": "code",
      "metadata": {
        "id": "uxk12srsxWzh"
      },
      "source": [
        "Fig77a = md2mc('''NFA\n",
        "IA : '' -> B, C\n",
        "IG : 1  -> F\n",
        "B : 1  -> D\n",
        "C : 0  -> E\n",
        "D : '' -> IA, IG\n",
        "E : '' -> IA, IG\n",
        "''')"
      ],
      "execution_count": 7,
      "outputs": []
    },
    {
      "cell_type": "code",
      "metadata": {
        "id": "UsZZ0D88xWzh",
        "outputId": "5cc1030e-6035-481c-be9b-d9400df1d04e",
        "colab": {
          "base_uri": "https://localhost:8080/",
          "height": 302
        }
      },
      "source": [
        "dotObj_nfa(Fig77a)"
      ],
      "execution_count": 8,
      "outputs": [
        {
          "output_type": "execute_result",
          "data": {
            "text/plain": [
              "<graphviz.dot.Digraph at 0x7f2210d96128>"
            ],
            "image/svg+xml": "<?xml version=\"1.0\" encoding=\"UTF-8\" standalone=\"no\"?>\n<!DOCTYPE svg PUBLIC \"-//W3C//DTD SVG 1.1//EN\"\n \"http://www.w3.org/Graphics/SVG/1.1/DTD/svg11.dtd\">\n<!-- Generated by graphviz version 2.40.1 (20161225.0304)\n -->\n<!-- Title: %3 Pages: 1 -->\n<svg width=\"484pt\" height=\"211pt\"\n viewBox=\"0.00 0.00 484.19 211.00\" xmlns=\"http://www.w3.org/2000/svg\" xmlns:xlink=\"http://www.w3.org/1999/xlink\">\n<g id=\"graph0\" class=\"graph\" transform=\"scale(1 1) rotate(0) translate(4 207)\">\n<title>%3</title>\n<polygon fill=\"#ffffff\" stroke=\"transparent\" points=\"-4,4 -4,-207 480.1926,-207 480.1926,4 -4,4\"/>\n<!-- EMPTY -->\n<g id=\"node1\" class=\"node\">\n<title>EMPTY</title>\n</g>\n<!-- IA -->\n<g id=\"node4\" class=\"node\">\n<title>IA</title>\n<ellipse fill=\"none\" stroke=\"#000000\" cx=\"111.7982\" cy=\"-103\" rx=\"20.5982\" ry=\"20.5982\"/>\n<text text-anchor=\"middle\" x=\"111.7982\" y=\"-99.3\" font-family=\"Times,serif\" font-size=\"14.00\" fill=\"#000000\">IA</text>\n</g>\n<!-- EMPTY&#45;&gt;IA -->\n<g id=\"edge1\" class=\"edge\">\n<title>EMPTY&#45;&gt;IA</title>\n<path fill=\"none\" stroke=\"#000000\" d=\"M44.9835,-36.0263C58.028,-49.1018 75.7496,-66.8657 89.664,-80.8132\"/>\n<polygon fill=\"#000000\" stroke=\"#000000\" points=\"87.4081,-83.5076 96.9486,-88.1151 92.3638,-78.5637 87.4081,-83.5076\"/>\n</g>\n<!-- IG -->\n<g id=\"node6\" class=\"node\">\n<title>IG</title>\n<ellipse fill=\"none\" stroke=\"#000000\" cx=\"363.3945\" cy=\"-73\" rx=\"20.5982\" ry=\"20.5982\"/>\n<text text-anchor=\"middle\" x=\"363.3945\" y=\"-69.3\" font-family=\"Times,serif\" font-size=\"14.00\" fill=\"#000000\">IG</text>\n</g>\n<!-- EMPTY&#45;&gt;IG -->\n<g id=\"edge2\" class=\"edge\">\n<title>EMPTY&#45;&gt;IG</title>\n<path fill=\"none\" stroke=\"#000000\" d=\"M54.3581,-12.1406C70.9038,-9.0945 92.469,-6 111.7982,-6 111.7982,-6 111.7982,-6 279.5963,-6 307.1799,-6 330.8917,-28.4193 345.9811,-47.3206\"/>\n<polygon fill=\"#000000\" stroke=\"#000000\" points=\"343.2703,-49.5384 352.0982,-55.3965 348.8503,-45.3118 343.2703,-49.5384\"/>\n</g>\n<!-- B -->\n<g id=\"node2\" class=\"node\">\n<title>B</title>\n<ellipse fill=\"none\" stroke=\"#000000\" cx=\"195.5963\" cy=\"-157\" rx=\"18\" ry=\"18\"/>\n<text text-anchor=\"middle\" x=\"195.5963\" y=\"-153.3\" font-family=\"Times,serif\" font-size=\"14.00\" fill=\"#000000\">B</text>\n</g>\n<!-- D -->\n<g id=\"node3\" class=\"node\">\n<title>D</title>\n<ellipse fill=\"none\" stroke=\"#000000\" cx=\"279.5963\" cy=\"-157\" rx=\"18\" ry=\"18\"/>\n<text text-anchor=\"middle\" x=\"279.5963\" y=\"-153.3\" font-family=\"Times,serif\" font-size=\"14.00\" fill=\"#000000\">D</text>\n</g>\n<!-- B&#45;&gt;D -->\n<g id=\"edge6\" class=\"edge\">\n<title>B&#45;&gt;D</title>\n<path fill=\"none\" stroke=\"#000000\" d=\"M213.8231,-157C224.7205,-157 238.8017,-157 251.1376,-157\"/>\n<polygon fill=\"#000000\" stroke=\"#000000\" points=\"251.4052,-160.5001 261.4051,-157 251.4051,-153.5001 251.4052,-160.5001\"/>\n<text text-anchor=\"middle\" x=\"237.5963\" y=\"-160.8\" font-family=\"Times,serif\" font-size=\"14.00\" fill=\"#000000\">1 </text>\n</g>\n<!-- D&#45;&gt;IA -->\n<g id=\"edge8\" class=\"edge\">\n<title>D&#45;&gt;IA</title>\n<path fill=\"none\" stroke=\"#000000\" d=\"M264.5358,-167.175C244.147,-179.5856 206.9399,-197.3557 177.5963,-184 154.3559,-173.4222 136.7621,-149.9409 125.6415,-130.9699\"/>\n<polygon fill=\"#000000\" stroke=\"#000000\" points=\"128.6252,-129.1337 120.7059,-122.0955 122.5076,-132.5361 128.6252,-129.1337\"/>\n<text text-anchor=\"middle\" x=\"195.5963\" y=\"-191.8\" font-family=\"Times,serif\" font-size=\"14.00\" fill=\"#000000\">&#39;&#39; </text>\n</g>\n<!-- D&#45;&gt;IG -->\n<g id=\"edge9\" class=\"edge\">\n<title>D&#45;&gt;IG</title>\n<path fill=\"none\" stroke=\"#000000\" d=\"M292.3234,-144.2422C305.308,-131.2264 325.7129,-110.7723 341.3343,-95.1133\"/>\n<polygon fill=\"#000000\" stroke=\"#000000\" points=\"343.9806,-97.4164 348.5653,-87.8649 339.0249,-92.4726 343.9806,-97.4164\"/>\n<text text-anchor=\"middle\" x=\"320.0963\" y=\"-124.8\" font-family=\"Times,serif\" font-size=\"14.00\" fill=\"#000000\">&#39;&#39; </text>\n</g>\n<!-- IA&#45;&gt;B -->\n<g id=\"edge3\" class=\"edge\">\n<title>IA&#45;&gt;B</title>\n<path fill=\"none\" stroke=\"#000000\" d=\"M129.5696,-114.452C141.8266,-122.3505 158.2626,-132.9419 171.6694,-141.5814\"/>\n<polygon fill=\"#000000\" stroke=\"#000000\" points=\"170.0768,-144.7188 180.3786,-147.1936 173.8686,-138.8347 170.0768,-144.7188\"/>\n<text text-anchor=\"middle\" x=\"155.0963\" y=\"-137.8\" font-family=\"Times,serif\" font-size=\"14.00\" fill=\"#000000\">&#39;&#39; </text>\n</g>\n<!-- C -->\n<g id=\"node7\" class=\"node\">\n<title>C</title>\n<ellipse fill=\"none\" stroke=\"#000000\" cx=\"195.5963\" cy=\"-103\" rx=\"18\" ry=\"18\"/>\n<text text-anchor=\"middle\" x=\"195.5963\" y=\"-99.3\" font-family=\"Times,serif\" font-size=\"14.00\" fill=\"#000000\">C</text>\n</g>\n<!-- IA&#45;&gt;C -->\n<g id=\"edge4\" class=\"edge\">\n<title>IA&#45;&gt;C</title>\n<path fill=\"none\" stroke=\"#000000\" d=\"M132.944,-103C143.3789,-103 156.1115,-103 167.3663,-103\"/>\n<polygon fill=\"#000000\" stroke=\"#000000\" points=\"167.5809,-106.5001 177.5809,-103 167.5809,-99.5001 167.5809,-106.5001\"/>\n<text text-anchor=\"middle\" x=\"155.0963\" y=\"-106.8\" font-family=\"Times,serif\" font-size=\"14.00\" fill=\"#000000\">&#39;&#39; </text>\n</g>\n<!-- E -->\n<g id=\"node5\" class=\"node\">\n<title>E</title>\n<ellipse fill=\"none\" stroke=\"#000000\" cx=\"279.5963\" cy=\"-73\" rx=\"18\" ry=\"18\"/>\n<text text-anchor=\"middle\" x=\"279.5963\" y=\"-69.3\" font-family=\"Times,serif\" font-size=\"14.00\" fill=\"#000000\">E</text>\n</g>\n<!-- E&#45;&gt;IA -->\n<g id=\"edge10\" class=\"edge\">\n<title>E&#45;&gt;IA</title>\n<path fill=\"none\" stroke=\"#000000\" d=\"M262.2845,-66.8582C241.7091,-60.4897 206.5222,-52.555 177.5963,-61 162.4174,-65.4315 147.4064,-74.5484 135.5634,-83.1589\"/>\n<polygon fill=\"#000000\" stroke=\"#000000\" points=\"133.3792,-80.4228 127.5427,-89.2651 137.6194,-85.9925 133.3792,-80.4228\"/>\n<text text-anchor=\"middle\" x=\"195.5963\" y=\"-64.8\" font-family=\"Times,serif\" font-size=\"14.00\" fill=\"#000000\">&#39;&#39; </text>\n</g>\n<!-- E&#45;&gt;IG -->\n<g id=\"edge11\" class=\"edge\">\n<title>E&#45;&gt;IG</title>\n<path fill=\"none\" stroke=\"#000000\" d=\"M297.7793,-73C307.8773,-73 320.7158,-73 332.3538,-73\"/>\n<polygon fill=\"#000000\" stroke=\"#000000\" points=\"332.5912,-76.5001 342.5912,-73 332.5911,-69.5001 332.5912,-76.5001\"/>\n<text text-anchor=\"middle\" x=\"320.0963\" y=\"-76.8\" font-family=\"Times,serif\" font-size=\"14.00\" fill=\"#000000\">&#39;&#39; </text>\n</g>\n<!-- F -->\n<g id=\"node8\" class=\"node\">\n<title>F</title>\n<ellipse fill=\"none\" stroke=\"#000000\" cx=\"454.1926\" cy=\"-73\" rx=\"18\" ry=\"18\"/>\n<ellipse fill=\"none\" stroke=\"#000000\" cx=\"454.1926\" cy=\"-73\" rx=\"22\" ry=\"22\"/>\n<text text-anchor=\"middle\" x=\"454.1926\" y=\"-69.3\" font-family=\"Times,serif\" font-size=\"14.00\" fill=\"#000000\">F</text>\n</g>\n<!-- IG&#45;&gt;F -->\n<g id=\"edge5\" class=\"edge\">\n<title>IG&#45;&gt;F</title>\n<path fill=\"none\" stroke=\"#000000\" d=\"M384.4536,-73C395.5861,-73 409.4908,-73 421.9489,-73\"/>\n<polygon fill=\"#000000\" stroke=\"#000000\" points=\"421.9809,-76.5001 431.9809,-73 421.9809,-69.5001 421.9809,-76.5001\"/>\n<text text-anchor=\"middle\" x=\"408.1926\" y=\"-76.8\" font-family=\"Times,serif\" font-size=\"14.00\" fill=\"#000000\">1 </text>\n</g>\n<!-- C&#45;&gt;E -->\n<g id=\"edge7\" class=\"edge\">\n<title>C&#45;&gt;E</title>\n<path fill=\"none\" stroke=\"#000000\" d=\"M212.595,-96.9291C224.2083,-92.7814 239.8314,-87.2018 253.07,-82.4737\"/>\n<polygon fill=\"#000000\" stroke=\"#000000\" points=\"254.3827,-85.7214 262.6229,-79.0619 252.0283,-79.1292 254.3827,-85.7214\"/>\n<text text-anchor=\"middle\" x=\"237.5963\" y=\"-93.8\" font-family=\"Times,serif\" font-size=\"14.00\" fill=\"#000000\">0 </text>\n</g>\n</g>\n</svg>\n"
          },
          "metadata": {
            "tags": []
          },
          "execution_count": 8
        }
      ]
    },
    {
      "cell_type": "code",
      "metadata": {
        "id": "plU5atFwxWzh",
        "outputId": "d16460de-9854-40a7-a089-40bcc3f0fffe",
        "colab": {
          "base_uri": "https://localhost:8080/",
          "height": 357
        }
      },
      "source": [
        "dotObj_dfa(nfa2dfa(Fig77a, STATENAME_MAXSIZE=50), STATENAME_MAXSIZE=50)"
      ],
      "execution_count": 9,
      "outputs": [
        {
          "output_type": "execute_result",
          "data": {
            "text/plain": [
              "<graphviz.dot.Digraph at 0x7f2210d964e0>"
            ],
            "image/svg+xml": "<?xml version=\"1.0\" encoding=\"UTF-8\" standalone=\"no\"?>\n<!DOCTYPE svg PUBLIC \"-//W3C//DTD SVG 1.1//EN\"\n \"http://www.w3.org/Graphics/SVG/1.1/DTD/svg11.dtd\">\n<!-- Generated by graphviz version 2.40.1 (20161225.0304)\n -->\n<!-- Title: %3 Pages: 1 -->\n<svg width=\"614pt\" height=\"252pt\"\n viewBox=\"0.00 0.00 613.76 252.09\" xmlns=\"http://www.w3.org/2000/svg\" xmlns:xlink=\"http://www.w3.org/1999/xlink\">\n<g id=\"graph0\" class=\"graph\" transform=\"scale(1 1) rotate(0) translate(4 248.0888)\">\n<title>%3</title>\n<polygon fill=\"#ffffff\" stroke=\"transparent\" points=\"-4,4 -4,-248.0888 609.7636,-248.0888 609.7636,4 -4,4\"/>\n<!-- EMPTY -->\n<g id=\"node1\" class=\"node\">\n<title>EMPTY</title>\n</g>\n<!-- B_C_IA_IG -->\n<g id=\"node3\" class=\"node\">\n<title>B_C_IA_IG</title>\n<ellipse fill=\"none\" stroke=\"#000000\" cx=\"148.8449\" cy=\"-57.8449\" rx=\"57.6901\" ry=\"57.6901\"/>\n<text text-anchor=\"middle\" x=\"148.8449\" y=\"-54.1449\" font-family=\"Times,serif\" font-size=\"14.00\" fill=\"#000000\">B_C_IA_IG</text>\n</g>\n<!-- EMPTY&#45;&gt;B_C_IA_IG -->\n<g id=\"edge1\" class=\"edge\">\n<title>EMPTY&#45;&gt;B_C_IA_IG</title>\n<path fill=\"none\" stroke=\"#000000\" d=\"M54.0413,-57.8449C62.0733,-57.8449 71.2574,-57.8449 80.6758,-57.8449\"/>\n<polygon fill=\"#000000\" stroke=\"#000000\" points=\"80.9444,-61.345 90.9444,-57.8449 80.9444,-54.345 80.9444,-61.345\"/>\n</g>\n<!-- B_C_E_IA_IG -->\n<g id=\"node2\" class=\"node\">\n<title>B_C_E_IA_IG</title>\n<ellipse fill=\"none\" stroke=\"#000000\" cx=\"322.9337\" cy=\"-142.8449\" rx=\"68.4888\" ry=\"68.4888\"/>\n<text text-anchor=\"middle\" x=\"322.9337\" y=\"-139.1449\" font-family=\"Times,serif\" font-size=\"14.00\" fill=\"#000000\">B_C_E_IA_IG</text>\n</g>\n<!-- B_C_E_IA_IG&#45;&gt;B_C_E_IA_IG -->\n<g id=\"edge4\" class=\"edge\">\n<title>B_C_E_IA_IG&#45;&gt;B_C_E_IA_IG</title>\n<path fill=\"none\" stroke=\"#000000\" d=\"M306.7618,-209.3807C308.9181,-221.0034 314.3087,-229.0888 322.9337,-229.0888 328.8634,-229.0888 333.2643,-225.2672 336.1365,-219.1019\"/>\n<polygon fill=\"#000000\" stroke=\"#000000\" points=\"339.5318,-219.967 339.1056,-209.3807 332.8371,-217.9222 339.5318,-219.967\"/>\n<text text-anchor=\"middle\" x=\"322.9337\" y=\"-232.8888\" font-family=\"Times,serif\" font-size=\"14.00\" fill=\"#000000\">0 </text>\n</g>\n<!-- B_C_D_F_IA_IG -->\n<g id=\"node4\" class=\"node\">\n<title>B_C_D_F_IA_IG</title>\n<ellipse fill=\"none\" stroke=\"#000000\" cx=\"522.4706\" cy=\"-104.8449\" rx=\"79.0964\" ry=\"79.0964\"/>\n<ellipse fill=\"none\" stroke=\"#000000\" cx=\"522.4706\" cy=\"-104.8449\" rx=\"83.0864\" ry=\"83.0864\"/>\n<text text-anchor=\"middle\" x=\"522.4706\" y=\"-101.1449\" font-family=\"Times,serif\" font-size=\"14.00\" fill=\"#000000\">B_C_D_F_IA_IG</text>\n</g>\n<!-- B_C_E_IA_IG&#45;&gt;B_C_D_F_IA_IG -->\n<g id=\"edge5\" class=\"edge\">\n<title>B_C_E_IA_IG&#45;&gt;B_C_D_F_IA_IG</title>\n<path fill=\"none\" stroke=\"#000000\" d=\"M390.2096,-130.0328C403.2287,-127.5534 417.0764,-124.9162 430.7227,-122.3174\"/>\n<polygon fill=\"#000000\" stroke=\"#000000\" points=\"431.4403,-125.7437 440.609,-120.4347 430.1307,-118.8673 431.4403,-125.7437\"/>\n<text text-anchor=\"middle\" x=\"415.1776\" y=\"-129.6449\" font-family=\"Times,serif\" font-size=\"14.00\" fill=\"#000000\">1 </text>\n</g>\n<!-- B_C_IA_IG&#45;&gt;B_C_E_IA_IG -->\n<g id=\"edge2\" class=\"edge\">\n<title>B_C_IA_IG&#45;&gt;B_C_E_IA_IG</title>\n<path fill=\"none\" stroke=\"#000000\" d=\"M201.0773,-83.3477C217.1332,-91.1871 235.0812,-99.9503 252.1622,-108.2902\"/>\n<polygon fill=\"#000000\" stroke=\"#000000\" points=\"251.0233,-111.629 261.545,-112.8714 254.0946,-105.3387 251.0233,-111.629\"/>\n<text text-anchor=\"middle\" x=\"230.6897\" y=\"-104.6449\" font-family=\"Times,serif\" font-size=\"14.00\" fill=\"#000000\">0 </text>\n</g>\n<!-- B_C_IA_IG&#45;&gt;B_C_D_F_IA_IG -->\n<g id=\"edge3\" class=\"edge\">\n<title>B_C_IA_IG&#45;&gt;B_C_D_F_IA_IG</title>\n<path fill=\"none\" stroke=\"#000000\" d=\"M206.2381,-49.0598C255.7207,-43.1731 328.8287,-38.5237 391.1776,-50.8449 406.6956,-53.9115 422.6848,-58.8344 437.9335,-64.4903\"/>\n<polygon fill=\"#000000\" stroke=\"#000000\" points=\"436.7315,-67.7778 447.3215,-68.0965 439.2416,-61.2433 436.7315,-67.7778\"/>\n<text text-anchor=\"middle\" x=\"322.9337\" y=\"-54.6449\" font-family=\"Times,serif\" font-size=\"14.00\" fill=\"#000000\">1 </text>\n</g>\n<!-- B_C_D_F_IA_IG&#45;&gt;B_C_E_IA_IG -->\n<g id=\"edge6\" class=\"edge\">\n<title>B_C_D_F_IA_IG&#45;&gt;B_C_E_IA_IG</title>\n<path fill=\"none\" stroke=\"#000000\" d=\"M439.1516,-101.8179C428.9893,-102.553 418.8024,-103.8231 409.1776,-105.8449 404.2223,-106.8858 399.1991,-108.2192 394.1975,-109.7589\"/>\n<polygon fill=\"#000000\" stroke=\"#000000\" points=\"393.0075,-106.4662 384.6293,-112.9512 395.223,-113.1063 393.0075,-106.4662\"/>\n<text text-anchor=\"middle\" x=\"415.1776\" y=\"-109.6449\" font-family=\"Times,serif\" font-size=\"14.00\" fill=\"#000000\">0 </text>\n</g>\n<!-- B_C_D_F_IA_IG&#45;&gt;B_C_D_F_IA_IG -->\n<g id=\"edge7\" class=\"edge\">\n<title>B_C_D_F_IA_IG&#45;&gt;B_C_D_F_IA_IG</title>\n<path fill=\"none\" stroke=\"#000000\" d=\"M504.5365,-186.3139C507.3832,-198.1584 513.3612,-206.1378 522.4706,-206.1378 528.8756,-206.1378 533.7326,-202.1929 537.0414,-195.7333\"/>\n<polygon fill=\"#000000\" stroke=\"#000000\" points=\"540.3382,-196.9085 540.4047,-186.3139 533.7458,-194.5546 540.3382,-196.9085\"/>\n<text text-anchor=\"middle\" x=\"522.4706\" y=\"-209.9378\" font-family=\"Times,serif\" font-size=\"14.00\" fill=\"#000000\">1 </text>\n</g>\n</g>\n</svg>\n"
          },
          "metadata": {
            "tags": []
          },
          "execution_count": 9
        }
      ]
    },
    {
      "cell_type": "code",
      "metadata": {
        "run_control": {
          "frozen": false,
          "read_only": false
        },
        "id": "LpqoWwtLxWzh"
      },
      "source": [
        "# Our automd markdown works for NFA also. Here is the NFA for\n",
        "# the language \"ends in 0101\"\n",
        "\n",
        "NFA_ends0101 = md2mc(''' \n",
        "!!---------------------------------------------------------------------------\n",
        "!! This NFA looks for patterns of the form \n",
        "!!\n",
        "!!     ......<some 0's and 1's>.....0101\n",
        "!!\n",
        "!! i.e., all strings that end in 0101.\n",
        "!!\n",
        "!! This example (over and above thirdlastis1.nfa) also illustrates\n",
        "!! the power of nondeterminism. Anytime we see a 0 from state I, we\n",
        "!! can have the NFA speculate that it is seeing the beginning of a\n",
        "!! 0101 pattern! If the NFA fails in its guess, it pays no price\n",
        "!! (because another guess is soon coming from behind).\n",
        "!!\n",
        "!! * We take 4 states in the NFA solution. The DFA solution takes\n",
        "!!   5 states.\n",
        "!!\n",
        "!! * This shows how burden is shifted from the\n",
        "!!   human to the computer doing the NFA simulation.\n",
        "!!   Even though the savings in states is not dramatic,\n",
        "!!   the effort to build this NFA is much lower than building\n",
        "!!   the corresponding DFA.\n",
        "!! \n",
        "!!-----------------------------------------------------------------\n",
        "!! For NFA, each line can be as follows:\n",
        "!!\n",
        "!! State : in1 | in2 ...  ->  COmma, Separated, State, List  !! comment\n",
        "!!-----------------------------------------------------------------\n",
        "\n",
        "NFA\n",
        "\n",
        "I    : 1   -> I      !! I goes to I upon 1\n",
        "\n",
        "I    : 0   -> S0, I  !! I goes to S0 and I upon 0\n",
        "\n",
        "S0   : 1   -> S01    !! S0 goes to S01 upon 1\n",
        "\n",
        "S01  : 0   -> S010   !! S01 goes to S010 upon 0\n",
        "\n",
        "S010 : 1   -> F      !! S010 goes to F upon F\n",
        "\n",
        "!!---\n",
        "''')"
      ],
      "execution_count": 10,
      "outputs": []
    },
    {
      "cell_type": "code",
      "metadata": {
        "run_control": {
          "frozen": false,
          "read_only": false
        },
        "id": "mBcVx9NxxWzi",
        "outputId": "db445468-a31f-4d83-e5e1-f81f4040e421",
        "colab": {
          "base_uri": "https://localhost:8080/"
        }
      },
      "source": [
        "# Now let us see the dict version of the NFA\n",
        "NFA_ends0101 "
      ],
      "execution_count": 11,
      "outputs": [
        {
          "output_type": "execute_result",
          "data": {
            "text/plain": [
              "{'Delta': {('I', '0'): {'I', 'S0'},\n",
              "  ('I', '1'): {'I'},\n",
              "  ('S0', '1'): {'S01'},\n",
              "  ('S01', '0'): {'S010'},\n",
              "  ('S010', '1'): {'F'}},\n",
              " 'F': {'F'},\n",
              " 'Q': {'F', 'I', 'S0', 'S01', 'S010'},\n",
              " 'Q0': {'I'},\n",
              " 'Sigma': {'0', '1'}}"
            ]
          },
          "metadata": {
            "tags": []
          },
          "execution_count": 11
        }
      ]
    },
    {
      "cell_type": "code",
      "metadata": {
        "run_control": {
          "frozen": false,
          "read_only": false
        },
        "id": "1848w_GbxWzi",
        "outputId": "771db592-34c1-4938-b98f-ab4343ee8838",
        "colab": {
          "base_uri": "https://localhost:8080/",
          "height": 185
        }
      },
      "source": [
        "# Let's see the drawing of this NFA\n",
        "dotObj_nfa(NFA_ends0101)  "
      ],
      "execution_count": 12,
      "outputs": [
        {
          "output_type": "execute_result",
          "data": {
            "text/plain": [
              "<graphviz.dot.Digraph at 0x7f2210d9eb38>"
            ],
            "image/svg+xml": "<?xml version=\"1.0\" encoding=\"UTF-8\" standalone=\"no\"?>\n<!DOCTYPE svg PUBLIC \"-//W3C//DTD SVG 1.1//EN\"\n \"http://www.w3.org/Graphics/SVG/1.1/DTD/svg11.dtd\">\n<!-- Generated by graphviz version 2.40.1 (20161225.0304)\n -->\n<!-- Title: %3 Pages: 1 -->\n<svg width=\"526pt\" height=\"123pt\"\n viewBox=\"0.00 0.00 525.69 122.55\" xmlns=\"http://www.w3.org/2000/svg\" xmlns:xlink=\"http://www.w3.org/1999/xlink\">\n<g id=\"graph0\" class=\"graph\" transform=\"scale(1 1) rotate(0) translate(4 118.5473)\">\n<title>%3</title>\n<polygon fill=\"#ffffff\" stroke=\"transparent\" points=\"-4,4 -4,-118.5473 521.6863,-118.5473 521.6863,4 -4,4\"/>\n<!-- EMPTY -->\n<g id=\"node1\" class=\"node\">\n<title>EMPTY</title>\n</g>\n<!-- I -->\n<g id=\"node4\" class=\"node\">\n<title>I</title>\n<ellipse fill=\"none\" stroke=\"#000000\" cx=\"109\" cy=\"-30.5473\" rx=\"18\" ry=\"18\"/>\n<text text-anchor=\"middle\" x=\"109\" y=\"-26.8473\" font-family=\"Times,serif\" font-size=\"14.00\" fill=\"#000000\">I</text>\n</g>\n<!-- EMPTY&#45;&gt;I -->\n<g id=\"edge1\" class=\"edge\">\n<title>EMPTY&#45;&gt;I</title>\n<path fill=\"none\" stroke=\"#000000\" d=\"M54.3048,-30.5473C62.6909,-30.5473 71.9407,-30.5473 80.4103,-30.5473\"/>\n<polygon fill=\"#000000\" stroke=\"#000000\" points=\"80.5976,-34.0474 90.5976,-30.5473 80.5976,-27.0474 80.5976,-34.0474\"/>\n</g>\n<!-- S0 -->\n<g id=\"node2\" class=\"node\">\n<title>S0</title>\n<ellipse fill=\"none\" stroke=\"#000000\" cx=\"195.7982\" cy=\"-30.5473\" rx=\"20.5982\" ry=\"20.5982\"/>\n<text text-anchor=\"middle\" x=\"195.7982\" y=\"-26.8473\" font-family=\"Times,serif\" font-size=\"14.00\" fill=\"#000000\">S0</text>\n</g>\n<!-- S01 -->\n<g id=\"node3\" class=\"node\">\n<title>S01</title>\n<ellipse fill=\"none\" stroke=\"#000000\" cx=\"290.594\" cy=\"-30.5473\" rx=\"25.9954\" ry=\"25.9954\"/>\n<text text-anchor=\"middle\" x=\"290.594\" y=\"-26.8473\" font-family=\"Times,serif\" font-size=\"14.00\" fill=\"#000000\">S01</text>\n</g>\n<!-- S0&#45;&gt;S01 -->\n<g id=\"edge5\" class=\"edge\">\n<title>S0&#45;&gt;S01</title>\n<path fill=\"none\" stroke=\"#000000\" d=\"M216.8364,-30.5473C227.8309,-30.5473 241.5999,-30.5473 254.2549,-30.5473\"/>\n<polygon fill=\"#000000\" stroke=\"#000000\" points=\"254.5378,-34.0474 264.5378,-30.5473 254.5378,-27.0474 254.5378,-34.0474\"/>\n<text text-anchor=\"middle\" x=\"240.5963\" y=\"-34.3473\" font-family=\"Times,serif\" font-size=\"14.00\" fill=\"#000000\">1 </text>\n</g>\n<!-- S010 -->\n<g id=\"node5\" class=\"node\">\n<title>S010</title>\n<ellipse fill=\"none\" stroke=\"#000000\" cx=\"395.139\" cy=\"-30.5473\" rx=\"30.5947\" ry=\"30.5947\"/>\n<text text-anchor=\"middle\" x=\"395.139\" y=\"-26.8473\" font-family=\"Times,serif\" font-size=\"14.00\" fill=\"#000000\">S010</text>\n</g>\n<!-- S01&#45;&gt;S010 -->\n<g id=\"edge6\" class=\"edge\">\n<title>S01&#45;&gt;S010</title>\n<path fill=\"none\" stroke=\"#000000\" d=\"M316.7054,-30.5473C328.0453,-30.5473 341.5984,-30.5473 354.2229,-30.5473\"/>\n<polygon fill=\"#000000\" stroke=\"#000000\" points=\"354.5401,-34.0474 364.54,-30.5473 354.54,-27.0474 354.5401,-34.0474\"/>\n<text text-anchor=\"middle\" x=\"340.5917\" y=\"-34.3473\" font-family=\"Times,serif\" font-size=\"14.00\" fill=\"#000000\">0 </text>\n</g>\n<!-- I&#45;&gt;S0 -->\n<g id=\"edge3\" class=\"edge\">\n<title>I&#45;&gt;S0</title>\n<path fill=\"none\" stroke=\"#000000\" d=\"M127.4077,-30.5473C138.2934,-30.5473 152.3613,-30.5473 164.9052,-30.5473\"/>\n<polygon fill=\"#000000\" stroke=\"#000000\" points=\"164.9803,-34.0474 174.9802,-30.5473 164.9802,-27.0474 164.9803,-34.0474\"/>\n<text text-anchor=\"middle\" x=\"151\" y=\"-34.3473\" font-family=\"Times,serif\" font-size=\"14.00\" fill=\"#000000\">0 </text>\n</g>\n<!-- I&#45;&gt;I -->\n<g id=\"edge2\" class=\"edge\">\n<title>I&#45;&gt;I</title>\n<path fill=\"none\" stroke=\"#000000\" d=\"M105.7643,-48.329C105.2144,-57.8622 106.293,-66.5473 109,-66.5473 110.6496,-66.5473 111.6945,-63.3222 112.1347,-58.6454\"/>\n<polygon fill=\"#000000\" stroke=\"#000000\" points=\"115.6375,-58.3629 112.2357,-48.329 108.6379,-58.2942 115.6375,-58.3629\"/>\n<text text-anchor=\"middle\" x=\"109\" y=\"-70.3473\" font-family=\"Times,serif\" font-size=\"14.00\" fill=\"#000000\">1 </text>\n</g>\n<!-- I&#45;&gt;I -->\n<g id=\"edge4\" class=\"edge\">\n<title>I&#45;&gt;I</title>\n<path fill=\"none\" stroke=\"#000000\" d=\"M103.6841,-47.9676C100.6538,-65.3382 102.4258,-84.5473 109,-84.5473 114.2902,-84.5473 116.4708,-72.109 115.5419,-58.1993\"/>\n<polygon fill=\"#000000\" stroke=\"#000000\" points=\"118.9808,-57.4801 114.3159,-47.9676 112.0305,-58.313 118.9808,-57.4801\"/>\n<text text-anchor=\"middle\" x=\"109\" y=\"-88.3473\" font-family=\"Times,serif\" font-size=\"14.00\" fill=\"#000000\">0 </text>\n</g>\n<!-- F -->\n<g id=\"node6\" class=\"node\">\n<title>F</title>\n<ellipse fill=\"none\" stroke=\"#000000\" cx=\"495.6863\" cy=\"-30.5473\" rx=\"18\" ry=\"18\"/>\n<ellipse fill=\"none\" stroke=\"#000000\" cx=\"495.6863\" cy=\"-30.5473\" rx=\"22\" ry=\"22\"/>\n<text text-anchor=\"middle\" x=\"495.6863\" y=\"-26.8473\" font-family=\"Times,serif\" font-size=\"14.00\" fill=\"#000000\">F</text>\n</g>\n<!-- S010&#45;&gt;F -->\n<g id=\"edge7\" class=\"edge\">\n<title>S010&#45;&gt;F</title>\n<path fill=\"none\" stroke=\"#000000\" d=\"M425.8528,-30.5473C437.7344,-30.5473 451.3429,-30.5473 463.3721,-30.5473\"/>\n<polygon fill=\"#000000\" stroke=\"#000000\" points=\"463.4535,-34.0474 473.4534,-30.5473 463.4534,-27.0474 463.4535,-34.0474\"/>\n<text text-anchor=\"middle\" x=\"449.6863\" y=\"-34.3473\" font-family=\"Times,serif\" font-size=\"14.00\" fill=\"#000000\">1 </text>\n</g>\n</g>\n</svg>\n"
          },
          "metadata": {
            "tags": []
          },
          "execution_count": 12
        }
      ]
    },
    {
      "cell_type": "code",
      "metadata": {
        "run_control": {
          "frozen": false,
          "read_only": false
        },
        "id": "LJT3OwjDxWzi",
        "outputId": "76847e50-9504-4130-87e3-4be807a185fa",
        "colab": {
          "base_uri": "https://localhost:8080/",
          "height": 161
        }
      },
      "source": [
        "# The drawing produces separated self-loops. Let's fuse 'em.\n",
        "\n",
        "# Now we are going to fuse the separate self-loops into one.\n",
        "\n",
        "dotObj_nfa(NFA_ends0101, FuseEdges=True) "
      ],
      "execution_count": 13,
      "outputs": [
        {
          "output_type": "execute_result",
          "data": {
            "text/plain": [
              "<graphviz.dot.Digraph at 0x7f2210db4048>"
            ],
            "image/svg+xml": "<?xml version=\"1.0\" encoding=\"UTF-8\" standalone=\"no\"?>\n<!DOCTYPE svg PUBLIC \"-//W3C//DTD SVG 1.1//EN\"\n \"http://www.w3.org/Graphics/SVG/1.1/DTD/svg11.dtd\">\n<!-- Generated by graphviz version 2.40.1 (20161225.0304)\n -->\n<!-- Title: %3 Pages: 1 -->\n<svg width=\"526pt\" height=\"105pt\"\n viewBox=\"0.00 0.00 525.69 104.55\" xmlns=\"http://www.w3.org/2000/svg\" xmlns:xlink=\"http://www.w3.org/1999/xlink\">\n<g id=\"graph0\" class=\"graph\" transform=\"scale(1 1) rotate(0) translate(4 100.5473)\">\n<title>%3</title>\n<polygon fill=\"#ffffff\" stroke=\"transparent\" points=\"-4,4 -4,-100.5473 521.6863,-100.5473 521.6863,4 -4,4\"/>\n<!-- EMPTY -->\n<g id=\"node1\" class=\"node\">\n<title>EMPTY</title>\n</g>\n<!-- I -->\n<g id=\"node4\" class=\"node\">\n<title>I</title>\n<ellipse fill=\"none\" stroke=\"#000000\" cx=\"109\" cy=\"-30.5473\" rx=\"18\" ry=\"18\"/>\n<text text-anchor=\"middle\" x=\"109\" y=\"-26.8473\" font-family=\"Times,serif\" font-size=\"14.00\" fill=\"#000000\">I</text>\n</g>\n<!-- EMPTY&#45;&gt;I -->\n<g id=\"edge1\" class=\"edge\">\n<title>EMPTY&#45;&gt;I</title>\n<path fill=\"none\" stroke=\"#000000\" d=\"M54.3048,-30.5473C62.6909,-30.5473 71.9407,-30.5473 80.4103,-30.5473\"/>\n<polygon fill=\"#000000\" stroke=\"#000000\" points=\"80.5976,-34.0474 90.5976,-30.5473 80.5976,-27.0474 80.5976,-34.0474\"/>\n</g>\n<!-- S0 -->\n<g id=\"node2\" class=\"node\">\n<title>S0</title>\n<ellipse fill=\"none\" stroke=\"#000000\" cx=\"195.7982\" cy=\"-30.5473\" rx=\"20.5982\" ry=\"20.5982\"/>\n<text text-anchor=\"middle\" x=\"195.7982\" y=\"-26.8473\" font-family=\"Times,serif\" font-size=\"14.00\" fill=\"#000000\">S0</text>\n</g>\n<!-- S01 -->\n<g id=\"node3\" class=\"node\">\n<title>S01</title>\n<ellipse fill=\"none\" stroke=\"#000000\" cx=\"290.594\" cy=\"-30.5473\" rx=\"25.9954\" ry=\"25.9954\"/>\n<text text-anchor=\"middle\" x=\"290.594\" y=\"-26.8473\" font-family=\"Times,serif\" font-size=\"14.00\" fill=\"#000000\">S01</text>\n</g>\n<!-- S0&#45;&gt;S01 -->\n<g id=\"edge4\" class=\"edge\">\n<title>S0&#45;&gt;S01</title>\n<path fill=\"none\" stroke=\"#000000\" d=\"M216.8364,-30.5473C227.8309,-30.5473 241.5999,-30.5473 254.2549,-30.5473\"/>\n<polygon fill=\"#000000\" stroke=\"#000000\" points=\"254.5378,-34.0474 264.5378,-30.5473 254.5378,-27.0474 254.5378,-34.0474\"/>\n<text text-anchor=\"middle\" x=\"240.5963\" y=\"-34.3473\" font-family=\"Times,serif\" font-size=\"14.00\" fill=\"#000000\">1 </text>\n</g>\n<!-- S010 -->\n<g id=\"node5\" class=\"node\">\n<title>S010</title>\n<ellipse fill=\"none\" stroke=\"#000000\" cx=\"395.139\" cy=\"-30.5473\" rx=\"30.5947\" ry=\"30.5947\"/>\n<text text-anchor=\"middle\" x=\"395.139\" y=\"-26.8473\" font-family=\"Times,serif\" font-size=\"14.00\" fill=\"#000000\">S010</text>\n</g>\n<!-- S01&#45;&gt;S010 -->\n<g id=\"edge5\" class=\"edge\">\n<title>S01&#45;&gt;S010</title>\n<path fill=\"none\" stroke=\"#000000\" d=\"M316.7054,-30.5473C328.0453,-30.5473 341.5984,-30.5473 354.2229,-30.5473\"/>\n<polygon fill=\"#000000\" stroke=\"#000000\" points=\"354.5401,-34.0474 364.54,-30.5473 354.54,-27.0474 354.5401,-34.0474\"/>\n<text text-anchor=\"middle\" x=\"340.5917\" y=\"-34.3473\" font-family=\"Times,serif\" font-size=\"14.00\" fill=\"#000000\">0 </text>\n</g>\n<!-- I&#45;&gt;S0 -->\n<g id=\"edge3\" class=\"edge\">\n<title>I&#45;&gt;S0</title>\n<path fill=\"none\" stroke=\"#000000\" d=\"M127.4077,-30.5473C138.2934,-30.5473 152.3613,-30.5473 164.9052,-30.5473\"/>\n<polygon fill=\"#000000\" stroke=\"#000000\" points=\"164.9803,-34.0474 174.9802,-30.5473 164.9802,-27.0474 164.9803,-34.0474\"/>\n<text text-anchor=\"middle\" x=\"151\" y=\"-34.3473\" font-family=\"Times,serif\" font-size=\"14.00\" fill=\"#000000\">0 </text>\n</g>\n<!-- I&#45;&gt;I -->\n<g id=\"edge2\" class=\"edge\">\n<title>I&#45;&gt;I</title>\n<path fill=\"none\" stroke=\"#000000\" d=\"M102.6208,-47.5846C101.3189,-57.4052 103.4453,-66.5473 109,-66.5473 112.4717,-66.5473 114.6042,-62.9762 115.3975,-57.9002\"/>\n<polygon fill=\"#000000\" stroke=\"#000000\" points=\"118.8971,-57.5783 115.3792,-47.5846 111.8971,-57.5908 118.8971,-57.5783\"/>\n<text text-anchor=\"middle\" x=\"109\" y=\"-85.3473\" font-family=\"Times,serif\" font-size=\"14.00\" fill=\"#000000\">0 </text>\n<text text-anchor=\"middle\" x=\"109\" y=\"-70.3473\" font-family=\"Times,serif\" font-size=\"14.00\" fill=\"#000000\"> 1 </text>\n</g>\n<!-- F -->\n<g id=\"node6\" class=\"node\">\n<title>F</title>\n<ellipse fill=\"none\" stroke=\"#000000\" cx=\"495.6863\" cy=\"-30.5473\" rx=\"18\" ry=\"18\"/>\n<ellipse fill=\"none\" stroke=\"#000000\" cx=\"495.6863\" cy=\"-30.5473\" rx=\"22\" ry=\"22\"/>\n<text text-anchor=\"middle\" x=\"495.6863\" y=\"-26.8473\" font-family=\"Times,serif\" font-size=\"14.00\" fill=\"#000000\">F</text>\n</g>\n<!-- S010&#45;&gt;F -->\n<g id=\"edge6\" class=\"edge\">\n<title>S010&#45;&gt;F</title>\n<path fill=\"none\" stroke=\"#000000\" d=\"M425.8528,-30.5473C437.7344,-30.5473 451.3429,-30.5473 463.3721,-30.5473\"/>\n<polygon fill=\"#000000\" stroke=\"#000000\" points=\"463.4535,-34.0474 473.4534,-30.5473 463.4534,-27.0474 463.4535,-34.0474\"/>\n<text text-anchor=\"middle\" x=\"449.6863\" y=\"-34.3473\" font-family=\"Times,serif\" font-size=\"14.00\" fill=\"#000000\">1 </text>\n</g>\n</g>\n</svg>\n"
          },
          "metadata": {
            "tags": []
          },
          "execution_count": 13
        }
      ]
    },
    {
      "cell_type": "code",
      "metadata": {
        "id": "1z_ZlT2IxWzi",
        "outputId": "410b024f-3444-4e88-c514-a7306f441619",
        "colab": {
          "base_uri": "https://localhost:8080/"
        }
      },
      "source": [
        "step_nfa(NFA_ends0101, 'F', '1')"
      ],
      "execution_count": 27,
      "outputs": [
        {
          "output_type": "execute_result",
          "data": {
            "text/plain": [
              "set()"
            ]
          },
          "metadata": {
            "tags": []
          },
          "execution_count": 27
        }
      ]
    },
    {
      "cell_type": "markdown",
      "metadata": {
        "run_control": {
          "frozen": false,
          "read_only": false
        },
        "id": "0fMPoZMIxWzi"
      },
      "source": [
        "# NFA for 3rd-last is 1"
      ]
    },
    {
      "cell_type": "code",
      "metadata": {
        "run_control": {
          "frozen": false,
          "read_only": false
        },
        "id": "s5SpoJg0xWzi"
      },
      "source": [
        "# Here is the automd (markdown) for an NF whose third-last symbol is a 1\n",
        "\n",
        "NFA_3rdlast_1 = md2mc('''\n",
        "NFA\n",
        "\n",
        "I : 0  | 1  -> I  !! Upon a 0 or a 1, continue to stay in state I\n",
        "\n",
        "I : ''      -> S0 !! Nondeterministically transition to state S0\n",
        "\n",
        "S0 : 1      -> S1 !! This is the key \"1\" (third-last being 1) seen\n",
        "\n",
        "S1 : 0 | 1  -> S2 !! One 0/1 takes the NFA to S2\n",
        "\n",
        "S2 : 0 | 1  -> F  !! One more 0/1 takes the NFA to F\n",
        "\n",
        "''')"
      ],
      "execution_count": 17,
      "outputs": []
    },
    {
      "cell_type": "code",
      "metadata": {
        "run_control": {
          "frozen": false,
          "read_only": false
        },
        "id": "_k6BfZNpxWzj",
        "outputId": "fcd20fd3-b815-4498-fbc1-26b4e7373500",
        "colab": {
          "base_uri": "https://localhost:8080/"
        }
      },
      "source": [
        "# Let us see its internal representation:\n",
        "NFA_3rdlast_1"
      ],
      "execution_count": 18,
      "outputs": [
        {
          "output_type": "execute_result",
          "data": {
            "text/plain": [
              "{'Delta': {('I', ''): {'S0'},\n",
              "  ('I', '0'): {'I'},\n",
              "  ('I', '1'): {'I'},\n",
              "  ('S0', '1'): {'S1'},\n",
              "  ('S1', '0'): {'S2'},\n",
              "  ('S1', '1'): {'S2'},\n",
              "  ('S2', '0'): {'F'},\n",
              "  ('S2', '1'): {'F'}},\n",
              " 'F': {'F'},\n",
              " 'Q': {'F', 'I', 'S0', 'S1', 'S2'},\n",
              " 'Q0': {'I'},\n",
              " 'Sigma': {'0', '1'}}"
            ]
          },
          "metadata": {
            "tags": []
          },
          "execution_count": 18
        }
      ]
    },
    {
      "cell_type": "code",
      "metadata": {
        "run_control": {
          "frozen": false,
          "read_only": false
        },
        "id": "TfQTgeF6xWzj",
        "outputId": "e101d09d-06c0-4424-993a-83112af35836",
        "colab": {
          "base_uri": "https://localhost:8080/",
          "height": 149
        }
      },
      "source": [
        "# Let us see this NFA drawn out:\n",
        "dotObj_nfa(NFA_3rdlast_1, FuseEdges=True)"
      ],
      "execution_count": 19,
      "outputs": [
        {
          "output_type": "execute_result",
          "data": {
            "text/plain": [
              "<graphviz.dot.Digraph at 0x7f2210cbf940>"
            ],
            "image/svg+xml": "<?xml version=\"1.0\" encoding=\"UTF-8\" standalone=\"no\"?>\n<!DOCTYPE svg PUBLIC \"-//W3C//DTD SVG 1.1//EN\"\n \"http://www.w3.org/Graphics/SVG/1.1/DTD/svg11.dtd\">\n<!-- Generated by graphviz version 2.40.1 (20161225.0304)\n -->\n<!-- Title: %3 Pages: 1 -->\n<svg width=\"501pt\" height=\"96pt\"\n viewBox=\"0.00 0.00 500.79 96.00\" xmlns=\"http://www.w3.org/2000/svg\" xmlns:xlink=\"http://www.w3.org/1999/xlink\">\n<g id=\"graph0\" class=\"graph\" transform=\"scale(1 1) rotate(0) translate(4 92)\">\n<title>%3</title>\n<polygon fill=\"#ffffff\" stroke=\"transparent\" points=\"-4,4 -4,-92 496.7889,-92 496.7889,4 -4,4\"/>\n<!-- EMPTY -->\n<g id=\"node1\" class=\"node\">\n<title>EMPTY</title>\n</g>\n<!-- I -->\n<g id=\"node3\" class=\"node\">\n<title>I</title>\n<ellipse fill=\"none\" stroke=\"#000000\" cx=\"109\" cy=\"-22\" rx=\"18\" ry=\"18\"/>\n<text text-anchor=\"middle\" x=\"109\" y=\"-18.3\" font-family=\"Times,serif\" font-size=\"14.00\" fill=\"#000000\">I</text>\n</g>\n<!-- EMPTY&#45;&gt;I -->\n<g id=\"edge1\" class=\"edge\">\n<title>EMPTY&#45;&gt;I</title>\n<path fill=\"none\" stroke=\"#000000\" d=\"M54.3048,-22C62.6909,-22 71.9407,-22 80.4103,-22\"/>\n<polygon fill=\"#000000\" stroke=\"#000000\" points=\"80.5976,-25.5001 90.5976,-22 80.5976,-18.5001 80.5976,-25.5001\"/>\n</g>\n<!-- S2 -->\n<g id=\"node2\" class=\"node\">\n<title>S2</title>\n<ellipse fill=\"none\" stroke=\"#000000\" cx=\"375.9908\" cy=\"-22\" rx=\"20.5982\" ry=\"20.5982\"/>\n<text text-anchor=\"middle\" x=\"375.9908\" y=\"-18.3\" font-family=\"Times,serif\" font-size=\"14.00\" fill=\"#000000\">S2</text>\n</g>\n<!-- F -->\n<g id=\"node6\" class=\"node\">\n<title>F</title>\n<ellipse fill=\"none\" stroke=\"#000000\" cx=\"470.7889\" cy=\"-22\" rx=\"18\" ry=\"18\"/>\n<ellipse fill=\"none\" stroke=\"#000000\" cx=\"470.7889\" cy=\"-22\" rx=\"22\" ry=\"22\"/>\n<text text-anchor=\"middle\" x=\"470.7889\" y=\"-18.3\" font-family=\"Times,serif\" font-size=\"14.00\" fill=\"#000000\">F</text>\n</g>\n<!-- S2&#45;&gt;F -->\n<g id=\"edge6\" class=\"edge\">\n<title>S2&#45;&gt;F</title>\n<path fill=\"none\" stroke=\"#000000\" d=\"M397.0296,-22C409.2005,-22 424.7713,-22 438.4674,-22\"/>\n<polygon fill=\"#000000\" stroke=\"#000000\" points=\"438.4881,-25.5001 448.4881,-22 438.4881,-18.5001 438.4881,-25.5001\"/>\n<text text-anchor=\"middle\" x=\"422.7889\" y=\"-40.8\" font-family=\"Times,serif\" font-size=\"14.00\" fill=\"#000000\">0 </text>\n<text text-anchor=\"middle\" x=\"422.7889\" y=\"-25.8\" font-family=\"Times,serif\" font-size=\"14.00\" fill=\"#000000\"> 1 </text>\n</g>\n<!-- I&#45;&gt;I -->\n<g id=\"edge2\" class=\"edge\">\n<title>I&#45;&gt;I</title>\n<path fill=\"none\" stroke=\"#000000\" d=\"M102.6208,-39.0373C101.3189,-48.8579 103.4453,-58 109,-58 112.4717,-58 114.6042,-54.4289 115.3975,-49.3529\"/>\n<polygon fill=\"#000000\" stroke=\"#000000\" points=\"118.8971,-49.031 115.3792,-39.0373 111.8971,-49.0435 118.8971,-49.031\"/>\n<text text-anchor=\"middle\" x=\"109\" y=\"-76.8\" font-family=\"Times,serif\" font-size=\"14.00\" fill=\"#000000\">0 </text>\n<text text-anchor=\"middle\" x=\"109\" y=\"-61.8\" font-family=\"Times,serif\" font-size=\"14.00\" fill=\"#000000\"> 1 </text>\n</g>\n<!-- S0 -->\n<g id=\"node5\" class=\"node\">\n<title>S0</title>\n<ellipse fill=\"none\" stroke=\"#000000\" cx=\"192.7982\" cy=\"-22\" rx=\"20.5982\" ry=\"20.5982\"/>\n<text text-anchor=\"middle\" x=\"192.7982\" y=\"-18.3\" font-family=\"Times,serif\" font-size=\"14.00\" fill=\"#000000\">S0</text>\n</g>\n<!-- I&#45;&gt;S0 -->\n<g id=\"edge3\" class=\"edge\">\n<title>I&#45;&gt;S0</title>\n<path fill=\"none\" stroke=\"#000000\" d=\"M127.183,-22C137.281,-22 150.1195,-22 161.7575,-22\"/>\n<polygon fill=\"#000000\" stroke=\"#000000\" points=\"161.9949,-25.5001 171.9949,-22 161.9948,-18.5001 161.9949,-25.5001\"/>\n<text text-anchor=\"middle\" x=\"149.5\" y=\"-25.8\" font-family=\"Times,serif\" font-size=\"14.00\" fill=\"#000000\">&#39;&#39; </text>\n</g>\n<!-- S1 -->\n<g id=\"node4\" class=\"node\">\n<title>S1</title>\n<ellipse fill=\"none\" stroke=\"#000000\" cx=\"282.3945\" cy=\"-22\" rx=\"20.5982\" ry=\"20.5982\"/>\n<text text-anchor=\"middle\" x=\"282.3945\" y=\"-18.3\" font-family=\"Times,serif\" font-size=\"14.00\" fill=\"#000000\">S1</text>\n</g>\n<!-- S1&#45;&gt;S2 -->\n<g id=\"edge5\" class=\"edge\">\n<title>S1&#45;&gt;S2</title>\n<path fill=\"none\" stroke=\"#000000\" d=\"M303.6329,-22C315.8046,-22 331.3038,-22 344.8326,-22\"/>\n<polygon fill=\"#000000\" stroke=\"#000000\" points=\"345.1588,-25.5001 355.1588,-22 345.1587,-18.5001 345.1588,-25.5001\"/>\n<text text-anchor=\"middle\" x=\"329.1926\" y=\"-40.8\" font-family=\"Times,serif\" font-size=\"14.00\" fill=\"#000000\">0 </text>\n<text text-anchor=\"middle\" x=\"329.1926\" y=\"-25.8\" font-family=\"Times,serif\" font-size=\"14.00\" fill=\"#000000\"> 1 </text>\n</g>\n<!-- S0&#45;&gt;S1 -->\n<g id=\"edge4\" class=\"edge\">\n<title>S0&#45;&gt;S1</title>\n<path fill=\"none\" stroke=\"#000000\" d=\"M214.0312,-22C225.0778,-22 238.7967,-22 251.0394,-22\"/>\n<polygon fill=\"#000000\" stroke=\"#000000\" points=\"251.3138,-25.5001 261.3138,-22 251.3138,-18.5001 251.3138,-25.5001\"/>\n<text text-anchor=\"middle\" x=\"237.5963\" y=\"-25.8\" font-family=\"Times,serif\" font-size=\"14.00\" fill=\"#000000\">1 </text>\n</g>\n</g>\n</svg>\n"
          },
          "metadata": {
            "tags": []
          },
          "execution_count": 19
        }
      ]
    },
    {
      "cell_type": "code",
      "metadata": {
        "run_control": {
          "frozen": false,
          "read_only": false
        },
        "id": "FBsCOaYUxWzj",
        "outputId": "4f3015d6-e2da-48d6-c1ba-89876f6aba21",
        "colab": {
          "base_uri": "https://localhost:8080/"
        }
      },
      "source": [
        "# Let's step the NFA on epsilon:   \n",
        "step_nfa(NFA_3rdlast_1, \"I\", \"\")"
      ],
      "execution_count": 20,
      "outputs": [
        {
          "output_type": "execute_result",
          "data": {
            "text/plain": [
              "{'S0'}"
            ]
          },
          "metadata": {
            "tags": []
          },
          "execution_count": 20
        }
      ]
    },
    {
      "cell_type": "code",
      "metadata": {
        "run_control": {
          "frozen": false,
          "read_only": false
        },
        "id": "fx-wZMm6xWzj",
        "outputId": "7c01da7e-32f6-4fbf-dccb-2f7500d7aafe",
        "colab": {
          "base_uri": "https://localhost:8080/"
        }
      },
      "source": [
        "# Let's step it on '0': \n",
        "step_nfa(NFA_3rdlast_1, \"I\", \"0\")"
      ],
      "execution_count": 21,
      "outputs": [
        {
          "output_type": "execute_result",
          "data": {
            "text/plain": [
              "{'I'}"
            ]
          },
          "metadata": {
            "tags": []
          },
          "execution_count": 21
        }
      ]
    },
    {
      "cell_type": "code",
      "metadata": {
        "run_control": {
          "frozen": false,
          "read_only": false
        },
        "id": "-iyIdELcxWzj",
        "outputId": "97a03cc6-f086-4372-cad4-c476715d00d8",
        "colab": {
          "base_uri": "https://localhost:8080/"
        }
      },
      "source": [
        "# Step it on a \"1\" to see two next states. That shows nondeterminism!\n",
        "step_nfa(NFA_3rdlast_1, \"I\", \"1\")  "
      ],
      "execution_count": 22,
      "outputs": [
        {
          "output_type": "execute_result",
          "data": {
            "text/plain": [
              "{'I'}"
            ]
          },
          "metadata": {
            "tags": []
          },
          "execution_count": 22
        }
      ]
    },
    {
      "cell_type": "code",
      "metadata": {
        "run_control": {
          "frozen": false,
          "read_only": false
        },
        "id": "79_BtYGcxWzk",
        "outputId": "9d0eb1b9-e4d0-4646-c8b5-7594addcda07",
        "colab": {
          "base_uri": "https://localhost:8080/"
        }
      },
      "source": [
        "# What is the Eclosure of the set of states {I} ?\n",
        "Eclosure(NFA_3rdlast_1, {\"I\"})"
      ],
      "execution_count": 28,
      "outputs": [
        {
          "output_type": "execute_result",
          "data": {
            "text/plain": [
              "{'I', 'S0'}"
            ]
          },
          "metadata": {
            "tags": []
          },
          "execution_count": 28
        }
      ]
    },
    {
      "cell_type": "code",
      "metadata": {
        "run_control": {
          "frozen": false,
          "read_only": false
        },
        "id": "SU_a5BqJxWzk",
        "outputId": "ecafa7ad-66bf-4e34-f320-5d036df3bf87",
        "colab": {
          "base_uri": "https://localhost:8080/"
        }
      },
      "source": [
        "help(accepts_nfa)"
      ],
      "execution_count": 29,
      "outputs": [
        {
          "output_type": "stream",
          "text": [
            "Help on function accepts_nfa in module jove.Def_NFA:\n",
            "\n",
            "accepts_nfa(N, s, chatty=False)\n",
            "    NFA acceptance.\n",
            "    Input : N : given NFA\n",
            "            s : given string\n",
            "            chatty : Boolean (prints accepting path,\n",
            "                     which is the state-sets encountered).\n",
            "\n"
          ],
          "name": "stdout"
        }
      ]
    },
    {
      "cell_type": "code",
      "metadata": {
        "run_control": {
          "frozen": false,
          "read_only": false
        },
        "id": "k95WU8BdxWzk",
        "outputId": "cbb46624-ad91-44e0-b1ea-8197cc848754",
        "colab": {
          "base_uri": "https://localhost:8080/"
        }
      },
      "source": [
        "accepts_nfa(NFA_3rdlast_1, \"0100100\", chatty=True)"
      ],
      "execution_count": 30,
      "outputs": [
        {
          "output_type": "stream",
          "text": [
            "States reached =  {'S0', 'I'}\n",
            "States reached =  {'S0', 'I', 'S1'}\n",
            "States reached =  {'S0', 'I', 'S2'}\n",
            "States reached =  {'S0', 'I', 'F'}\n",
            "States reached =  {'S0', 'I', 'S1'}\n",
            "States reached =  {'S0', 'I', 'S2'}\n",
            "States reached =  {'S0', 'I', 'F'}\n",
            "NFA accepts '0100100' by reaching {'S0', 'I', 'F'}\n"
          ],
          "name": "stdout"
        },
        {
          "output_type": "execute_result",
          "data": {
            "text/plain": [
              "True"
            ]
          },
          "metadata": {
            "tags": []
          },
          "execution_count": 30
        }
      ]
    },
    {
      "cell_type": "markdown",
      "metadata": {
        "run_control": {
          "frozen": false,
          "read_only": false
        },
        "id": "WTMi-JMhxWzk"
      },
      "source": [
        "# Let us run NFA interactively via widgets\n",
        "\n",
        "We have two NFA to play with, namely nfa_ends0101 and NFA_3rdlast_1\n"
      ]
    },
    {
      "cell_type": "code",
      "metadata": {
        "run_control": {
          "frozen": false,
          "read_only": false
        },
        "id": "9Ivx8pQlxWzk"
      },
      "source": [
        "import ipywidgets as wdg\n",
        "def run_nfa_slider(N, s, n):\n",
        "    \"\"\"Run NFA N from N[\"Q0\"] (which is a set..) on substring s[0:n]\n",
        "    \"\"\"\n",
        "    S = N[\"Q0\"] \n",
        "    if (n > len(s)):\n",
        "        n = len(s)\n",
        "    print(\"string = \", s[0:n])\n",
        "    run_nfa(N, S, s[0:n], True)\n",
        "    \n",
        "def run_nfa_int(N1, N2):\n",
        "    \"\"\"Run interactively from the given NFA .. from {q0} \n",
        "       on input string's substring\n",
        "       as picked by slider.\n",
        "    \"\"\"\n",
        "    inp = input(\"Please provide string: \")\n",
        "    wdg.interact(run_nfa_slider, N = {'N1': N1, 'N2': N2}, \n",
        "                 s = inp, n=(0,32))\n",
        "    \n",
        "def test_run_nfa_int(N1, N2):\n",
        "    \"\"\"Test the interactive run of NFA.\n",
        "    \"\"\"\n",
        "    run_nfa_int(N1, N2)\n",
        "\n",
        "#-- enable this later. test_run_nfa_int()"
      ],
      "execution_count": 31,
      "outputs": []
    },
    {
      "cell_type": "markdown",
      "metadata": {
        "run_control": {
          "frozen": false,
          "read_only": false
        },
        "id": "56C1zQ6exWzk"
      },
      "source": [
        "## Once you run the command below, provide a string\n",
        "\n",
        "Provide a string of 0's and 1's. Then you can use the pull-down to pick the NFA\n",
        "to test, and the slider to incrementally consume more of the input string.\n"
      ]
    },
    {
      "cell_type": "code",
      "metadata": {
        "run_control": {
          "frozen": false,
          "read_only": false
        },
        "id": "jStgsQ0cxWzl",
        "outputId": "ce931e3f-2f40-4e76-c0a1-3f6737bfdc5f",
        "colab": {
          "base_uri": "https://localhost:8080/",
          "height": 266,
          "referenced_widgets": [
            "dfcdc480d3984cd884798e5f549aa7c0",
            "40c04b8f30784a0c9b1eb516a6768c50",
            "d651525a6a574e418f473b15635a372c",
            "b80496ddf06e4b1081255fdb0c3836e4",
            "ac5bf4b5bad1463cb6fa3c25a6b3e71a",
            "848d942c0e1d42f698626c57b9f2bb69",
            "bd116f66644d4d6da446378433650d20",
            "6a9270dc4ac44766bb552a8712113a22",
            "9c6548dc879a491d93c1a6b252a43dfd",
            "72f7b4402d7748ed828848dbfe1b6557",
            "f5ee0aacb5dd478dbf902d4af6dcedb4",
            "41490afa97ce40ad8ab245524c36095c",
            "743b6e3fd306416ab640ecb3334768bb"
          ]
        }
      },
      "source": [
        "test_run_nfa_int(NFA_ends0101, NFA_3rdlast_1)"
      ],
      "execution_count": 32,
      "outputs": [
        {
          "output_type": "stream",
          "text": [
            "Please provide string: 0010110\n"
          ],
          "name": "stdout"
        },
        {
          "output_type": "display_data",
          "data": {
            "application/vnd.jupyter.widget-view+json": {
              "model_id": "dfcdc480d3984cd884798e5f549aa7c0",
              "version_minor": 0,
              "version_major": 2
            },
            "text/plain": [
              "interactive(children=(Dropdown(description='N', options={'N1': {'Q': {'F', 'S0', 'I', 'S010', 'S01'}, 'Sigma':…"
            ]
          },
          "metadata": {
            "tags": []
          }
        }
      ]
    }
  ]
}