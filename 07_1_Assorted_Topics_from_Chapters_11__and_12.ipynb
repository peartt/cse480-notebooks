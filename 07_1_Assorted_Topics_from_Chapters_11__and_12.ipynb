{
  "nbformat": 4,
  "nbformat_minor": 0,
  "metadata": {
    "colab": {
      "name": "07_1_Assorted_Topics_from_Chapters_11 _and_12.ipynb",
      "provenance": [],
      "collapsed_sections": [],
      "authorship_tag": "ABX9TyN1Iqn4tplLqbkOi+zpAYXc",
      "include_colab_link": true
    },
    "kernelspec": {
      "name": "python3",
      "display_name": "Python 3"
    }
  },
  "cells": [
    {
      "cell_type": "markdown",
      "metadata": {
        "id": "view-in-github",
        "colab_type": "text"
      },
      "source": [
        "<a href=\"https://colab.research.google.com/github/byui-cse/cse480-notebooks/blob/master/07_1_Assorted_Topics_from_Chapters_11__and_12.ipynb\" target=\"_parent\"><img src=\"https://colab.research.google.com/assets/colab-badge.svg\" alt=\"Open In Colab\"/></a>"
      ]
    },
    {
      "cell_type": "markdown",
      "metadata": {
        "id": "rWL5ElBILfn7"
      },
      "source": [
        "# Assorted Topics from Chapters 11 and 12\n",
        "## Ponder and Prove\n",
        "### Due: Saturday, 20 February 2021, 11:59 pm"
      ]
    },
    {
      "cell_type": "markdown",
      "metadata": {
        "id": "l5w5vXj3L9_l"
      },
      "source": [
        "## The goal is for you to make some good connections between these formal objects:\n",
        " \n",
        "* Parse trees\n",
        "* Derivation Sequences\n",
        "* Instantaneous Description Sequences\n",
        " \n",
        "See the example in Figure 11.1, with the derivation sequence shown on the right of this figure, and the ID sequence also shown below."
      ]
    },
    {
      "cell_type": "code",
      "metadata": {
        "id": "3aTAiJlvM-v_"
      },
      "source": [
        "#~~~~~~~~~~~~~~~~~~~~~~~~~~~~~~~~~~~~~~~~~~~~~~~~~~~~~~~\n",
        "import sys\n",
        "\n",
        "# -- Detect if in Own Install or in Colab\n",
        "try:\n",
        "    import google.colab\n",
        "    OWN_INSTALL = False\n",
        "except:\n",
        "    OWN_INSTALL = True\n",
        "    \n",
        "if OWN_INSTALL:\n",
        "\n",
        "  sys.path[0:0] = ['../../../../..',  '../../../../../3rdparty',  \n",
        "                   '../../../..',  '../../../../3rdparty',  \n",
        "                   '../../..',     '../../../3rdparty', \n",
        "                   '../..',        '../../3rdparty',\n",
        "                   '..',           '../3rdparty',\n",
        "                   '../Jove',      '../Jove/jove']\n",
        "\n",
        "else: # In colab\n",
        "  ! if [ ! -d Jove ]; then git clone https://github.com/ganeshutah/Jove Jove; fi\n",
        "  sys.path.append('./Jove')\n",
        "  sys.path.append('./Jove/jove')\n",
        "\n",
        "# -- common imports --\n",
        "from jove.SystemImports import *\n",
        "from jove.DotBashers    import *\n",
        "from jove.Def_md2mc     import *\n",
        "from jove.Def_PDA       import * \n",
        "#~~~~~~~~~~~~~~~~~~~~~~~~~~~~~~~~~~~~~~~~~~~~~~~~~~~~~~~"
      ],
      "execution_count": null,
      "outputs": []
    },
    {
      "cell_type": "markdown",
      "metadata": {
        "id": "bAeGN7M0MwBf"
      },
      "source": [
        "## Dyck CFG and Direct-Converted PDA"
      ]
    },
    {
      "cell_type": "markdown",
      "metadata": {
        "id": "qECAUj8nNyzQ"
      },
      "source": [
        " Note that the CFG is inside the PDA code as a comment."
      ]
    },
    {
      "cell_type": "code",
      "metadata": {
        "id": "K-ArmTlSN2QY"
      },
      "source": [
        "dyck = md2mc('''\n",
        "PDA\n",
        "!!-- CFG follows\n",
        "!!-- S -> SS | (S) | ''\n",
        "\n",
        "IF : '',#; S# -> W\n",
        "\n",
        "W  : (,(; '' -> W\n",
        "W  : ),); '' -> W\n",
        "\n",
        "W  : b,b; bb -> W\n",
        "\n",
        "W  : '',S; SS  -> W\n",
        "W  : '',S; (S) -> W\n",
        "W  : '',S; ''  -> W\n",
        "\n",
        "W  : '',#; # -> F\n",
        "\n",
        "''')\n",
        "dotObj_pda(dyck, FuseEdges=True)"
      ],
      "execution_count": null,
      "outputs": []
    },
    {
      "cell_type": "markdown",
      "metadata": {
        "id": "MKF3vySPOHrI"
      },
      "source": [
        "### TODO: Convert and compare Jove with the Automaton Simulator"
      ]
    },
    {
      "cell_type": "markdown",
      "metadata": {
        "id": "EwTxpbZWOVPq"
      },
      "source": [
        "This is the one demonstrated in class last week:\n",
        "\n",
        "https://automatonsimulator.com/\n",
        "\n",
        "Include a link encoding your saved machine."
      ]
    },
    {
      "cell_type": "code",
      "metadata": {
        "id": "UdhwmPXzOXrX"
      },
      "source": [
        "explore_pda('((())())()', dyck)"
      ],
      "execution_count": null,
      "outputs": []
    },
    {
      "cell_type": "markdown",
      "metadata": {
        "id": "8BNnAzw1Oxvc"
      },
      "source": [
        "## Derivation Sequences (DS) are Formed from Instantaneous Description (ID) Sequences"
      ]
    },
    {
      "cell_type": "markdown",
      "metadata": {
        "id": "cumdtEixPPjf"
      },
      "source": [
        "Note that Derivation sequences (DS) are \"flattened parse trees\"!\n",
        "\n",
        "Here's how to reverse-engineer DS from the ID sequence printed:\n",
        "\n",
        "```\n",
        "     ID SEQUENCE                 -- FORMING EACH STEP of DERIVATION SEQUENCE\n",
        "=================================================================================     \n",
        "->  ('IF', '((())())()', '#')    -- \n",
        "->  ('W', '((())())()', 'S#')    -- S\n",
        "->  ('W', '((())())()', 'SS#')   -- S     => SS      (on top of stack)\n",
        "->  ('W', '((())())()', '(S)S#') -- SS    => (S)S    (push on TOS; record in deriv seq\n",
        "->  ('W', '(())())()', 'S)S#')   -- (S)S  => popped  (so no new derivation; leaf-match in PT)\n",
        "->  ('W', '(())())()', 'SS)S#')  -- (S)S  => (SS)S   (new push; so record in deriv. sequence)\n",
        "->  ('W', '(())())()', '(S)S)S#')-- (SS)S => ((S)S)S (again notice new push!)\n",
        "```\n",
        "\n",
        "Thus, we note that S => SS => (S)S => (SS)S => ((S)S)S => ... ((())())() \n",
        "\n",
        "\n",
        "\n",
        "\n",
        " "
      ]
    },
    {
      "cell_type": "markdown",
      "metadata": {
        "id": "BzlzmCM6Pjb6"
      },
      "source": [
        "### TODO Draw the Parse Tree from this DS."
      ]
    },
    {
      "cell_type": "markdown",
      "metadata": {
        "id": "YZ2Q7YKbQoLC"
      },
      "source": [
        "Use a neat drawing tool, and put the source and the PNG here."
      ]
    },
    {
      "cell_type": "markdown",
      "metadata": {
        "id": "S_PdBVXiQzB3"
      },
      "source": [
        "## Disambiguated Expression Parsing"
      ]
    },
    {
      "cell_type": "markdown",
      "metadata": {
        "id": "QIs4tcqRQ7M-"
      },
      "source": [
        "Derivation sequence for ```2*3+2``` noted below"
      ]
    },
    {
      "cell_type": "code",
      "metadata": {
        "id": "U54kIdD1RELn"
      },
      "source": [
        "# Parsing an arithmetic expression\n",
        "pdaE = md2mc('''PDA\n",
        "\n",
        "!!-- The grammar E -> E+E | E*E | (E) | ~E | 2 | 3 is ambiguous!\n",
        "!!-- Two parse trees!\n",
        "!!-- This is your Asg Part 2b\n",
        "\n",
        "!!-- STRATIFIED GRAMMAR for expressions avoids ambiguity - below!\n",
        "!!E -> E+T | T\n",
        "!!T -> T*F | F\n",
        "!!F -> 2 | 3 | ~F | (E)\n",
        "!!-- Direct-converted PDA from above CFG\n",
        "I : '', #  ; E#  -> M\n",
        "M : '', E  ; E+T -> M\n",
        "M : '', E  ; T   -> M\n",
        "M : '', T  ; T*F -> M\n",
        "M : '', T  ; F   -> M\n",
        "M : '', F  ; 2   -> M\n",
        "M : '', F  ; 3   -> M\n",
        "M : '', F  ; ~F  -> M\n",
        "M : '', F  ; (E) -> M\n",
        "M : ~,  ~  ; ''  -> M\n",
        "M : 2,  2  ; ''  -> M\n",
        "M : 3,  3  ; ''  -> M\n",
        "M : (,  (  ; ''  -> M\n",
        "M : ),  )  ; ''  -> M\n",
        "M : +,  +  ; ''  -> M\n",
        "M : *,  *  ; ''  -> M\n",
        "M : '', #  ; #   -> F\n",
        "'''\n",
        ")"
      ],
      "execution_count": null,
      "outputs": []
    },
    {
      "cell_type": "markdown",
      "metadata": {
        "id": "8vuXCV31RsXh"
      },
      "source": [
        "### TODO: Convert and compare Jove with the Automaton Simulator"
      ]
    },
    {
      "cell_type": "markdown",
      "metadata": {
        "id": "2QcQqew-RwzC"
      },
      "source": [
        "As before. Include a link encoding your saved machine."
      ]
    },
    {
      "cell_type": "code",
      "metadata": {
        "id": "aGlCR07pRStG"
      },
      "source": [
        "explore_pda('2*3+2', pdaE)"
      ],
      "execution_count": null,
      "outputs": []
    },
    {
      "cell_type": "markdown",
      "metadata": {
        "id": "tl4-vlFUSGXw"
      },
      "source": [
        "### ID Sequence to Derivation Sequence to Implied Parse-Tree"
      ]
    },
    {
      "cell_type": "markdown",
      "metadata": {
        "id": "S3dnfq0pSLz0"
      },
      "source": [
        "```\n",
        "     ID SEQUENCE             -- FORMING EACH STEP of DERIVATION SEQUENCE\n",
        "=================================================================================  \n",
        "->  ('I', '2*3+2', '#')      -- \n",
        "->  ('M', '2*3+2', 'E#')     -- E        (pushed)\n",
        "->  ('M', '2*3+2', 'E+T#')   -- => E+T   (removed E; pushed E+T)\n",
        "->  ('M', '2*3+2', 'T+T#')   -- => T+T   (pushed T)\n",
        "->  ('M', '2*3+2', 'T*F+T#') -- => T*F+T (removed T, pushed T*F)\n",
        "->  ('M', '2*3+2', 'F*F+T#') -- => F*F+T (removed T, pushed F)\n",
        "->  ('M', '2*3+2', '2*F+T#') -- => 2*F+T (removed F, pushed 2)\n",
        "->  ('M', '*3+2', '*F+T#')   -- => leaf-match of 2, no new push, deriv seq same as before\n",
        "->  ('M', '3+2', 'F+T#')     -- => leaf-match of *, no new push. NOTICE \"*\" DONE BEFORE +\n",
        "->  ('M', '3+2', '3+T#')     -- => ...\n",
        "->  ('M', '+2', '+T#')\n",
        "->  ('M', '2', 'T#')\n",
        "->  ('M', '2', 'F#')\n",
        "->  ('M', '2', '2#')\n",
        "->  ('M', '', '#')\n",
        "->  ('F', '', '#') . \n",
        "```\n"
      ]
    },
    {
      "cell_type": "markdown",
      "metadata": {
        "id": "ZlZGA1QsSUTH"
      },
      "source": [
        "### TODO: Finish --- Derivation sequence is\n"
      ]
    },
    {
      "cell_type": "markdown",
      "metadata": {
        "id": "eOulPtj4Tn0O"
      },
      "source": [
        "```E => E+T => T+T => T*F+T => F*F+T => 2*F+T => ... 2*3+2``` (You flesh out.)"
      ]
    },
    {
      "cell_type": "markdown",
      "metadata": {
        "id": "q45T-I2RSgBK"
      },
      "source": [
        "### TODO Draw the Parse Tree from this DS."
      ]
    },
    {
      "cell_type": "markdown",
      "metadata": {
        "id": "y59gb2QMSgBL"
      },
      "source": [
        "Use a neat drawing tool, and put the source and the PNG here."
      ]
    },
    {
      "cell_type": "markdown",
      "metadata": {
        "id": "gEvcp6JbSusH"
      },
      "source": [
        "Note how * is done before +."
      ]
    },
    {
      "cell_type": "markdown",
      "metadata": {
        "id": "sL5qNMy9IaYi"
      },
      "source": [
        "## TODO Study Context-Free Grammars Further\n",
        "\n"
      ]
    },
    {
      "cell_type": "markdown",
      "metadata": {
        "id": "Okf_H6PmIkB5"
      },
      "source": [
        "1. Learn how to \"run\" CFGs by directly converting them to PDA, and running those PDA.\n",
        "2. Watch YouTube videos as presented \"in context\" below."
      ]
    },
    {
      "cell_type": "markdown",
      "metadata": {
        "id": "wVn2YjBCJAkT"
      },
      "source": [
        "#### CFG Basics and How to Directly Parse Them Using PDA"
      ]
    },
    {
      "cell_type": "code",
      "metadata": {
        "id": "KrCcxXr9JQ2T"
      },
      "source": [
        "from IPython.display import YouTubeVideo\n",
        "YouTubeVideo('bymg3MDe6Y4')"
      ],
      "execution_count": null,
      "outputs": []
    },
    {
      "cell_type": "markdown",
      "metadata": {
        "id": "nVGeLVsfJlDp"
      },
      "source": [
        "Direct path: https://youtu.be/bymg3MDe6Y4 (31 min mark).\n",
        "\n",
        "From about the 30-minute mark, the video discusses the grammar:\n",
        "\n",
        "S -> aSa | bSb | epsilon,\n",
        "\n",
        "for $\\{w w^R \\;:\\; w \\in \\{a, b\\}^* \\}$."
      ]
    },
    {
      "cell_type": "markdown",
      "metadata": {
        "id": "TZdCpOVDKb-0"
      },
      "source": [
        "### The Next Video"
      ]
    },
    {
      "cell_type": "markdown",
      "metadata": {
        "id": "SfC9y-6tKenk"
      },
      "source": [
        "(Direct path https://youtu.be/N5wQovKIZGM) discusses:\n",
        "1. Consistency/Completeness\n",
        "2. Linearity\n",
        "3. Ambiguity"
      ]
    },
    {
      "cell_type": "code",
      "metadata": {
        "id": "HWBTAVDRKsvw"
      },
      "source": [
        "from IPython.display import YouTubeVideo\n",
        "YouTubeVideo('N5wQovKIZGM')"
      ],
      "execution_count": null,
      "outputs": []
    },
    {
      "cell_type": "markdown",
      "metadata": {
        "id": "5xGGU3oNK2X_"
      },
      "source": [
        "### TODO Run the \"Direct Simulation of CFG from PDA\""
      ]
    },
    {
      "cell_type": "markdown",
      "metadata": {
        "id": "Z97Jh6ewK9UM"
      },
      "source": [
        "for the above grammar. Notice how each grammar rule is encoded DIRECTLY as a PDA transition.\n",
        "\n",
        "These PDA always have the *SAME* I to W and W to F moves ...\n",
        "\n",
        "Only the W to W moves vary; and here, they have transitions that go by the CFG.\n",
        "\n",
        "There are always $a \\in \\Sigma$ transitions that drain every $a \\in \\Sigma$, matching it with an incoming $a$."
      ]
    },
    {
      "cell_type": "code",
      "metadata": {
        "id": "-TJ_syN7LfSP"
      },
      "source": [
        "wwR = md2mc('''\n",
        "PDA\n",
        "!!-- The CFG to be simulated\n",
        "!!-- S -> aSa | bSb | ''\n",
        "\n",
        "!!-- This move is the same for any CFG\n",
        "I : '',#; S# -> W\n",
        "\n",
        "!!-- These moves imitate the CFG productions directly\n",
        "W : '',S; aSa -> W\n",
        "W : '',S; bSb -> W\n",
        "W : '',S; ''  -> W\n",
        "\n",
        "!!-- Transitions for every member of Sigma\n",
        "W : a,a; '' -> W\n",
        "W : b,b; '' -> W\n",
        "\n",
        "!!-- This transition is also there for every CFG\n",
        "W : '',#; ''   -> F\n",
        "''')\n",
        "dotObj_pda(wwR, FuseEdges=True)"
      ],
      "execution_count": null,
      "outputs": []
    },
    {
      "cell_type": "code",
      "metadata": {
        "id": "xQuqpJKfL1yi"
      },
      "source": [
        "explore_pda('aabaabaa', wwR)"
      ],
      "execution_count": null,
      "outputs": []
    },
    {
      "cell_type": "markdown",
      "metadata": {
        "id": "_3JNV_j0L7yF"
      },
      "source": [
        "### Animate with Jove and Alternative"
      ]
    },
    {
      "cell_type": "code",
      "metadata": {
        "id": "02sZSsbWMCYJ"
      },
      "source": [
        "from jove.AnimatePDA import *\n",
        "AnimatePDA(wwR, FuseEdges=True)\n",
        "display(HTML('<link rel=\"stylesheet\" href=\"//stackpath.bootstrapcdn.com/font-awesome/4.7.0/css/font-awesome.min.css\"/>'))\n"
      ],
      "execution_count": null,
      "outputs": []
    },
    {
      "cell_type": "markdown",
      "metadata": {
        "id": "5NzJT4a3QzCs"
      },
      "source": [
        "Do this and all the rest with the alternative Automaton Simulator also. https://automatonsimulator.com"
      ]
    },
    {
      "cell_type": "markdown",
      "metadata": {
        "id": "lLKSYVV8MkAq"
      },
      "source": [
        "### Animation Panel for all Machines (choose PDA)"
      ]
    },
    {
      "cell_type": "markdown",
      "metadata": {
        "id": "Z0XjJ3qVMrPf"
      },
      "source": [
        "### You may do the above animation here.\n",
        "#### Access the PDA panel and key-in the definition of wwR in there."
      ]
    },
    {
      "cell_type": "code",
      "metadata": {
        "id": "06aGi4C-NPUr"
      },
      "source": [
        "from jove.JoveEditor import *\n",
        "JoveEditor(examples=True)\n",
        "display(HTML('<link rel=\"stylesheet\" href=\"//stackpath.bootstrapcdn.com/font-awesome/4.7.0/css/font-awesome.min.css\"/>'))\n"
      ],
      "execution_count": null,
      "outputs": []
    },
    {
      "cell_type": "markdown",
      "metadata": {
        "id": "XElSGnwFNh7i"
      },
      "source": [
        "The explore_pda call below fails because the string is not of the form $ww^R$. Here you must use ```explore_pda```, not animation, to further investigate."
      ]
    },
    {
      "cell_type": "code",
      "metadata": {
        "id": "l7p49tPlNr4w"
      },
      "source": [
        "explore_pda('aabaaaba', wwR)"
      ],
      "execution_count": null,
      "outputs": []
    },
    {
      "cell_type": "markdown",
      "metadata": {
        "id": "--pkDVxpNwZj"
      },
      "source": [
        "### An RE Grammar and its PDA Encoding"
      ]
    },
    {
      "cell_type": "markdown",
      "metadata": {
        "id": "Zh3kBQsFN0_y"
      },
      "source": [
        "Observe the number of possible parses.\n",
        "\n",
        "This is a highly ambiguous grammar because there are many parses for the same input."
      ]
    },
    {
      "cell_type": "code",
      "metadata": {
        "id": "mRNF34GrOHWI"
      },
      "source": [
        "repda = md2mc('''PDA\n",
        "!!R -> R R | R + R | R* | ( R ) | 0 | 1 | e\n",
        "I : '', #  ; R#  -> M\n",
        "M : '', R  ; RR  -> M\n",
        "M : '', R  ; R+R -> M\n",
        "M : '', R  ; R*  -> M\n",
        "M : '', R  ; (R) -> M\n",
        "M : '', R  ; 0   -> M\n",
        "M : '', R  ; 1   -> M\n",
        "M : '', R  ; e   -> M\n",
        "M : 0,  0  ; ''  -> M\n",
        "M : 1,  1  ; ''  -> M\n",
        "M : (,  (  ; ''  -> M\n",
        "M : ),  )  ; ''  -> M\n",
        "M : +,  +  ; ''  -> M\n",
        "M : e,  e  ; ''  -> M\n",
        "M : '', #  ; #   -> F\n",
        "'''\n",
        ")"
      ],
      "execution_count": null,
      "outputs": []
    },
    {
      "cell_type": "code",
      "metadata": {
        "id": "aN0rmI56OIuv"
      },
      "source": [
        "repda"
      ],
      "execution_count": null,
      "outputs": []
    },
    {
      "cell_type": "code",
      "metadata": {
        "id": "4X1KjfXLOMja"
      },
      "source": [
        "DO_repda = dotObj_pda(repda, FuseEdges=True)"
      ],
      "execution_count": null,
      "outputs": []
    },
    {
      "cell_type": "code",
      "metadata": {
        "id": "DxBI8VSsOioT"
      },
      "source": [
        "DO_repda"
      ],
      "execution_count": null,
      "outputs": []
    },
    {
      "cell_type": "code",
      "metadata": {
        "id": "WR_qC_9FOPro"
      },
      "source": [
        "explore_pda(\"0\", repda, STKMAX=4)"
      ],
      "execution_count": null,
      "outputs": []
    },
    {
      "cell_type": "code",
      "metadata": {
        "id": "iRB4qVIlOT61"
      },
      "source": [
        "explore_pda(\"00\", repda)"
      ],
      "execution_count": null,
      "outputs": []
    },
    {
      "cell_type": "code",
      "metadata": {
        "id": "8k4emfwZOWkp"
      },
      "source": [
        "explore_pda(\"(0)\", repda)"
      ],
      "execution_count": null,
      "outputs": []
    },
    {
      "cell_type": "code",
      "metadata": {
        "id": "m_q0AelwOqJO"
      },
      "source": [
        "explore_pda(\"(00)\", repda)"
      ],
      "execution_count": null,
      "outputs": []
    },
    {
      "cell_type": "code",
      "metadata": {
        "id": "SJYPmSmOOwdB"
      },
      "source": [
        "explore_pda(\"(0)(0)\", repda)"
      ],
      "execution_count": null,
      "outputs": []
    },
    {
      "cell_type": "code",
      "metadata": {
        "id": "6xTtiyzZO1Kc"
      },
      "source": [
        "explore_pda(\"0+0\", repda, STKMAX=3)"
      ],
      "execution_count": null,
      "outputs": []
    },
    {
      "cell_type": "code",
      "metadata": {
        "id": "dBNX3T2EO4tk"
      },
      "source": [
        "explore_pda(\"(0)+(0)\", repda)"
      ],
      "execution_count": null,
      "outputs": []
    },
    {
      "cell_type": "code",
      "metadata": {
        "id": "mStql3ljO802"
      },
      "source": [
        "explore_pda(\"00+0\", repda)"
      ],
      "execution_count": null,
      "outputs": []
    },
    {
      "cell_type": "code",
      "metadata": {
        "id": "74cOo2F4PBJ4"
      },
      "source": [
        "explore_pda(\"000\", repda, STKMAX=3)"
      ],
      "execution_count": null,
      "outputs": []
    },
    {
      "cell_type": "code",
      "metadata": {
        "id": "c0p12IO_PFk5"
      },
      "source": [
        "explore_pda(\"00+00\", repda, STKMAX=4)"
      ],
      "execution_count": null,
      "outputs": []
    },
    {
      "cell_type": "code",
      "metadata": {
        "id": "ZQy0ZRzTPJFh"
      },
      "source": [
        "explore_pda(\"00+00\", repda, STKMAX=5)"
      ],
      "execution_count": null,
      "outputs": []
    },
    {
      "cell_type": "markdown",
      "metadata": {
        "id": "hdzjOpK4PcWR"
      },
      "source": [
        "### PDA for Well-Balanced Parentheses"
      ]
    },
    {
      "cell_type": "code",
      "metadata": {
        "id": "mAjwxSYePdbK"
      },
      "source": [
        "brpda1 = md2mc('''PDA\n",
        "\n",
        "!!-- The CFG simulated is\n",
        "!!-- S -> (S)|SS|''\n",
        "\n",
        "!!-- Initial move to state M (was W above)\n",
        " I : '', '' ; S     -> M\n",
        " \n",
        " M : '', S  ; (S) -> M\n",
        " M : '', S  ; SS   -> M\n",
        " M : '', S  ; ''    -> M\n",
        " \n",
        " M : (,  (  ; ''    -> M\n",
        " M : ),  )  ; ''    -> M\n",
        " \n",
        " M : '',  ''  ; ''  -> M\n",
        " \n",
        " M : '', #  ; ''    -> F''')\n",
        "\n",
        "dotObj_pda(brpda1, FuseEdges=True)"
      ],
      "execution_count": null,
      "outputs": []
    },
    {
      "cell_type": "code",
      "metadata": {
        "id": "BomfGczqPhx7"
      },
      "source": [
        "explore_pda(\"()(())\", brpda1, STKMAX=5)"
      ],
      "execution_count": null,
      "outputs": []
    },
    {
      "cell_type": "markdown",
      "metadata": {
        "id": "hOb_QL_hPlw0"
      },
      "source": [
        "### Ambiguous Parsing of Arithmetic Expressions"
      ]
    },
    {
      "cell_type": "code",
      "metadata": {
        "id": "isljmxPMPsKA"
      },
      "source": [
        "# Parsing an arithmetic expression\n",
        "pdaEamb = md2mc('''PDA\n",
        "!!E -> E * E | E + E | ~E | ( E ) | 2 | 3\n",
        "I : '', #  ; E#  -> M\n",
        "M : '', E  ; ~E  -> M\n",
        "M : '', E  ; E+E -> M\n",
        "M : '', E  ; E*E -> M\n",
        "M : '', E  ; (E) -> M\n",
        "M : '', E  ; 2   -> M\n",
        "M : '', E  ; 3   -> M\n",
        "M : ~,  ~  ; ''  -> M\n",
        "M : 2,  2  ; ''  -> M\n",
        "M : 3,  3  ; ''  -> M\n",
        "M : (,  (  ; ''  -> M\n",
        "M : ),  )  ; ''  -> M\n",
        "M : +,  +  ; ''  -> M\n",
        "M : *,  *  ; ''  -> M\n",
        "M : '', #  ; #   -> F\n",
        "'''\n",
        ")"
      ],
      "execution_count": null,
      "outputs": []
    },
    {
      "cell_type": "code",
      "metadata": {
        "id": "LDNMH0UDPzu_"
      },
      "source": [
        "DOpdaEamb = dotObj_pda(pdaEamb, FuseEdges=True)\n",
        "DOpdaEamb"
      ],
      "execution_count": null,
      "outputs": []
    },
    {
      "cell_type": "code",
      "metadata": {
        "id": "TG-W9zaiP2wh"
      },
      "source": [
        "explore_pda(\"3+2*3\", pdaEamb, STKMAX=5)"
      ],
      "execution_count": null,
      "outputs": []
    },
    {
      "cell_type": "code",
      "metadata": {
        "id": "EVOZXpuWP-_g"
      },
      "source": [
        "explore_pda(\"3+2*3+2*3\", pdaEamb, STKMAX=7)"
      ],
      "execution_count": null,
      "outputs": []
    },
    {
      "cell_type": "markdown",
      "metadata": {
        "id": "hfS9BS61P__p"
      },
      "source": [
        "### Disambiguated Arithmetic Expression Grammar"
      ]
    },
    {
      "cell_type": "code",
      "metadata": {
        "id": "07VfgZuoQFnf"
      },
      "source": [
        "# Parsing an arithmetic expression\n",
        "pdaE = md2mc('''PDA\n",
        "!!E -> E+T | T\n",
        "!!T -> T*F | F\n",
        "!!F -> 2 | 3 | ~F | (E)\n",
        "I : '', #  ; E#  -> M\n",
        "M : '', E  ; E+T -> M\n",
        "M : '', E  ; T   -> M\n",
        "M : '', T  ; T*F -> M\n",
        "M : '', T  ; F   -> M\n",
        "M : '', F  ; 2   -> M\n",
        "M : '', F  ; 3   -> M\n",
        "M : '', F  ; ~F  -> M\n",
        "M : '', F  ; (E) -> M\n",
        "M : ~,  ~  ; ''  -> M\n",
        "M : 2,  2  ; ''  -> M\n",
        "M : 3,  3  ; ''  -> M\n",
        "M : (,  (  ; ''  -> M\n",
        "M : ),  )  ; ''  -> M\n",
        "M : +,  +  ; ''  -> M\n",
        "M : *,  *  ; ''  -> M\n",
        "M : '', #  ; #   -> F\n",
        "'''\n",
        ")"
      ],
      "execution_count": null,
      "outputs": []
    },
    {
      "cell_type": "code",
      "metadata": {
        "id": "6LExQ4ORQMCS"
      },
      "source": [
        "DOpdaE = dotObj_pda(pdaE, FuseEdges=True)\n",
        "DOpdaE"
      ],
      "execution_count": null,
      "outputs": []
    },
    {
      "cell_type": "code",
      "metadata": {
        "id": "xvFYVh7AQNRt"
      },
      "source": [
        "explore_pda(\"3+2*3\", pdaE, STKMAX=7)"
      ],
      "execution_count": null,
      "outputs": []
    },
    {
      "cell_type": "code",
      "metadata": {
        "id": "cq-aM5JQQRR_"
      },
      "source": [
        "explore_pda(\"3+2*3+2*3\", pdaE, STKMAX=7)"
      ],
      "execution_count": null,
      "outputs": []
    },
    {
      "cell_type": "code",
      "metadata": {
        "id": "hRezVIbuQUqw"
      },
      "source": [
        "explore_pda(\"3*2*~3+~~3*~3\", pdaE, STKMAX=10)"
      ],
      "execution_count": null,
      "outputs": []
    },
    {
      "cell_type": "code",
      "metadata": {
        "id": "2WpgGFcGQalu"
      },
      "source": [
        "explore_pda(\"3*2*~3+~~3*~3\", pdaEamb, STKMAX=8)"
      ],
      "execution_count": null,
      "outputs": []
    }
  ]
}