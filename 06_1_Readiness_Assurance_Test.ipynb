{
  "nbformat": 4,
  "nbformat_minor": 0,
  "metadata": {
    "colab": {
      "name": "06_1_Readiness_Assurance_Test.ipynb",
      "provenance": [],
      "authorship_tag": "ABX9TyPG8xC1b+8aGXSEz1tn+9H5",
      "include_colab_link": true
    },
    "kernelspec": {
      "name": "python3",
      "display_name": "Python 3"
    }
  },
  "cells": [
    {
      "cell_type": "markdown",
      "metadata": {
        "id": "view-in-github",
        "colab_type": "text"
      },
      "source": [
        "<a href=\"https://colab.research.google.com/github/byui-cse/cse480-notebooks/blob/master/06_1_Readiness_Assurance_Test.ipynb\" target=\"_parent\"><img src=\"https://colab.research.google.com/assets/colab-badge.svg\" alt=\"Open In Colab\"/></a>"
      ]
    },
    {
      "cell_type": "markdown",
      "metadata": {
        "id": "UEhvJzZ5EiIK"
      },
      "source": [
        "# Readiness Assurance Test\n",
        "## Due: Monday, 8 February 2021, 2:30pm"
      ]
    },
    {
      "cell_type": "markdown",
      "metadata": {
        "id": "wqar4fgvSBxR"
      },
      "source": [
        "## Imports, then the actual RAT"
      ]
    },
    {
      "cell_type": "code",
      "metadata": {
        "id": "y863_jSu1Fad",
        "run_control": {
          "frozen": false,
          "read_only": false
        },
        "scrolled": true
      },
      "source": [
        "#~~~~~~~~~~~~~~~~~~~~~~~~~~~~~~~~~~~~~~~~~~~~~~~~~~~~~~~\n",
        "import sys\n",
        "\n",
        "# -- Detect if in Own Install or in Colab\n",
        "try:\n",
        "    import google.colab\n",
        "    OWN_INSTALL = False\n",
        "except:\n",
        "    OWN_INSTALL = True\n",
        "    \n",
        "if OWN_INSTALL:\n",
        "  \n",
        "  sys.path[0:0] = ['../../../../..',  '../../../../../3rdparty',  \n",
        "                   '../../../..',  '../../../../3rdparty',  \n",
        "                   '../../..',     '../../../3rdparty', \n",
        "                   '../..',        '../../3rdparty',\n",
        "                   '..',           '../3rdparty',\n",
        "                   '../Jove',      '../Jove/jove']\n",
        "\n",
        "else: # In colab\n",
        "  ! if [ ! -d Jove ]; then git clone https://github.com/ganeshutah/Jove Jove; fi\n",
        "  sys.path.append('./Jove')\n",
        "  sys.path.append('./Jove/jove')\n",
        "\n",
        "# -- common imports --\n",
        "from jove.DotBashers import *\n",
        "from jove.Def_md2mc  import *\n",
        "from jove.Def_NFA    import *\n",
        "from jove.Def_DFA    import *\n",
        "from jove.Def_NFA2RE import *\n",
        "from jove.Def_RE2NFA import *\n",
        "from jove.AnimateNFA import *\n",
        "#~~~~~~~~~~~~~~~~~~~~~~~~~~~~~~~~~~~~~~~~~~~~~~~~~~~~~~~"
      ],
      "execution_count": null,
      "outputs": []
    },
    {
      "cell_type": "markdown",
      "metadata": {
        "id": "glhcbfJwE2hp"
      },
      "source": [
        "# DFA and NFA"
      ]
    },
    {
      "cell_type": "markdown",
      "metadata": {
        "id": "rxMsOSQ6FMMs"
      },
      "source": [
        "## DFA conform to the rules of NFA, but not (always) vice versa."
      ]
    },
    {
      "cell_type": "markdown",
      "metadata": {
        "id": "VMRBbidSFRNW"
      },
      "source": [
        "### Formal Definition of DFA\n",
        "A DFA is a 5-tuple $(Q, \\Sigma, \\delta, q_0, F)$, where\n",
        "\n",
        "1. $Q$ is a finite set called the **states**,\n",
        "2. $\\Sigma$ is a finite set called the **alphabet**,\n",
        "3. $\\delta: Q \\times \\Sigma \\rightarrow Q$ is the **transition function**,\n",
        "4. $q_0 \\in Q$ is the **start state**, and\n",
        "5. $F \\subseteq Q$ is the **set of accept states** (or **final** states)."
      ]
    },
    {
      "cell_type": "markdown",
      "metadata": {
        "id": "pSlG0bzMF78_"
      },
      "source": [
        "### Formal Definition of NFA\n",
        "An NFA is a 5-tuple $(Q, \\Sigma, \\delta, Q_0, F)$, where\n",
        "\n",
        "1. $Q$ is a finite set called the **states**,\n",
        "2. $\\Sigma$ is a finite set called the **alphabet** (which does not include $\\varepsilon$),\n",
        "3. $\\delta: Q \\times \\Sigma_{\\varepsilon} \\rightarrow \\mathcal{P}(Q)$ is the **transition function** ($\\Sigma_{\\varepsilon}$ is short for $\\Sigma \\cup \\{\\varepsilon\\})$,\n",
        "4. $Q_0 \\subseteq Q$ is the **set of start states**, and\n",
        "5. $F \\subseteq Q$ is the **set of accept states** (or **final** states)."
      ]
    },
    {
      "cell_type": "markdown",
      "metadata": {
        "id": "dkSUGkfIHnQs"
      },
      "source": [
        "## Equivalence"
      ]
    },
    {
      "cell_type": "markdown",
      "metadata": {
        "id": "-t-l3eTmHpui"
      },
      "source": [
        "NFA can be converted into DFA because they both represent regular languages, which can be represented by regular expressions, which can be converted to and from NFA."
      ]
    },
    {
      "cell_type": "markdown",
      "metadata": {
        "id": "DmHuN66WOdaA"
      },
      "source": [
        "### Formal Definition of RE (Regular Expressions)"
      ]
    },
    {
      "cell_type": "markdown",
      "metadata": {
        "id": "cidN1LJaOjIg"
      },
      "source": [
        "$R$ is a **regular expression** (an **RE** for short) if $R$ is any of\n",
        "\n",
        "\n",
        "* {} (the empty set $\\emptyset$) \n",
        "* {''} (the set containing the empty string $\\{\\varepsilon\\}$)\n",
        "* $\\{a\\}$ for some $a \\in \\Sigma$\n",
        "* $R_1 \\cup R_2$ where $R_1$ and $R_2$ are **RE**s \n",
        "* $R_1 \\circ R_2$ where $R_1$ and $R_2$ are **RE**s \n",
        "* $R^*$ where $R$ is an **RE**\n",
        "\n",
        "Some shorthand:\n",
        "\n",
        "* $a \\equiv \\{a\\}$\n",
        "* $\\varepsilon \\equiv \\{\\varepsilon\\}$\n",
        "* $R^+ \\equiv R \\circ R^*$\n",
        "* $R^* \\equiv R^+ \\cup \\varepsilon$\n",
        "* $R^k \\equiv R \\circ R \\circ R \\circ \\cdots \\circ R$ ($k$ times)\n",
        "\n",
        "Note: $R \\circ R$ is usually written without the $\\circ$ (concatenation operator), i.e., $RR$.\n",
        "\n",
        "In this regard, $\\circ$ is analogous to the multiplication operator.\n"
      ]
    },
    {
      "cell_type": "markdown",
      "metadata": {
        "id": "WNX6DyrNRsbH"
      },
      "source": [
        "## Question to Answer\n",
        "In what other way(s) is $\\circ$ analogous to the multiplication operator?"
      ]
    },
    {
      "cell_type": "markdown",
      "metadata": {
        "id": "vQFYWsd9R5MU"
      },
      "source": [
        "Your answer goes here."
      ]
    },
    {
      "cell_type": "markdown",
      "metadata": {
        "id": "mT0DF_CyHvxm"
      },
      "source": [
        "## Easy to Design"
      ]
    },
    {
      "cell_type": "code",
      "metadata": {
        "id": "RS2nA43UHu8X"
      },
      "source": [
        "nfa1 = '''\n",
        "NFA\n",
        "I    : 0|1 -> I\n",
        "I    : 0   -> S0\n",
        "S0   : 1   -> S01\n",
        "S01  : 0   -> S010\n",
        "S010 : 1   -> F\n",
        "F    : 0|1 -> F\n",
        "'''\n",
        "mc = md2mc(nfa1)\n",
        "dfa = min_dfa(nfa2dfa(mc))\n",
        "# try mc also changing dotObj_dfa to dotObj_nfa\n",
        "dotObj_dfa(dfa)"
      ],
      "execution_count": null,
      "outputs": []
    },
    {
      "cell_type": "markdown",
      "metadata": {
        "id": "adFHIInPH4Xz"
      },
      "source": [
        "A good name for ```nfa1``` is"
      ]
    },
    {
      "cell_type": "code",
      "metadata": {
        "id": "lWH9adn8H_9q"
      },
      "source": [
        "name1 = ''  #@param {type: \"string\"}"
      ],
      "execution_count": null,
      "outputs": []
    },
    {
      "cell_type": "markdown",
      "metadata": {
        "id": "NjlkkLAEI3e6"
      },
      "source": [
        "An RE for the language of ```nfa1``` is"
      ]
    },
    {
      "cell_type": "code",
      "metadata": {
        "id": "UVFNPQHaJD43"
      },
      "source": [
        "re1 = ''  #@param {type: \"string\"}"
      ],
      "execution_count": null,
      "outputs": []
    },
    {
      "cell_type": "code",
      "metadata": {
        "id": "NIu7P0yIJGEF"
      },
      "source": [
        "nfa2 = md2mc('''NFA    \n",
        "IA : a -> IA          \n",
        "IA : a -> B           \n",
        "IA : b -> FC          \n",
        "B  : a -> IA          \n",
        "B  : b -> B           \n",
        "FC : b -> IA          \n",
        "FC : b -> B           \n",
        "''')                  \n",
        "dotObj_nfa(nfa2)"
      ],
      "execution_count": null,
      "outputs": []
    },
    {
      "cell_type": "markdown",
      "metadata": {
        "id": "HcQMri35JeME"
      },
      "source": [
        "A good name for ```nfa2``` is\n"
      ]
    },
    {
      "cell_type": "code",
      "metadata": {
        "id": "smSd9cVyJeMF"
      },
      "source": [
        "name2 = ''  #@param {type: \"string\"}"
      ],
      "execution_count": null,
      "outputs": []
    },
    {
      "cell_type": "markdown",
      "metadata": {
        "id": "GX2KAjhTJeMF"
      },
      "source": [
        "An RE for the language of ```nfa2``` is"
      ]
    },
    {
      "cell_type": "code",
      "metadata": {
        "id": "CK3WXl8nJeMF"
      },
      "source": [
        "re2 = ''  #@param {type: \"string\"}"
      ],
      "execution_count": null,
      "outputs": []
    },
    {
      "cell_type": "code",
      "metadata": {
        "id": "zdSBHplOJrdO"
      },
      "source": [
        "nfa3 = md2mc('''NFA              \n",
        "IA : a -> IA                    \n",
        "IA : a -> B                     \n",
        "IA : b -> FC                    \n",
        "B  : a -> IA                    \n",
        "B  : b -> B                     \n",
        "FC : b -> IA                    \n",
        "FC : b -> B                     \n",
        "''')                            \n",
        "                                \n",
        "dfa = nfa2dfa(totalize_nfa(nfa3))\n",
        "dotObj_dfa(dfa)"
      ],
      "execution_count": null,
      "outputs": []
    },
    {
      "cell_type": "markdown",
      "metadata": {
        "id": "TdFlRj46Kebu"
      },
      "source": [
        "A good name for ```nfa3``` is\n"
      ]
    },
    {
      "cell_type": "code",
      "metadata": {
        "id": "E42eZH56Kebu"
      },
      "source": [
        "name3 = ''  #@param {type: \"string\"}"
      ],
      "execution_count": null,
      "outputs": []
    },
    {
      "cell_type": "markdown",
      "metadata": {
        "id": "Nh3L-a0UKebv"
      },
      "source": [
        "An RE for the language of ```nfa3``` is"
      ]
    },
    {
      "cell_type": "code",
      "metadata": {
        "id": "G3an2JpsKebv"
      },
      "source": [
        "re3 = ''  #@param {type: \"string\"}"
      ],
      "execution_count": null,
      "outputs": []
    },
    {
      "cell_type": "code",
      "metadata": {
        "id": "nHsYxEhfKuTt"
      },
      "source": [
        "nfa4 = md2mc('''NFA    \n",
        "I : 0 -> A            \n",
        "A : '' -> F1          \n",
        "F1 : 0 -> F           \n",
        "F : '' -> I           \n",
        "''')                  \n",
        "                      \n",
        "dotObj_nfa(nfa4)"
      ],
      "execution_count": null,
      "outputs": []
    },
    {
      "cell_type": "markdown",
      "metadata": {
        "id": "pThRLjpFK3ac"
      },
      "source": [
        "A good name for ```nfa4``` is\n"
      ]
    },
    {
      "cell_type": "code",
      "metadata": {
        "id": "MaDIz34gK3ac"
      },
      "source": [
        "name4 = ''  #@param {type: \"string\"}"
      ],
      "execution_count": null,
      "outputs": []
    },
    {
      "cell_type": "markdown",
      "metadata": {
        "id": "5pLQMGB6K3ac"
      },
      "source": [
        "An RE for the language of ```nfa4``` is"
      ]
    },
    {
      "cell_type": "code",
      "metadata": {
        "id": "CffzXbmeK3ac"
      },
      "source": [
        "re4 = ''  #@param {type: \"string\"}"
      ],
      "execution_count": null,
      "outputs": []
    },
    {
      "cell_type": "markdown",
      "metadata": {
        "id": "mMO_bynFK6Wf"
      },
      "source": [
        "## Easy to Simulate"
      ]
    },
    {
      "cell_type": "markdown",
      "metadata": {
        "id": "2QwtfAW0K9DG"
      },
      "source": [
        "With code:"
      ]
    },
    {
      "cell_type": "code",
      "metadata": {
        "id": "AwlFOq4TLBJN"
      },
      "source": [
        "nfa5 = md2mc('''NFA                                                 \n",
        "I    : 0|1 -> I                                                    \n",
        "I    : 0   -> S0                                                   \n",
        "S0   : 0|1   -> S01                                                \n",
        "S01  : 0|1   -> S010                                               \n",
        "S010 : 0|1   -> F                                                  \n",
        "''')                                                               \n",
        "                                                                   \n",
        "for i in range(200):                                               \n",
        "    into_the_depths = bin(i)[2:].zfill(5)                          \n",
        "    print(into_the_depths, ': ', accepts_nfa(nfa5, into_the_depths))"
      ],
      "execution_count": null,
      "outputs": []
    },
    {
      "cell_type": "markdown",
      "metadata": {
        "id": "fAPsLCFKLdas"
      },
      "source": [
        "With the Animation Panel:"
      ]
    }
  ]
}