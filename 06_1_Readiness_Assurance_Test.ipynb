{
  "nbformat": 4,
  "nbformat_minor": 0,
  "metadata": {
    "colab": {
      "name": "06_1_Readiness_Assurance_Test.ipynb",
      "provenance": [],
      "include_colab_link": true
    },
    "kernelspec": {
      "name": "python3",
      "display_name": "Python 3"
    }
  },
  "cells": [
    {
      "cell_type": "markdown",
      "metadata": {
        "id": "view-in-github",
        "colab_type": "text"
      },
      "source": [
        "<a href=\"https://colab.research.google.com/github/peartt/cse480-notebooks/blob/master/06_1_Readiness_Assurance_Test.ipynb\" target=\"_parent\"><img src=\"https://colab.research.google.com/assets/colab-badge.svg\" alt=\"Open In Colab\"/></a>"
      ]
    },
    {
      "cell_type": "markdown",
      "metadata": {
        "id": "UEhvJzZ5EiIK"
      },
      "source": [
        "# Readiness Assurance Test\n",
        "## Due: Monday, 8 February 2021, 2:30pm"
      ]
    },
    {
      "cell_type": "markdown",
      "metadata": {
        "id": "wqar4fgvSBxR"
      },
      "source": [
        "## Imports, then the actual RAT"
      ]
    },
    {
      "cell_type": "code",
      "metadata": {
        "id": "y863_jSu1Fad",
        "run_control": {
          "frozen": false,
          "read_only": false
        },
        "scrolled": true,
        "outputId": "32b4d471-7c93-4113-d9f6-56641bc0f8e4",
        "colab": {
          "base_uri": "https://localhost:8080/"
        }
      },
      "source": [
        "#~~~~~~~~~~~~~~~~~~~~~~~~~~~~~~~~~~~~~~~~~~~~~~~~~~~~~~~\n",
        "import sys\n",
        "\n",
        "# -- Detect if in Own Install or in Colab\n",
        "try:\n",
        "    import google.colab\n",
        "    OWN_INSTALL = False\n",
        "except:\n",
        "    OWN_INSTALL = True\n",
        "    \n",
        "if OWN_INSTALL:\n",
        "  \n",
        "  sys.path[0:0] = ['../../../../..',  '../../../../../3rdparty',  \n",
        "                   '../../../..',  '../../../../3rdparty',  \n",
        "                   '../../..',     '../../../3rdparty', \n",
        "                   '../..',        '../../3rdparty',\n",
        "                   '..',           '../3rdparty',\n",
        "                   '../Jove',      '../Jove/jove']\n",
        "\n",
        "else: # In colab\n",
        "  ! if [ ! -d Jove ]; then git clone https://github.com/ganeshutah/Jove Jove; fi\n",
        "  sys.path.append('./Jove')\n",
        "  sys.path.append('./Jove/jove')\n",
        "\n",
        "# -- common imports --\n",
        "from jove.DotBashers import *\n",
        "from jove.Def_md2mc  import *\n",
        "from jove.Def_NFA    import *\n",
        "from jove.Def_DFA    import *\n",
        "from jove.Def_NFA2RE import *\n",
        "from jove.Def_RE2NFA import *\n",
        "from jove.AnimateNFA import *\n",
        "#~~~~~~~~~~~~~~~~~~~~~~~~~~~~~~~~~~~~~~~~~~~~~~~~~~~~~~~"
      ],
      "execution_count": 1,
      "outputs": [
        {
          "output_type": "stream",
          "text": [
            "Cloning into 'Jove'...\n",
            "remote: Enumerating objects: 4634, done.\u001b[K\n",
            "remote: Total 4634 (delta 0), reused 0 (delta 0), pack-reused 4634\u001b[K\n",
            "Receiving objects: 100% (4634/4634), 7.38 MiB | 5.21 MiB/s, done.\n",
            "Resolving deltas: 100% (3005/3005), done.\n",
            "You may use any of these help commands:\n",
            "help(ResetStNum)\n",
            "help(NxtStateStr)\n",
            "\n",
            "You may use any of these help commands:\n",
            "help(md2mc)\n",
            ".. and if you want to dig more, then ..\n",
            "help(default_line_attr)\n",
            "help(length_ok_input_items)\n",
            "help(union_line_attr_list_fld)\n",
            "help(extend_rsltdict)\n",
            "help(form_delta)\n",
            "help(get_machine_components)\n",
            "\n",
            "You may use any of these help commands:\n",
            "help(mkp_dfa)\n",
            "help(mk_dfa)\n",
            "help(totalize_dfa)\n",
            "help(addtosigma_delta)\n",
            "help(step_dfa)\n",
            "help(run_dfa)\n",
            "help(accepts_dfa)\n",
            "help(comp_dfa)\n",
            "help(union_dfa)\n",
            "help(intersect_dfa)\n",
            "help(pruneUnreach)\n",
            "help(iso_dfa)\n",
            "help(langeq_dfa)\n",
            "help(same_status)\n",
            "help(h_langeq_dfa)\n",
            "help(fixptDist)\n",
            "help(min_dfa)\n",
            "help(pairFR)\n",
            "help(state_combos)\n",
            "help(sepFinNonFin)\n",
            "help(bash_eql_classes)\n",
            "help(listminus)\n",
            "help(bash_1)\n",
            "help(mk_rep_eqc)\n",
            "help(F_of)\n",
            "help(rep_of_s)\n",
            "help(q0_of)\n",
            "help(Delta_of)\n",
            "help(mk_state_eqc_name)\n",
            "\n",
            "You may use any of these help commands:\n",
            "help(mk_nfa)\n",
            "help(totalize_nfa)\n",
            "help(step_nfa)\n",
            "help(run_nfa)\n",
            "help(ec_step_nfa)\n",
            "help(Eclosure)\n",
            "help(Echelp)\n",
            "help(accepts_nfa)\n",
            "help(nfa2dfa)\n",
            "help(n2d)\n",
            "help(inSets)\n",
            "help(rev_dfa)\n",
            "help(min_dfa_brz)\n",
            "\n",
            "You may use any of these help commands:\n",
            "help(RE2Str)\n",
            "help(mk_gnfa)\n",
            "help(mk_gnfa_from_D)\n",
            "help(dfa2nfa)\n",
            "help(del_gnfa_states)\n",
            "help(gnfa_w_REStr)\n",
            "help(del_one_gnfa_state)\n",
            "help(Edges_Exist_Via)\n",
            "help(choose_state_to_del)\n",
            "help(form_alt_RE)\n",
            "help(form_concat_RE)\n",
            "help(form_kleene_RE)\n",
            "\n",
            "You may use any of these help commands:\n",
            "help(re2nfa)\n",
            "\n",
            " \"help(AnimateNFA)\" gives you info on how to use animations with NFA \n"
          ],
          "name": "stdout"
        }
      ]
    },
    {
      "cell_type": "markdown",
      "metadata": {
        "id": "glhcbfJwE2hp"
      },
      "source": [
        "# DFA and NFA"
      ]
    },
    {
      "cell_type": "markdown",
      "metadata": {
        "id": "rxMsOSQ6FMMs"
      },
      "source": [
        "## DFA conform to the rules of NFA, but not (always) vice versa."
      ]
    },
    {
      "cell_type": "markdown",
      "metadata": {
        "id": "VMRBbidSFRNW"
      },
      "source": [
        "### Formal Definition of DFA\n",
        "A DFA is a 5-tuple $(Q, \\Sigma, \\delta, q_0, F)$, where\n",
        "\n",
        "1. $Q$ is a finite set called the **states**,\n",
        "2. $\\Sigma$ is a finite set called the **alphabet**,\n",
        "3. $\\delta: Q \\times \\Sigma \\rightarrow Q$ is the **transition function**,\n",
        "4. $q_0 \\in Q$ is the **start state**, and\n",
        "5. $F \\subseteq Q$ is the **set of accept states** (or **final** states)."
      ]
    },
    {
      "cell_type": "markdown",
      "metadata": {
        "id": "pSlG0bzMF78_"
      },
      "source": [
        "### Formal Definition of NFA\n",
        "An NFA is a 5-tuple $(Q, \\Sigma, \\delta, Q_0, F)$, where\n",
        "\n",
        "1. $Q$ is a finite set called the **states**,\n",
        "2. $\\Sigma$ is a finite set called the **alphabet** (which does not include $\\varepsilon$),\n",
        "3. $\\delta: Q \\times \\Sigma_{\\varepsilon} \\rightarrow \\mathcal{P}(Q)$ is the **transition function** ($\\Sigma_{\\varepsilon}$ is short for $\\Sigma \\cup \\{\\varepsilon\\})$,\n",
        "4. $Q_0 \\subseteq Q$ is the **set of start states**, and\n",
        "5. $F \\subseteq Q$ is the **set of accept states** (or **final** states)."
      ]
    },
    {
      "cell_type": "markdown",
      "metadata": {
        "id": "dkSUGkfIHnQs"
      },
      "source": [
        "## Equivalence"
      ]
    },
    {
      "cell_type": "markdown",
      "metadata": {
        "id": "-t-l3eTmHpui"
      },
      "source": [
        "NFA can be converted into DFA because they both represent regular languages, which can be represented by regular expressions, which can be converted to and from NFA."
      ]
    },
    {
      "cell_type": "markdown",
      "metadata": {
        "id": "DmHuN66WOdaA"
      },
      "source": [
        "### Formal Definition of RE (Regular Expressions)"
      ]
    },
    {
      "cell_type": "markdown",
      "metadata": {
        "id": "cidN1LJaOjIg"
      },
      "source": [
        "$R$ is a **regular expression** (an **RE** for short) if $R$ is any of\n",
        "\n",
        "\n",
        "* {} (the empty set $\\emptyset$) \n",
        "* {''} (the set containing the empty string $\\{\\varepsilon\\}$)\n",
        "* $\\{a\\}$ for some $a \\in \\Sigma$\n",
        "* $R_1 \\cup R_2$ where $R_1$ and $R_2$ are **RE**s \n",
        "* $R_1 \\circ R_2$ where $R_1$ and $R_2$ are **RE**s \n",
        "* $R^*$ where $R$ is an **RE**\n",
        "\n",
        "Some shorthand:\n",
        "\n",
        "* $a \\equiv \\{a\\}$\n",
        "* $\\varepsilon \\equiv \\{\\varepsilon\\}$\n",
        "* $R^+ \\equiv R \\circ R^*$\n",
        "* $R^* \\equiv R^+ \\cup \\varepsilon$\n",
        "* $R^k \\equiv R \\circ R \\circ R \\circ \\cdots \\circ R$ ($k$ times)\n",
        "\n",
        "Note: $R \\circ R$ is usually written without the $\\circ$ (concatenation operator), i.e., $RR$.\n",
        "\n",
        "In this regard, $\\circ$ is analogous to the multiplication operator.\n"
      ]
    },
    {
      "cell_type": "markdown",
      "metadata": {
        "id": "WNX6DyrNRsbH"
      },
      "source": [
        "## Question to Answer\n",
        "In what other way(s) is $\\circ$ analogous to the multiplication operator?"
      ]
    },
    {
      "cell_type": "markdown",
      "metadata": {
        "id": "vQFYWsd9R5MU"
      },
      "source": [
        "The multiplication operator for a regular expression is order-dependant. In a regular expression, AB is different from BA while with numbers, 2*3 == 3*2"
      ]
    },
    {
      "cell_type": "markdown",
      "metadata": {
        "id": "mT0DF_CyHvxm"
      },
      "source": [
        "## Easy to Design"
      ]
    },
    {
      "cell_type": "code",
      "metadata": {
        "id": "RS2nA43UHu8X",
        "outputId": "5290e3b8-d285-441a-fbdf-e9e4ed8f1164",
        "colab": {
          "base_uri": "https://localhost:8080/",
          "height": 226
        }
      },
      "source": [
        "nfa1 = '''\n",
        "NFA\n",
        "I    : 0|1 -> I\n",
        "I    : 0   -> S0\n",
        "S0   : 1   -> S01\n",
        "S01  : 0   -> S010\n",
        "S010 : 1   -> F\n",
        "F    : 0|1 -> F\n",
        "'''\n",
        "mc = md2mc(nfa1)\n",
        "dfa = min_dfa(nfa2dfa(mc))\n",
        "# try mc also changing dotObj_dfa to dotObj_nfa\n",
        "dotObj_dfa(dfa)"
      ],
      "execution_count": 2,
      "outputs": [
        {
          "output_type": "stream",
          "text": [
            "Generating LALR tables\n"
          ],
          "name": "stderr"
        },
        {
          "output_type": "execute_result",
          "data": {
            "text/plain": [
              "<graphviz.dot.Digraph at 0x7f9347ce38d0>"
            ],
            "image/svg+xml": "<?xml version=\"1.0\" encoding=\"UTF-8\" standalone=\"no\"?>\n<!DOCTYPE svg PUBLIC \"-//W3C//DTD SVG 1.1//EN\"\n \"http://www.w3.org/Graphics/SVG/1.1/DTD/svg11.dtd\">\n<!-- Generated by graphviz version 2.40.1 (20161225.0304)\n -->\n<!-- Title: %3 Pages: 1 -->\n<svg width=\"533pt\" height=\"141pt\"\n viewBox=\"0.00 0.00 532.98 140.80\" xmlns=\"http://www.w3.org/2000/svg\" xmlns:xlink=\"http://www.w3.org/1999/xlink\">\n<g id=\"graph0\" class=\"graph\" transform=\"scale(1 1) rotate(0) translate(4 136.7958)\">\n<title>%3</title>\n<polygon fill=\"#ffffff\" stroke=\"transparent\" points=\"-4,4 -4,-136.7958 528.9792,-136.7958 528.9792,4 -4,4\"/>\n<!-- EMPTY -->\n<g id=\"node1\" class=\"node\">\n<title>EMPTY</title>\n</g>\n<!-- St7 -->\n<g id=\"node5\" class=\"node\">\n<title>St7</title>\n<ellipse fill=\"none\" stroke=\"#000000\" cx=\"114.3979\" cy=\"-69.3979\" rx=\"23.2963\" ry=\"23.2963\"/>\n<text text-anchor=\"middle\" x=\"114.3979\" y=\"-65.6979\" font-family=\"Times,serif\" font-size=\"14.00\" fill=\"#000000\">St7</text>\n</g>\n<!-- EMPTY&#45;&gt;St7 -->\n<g id=\"edge1\" class=\"edge\">\n<title>EMPTY&#45;&gt;St7</title>\n<path fill=\"none\" stroke=\"#000000\" d=\"M54.1742,-69.3979C62.5103,-69.3979 71.7873,-69.3979 80.5137,-69.3979\"/>\n<polygon fill=\"#000000\" stroke=\"#000000\" points=\"80.7846,-72.898 90.7846,-69.3979 80.7845,-65.898 80.7846,-72.898\"/>\n</g>\n<!-- St6 -->\n<g id=\"node2\" class=\"node\">\n<title>St6</title>\n<ellipse fill=\"none\" stroke=\"#000000\" cx=\"303.9896\" cy=\"-79.3979\" rx=\"23.2963\" ry=\"23.2963\"/>\n<text text-anchor=\"middle\" x=\"303.9896\" y=\"-75.6979\" font-family=\"Times,serif\" font-size=\"14.00\" fill=\"#000000\">St6</text>\n</g>\n<!-- St4 -->\n<g id=\"node3\" class=\"node\">\n<title>St4</title>\n<ellipse fill=\"none\" stroke=\"#000000\" cx=\"398.7855\" cy=\"-39.3979\" rx=\"23.2963\" ry=\"23.2963\"/>\n<text text-anchor=\"middle\" x=\"398.7855\" y=\"-35.6979\" font-family=\"Times,serif\" font-size=\"14.00\" fill=\"#000000\">St4</text>\n</g>\n<!-- St6&#45;&gt;St4 -->\n<g id=\"edge6\" class=\"edge\">\n<title>St6&#45;&gt;St4</title>\n<path fill=\"none\" stroke=\"#000000\" d=\"M325.976,-70.1206C338.2993,-64.9206 353.8766,-58.3477 367.4574,-52.6171\"/>\n<polygon fill=\"#000000\" stroke=\"#000000\" points=\"369.0657,-55.7374 376.9184,-48.625 366.3443,-49.288 369.0657,-55.7374\"/>\n<text text-anchor=\"middle\" x=\"351.3875\" y=\"-65.1979\" font-family=\"Times,serif\" font-size=\"14.00\" fill=\"#000000\">0 </text>\n</g>\n<!-- St6&#45;&gt;St7 -->\n<g id=\"edge7\" class=\"edge\">\n<title>St6&#45;&gt;St7</title>\n<path fill=\"none\" stroke=\"#000000\" d=\"M280.8127,-83.9713C256.9271,-88.027 218.6485,-92.6944 185.7958,-88.3979 172.6798,-86.6826 158.5449,-83.266 146.3404,-79.7972\"/>\n<polygon fill=\"#000000\" stroke=\"#000000\" points=\"147.1899,-76.3985 136.6073,-76.9074 145.1975,-83.109 147.1899,-76.3985\"/>\n<text text-anchor=\"middle\" x=\"209.1938\" y=\"-93.1979\" font-family=\"Times,serif\" font-size=\"14.00\" fill=\"#000000\">1 </text>\n</g>\n<!-- St5 -->\n<g id=\"node4\" class=\"node\">\n<title>St5</title>\n<ellipse fill=\"none\" stroke=\"#000000\" cx=\"209.1938\" cy=\"-23.3979\" rx=\"23.2963\" ry=\"23.2963\"/>\n<text text-anchor=\"middle\" x=\"209.1938\" y=\"-19.6979\" font-family=\"Times,serif\" font-size=\"14.00\" fill=\"#000000\">St5</text>\n</g>\n<!-- St4&#45;&gt;St5 -->\n<g id=\"edge8\" class=\"edge\">\n<title>St4&#45;&gt;St5</title>\n<path fill=\"none\" stroke=\"#000000\" d=\"M375.3227,-36.9681C361.3982,-35.5584 343.3938,-33.7918 327.3875,-32.3979 298.9416,-29.9207 266.6106,-27.485 242.9619,-25.7734\"/>\n<polygon fill=\"#000000\" stroke=\"#000000\" points=\"242.9775,-22.2656 232.7525,-25.0405 242.4761,-29.2477 242.9775,-22.2656\"/>\n<text text-anchor=\"middle\" x=\"303.9896\" y=\"-36.1979\" font-family=\"Times,serif\" font-size=\"14.00\" fill=\"#000000\">0 </text>\n</g>\n<!-- St0 -->\n<g id=\"node6\" class=\"node\">\n<title>St0</title>\n<ellipse fill=\"none\" stroke=\"#000000\" cx=\"497.5813\" cy=\"-39.3979\" rx=\"23.3111\" ry=\"23.3111\"/>\n<ellipse fill=\"none\" stroke=\"#000000\" cx=\"497.5813\" cy=\"-39.3979\" rx=\"27.2962\" ry=\"27.2962\"/>\n<text text-anchor=\"middle\" x=\"497.5813\" y=\"-35.6979\" font-family=\"Times,serif\" font-size=\"14.00\" fill=\"#000000\">St0</text>\n</g>\n<!-- St4&#45;&gt;St0 -->\n<g id=\"edge9\" class=\"edge\">\n<title>St4&#45;&gt;St0</title>\n<path fill=\"none\" stroke=\"#000000\" d=\"M422.1987,-39.3979C433.4326,-39.3979 447.173,-39.3979 459.8312,-39.3979\"/>\n<polygon fill=\"#000000\" stroke=\"#000000\" points=\"460.1309,-42.898 470.1309,-39.3979 460.1309,-35.898 460.1309,-42.898\"/>\n<text text-anchor=\"middle\" x=\"446.1834\" y=\"-43.1979\" font-family=\"Times,serif\" font-size=\"14.00\" fill=\"#000000\">1 </text>\n</g>\n<!-- St5&#45;&gt;St6 -->\n<g id=\"edge5\" class=\"edge\">\n<title>St5&#45;&gt;St6</title>\n<path fill=\"none\" stroke=\"#000000\" d=\"M229.7631,-35.5491C243.0208,-43.381 260.4542,-53.6797 275.094,-62.3281\"/>\n<polygon fill=\"#000000\" stroke=\"#000000\" points=\"273.396,-65.39 283.7861,-67.4629 276.9564,-59.3631 273.396,-65.39\"/>\n<text text-anchor=\"middle\" x=\"256.5917\" y=\"-58.1979\" font-family=\"Times,serif\" font-size=\"14.00\" fill=\"#000000\">1 </text>\n</g>\n<!-- St5&#45;&gt;St5 -->\n<g id=\"edge4\" class=\"edge\">\n<title>St5&#45;&gt;St5</title>\n<path fill=\"none\" stroke=\"#000000\" d=\"M200.7393,-45.5452C199.817,-55.8192 202.6352,-64.7958 209.1938,-64.7958 213.3954,-64.7958 216.0619,-61.1118 217.1933,-55.7628\"/>\n<polygon fill=\"#000000\" stroke=\"#000000\" points=\"220.6999,-55.691 217.6482,-45.5452 213.7068,-55.3796 220.6999,-55.691\"/>\n<text text-anchor=\"middle\" x=\"209.1938\" y=\"-68.5958\" font-family=\"Times,serif\" font-size=\"14.00\" fill=\"#000000\">0 </text>\n</g>\n<!-- St7&#45;&gt;St5 -->\n<g id=\"edge2\" class=\"edge\">\n<title>St7&#45;&gt;St5</title>\n<path fill=\"none\" stroke=\"#000000\" d=\"M135.9086,-58.9598C148.6024,-52.8001 164.8696,-44.9064 178.8518,-38.1214\"/>\n<polygon fill=\"#000000\" stroke=\"#000000\" points=\"180.6261,-41.1509 188.0948,-33.6363 177.5701,-34.8532 180.6261,-41.1509\"/>\n<text text-anchor=\"middle\" x=\"161.7958\" y=\"-52.1979\" font-family=\"Times,serif\" font-size=\"14.00\" fill=\"#000000\">0 </text>\n</g>\n<!-- St7&#45;&gt;St7 -->\n<g id=\"edge3\" class=\"edge\">\n<title>St7&#45;&gt;St7</title>\n<path fill=\"none\" stroke=\"#000000\" d=\"M107.0151,-91.9667C106.312,-102.0635 108.7729,-110.7958 114.3979,-110.7958 118.0014,-110.7958 120.3064,-107.2121 121.3129,-101.9817\"/>\n<polygon fill=\"#000000\" stroke=\"#000000\" points=\"124.8102,-102.1191 121.7807,-91.9667 117.8178,-101.7924 124.8102,-102.1191\"/>\n<text text-anchor=\"middle\" x=\"114.3979\" y=\"-114.5958\" font-family=\"Times,serif\" font-size=\"14.00\" fill=\"#000000\">1 </text>\n</g>\n<!-- St0&#45;&gt;St0 -->\n<g id=\"edge10\" class=\"edge\">\n<title>St0&#45;&gt;St0</title>\n<path fill=\"none\" stroke=\"#000000\" d=\"M492.9041,-66.4297C492.7508,-76.5036 494.3098,-84.7958 497.5813,-84.7958 499.626,-84.7958 501.0018,-81.5567 501.7086,-76.6679\"/>\n<polygon fill=\"#000000\" stroke=\"#000000\" points=\"505.217,-76.6031 502.2585,-66.4297 498.2271,-76.2276 505.217,-76.6031\"/>\n<text text-anchor=\"middle\" x=\"497.5813\" y=\"-88.5958\" font-family=\"Times,serif\" font-size=\"14.00\" fill=\"#000000\">0 </text>\n</g>\n<!-- St0&#45;&gt;St0 -->\n<g id=\"edge11\" class=\"edge\">\n<title>St0&#45;&gt;St0</title>\n<path fill=\"none\" stroke=\"#000000\" d=\"M489.1682,-65.777C486.525,-84.3764 489.3294,-102.7958 497.5813,-102.7958 504.286,-102.7958 507.3945,-90.6361 506.9067,-76.1\"/>\n<polygon fill=\"#000000\" stroke=\"#000000\" points=\"510.3612,-75.4301 505.9944,-65.777 503.3884,-76.0463 510.3612,-75.4301\"/>\n<text text-anchor=\"middle\" x=\"497.5813\" y=\"-106.5958\" font-family=\"Times,serif\" font-size=\"14.00\" fill=\"#000000\">1 </text>\n</g>\n</g>\n</svg>\n"
          },
          "metadata": {
            "tags": []
          },
          "execution_count": 2
        }
      ]
    },
    {
      "cell_type": "markdown",
      "metadata": {
        "id": "adFHIInPH4Xz"
      },
      "source": [
        "A good name for ```nfa1``` is"
      ]
    },
    {
      "cell_type": "code",
      "metadata": {
        "id": "lWH9adn8H_9q"
      },
      "source": [
        "name1 = 'nfa_conatins_0101'  #@param {type: \"string\"}"
      ],
      "execution_count": null,
      "outputs": []
    },
    {
      "cell_type": "markdown",
      "metadata": {
        "id": "NjlkkLAEI3e6"
      },
      "source": [
        "An RE for the language of ```nfa1``` is"
      ]
    },
    {
      "cell_type": "code",
      "metadata": {
        "id": "UVFNPQHaJD43"
      },
      "source": [
        "re1 = '0101'  #@param {type: \"string\"}"
      ],
      "execution_count": null,
      "outputs": []
    },
    {
      "cell_type": "code",
      "metadata": {
        "id": "NIu7P0yIJGEF",
        "outputId": "02d75b6c-f60a-4192-bcb2-0df0176df470",
        "colab": {
          "base_uri": "https://localhost:8080/",
          "height": 220
        }
      },
      "source": [
        "nfa2 = md2mc('''NFA    \n",
        "IA : a -> IA          \n",
        "IA : a -> B           \n",
        "IA : b -> FC          \n",
        "B  : a -> IA          \n",
        "B  : b -> B           \n",
        "FC : b -> IA          \n",
        "FC : b -> B           \n",
        "''')                  \n",
        "dotObj_nfa(nfa2)"
      ],
      "execution_count": 3,
      "outputs": [
        {
          "output_type": "execute_result",
          "data": {
            "text/plain": [
              "<graphviz.dot.Digraph at 0x7f9347d0feb8>"
            ],
            "image/svg+xml": "<?xml version=\"1.0\" encoding=\"UTF-8\" standalone=\"no\"?>\n<!DOCTYPE svg PUBLIC \"-//W3C//DTD SVG 1.1//EN\"\n \"http://www.w3.org/Graphics/SVG/1.1/DTD/svg11.dtd\">\n<!-- Generated by graphviz version 2.40.1 (20161225.0304)\n -->\n<!-- Title: %3 Pages: 1 -->\n<svg width=\"326pt\" height=\"149pt\"\n viewBox=\"0.00 0.00 326.09 148.75\" xmlns=\"http://www.w3.org/2000/svg\" xmlns:xlink=\"http://www.w3.org/1999/xlink\">\n<g id=\"graph0\" class=\"graph\" transform=\"scale(1 1) rotate(0) translate(4 144.748)\">\n<title>%3</title>\n<polygon fill=\"#ffffff\" stroke=\"transparent\" points=\"-4,4 -4,-144.748 322.0923,-144.748 322.0923,4 -4,4\"/>\n<!-- EMPTY -->\n<g id=\"node1\" class=\"node\">\n<title>EMPTY</title>\n</g>\n<!-- IA -->\n<g id=\"node3\" class=\"node\">\n<title>IA</title>\n<ellipse fill=\"none\" stroke=\"#000000\" cx=\"111.7982\" cy=\"-74.748\" rx=\"20.5982\" ry=\"20.5982\"/>\n<text text-anchor=\"middle\" x=\"111.7982\" y=\"-71.048\" font-family=\"Times,serif\" font-size=\"14.00\" fill=\"#000000\">IA</text>\n</g>\n<!-- EMPTY&#45;&gt;IA -->\n<g id=\"edge1\" class=\"edge\">\n<title>EMPTY&#45;&gt;IA</title>\n<path fill=\"none\" stroke=\"#000000\" d=\"M54.2974,-74.748C62.6962,-74.748 72.0043,-74.748 80.6415,-74.748\"/>\n<polygon fill=\"#000000\" stroke=\"#000000\" points=\"80.7381,-78.2481 90.7381,-74.748 80.738,-71.2481 80.7381,-78.2481\"/>\n</g>\n<!-- B -->\n<g id=\"node2\" class=\"node\">\n<title>B</title>\n<ellipse fill=\"none\" stroke=\"#000000\" cx=\"300.0923\" cy=\"-89.748\" rx=\"18\" ry=\"18\"/>\n<text text-anchor=\"middle\" x=\"300.0923\" y=\"-86.048\" font-family=\"Times,serif\" font-size=\"14.00\" fill=\"#000000\">B</text>\n</g>\n<!-- B&#45;&gt;B -->\n<g id=\"edge6\" class=\"edge\">\n<title>B&#45;&gt;B</title>\n<path fill=\"none\" stroke=\"#000000\" d=\"M292.7095,-106.412C291.0688,-116.373 293.5298,-125.748 300.0923,-125.748 304.2964,-125.748 306.8172,-121.9005 307.6547,-116.5162\"/>\n<polygon fill=\"#000000\" stroke=\"#000000\" points=\"311.1524,-116.3482 307.4751,-106.412 304.1535,-116.4727 311.1524,-116.3482\"/>\n<text text-anchor=\"middle\" x=\"300.0923\" y=\"-129.548\" font-family=\"Times,serif\" font-size=\"14.00\" fill=\"#000000\">b </text>\n</g>\n<!-- B&#45;&gt;IA -->\n<g id=\"edge5\" class=\"edge\">\n<title>B&#45;&gt;IA</title>\n<path fill=\"none\" stroke=\"#000000\" d=\"M281.9256,-88.3008C249.7608,-85.7384 182.4567,-80.3768 142.8234,-77.2195\"/>\n<polygon fill=\"#000000\" stroke=\"#000000\" points=\"142.9147,-73.7158 132.6684,-76.4106 142.3588,-80.6937 142.9147,-73.7158\"/>\n<text text-anchor=\"middle\" x=\"207.3443\" y=\"-87.548\" font-family=\"Times,serif\" font-size=\"14.00\" fill=\"#000000\">a </text>\n</g>\n<!-- IA&#45;&gt;B -->\n<g id=\"edge2\" class=\"edge\">\n<title>IA&#45;&gt;B</title>\n<path fill=\"none\" stroke=\"#000000\" d=\"M127.3316,-89.0431C134.0331,-94.4633 142.2435,-100.1818 150.5963,-103.748 163.028,-109.0555 167.1251,-107.6331 180.5963,-108.748 217.6454,-111.8143 228.2438,-113.593 264.0923,-103.748 267.3255,-102.86 270.6691,-101.7849 273.9566,-100.6295\"/>\n<polygon fill=\"#000000\" stroke=\"#000000\" points=\"275.3665,-103.8384 283.4841,-97.0299 272.8924,-97.2902 275.3665,-103.8384\"/>\n<text text-anchor=\"middle\" x=\"207.3443\" y=\"-114.548\" font-family=\"Times,serif\" font-size=\"14.00\" fill=\"#000000\">a </text>\n</g>\n<!-- IA&#45;&gt;IA -->\n<g id=\"edge3\" class=\"edge\">\n<title>IA&#45;&gt;IA</title>\n<path fill=\"none\" stroke=\"#000000\" d=\"M104.8836,-94.7104C103.9269,-104.6659 106.2317,-113.5461 111.7982,-113.5461 115.2772,-113.5461 117.4821,-110.0773 118.413,-105.0451\"/>\n<polygon fill=\"#000000\" stroke=\"#000000\" points=\"121.9213,-104.8077 118.7127,-94.7104 114.9242,-104.6047 121.9213,-104.8077\"/>\n<text text-anchor=\"middle\" x=\"111.7982\" y=\"-117.3461\" font-family=\"Times,serif\" font-size=\"14.00\" fill=\"#000000\">a </text>\n</g>\n<!-- FC -->\n<g id=\"node4\" class=\"node\">\n<title>FC</title>\n<ellipse fill=\"none\" stroke=\"#000000\" cx=\"207.3443\" cy=\"-26.748\" rx=\"22.9609\" ry=\"22.9609\"/>\n<ellipse fill=\"none\" stroke=\"#000000\" cx=\"207.3443\" cy=\"-26.748\" rx=\"26.9983\" ry=\"26.9983\"/>\n<text text-anchor=\"middle\" x=\"207.3443\" y=\"-23.048\" font-family=\"Times,serif\" font-size=\"14.00\" fill=\"#000000\">FC</text>\n</g>\n<!-- IA&#45;&gt;FC -->\n<g id=\"edge4\" class=\"edge\">\n<title>IA&#45;&gt;FC</title>\n<path fill=\"none\" stroke=\"#000000\" d=\"M130.675,-65.2647C143.0773,-59.0341 159.6416,-50.7126 174.1998,-43.3989\"/>\n<polygon fill=\"#000000\" stroke=\"#000000\" points=\"176.0485,-46.3871 183.4131,-38.7704 172.9061,-40.132 176.0485,-46.3871\"/>\n<text text-anchor=\"middle\" x=\"156.5963\" y=\"-59.548\" font-family=\"Times,serif\" font-size=\"14.00\" fill=\"#000000\">b </text>\n</g>\n<!-- FC&#45;&gt;B -->\n<g id=\"edge7\" class=\"edge\">\n<title>FC&#45;&gt;B</title>\n<path fill=\"none\" stroke=\"#000000\" d=\"M230.7182,-39.7735C241.1428,-45.8299 253.447,-53.3244 264.0923,-60.748 268.865,-64.0763 273.8217,-67.8453 278.4755,-71.5385\"/>\n<polygon fill=\"#000000\" stroke=\"#000000\" points=\"276.4515,-74.4036 286.4198,-77.9928 280.8654,-68.9707 276.4515,-74.4036\"/>\n<text text-anchor=\"middle\" x=\"258.0923\" y=\"-64.548\" font-family=\"Times,serif\" font-size=\"14.00\" fill=\"#000000\">b </text>\n</g>\n<!-- FC&#45;&gt;IA -->\n<g id=\"edge8\" class=\"edge\">\n<title>FC&#45;&gt;IA</title>\n<path fill=\"none\" stroke=\"#000000\" d=\"M180.5348,-24.4943C170.6824,-24.7103 159.715,-26.2386 150.5963,-30.748 142.3287,-34.8365 135.0551,-41.5387 129.107,-48.4938\"/>\n<polygon fill=\"#000000\" stroke=\"#000000\" points=\"126.1477,-46.5967 122.7531,-56.633 131.6655,-50.9042 126.1477,-46.5967\"/>\n<text text-anchor=\"middle\" x=\"156.5963\" y=\"-34.548\" font-family=\"Times,serif\" font-size=\"14.00\" fill=\"#000000\">b </text>\n</g>\n</g>\n</svg>\n"
          },
          "metadata": {
            "tags": []
          },
          "execution_count": 3
        }
      ]
    },
    {
      "cell_type": "markdown",
      "metadata": {
        "id": "HcQMri35JeME"
      },
      "source": [
        "A good name for ```nfa2``` is\n"
      ]
    },
    {
      "cell_type": "code",
      "metadata": {
        "id": "smSd9cVyJeMF"
      },
      "source": [
        "name2 = 'nfa_ends_in_b'  #@param {type: \"string\"}"
      ],
      "execution_count": null,
      "outputs": []
    },
    {
      "cell_type": "markdown",
      "metadata": {
        "id": "GX2KAjhTJeMF"
      },
      "source": [
        "An RE for the language of ```nfa2``` is"
      ]
    },
    {
      "cell_type": "code",
      "metadata": {
        "id": "CK3WXl8nJeMF"
      },
      "source": [
        "re2 = '(a*b*)*b'  #@param {type: \"string\"}"
      ],
      "execution_count": null,
      "outputs": []
    },
    {
      "cell_type": "code",
      "metadata": {
        "id": "zdSBHplOJrdO",
        "outputId": "fb9c7a4f-e5ab-46cb-d981-0e80788241ce",
        "colab": {
          "base_uri": "https://localhost:8080/",
          "height": 212
        }
      },
      "source": [
        "nfa3 = md2mc('''NFA              \n",
        "IA : a -> IA                    \n",
        "IA : a -> B                     \n",
        "IA : b -> FC                    \n",
        "B  : a -> IA                    \n",
        "B  : b -> B                     \n",
        "FC : b -> IA                    \n",
        "FC : b -> B                     \n",
        "''')                            \n",
        "                                \n",
        "dfa = nfa2dfa(totalize_nfa(nfa3))\n",
        "dotObj_dfa(dfa)"
      ],
      "execution_count": 4,
      "outputs": [
        {
          "output_type": "execute_result",
          "data": {
            "text/plain": [
              "<graphviz.dot.Digraph at 0x7f9347ce3eb8>"
            ],
            "image/svg+xml": "<?xml version=\"1.0\" encoding=\"UTF-8\" standalone=\"no\"?>\n<!DOCTYPE svg PUBLIC \"-//W3C//DTD SVG 1.1//EN\"\n \"http://www.w3.org/Graphics/SVG/1.1/DTD/svg11.dtd\">\n<!-- Generated by graphviz version 2.40.1 (20161225.0304)\n -->\n<!-- Title: %3 Pages: 1 -->\n<svg width=\"477pt\" height=\"143pt\"\n viewBox=\"0.00 0.00 477.38 142.64\" xmlns=\"http://www.w3.org/2000/svg\" xmlns:xlink=\"http://www.w3.org/1999/xlink\">\n<g id=\"graph0\" class=\"graph\" transform=\"scale(1 1) rotate(0) translate(4 138.6442)\">\n<title>%3</title>\n<polygon fill=\"#ffffff\" stroke=\"transparent\" points=\"-4,4 -4,-138.6442 473.3806,-138.6442 473.3806,4 -4,4\"/>\n<!-- EMPTY -->\n<g id=\"node1\" class=\"node\">\n<title>EMPTY</title>\n</g>\n<!-- IA -->\n<g id=\"node3\" class=\"node\">\n<title>IA</title>\n<ellipse fill=\"none\" stroke=\"#000000\" cx=\"111.7982\" cy=\"-59.797\" rx=\"20.5982\" ry=\"20.5982\"/>\n<text text-anchor=\"middle\" x=\"111.7982\" y=\"-56.097\" font-family=\"Times,serif\" font-size=\"14.00\" fill=\"#000000\">IA</text>\n</g>\n<!-- EMPTY&#45;&gt;IA -->\n<g id=\"edge1\" class=\"edge\">\n<title>EMPTY&#45;&gt;IA</title>\n<path fill=\"none\" stroke=\"#000000\" d=\"M54.2974,-59.797C62.6962,-59.797 72.0043,-59.797 80.6415,-59.797\"/>\n<polygon fill=\"#000000\" stroke=\"#000000\" points=\"80.7381,-63.2971 90.7381,-59.797 80.738,-56.2971 80.7381,-63.2971\"/>\n</g>\n<!-- B_IA -->\n<g id=\"node2\" class=\"node\">\n<title>B_IA</title>\n<ellipse fill=\"none\" stroke=\"#000000\" cx=\"313.9394\" cy=\"-69.797\" rx=\"31.6951\" ry=\"31.6951\"/>\n<text text-anchor=\"middle\" x=\"313.9394\" y=\"-66.097\" font-family=\"Times,serif\" font-size=\"14.00\" fill=\"#000000\">B_IA</text>\n</g>\n<!-- B_IA&#45;&gt;B_IA -->\n<g id=\"edge6\" class=\"edge\">\n<title>B_IA&#45;&gt;B_IA</title>\n<path fill=\"none\" stroke=\"#000000\" d=\"M303.8169,-100.4632C303.7098,-111.0747 307.084,-119.6442 313.9394,-119.6442 318.4383,-119.6442 321.438,-115.9536 322.9383,-110.4173\"/>\n<polygon fill=\"#000000\" stroke=\"#000000\" points=\"326.4181,-110.7927 324.062,-100.4632 319.4623,-110.0075 326.4181,-110.7927\"/>\n<text text-anchor=\"middle\" x=\"313.9394\" y=\"-123.4442\" font-family=\"Times,serif\" font-size=\"14.00\" fill=\"#000000\">a </text>\n</g>\n<!-- B_FC -->\n<g id=\"node4\" class=\"node\">\n<title>B_FC</title>\n<ellipse fill=\"none\" stroke=\"#000000\" cx=\"431.5836\" cy=\"-37.797\" rx=\"33.6165\" ry=\"33.6165\"/>\n<ellipse fill=\"none\" stroke=\"#000000\" cx=\"431.5836\" cy=\"-37.797\" rx=\"37.5951\" ry=\"37.5951\"/>\n<text text-anchor=\"middle\" x=\"431.5836\" y=\"-34.097\" font-family=\"Times,serif\" font-size=\"14.00\" fill=\"#000000\">B_FC</text>\n</g>\n<!-- B_IA&#45;&gt;B_FC -->\n<g id=\"edge5\" class=\"edge\">\n<title>B_IA&#45;&gt;B_FC</title>\n<path fill=\"none\" stroke=\"#000000\" d=\"M345.1275,-61.8977C354.9523,-59.364 365.8355,-56.5105 375.7866,-53.797 378.8978,-52.9487 382.103,-52.0624 385.3301,-51.161\"/>\n<polygon fill=\"#000000\" stroke=\"#000000\" points=\"386.3297,-54.5156 395.0051,-48.4338 384.4306,-47.7782 386.3297,-54.5156\"/>\n<text text-anchor=\"middle\" x=\"369.7866\" y=\"-61.597\" font-family=\"Times,serif\" font-size=\"14.00\" fill=\"#000000\">b </text>\n</g>\n<!-- IA&#45;&gt;B_IA -->\n<g id=\"edge3\" class=\"edge\">\n<title>IA&#45;&gt;B_IA</title>\n<path fill=\"none\" stroke=\"#000000\" d=\"M128.9565,-71.7787C142.3337,-80.3517 161.7456,-91.163 180.5963,-95.797 212.0758,-103.5354 248.1887,-95.4704 274.8863,-86.3405\"/>\n<polygon fill=\"#000000\" stroke=\"#000000\" points=\"276.4129,-89.5104 284.6281,-82.8199 274.0338,-82.9271 276.4129,-89.5104\"/>\n<text text-anchor=\"middle\" x=\"207.3443\" y=\"-102.597\" font-family=\"Times,serif\" font-size=\"14.00\" fill=\"#000000\">a </text>\n</g>\n<!-- FC -->\n<g id=\"node5\" class=\"node\">\n<title>FC</title>\n<ellipse fill=\"none\" stroke=\"#000000\" cx=\"207.3443\" cy=\"-59.797\" rx=\"22.9609\" ry=\"22.9609\"/>\n<ellipse fill=\"none\" stroke=\"#000000\" cx=\"207.3443\" cy=\"-59.797\" rx=\"26.9983\" ry=\"26.9983\"/>\n<text text-anchor=\"middle\" x=\"207.3443\" y=\"-56.097\" font-family=\"Times,serif\" font-size=\"14.00\" fill=\"#000000\">FC</text>\n</g>\n<!-- IA&#45;&gt;FC -->\n<g id=\"edge2\" class=\"edge\">\n<title>IA&#45;&gt;FC</title>\n<path fill=\"none\" stroke=\"#000000\" d=\"M133.0029,-59.797C143.9126,-59.797 157.5327,-59.797 170.1235,-59.797\"/>\n<polygon fill=\"#000000\" stroke=\"#000000\" points=\"170.3756,-63.2971 180.3756,-59.797 170.3756,-56.2971 170.3756,-63.2971\"/>\n<text text-anchor=\"middle\" x=\"156.5963\" y=\"-63.597\" font-family=\"Times,serif\" font-size=\"14.00\" fill=\"#000000\">b </text>\n</g>\n<!-- B_FC&#45;&gt;B_IA -->\n<g id=\"edge7\" class=\"edge\">\n<title>B_FC&#45;&gt;B_IA</title>\n<path fill=\"none\" stroke=\"#000000\" d=\"M394.0279,-31.5303C384.0179,-31.0964 373.3357,-31.7794 363.7866,-34.797 357.7653,-36.6998 351.8407,-39.6195 346.2953,-42.9781\"/>\n<polygon fill=\"#000000\" stroke=\"#000000\" points=\"344.3258,-40.0845 337.9339,-48.534 348.1999,-45.9147 344.3258,-40.0845\"/>\n<text text-anchor=\"middle\" x=\"369.7866\" y=\"-38.597\" font-family=\"Times,serif\" font-size=\"14.00\" fill=\"#000000\">b </text>\n</g>\n<!-- B_FC&#45;&gt;IA -->\n<g id=\"edge8\" class=\"edge\">\n<title>B_FC&#45;&gt;IA</title>\n<path fill=\"none\" stroke=\"#000000\" d=\"M394.8017,-29.0909C345.3303,-18.8779 254.9735,-5.5133 180.5963,-23.797 165.5746,-27.4897 150.1966,-35.1051 137.8,-42.3846\"/>\n<polygon fill=\"#000000\" stroke=\"#000000\" points=\"135.6465,-39.5998 128.9565,-47.8153 139.3096,-45.5648 135.6465,-39.5998\"/>\n<text text-anchor=\"middle\" x=\"258.0923\" y=\"-19.597\" font-family=\"Times,serif\" font-size=\"14.00\" fill=\"#000000\">a </text>\n</g>\n<!-- FC&#45;&gt;B_IA -->\n<g id=\"edge4\" class=\"edge\">\n<title>FC&#45;&gt;B_IA</title>\n<path fill=\"none\" stroke=\"#000000\" d=\"M234.2427,-62.3204C245.7279,-63.3979 259.4012,-64.6806 272.1515,-65.8768\"/>\n<polygon fill=\"#000000\" stroke=\"#000000\" points=\"271.8366,-69.3625 282.1198,-66.8119 272.4905,-62.3931 271.8366,-69.3625\"/>\n<text text-anchor=\"middle\" x=\"258.0923\" y=\"-68.597\" font-family=\"Times,serif\" font-size=\"14.00\" fill=\"#000000\">b </text>\n</g>\n</g>\n</svg>\n"
          },
          "metadata": {
            "tags": []
          },
          "execution_count": 4
        }
      ]
    },
    {
      "cell_type": "markdown",
      "metadata": {
        "id": "TdFlRj46Kebu"
      },
      "source": [
        "A good name for ```nfa3``` is\n"
      ]
    },
    {
      "cell_type": "code",
      "metadata": {
        "id": "E42eZH56Kebu"
      },
      "source": [
        "name3 = 'nfa_b_or_ab'  #@param {type: \"string\"}"
      ],
      "execution_count": null,
      "outputs": []
    },
    {
      "cell_type": "markdown",
      "metadata": {
        "id": "Nh3L-a0UKebv"
      },
      "source": [
        "An RE for the language of ```nfa3``` is"
      ]
    },
    {
      "cell_type": "code",
      "metadata": {
        "id": "G3an2JpsKebv"
      },
      "source": [
        "re3 = 'b+aa*b(bb)*'  #@param {type: \"string\"}"
      ],
      "execution_count": null,
      "outputs": []
    },
    {
      "cell_type": "code",
      "metadata": {
        "id": "nHsYxEhfKuTt",
        "outputId": "f503fc72-0c2c-4f71-8a3b-a085dfdc2292",
        "colab": {
          "base_uri": "https://localhost:8080/",
          "height": 144
        }
      },
      "source": [
        "nfa4 = md2mc('''NFA    \n",
        "I : 0 -> A            \n",
        "A : '' -> F1          \n",
        "F1 : 0 -> F           \n",
        "F : '' -> I           \n",
        "''')                  \n",
        "                      \n",
        "dotObj_nfa(nfa4)"
      ],
      "execution_count": 5,
      "outputs": [
        {
          "output_type": "execute_result",
          "data": {
            "text/plain": [
              "<graphviz.dot.Digraph at 0x7f9347c57f60>"
            ],
            "image/svg+xml": "<?xml version=\"1.0\" encoding=\"UTF-8\" standalone=\"no\"?>\n<!DOCTYPE svg PUBLIC \"-//W3C//DTD SVG 1.1//EN\"\n \"http://www.w3.org/Graphics/SVG/1.1/DTD/svg11.dtd\">\n<!-- Generated by graphviz version 2.40.1 (20161225.0304)\n -->\n<!-- Title: %3 Pages: 1 -->\n<svg width=\"406pt\" height=\"92pt\"\n viewBox=\"0.00 0.00 405.60 91.80\" xmlns=\"http://www.w3.org/2000/svg\" xmlns:xlink=\"http://www.w3.org/1999/xlink\">\n<g id=\"graph0\" class=\"graph\" transform=\"scale(1 1) rotate(0) translate(4 87.7982)\">\n<title>%3</title>\n<polygon fill=\"#ffffff\" stroke=\"transparent\" points=\"-4,4 -4,-87.7982 401.5963,-87.7982 401.5963,4 -4,4\"/>\n<!-- EMPTY -->\n<g id=\"node1\" class=\"node\">\n<title>EMPTY</title>\n</g>\n<!-- I -->\n<g id=\"node2\" class=\"node\">\n<title>I</title>\n<ellipse fill=\"none\" stroke=\"#000000\" cx=\"109\" cy=\"-22\" rx=\"18\" ry=\"18\"/>\n<text text-anchor=\"middle\" x=\"109\" y=\"-18.3\" font-family=\"Times,serif\" font-size=\"14.00\" fill=\"#000000\">I</text>\n</g>\n<!-- EMPTY&#45;&gt;I -->\n<g id=\"edge1\" class=\"edge\">\n<title>EMPTY&#45;&gt;I</title>\n<path fill=\"none\" stroke=\"#000000\" d=\"M54.3048,-22C62.6909,-22 71.9407,-22 80.4103,-22\"/>\n<polygon fill=\"#000000\" stroke=\"#000000\" points=\"80.5976,-25.5001 90.5976,-22 80.5976,-18.5001 80.5976,-25.5001\"/>\n</g>\n<!-- A -->\n<g id=\"node3\" class=\"node\">\n<title>A</title>\n<ellipse fill=\"none\" stroke=\"#000000\" cx=\"193\" cy=\"-55\" rx=\"18\" ry=\"18\"/>\n<text text-anchor=\"middle\" x=\"193\" y=\"-51.3\" font-family=\"Times,serif\" font-size=\"14.00\" fill=\"#000000\">A</text>\n</g>\n<!-- I&#45;&gt;A -->\n<g id=\"edge2\" class=\"edge\">\n<title>I&#45;&gt;A</title>\n<path fill=\"none\" stroke=\"#000000\" d=\"M125.9987,-28.678C137.612,-33.2404 153.2351,-39.3781 166.4737,-44.5789\"/>\n<polygon fill=\"#000000\" stroke=\"#000000\" points=\"165.4393,-47.9329 176.0266,-48.3319 167.9989,-41.4177 165.4393,-47.9329\"/>\n<text text-anchor=\"middle\" x=\"151\" y=\"-43.8\" font-family=\"Times,serif\" font-size=\"14.00\" fill=\"#000000\">0 </text>\n</g>\n<!-- F1 -->\n<g id=\"node5\" class=\"node\">\n<title>F1</title>\n<ellipse fill=\"none\" stroke=\"#000000\" cx=\"280.7982\" cy=\"-59\" rx=\"20.6302\" ry=\"20.6302\"/>\n<ellipse fill=\"none\" stroke=\"#000000\" cx=\"280.7982\" cy=\"-59\" rx=\"24.5979\" ry=\"24.5979\"/>\n<text text-anchor=\"middle\" x=\"280.7982\" y=\"-55.3\" font-family=\"Times,serif\" font-size=\"14.00\" fill=\"#000000\">F1</text>\n</g>\n<!-- A&#45;&gt;F1 -->\n<g id=\"edge3\" class=\"edge\">\n<title>A&#45;&gt;F1</title>\n<path fill=\"none\" stroke=\"#000000\" d=\"M211.1918,-55.8288C221.2146,-56.2854 233.9979,-56.8678 245.8674,-57.4086\"/>\n<polygon fill=\"#000000\" stroke=\"#000000\" points=\"245.8217,-60.91 255.9706,-57.8689 246.1403,-53.9173 245.8217,-60.91\"/>\n<text text-anchor=\"middle\" x=\"233.5\" y=\"-60.8\" font-family=\"Times,serif\" font-size=\"14.00\" fill=\"#000000\">&#39;&#39; </text>\n</g>\n<!-- F -->\n<g id=\"node4\" class=\"node\">\n<title>F</title>\n<ellipse fill=\"none\" stroke=\"#000000\" cx=\"375.5963\" cy=\"-22\" rx=\"18\" ry=\"18\"/>\n<ellipse fill=\"none\" stroke=\"#000000\" cx=\"375.5963\" cy=\"-22\" rx=\"22\" ry=\"22\"/>\n<text text-anchor=\"middle\" x=\"375.5963\" y=\"-18.3\" font-family=\"Times,serif\" font-size=\"14.00\" fill=\"#000000\">F</text>\n</g>\n<!-- F&#45;&gt;I -->\n<g id=\"edge5\" class=\"edge\">\n<title>F&#45;&gt;I</title>\n<path fill=\"none\" stroke=\"#000000\" d=\"M353.4604,-22C305.2733,-22 190.9211,-22 137.4641,-22\"/>\n<polygon fill=\"#000000\" stroke=\"#000000\" points=\"137.3243,-18.5001 127.3242,-22 137.3242,-25.5001 137.3243,-18.5001\"/>\n<text text-anchor=\"middle\" x=\"233.5\" y=\"-25.8\" font-family=\"Times,serif\" font-size=\"14.00\" fill=\"#000000\">&#39;&#39; </text>\n</g>\n<!-- F1&#45;&gt;F -->\n<g id=\"edge4\" class=\"edge\">\n<title>F1&#45;&gt;F</title>\n<path fill=\"none\" stroke=\"#000000\" d=\"M304.2314,-49.8539C316.6399,-45.0109 332.0221,-39.0072 345.3247,-33.8151\"/>\n<polygon fill=\"#000000\" stroke=\"#000000\" points=\"346.9653,-36.932 355.0083,-30.0356 344.4201,-30.4111 346.9653,-36.932\"/>\n<text text-anchor=\"middle\" x=\"329.5963\" y=\"-44.8\" font-family=\"Times,serif\" font-size=\"14.00\" fill=\"#000000\">0 </text>\n</g>\n</g>\n</svg>\n"
          },
          "metadata": {
            "tags": []
          },
          "execution_count": 5
        }
      ]
    },
    {
      "cell_type": "markdown",
      "metadata": {
        "id": "pThRLjpFK3ac"
      },
      "source": [
        "A good name for ```nfa4``` is\n"
      ]
    },
    {
      "cell_type": "code",
      "metadata": {
        "id": "MaDIz34gK3ac"
      },
      "source": [
        "name4 = 'nfa_one_or-more_0'  #@param {type: \"string\"}"
      ],
      "execution_count": null,
      "outputs": []
    },
    {
      "cell_type": "markdown",
      "metadata": {
        "id": "5pLQMGB6K3ac"
      },
      "source": [
        "An RE for the language of ```nfa4``` is"
      ]
    },
    {
      "cell_type": "code",
      "metadata": {
        "id": "CffzXbmeK3ac"
      },
      "source": [
        "re4 = '0(0*)'  #@param {type: \"string\"}"
      ],
      "execution_count": null,
      "outputs": []
    },
    {
      "cell_type": "markdown",
      "metadata": {
        "id": "mMO_bynFK6Wf"
      },
      "source": [
        "## Easy to Simulate"
      ]
    },
    {
      "cell_type": "markdown",
      "metadata": {
        "id": "2QwtfAW0K9DG"
      },
      "source": [
        "With code:"
      ]
    },
    {
      "cell_type": "code",
      "metadata": {
        "id": "AwlFOq4TLBJN",
        "outputId": "07bccec1-35c7-4730-9255-da6cde6074aa",
        "colab": {
          "base_uri": "https://localhost:8080/"
        }
      },
      "source": [
        "nfa5 = md2mc('''NFA                                                 \n",
        "I    : 0|1 -> I                                                    \n",
        "I    : 0   -> S0                                                   \n",
        "S0   : 0|1   -> S01                                                \n",
        "S01  : 0|1   -> S010                                               \n",
        "S010 : 0|1   -> F                                                  \n",
        "''')                                                               \n",
        "                                                                   \n",
        "for i in range(200):                                               \n",
        "    into_the_depths = bin(i)[2:].zfill(5)                          \n",
        "    print(into_the_depths, ': ', accepts_nfa(nfa5, into_the_depths))"
      ],
      "execution_count": 6,
      "outputs": [
        {
          "output_type": "stream",
          "text": [
            "00000 :  True\n",
            "00001 :  True\n",
            "00010 :  True\n",
            "00011 :  True\n",
            "00100 :  True\n",
            "00101 :  True\n",
            "00110 :  True\n",
            "00111 :  True\n",
            "01000 :  False\n",
            "01001 :  False\n",
            "01010 :  False\n",
            "01011 :  False\n",
            "01100 :  False\n",
            "01101 :  False\n",
            "01110 :  False\n",
            "01111 :  False\n",
            "10000 :  True\n",
            "10001 :  True\n",
            "10010 :  True\n",
            "10011 :  True\n",
            "10100 :  True\n",
            "10101 :  True\n",
            "10110 :  True\n",
            "10111 :  True\n",
            "11000 :  False\n",
            "11001 :  False\n",
            "11010 :  False\n",
            "11011 :  False\n",
            "11100 :  False\n",
            "11101 :  False\n",
            "11110 :  False\n",
            "11111 :  False\n",
            "100000 :  True\n",
            "100001 :  True\n",
            "100010 :  True\n",
            "100011 :  True\n",
            "100100 :  True\n",
            "100101 :  True\n",
            "100110 :  True\n",
            "100111 :  True\n",
            "101000 :  False\n",
            "101001 :  False\n",
            "101010 :  False\n",
            "101011 :  False\n",
            "101100 :  False\n",
            "101101 :  False\n",
            "101110 :  False\n",
            "101111 :  False\n",
            "110000 :  True\n",
            "110001 :  True\n",
            "110010 :  True\n",
            "110011 :  True\n",
            "110100 :  True\n",
            "110101 :  True\n",
            "110110 :  True\n",
            "110111 :  True\n",
            "111000 :  False\n",
            "111001 :  False\n",
            "111010 :  False\n",
            "111011 :  False\n",
            "111100 :  False\n",
            "111101 :  False\n",
            "111110 :  False\n",
            "111111 :  False\n",
            "1000000 :  True\n",
            "1000001 :  True\n",
            "1000010 :  True\n",
            "1000011 :  True\n",
            "1000100 :  True\n",
            "1000101 :  True\n",
            "1000110 :  True\n",
            "1000111 :  True\n",
            "1001000 :  False\n",
            "1001001 :  False\n",
            "1001010 :  False\n",
            "1001011 :  False\n",
            "1001100 :  False\n",
            "1001101 :  False\n",
            "1001110 :  False\n",
            "1001111 :  False\n",
            "1010000 :  True\n",
            "1010001 :  True\n",
            "1010010 :  True\n",
            "1010011 :  True\n",
            "1010100 :  True\n",
            "1010101 :  True\n",
            "1010110 :  True\n",
            "1010111 :  True\n",
            "1011000 :  False\n",
            "1011001 :  False\n",
            "1011010 :  False\n",
            "1011011 :  False\n",
            "1011100 :  False\n",
            "1011101 :  False\n",
            "1011110 :  False\n",
            "1011111 :  False\n",
            "1100000 :  True\n",
            "1100001 :  True\n",
            "1100010 :  True\n",
            "1100011 :  True\n",
            "1100100 :  True\n",
            "1100101 :  True\n",
            "1100110 :  True\n",
            "1100111 :  True\n",
            "1101000 :  False\n",
            "1101001 :  False\n",
            "1101010 :  False\n",
            "1101011 :  False\n",
            "1101100 :  False\n",
            "1101101 :  False\n",
            "1101110 :  False\n",
            "1101111 :  False\n",
            "1110000 :  True\n",
            "1110001 :  True\n",
            "1110010 :  True\n",
            "1110011 :  True\n",
            "1110100 :  True\n",
            "1110101 :  True\n",
            "1110110 :  True\n",
            "1110111 :  True\n",
            "1111000 :  False\n",
            "1111001 :  False\n",
            "1111010 :  False\n",
            "1111011 :  False\n",
            "1111100 :  False\n",
            "1111101 :  False\n",
            "1111110 :  False\n",
            "1111111 :  False\n",
            "10000000 :  True\n",
            "10000001 :  True\n",
            "10000010 :  True\n",
            "10000011 :  True\n",
            "10000100 :  True\n",
            "10000101 :  True\n",
            "10000110 :  True\n",
            "10000111 :  True\n",
            "10001000 :  False\n",
            "10001001 :  False\n",
            "10001010 :  False\n",
            "10001011 :  False\n",
            "10001100 :  False\n",
            "10001101 :  False\n",
            "10001110 :  False\n",
            "10001111 :  False\n",
            "10010000 :  True\n",
            "10010001 :  True\n",
            "10010010 :  True\n",
            "10010011 :  True\n",
            "10010100 :  True\n",
            "10010101 :  True\n",
            "10010110 :  True\n",
            "10010111 :  True\n",
            "10011000 :  False\n",
            "10011001 :  False\n",
            "10011010 :  False\n",
            "10011011 :  False\n",
            "10011100 :  False\n",
            "10011101 :  False\n",
            "10011110 :  False\n",
            "10011111 :  False\n",
            "10100000 :  True\n",
            "10100001 :  True\n",
            "10100010 :  True\n",
            "10100011 :  True\n",
            "10100100 :  True\n",
            "10100101 :  True\n",
            "10100110 :  True\n",
            "10100111 :  True\n",
            "10101000 :  False\n",
            "10101001 :  False\n",
            "10101010 :  False\n",
            "10101011 :  False\n",
            "10101100 :  False\n",
            "10101101 :  False\n",
            "10101110 :  False\n",
            "10101111 :  False\n",
            "10110000 :  True\n",
            "10110001 :  True\n",
            "10110010 :  True\n",
            "10110011 :  True\n",
            "10110100 :  True\n",
            "10110101 :  True\n",
            "10110110 :  True\n",
            "10110111 :  True\n",
            "10111000 :  False\n",
            "10111001 :  False\n",
            "10111010 :  False\n",
            "10111011 :  False\n",
            "10111100 :  False\n",
            "10111101 :  False\n",
            "10111110 :  False\n",
            "10111111 :  False\n",
            "11000000 :  True\n",
            "11000001 :  True\n",
            "11000010 :  True\n",
            "11000011 :  True\n",
            "11000100 :  True\n",
            "11000101 :  True\n",
            "11000110 :  True\n",
            "11000111 :  True\n"
          ],
          "name": "stdout"
        }
      ]
    },
    {
      "cell_type": "markdown",
      "metadata": {
        "id": "fAPsLCFKLdas"
      },
      "source": [
        "With the Animation Panel:"
      ]
    }
  ]
}