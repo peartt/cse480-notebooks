{
  "nbformat": 4,
  "nbformat_minor": 0,
  "metadata": {
    "colab": {
      "name": "06_3_More_Proofs.ipynb",
      "provenance": [],
      "authorship_tag": "ABX9TyMJN349waEdWRJeTyCATw87",
      "include_colab_link": true
    },
    "kernelspec": {
      "name": "python3",
      "display_name": "Python 3"
    }
  },
  "cells": [
    {
      "cell_type": "markdown",
      "metadata": {
        "id": "view-in-github",
        "colab_type": "text"
      },
      "source": [
        "<a href=\"https://colab.research.google.com/github/byui-cse/cse480-notebooks/blob/master/06_3_More_Proofs.ipynb\" target=\"_parent\"><img src=\"https://colab.research.google.com/assets/colab-badge.svg\" alt=\"Open In Colab\"/></a>"
      ]
    },
    {
      "cell_type": "markdown",
      "metadata": {
        "id": "QHb-2aN8wvVs"
      },
      "source": [
        "# More Proofs\n",
        "## 10 February 2021"
      ]
    },
    {
      "cell_type": "markdown",
      "metadata": {
        "id": "Qmua3Q_0w2Vj"
      },
      "source": [
        "## Look at \"Hard\" Proof\n",
        "Show that for $n \\ge 2$, the sum $1 + \\frac{1}{2} + \\cdots + \\frac{1}{n}$ is never an integer.\n",
        "\n",
        "In other words, for $n \\ge 2$, $\\sum_{i = 1}^n \\frac{1}{i}$ is N.A.I."
      ]
    },
    {
      "cell_type": "code",
      "metadata": {
        "id": "uiY9J4S8yz-p"
      },
      "source": [
        "from numpy import lcm\n",
        "lcm.reduce([2, 3, 4, 5])"
      ],
      "execution_count": null,
      "outputs": []
    },
    {
      "cell_type": "markdown",
      "metadata": {
        "id": "gLWcC7QhxMg_"
      },
      "source": [
        "### Proof Step\n",
        "Let the sum $H_n$ be expressed as a fraction, $\\frac{a}{b}$, where b is the least common multiple of $2,3, \\cdots, n$.\n",
        "\n",
        "Then $b = 2^r \\cdot s$, where $2^r$ is the largest power of $2 \\leq n$, and $s$ is an odd number.\n"
      ]
    },
    {
      "cell_type": "markdown",
      "metadata": {
        "id": "WfLhXeq2xhYt"
      },
      "source": [
        "### Proof Step (Example)\n",
        "Consider $a$ and $b$, for $H_5$:\n",
        "\n",
        "$b = 2^2 \\cdot s$\n",
        "\n",
        "$a = 2^2 \\cdot s + 2s + 2^2 \\cdot (\\frac{s}{3}) + s + 2^2 \\cdot (\\frac{s}{5})$\n",
        "\n",
        "$H_5 = \\frac{60 + 30 + 20 + 15 + 12}{60}$ with $r = 2$ and $s = 15$."
      ]
    },
    {
      "cell_type": "markdown",
      "metadata": {
        "id": "casOfd9Vx6DA"
      },
      "source": [
        "### Consequences\n",
        "From the example we can see that $a$ is odd because it is the sum of one odd number, $s$, and several even numbers.\n",
        "\n",
        "We also know that $b$ is even.\n",
        "\n",
        "So when $\\frac{a}{b}$ is written as a fraction in its lowest terms, $\\frac{c}{d}$, $d$ must be greater than 1.\n"
      ]
    },
    {
      "cell_type": "markdown",
      "metadata": {
        "id": "oeWRA4I-yPZI"
      },
      "source": [
        "### Conclusion"
      ]
    },
    {
      "cell_type": "markdown",
      "metadata": {
        "id": "4hPGWbKZyWqS"
      },
      "source": [
        "Therefore, for $n \\ge 2$, $H_n$ is N.A.I., Q.E.D."
      ]
    },
    {
      "cell_type": "markdown",
      "metadata": {
        "id": "rBIwY9MD02fS"
      },
      "source": [
        "## Proof by Cases"
      ]
    },
    {
      "cell_type": "markdown",
      "metadata": {
        "id": "CzSJCVMh0_9X"
      },
      "source": [
        "For example: Consider the Theorem: For any distinct real numbers $x$ and $y$, $x^2 + y^2 > xy$.\n"
      ]
    },
    {
      "cell_type": "markdown",
      "metadata": {
        "id": "7PFG9CkT1FJm"
      },
      "source": [
        "### What are the cases?\n"
      ]
    },
    {
      "cell_type": "markdown",
      "metadata": {
        "id": "htm_HYAR1J9K"
      },
      "source": [
        "### Trivial Case 0: $x = y = 0$\n",
        "The theorem is NOT true in this case!\n",
        "But $x$ and $y$ can't both be zero, or else they wouldn't be distinct. So scratch Case 0."
      ]
    },
    {
      "cell_type": "markdown",
      "metadata": {
        "id": "K4NDzLyh1Sgt"
      },
      "source": [
        "### Trivial Case 1: $x = 0$ and $y \\ne 0$\n",
        "The left-hand-side (LHS) of the inequality is always positive, while the right-hand-side (RHS) is always zero.\n"
      ]
    },
    {
      "cell_type": "markdown",
      "metadata": {
        "id": "YvnCjAFS1bl1"
      },
      "source": [
        "### Trivial Case 2: $x > 0$ and $y < 0$\n",
        "The LHS is still always positive, while the RHS is negative."
      ]
    },
    {
      "cell_type": "markdown",
      "metadata": {
        "id": "g5_UEa1u1rHs"
      },
      "source": [
        "Hence, the theorem is obviously true for both of these cases.\n",
        "\n",
        "What about the opposite cases of $x$ non-zero and $y$ zero, or $x < 0$ and $y > 0$?\n",
        "\n",
        "They are **not** needed!\n",
        "\n",
        "The technical phrase *without loss of generality* (WLOG) signals this non-need.\n",
        "\n",
        "($x$ and $y$ are interchangeable, without changing the meaning of the Theorem.)\n"
      ]
    },
    {
      "cell_type": "markdown",
      "metadata": {
        "id": "deO-c7I915da"
      },
      "source": [
        "### Non-trivial Cases 3 and 4: $x$ and $y$ have the same sign\n"
      ]
    },
    {
      "cell_type": "markdown",
      "metadata": {
        "id": "431c6t9l1_Nt"
      },
      "source": [
        "#### Case 3: Assume WLOG that $x > y > 0$ (i.e., they're both positive and $x$ is more positive than $y$)\n"
      ]
    },
    {
      "cell_type": "markdown",
      "metadata": {
        "id": "3qHQwIQn2Dna"
      },
      "source": [
        "Then $x^2 > xy$ (multiplying both sides by the same positive number $x$ doesn't change the inequality.)\n",
        "\n",
        "The conclusion follows, because adding the positive number $y^2$ to the LHS only makes the inequality stronger.\n"
      ]
    },
    {
      "cell_type": "markdown",
      "metadata": {
        "id": "olxnGZqd2MXL"
      },
      "source": [
        "#### Case 4: Assume WLOG that $x < y < 0$ (i.e., they're both negative and $x$ is more negative than $y$)\n"
      ]
    },
    {
      "cell_type": "markdown",
      "metadata": {
        "id": "RDapuZd62SFL"
      },
      "source": [
        "Use a similar argument to Case 3's, noting that multiplying both sides of an inequality by a **negative** number changes the direction of the inequality!\n"
      ]
    },
    {
      "cell_type": "markdown",
      "metadata": {
        "id": "Xiivbcj72Wfz"
      },
      "source": [
        "## Look at The Language of Equal Changes (5.1.1 on Page 51)"
      ]
    },
    {
      "cell_type": "markdown",
      "metadata": {
        "id": "3pM7gzpb2rjg"
      },
      "source": [
        "\"The set of all strings that have an equal number of 0->1 and 1->0 transitions.\"\n",
        "\n",
        "Let $\\Sigma = \\{0, 1\\}$.\n",
        "\n",
        "$$L_{eqc} = \\{ s \\mid s \\in \\Sigma^*\\ \\mbox{and n01(s) = n10(s)}\\}.$$\n",
        "\n",
        "n01(s) $\\rightarrow$\n",
        "\n",
        "  if s = $\\varepsilon$ return 0\n",
        "\n",
        "  elif s = 0 return 0\n",
        "\n",
        "  elif s = 1w return 0 + n01(w)\n",
        "\n",
        "  elif s = 01w return 1 + n01(w)\n",
        "\n",
        "  elif s = 00w return 0 + n01(w)\n"
      ]
    },
    {
      "cell_type": "markdown",
      "metadata": {
        "id": "RGS-tstT3fpP"
      },
      "source": [
        "Is that the same as this definition?\n",
        "\n",
        "\"All strings over $\\{0, 1\\}$ that begin and end with the same symbol.\"\n",
        "\n",
        "$$0\\Sigma^*0 \\cup 1\\Sigma^*1.$$\n",
        "\n",
        "Is it correct?\n",
        "\n",
        "$$\\{ s \\mid s \\in \\Sigma^*\\ \\mbox{and (beg0(s) and end0(s) or beg1(s) and end1(s))}\\}.$$\n",
        "\n",
        "$\\varepsilon$ is included with the first definition but not the second.\n",
        "\n",
        "$$0\\Sigma^*0 \\cup 1\\Sigma^*1 \\cup \\varepsilon \\cup 0 \\cup 1$$ is the complete definition.\n"
      ]
    },
    {
      "cell_type": "markdown",
      "metadata": {
        "id": "_gjmxz1x5BKu"
      },
      "source": [
        "## Work through a couple of examples"
      ]
    },
    {
      "cell_type": "markdown",
      "metadata": {
        "id": "VPUgsBX_5pmc"
      },
      "source": [
        "Prove that the following two languages are not regular.\n",
        "\n",
        "Use the pumping lemma, and possibly the closure of the class of regular languages under union, intersection, and complement.\n",
        "\n",
        "$$L_1 = \\{0^{n}1^{m}0^{n} \\mid m,n \\ge 0\\}.$$\n",
        "\n",
        "Assume $L_1$ **is** regular.\n",
        "\n",
        "Let $p$ be the pumping length given by the pumping lemma.\n",
        "\n",
        "The string $s = 0^{p}10^{p} \\in L_1$, and $|s| \\ge p$.\n",
        "\n",
        "Thus the pumping lemma implies that $s$ can be divided as $xyz$ with $x = 0^{a}, y = 0^{b}, z = 0^{c}10^{p}$,\n",
        "\n",
        "where $b \\ge 1$ and $a + b + c = p$.\n",
        "\n",
        "However, the string $s = xy^{0}z = 0^{a+c}10^{p} \\not \\in L_1$, since $a + c < p$.\n",
        "\n",
        "That contradicts the pumping lemma, so $L_1$ is not regular.\n",
        "\n",
        "\n"
      ]
    },
    {
      "cell_type": "markdown",
      "metadata": {
        "id": "uT66QdvY8kWn"
      },
      "source": [
        "$L_2 = \\{w \\mid w \\in \\Sigma^*\\ \\mbox{is NOT a palindrome}\\}.$\n",
        "\n",
        "Assume $C = \\{w \\mid w \\in \\Sigma^*\\ \\mbox{IS a palindrome}\\}$ is regular.\n",
        "\n",
        "Let $p$ be the pumping length given by the pumping lemma.\n",
        "\n",
        "The string $s = 0^{p}10^{p} \\in C$ and $|s| \\ge p$.\n",
        "\n",
        "Follow the argument for $L_1$.\n",
        "\n",
        "Hence $C$ isn't regular, so neither is its complement, $L_2$.\n",
        "\n"
      ]
    }
  ]
}