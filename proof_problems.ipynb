{
  "nbformat": 4,
  "nbformat_minor": 0,
  "metadata": {
    "colab": {
      "name": "proof_problems.ipynb",
      "provenance": [],
      "authorship_tag": "ABX9TyNnWHjKFFS4Y4X21yVRkKgv",
      "include_colab_link": true
    },
    "kernelspec": {
      "name": "python3",
      "display_name": "Python 3"
    }
  },
  "cells": [
    {
      "cell_type": "markdown",
      "metadata": {
        "id": "view-in-github",
        "colab_type": "text"
      },
      "source": [
        "<a href=\"https://colab.research.google.com/github/byui-cse/cse480-notebooks/blob/master/proof_problems.ipynb\" target=\"_parent\"><img src=\"https://colab.research.google.com/assets/colab-badge.svg\" alt=\"Open In Colab\"/></a>"
      ]
    },
    {
      "cell_type": "markdown",
      "metadata": {
        "id": "NJbnmTGuC2yN"
      },
      "source": [
        "# Look at a Series of Proof Problems\n",
        "Think about how you would go about trying to solve these problems.\n",
        "\n",
        "In other words, how would you approach trying to prove each one?\n",
        "\n",
        "It will be good warm-up for next week's exploration of the Pumping Lemma for Regular Languages."
      ]
    },
    {
      "cell_type": "markdown",
      "metadata": {
        "id": "-OdWAKyfFPkx"
      },
      "source": [
        "## Easiest Proof Problem"
      ]
    },
    {
      "cell_type": "markdown",
      "metadata": {
        "id": "5fMk--buC87a"
      },
      "source": [
        "Prove that if $a \\equiv_5 b$ where $a$ and $b$ are integers, then $a^2 \\equiv_5 b^2$.\n",
        "\n",
        "What about the converse?"
      ]
    },
    {
      "cell_type": "markdown",
      "metadata": {
        "id": "c95PEdirFUdr"
      },
      "source": [
        "## Easy Proof Problem"
      ]
    },
    {
      "cell_type": "markdown",
      "metadata": {
        "id": "n376QHhFDP8V"
      },
      "source": [
        "Prove that for every natural number $n$, there exist integers $a$ and $b$ such that $n = 3a + 7b$.\n",
        "\n",
        "Can you generalize this result?"
      ]
    },
    {
      "cell_type": "markdown",
      "metadata": {
        "id": "SsFkn_PuFZOp"
      },
      "source": [
        "## Hard Proof Problem"
      ]
    },
    {
      "cell_type": "markdown",
      "metadata": {
        "id": "euibTihmDjRp"
      },
      "source": [
        "Show that for $n \\ge 2$, the sum $1 + \\frac{1}{2} + \\cdots + \\frac{1}{n}$ is never an integer.\n",
        "\n",
        "In other words, for $n \\ge 2$, $\\sum_{i = 1}^n \\frac{1}{i}$ is never an integer."
      ]
    },
    {
      "cell_type": "markdown",
      "metadata": {
        "id": "cfVwMa5yFiz7"
      },
      "source": [
        "## Harder Proof Problem"
      ]
    },
    {
      "cell_type": "markdown",
      "metadata": {
        "id": "AFljtCEUDv-G"
      },
      "source": [
        "Given that\n",
        "$$\\frac{1}{n(n+1)} = \\frac{1}{n} - \\frac{1}{n+1},$$\n",
        "what is the value of the summation\n",
        "$$\\sum_{n=1}^\\infty \\frac{b(n)}{n(n+1)},$$\n",
        "\n",
        "where $b(n)$ counts the number of ones in the binary expansion of $n$?\n",
        "\n",
        "The harder question is, why does this value converge to the number it does? Can you find an expression in common mathematical symbols (using 5 or fewer characters) for this value? And what does binary expansion have to do with why this value is what it is? How would you prove it?\n",
        "\n",
        "Hint: you may find it helpful at some point to refer to the so-called [Theoretical Computer Science Cheat Sheet](https://www.tug.org/texshowcase/cheat.pdf)."
      ]
    },
    {
      "cell_type": "markdown",
      "metadata": {
        "id": "q18gZ23MFmKj"
      },
      "source": [
        "## Hardest Proof Problem"
      ]
    },
    {
      "cell_type": "markdown",
      "metadata": {
        "id": "Jl44d2HdE85J"
      },
      "source": [
        "Prove that $a^4 + b^4 + c^4 = d^4$ has no positive integer solutions."
      ]
    }
  ]
}