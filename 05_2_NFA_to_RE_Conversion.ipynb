{
  "nbformat": 4,
  "nbformat_minor": 0,
  "metadata": {
    "colab": {
      "name": "05_2_NFA_to_RE_Conversion.ipynb",
      "provenance": []
    },
    "kernelspec": {
      "display_name": "Python 3",
      "language": "python",
      "name": "python3"
    },
    "language_info": {
      "codemirror_mode": {
        "name": "ipython",
        "version": 3
      },
      "file_extension": ".py",
      "mimetype": "text/x-python",
      "name": "python",
      "nbconvert_exporter": "python",
      "pygments_lexer": "ipython3",
      "version": "3.9.0"
    },
    "toc": {
      "colors": {
        "hover_highlight": "#DAA520",
        "running_highlight": "#FF0000",
        "selected_highlight": "#FFD700"
      },
      "moveMenuLeft": true,
      "nav_menu": {
        "height": "121px",
        "width": "252px"
      },
      "navigate_menu": true,
      "number_sections": true,
      "sideBar": true,
      "threshold": 4,
      "toc_cell": false,
      "toc_section_display": "block",
      "toc_window_display": false,
      "widenNotebook": false
    }
  },
  "cells": [
    {
      "cell_type": "markdown",
      "metadata": {
        "id": "1an9nmMw1Fac",
        "run_control": {
          "frozen": false,
          "read_only": false
        }
      },
      "source": [
        "# Imports, then Presentation\n"
      ]
    },
    {
      "cell_type": "code",
      "metadata": {
        "id": "y863_jSu1Fad",
        "run_control": {
          "frozen": false,
          "read_only": false
        },
        "scrolled": true,
        "outputId": "593751fd-afcf-4fbd-c808-5278bf65eb2c",
        "colab": {
          "base_uri": "https://localhost:8080/"
        }
      },
      "source": [
        "#~~~~~~~~~~~~~~~~~~~~~~~~~~~~~~~~~~~~~~~~~~~~~~~~~~~~~~~\n",
        "import sys\n",
        "\n",
        "# -- Detect if in Own Install or in Colab\n",
        "try:\n",
        "    import google.colab\n",
        "    OWN_INSTALL = False\n",
        "except:\n",
        "    OWN_INSTALL = True\n",
        "    \n",
        "if OWN_INSTALL:\n",
        "  \n",
        "  sys.path[0:0] = ['../../../../..',  '../../../../../3rdparty',  \n",
        "                   '../../../..',  '../../../../3rdparty',  \n",
        "                   '../../..',     '../../../3rdparty', \n",
        "                   '../..',        '../../3rdparty',\n",
        "                   '..',           '../3rdparty',\n",
        "                   '../Jove',      '../Jove/jove']\n",
        "\n",
        "else: # In colab\n",
        "  ! if [ ! -d Jove ]; then git clone https://github.com/ganeshutah/Jove Jove; fi\n",
        "  sys.path.append('./Jove')\n",
        "  sys.path.append('./Jove/jove')\n",
        "\n",
        "# -- common imports --\n",
        "from jove.DotBashers import *\n",
        "from jove.Def_md2mc  import *\n",
        "from jove.Def_NFA    import *\n",
        "from jove.Def_DFA    import *\n",
        "from jove.Def_NFA2RE import *\n",
        "from jove.Def_RE2NFA import *\n",
        "from jove.AnimateNFA import *\n",
        "#~~~~~~~~~~~~~~~~~~~~~~~~~~~~~~~~~~~~~~~~~~~~~~~~~~~~~~~"
      ],
      "execution_count": 1,
      "outputs": [
        {
          "output_type": "stream",
          "text": [
            "Cloning into 'Jove'...\n",
            "remote: Enumerating objects: 4634, done.\u001b[K\n",
            "remote: Total 4634 (delta 0), reused 0 (delta 0), pack-reused 4634\u001b[K\n",
            "Receiving objects: 100% (4634/4634), 7.38 MiB | 13.13 MiB/s, done.\n",
            "Resolving deltas: 100% (3005/3005), done.\n",
            "You may use any of these help commands:\n",
            "help(ResetStNum)\n",
            "help(NxtStateStr)\n",
            "\n",
            "You may use any of these help commands:\n",
            "help(md2mc)\n",
            ".. and if you want to dig more, then ..\n",
            "help(default_line_attr)\n",
            "help(length_ok_input_items)\n",
            "help(union_line_attr_list_fld)\n",
            "help(extend_rsltdict)\n",
            "help(form_delta)\n",
            "help(get_machine_components)\n",
            "\n",
            "You may use any of these help commands:\n",
            "help(mkp_dfa)\n",
            "help(mk_dfa)\n",
            "help(totalize_dfa)\n",
            "help(addtosigma_delta)\n",
            "help(step_dfa)\n",
            "help(run_dfa)\n",
            "help(accepts_dfa)\n",
            "help(comp_dfa)\n",
            "help(union_dfa)\n",
            "help(intersect_dfa)\n",
            "help(pruneUnreach)\n",
            "help(iso_dfa)\n",
            "help(langeq_dfa)\n",
            "help(same_status)\n",
            "help(h_langeq_dfa)\n",
            "help(fixptDist)\n",
            "help(min_dfa)\n",
            "help(pairFR)\n",
            "help(state_combos)\n",
            "help(sepFinNonFin)\n",
            "help(bash_eql_classes)\n",
            "help(listminus)\n",
            "help(bash_1)\n",
            "help(mk_rep_eqc)\n",
            "help(F_of)\n",
            "help(rep_of_s)\n",
            "help(q0_of)\n",
            "help(Delta_of)\n",
            "help(mk_state_eqc_name)\n",
            "\n",
            "You may use any of these help commands:\n",
            "help(mk_nfa)\n",
            "help(totalize_nfa)\n",
            "help(step_nfa)\n",
            "help(run_nfa)\n",
            "help(ec_step_nfa)\n",
            "help(Eclosure)\n",
            "help(Echelp)\n",
            "help(accepts_nfa)\n",
            "help(nfa2dfa)\n",
            "help(n2d)\n",
            "help(inSets)\n",
            "help(rev_dfa)\n",
            "help(min_dfa_brz)\n",
            "\n",
            "You may use any of these help commands:\n",
            "help(RE2Str)\n",
            "help(mk_gnfa)\n",
            "help(mk_gnfa_from_D)\n",
            "help(dfa2nfa)\n",
            "help(del_gnfa_states)\n",
            "help(gnfa_w_REStr)\n",
            "help(del_one_gnfa_state)\n",
            "help(Edges_Exist_Via)\n",
            "help(choose_state_to_del)\n",
            "help(form_alt_RE)\n",
            "help(form_concat_RE)\n",
            "help(form_kleene_RE)\n",
            "\n",
            "You may use any of these help commands:\n",
            "help(re2nfa)\n",
            "\n",
            " \"help(AnimateNFA)\" gives you info on how to use animations with NFA \n"
          ],
          "name": "stdout"
        }
      ]
    },
    {
      "cell_type": "markdown",
      "metadata": {
        "id": "BzOCjuwm1Fae"
      },
      "source": [
        "# Operations on FA\n",
        "## The Convenience of having Epsilon Transitions\n",
        "The \"just because I feel like it\" transition!\n",
        "## Complementation\n",
        "Swapping final and non-final states does the trick.\n",
        "## Concatenation\n",
        "Juxtapose and add ε-transitions.\n",
        "## Union\n",
        "Add ε-transitions from a new initial state to old initial states.\n",
        "## Use All Three Operations\n",
        "You should be able to build (by hand) an NFA from the Regular Expression $(01 \\cup 0)^*$.\n",
        "## Intersection\n",
        "This is akin to the composition of graphs.\n"
      ]
    },
    {
      "cell_type": "markdown",
      "metadata": {
        "id": "XSpouzSV0FWK"
      },
      "source": [
        "## Converting Finite Automata to Regular Expressions\n",
        "The conversion of a Finite Automaton to a Regular Expression is nicely automated with the Jove tools, but it is also instructive to further study the manual process.\n",
        "\n",
        "Here is a different than Ganesh's but equivalent take on this process.\n",
        "\n",
        "The manual conversion begins by creating from the given Deterministic or Nondeterministic Finite Automaton a **Generalized** Nondeterministic Finite Automaton (GNFA) --- defined as an NFA that allows regular expressions to label its transitions, not just alphabet symbols.\n",
        "The process of converting a Finite Automaton to a GNFA begins by adding a new start state and a new accept state, with ε-transitions from the new start state to the old start state, and from the old accept states to the new accept state. At each stage of the conversion, a state is chosen to delete, hence decreasing the number of states by one. At some point, the number of states will be two --- and those will be the two new states that were added. The label between these two states will be the regular expression that is equivalent to the original NFA.\n"
      ]
    },
    {
      "cell_type": "markdown",
      "metadata": {
        "id": "7j4vZ_hb0FWK"
      },
      "source": [
        "With $G$ being a GNFA, here is a recursive procedure to convert $G$ to a Regular Expression.\n",
        "\n",
        "CONVERT($G$):\n",
        "1. Let $k$ be the number of states of $G$.\n",
        "2. If $k = 2$, then $G$ must consist of a start state, an accept state, and a single arrow connnecting them labeled with a regular expression $R$. Return the expression $R$.\n",
        "3. If $k > 2$, select any state $S_{del} \\in Q$ different from $S_{start}$ and $S_{accept}$ and let $G^{\\prime}$ be the GNFA\n",
        "\n",
        "$(Q^{\\prime}, \\Sigma, \\delta^{\\prime}, S_{start}, S_{accept})$, where\n",
        "\n",
        "$Q^{\\prime} = Q - \\{S_{del}\\}$ and for any $S_i \\in Q^{\\prime} - \\{S_{accept}\\}$ and any $S_j \\in Q^{\\prime} - \\{S_{start}\\}$ let\n",
        "\n",
        "$\\delta^{\\prime}(S_i, S_j) = (R_1)(R_2)^*(R_3) \\cup (R_4)$\n",
        "\n",
        "for $R_1 = \\delta(S_i, S_{del}), R_2 = \\delta(S_{del}, S_{del}), R_3 = \\delta(S_{del}, S_j)$, and $R_4 = \\delta(S_i, S_j)$.\n",
        "\n",
        "4. Compute CONVERT($G^{\\prime}$) and return this value."
      ]
    },
    {
      "cell_type": "markdown",
      "metadata": {
        "id": "sVLQehyk0FWL"
      },
      "source": [
        "### Simple Example\n",
        "Refer to these two figures:\n",
        "\n",
        "Before deleting state:\n",
        "![before-deleting-state.png](attachment:before-deleting-state.png)"
      ]
    },
    {
      "cell_type": "markdown",
      "metadata": {
        "id": "o6km-yCJ0FWL"
      },
      "source": [
        "After deleting state:\n",
        "![after-deleting-state.png](attachment:after-deleting-state.png)"
      ]
    },
    {
      "cell_type": "markdown",
      "metadata": {
        "id": "LHEubG4m0FWL"
      },
      "source": [
        "Here is the markdown for the example NFA (or is it a DFA?):"
      ]
    },
    {
      "cell_type": "code",
      "metadata": {
        "id": "JWZtmSDe0FWL",
        "outputId": "cd1ca3d9-0b74-4799-f9fe-e8e59a1fe78e",
        "colab": {
          "base_uri": "https://localhost:8080/"
        }
      },
      "source": [
        "fa1 = md2mc('''\n",
        "       NFA\n",
        "       I : a -> I\n",
        "       I : b -> F\n",
        "       F : a -> F\n",
        "       F : b -> I\n",
        "''')"
      ],
      "execution_count": 2,
      "outputs": [
        {
          "output_type": "stream",
          "text": [
            "Generating LALR tables\n"
          ],
          "name": "stderr"
        }
      ]
    },
    {
      "cell_type": "code",
      "metadata": {
        "id": "8UbDrNhh1Faj",
        "outputId": "214abd3b-aab2-48ce-bff0-0aa5762e030f",
        "colab": {
          "base_uri": "https://localhost:8080/",
          "height": 134
        }
      },
      "source": [
        "dotObj_nfa(fa1)"
      ],
      "execution_count": 3,
      "outputs": [
        {
          "output_type": "execute_result",
          "data": {
            "text/plain": [
              "<graphviz.dot.Digraph at 0x7f3d088b6898>"
            ],
            "image/svg+xml": "<?xml version=\"1.0\" encoding=\"UTF-8\" standalone=\"no\"?>\n<!DOCTYPE svg PUBLIC \"-//W3C//DTD SVG 1.1//EN\"\n \"http://www.w3.org/Graphics/SVG/1.1/DTD/svg11.dtd\">\n<!-- Generated by graphviz version 2.40.1 (20161225.0304)\n -->\n<!-- Title: %3 Pages: 1 -->\n<svg width=\"227pt\" height=\"85pt\"\n viewBox=\"0.00 0.00 227.00 85.00\" xmlns=\"http://www.w3.org/2000/svg\" xmlns:xlink=\"http://www.w3.org/1999/xlink\">\n<g id=\"graph0\" class=\"graph\" transform=\"scale(1 1) rotate(0) translate(4 81)\">\n<title>%3</title>\n<polygon fill=\"#ffffff\" stroke=\"transparent\" points=\"-4,4 -4,-81 223,-81 223,4 -4,4\"/>\n<!-- EMPTY -->\n<g id=\"node1\" class=\"node\">\n<title>EMPTY</title>\n</g>\n<!-- I -->\n<g id=\"node2\" class=\"node\">\n<title>I</title>\n<ellipse fill=\"none\" stroke=\"#000000\" cx=\"109\" cy=\"-22\" rx=\"18\" ry=\"18\"/>\n<text text-anchor=\"middle\" x=\"109\" y=\"-18.3\" font-family=\"Times,serif\" font-size=\"14.00\" fill=\"#000000\">I</text>\n</g>\n<!-- EMPTY&#45;&gt;I -->\n<g id=\"edge1\" class=\"edge\">\n<title>EMPTY&#45;&gt;I</title>\n<path fill=\"none\" stroke=\"#000000\" d=\"M54.3048,-22C62.6909,-22 71.9407,-22 80.4103,-22\"/>\n<polygon fill=\"#000000\" stroke=\"#000000\" points=\"80.5976,-25.5001 90.5976,-22 80.5976,-18.5001 80.5976,-25.5001\"/>\n</g>\n<!-- I&#45;&gt;I -->\n<g id=\"edge2\" class=\"edge\">\n<title>I&#45;&gt;I</title>\n<path fill=\"none\" stroke=\"#000000\" d=\"M102.6208,-39.0373C101.3189,-48.8579 103.4453,-58 109,-58 112.4717,-58 114.6042,-54.4289 115.3975,-49.3529\"/>\n<polygon fill=\"#000000\" stroke=\"#000000\" points=\"118.8971,-49.031 115.3792,-39.0373 111.8971,-49.0435 118.8971,-49.031\"/>\n<text text-anchor=\"middle\" x=\"109\" y=\"-61.8\" font-family=\"Times,serif\" font-size=\"14.00\" fill=\"#000000\">a </text>\n</g>\n<!-- F -->\n<g id=\"node3\" class=\"node\">\n<title>F</title>\n<ellipse fill=\"none\" stroke=\"#000000\" cx=\"197\" cy=\"-22\" rx=\"18\" ry=\"18\"/>\n<ellipse fill=\"none\" stroke=\"#000000\" cx=\"197\" cy=\"-22\" rx=\"22\" ry=\"22\"/>\n<text text-anchor=\"middle\" x=\"197\" y=\"-18.3\" font-family=\"Times,serif\" font-size=\"14.00\" fill=\"#000000\">F</text>\n</g>\n<!-- I&#45;&gt;F -->\n<g id=\"edge3\" class=\"edge\">\n<title>I&#45;&gt;F</title>\n<path fill=\"none\" stroke=\"#000000\" d=\"M127.2337,-22C138.0103,-22 151.9708,-22 164.5692,-22\"/>\n<polygon fill=\"#000000\" stroke=\"#000000\" points=\"164.7317,-25.5001 174.7317,-22 164.7317,-18.5001 164.7317,-25.5001\"/>\n<text text-anchor=\"middle\" x=\"151\" y=\"-25.8\" font-family=\"Times,serif\" font-size=\"14.00\" fill=\"#000000\">b </text>\n</g>\n<!-- F&#45;&gt;I -->\n<g id=\"edge5\" class=\"edge\">\n<title>F&#45;&gt;I</title>\n<path fill=\"none\" stroke=\"#000000\" d=\"M178.5288,-9.5151C168.7254,-4.3636 156.3821,-.1807 145,-3 141.0235,-3.985 137.0019,-5.4981 133.1597,-7.2497\"/>\n<polygon fill=\"#000000\" stroke=\"#000000\" points=\"131.3818,-4.2287 124.1057,-11.93 134.5962,-10.447 131.3818,-4.2287\"/>\n<text text-anchor=\"middle\" x=\"151\" y=\"-6.8\" font-family=\"Times,serif\" font-size=\"14.00\" fill=\"#000000\">b </text>\n</g>\n<!-- F&#45;&gt;F -->\n<g id=\"edge4\" class=\"edge\">\n<title>F&#45;&gt;F</title>\n<path fill=\"none\" stroke=\"#000000\" d=\"M188.6298,-42.5808C187.4716,-52.8447 190.2617,-62 197,-62 201.3167,-62 204.0131,-58.2427 205.0891,-52.8436\"/>\n<polygon fill=\"#000000\" stroke=\"#000000\" points=\"208.595,-52.6729 205.3702,-42.5808 201.5976,-52.4812 208.595,-52.6729\"/>\n<text text-anchor=\"middle\" x=\"197\" y=\"-65.8\" font-family=\"Times,serif\" font-size=\"14.00\" fill=\"#000000\">a </text>\n</g>\n</g>\n</svg>\n"
          },
          "metadata": {
            "tags": []
          },
          "execution_count": 3
        }
      ]
    },
    {
      "cell_type": "markdown",
      "metadata": {
        "id": "lNvtz_C51Faj"
      },
      "source": [
        "After the conversion from an NFA to a GNFA has started by first adding a new start state and a new accept state, the CONVERT procedure can produce several solutions depending on the order the original states are deleted.\n",
        "\n",
        "For simplicity, just remove them in order (1, 2, 3, etc., where state I is relabeled '1', and state F is relabeled '2'):\n",
        "\n",
        "$0 \\rightarrow 1 (I) \\rightarrow 2 (F) \\rightarrow 3$\n",
        "\n",
        "If you call 0 the new start state and 3 the new accept state, then transitions from 0 to 1 and 2 to 3 are labeled with $\\epsilon$ (the empty string). Now if you squint your eyes and look at states 0, 1 and 2 as if they were states $S_i$, $S_{del}$ and $S_j$ respectively, as in the above figures, then step 3 of the CONVERT procedure goes like this:\n",
        "\n",
        "$$R_1 = \\epsilon, R_2 = a, R_3 = b, R_4 = \\emptyset.$$\n",
        "\n",
        "So with those substitutions, a new label from state 0 to state 2 is $a^{*}b$, which is just\n",
        "\n",
        "$$(R_1)(R_2)^{*}(R_3)\\ {\\cup}\\ (R_4).$$\n",
        "\n",
        "But wait --- we can't totally remove state 1 yet, as it still has transitions going to it!\n",
        "\n",
        "So if you repeat this procedure with state 2 being **both** state $S_i$ **and** state $S_j$, and state 1 being $S_{del}$, then you get $(ba^{*}b\\ {\\cup}\\ a)$ as the regular expression labeling the transition from state 2 to itself.\n",
        "\n",
        "(Here $R_1 = b, R_2 = a, R_3 = b, R_4 = a$.)\n",
        "\n",
        "Finally, using state 0 as $S_i$ and state 3 as $S_j$, and state 2 as $S_{del}$, then you get $a^{*}b(ba^{*}b\\ {\\cup}\\ a)^{*}$ as the single regular expression that results when the procedure ends.\n",
        "\n",
        "(Here $R_1 = a^{*}b, R_2 = ba^{*}b\\ {\\cup}\\ a, R_3 = \\epsilon, R_4 = \\emptyset$.)\n",
        "\n",
        "So, $a^{*}b(ba^{*}b\\ {\\cup}\\ a)^{*}$ is the answer."
      ]
    },
    {
      "cell_type": "markdown",
      "metadata": {
        "id": "Vq2iyqYQ0FWM"
      },
      "source": [
        "## A more \"systematized\" version\n",
        "First, show existing transitions as $xy = RE$ using juxtaposed digits $x$ and $y$ to represent the **from** state and the **to** state, and $RE$ the regular expression labeling the transition between them:\n",
        "\n",
        "|     |   |   |\n",
        "|-----|---|---|\n",
        "| 11  | = | a |\n",
        "| 12  | = | b |\n",
        "| 21  | = | b |\n",
        "| 22  | = | a |\n",
        "\n",
        "   Next, add initial state 0 and new final state 3:\n",
        "   \n",
        "\n",
        "|    |   |   |\n",
        "|----|---|---|\n",
        "| 01 | = | $\\epsilon$  |\n",
        "| 02 | = | $\\emptyset$ |\n",
        "| 03 | = | $\\emptyset$ |\n",
        "| 23 | = | $\\epsilon$  |\n"
      ]
    },
    {
      "cell_type": "markdown",
      "metadata": {
        "id": "8V2zF15P0FWM"
      },
      "source": [
        "Recall that $\\epsilon$, representing the empty string, is not the same as $\\emptyset$, the empty set. Note that $02$ and $03$ are **empty** (as in empty set, not empty string) transitions. Any transitions not listed (e.g., $13$) are assumed empty, and would be included and labeled as such if we were being meticulous!\n",
        "\n",
        "Next, remove state 1 and relabel transitions between all the remaining states (0, 2 and 3):\n",
        "\n",
        "|    |   |   |\n",
        "|----|---|---|\n",
        "| 02 | = | $(01)(11)^{*}(12) \\cup 02$ | = | $(\\epsilon)(a)*(b) \\cup \\emptyset$ | = | $a^{*}b$ |\n",
        "| 22 | = | $(21)(11)^{*}(12) \\cup 22$ | = | $ba^{*}b \\cup a$       |   |     |\n",
        "| 23 | = | $(21)(11)^{*}(13) \\cup 23$ | = | $ba^{*}\\emptyset \\cup \\epsilon$       | = | $\\epsilon$   |\n",
        "| 32 | = | $(31)(11)^{*}(12) \\cup 32$ | = | $\\emptyset a^{*}b \\cup \\emptyset$      | = | $\\emptyset$   |\n",
        "| 33 | = | $(31)(11)^{*}(13) \\cup 33$ | = | $\\emptyset a^{*}a \\cup \\emptyset$      | = | $\\emptyset$   |\n",
        "\n",
        "Finally, remove state 2 and relabel the transition between the remaining states (0 and 3):\n",
        "\n",
        "|    |   |   |\n",
        "|----|---|---|\n",
        "| 03 | = | $(02)(22)^{*}(23) \\cup 03$ | = | $a^{*}b(ba^{*}b \\cup a)^{*}\\epsilon \\cup \\emptyset$ | = | $a^{*}b(ba^{*}b \\cup a)^{*}$ |\n"
      ]
    },
    {
      "cell_type": "markdown",
      "metadata": {
        "id": "kQOZ6-BV0FWN"
      },
      "source": [
        "## You Do This Harder Example\n",
        "This one has one more state than the previous one:"
      ]
    },
    {
      "cell_type": "code",
      "metadata": {
        "id": "UyU5Od6U0FWN"
      },
      "source": [
        " dfa = '''\n",
        "    DFA\n",
        "    IF1 : a|b -> S2\n",
        "    S2  : a   -> S2\n",
        "    S2  : b   -> F3\n",
        "    F3  : a   -> IF1\n",
        "    F3  : b   -> S2\n",
        "  '''"
      ],
      "execution_count": 4,
      "outputs": []
    },
    {
      "cell_type": "code",
      "metadata": {
        "id": "bBzGuT7O0FWO",
        "outputId": "1527aff9-2dd5-4550-ad4c-43394dcc11df",
        "colab": {
          "base_uri": "https://localhost:8080/",
          "height": 168
        }
      },
      "source": [
        "dotObj_dfa(md2mc(dfa))"
      ],
      "execution_count": 5,
      "outputs": [
        {
          "output_type": "execute_result",
          "data": {
            "text/plain": [
              "<graphviz.dot.Digraph at 0x7f3d08505860>"
            ],
            "image/svg+xml": "<?xml version=\"1.0\" encoding=\"UTF-8\" standalone=\"no\"?>\n<!DOCTYPE svg PUBLIC \"-//W3C//DTD SVG 1.1//EN\"\n \"http://www.w3.org/Graphics/SVG/1.1/DTD/svg11.dtd\">\n<!-- Generated by graphviz version 2.40.1 (20161225.0304)\n -->\n<!-- Title: %3 Pages: 1 -->\n<svg width=\"342pt\" height=\"110pt\"\n viewBox=\"0.00 0.00 342.29 109.80\" xmlns=\"http://www.w3.org/2000/svg\" xmlns:xlink=\"http://www.w3.org/1999/xlink\">\n<g id=\"graph0\" class=\"graph\" transform=\"scale(1 1) rotate(0) translate(4 105.7982)\">\n<title>%3</title>\n<polygon fill=\"#ffffff\" stroke=\"transparent\" points=\"-4,4 -4,-105.7982 338.2884,-105.7982 338.2884,4 -4,4\"/>\n<!-- EMPTY -->\n<g id=\"node1\" class=\"node\">\n<title>EMPTY</title>\n</g>\n<!-- IF1 -->\n<g id=\"node4\" class=\"node\">\n<title>IF1</title>\n<ellipse fill=\"none\" stroke=\"#000000\" cx=\"119.0479\" cy=\"-58.7982\" rx=\"24.089\" ry=\"24.089\"/>\n<ellipse fill=\"none\" stroke=\"#000000\" cx=\"119.0479\" cy=\"-58.7982\" rx=\"28.0958\" ry=\"28.0958\"/>\n<text text-anchor=\"middle\" x=\"119.0479\" y=\"-55.0982\" font-family=\"Times,serif\" font-size=\"14.00\" fill=\"#000000\">IF1</text>\n</g>\n<!-- EMPTY&#45;&gt;IF1 -->\n<g id=\"edge1\" class=\"edge\">\n<title>EMPTY&#45;&gt;IF1</title>\n<path fill=\"none\" stroke=\"#000000\" d=\"M54.1195,-58.7982C62.4288,-58.7982 71.7332,-58.7982 80.6453,-58.7982\"/>\n<polygon fill=\"#000000\" stroke=\"#000000\" points=\"80.8442,-62.2983 90.8441,-58.7982 80.8441,-55.2983 80.8442,-62.2983\"/>\n</g>\n<!-- S2 -->\n<g id=\"node2\" class=\"node\">\n<title>S2</title>\n<ellipse fill=\"none\" stroke=\"#000000\" cx=\"215.8939\" cy=\"-20.7982\" rx=\"20.5982\" ry=\"20.5982\"/>\n<text text-anchor=\"middle\" x=\"215.8939\" y=\"-17.0982\" font-family=\"Times,serif\" font-size=\"14.00\" fill=\"#000000\">S2</text>\n</g>\n<!-- S2&#45;&gt;S2 -->\n<g id=\"edge4\" class=\"edge\">\n<title>S2&#45;&gt;S2</title>\n<path fill=\"none\" stroke=\"#000000\" d=\"M207.9339,-40.3618C206.7093,-50.4777 209.3626,-59.5963 215.8939,-59.5963 220.078,-59.5963 222.6705,-55.854 223.6716,-50.5047\"/>\n<polygon fill=\"#000000\" stroke=\"#000000\" points=\"227.1736,-50.4231 223.8538,-40.3618 220.1747,-50.2973 227.1736,-50.4231\"/>\n<text text-anchor=\"middle\" x=\"215.8939\" y=\"-63.3963\" font-family=\"Times,serif\" font-size=\"14.00\" fill=\"#000000\">a </text>\n</g>\n<!-- F3 -->\n<g id=\"node3\" class=\"node\">\n<title>F3</title>\n<ellipse fill=\"none\" stroke=\"#000000\" cx=\"309.4902\" cy=\"-58.7982\" rx=\"20.6302\" ry=\"20.6302\"/>\n<ellipse fill=\"none\" stroke=\"#000000\" cx=\"309.4902\" cy=\"-58.7982\" rx=\"24.5979\" ry=\"24.5979\"/>\n<text text-anchor=\"middle\" x=\"309.4902\" y=\"-55.0982\" font-family=\"Times,serif\" font-size=\"14.00\" fill=\"#000000\">F3</text>\n</g>\n<!-- S2&#45;&gt;F3 -->\n<g id=\"edge5\" class=\"edge\">\n<title>S2&#45;&gt;F3</title>\n<path fill=\"none\" stroke=\"#000000\" d=\"M235.2193,-28.8095C241.4321,-31.3738 248.3482,-34.2167 254.692,-36.7982 261.8078,-39.6937 269.4532,-42.7792 276.7083,-45.6953\"/>\n<polygon fill=\"#000000\" stroke=\"#000000\" points=\"275.6894,-49.0576 286.2736,-49.5331 278.296,-42.561 275.6894,-49.0576\"/>\n<text text-anchor=\"middle\" x=\"260.692\" y=\"-45.5982\" font-family=\"Times,serif\" font-size=\"14.00\" fill=\"#000000\">b </text>\n</g>\n<!-- F3&#45;&gt;S2 -->\n<g id=\"edge7\" class=\"edge\">\n<title>F3&#45;&gt;S2</title>\n<path fill=\"none\" stroke=\"#000000\" d=\"M294.2504,-38.552C286.9144,-30.4785 277.3858,-22.0938 266.692,-17.7982 260.4515,-15.2913 253.4305,-14.5406 246.6451,-14.7233\"/>\n<polygon fill=\"#000000\" stroke=\"#000000\" points=\"245.9648,-11.2706 236.3222,-15.6605 246.5977,-18.2419 245.9648,-11.2706\"/>\n<text text-anchor=\"middle\" x=\"260.692\" y=\"-21.5982\" font-family=\"Times,serif\" font-size=\"14.00\" fill=\"#000000\">b </text>\n</g>\n<!-- F3&#45;&gt;IF1 -->\n<g id=\"edge6\" class=\"edge\">\n<title>F3&#45;&gt;IF1</title>\n<path fill=\"none\" stroke=\"#000000\" d=\"M286.7207,-68.7973C272.6167,-74.4371 253.9588,-80.9159 236.692,-83.7982 218.4571,-86.842 213.3504,-86.7217 195.0957,-83.7982 181.6686,-81.6478 167.3963,-77.4892 154.8863,-73.1716\"/>\n<polygon fill=\"#000000\" stroke=\"#000000\" points=\"155.8755,-69.8078 145.2811,-69.7102 153.5023,-76.3932 155.8755,-69.8078\"/>\n<text text-anchor=\"middle\" x=\"215.8939\" y=\"-90.5982\" font-family=\"Times,serif\" font-size=\"14.00\" fill=\"#000000\">a </text>\n</g>\n<!-- IF1&#45;&gt;S2 -->\n<g id=\"edge2\" class=\"edge\">\n<title>IF1&#45;&gt;S2</title>\n<path fill=\"none\" stroke=\"#000000\" d=\"M145.4057,-48.9922C155.3606,-45.2405 166.7735,-40.8816 177.0957,-36.7982 180.3796,-35.4991 183.8107,-34.1184 187.2157,-32.7335\"/>\n<polygon fill=\"#000000\" stroke=\"#000000\" points=\"188.6753,-35.9179 196.5983,-28.8839 186.0182,-29.4417 188.6753,-35.9179\"/>\n<text text-anchor=\"middle\" x=\"171.0957\" y=\"-45.5982\" font-family=\"Times,serif\" font-size=\"14.00\" fill=\"#000000\">a </text>\n</g>\n<!-- IF1&#45;&gt;S2 -->\n<g id=\"edge3\" class=\"edge\">\n<title>IF1&#45;&gt;S2</title>\n<path fill=\"none\" stroke=\"#000000\" d=\"M137.0274,-37.2227C144.7744,-29.558 154.4917,-21.8348 165.0957,-17.7982 171.381,-15.4055 178.42,-14.7011 185.2088,-14.8925\"/>\n<polygon fill=\"#000000\" stroke=\"#000000\" points=\"185.2542,-18.4105 195.5266,-15.8167 185.8788,-11.4384 185.2542,-18.4105\"/>\n<text text-anchor=\"middle\" x=\"171.0957\" y=\"-21.5982\" font-family=\"Times,serif\" font-size=\"14.00\" fill=\"#000000\">b </text>\n</g>\n</g>\n</svg>\n"
          },
          "metadata": {
            "tags": []
          },
          "execution_count": 5
        }
      ]
    },
    {
      "cell_type": "markdown",
      "metadata": {
        "id": "V9nRzOHS1Fax"
      },
      "source": [
        "# END\n"
      ]
    },
    {
      "cell_type": "code",
      "metadata": {
        "id": "a53BZu_e17Cc",
        "outputId": "0620a2d4-d9d6-44c4-c33e-350065e0eee3",
        "colab": {
          "base_uri": "https://localhost:8080/",
          "height": 166
        }
      },
      "source": [
        "dotObj_dfa(min_dfa(nfa2dfa(re2nfa(\"((a+b)a*b(a+(b(a)*b)*)*)\"))))"
      ],
      "execution_count": 17,
      "outputs": [
        {
          "output_type": "stream",
          "text": [
            "Generating LALR tables\n"
          ],
          "name": "stderr"
        },
        {
          "output_type": "execute_result",
          "data": {
            "text/plain": [
              "<graphviz.dot.Digraph at 0x7f3d084fdf60>"
            ],
            "image/svg+xml": "<?xml version=\"1.0\" encoding=\"UTF-8\" standalone=\"no\"?>\n<!DOCTYPE svg PUBLIC \"-//W3C//DTD SVG 1.1//EN\"\n \"http://www.w3.org/Graphics/SVG/1.1/DTD/svg11.dtd\">\n<!-- Generated by graphviz version 2.40.1 (20161225.0304)\n -->\n<!-- Title: %3 Pages: 1 -->\n<svg width=\"343pt\" height=\"96pt\"\n viewBox=\"0.00 0.00 343.39 95.80\" xmlns=\"http://www.w3.org/2000/svg\" xmlns:xlink=\"http://www.w3.org/1999/xlink\">\n<g id=\"graph0\" class=\"graph\" transform=\"scale(1 1) rotate(0) translate(4 91.7958)\">\n<title>%3</title>\n<polygon fill=\"#ffffff\" stroke=\"transparent\" points=\"-4,4 -4,-91.7958 339.3875,-91.7958 339.3875,4 -4,4\"/>\n<!-- EMPTY -->\n<g id=\"node1\" class=\"node\">\n<title>EMPTY</title>\n</g>\n<!-- St0 -->\n<g id=\"node2\" class=\"node\">\n<title>St0</title>\n<ellipse fill=\"none\" stroke=\"#000000\" cx=\"114.3979\" cy=\"-27.3979\" rx=\"23.2963\" ry=\"23.2963\"/>\n<text text-anchor=\"middle\" x=\"114.3979\" y=\"-23.6979\" font-family=\"Times,serif\" font-size=\"14.00\" fill=\"#000000\">St0</text>\n</g>\n<!-- EMPTY&#45;&gt;St0 -->\n<g id=\"edge1\" class=\"edge\">\n<title>EMPTY&#45;&gt;St0</title>\n<path fill=\"none\" stroke=\"#000000\" d=\"M54.1742,-27.3979C62.5103,-27.3979 71.7873,-27.3979 80.5137,-27.3979\"/>\n<polygon fill=\"#000000\" stroke=\"#000000\" points=\"80.7846,-30.898 90.7846,-27.3979 80.7845,-23.898 80.7846,-30.898\"/>\n</g>\n<!-- St4 -->\n<g id=\"node3\" class=\"node\">\n<title>St4</title>\n<ellipse fill=\"none\" stroke=\"#000000\" cx=\"209.1938\" cy=\"-27.3979\" rx=\"23.2963\" ry=\"23.2963\"/>\n<text text-anchor=\"middle\" x=\"209.1938\" y=\"-23.6979\" font-family=\"Times,serif\" font-size=\"14.00\" fill=\"#000000\">St4</text>\n</g>\n<!-- St0&#45;&gt;St4 -->\n<g id=\"edge2\" class=\"edge\">\n<title>St0&#45;&gt;St4</title>\n<path fill=\"none\" stroke=\"#000000\" d=\"M137.8306,-27.3979C149.2245,-27.3979 163.1257,-27.3979 175.6218,-27.3979\"/>\n<polygon fill=\"#000000\" stroke=\"#000000\" points=\"175.7021,-30.898 185.7021,-27.3979 175.7021,-23.898 175.7021,-30.898\"/>\n<text text-anchor=\"middle\" x=\"161.7958\" y=\"-31.1979\" font-family=\"Times,serif\" font-size=\"14.00\" fill=\"#000000\">b </text>\n</g>\n<!-- St0&#45;&gt;St4 -->\n<g id=\"edge3\" class=\"edge\">\n<title>St0&#45;&gt;St4</title>\n<path fill=\"none\" stroke=\"#000000\" d=\"M134.8481,-15.908C141.3427,-12.8418 148.6882,-9.9511 155.7958,-8.3979 163.7716,-6.655 172.1864,-8.0376 179.9179,-10.7028\"/>\n<polygon fill=\"#000000\" stroke=\"#000000\" points=\"178.6859,-13.9815 189.2611,-14.626 181.396,-7.5274 178.6859,-13.9815\"/>\n<text text-anchor=\"middle\" x=\"161.7958\" y=\"-12.1979\" font-family=\"Times,serif\" font-size=\"14.00\" fill=\"#000000\">a </text>\n</g>\n<!-- St4&#45;&gt;St4 -->\n<g id=\"edge5\" class=\"edge\">\n<title>St4&#45;&gt;St4</title>\n<path fill=\"none\" stroke=\"#000000\" d=\"M200.7393,-49.5452C199.817,-59.8192 202.6352,-68.7958 209.1938,-68.7958 213.3954,-68.7958 216.0619,-65.1118 217.1933,-59.7628\"/>\n<polygon fill=\"#000000\" stroke=\"#000000\" points=\"220.6999,-59.691 217.6482,-49.5452 213.7068,-59.3796 220.6999,-59.691\"/>\n<text text-anchor=\"middle\" x=\"209.1938\" y=\"-72.5958\" font-family=\"Times,serif\" font-size=\"14.00\" fill=\"#000000\">a </text>\n</g>\n<!-- St1 -->\n<g id=\"node4\" class=\"node\">\n<title>St1</title>\n<ellipse fill=\"none\" stroke=\"#000000\" cx=\"307.9896\" cy=\"-27.3979\" rx=\"23.3111\" ry=\"23.3111\"/>\n<ellipse fill=\"none\" stroke=\"#000000\" cx=\"307.9896\" cy=\"-27.3979\" rx=\"27.2962\" ry=\"27.2962\"/>\n<text text-anchor=\"middle\" x=\"307.9896\" y=\"-23.6979\" font-family=\"Times,serif\" font-size=\"14.00\" fill=\"#000000\">St1</text>\n</g>\n<!-- St4&#45;&gt;St1 -->\n<g id=\"edge4\" class=\"edge\">\n<title>St4&#45;&gt;St1</title>\n<path fill=\"none\" stroke=\"#000000\" d=\"M232.607,-27.3979C243.8409,-27.3979 257.5813,-27.3979 270.2395,-27.3979\"/>\n<polygon fill=\"#000000\" stroke=\"#000000\" points=\"270.5392,-30.898 280.5392,-27.3979 270.5392,-23.898 270.5392,-30.898\"/>\n<text text-anchor=\"middle\" x=\"256.5917\" y=\"-31.1979\" font-family=\"Times,serif\" font-size=\"14.00\" fill=\"#000000\">b </text>\n</g>\n<!-- St1&#45;&gt;St4 -->\n<g id=\"edge6\" class=\"edge\">\n<title>St1&#45;&gt;St4</title>\n<path fill=\"none\" stroke=\"#000000\" d=\"M284.2837,-13.502C274.0556,-9.0943 261.8719,-5.933 250.5917,-8.3979 246.7047,-9.2473 242.7466,-10.4967 238.8954,-11.9561\"/>\n<polygon fill=\"#000000\" stroke=\"#000000\" points=\"237.4651,-8.761 229.644,-15.908 240.215,-15.1983 237.4651,-8.761\"/>\n<text text-anchor=\"middle\" x=\"256.5917\" y=\"-12.1979\" font-family=\"Times,serif\" font-size=\"14.00\" fill=\"#000000\">b </text>\n</g>\n<!-- St1&#45;&gt;St1 -->\n<g id=\"edge7\" class=\"edge\">\n<title>St1&#45;&gt;St1</title>\n<path fill=\"none\" stroke=\"#000000\" d=\"M298.6718,-53.523C298.1454,-64.0011 301.2513,-72.7958 307.9896,-72.7958 312.3063,-72.7958 315.1323,-69.1865 316.4676,-63.8374\"/>\n<polygon fill=\"#000000\" stroke=\"#000000\" points=\"319.9842,-63.7741 317.3074,-53.523 313.0073,-63.206 319.9842,-63.7741\"/>\n<text text-anchor=\"middle\" x=\"307.9896\" y=\"-76.5958\" font-family=\"Times,serif\" font-size=\"14.00\" fill=\"#000000\">a </text>\n</g>\n</g>\n</svg>\n"
          },
          "metadata": {
            "tags": []
          },
          "execution_count": 17
        }
      ]
    },
    {
      "cell_type": "code",
      "metadata": {
        "id": "QcJHgQsR6FSG",
        "outputId": "af4fc939-3f06-475c-d077-a5323b23efaf",
        "colab": {
          "base_uri": "https://localhost:8080/",
          "height": 189
        }
      },
      "source": [
        "dotObj_dfa(min_dfa(nfa2dfa(re2nfa(\"'' + ((a + b)a*b((b + a(a + b))a*b)*('' + a))\"))))"
      ],
      "execution_count": 21,
      "outputs": [
        {
          "output_type": "stream",
          "text": [
            "Generating LALR tables\n"
          ],
          "name": "stderr"
        },
        {
          "output_type": "execute_result",
          "data": {
            "text/plain": [
              "<graphviz.dot.Digraph at 0x7f3d08fc8ef0>"
            ],
            "image/svg+xml": "<?xml version=\"1.0\" encoding=\"UTF-8\" standalone=\"no\"?>\n<!DOCTYPE svg PUBLIC \"-//W3C//DTD SVG 1.1//EN\"\n \"http://www.w3.org/Graphics/SVG/1.1/DTD/svg11.dtd\">\n<!-- Generated by graphviz version 2.40.1 (20161225.0304)\n -->\n<!-- Title: %3 Pages: 1 -->\n<svg width=\"351pt\" height=\"113pt\"\n viewBox=\"0.00 0.00 351.39 113.40\" xmlns=\"http://www.w3.org/2000/svg\" xmlns:xlink=\"http://www.w3.org/1999/xlink\">\n<g id=\"graph0\" class=\"graph\" transform=\"scale(1 1) rotate(0) translate(4 109.3979)\">\n<title>%3</title>\n<polygon fill=\"#ffffff\" stroke=\"transparent\" points=\"-4,4 -4,-109.3979 347.3875,-109.3979 347.3875,4 -4,4\"/>\n<!-- EMPTY -->\n<g id=\"node1\" class=\"node\">\n<title>EMPTY</title>\n</g>\n<!-- St0 -->\n<g id=\"node4\" class=\"node\">\n<title>St0</title>\n<ellipse fill=\"none\" stroke=\"#000000\" cx=\"118.3979\" cy=\"-61.3979\" rx=\"23.3111\" ry=\"23.3111\"/>\n<ellipse fill=\"none\" stroke=\"#000000\" cx=\"118.3979\" cy=\"-61.3979\" rx=\"27.2962\" ry=\"27.2962\"/>\n<text text-anchor=\"middle\" x=\"118.3979\" y=\"-57.6979\" font-family=\"Times,serif\" font-size=\"14.00\" fill=\"#000000\">St0</text>\n</g>\n<!-- EMPTY&#45;&gt;St0 -->\n<g id=\"edge1\" class=\"edge\">\n<title>EMPTY&#45;&gt;St0</title>\n<path fill=\"none\" stroke=\"#000000\" d=\"M54.4224,-61.3979C62.7369,-61.3979 72.0177,-61.3979 80.875,-61.3979\"/>\n<polygon fill=\"#000000\" stroke=\"#000000\" points=\"80.9949,-64.898 90.9949,-61.3979 80.9949,-57.898 80.9949,-64.898\"/>\n</g>\n<!-- St9 -->\n<g id=\"node2\" class=\"node\">\n<title>St9</title>\n<ellipse fill=\"none\" stroke=\"#000000\" cx=\"217.1938\" cy=\"-23.3979\" rx=\"23.2963\" ry=\"23.2963\"/>\n<text text-anchor=\"middle\" x=\"217.1938\" y=\"-19.6979\" font-family=\"Times,serif\" font-size=\"14.00\" fill=\"#000000\">St9</text>\n</g>\n<!-- St9&#45;&gt;St9 -->\n<g id=\"edge5\" class=\"edge\">\n<title>St9&#45;&gt;St9</title>\n<path fill=\"none\" stroke=\"#000000\" d=\"M208.7393,-45.5452C207.817,-55.8192 210.6352,-64.7958 217.1938,-64.7958 221.3954,-64.7958 224.0619,-61.1118 225.1933,-55.7628\"/>\n<polygon fill=\"#000000\" stroke=\"#000000\" points=\"228.6999,-55.691 225.6482,-45.5452 221.7068,-55.3796 228.6999,-55.691\"/>\n<text text-anchor=\"middle\" x=\"217.1938\" y=\"-68.5958\" font-family=\"Times,serif\" font-size=\"14.00\" fill=\"#000000\">a </text>\n</g>\n<!-- St1 -->\n<g id=\"node3\" class=\"node\">\n<title>St1</title>\n<ellipse fill=\"none\" stroke=\"#000000\" cx=\"315.9896\" cy=\"-61.3979\" rx=\"23.3111\" ry=\"23.3111\"/>\n<ellipse fill=\"none\" stroke=\"#000000\" cx=\"315.9896\" cy=\"-61.3979\" rx=\"27.2962\" ry=\"27.2962\"/>\n<text text-anchor=\"middle\" x=\"315.9896\" y=\"-57.6979\" font-family=\"Times,serif\" font-size=\"14.00\" fill=\"#000000\">St1</text>\n</g>\n<!-- St9&#45;&gt;St1 -->\n<g id=\"edge4\" class=\"edge\">\n<title>St9&#45;&gt;St1</title>\n<path fill=\"none\" stroke=\"#000000\" d=\"M239.1037,-31.8791C245.3943,-34.3106 252.2636,-36.9623 258.5917,-39.3979 265.7128,-42.1388 273.3335,-45.0647 280.6193,-47.8586\"/>\n<polygon fill=\"#000000\" stroke=\"#000000\" points=\"279.6781,-51.2461 290.2684,-51.5568 282.1833,-44.7097 279.6781,-51.2461\"/>\n<text text-anchor=\"middle\" x=\"264.5917\" y=\"-47.1979\" font-family=\"Times,serif\" font-size=\"14.00\" fill=\"#000000\">b </text>\n</g>\n<!-- St1&#45;&gt;St9 -->\n<g id=\"edge6\" class=\"edge\">\n<title>St1&#45;&gt;St9</title>\n<path fill=\"none\" stroke=\"#000000\" d=\"M298.3176,-39.8281C290.6874,-32.1642 281.0982,-24.4401 270.5917,-20.3979 264.336,-17.9912 257.3624,-17.1803 250.5732,-17.2567\"/>\n<polygon fill=\"#000000\" stroke=\"#000000\" points=\"249.9085,-13.7954 240.1859,-18.0051 250.4116,-20.7773 249.9085,-13.7954\"/>\n<text text-anchor=\"middle\" x=\"264.5917\" y=\"-24.1979\" font-family=\"Times,serif\" font-size=\"14.00\" fill=\"#000000\">b </text>\n</g>\n<!-- St1&#45;&gt;St0 -->\n<g id=\"edge7\" class=\"edge\">\n<title>St1&#45;&gt;St0</title>\n<path fill=\"none\" stroke=\"#000000\" d=\"M290.7603,-72.8955C276.387,-78.8131 257.8523,-85.4006 240.5917,-88.3979 220.1002,-91.9563 214.2873,-91.9563 193.7958,-88.3979 180.1761,-86.0329 165.7632,-81.4324 153.2273,-76.6897\"/>\n<polygon fill=\"#000000\" stroke=\"#000000\" points=\"154.2137,-73.3161 143.6272,-72.8955 151.6408,-79.8261 154.2137,-73.3161\"/>\n<text text-anchor=\"middle\" x=\"217.1938\" y=\"-94.1979\" font-family=\"Times,serif\" font-size=\"14.00\" fill=\"#000000\">a </text>\n</g>\n<!-- St0&#45;&gt;St9 -->\n<g id=\"edge2\" class=\"edge\">\n<title>St0&#45;&gt;St9</title>\n<path fill=\"none\" stroke=\"#000000\" d=\"M144.1191,-51.5568C154.0229,-47.763 165.4379,-43.3846 175.7958,-39.3979 179.0588,-38.1421 182.4656,-36.8287 185.8627,-35.5178\"/>\n<polygon fill=\"#000000\" stroke=\"#000000\" points=\"187.2165,-38.747 195.2839,-31.8791 184.6944,-32.2171 187.2165,-38.747\"/>\n<text text-anchor=\"middle\" x=\"169.7958\" y=\"-47.1979\" font-family=\"Times,serif\" font-size=\"14.00\" fill=\"#000000\">b </text>\n</g>\n<!-- St0&#45;&gt;St9 -->\n<g id=\"edge3\" class=\"edge\">\n<title>St0&#45;&gt;St9</title>\n<path fill=\"none\" stroke=\"#000000\" d=\"M136.0699,-39.8281C143.7001,-32.1642 153.2893,-24.4401 163.7958,-20.3979 170.0515,-17.9912 177.0251,-17.1803 183.8143,-17.2567\"/>\n<polygon fill=\"#000000\" stroke=\"#000000\" points=\"183.9759,-20.7773 194.2016,-18.0051 184.479,-13.7954 183.9759,-20.7773\"/>\n<text text-anchor=\"middle\" x=\"169.7958\" y=\"-24.1979\" font-family=\"Times,serif\" font-size=\"14.00\" fill=\"#000000\">a </text>\n</g>\n</g>\n</svg>\n"
          },
          "metadata": {
            "tags": []
          },
          "execution_count": 21
        }
      ]
    }
  ]
}