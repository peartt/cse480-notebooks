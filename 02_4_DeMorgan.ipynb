{
  "nbformat": 4,
  "nbformat_minor": 0,
  "metadata": {
    "kernelspec": {
      "display_name": "Python 3",
      "language": "python",
      "name": "python3"
    },
    "language_info": {
      "codemirror_mode": {
        "name": "ipython",
        "version": 3
      },
      "file_extension": ".py",
      "mimetype": "text/x-python",
      "name": "python",
      "nbconvert_exporter": "python",
      "pygments_lexer": "ipython3",
      "version": "3.9.0"
    },
    "colab": {
      "name": "02_4_DeMorgan.ipynb",
      "provenance": []
    }
  },
  "cells": [
    {
      "cell_type": "markdown",
      "metadata": {
        "id": "VsHoXCAmcfIE"
      },
      "source": [
        "# First let's import, then look for the assignment below"
      ]
    },
    {
      "cell_type": "code",
      "metadata": {
        "id": "6cmyn1cQcfIJ",
        "outputId": "914eba48-4c77-4524-8cbb-c715d53e31a4",
        "colab": {
          "base_uri": "https://localhost:8080/"
        }
      },
      "source": [
        "#~~~~~~~~~~~~~~~~~~~~~~~~~~~~~~~~~~~~~~~~~~~~~~~~~~~~~~~\n",
        "import sys\n",
        "\n",
        "# -- Detect if in Own Install or in Colab\n",
        "try:\n",
        "    import google.colab\n",
        "    OWN_INSTALL = False\n",
        "except:\n",
        "    OWN_INSTALL = True\n",
        "    \n",
        "if OWN_INSTALL:\n",
        "\n",
        "  sys.path[0:0] = ['../../../../..',  '../../../../../3rdparty',  \n",
        "                   '../../../..',  '../../../../3rdparty',  \n",
        "                   '../../..',     '../../../3rdparty', \n",
        "                   '../..',        '../../3rdparty',\n",
        "                   '..',           '../3rdparty' ]\n",
        "\n",
        "else: # In colab\n",
        "  ! if [ ! -d Jove ]; then git clone https://github.com/ganeshutah/Jove Jove; fi\n",
        "  sys.path.append('./Jove')\n",
        "  sys.path.append('./Jove/jove')\n",
        "\n",
        "# -- common imports --\n",
        "from jove.LangDef   import *\n",
        "#~~~~~~~~~~~~~~~~~~~~~~~~~~~~~~~~~~~~~~~~~~~~~~~~~~~~~~~"
      ],
      "execution_count": 1,
      "outputs": [
        {
          "output_type": "stream",
          "text": [
            "You may use any of these help commands:\n",
            "help(lphi)\n",
            "help(lunit)\n",
            "help(lcat)\n",
            "help(lexp)\n",
            "help(lunion)\n",
            "help(lstar)\n",
            "help(srev)\n",
            "help(lrev)\n",
            "help(shomo)\n",
            "help(lhomo)\n",
            "help(powset)\n",
            "help(lint)\n",
            "help(lsymdiff)\n",
            "help(lminus)\n",
            "help(lissubset)\n",
            "help(lissuperset)\n",
            "help(lcomplem)\n",
            "help(product)\n",
            "help(nthnumeric)\n",
            "\n"
          ],
          "name": "stdout"
        }
      ]
    },
    {
      "cell_type": "markdown",
      "metadata": {
        "id": "_BEY3nMgcfIL"
      },
      "source": [
        "# Week 02 Notebook 4 on DeMorgan's Law\n",
        "\n",
        "<font size=\"4\"> \n",
        "\n",
        "Let's illustrate DeMorgan's Law using Jove.  \n",
        "    \n",
        "</font>"
      ]
    },
    {
      "cell_type": "markdown",
      "metadata": {
        "id": "pcsOmrfmcfIL"
      },
      "source": [
        "# Define the universe $\\Sigma_4^*$ for the $\\Sigma$ given below, consulting Pages 28-29 of our book"
      ]
    },
    {
      "cell_type": "code",
      "metadata": {
        "id": "wt3iOD23cfIM",
        "outputId": "63b961c9-c456-434c-e502-bc6bad89c1a0",
        "colab": {
          "base_uri": "https://localhost:8080/"
        }
      },
      "source": [
        "Sigma = {'a', 'b', 'c'}\n",
        "\n",
        "Sigma_4_Star = lstar(Sigma,4)\n",
        "\n",
        "Sigma_4_Star\n"
      ],
      "execution_count": 2,
      "outputs": [
        {
          "output_type": "execute_result",
          "data": {
            "text/plain": [
              "{'',\n",
              " 'a',\n",
              " 'aa',\n",
              " 'aaa',\n",
              " 'aaaa',\n",
              " 'aaab',\n",
              " 'aaac',\n",
              " 'aab',\n",
              " 'aaba',\n",
              " 'aabb',\n",
              " 'aabc',\n",
              " 'aac',\n",
              " 'aaca',\n",
              " 'aacb',\n",
              " 'aacc',\n",
              " 'ab',\n",
              " 'aba',\n",
              " 'abaa',\n",
              " 'abab',\n",
              " 'abac',\n",
              " 'abb',\n",
              " 'abba',\n",
              " 'abbb',\n",
              " 'abbc',\n",
              " 'abc',\n",
              " 'abca',\n",
              " 'abcb',\n",
              " 'abcc',\n",
              " 'ac',\n",
              " 'aca',\n",
              " 'acaa',\n",
              " 'acab',\n",
              " 'acac',\n",
              " 'acb',\n",
              " 'acba',\n",
              " 'acbb',\n",
              " 'acbc',\n",
              " 'acc',\n",
              " 'acca',\n",
              " 'accb',\n",
              " 'accc',\n",
              " 'b',\n",
              " 'ba',\n",
              " 'baa',\n",
              " 'baaa',\n",
              " 'baab',\n",
              " 'baac',\n",
              " 'bab',\n",
              " 'baba',\n",
              " 'babb',\n",
              " 'babc',\n",
              " 'bac',\n",
              " 'baca',\n",
              " 'bacb',\n",
              " 'bacc',\n",
              " 'bb',\n",
              " 'bba',\n",
              " 'bbaa',\n",
              " 'bbab',\n",
              " 'bbac',\n",
              " 'bbb',\n",
              " 'bbba',\n",
              " 'bbbb',\n",
              " 'bbbc',\n",
              " 'bbc',\n",
              " 'bbca',\n",
              " 'bbcb',\n",
              " 'bbcc',\n",
              " 'bc',\n",
              " 'bca',\n",
              " 'bcaa',\n",
              " 'bcab',\n",
              " 'bcac',\n",
              " 'bcb',\n",
              " 'bcba',\n",
              " 'bcbb',\n",
              " 'bcbc',\n",
              " 'bcc',\n",
              " 'bcca',\n",
              " 'bccb',\n",
              " 'bccc',\n",
              " 'c',\n",
              " 'ca',\n",
              " 'caa',\n",
              " 'caaa',\n",
              " 'caab',\n",
              " 'caac',\n",
              " 'cab',\n",
              " 'caba',\n",
              " 'cabb',\n",
              " 'cabc',\n",
              " 'cac',\n",
              " 'caca',\n",
              " 'cacb',\n",
              " 'cacc',\n",
              " 'cb',\n",
              " 'cba',\n",
              " 'cbaa',\n",
              " 'cbab',\n",
              " 'cbac',\n",
              " 'cbb',\n",
              " 'cbba',\n",
              " 'cbbb',\n",
              " 'cbbc',\n",
              " 'cbc',\n",
              " 'cbca',\n",
              " 'cbcb',\n",
              " 'cbcc',\n",
              " 'cc',\n",
              " 'cca',\n",
              " 'ccaa',\n",
              " 'ccab',\n",
              " 'ccac',\n",
              " 'ccb',\n",
              " 'ccba',\n",
              " 'ccbb',\n",
              " 'ccbc',\n",
              " 'ccc',\n",
              " 'ccca',\n",
              " 'cccb',\n",
              " 'cccc'}"
            ]
          },
          "metadata": {
            "tags": []
          },
          "execution_count": 2
        }
      ]
    },
    {
      "cell_type": "markdown",
      "metadata": {
        "id": "lolVdoIgcfIM"
      },
      "source": [
        "# Illustrate DeMorgan's law with respect to these two sets:\n",
        "\n",
        "* $A = \\{a, \\varepsilon , bc\\}$\n",
        "\n",
        "* $B = \\{a, \\varepsilon, bba, ca\\}$\n",
        "\n",
        "## Specific instructions\n",
        "\n",
        "* Show, using Jove, that $\\overline{(A\\cup B)} = \\overline{A} \\cap \\overline{B}$. \n",
        "\n",
        "* Here, LHS = $\\overline{(A\\cup B)}$\n",
        "\n",
        "* And RHS = $\\overline{A} \\cap \\overline{B}$\n"
      ]
    },
    {
      "cell_type": "code",
      "metadata": {
        "id": "EIOKjsQFcfIM",
        "outputId": "05ddf103-8db8-41f7-ebdc-f7c04a0f18cf",
        "colab": {
          "base_uri": "https://localhost:8080/"
        }
      },
      "source": [
        "help(lcomplem) # read and follow"
      ],
      "execution_count": 3,
      "outputs": [
        {
          "output_type": "stream",
          "text": [
            "Help on function lcomplem in module jove.LangDef:\n",
            "\n",
            "lcomplem(L, sigma, n)\n",
            "    In : L (language : set of strings)\n",
            "         sigma (alphabet : set of strings)\n",
            "         n (finite limit for lstar : int)\n",
            "    Out : sigma*_n - L (language : set of strings)\n",
            "    Example:\n",
            "    L = {'0', '10', '010'}\n",
            "    sigma = {'0', '1'}\n",
            "    n = 3\n",
            "    lcomplem(L4,{'0','1'}, 3) -> \n",
            "    {'', '000', '101', '011', '00', '1', \n",
            "     '001', '110', '111', '100', '01', '11'}\n",
            "\n"
          ],
          "name": "stdout"
        }
      ]
    },
    {
      "cell_type": "code",
      "metadata": {
        "id": "ZlKpxzpmcfIM",
        "outputId": "2dbd9bbc-f5e9-4df8-9b44-0a2ebdd6fe39",
        "colab": {
          "base_uri": "https://localhost:8080/"
        }
      },
      "source": [
        "help(lunion) # read and follow"
      ],
      "execution_count": 4,
      "outputs": [
        {
          "output_type": "stream",
          "text": [
            "Help on function lunion in module jove.LangDef:\n",
            "\n",
            "lunion(L1, L2)\n",
            "    In : L1 (language : a set),\n",
            "         L2 (language : a set).\n",
            "    Out: L1 union L2 (language : a set).\n",
            "\n"
          ],
          "name": "stdout"
        }
      ]
    },
    {
      "cell_type": "code",
      "metadata": {
        "id": "8NTVbxeEcfIN",
        "outputId": "9fe08ecf-349e-4c61-eee9-e1ff707c28dd",
        "colab": {
          "base_uri": "https://localhost:8080/"
        }
      },
      "source": [
        "help(lint) # read and follow"
      ],
      "execution_count": 5,
      "outputs": [
        {
          "output_type": "stream",
          "text": [
            "Help on function lint in module jove.LangDef:\n",
            "\n",
            "lint(L1, L2)\n",
            "    In : L1 (language : set of strings)\n",
            "         L2 (language : set of strings)\n",
            "    Out: L1 intersection L2 (sets of strings)\n",
            "\n"
          ],
          "name": "stdout"
        }
      ]
    },
    {
      "cell_type": "markdown",
      "metadata": {
        "id": "gajfOt0lcfIN"
      },
      "source": [
        "# OK, we are all set!"
      ]
    },
    {
      "cell_type": "code",
      "metadata": {
        "id": "p4MMqnnGcfIN"
      },
      "source": [
        "A = {'a', '' , 'bc'}\n",
        "\n",
        "B = {'a', '', 'bba', 'c'}"
      ],
      "execution_count": 6,
      "outputs": []
    },
    {
      "cell_type": "code",
      "metadata": {
        "id": "YKOQq3VxcfIN"
      },
      "source": [
        "\n",
        "LHS = lcomplem(lunion(A,B),{'a','b','c'},3)\n",
        "\n",
        "RHS = lint(lcomplem(A,{'a','b', 'c'},3),lcomplem(B,{'a','b','c'},3))"
      ],
      "execution_count": 7,
      "outputs": []
    },
    {
      "cell_type": "markdown",
      "metadata": {
        "id": "EF2zts-DcfIO"
      },
      "source": [
        "# Check DeMorgan's Law"
      ]
    },
    {
      "cell_type": "code",
      "metadata": {
        "id": "wmMcDHRwcfIO",
        "outputId": "dce338d4-061c-490a-ffdb-7ee46dada498",
        "colab": {
          "base_uri": "https://localhost:8080/"
        }
      },
      "source": [
        "# Now, perform LHS == RHS in Python and check if it is true\n",
        "\n",
        "LHS == RHS\n",
        "\n",
        "# Must print True"
      ],
      "execution_count": 8,
      "outputs": [
        {
          "output_type": "execute_result",
          "data": {
            "text/plain": [
              "True"
            ]
          },
          "metadata": {
            "tags": []
          },
          "execution_count": 8
        }
      ]
    },
    {
      "cell_type": "markdown",
      "metadata": {
        "id": "fylZZ4zscfIO"
      },
      "source": [
        "# END "
      ]
    }
  ]
}