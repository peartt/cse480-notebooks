{
  "nbformat": 4,
  "nbformat_minor": 0,
  "metadata": {
    "colab": {
      "name": "Copy of 05_1_NFA_and_RE_Problems.ipynb",
      "provenance": [],
      "include_colab_link": true
    },
    "kernelspec": {
      "display_name": "Python 3",
      "language": "python",
      "name": "python3"
    },
    "language_info": {
      "codemirror_mode": {
        "name": "ipython",
        "version": 3
      },
      "file_extension": ".py",
      "mimetype": "text/x-python",
      "name": "python",
      "nbconvert_exporter": "python",
      "pygments_lexer": "ipython3",
      "version": "3.9.0"
    },
    "toc": {
      "colors": {
        "hover_highlight": "#DAA520",
        "running_highlight": "#FF0000",
        "selected_highlight": "#FFD700"
      },
      "moveMenuLeft": true,
      "nav_menu": {
        "height": "121px",
        "width": "252px"
      },
      "navigate_menu": true,
      "number_sections": true,
      "sideBar": true,
      "threshold": 4,
      "toc_cell": false,
      "toc_section_display": "block",
      "toc_window_display": false,
      "widenNotebook": false
    }
  },
  "cells": [
    {
      "cell_type": "markdown",
      "metadata": {
        "id": "view-in-github",
        "colab_type": "text"
      },
      "source": [
        "<a href=\"https://colab.research.google.com/github/peartt/cse480-notebooks/blob/master/05_1_NFA_and_RE_Problems.ipynb\" target=\"_parent\"><img src=\"https://colab.research.google.com/assets/colab-badge.svg\" alt=\"Open In Colab\"/></a>"
      ]
    },
    {
      "cell_type": "markdown",
      "metadata": {
        "id": "F6evhB5n1FaV"
      },
      "source": [
        "# Four Problems for Week 05's Assignment \n",
        "\n",
        "Problem 1:\n",
        "\n",
        "    a. take a given nfa called nfa1\n",
        "    \n",
        "    b. convert it to dfa1 \n",
        "    \n",
        "    c. reverse nfa1 by hand obtaining rnfa1\n",
        "    \n",
        "    d. inspect and conclude (listing six paths) that rnfa1 is indeed a reverse of nfa1\n",
        "\n",
        "Problem 2:\n",
        "\n",
        "    a. learn about a few DFA utilities such as totalize_dfa and dotObj_dfa_w_bh\n",
        "    \n",
        "    b. extract an RE by inspecting nfa1 and write it down as RE1_hand\n",
        "    \n",
        "    c. reverse RE1_hand by inspection, writing the result down as Rev_RE1_hand\n",
        "    \n",
        "    d. Understand the function del_gnfa_states via its help command\n",
        "    \n",
        "\n",
        "Problem 3:\n",
        "\n",
        "    a. obtain a GNFA for rnfa1, calling it grnfa1\n",
        "    \n",
        "    b. apply two elimination orders for states on grnfa1\n",
        "    \n",
        "    c. obtain Rev_RE1 and Rev_RE2\n",
        "    \n",
        "    d. check that Rev_RE1 and Rev_RE2 and Rev_RE1_hand are all isomorphic\n",
        "    \n",
        "\n",
        "Problem 4:\n",
        "\n",
        "    a. print the NFA for Rev_RE2 and answer the stated questions.\n",
        "    \n",
        "    b. print the NFA for Rev_RE1_hand and answer the stated questions. "
      ]
    },
    {
      "cell_type": "markdown",
      "metadata": {
        "id": "1an9nmMw1Fac",
        "run_control": {
          "frozen": false,
          "read_only": false
        }
      },
      "source": [
        "# Imports \n"
      ]
    },
    {
      "cell_type": "code",
      "metadata": {
        "id": "y863_jSu1Fad",
        "run_control": {
          "frozen": false,
          "read_only": false
        },
        "scrolled": true
      },
      "source": [
        "#~~~~~~~~~~~~~~~~~~~~~~~~~~~~~~~~~~~~~~~~~~~~~~~~~~~~~~~\n",
        "import sys\n",
        "\n",
        "# -- Detect if in Own Install or in Colab\n",
        "try:\n",
        "    import google.colab\n",
        "    OWN_INSTALL = False\n",
        "except:\n",
        "    OWN_INSTALL = True\n",
        "    \n",
        "if OWN_INSTALL:\n",
        "  \n",
        "  sys.path[0:0] = ['../../../../..',  '../../../../../3rdparty',  \n",
        "                   '../../../..',  '../../../../3rdparty',  \n",
        "                   '../../..',     '../../../3rdparty', \n",
        "                   '../..',        '../../3rdparty',\n",
        "                   '..',           '../3rdparty',\n",
        "                   '../Jove',      '../Jove/jove']\n",
        "\n",
        "else: # In colab\n",
        "  ! if [ ! -d Jove ]; then git clone https://github.com/ganeshutah/Jove Jove; fi\n",
        "  sys.path.append('./Jove')\n",
        "  sys.path.append('./Jove/jove')\n",
        "\n",
        "# -- common imports --\n",
        "from jove.DotBashers import *\n",
        "from jove.Def_md2mc  import *\n",
        "from jove.Def_NFA    import *\n",
        "from jove.Def_DFA    import *\n",
        "from jove.Def_NFA2RE import *\n",
        "from jove.Def_RE2NFA import *\n",
        "from jove.AnimateNFA import *\n",
        "#~~~~~~~~~~~~~~~~~~~~~~~~~~~~~~~~~~~~~~~~~~~~~~~~~~~~~~~"
      ],
      "execution_count": null,
      "outputs": []
    },
    {
      "cell_type": "markdown",
      "metadata": {
        "id": "BzOCjuwm1Fae"
      },
      "source": [
        "## Problem 1: "
      ]
    },
    {
      "cell_type": "code",
      "metadata": {
        "id": "tnc6tDJT1Faf"
      },
      "source": [
        "# Given NFA\n",
        "\n",
        "nfa1 = md2mc('''NFA\n",
        "I1 : '' -> B\n",
        "I1 : a  -> I2\n",
        "\n",
        "I2 : c  -> F3\n",
        "I2 : b  -> B\n",
        "\n",
        "B : s  -> B\n",
        "B : d  -> F4\n",
        "B : f  -> F3\n",
        "\n",
        "\n",
        "''')\n"
      ],
      "execution_count": null,
      "outputs": []
    },
    {
      "cell_type": "code",
      "metadata": {
        "id": "kV7jblE21Fag",
        "colab": {
          "base_uri": "https://localhost:8080/",
          "height": 202
        },
        "outputId": "947299aa-b7ba-47a6-a786-585bacafc10a"
      },
      "source": [
        "dotObj_nfa(nfa1)"
      ],
      "execution_count": null,
      "outputs": [
        {
          "output_type": "execute_result",
          "data": {
            "text/plain": [
              "<graphviz.dot.Digraph at 0x7f1d745ab6a0>"
            ],
            "image/svg+xml": "<?xml version=\"1.0\" encoding=\"UTF-8\" standalone=\"no\"?>\n<!DOCTYPE svg PUBLIC \"-//W3C//DTD SVG 1.1//EN\"\n \"http://www.w3.org/Graphics/SVG/1.1/DTD/svg11.dtd\">\n<!-- Generated by graphviz version 2.40.1 (20161225.0304)\n -->\n<!-- Title: %3 Pages: 1 -->\n<svg width=\"402pt\" height=\"136pt\"\n viewBox=\"0.00 0.00 401.99 135.60\" xmlns=\"http://www.w3.org/2000/svg\" xmlns:xlink=\"http://www.w3.org/1999/xlink\">\n<g id=\"graph0\" class=\"graph\" transform=\"scale(1 1) rotate(0) translate(4 131.5963)\">\n<title>%3</title>\n<polygon fill=\"#ffffff\" stroke=\"transparent\" points=\"-4,4 -4,-131.5963 397.9896,-131.5963 397.9896,4 -4,4\"/>\n<!-- EMPTY -->\n<g id=\"node1\" class=\"node\">\n<title>EMPTY</title>\n</g>\n<!-- I2 -->\n<g id=\"node2\" class=\"node\">\n<title>I2</title>\n<ellipse fill=\"none\" stroke=\"#000000\" cx=\"193.545\" cy=\"-81.7982\" rx=\"18.6979\" ry=\"18.6979\"/>\n<text text-anchor=\"middle\" x=\"193.545\" y=\"-78.0982\" font-family=\"Times,serif\" font-size=\"14.00\" fill=\"#000000\">I2</text>\n</g>\n<!-- EMPTY&#45;&gt;I2 -->\n<g id=\"edge1\" class=\"edge\">\n<title>EMPTY&#45;&gt;I2</title>\n<path fill=\"none\" stroke=\"#000000\" d=\"M54.129,-66.7302C84.4711,-70.0096 133.4281,-75.3008 164.5205,-78.6612\"/>\n<polygon fill=\"#000000\" stroke=\"#000000\" points=\"164.3952,-82.168 174.7135,-79.7629 165.1475,-75.2085 164.3952,-82.168\"/>\n</g>\n<!-- I1 -->\n<g id=\"node3\" class=\"node\">\n<title>I1</title>\n<ellipse fill=\"none\" stroke=\"#000000\" cx=\"109.8483\" cy=\"-40.7982\" rx=\"18.6979\" ry=\"18.6979\"/>\n<text text-anchor=\"middle\" x=\"109.8483\" y=\"-37.0982\" font-family=\"Times,serif\" font-size=\"14.00\" fill=\"#000000\">I1</text>\n</g>\n<!-- EMPTY&#45;&gt;I1 -->\n<g id=\"edge2\" class=\"edge\">\n<title>EMPTY&#45;&gt;I1</title>\n<path fill=\"none\" stroke=\"#000000\" d=\"M54.1276,-56.2671C62.9466,-53.8188 72.7508,-51.097 81.6463,-48.6275\"/>\n<polygon fill=\"#000000\" stroke=\"#000000\" points=\"82.8586,-51.9234 91.5579,-45.8759 80.9861,-45.1785 82.8586,-51.9234\"/>\n</g>\n<!-- B -->\n<g id=\"node4\" class=\"node\">\n<title>B</title>\n<ellipse fill=\"none\" stroke=\"#000000\" cx=\"278.3933\" cy=\"-24.7982\" rx=\"18\" ry=\"18\"/>\n<text text-anchor=\"middle\" x=\"278.3933\" y=\"-21.0982\" font-family=\"Times,serif\" font-size=\"14.00\" fill=\"#000000\">B</text>\n</g>\n<!-- I2&#45;&gt;B -->\n<g id=\"edge6\" class=\"edge\">\n<title>I2&#45;&gt;B</title>\n<path fill=\"none\" stroke=\"#000000\" d=\"M209.5043,-71.0769C222.3051,-62.4775 240.4581,-50.2825 254.9162,-40.5698\"/>\n<polygon fill=\"#000000\" stroke=\"#000000\" points=\"257.0109,-43.379 263.36,-34.8973 253.1074,-37.5685 257.0109,-43.379\"/>\n<text text-anchor=\"middle\" x=\"236.3933\" y=\"-60.5982\" font-family=\"Times,serif\" font-size=\"14.00\" fill=\"#000000\">b </text>\n</g>\n<!-- F3 -->\n<g id=\"node5\" class=\"node\">\n<title>F3</title>\n<ellipse fill=\"none\" stroke=\"#000000\" cx=\"369.1915\" cy=\"-102.7982\" rx=\"20.6302\" ry=\"20.6302\"/>\n<ellipse fill=\"none\" stroke=\"#000000\" cx=\"369.1915\" cy=\"-102.7982\" rx=\"24.5979\" ry=\"24.5979\"/>\n<text text-anchor=\"middle\" x=\"369.1915\" y=\"-99.0982\" font-family=\"Times,serif\" font-size=\"14.00\" fill=\"#000000\">F3</text>\n</g>\n<!-- I2&#45;&gt;F3 -->\n<g id=\"edge5\" class=\"edge\">\n<title>I2&#45;&gt;F3</title>\n<path fill=\"none\" stroke=\"#000000\" d=\"M212.3422,-84.0455C241.3398,-87.5124 297.4593,-94.222 334.1115,-98.6041\"/>\n<polygon fill=\"#000000\" stroke=\"#000000\" points=\"334.0069,-102.1164 344.3517,-99.8284 334.8379,-95.1659 334.0069,-102.1164\"/>\n<text text-anchor=\"middle\" x=\"278.3933\" y=\"-97.5982\" font-family=\"Times,serif\" font-size=\"14.00\" fill=\"#000000\">c </text>\n</g>\n<!-- I1&#45;&gt;I2 -->\n<g id=\"edge4\" class=\"edge\">\n<title>I1&#45;&gt;I2</title>\n<path fill=\"none\" stroke=\"#000000\" d=\"M127.9903,-46.8522C136.8226,-50.0288 147.495,-54.2115 156.6967,-58.7982 160.8326,-60.8598 165.1,-63.2524 169.1988,-65.6993\"/>\n<polygon fill=\"#000000\" stroke=\"#000000\" points=\"167.4451,-68.7302 177.7862,-71.0355 171.1397,-62.7846 167.4451,-68.7302\"/>\n<text text-anchor=\"middle\" x=\"151.6967\" y=\"-62.5982\" font-family=\"Times,serif\" font-size=\"14.00\" fill=\"#000000\">a </text>\n</g>\n<!-- I1&#45;&gt;B -->\n<g id=\"edge3\" class=\"edge\">\n<title>I1&#45;&gt;B</title>\n<path fill=\"none\" stroke=\"#000000\" d=\"M128.855,-38.9939C158.3749,-36.1915 215.4247,-30.7758 249.8904,-27.5039\"/>\n<polygon fill=\"#000000\" stroke=\"#000000\" points=\"250.599,-30.9525 260.2235,-26.523 249.9374,-23.9838 250.599,-30.9525\"/>\n<text text-anchor=\"middle\" x=\"193.545\" y=\"-38.5982\" font-family=\"Times,serif\" font-size=\"14.00\" fill=\"#000000\">&#39;&#39; </text>\n</g>\n<!-- B&#45;&gt;B -->\n<g id=\"edge7\" class=\"edge\">\n<title>B&#45;&gt;B</title>\n<path fill=\"none\" stroke=\"#000000\" d=\"M271.3621,-41.4622C269.7996,-51.4232 272.1433,-60.7982 278.3933,-60.7982 282.3972,-60.7982 284.798,-56.9507 285.5956,-51.5664\"/>\n<polygon fill=\"#000000\" stroke=\"#000000\" points=\"289.0935,-51.4015 285.4246,-41.4622 282.0945,-51.5201 289.0935,-51.4015\"/>\n<text text-anchor=\"middle\" x=\"278.3933\" y=\"-64.5982\" font-family=\"Times,serif\" font-size=\"14.00\" fill=\"#000000\">s </text>\n</g>\n<!-- B&#45;&gt;F3 -->\n<g id=\"edge9\" class=\"edge\">\n<title>B&#45;&gt;F3</title>\n<path fill=\"none\" stroke=\"#000000\" d=\"M292.1836,-36.6447C305.4854,-48.0715 325.9742,-65.6724 342.4747,-79.8471\"/>\n<polygon fill=\"#000000\" stroke=\"#000000\" points=\"340.3394,-82.627 350.2056,-86.4884 344.9008,-77.3172 340.3394,-82.627\"/>\n<text text-anchor=\"middle\" x=\"320.3933\" y=\"-67.5982\" font-family=\"Times,serif\" font-size=\"14.00\" fill=\"#000000\">f </text>\n</g>\n<!-- F4 -->\n<g id=\"node6\" class=\"node\">\n<title>F4</title>\n<ellipse fill=\"none\" stroke=\"#000000\" cx=\"369.1915\" cy=\"-24.7982\" rx=\"20.6302\" ry=\"20.6302\"/>\n<ellipse fill=\"none\" stroke=\"#000000\" cx=\"369.1915\" cy=\"-24.7982\" rx=\"24.5979\" ry=\"24.5979\"/>\n<text text-anchor=\"middle\" x=\"369.1915\" y=\"-21.0982\" font-family=\"Times,serif\" font-size=\"14.00\" fill=\"#000000\">F4</text>\n</g>\n<!-- B&#45;&gt;F4 -->\n<g id=\"edge8\" class=\"edge\">\n<title>B&#45;&gt;F4</title>\n<path fill=\"none\" stroke=\"#000000\" d=\"M296.7677,-24.7982C307.4554,-24.7982 321.2849,-24.7982 333.9906,-24.7982\"/>\n<polygon fill=\"#000000\" stroke=\"#000000\" points=\"334.3055,-28.2983 344.3054,-24.7982 334.3054,-21.2983 334.3055,-28.2983\"/>\n<text text-anchor=\"middle\" x=\"320.3933\" y=\"-28.5982\" font-family=\"Times,serif\" font-size=\"14.00\" fill=\"#000000\">d </text>\n</g>\n</g>\n</svg>\n"
          },
          "metadata": {
            "tags": []
          },
          "execution_count": 147
        }
      ]
    },
    {
      "cell_type": "markdown",
      "metadata": {
        "id": "Ub1tr-Rv1Fah"
      },
      "source": [
        "## 1.1: Convert the given NFA to a DFA by hand.\n",
        "\n",
        "Use as many bullets as necessary to clearly show your work:\n",
        "\n",
        "* I1, I2, and B are collapsed to a single state I1_I2_B.\n",
        "\n",
        "* We then add the trivial transitions from I1_I2_B to F2 and F4 on {c,f,d}.\n",
        "\n",
        "* I1_I2_B transitions to a new state wasI2 on 'a'.\n",
        "\n",
        "* wasI2 transitions to F3 on 'c' and to B on {'b', 's'}.\n",
        "\n",
        "*  B transitions to F3 on 'f', to F4 on 'd' and to B on 's'.\n",
        "* We then add the transitions to the black hole state to totalize it."
      ]
    },
    {
      "cell_type": "code",
      "metadata": {
        "id": "CMDNIlBA1Fah"
      },
      "source": [
        "# DFA of nfa1\n",
        "\n",
        "dfa1 = md2mc('''DFA\n",
        "\n",
        "I1_I2_B : a -> wasI2\n",
        "I1_I2_B: b -> B\n",
        "I1_I2_B: c -> F3\n",
        "I1_I2_B: f -> F3\n",
        "I1_I2_B: s -> B\n",
        "I1_I2_B: d -> F4\n",
        "B: s -> B\n",
        "B: d -> F4\n",
        "B: f -> F3\n",
        "B: a -> BH\n",
        "B: b -> BH\n",
        "B: c -> BH\n",
        "\n",
        "wasI2: c -> F3\n",
        "wasI2: b -> B\n",
        "wasI2: a -> BH\n",
        "wasI2: d -> BH\n",
        "wasI2: f -> BH\n",
        "wasI2: s -> BH\n",
        "\n",
        "F3: a-> BH\n",
        "F3: b-> BH\n",
        "F3: c-> BH\n",
        "F3: d-> BH\n",
        "F3: f-> BH\n",
        "F3: s-> BH\n",
        "\n",
        "F4: a-> BH\n",
        "F4: b-> BH\n",
        "F4: c-> BH\n",
        "F4: d-> BH\n",
        "F4: f-> BH\n",
        "F4: s-> BH\n",
        "\n",
        "BH: a-> BH\n",
        "BH: b-> BH\n",
        "BH: c-> BH\n",
        "BH: d-> BH\n",
        "BH: f-> BH\n",
        "BH: s-> BH\n",
        "''')\n",
        "\n",
        "#{a,b,c,d,f,s}"
      ],
      "execution_count": null,
      "outputs": []
    },
    {
      "cell_type": "code",
      "metadata": {
        "id": "0RbZ4_-o1Fai",
        "colab": {
          "base_uri": "https://localhost:8080/",
          "height": 313
        },
        "outputId": "2a11aac8-8585-4636-ffc0-20e1bec17b2a"
      },
      "source": [
        "dotObj_dfa(dfa1, FuseEdges=True)"
      ],
      "execution_count": null,
      "outputs": [
        {
          "output_type": "execute_result",
          "data": {
            "text/plain": [
              "<graphviz.dot.Digraph at 0x7f1d74585fd0>"
            ],
            "image/svg+xml": "<?xml version=\"1.0\" encoding=\"UTF-8\" standalone=\"no\"?>\n<!DOCTYPE svg PUBLIC \"-//W3C//DTD SVG 1.1//EN\"\n \"http://www.w3.org/Graphics/SVG/1.1/DTD/svg11.dtd\">\n<!-- Generated by graphviz version 2.40.1 (20161225.0304)\n -->\n<!-- Title: %3 Pages: 1 -->\n<svg width=\"478pt\" height=\"219pt\"\n viewBox=\"0.00 0.00 478.08 218.80\" xmlns=\"http://www.w3.org/2000/svg\" xmlns:xlink=\"http://www.w3.org/1999/xlink\">\n<g id=\"graph0\" class=\"graph\" transform=\"scale(1 1) rotate(0) translate(4 214.7982)\">\n<title>%3</title>\n<polygon fill=\"#ffffff\" stroke=\"transparent\" points=\"-4,4 -4,-214.7982 474.083,-214.7982 474.083,4 -4,4\"/>\n<!-- EMPTY -->\n<g id=\"node1\" class=\"node\">\n<title>EMPTY</title>\n</g>\n<!-- I1_I2_B -->\n<g id=\"node2\" class=\"node\">\n<title>I1_I2_B</title>\n<ellipse fill=\"none\" stroke=\"#000000\" cx=\"133.2463\" cy=\"-90.7982\" rx=\"42.4939\" ry=\"42.4939\"/>\n<text text-anchor=\"middle\" x=\"133.2463\" y=\"-87.0982\" font-family=\"Times,serif\" font-size=\"14.00\" fill=\"#000000\">I1_I2_B</text>\n</g>\n<!-- EMPTY&#45;&gt;I1_I2_B -->\n<g id=\"edge1\" class=\"edge\">\n<title>EMPTY&#45;&gt;I1_I2_B</title>\n<path fill=\"none\" stroke=\"#000000\" d=\"M54.0853,-90.7982C62.3026,-90.7982 71.6242,-90.7982 80.9135,-90.7982\"/>\n<polygon fill=\"#000000\" stroke=\"#000000\" points=\"80.927,-94.2983 90.927,-90.7982 80.9269,-87.2983 80.927,-94.2983\"/>\n</g>\n<!-- wasI2 -->\n<g id=\"node3\" class=\"node\">\n<title>wasI2</title>\n<ellipse fill=\"none\" stroke=\"#000000\" cx=\"253.9896\" cy=\"-130.7982\" rx=\"32.4942\" ry=\"32.4942\"/>\n<text text-anchor=\"middle\" x=\"253.9896\" y=\"-127.0982\" font-family=\"Times,serif\" font-size=\"14.00\" fill=\"#000000\">wasI2</text>\n</g>\n<!-- I1_I2_B&#45;&gt;wasI2 -->\n<g id=\"edge2\" class=\"edge\">\n<title>I1_I2_B&#45;&gt;wasI2</title>\n<path fill=\"none\" stroke=\"#000000\" d=\"M173.452,-104.1176C186.3535,-108.3916 200.6432,-113.1255 213.5606,-117.4048\"/>\n<polygon fill=\"#000000\" stroke=\"#000000\" points=\"212.5321,-120.7511 223.1254,-120.5734 214.7334,-114.1062 212.5321,-120.7511\"/>\n<text text-anchor=\"middle\" x=\"198.4925\" y=\"-116.5982\" font-family=\"Times,serif\" font-size=\"14.00\" fill=\"#000000\">a </text>\n</g>\n<!-- B -->\n<g id=\"node4\" class=\"node\">\n<title>B</title>\n<ellipse fill=\"none\" stroke=\"#000000\" cx=\"354.4867\" cy=\"-50.7982\" rx=\"18\" ry=\"18\"/>\n<text text-anchor=\"middle\" x=\"354.4867\" y=\"-47.0982\" font-family=\"Times,serif\" font-size=\"14.00\" fill=\"#000000\">B</text>\n</g>\n<!-- I1_I2_B&#45;&gt;B -->\n<g id=\"edge3\" class=\"edge\">\n<title>I1_I2_B&#45;&gt;B</title>\n<path fill=\"none\" stroke=\"#000000\" d=\"M172.5759,-74.4229C187.6243,-68.8411 205.1094,-63.1652 221.4925,-59.7982 256.956,-52.5097 298.7431,-50.7683 325.8807,-50.5161\"/>\n<polygon fill=\"#000000\" stroke=\"#000000\" points=\"326.2188,-54.0152 336.2085,-50.486 326.1983,-47.0152 326.2188,-54.0152\"/>\n<text text-anchor=\"middle\" x=\"253.9896\" y=\"-78.5982\" font-family=\"Times,serif\" font-size=\"14.00\" fill=\"#000000\">s </text>\n<text text-anchor=\"middle\" x=\"253.9896\" y=\"-63.5982\" font-family=\"Times,serif\" font-size=\"14.00\" fill=\"#000000\"> b </text>\n</g>\n<!-- F3 -->\n<g id=\"node5\" class=\"node\">\n<title>F3</title>\n<ellipse fill=\"none\" stroke=\"#000000\" cx=\"445.2849\" cy=\"-137.7982\" rx=\"20.6302\" ry=\"20.6302\"/>\n<ellipse fill=\"none\" stroke=\"#000000\" cx=\"445.2849\" cy=\"-137.7982\" rx=\"24.5979\" ry=\"24.5979\"/>\n<text text-anchor=\"middle\" x=\"445.2849\" y=\"-134.0982\" font-family=\"Times,serif\" font-size=\"14.00\" fill=\"#000000\">F3</text>\n</g>\n<!-- I1_I2_B&#45;&gt;F3 -->\n<g id=\"edge4\" class=\"edge\">\n<title>I1_I2_B&#45;&gt;F3</title>\n<path fill=\"none\" stroke=\"#000000\" d=\"M159.1386,-124.473C174.9709,-142.2058 196.8814,-162.2155 221.4925,-171.7982 286.5199,-197.1176 369.0097,-170.9538 413.4503,-152.546\"/>\n<polygon fill=\"#000000\" stroke=\"#000000\" points=\"415.0353,-155.675 422.8566,-148.5281 412.2855,-149.2376 415.0353,-155.675\"/>\n<text text-anchor=\"middle\" x=\"311.4867\" y=\"-199.5982\" font-family=\"Times,serif\" font-size=\"14.00\" fill=\"#000000\">f </text>\n<text text-anchor=\"middle\" x=\"311.4867\" y=\"-184.5982\" font-family=\"Times,serif\" font-size=\"14.00\" fill=\"#000000\"> c </text>\n</g>\n<!-- F4 -->\n<g id=\"node6\" class=\"node\">\n<title>F4</title>\n<ellipse fill=\"none\" stroke=\"#000000\" cx=\"445.2849\" cy=\"-24.7982\" rx=\"20.6302\" ry=\"20.6302\"/>\n<ellipse fill=\"none\" stroke=\"#000000\" cx=\"445.2849\" cy=\"-24.7982\" rx=\"24.5979\" ry=\"24.5979\"/>\n<text text-anchor=\"middle\" x=\"445.2849\" y=\"-21.0982\" font-family=\"Times,serif\" font-size=\"14.00\" fill=\"#000000\">F4</text>\n</g>\n<!-- I1_I2_B&#45;&gt;F4 -->\n<g id=\"edge5\" class=\"edge\">\n<title>I1_I2_B&#45;&gt;F4</title>\n<path fill=\"none\" stroke=\"#000000\" d=\"M170.5613,-70.8581C178.0863,-67.047 185.9903,-63.1915 193.4925,-59.7982 253.2044,-32.7895 271.3257,-30.7995 336.4867,-23.7982 352.3952,-22.0889 356.4871,-23.6883 372.4867,-23.7982 384.8043,-23.8828 398.2933,-24.0479 410.277,-24.2199\"/>\n<polygon fill=\"#000000\" stroke=\"#000000\" points=\"410.3018,-27.7206 420.3532,-24.3711 410.4069,-20.7214 410.3018,-27.7206\"/>\n<text text-anchor=\"middle\" x=\"311.4867\" y=\"-31.5982\" font-family=\"Times,serif\" font-size=\"14.00\" fill=\"#000000\">d </text>\n</g>\n<!-- wasI2&#45;&gt;B -->\n<g id=\"edge10\" class=\"edge\">\n<title>wasI2&#45;&gt;B</title>\n<path fill=\"none\" stroke=\"#000000\" d=\"M279.6093,-110.4038C295.8997,-97.436 316.7783,-80.8157 332.3481,-68.4214\"/>\n<polygon fill=\"#000000\" stroke=\"#000000\" points=\"334.745,-70.987 340.389,-62.0205 330.3854,-65.5103 334.745,-70.987\"/>\n<text text-anchor=\"middle\" x=\"311.4867\" y=\"-91.5982\" font-family=\"Times,serif\" font-size=\"14.00\" fill=\"#000000\">b </text>\n</g>\n<!-- wasI2&#45;&gt;F3 -->\n<g id=\"edge9\" class=\"edge\">\n<title>wasI2&#45;&gt;F3</title>\n<path fill=\"none\" stroke=\"#000000\" d=\"M286.8744,-132.0015C321.2419,-133.2591 374.9649,-135.225 410.1496,-136.5125\"/>\n<polygon fill=\"#000000\" stroke=\"#000000\" points=\"410.3106,-140.0206 420.4319,-136.8887 410.5666,-133.0253 410.3106,-140.0206\"/>\n<text text-anchor=\"middle\" x=\"354.4867\" y=\"-138.5982\" font-family=\"Times,serif\" font-size=\"14.00\" fill=\"#000000\">c </text>\n</g>\n<!-- B&#45;&gt;B -->\n<g id=\"edge6\" class=\"edge\">\n<title>B&#45;&gt;B</title>\n<path fill=\"none\" stroke=\"#000000\" d=\"M347.1039,-67.4622C345.4633,-77.4232 347.9242,-86.7982 354.4867,-86.7982 358.6908,-86.7982 361.2117,-82.9507 362.0492,-77.5664\"/>\n<polygon fill=\"#000000\" stroke=\"#000000\" points=\"365.5469,-77.3984 361.8695,-67.4622 358.548,-77.5229 365.5469,-77.3984\"/>\n<text text-anchor=\"middle\" x=\"354.4867\" y=\"-90.5982\" font-family=\"Times,serif\" font-size=\"14.00\" fill=\"#000000\">s </text>\n</g>\n<!-- B&#45;&gt;F3 -->\n<g id=\"edge8\" class=\"edge\">\n<title>B&#45;&gt;F3</title>\n<path fill=\"none\" stroke=\"#000000\" d=\"M367.4959,-63.2631C381.1034,-76.3014 402.8116,-97.1015 419.8421,-113.4196\"/>\n<polygon fill=\"#000000\" stroke=\"#000000\" points=\"417.6499,-116.1665 427.2918,-120.5578 422.4928,-111.1121 417.6499,-116.1665\"/>\n<text text-anchor=\"middle\" x=\"396.4867\" y=\"-97.5982\" font-family=\"Times,serif\" font-size=\"14.00\" fill=\"#000000\">f </text>\n</g>\n<!-- B&#45;&gt;F4 -->\n<g id=\"edge7\" class=\"edge\">\n<title>B&#45;&gt;F4</title>\n<path fill=\"none\" stroke=\"#000000\" d=\"M371.9935,-45.7851C383.1633,-42.5866 398.0109,-38.335 411.4205,-34.4952\"/>\n<polygon fill=\"#000000\" stroke=\"#000000\" points=\"412.6599,-37.7811 421.31,-31.6634 410.7328,-31.0515 412.6599,-37.7811\"/>\n<text text-anchor=\"middle\" x=\"396.4867\" y=\"-44.5982\" font-family=\"Times,serif\" font-size=\"14.00\" fill=\"#000000\">d </text>\n</g>\n</g>\n</svg>\n"
          },
          "metadata": {
            "tags": []
          },
          "execution_count": 163
        }
      ]
    },
    {
      "cell_type": "code",
      "metadata": {
        "id": "g2X2kCE4CCSm",
        "colab": {
          "base_uri": "https://localhost:8080/",
          "height": 456
        },
        "outputId": "d812158e-fcf2-4c4e-b0df-b2d3d6587d1c"
      },
      "source": [
        "dotObj_dfa_w_bh(dfa1, FuseEdges=True)"
      ],
      "execution_count": null,
      "outputs": [
        {
          "output_type": "execute_result",
          "data": {
            "text/plain": [
              "<graphviz.dot.Digraph at 0x7f1d74585588>"
            ],
            "image/svg+xml": "<?xml version=\"1.0\" encoding=\"UTF-8\" standalone=\"no\"?>\n<!DOCTYPE svg PUBLIC \"-//W3C//DTD SVG 1.1//EN\"\n \"http://www.w3.org/Graphics/SVG/1.1/DTD/svg11.dtd\">\n<!-- Generated by graphviz version 2.40.1 (20161225.0304)\n -->\n<!-- Title: %3 Pages: 1 -->\n<svg width=\"624pt\" height=\"326pt\"\n viewBox=\"0.00 0.00 624.08 326.25\" xmlns=\"http://www.w3.org/2000/svg\" xmlns:xlink=\"http://www.w3.org/1999/xlink\">\n<g id=\"graph0\" class=\"graph\" transform=\"scale(1 1) rotate(0) translate(4 322.2529)\">\n<title>%3</title>\n<polygon fill=\"#ffffff\" stroke=\"transparent\" points=\"-4,4 -4,-322.2529 620.083,-322.2529 620.083,4 -4,4\"/>\n<!-- EMPTY -->\n<g id=\"node1\" class=\"node\">\n<title>EMPTY</title>\n</g>\n<!-- I1_I2_B -->\n<g id=\"node2\" class=\"node\">\n<title>I1_I2_B</title>\n<ellipse fill=\"none\" stroke=\"#000000\" cx=\"133.2463\" cy=\"-153.2529\" rx=\"42.4939\" ry=\"42.4939\"/>\n<text text-anchor=\"middle\" x=\"133.2463\" y=\"-149.5529\" font-family=\"Times,serif\" font-size=\"14.00\" fill=\"#000000\">I1_I2_B</text>\n</g>\n<!-- EMPTY&#45;&gt;I1_I2_B -->\n<g id=\"edge1\" class=\"edge\">\n<title>EMPTY&#45;&gt;I1_I2_B</title>\n<path fill=\"none\" stroke=\"#000000\" d=\"M54.0853,-153.2529C62.3026,-153.2529 71.6242,-153.2529 80.9135,-153.2529\"/>\n<polygon fill=\"#000000\" stroke=\"#000000\" points=\"80.927,-156.753 90.927,-153.2529 80.9269,-149.753 80.927,-156.753\"/>\n</g>\n<!-- wasI2 -->\n<g id=\"node4\" class=\"node\">\n<title>wasI2</title>\n<ellipse fill=\"none\" stroke=\"#000000\" cx=\"253.9896\" cy=\"-192.2529\" rx=\"32.4942\" ry=\"32.4942\"/>\n<text text-anchor=\"middle\" x=\"253.9896\" y=\"-188.5529\" font-family=\"Times,serif\" font-size=\"14.00\" fill=\"#000000\">wasI2</text>\n</g>\n<!-- I1_I2_B&#45;&gt;wasI2 -->\n<g id=\"edge2\" class=\"edge\">\n<title>I1_I2_B&#45;&gt;wasI2</title>\n<path fill=\"none\" stroke=\"#000000\" d=\"M173.452,-166.2393C186.1188,-170.3307 200.1236,-174.8542 212.8541,-178.9662\"/>\n<polygon fill=\"#000000\" stroke=\"#000000\" points=\"212.1489,-182.4164 222.7406,-182.1595 214.3005,-175.7552 212.1489,-182.4164\"/>\n<text text-anchor=\"middle\" x=\"198.4925\" y=\"-178.0529\" font-family=\"Times,serif\" font-size=\"14.00\" fill=\"#000000\">a </text>\n</g>\n<!-- B -->\n<g id=\"node5\" class=\"node\">\n<title>B</title>\n<ellipse fill=\"none\" stroke=\"#000000\" cx=\"354.4867\" cy=\"-108.2529\" rx=\"18\" ry=\"18\"/>\n<text text-anchor=\"middle\" x=\"354.4867\" y=\"-104.5529\" font-family=\"Times,serif\" font-size=\"14.00\" fill=\"#000000\">B</text>\n</g>\n<!-- I1_I2_B&#45;&gt;B -->\n<g id=\"edge3\" class=\"edge\">\n<title>I1_I2_B&#45;&gt;B</title>\n<path fill=\"none\" stroke=\"#000000\" d=\"M172.151,-136.7639C187.2988,-130.9785 204.9623,-124.9955 221.4925,-121.2529 256.8908,-113.2384 298.6924,-110.1644 325.8512,-108.9857\"/>\n<polygon fill=\"#000000\" stroke=\"#000000\" points=\"326.3259,-112.4704 336.1878,-108.5984 326.0638,-105.4753 326.3259,-112.4704\"/>\n<text text-anchor=\"middle\" x=\"253.9896\" y=\"-140.0529\" font-family=\"Times,serif\" font-size=\"14.00\" fill=\"#000000\">s </text>\n<text text-anchor=\"middle\" x=\"253.9896\" y=\"-125.0529\" font-family=\"Times,serif\" font-size=\"14.00\" fill=\"#000000\"> b </text>\n</g>\n<!-- F3 -->\n<g id=\"node6\" class=\"node\">\n<title>F3</title>\n<ellipse fill=\"none\" stroke=\"#000000\" cx=\"449.2849\" cy=\"-195.2529\" rx=\"20.6302\" ry=\"20.6302\"/>\n<ellipse fill=\"none\" stroke=\"#000000\" cx=\"449.2849\" cy=\"-195.2529\" rx=\"24.5979\" ry=\"24.5979\"/>\n<text text-anchor=\"middle\" x=\"449.2849\" y=\"-191.5529\" font-family=\"Times,serif\" font-size=\"14.00\" fill=\"#000000\">F3</text>\n</g>\n<!-- I1_I2_B&#45;&gt;F3 -->\n<g id=\"edge4\" class=\"edge\">\n<title>I1_I2_B&#45;&gt;F3</title>\n<path fill=\"none\" stroke=\"#000000\" d=\"M162.3241,-183.9272C178.6625,-200.0024 200.0373,-219.2108 221.4925,-233.2529 290.4003,-278.3521 309.9642,-291.9798 390.4867,-309.2529 397.4397,-310.7444 400.6412,-313.3023 406.4867,-309.2529 420.0702,-299.8433 433.0235,-259.415 441.051,-229.3604\"/>\n<polygon fill=\"#000000\" stroke=\"#000000\" points=\"444.4531,-230.1841 443.5783,-219.6254 437.6777,-228.4251 444.4531,-230.1841\"/>\n<text text-anchor=\"middle\" x=\"311.4867\" y=\"-307.0529\" font-family=\"Times,serif\" font-size=\"14.00\" fill=\"#000000\">f </text>\n<text text-anchor=\"middle\" x=\"311.4867\" y=\"-292.0529\" font-family=\"Times,serif\" font-size=\"14.00\" fill=\"#000000\"> c </text>\n</g>\n<!-- F4 -->\n<g id=\"node7\" class=\"node\">\n<title>F4</title>\n<ellipse fill=\"none\" stroke=\"#000000\" cx=\"449.2849\" cy=\"-44.2529\" rx=\"20.6302\" ry=\"20.6302\"/>\n<ellipse fill=\"none\" stroke=\"#000000\" cx=\"449.2849\" cy=\"-44.2529\" rx=\"24.5979\" ry=\"24.5979\"/>\n<text text-anchor=\"middle\" x=\"449.2849\" y=\"-40.5529\" font-family=\"Times,serif\" font-size=\"14.00\" fill=\"#000000\">F4</text>\n</g>\n<!-- I1_I2_B&#45;&gt;F4 -->\n<g id=\"edge5\" class=\"edge\">\n<title>I1_I2_B&#45;&gt;F4</title>\n<path fill=\"none\" stroke=\"#000000\" d=\"M169.7889,-131.9954C185.3713,-123.5172 203.9704,-114.1535 221.4925,-107.2529 288.0802,-81.0291 369.6707,-61.295 414.9126,-51.3801\"/>\n<polygon fill=\"#000000\" stroke=\"#000000\" points=\"415.764,-54.777 424.799,-49.2435 414.2853,-47.935 415.764,-54.777\"/>\n<text text-anchor=\"middle\" x=\"311.4867\" y=\"-83.0529\" font-family=\"Times,serif\" font-size=\"14.00\" fill=\"#000000\">d </text>\n</g>\n<!-- BH -->\n<g id=\"node3\" class=\"node\">\n<title>BH</title>\n<ellipse fill=\"none\" stroke=\"#000000\" cx=\"571.083\" cy=\"-125.2529\" rx=\"24.0958\" ry=\"24.0958\"/>\n<text text-anchor=\"middle\" x=\"571.083\" y=\"-121.5529\" font-family=\"Times,serif\" font-size=\"14.00\" fill=\"#000000\">BH</text>\n</g>\n<!-- BH&#45;&gt;BH -->\n<g id=\"edge15\" class=\"edge\">\n<title>BH&#45;&gt;BH</title>\n<path fill=\"none\" stroke=\"#000000\" d=\"M558.4996,-146.0219C556.3612,-157.1567 560.5557,-167.3008 571.083,-167.3008 578.1561,-167.3008 582.3704,-162.7216 583.726,-156.3393\"/>\n<polygon fill=\"#000000\" stroke=\"#000000\" points=\"587.2242,-156.0015 583.6665,-146.0219 580.2243,-156.0419 587.2242,-156.0015\"/>\n<text text-anchor=\"middle\" x=\"571.083\" y=\"-246.1008\" font-family=\"Times,serif\" font-size=\"14.00\" fill=\"#000000\">a </text>\n<text text-anchor=\"middle\" x=\"571.083\" y=\"-231.1008\" font-family=\"Times,serif\" font-size=\"14.00\" fill=\"#000000\"> s </text>\n<text text-anchor=\"middle\" x=\"571.083\" y=\"-216.1008\" font-family=\"Times,serif\" font-size=\"14.00\" fill=\"#000000\"> b </text>\n<text text-anchor=\"middle\" x=\"571.083\" y=\"-201.1008\" font-family=\"Times,serif\" font-size=\"14.00\" fill=\"#000000\"> f </text>\n<text text-anchor=\"middle\" x=\"571.083\" y=\"-186.1008\" font-family=\"Times,serif\" font-size=\"14.00\" fill=\"#000000\"> d </text>\n<text text-anchor=\"middle\" x=\"571.083\" y=\"-171.1008\" font-family=\"Times,serif\" font-size=\"14.00\" fill=\"#000000\"> c </text>\n</g>\n<!-- wasI2&#45;&gt;BH -->\n<g id=\"edge12\" class=\"edge\">\n<title>wasI2&#45;&gt;BH</title>\n<path fill=\"none\" stroke=\"#000000\" d=\"M282.4442,-208.2587C331.8226,-233.6951 435.0826,-276.3767 508.083,-234.2529 535.9935,-218.1476 552.6513,-184.4416 561.7604,-158.7488\"/>\n<polygon fill=\"#000000\" stroke=\"#000000\" points=\"565.1676,-159.5941 564.9976,-149.0006 558.5243,-157.3879 565.1676,-159.5941\"/>\n<text text-anchor=\"middle\" x=\"398.4867\" y=\"-298.0529\" font-family=\"Times,serif\" font-size=\"14.00\" fill=\"#000000\">a </text>\n<text text-anchor=\"middle\" x=\"398.4867\" y=\"-283.0529\" font-family=\"Times,serif\" font-size=\"14.00\" fill=\"#000000\"> f </text>\n<text text-anchor=\"middle\" x=\"398.4867\" y=\"-268.0529\" font-family=\"Times,serif\" font-size=\"14.00\" fill=\"#000000\"> s </text>\n<text text-anchor=\"middle\" x=\"398.4867\" y=\"-253.0529\" font-family=\"Times,serif\" font-size=\"14.00\" fill=\"#000000\"> d </text>\n</g>\n<!-- wasI2&#45;&gt;B -->\n<g id=\"edge11\" class=\"edge\">\n<title>wasI2&#45;&gt;B</title>\n<path fill=\"none\" stroke=\"#000000\" d=\"M279.09,-171.2728C295.6257,-157.4516 317.0568,-139.5386 332.8415,-126.345\"/>\n<polygon fill=\"#000000\" stroke=\"#000000\" points=\"335.0973,-129.0211 340.5254,-119.9224 330.608,-123.6502 335.0973,-129.0211\"/>\n<text text-anchor=\"middle\" x=\"311.4867\" y=\"-151.0529\" font-family=\"Times,serif\" font-size=\"14.00\" fill=\"#000000\">b </text>\n</g>\n<!-- wasI2&#45;&gt;F3 -->\n<g id=\"edge10\" class=\"edge\">\n<title>wasI2&#45;&gt;F3</title>\n<path fill=\"none\" stroke=\"#000000\" d=\"M286.6777,-192.755C321.9599,-193.297 377.9494,-194.1571 414.154,-194.7133\"/>\n<polygon fill=\"#000000\" stroke=\"#000000\" points=\"414.2057,-198.2144 424.2583,-194.8685 414.3132,-191.2152 414.2057,-198.2144\"/>\n<text text-anchor=\"middle\" x=\"354.4867\" y=\"-197.0529\" font-family=\"Times,serif\" font-size=\"14.00\" fill=\"#000000\">c </text>\n</g>\n<!-- B&#45;&gt;BH -->\n<g id=\"edge9\" class=\"edge\">\n<title>B&#45;&gt;BH</title>\n<path fill=\"none\" stroke=\"#000000\" d=\"M372.7329,-109.3271C396.1956,-110.7419 438.1965,-113.3883 474.083,-116.2529 494.8966,-117.9143 518.1945,-120.0664 536.74,-121.8495\"/>\n<polygon fill=\"#000000\" stroke=\"#000000\" points=\"536.4899,-125.3416 546.7811,-122.8234 537.1657,-118.3743 536.4899,-125.3416\"/>\n<text text-anchor=\"middle\" x=\"449.2849\" y=\"-150.0529\" font-family=\"Times,serif\" font-size=\"14.00\" fill=\"#000000\">a </text>\n<text text-anchor=\"middle\" x=\"449.2849\" y=\"-135.0529\" font-family=\"Times,serif\" font-size=\"14.00\" fill=\"#000000\"> c </text>\n<text text-anchor=\"middle\" x=\"449.2849\" y=\"-120.0529\" font-family=\"Times,serif\" font-size=\"14.00\" fill=\"#000000\"> b </text>\n</g>\n<!-- B&#45;&gt;B -->\n<g id=\"edge6\" class=\"edge\">\n<title>B&#45;&gt;B</title>\n<path fill=\"none\" stroke=\"#000000\" d=\"M347.1039,-124.917C345.4633,-134.8779 347.9242,-144.2529 354.4867,-144.2529 358.6908,-144.2529 361.2117,-140.4054 362.0492,-135.0212\"/>\n<polygon fill=\"#000000\" stroke=\"#000000\" points=\"365.5469,-134.8531 361.8695,-124.917 358.548,-134.9776 365.5469,-134.8531\"/>\n<text text-anchor=\"middle\" x=\"354.4867\" y=\"-148.0529\" font-family=\"Times,serif\" font-size=\"14.00\" fill=\"#000000\">s </text>\n</g>\n<!-- B&#45;&gt;F3 -->\n<g id=\"edge8\" class=\"edge\">\n<title>B&#45;&gt;F3</title>\n<path fill=\"none\" stroke=\"#000000\" d=\"M368.069,-120.7179C382.3648,-133.8377 405.2241,-154.8166 423.054,-171.1798\"/>\n<polygon fill=\"#000000\" stroke=\"#000000\" points=\"421.1093,-174.1456 430.8434,-178.3285 425.8424,-168.9882 421.1093,-174.1456\"/>\n<text text-anchor=\"middle\" x=\"398.4867\" y=\"-158.0529\" font-family=\"Times,serif\" font-size=\"14.00\" fill=\"#000000\">f </text>\n</g>\n<!-- B&#45;&gt;F4 -->\n<g id=\"edge7\" class=\"edge\">\n<title>B&#45;&gt;F4</title>\n<path fill=\"none\" stroke=\"#000000\" d=\"M368.0679,-95.997C374.6317,-90.3216 382.7487,-83.6555 390.4867,-78.2529 399.2609,-72.127 409.2031,-66.0716 418.3827,-60.8066\"/>\n<polygon fill=\"#000000\" stroke=\"#000000\" points=\"420.2331,-63.7817 427.2366,-55.8318 416.804,-57.679 420.2331,-63.7817\"/>\n<text text-anchor=\"middle\" x=\"398.4867\" y=\"-82.0529\" font-family=\"Times,serif\" font-size=\"14.00\" fill=\"#000000\">d </text>\n</g>\n<!-- F3&#45;&gt;BH -->\n<g id=\"edge13\" class=\"edge\">\n<title>F3&#45;&gt;BH</title>\n<path fill=\"none\" stroke=\"#000000\" d=\"M462.3321,-174.0624C469.811,-163.6062 480.093,-151.6755 492.083,-144.2529 505.4021,-136.0076 522.031,-131.3404 536.5921,-128.6986\"/>\n<polygon fill=\"#000000\" stroke=\"#000000\" points=\"537.4129,-132.1129 546.7525,-127.1108 536.332,-125.1969 537.4129,-132.1129\"/>\n<text text-anchor=\"middle\" x=\"500.083\" y=\"-223.0529\" font-family=\"Times,serif\" font-size=\"14.00\" fill=\"#000000\">a </text>\n<text text-anchor=\"middle\" x=\"500.083\" y=\"-208.0529\" font-family=\"Times,serif\" font-size=\"14.00\" fill=\"#000000\"> s </text>\n<text text-anchor=\"middle\" x=\"500.083\" y=\"-193.0529\" font-family=\"Times,serif\" font-size=\"14.00\" fill=\"#000000\"> b </text>\n<text text-anchor=\"middle\" x=\"500.083\" y=\"-178.0529\" font-family=\"Times,serif\" font-size=\"14.00\" fill=\"#000000\"> f </text>\n<text text-anchor=\"middle\" x=\"500.083\" y=\"-163.0529\" font-family=\"Times,serif\" font-size=\"14.00\" fill=\"#000000\"> d </text>\n<text text-anchor=\"middle\" x=\"500.083\" y=\"-148.0529\" font-family=\"Times,serif\" font-size=\"14.00\" fill=\"#000000\"> c </text>\n</g>\n<!-- F4&#45;&gt;BH -->\n<g id=\"edge14\" class=\"edge\">\n<title>F4&#45;&gt;BH</title>\n<path fill=\"none\" stroke=\"#000000\" d=\"M463.2142,-23.6974C474.9263,-9.0791 492.2466,6.3925 508.083,-3.2529 539.4982,-22.3869 555.9309,-62.7795 564.0291,-91.8513\"/>\n<polygon fill=\"#000000\" stroke=\"#000000\" points=\"560.6608,-92.8061 566.5568,-101.6088 567.4371,-91.0506 560.6608,-92.8061\"/>\n<text text-anchor=\"middle\" x=\"500.083\" y=\"-82.0529\" font-family=\"Times,serif\" font-size=\"14.00\" fill=\"#000000\">a </text>\n<text text-anchor=\"middle\" x=\"500.083\" y=\"-67.0529\" font-family=\"Times,serif\" font-size=\"14.00\" fill=\"#000000\"> s </text>\n<text text-anchor=\"middle\" x=\"500.083\" y=\"-52.0529\" font-family=\"Times,serif\" font-size=\"14.00\" fill=\"#000000\"> b </text>\n<text text-anchor=\"middle\" x=\"500.083\" y=\"-37.0529\" font-family=\"Times,serif\" font-size=\"14.00\" fill=\"#000000\"> f </text>\n<text text-anchor=\"middle\" x=\"500.083\" y=\"-22.0529\" font-family=\"Times,serif\" font-size=\"14.00\" fill=\"#000000\"> d </text>\n<text text-anchor=\"middle\" x=\"500.083\" y=\"-7.0529\" font-family=\"Times,serif\" font-size=\"14.00\" fill=\"#000000\"> c </text>\n</g>\n</g>\n</svg>\n"
          },
          "metadata": {
            "tags": []
          },
          "execution_count": 162
        }
      ]
    },
    {
      "cell_type": "code",
      "metadata": {
        "id": "Wdg0HaNnCqnJ",
        "colab": {
          "base_uri": "https://localhost:8080/",
          "height": 333
        },
        "outputId": "c61ea5cb-f8b9-4112-d0cb-bb6580388671"
      },
      "source": [
        "dotObj_dfa(nfa2dfa(nfa1))"
      ],
      "execution_count": null,
      "outputs": [
        {
          "output_type": "execute_result",
          "data": {
            "text/plain": [
              "<graphviz.dot.Digraph at 0x7f1d74572400>"
            ],
            "image/svg+xml": "<?xml version=\"1.0\" encoding=\"UTF-8\" standalone=\"no\"?>\n<!DOCTYPE svg PUBLIC \"-//W3C//DTD SVG 1.1//EN\"\n \"http://www.w3.org/Graphics/SVG/1.1/DTD/svg11.dtd\">\n<!-- Generated by graphviz version 2.40.1 (20161225.0304)\n -->\n<!-- Title: %3 Pages: 1 -->\n<svg width=\"449pt\" height=\"234pt\"\n viewBox=\"0.00 0.00 448.79 233.91\" xmlns=\"http://www.w3.org/2000/svg\" xmlns:xlink=\"http://www.w3.org/1999/xlink\">\n<g id=\"graph0\" class=\"graph\" transform=\"scale(1 1) rotate(0) translate(4 229.9128)\">\n<title>%3</title>\n<polygon fill=\"#ffffff\" stroke=\"transparent\" points=\"-4,4 -4,-229.9128 444.7855,-229.9128 444.7855,4 -4,4\"/>\n<!-- EMPTY -->\n<g id=\"node1\" class=\"node\">\n<title>EMPTY</title>\n</g>\n<!-- B_I1_I2 -->\n<g id=\"node4\" class=\"node\">\n<title>B_I1_I2</title>\n<ellipse fill=\"none\" stroke=\"#000000\" cx=\"133.2463\" cy=\"-108.1147\" rx=\"42.4939\" ry=\"42.4939\"/>\n<text text-anchor=\"middle\" x=\"133.2463\" y=\"-104.4147\" font-family=\"Times,serif\" font-size=\"14.00\" fill=\"#000000\">B_I1_I2</text>\n</g>\n<!-- EMPTY&#45;&gt;B_I1_I2 -->\n<g id=\"edge1\" class=\"edge\">\n<title>EMPTY&#45;&gt;B_I1_I2</title>\n<path fill=\"none\" stroke=\"#000000\" d=\"M54.0853,-108.1147C62.3026,-108.1147 71.6242,-108.1147 80.9135,-108.1147\"/>\n<polygon fill=\"#000000\" stroke=\"#000000\" points=\"80.927,-111.6148 90.927,-108.1147 80.9269,-104.6148 80.927,-111.6148\"/>\n</g>\n<!-- I2 -->\n<g id=\"node2\" class=\"node\">\n<title>I2</title>\n<ellipse fill=\"none\" stroke=\"#000000\" cx=\"240.3408\" cy=\"-38.1147\" rx=\"18.6979\" ry=\"18.6979\"/>\n<text text-anchor=\"middle\" x=\"240.3408\" y=\"-34.4147\" font-family=\"Times,serif\" font-size=\"14.00\" fill=\"#000000\">I2</text>\n</g>\n<!-- B -->\n<g id=\"node3\" class=\"node\">\n<title>B</title>\n<ellipse fill=\"none\" stroke=\"#000000\" cx=\"325.1892\" cy=\"-131.1147\" rx=\"18\" ry=\"18\"/>\n<text text-anchor=\"middle\" x=\"325.1892\" y=\"-127.4147\" font-family=\"Times,serif\" font-size=\"14.00\" fill=\"#000000\">B</text>\n</g>\n<!-- I2&#45;&gt;B -->\n<g id=\"edge8\" class=\"edge\">\n<title>I2&#45;&gt;B</title>\n<path fill=\"none\" stroke=\"#000000\" d=\"M259.2616,-37.954C269.1332,-38.7931 280.8544,-41.3507 289.1892,-48.1147 306.0896,-61.8301 315.2419,-85.017 320.0822,-103.4027\"/>\n<polygon fill=\"#000000\" stroke=\"#000000\" points=\"316.7123,-104.3626 322.4047,-113.2983 323.5271,-102.7631 316.7123,-104.3626\"/>\n<text text-anchor=\"middle\" x=\"283.1892\" y=\"-51.9147\" font-family=\"Times,serif\" font-size=\"14.00\" fill=\"#000000\">b </text>\n</g>\n<!-- F3 -->\n<g id=\"node6\" class=\"node\">\n<title>F3</title>\n<ellipse fill=\"none\" stroke=\"#000000\" cx=\"415.9873\" cy=\"-50.1147\" rx=\"20.6302\" ry=\"20.6302\"/>\n<ellipse fill=\"none\" stroke=\"#000000\" cx=\"415.9873\" cy=\"-50.1147\" rx=\"24.5979\" ry=\"24.5979\"/>\n<text text-anchor=\"middle\" x=\"415.9873\" y=\"-46.4147\" font-family=\"Times,serif\" font-size=\"14.00\" fill=\"#000000\">F3</text>\n</g>\n<!-- I2&#45;&gt;F3 -->\n<g id=\"edge9\" class=\"edge\">\n<title>I2&#45;&gt;F3</title>\n<path fill=\"none\" stroke=\"#000000\" d=\"M259.373,-37.6984C268.4117,-37.6072 279.3626,-37.6507 289.1892,-38.1147 320.3047,-39.5838 355.5722,-43.0699 380.9996,-45.9082\"/>\n<polygon fill=\"#000000\" stroke=\"#000000\" points=\"380.9217,-49.4219 391.2539,-47.0772 381.7147,-42.467 380.9217,-49.4219\"/>\n<text text-anchor=\"middle\" x=\"325.1892\" y=\"-45.9147\" font-family=\"Times,serif\" font-size=\"14.00\" fill=\"#000000\">c </text>\n</g>\n<!-- B&#45;&gt;B -->\n<g id=\"edge10\" class=\"edge\">\n<title>B&#45;&gt;B</title>\n<path fill=\"none\" stroke=\"#000000\" d=\"M318.1579,-147.7788C316.5954,-157.7397 318.9392,-167.1147 325.1892,-167.1147 329.1931,-167.1147 331.5938,-163.2672 332.3915,-157.8829\"/>\n<polygon fill=\"#000000\" stroke=\"#000000\" points=\"335.8893,-157.718 332.2204,-147.7788 328.8903,-157.8366 335.8893,-157.718\"/>\n<text text-anchor=\"middle\" x=\"325.1892\" y=\"-170.9147\" font-family=\"Times,serif\" font-size=\"14.00\" fill=\"#000000\">s </text>\n</g>\n<!-- F4 -->\n<g id=\"node5\" class=\"node\">\n<title>F4</title>\n<ellipse fill=\"none\" stroke=\"#000000\" cx=\"415.9873\" cy=\"-201.1147\" rx=\"20.6302\" ry=\"20.6302\"/>\n<ellipse fill=\"none\" stroke=\"#000000\" cx=\"415.9873\" cy=\"-201.1147\" rx=\"24.5979\" ry=\"24.5979\"/>\n<text text-anchor=\"middle\" x=\"415.9873\" y=\"-197.4147\" font-family=\"Times,serif\" font-size=\"14.00\" fill=\"#000000\">F4</text>\n</g>\n<!-- B&#45;&gt;F4 -->\n<g id=\"edge12\" class=\"edge\">\n<title>B&#45;&gt;F4</title>\n<path fill=\"none\" stroke=\"#000000\" d=\"M339.7775,-142.3614C352.7548,-152.3662 372.0919,-167.2739 388.0399,-179.5689\"/>\n<polygon fill=\"#000000\" stroke=\"#000000\" points=\"385.9625,-182.3867 396.0191,-185.7204 390.2364,-176.8429 385.9625,-182.3867\"/>\n<text text-anchor=\"middle\" x=\"367.1892\" y=\"-169.9147\" font-family=\"Times,serif\" font-size=\"14.00\" fill=\"#000000\">d </text>\n</g>\n<!-- B&#45;&gt;F3 -->\n<g id=\"edge11\" class=\"edge\">\n<title>B&#45;&gt;F3</title>\n<path fill=\"none\" stroke=\"#000000\" d=\"M341.0714,-122.0032C350.8025,-116.0715 363.2538,-107.8362 373.1892,-99.1147 380.5449,-92.6576 387.8247,-84.9574 394.2372,-77.5956\"/>\n<polygon fill=\"#000000\" stroke=\"#000000\" points=\"397.0324,-79.7105 400.8175,-69.8148 391.6876,-75.1902 397.0324,-79.7105\"/>\n<text text-anchor=\"middle\" x=\"367.1892\" y=\"-111.9147\" font-family=\"Times,serif\" font-size=\"14.00\" fill=\"#000000\">f </text>\n</g>\n<!-- B_I1_I2&#45;&gt;I2 -->\n<g id=\"edge2\" class=\"edge\">\n<title>B_I1_I2&#45;&gt;I2</title>\n<path fill=\"none\" stroke=\"#000000\" d=\"M163.5518,-78.393C172.6815,-70.4563 183.0605,-62.3601 193.4925,-56.1147 199.2815,-52.6489 205.855,-49.6329 212.2085,-47.1116\"/>\n<polygon fill=\"#000000\" stroke=\"#000000\" points=\"213.6877,-50.297 221.8674,-43.5633 211.2738,-43.7263 213.6877,-50.297\"/>\n<text text-anchor=\"middle\" x=\"198.4925\" y=\"-59.9147\" font-family=\"Times,serif\" font-size=\"14.00\" fill=\"#000000\">a </text>\n</g>\n<!-- B_I1_I2&#45;&gt;B -->\n<g id=\"edge3\" class=\"edge\">\n<title>B_I1_I2&#45;&gt;B</title>\n<path fill=\"none\" stroke=\"#000000\" d=\"M175.3689,-113.1621C212.2515,-117.5817 264.8222,-123.8811 296.8835,-127.7229\"/>\n<polygon fill=\"#000000\" stroke=\"#000000\" points=\"296.5725,-131.2106 306.9179,-128.9253 297.4054,-124.2603 296.5725,-131.2106\"/>\n<text text-anchor=\"middle\" x=\"240.3408\" y=\"-126.9147\" font-family=\"Times,serif\" font-size=\"14.00\" fill=\"#000000\">s </text>\n</g>\n<!-- B_I1_I2&#45;&gt;B -->\n<g id=\"edge4\" class=\"edge\">\n<title>B_I1_I2&#45;&gt;B</title>\n<path fill=\"none\" stroke=\"#000000\" d=\"M171.4439,-126.3574C186.6529,-132.6764 204.5439,-138.9626 221.4925,-142.1147 251.0759,-147.6166 259.446,-145.6749 289.1892,-141.1147 292.0744,-140.6723 295.0577,-140.0765 298.0154,-139.3948\"/>\n<polygon fill=\"#000000\" stroke=\"#000000\" points=\"299,-142.7552 307.793,-136.8447 297.2333,-135.9818 299,-142.7552\"/>\n<text text-anchor=\"middle\" x=\"240.3408\" y=\"-149.9147\" font-family=\"Times,serif\" font-size=\"14.00\" fill=\"#000000\">b </text>\n</g>\n<!-- B_I1_I2&#45;&gt;F4 -->\n<g id=\"edge6\" class=\"edge\">\n<title>B_I1_I2&#45;&gt;F4</title>\n<path fill=\"none\" stroke=\"#000000\" d=\"M167.0298,-133.6249C175.498,-139.6266 184.6844,-145.8137 193.4925,-151.1147 239.3894,-178.737 254.617,-180.8342 307.1892,-191.1147 331.5545,-195.8793 359.4452,-198.3859 380.8872,-199.6979\"/>\n<polygon fill=\"#000000\" stroke=\"#000000\" points=\"380.9767,-203.2081 391.1548,-200.2657 381.3633,-196.2188 380.9767,-203.2081\"/>\n<text text-anchor=\"middle\" x=\"283.1892\" y=\"-191.9147\" font-family=\"Times,serif\" font-size=\"14.00\" fill=\"#000000\">d </text>\n</g>\n<!-- B_I1_I2&#45;&gt;F3 -->\n<g id=\"edge5\" class=\"edge\">\n<title>B_I1_I2&#45;&gt;F3</title>\n<path fill=\"none\" stroke=\"#000000\" d=\"M174.8743,-99.6901C222.7392,-89.9856 303.664,-73.5238 373.1892,-59.1147 375.8843,-58.5561 378.6742,-57.9753 381.4782,-57.3897\"/>\n<polygon fill=\"#000000\" stroke=\"#000000\" points=\"382.4797,-60.7559 391.5493,-55.2794 381.044,-53.9047 382.4797,-60.7559\"/>\n<text text-anchor=\"middle\" x=\"283.1892\" y=\"-82.9147\" font-family=\"Times,serif\" font-size=\"14.00\" fill=\"#000000\">f </text>\n</g>\n<!-- B_I1_I2&#45;&gt;F3 -->\n<g id=\"edge7\" class=\"edge\">\n<title>B_I1_I2&#45;&gt;F3</title>\n<path fill=\"none\" stroke=\"#000000\" d=\"M154.829,-71.5555C170.2596,-49.2513 193.2559,-22.6858 221.4925,-10.1147 275.9288,14.1207 345.5237,-12.6073 384.9897,-32.5265\"/>\n<polygon fill=\"#000000\" stroke=\"#000000\" points=\"383.8619,-35.8858 394.3467,-37.4088 387.1001,-29.6798 383.8619,-35.8858\"/>\n<text text-anchor=\"middle\" x=\"283.1892\" y=\"-5.9147\" font-family=\"Times,serif\" font-size=\"14.00\" fill=\"#000000\">c </text>\n</g>\n</g>\n</svg>\n"
          },
          "metadata": {
            "tags": []
          },
          "execution_count": 164
        }
      ]
    },
    {
      "cell_type": "code",
      "metadata": {
        "id": "glyUbO8LCvI_",
        "colab": {
          "base_uri": "https://localhost:8080/"
        },
        "outputId": "e1292b01-b994-4bc6-e8d4-9a5f93a20e76"
      },
      "source": [
        "iso_dfa(dfa1, nfa2dfa(nfa1))"
      ],
      "execution_count": null,
      "outputs": [
        {
          "output_type": "execute_result",
          "data": {
            "text/plain": [
              "True"
            ]
          },
          "metadata": {
            "tags": []
          },
          "execution_count": 165
        }
      ]
    },
    {
      "cell_type": "markdown",
      "metadata": {
        "id": "p0RgegJo1Fai"
      },
      "source": [
        "## 1.2: Reverse nfa1 by hand and name the states in this manner:\n",
        "\n",
        "1) Change F3 to I3\n",
        "\n",
        "2) Change F4 to I4\n",
        "\n",
        "3) Change I1 and I2 to F1 and F2\n",
        "\n",
        "4) Now, reverse the transitions of nfa1, obtaining \"rnfa1\" below\n",
        " "
      ]
    },
    {
      "cell_type": "code",
      "metadata": {
        "id": "qhRWvd9b1Fai"
      },
      "source": [
        "# There is no Jove function to reverse automatically - do it by hand!\n",
        "rnfa1 = md2mc('''\n",
        "NFA\n",
        "\n",
        "B : '' -> F1\n",
        "F2 : a  -> F1\n",
        "\n",
        "I3 : c  -> F2\n",
        "B : b  -> F2\n",
        "\n",
        "B : s  -> B\n",
        "I4 : d  -> B\n",
        "I3 : f  -> B\n",
        "\n",
        "''')"
      ],
      "execution_count": null,
      "outputs": []
    },
    {
      "cell_type": "code",
      "metadata": {
        "id": "8UbDrNhh1Faj",
        "colab": {
          "base_uri": "https://localhost:8080/",
          "height": 168
        },
        "outputId": "6677a137-f544-4484-a78e-76dc0934f1aa"
      },
      "source": [
        "dotObj_nfa(rnfa1)"
      ],
      "execution_count": null,
      "outputs": [
        {
          "output_type": "execute_result",
          "data": {
            "text/plain": [
              "<graphviz.dot.Digraph at 0x7f1d74587ba8>"
            ],
            "image/svg+xml": "<?xml version=\"1.0\" encoding=\"UTF-8\" standalone=\"no\"?>\n<!DOCTYPE svg PUBLIC \"-//W3C//DTD SVG 1.1//EN\"\n \"http://www.w3.org/Graphics/SVG/1.1/DTD/svg11.dtd\">\n<!-- Generated by graphviz version 2.40.1 (20161225.0304)\n -->\n<!-- Title: %3 Pages: 1 -->\n<svg width=\"414pt\" height=\"110pt\"\n viewBox=\"0.00 0.00 413.89 109.65\" xmlns=\"http://www.w3.org/2000/svg\" xmlns:xlink=\"http://www.w3.org/1999/xlink\">\n<g id=\"graph0\" class=\"graph\" transform=\"scale(1 1) rotate(0) translate(4 105.6465)\">\n<title>%3</title>\n<polygon fill=\"#ffffff\" stroke=\"transparent\" points=\"-4,4 -4,-105.6465 409.8893,-105.6465 409.8893,4 -4,4\"/>\n<!-- EMPTY -->\n<g id=\"node1\" class=\"node\">\n<title>EMPTY</title>\n</g>\n<!-- I3 -->\n<g id=\"node2\" class=\"node\">\n<title>I3</title>\n<ellipse fill=\"none\" stroke=\"#000000\" cx=\"109.8483\" cy=\"-74.8483\" rx=\"18.6979\" ry=\"18.6979\"/>\n<text text-anchor=\"middle\" x=\"109.8483\" y=\"-71.1483\" font-family=\"Times,serif\" font-size=\"14.00\" fill=\"#000000\">I3</text>\n</g>\n<!-- EMPTY&#45;&gt;I3 -->\n<g id=\"edge1\" class=\"edge\">\n<title>EMPTY&#45;&gt;I3</title>\n<path fill=\"none\" stroke=\"#000000\" d=\"M54.1276,-55.344C63.111,-58.4885 73.1168,-61.9909 82.143,-65.1504\"/>\n<polygon fill=\"#000000\" stroke=\"#000000\" points=\"81.216,-68.5341 91.8108,-68.5345 83.5287,-61.9272 81.216,-68.5341\"/>\n</g>\n<!-- I4 -->\n<g id=\"node4\" class=\"node\">\n<title>I4</title>\n<ellipse fill=\"none\" stroke=\"#000000\" cx=\"109.8483\" cy=\"-18.8483\" rx=\"18.6979\" ry=\"18.6979\"/>\n<text text-anchor=\"middle\" x=\"109.8483\" y=\"-15.1483\" font-family=\"Times,serif\" font-size=\"14.00\" fill=\"#000000\">I4</text>\n</g>\n<!-- EMPTY&#45;&gt;I4 -->\n<g id=\"edge2\" class=\"edge\">\n<title>EMPTY&#45;&gt;I4</title>\n<path fill=\"none\" stroke=\"#000000\" d=\"M54.1276,-37.0075C63.111,-34.0799 73.1168,-30.819 82.143,-27.8774\"/>\n<polygon fill=\"#000000\" stroke=\"#000000\" points=\"83.3875,-31.1531 91.8108,-24.7267 81.2185,-24.4976 83.3875,-31.1531\"/>\n</g>\n<!-- B -->\n<g id=\"node3\" class=\"node\">\n<title>B</title>\n<ellipse fill=\"none\" stroke=\"#000000\" cx=\"194.6967\" cy=\"-18.8483\" rx=\"18\" ry=\"18\"/>\n<text text-anchor=\"middle\" x=\"194.6967\" y=\"-15.1483\" font-family=\"Times,serif\" font-size=\"14.00\" fill=\"#000000\">B</text>\n</g>\n<!-- I3&#45;&gt;B -->\n<g id=\"edge9\" class=\"edge\">\n<title>I3&#45;&gt;B</title>\n<path fill=\"none\" stroke=\"#000000\" d=\"M125.8076,-64.3152C138.6084,-55.8666 156.7615,-43.8856 171.2196,-34.3432\"/>\n<polygon fill=\"#000000\" stroke=\"#000000\" points=\"173.2452,-37.1999 179.6634,-28.7703 169.3893,-31.3576 173.2452,-37.1999\"/>\n<text text-anchor=\"middle\" x=\"152.6967\" y=\"-54.6483\" font-family=\"Times,serif\" font-size=\"14.00\" fill=\"#000000\">f </text>\n</g>\n<!-- F2 -->\n<g id=\"node5\" class=\"node\">\n<title>F2</title>\n<ellipse fill=\"none\" stroke=\"#000000\" cx=\"285.4948\" cy=\"-76.8483\" rx=\"20.6302\" ry=\"20.6302\"/>\n<ellipse fill=\"none\" stroke=\"#000000\" cx=\"285.4948\" cy=\"-76.8483\" rx=\"24.5979\" ry=\"24.5979\"/>\n<text text-anchor=\"middle\" x=\"285.4948\" y=\"-73.1483\" font-family=\"Times,serif\" font-size=\"14.00\" fill=\"#000000\">F2</text>\n</g>\n<!-- I3&#45;&gt;F2 -->\n<g id=\"edge5\" class=\"edge\">\n<title>I3&#45;&gt;F2</title>\n<path fill=\"none\" stroke=\"#000000\" d=\"M128.8522,-76.2886C142.2235,-77.2277 160.5432,-78.3655 176.6967,-78.8483 201.2509,-79.5823 228.9309,-79.0547 250.2263,-78.3577\"/>\n<polygon fill=\"#000000\" stroke=\"#000000\" points=\"250.558,-81.8482 260.4274,-77.9952 250.3093,-74.8526 250.558,-81.8482\"/>\n<text text-anchor=\"middle\" x=\"194.6967\" y=\"-83.6483\" font-family=\"Times,serif\" font-size=\"14.00\" fill=\"#000000\">c </text>\n</g>\n<!-- B&#45;&gt;B -->\n<g id=\"edge7\" class=\"edge\">\n<title>B&#45;&gt;B</title>\n<path fill=\"none\" stroke=\"#000000\" d=\"M187.3138,-35.5124C185.6732,-45.4733 188.1342,-54.8483 194.6967,-54.8483 198.9008,-54.8483 201.4216,-51.0008 202.2591,-45.6166\"/>\n<polygon fill=\"#000000\" stroke=\"#000000\" points=\"205.7568,-45.4486 202.0795,-35.5124 198.7579,-45.5731 205.7568,-45.4486\"/>\n<text text-anchor=\"middle\" x=\"194.6967\" y=\"-58.6483\" font-family=\"Times,serif\" font-size=\"14.00\" fill=\"#000000\">s </text>\n</g>\n<!-- B&#45;&gt;F2 -->\n<g id=\"edge6\" class=\"edge\">\n<title>B&#45;&gt;F2</title>\n<path fill=\"none\" stroke=\"#000000\" d=\"M210.0993,-28.6872C222.6187,-36.6843 240.6465,-48.2001 255.9346,-57.9658\"/>\n<polygon fill=\"#000000\" stroke=\"#000000\" points=\"254.2455,-61.04 264.557,-63.4737 258.0138,-55.1408 254.2455,-61.04\"/>\n<text text-anchor=\"middle\" x=\"236.6967\" y=\"-51.6483\" font-family=\"Times,serif\" font-size=\"14.00\" fill=\"#000000\">b </text>\n</g>\n<!-- F1 -->\n<g id=\"node6\" class=\"node\">\n<title>F1</title>\n<ellipse fill=\"none\" stroke=\"#000000\" cx=\"381.0911\" cy=\"-34.8483\" rx=\"20.6302\" ry=\"20.6302\"/>\n<ellipse fill=\"none\" stroke=\"#000000\" cx=\"381.0911\" cy=\"-34.8483\" rx=\"24.5979\" ry=\"24.5979\"/>\n<text text-anchor=\"middle\" x=\"381.0911\" y=\"-31.1483\" font-family=\"Times,serif\" font-size=\"14.00\" fill=\"#000000\">F1</text>\n</g>\n<!-- B&#45;&gt;F1 -->\n<g id=\"edge3\" class=\"edge\">\n<title>B&#45;&gt;F1</title>\n<path fill=\"none\" stroke=\"#000000\" d=\"M212.7268,-20.1352C235.4779,-21.7858 275.8045,-24.8011 310.293,-27.8483 321.9735,-28.8804 334.7274,-30.1096 346.1521,-31.2479\"/>\n<polygon fill=\"#000000\" stroke=\"#000000\" points=\"345.9014,-34.7403 356.2017,-32.2595 346.6025,-27.7755 345.9014,-34.7403\"/>\n<text text-anchor=\"middle\" x=\"285.4948\" y=\"-31.6483\" font-family=\"Times,serif\" font-size=\"14.00\" fill=\"#000000\">&#39;&#39; </text>\n</g>\n<!-- I4&#45;&gt;B -->\n<g id=\"edge8\" class=\"edge\">\n<title>I4&#45;&gt;B</title>\n<path fill=\"none\" stroke=\"#000000\" d=\"M129.1017,-18.8483C140.1442,-18.8483 154.2078,-18.8483 166.4787,-18.8483\"/>\n<polygon fill=\"#000000\" stroke=\"#000000\" points=\"166.6798,-22.3484 176.6798,-18.8483 166.6798,-15.3484 166.6798,-22.3484\"/>\n<text text-anchor=\"middle\" x=\"152.6967\" y=\"-22.6483\" font-family=\"Times,serif\" font-size=\"14.00\" fill=\"#000000\">d </text>\n</g>\n<!-- F2&#45;&gt;F1 -->\n<g id=\"edge4\" class=\"edge\">\n<title>F2&#45;&gt;F1</title>\n<path fill=\"none\" stroke=\"#000000\" d=\"M308.636,-66.6813C320.7306,-61.3676 335.7255,-54.7796 348.9309,-48.9779\"/>\n<polygon fill=\"#000000\" stroke=\"#000000\" points=\"350.4155,-52.1485 358.163,-44.9217 347.5998,-45.7398 350.4155,-52.1485\"/>\n<text text-anchor=\"middle\" x=\"333.293\" y=\"-61.6483\" font-family=\"Times,serif\" font-size=\"14.00\" fill=\"#000000\">a </text>\n</g>\n</g>\n</svg>\n"
          },
          "metadata": {
            "tags": []
          },
          "execution_count": 167
        }
      ]
    },
    {
      "cell_type": "code",
      "metadata": {
        "id": "lNvtz_C51Faj",
        "colab": {
          "base_uri": "https://localhost:8080/",
          "height": 202
        },
        "outputId": "fd6648f7-93b5-4df3-d7ed-9081de8825f6"
      },
      "source": [
        "dotObj_nfa(nfa1)\r\n"
      ],
      "execution_count": null,
      "outputs": [
        {
          "output_type": "execute_result",
          "data": {
            "text/plain": [
              "<graphviz.dot.Digraph at 0x7f1d745b46d8>"
            ],
            "image/svg+xml": "<?xml version=\"1.0\" encoding=\"UTF-8\" standalone=\"no\"?>\n<!DOCTYPE svg PUBLIC \"-//W3C//DTD SVG 1.1//EN\"\n \"http://www.w3.org/Graphics/SVG/1.1/DTD/svg11.dtd\">\n<!-- Generated by graphviz version 2.40.1 (20161225.0304)\n -->\n<!-- Title: %3 Pages: 1 -->\n<svg width=\"402pt\" height=\"136pt\"\n viewBox=\"0.00 0.00 401.99 135.60\" xmlns=\"http://www.w3.org/2000/svg\" xmlns:xlink=\"http://www.w3.org/1999/xlink\">\n<g id=\"graph0\" class=\"graph\" transform=\"scale(1 1) rotate(0) translate(4 131.5963)\">\n<title>%3</title>\n<polygon fill=\"#ffffff\" stroke=\"transparent\" points=\"-4,4 -4,-131.5963 397.9896,-131.5963 397.9896,4 -4,4\"/>\n<!-- EMPTY -->\n<g id=\"node1\" class=\"node\">\n<title>EMPTY</title>\n</g>\n<!-- I2 -->\n<g id=\"node2\" class=\"node\">\n<title>I2</title>\n<ellipse fill=\"none\" stroke=\"#000000\" cx=\"193.545\" cy=\"-81.7982\" rx=\"18.6979\" ry=\"18.6979\"/>\n<text text-anchor=\"middle\" x=\"193.545\" y=\"-78.0982\" font-family=\"Times,serif\" font-size=\"14.00\" fill=\"#000000\">I2</text>\n</g>\n<!-- EMPTY&#45;&gt;I2 -->\n<g id=\"edge1\" class=\"edge\">\n<title>EMPTY&#45;&gt;I2</title>\n<path fill=\"none\" stroke=\"#000000\" d=\"M54.129,-66.7302C84.4711,-70.0096 133.4281,-75.3008 164.5205,-78.6612\"/>\n<polygon fill=\"#000000\" stroke=\"#000000\" points=\"164.3952,-82.168 174.7135,-79.7629 165.1475,-75.2085 164.3952,-82.168\"/>\n</g>\n<!-- I1 -->\n<g id=\"node3\" class=\"node\">\n<title>I1</title>\n<ellipse fill=\"none\" stroke=\"#000000\" cx=\"109.8483\" cy=\"-40.7982\" rx=\"18.6979\" ry=\"18.6979\"/>\n<text text-anchor=\"middle\" x=\"109.8483\" y=\"-37.0982\" font-family=\"Times,serif\" font-size=\"14.00\" fill=\"#000000\">I1</text>\n</g>\n<!-- EMPTY&#45;&gt;I1 -->\n<g id=\"edge2\" class=\"edge\">\n<title>EMPTY&#45;&gt;I1</title>\n<path fill=\"none\" stroke=\"#000000\" d=\"M54.1276,-56.2671C62.9466,-53.8188 72.7508,-51.097 81.6463,-48.6275\"/>\n<polygon fill=\"#000000\" stroke=\"#000000\" points=\"82.8586,-51.9234 91.5579,-45.8759 80.9861,-45.1785 82.8586,-51.9234\"/>\n</g>\n<!-- B -->\n<g id=\"node4\" class=\"node\">\n<title>B</title>\n<ellipse fill=\"none\" stroke=\"#000000\" cx=\"278.3933\" cy=\"-24.7982\" rx=\"18\" ry=\"18\"/>\n<text text-anchor=\"middle\" x=\"278.3933\" y=\"-21.0982\" font-family=\"Times,serif\" font-size=\"14.00\" fill=\"#000000\">B</text>\n</g>\n<!-- I2&#45;&gt;B -->\n<g id=\"edge6\" class=\"edge\">\n<title>I2&#45;&gt;B</title>\n<path fill=\"none\" stroke=\"#000000\" d=\"M209.5043,-71.0769C222.3051,-62.4775 240.4581,-50.2825 254.9162,-40.5698\"/>\n<polygon fill=\"#000000\" stroke=\"#000000\" points=\"257.0109,-43.379 263.36,-34.8973 253.1074,-37.5685 257.0109,-43.379\"/>\n<text text-anchor=\"middle\" x=\"236.3933\" y=\"-60.5982\" font-family=\"Times,serif\" font-size=\"14.00\" fill=\"#000000\">b </text>\n</g>\n<!-- F3 -->\n<g id=\"node5\" class=\"node\">\n<title>F3</title>\n<ellipse fill=\"none\" stroke=\"#000000\" cx=\"369.1915\" cy=\"-102.7982\" rx=\"20.6302\" ry=\"20.6302\"/>\n<ellipse fill=\"none\" stroke=\"#000000\" cx=\"369.1915\" cy=\"-102.7982\" rx=\"24.5979\" ry=\"24.5979\"/>\n<text text-anchor=\"middle\" x=\"369.1915\" y=\"-99.0982\" font-family=\"Times,serif\" font-size=\"14.00\" fill=\"#000000\">F3</text>\n</g>\n<!-- I2&#45;&gt;F3 -->\n<g id=\"edge5\" class=\"edge\">\n<title>I2&#45;&gt;F3</title>\n<path fill=\"none\" stroke=\"#000000\" d=\"M212.3422,-84.0455C241.3398,-87.5124 297.4593,-94.222 334.1115,-98.6041\"/>\n<polygon fill=\"#000000\" stroke=\"#000000\" points=\"334.0069,-102.1164 344.3517,-99.8284 334.8379,-95.1659 334.0069,-102.1164\"/>\n<text text-anchor=\"middle\" x=\"278.3933\" y=\"-97.5982\" font-family=\"Times,serif\" font-size=\"14.00\" fill=\"#000000\">c </text>\n</g>\n<!-- I1&#45;&gt;I2 -->\n<g id=\"edge4\" class=\"edge\">\n<title>I1&#45;&gt;I2</title>\n<path fill=\"none\" stroke=\"#000000\" d=\"M127.9903,-46.8522C136.8226,-50.0288 147.495,-54.2115 156.6967,-58.7982 160.8326,-60.8598 165.1,-63.2524 169.1988,-65.6993\"/>\n<polygon fill=\"#000000\" stroke=\"#000000\" points=\"167.4451,-68.7302 177.7862,-71.0355 171.1397,-62.7846 167.4451,-68.7302\"/>\n<text text-anchor=\"middle\" x=\"151.6967\" y=\"-62.5982\" font-family=\"Times,serif\" font-size=\"14.00\" fill=\"#000000\">a </text>\n</g>\n<!-- I1&#45;&gt;B -->\n<g id=\"edge3\" class=\"edge\">\n<title>I1&#45;&gt;B</title>\n<path fill=\"none\" stroke=\"#000000\" d=\"M128.855,-38.9939C158.3749,-36.1915 215.4247,-30.7758 249.8904,-27.5039\"/>\n<polygon fill=\"#000000\" stroke=\"#000000\" points=\"250.599,-30.9525 260.2235,-26.523 249.9374,-23.9838 250.599,-30.9525\"/>\n<text text-anchor=\"middle\" x=\"193.545\" y=\"-38.5982\" font-family=\"Times,serif\" font-size=\"14.00\" fill=\"#000000\">&#39;&#39; </text>\n</g>\n<!-- B&#45;&gt;B -->\n<g id=\"edge7\" class=\"edge\">\n<title>B&#45;&gt;B</title>\n<path fill=\"none\" stroke=\"#000000\" d=\"M271.3621,-41.4622C269.7996,-51.4232 272.1433,-60.7982 278.3933,-60.7982 282.3972,-60.7982 284.798,-56.9507 285.5956,-51.5664\"/>\n<polygon fill=\"#000000\" stroke=\"#000000\" points=\"289.0935,-51.4015 285.4246,-41.4622 282.0945,-51.5201 289.0935,-51.4015\"/>\n<text text-anchor=\"middle\" x=\"278.3933\" y=\"-64.5982\" font-family=\"Times,serif\" font-size=\"14.00\" fill=\"#000000\">s </text>\n</g>\n<!-- B&#45;&gt;F3 -->\n<g id=\"edge9\" class=\"edge\">\n<title>B&#45;&gt;F3</title>\n<path fill=\"none\" stroke=\"#000000\" d=\"M292.1836,-36.6447C305.4854,-48.0715 325.9742,-65.6724 342.4747,-79.8471\"/>\n<polygon fill=\"#000000\" stroke=\"#000000\" points=\"340.3394,-82.627 350.2056,-86.4884 344.9008,-77.3172 340.3394,-82.627\"/>\n<text text-anchor=\"middle\" x=\"320.3933\" y=\"-67.5982\" font-family=\"Times,serif\" font-size=\"14.00\" fill=\"#000000\">f </text>\n</g>\n<!-- F4 -->\n<g id=\"node6\" class=\"node\">\n<title>F4</title>\n<ellipse fill=\"none\" stroke=\"#000000\" cx=\"369.1915\" cy=\"-24.7982\" rx=\"20.6302\" ry=\"20.6302\"/>\n<ellipse fill=\"none\" stroke=\"#000000\" cx=\"369.1915\" cy=\"-24.7982\" rx=\"24.5979\" ry=\"24.5979\"/>\n<text text-anchor=\"middle\" x=\"369.1915\" y=\"-21.0982\" font-family=\"Times,serif\" font-size=\"14.00\" fill=\"#000000\">F4</text>\n</g>\n<!-- B&#45;&gt;F4 -->\n<g id=\"edge8\" class=\"edge\">\n<title>B&#45;&gt;F4</title>\n<path fill=\"none\" stroke=\"#000000\" d=\"M296.7677,-24.7982C307.4554,-24.7982 321.2849,-24.7982 333.9906,-24.7982\"/>\n<polygon fill=\"#000000\" stroke=\"#000000\" points=\"334.3055,-28.2983 344.3054,-24.7982 334.3054,-21.2983 334.3055,-28.2983\"/>\n<text text-anchor=\"middle\" x=\"320.3933\" y=\"-28.5982\" font-family=\"Times,serif\" font-size=\"14.00\" fill=\"#000000\">d </text>\n</g>\n</g>\n</svg>\n"
          },
          "metadata": {
            "tags": []
          },
          "execution_count": 176
        }
      ]
    },
    {
      "cell_type": "markdown",
      "metadata": {
        "id": "h3BNQFbW1Fak"
      },
      "source": [
        "## 1.3: Inspect and conclude that rnfa1 is truly the reverse of nfa1\n",
        "### List the first six strings in numeric order and check that they have been correctly reversed. State the string in the original machine and explain (by specifying a path as a sequence of states) that this string is present in the reversed machine also.\n",
        "\n",
        "|Accepted String | Original Machine | Reversed Machine|\n",
        "|---|---|---|\n",
        "|c| I2->F3| I3->F2|\n",
        "|d| I1->B->F4| I4->B->F1|\n",
        "|f| I1->B->F3| I3->B->F1|\n",
        "|ac| I1->I2->F3| I3->F2->F1|\n",
        "|bd| I2->B->F4| I4->B->F2|\n",
        "|bf| I2->B->F3| I3->B->F2|\n",
        "\n",
        " \n",
        " "
      ]
    },
    {
      "cell_type": "markdown",
      "metadata": {
        "id": "Pln4gmGl1Fak"
      },
      "source": [
        "# Problem 2: Extraction of RE by Inspection and other things before it\n"
      ]
    },
    {
      "cell_type": "markdown",
      "metadata": {
        "id": "KfUW_PBz1Fak"
      },
      "source": [
        "## 2.1: Totalize dfa1 to obtain the totalized machine, then explain totalize_dfa in a few sentences below, by looking at the Delta before and After"
      ]
    },
    {
      "cell_type": "code",
      "metadata": {
        "id": "Vq0a77k-1Fal"
      },
      "source": [
        "tdfa1 = totalize_dfa(dfa1)"
      ],
      "execution_count": null,
      "outputs": []
    },
    {
      "cell_type": "code",
      "metadata": {
        "id": "Js9K3LOUEJZY",
        "colab": {
          "base_uri": "https://localhost:8080/",
          "height": 456
        },
        "outputId": "904d501f-6717-445b-ae3c-cda883a828cb"
      },
      "source": [
        "dotObj_dfa_w_bh(tdfa1, FuseEdges=True)"
      ],
      "execution_count": null,
      "outputs": [
        {
          "output_type": "execute_result",
          "data": {
            "text/plain": [
              "<graphviz.dot.Digraph at 0x7f1d745d2278>"
            ],
            "image/svg+xml": "<?xml version=\"1.0\" encoding=\"UTF-8\" standalone=\"no\"?>\n<!DOCTYPE svg PUBLIC \"-//W3C//DTD SVG 1.1//EN\"\n \"http://www.w3.org/Graphics/SVG/1.1/DTD/svg11.dtd\">\n<!-- Generated by graphviz version 2.40.1 (20161225.0304)\n -->\n<!-- Title: %3 Pages: 1 -->\n<svg width=\"624pt\" height=\"326pt\"\n viewBox=\"0.00 0.00 624.08 326.25\" xmlns=\"http://www.w3.org/2000/svg\" xmlns:xlink=\"http://www.w3.org/1999/xlink\">\n<g id=\"graph0\" class=\"graph\" transform=\"scale(1 1) rotate(0) translate(4 322.2529)\">\n<title>%3</title>\n<polygon fill=\"#ffffff\" stroke=\"transparent\" points=\"-4,4 -4,-322.2529 620.083,-322.2529 620.083,4 -4,4\"/>\n<!-- EMPTY -->\n<g id=\"node1\" class=\"node\">\n<title>EMPTY</title>\n</g>\n<!-- I1_I2_B -->\n<g id=\"node2\" class=\"node\">\n<title>I1_I2_B</title>\n<ellipse fill=\"none\" stroke=\"#000000\" cx=\"133.2463\" cy=\"-153.2529\" rx=\"42.4939\" ry=\"42.4939\"/>\n<text text-anchor=\"middle\" x=\"133.2463\" y=\"-149.5529\" font-family=\"Times,serif\" font-size=\"14.00\" fill=\"#000000\">I1_I2_B</text>\n</g>\n<!-- EMPTY&#45;&gt;I1_I2_B -->\n<g id=\"edge1\" class=\"edge\">\n<title>EMPTY&#45;&gt;I1_I2_B</title>\n<path fill=\"none\" stroke=\"#000000\" d=\"M54.0853,-153.2529C62.3026,-153.2529 71.6242,-153.2529 80.9135,-153.2529\"/>\n<polygon fill=\"#000000\" stroke=\"#000000\" points=\"80.927,-156.753 90.927,-153.2529 80.9269,-149.753 80.927,-156.753\"/>\n</g>\n<!-- wasI2 -->\n<g id=\"node4\" class=\"node\">\n<title>wasI2</title>\n<ellipse fill=\"none\" stroke=\"#000000\" cx=\"253.9896\" cy=\"-192.2529\" rx=\"32.4942\" ry=\"32.4942\"/>\n<text text-anchor=\"middle\" x=\"253.9896\" y=\"-188.5529\" font-family=\"Times,serif\" font-size=\"14.00\" fill=\"#000000\">wasI2</text>\n</g>\n<!-- I1_I2_B&#45;&gt;wasI2 -->\n<g id=\"edge2\" class=\"edge\">\n<title>I1_I2_B&#45;&gt;wasI2</title>\n<path fill=\"none\" stroke=\"#000000\" d=\"M173.452,-166.2393C186.1188,-170.3307 200.1236,-174.8542 212.8541,-178.9662\"/>\n<polygon fill=\"#000000\" stroke=\"#000000\" points=\"212.1489,-182.4164 222.7406,-182.1595 214.3005,-175.7552 212.1489,-182.4164\"/>\n<text text-anchor=\"middle\" x=\"198.4925\" y=\"-178.0529\" font-family=\"Times,serif\" font-size=\"14.00\" fill=\"#000000\">a </text>\n</g>\n<!-- B -->\n<g id=\"node5\" class=\"node\">\n<title>B</title>\n<ellipse fill=\"none\" stroke=\"#000000\" cx=\"354.4867\" cy=\"-108.2529\" rx=\"18\" ry=\"18\"/>\n<text text-anchor=\"middle\" x=\"354.4867\" y=\"-104.5529\" font-family=\"Times,serif\" font-size=\"14.00\" fill=\"#000000\">B</text>\n</g>\n<!-- I1_I2_B&#45;&gt;B -->\n<g id=\"edge3\" class=\"edge\">\n<title>I1_I2_B&#45;&gt;B</title>\n<path fill=\"none\" stroke=\"#000000\" d=\"M172.151,-136.7639C187.2988,-130.9785 204.9623,-124.9955 221.4925,-121.2529 256.8908,-113.2384 298.6924,-110.1644 325.8512,-108.9857\"/>\n<polygon fill=\"#000000\" stroke=\"#000000\" points=\"326.3259,-112.4704 336.1878,-108.5984 326.0638,-105.4753 326.3259,-112.4704\"/>\n<text text-anchor=\"middle\" x=\"253.9896\" y=\"-140.0529\" font-family=\"Times,serif\" font-size=\"14.00\" fill=\"#000000\">s </text>\n<text text-anchor=\"middle\" x=\"253.9896\" y=\"-125.0529\" font-family=\"Times,serif\" font-size=\"14.00\" fill=\"#000000\"> b </text>\n</g>\n<!-- F3 -->\n<g id=\"node6\" class=\"node\">\n<title>F3</title>\n<ellipse fill=\"none\" stroke=\"#000000\" cx=\"449.2849\" cy=\"-195.2529\" rx=\"20.6302\" ry=\"20.6302\"/>\n<ellipse fill=\"none\" stroke=\"#000000\" cx=\"449.2849\" cy=\"-195.2529\" rx=\"24.5979\" ry=\"24.5979\"/>\n<text text-anchor=\"middle\" x=\"449.2849\" y=\"-191.5529\" font-family=\"Times,serif\" font-size=\"14.00\" fill=\"#000000\">F3</text>\n</g>\n<!-- I1_I2_B&#45;&gt;F3 -->\n<g id=\"edge4\" class=\"edge\">\n<title>I1_I2_B&#45;&gt;F3</title>\n<path fill=\"none\" stroke=\"#000000\" d=\"M162.3241,-183.9272C178.6625,-200.0024 200.0373,-219.2108 221.4925,-233.2529 290.4003,-278.3521 309.9642,-291.9798 390.4867,-309.2529 397.4397,-310.7444 400.6412,-313.3023 406.4867,-309.2529 420.0702,-299.8433 433.0235,-259.415 441.051,-229.3604\"/>\n<polygon fill=\"#000000\" stroke=\"#000000\" points=\"444.4531,-230.1841 443.5783,-219.6254 437.6777,-228.4251 444.4531,-230.1841\"/>\n<text text-anchor=\"middle\" x=\"311.4867\" y=\"-307.0529\" font-family=\"Times,serif\" font-size=\"14.00\" fill=\"#000000\">f </text>\n<text text-anchor=\"middle\" x=\"311.4867\" y=\"-292.0529\" font-family=\"Times,serif\" font-size=\"14.00\" fill=\"#000000\"> c </text>\n</g>\n<!-- F4 -->\n<g id=\"node7\" class=\"node\">\n<title>F4</title>\n<ellipse fill=\"none\" stroke=\"#000000\" cx=\"449.2849\" cy=\"-44.2529\" rx=\"20.6302\" ry=\"20.6302\"/>\n<ellipse fill=\"none\" stroke=\"#000000\" cx=\"449.2849\" cy=\"-44.2529\" rx=\"24.5979\" ry=\"24.5979\"/>\n<text text-anchor=\"middle\" x=\"449.2849\" y=\"-40.5529\" font-family=\"Times,serif\" font-size=\"14.00\" fill=\"#000000\">F4</text>\n</g>\n<!-- I1_I2_B&#45;&gt;F4 -->\n<g id=\"edge5\" class=\"edge\">\n<title>I1_I2_B&#45;&gt;F4</title>\n<path fill=\"none\" stroke=\"#000000\" d=\"M169.7889,-131.9954C185.3713,-123.5172 203.9704,-114.1535 221.4925,-107.2529 288.0802,-81.0291 369.6707,-61.295 414.9126,-51.3801\"/>\n<polygon fill=\"#000000\" stroke=\"#000000\" points=\"415.764,-54.777 424.799,-49.2435 414.2853,-47.935 415.764,-54.777\"/>\n<text text-anchor=\"middle\" x=\"311.4867\" y=\"-83.0529\" font-family=\"Times,serif\" font-size=\"14.00\" fill=\"#000000\">d </text>\n</g>\n<!-- BH -->\n<g id=\"node3\" class=\"node\">\n<title>BH</title>\n<ellipse fill=\"none\" stroke=\"#000000\" cx=\"571.083\" cy=\"-125.2529\" rx=\"24.0958\" ry=\"24.0958\"/>\n<text text-anchor=\"middle\" x=\"571.083\" y=\"-121.5529\" font-family=\"Times,serif\" font-size=\"14.00\" fill=\"#000000\">BH</text>\n</g>\n<!-- BH&#45;&gt;BH -->\n<g id=\"edge15\" class=\"edge\">\n<title>BH&#45;&gt;BH</title>\n<path fill=\"none\" stroke=\"#000000\" d=\"M558.4996,-146.0219C556.3612,-157.1567 560.5557,-167.3008 571.083,-167.3008 578.1561,-167.3008 582.3704,-162.7216 583.726,-156.3393\"/>\n<polygon fill=\"#000000\" stroke=\"#000000\" points=\"587.2242,-156.0015 583.6665,-146.0219 580.2243,-156.0419 587.2242,-156.0015\"/>\n<text text-anchor=\"middle\" x=\"571.083\" y=\"-246.1008\" font-family=\"Times,serif\" font-size=\"14.00\" fill=\"#000000\">a </text>\n<text text-anchor=\"middle\" x=\"571.083\" y=\"-231.1008\" font-family=\"Times,serif\" font-size=\"14.00\" fill=\"#000000\"> s </text>\n<text text-anchor=\"middle\" x=\"571.083\" y=\"-216.1008\" font-family=\"Times,serif\" font-size=\"14.00\" fill=\"#000000\"> b </text>\n<text text-anchor=\"middle\" x=\"571.083\" y=\"-201.1008\" font-family=\"Times,serif\" font-size=\"14.00\" fill=\"#000000\"> f </text>\n<text text-anchor=\"middle\" x=\"571.083\" y=\"-186.1008\" font-family=\"Times,serif\" font-size=\"14.00\" fill=\"#000000\"> d </text>\n<text text-anchor=\"middle\" x=\"571.083\" y=\"-171.1008\" font-family=\"Times,serif\" font-size=\"14.00\" fill=\"#000000\"> c </text>\n</g>\n<!-- wasI2&#45;&gt;BH -->\n<g id=\"edge12\" class=\"edge\">\n<title>wasI2&#45;&gt;BH</title>\n<path fill=\"none\" stroke=\"#000000\" d=\"M282.4442,-208.2587C331.8226,-233.6951 435.0826,-276.3767 508.083,-234.2529 535.9935,-218.1476 552.6513,-184.4416 561.7604,-158.7488\"/>\n<polygon fill=\"#000000\" stroke=\"#000000\" points=\"565.1676,-159.5941 564.9976,-149.0006 558.5243,-157.3879 565.1676,-159.5941\"/>\n<text text-anchor=\"middle\" x=\"398.4867\" y=\"-298.0529\" font-family=\"Times,serif\" font-size=\"14.00\" fill=\"#000000\">a </text>\n<text text-anchor=\"middle\" x=\"398.4867\" y=\"-283.0529\" font-family=\"Times,serif\" font-size=\"14.00\" fill=\"#000000\"> f </text>\n<text text-anchor=\"middle\" x=\"398.4867\" y=\"-268.0529\" font-family=\"Times,serif\" font-size=\"14.00\" fill=\"#000000\"> s </text>\n<text text-anchor=\"middle\" x=\"398.4867\" y=\"-253.0529\" font-family=\"Times,serif\" font-size=\"14.00\" fill=\"#000000\"> d </text>\n</g>\n<!-- wasI2&#45;&gt;B -->\n<g id=\"edge11\" class=\"edge\">\n<title>wasI2&#45;&gt;B</title>\n<path fill=\"none\" stroke=\"#000000\" d=\"M279.09,-171.2728C295.6257,-157.4516 317.0568,-139.5386 332.8415,-126.345\"/>\n<polygon fill=\"#000000\" stroke=\"#000000\" points=\"335.0973,-129.0211 340.5254,-119.9224 330.608,-123.6502 335.0973,-129.0211\"/>\n<text text-anchor=\"middle\" x=\"311.4867\" y=\"-151.0529\" font-family=\"Times,serif\" font-size=\"14.00\" fill=\"#000000\">b </text>\n</g>\n<!-- wasI2&#45;&gt;F3 -->\n<g id=\"edge10\" class=\"edge\">\n<title>wasI2&#45;&gt;F3</title>\n<path fill=\"none\" stroke=\"#000000\" d=\"M286.6777,-192.755C321.9599,-193.297 377.9494,-194.1571 414.154,-194.7133\"/>\n<polygon fill=\"#000000\" stroke=\"#000000\" points=\"414.2057,-198.2144 424.2583,-194.8685 414.3132,-191.2152 414.2057,-198.2144\"/>\n<text text-anchor=\"middle\" x=\"354.4867\" y=\"-197.0529\" font-family=\"Times,serif\" font-size=\"14.00\" fill=\"#000000\">c </text>\n</g>\n<!-- B&#45;&gt;BH -->\n<g id=\"edge9\" class=\"edge\">\n<title>B&#45;&gt;BH</title>\n<path fill=\"none\" stroke=\"#000000\" d=\"M372.7329,-109.3271C396.1956,-110.7419 438.1965,-113.3883 474.083,-116.2529 494.8966,-117.9143 518.1945,-120.0664 536.74,-121.8495\"/>\n<polygon fill=\"#000000\" stroke=\"#000000\" points=\"536.4899,-125.3416 546.7811,-122.8234 537.1657,-118.3743 536.4899,-125.3416\"/>\n<text text-anchor=\"middle\" x=\"449.2849\" y=\"-150.0529\" font-family=\"Times,serif\" font-size=\"14.00\" fill=\"#000000\">a </text>\n<text text-anchor=\"middle\" x=\"449.2849\" y=\"-135.0529\" font-family=\"Times,serif\" font-size=\"14.00\" fill=\"#000000\"> c </text>\n<text text-anchor=\"middle\" x=\"449.2849\" y=\"-120.0529\" font-family=\"Times,serif\" font-size=\"14.00\" fill=\"#000000\"> b </text>\n</g>\n<!-- B&#45;&gt;B -->\n<g id=\"edge6\" class=\"edge\">\n<title>B&#45;&gt;B</title>\n<path fill=\"none\" stroke=\"#000000\" d=\"M347.1039,-124.917C345.4633,-134.8779 347.9242,-144.2529 354.4867,-144.2529 358.6908,-144.2529 361.2117,-140.4054 362.0492,-135.0212\"/>\n<polygon fill=\"#000000\" stroke=\"#000000\" points=\"365.5469,-134.8531 361.8695,-124.917 358.548,-134.9776 365.5469,-134.8531\"/>\n<text text-anchor=\"middle\" x=\"354.4867\" y=\"-148.0529\" font-family=\"Times,serif\" font-size=\"14.00\" fill=\"#000000\">s </text>\n</g>\n<!-- B&#45;&gt;F3 -->\n<g id=\"edge8\" class=\"edge\">\n<title>B&#45;&gt;F3</title>\n<path fill=\"none\" stroke=\"#000000\" d=\"M368.069,-120.7179C382.3648,-133.8377 405.2241,-154.8166 423.054,-171.1798\"/>\n<polygon fill=\"#000000\" stroke=\"#000000\" points=\"421.1093,-174.1456 430.8434,-178.3285 425.8424,-168.9882 421.1093,-174.1456\"/>\n<text text-anchor=\"middle\" x=\"398.4867\" y=\"-158.0529\" font-family=\"Times,serif\" font-size=\"14.00\" fill=\"#000000\">f </text>\n</g>\n<!-- B&#45;&gt;F4 -->\n<g id=\"edge7\" class=\"edge\">\n<title>B&#45;&gt;F4</title>\n<path fill=\"none\" stroke=\"#000000\" d=\"M368.0679,-95.997C374.6317,-90.3216 382.7487,-83.6555 390.4867,-78.2529 399.2609,-72.127 409.2031,-66.0716 418.3827,-60.8066\"/>\n<polygon fill=\"#000000\" stroke=\"#000000\" points=\"420.2331,-63.7817 427.2366,-55.8318 416.804,-57.679 420.2331,-63.7817\"/>\n<text text-anchor=\"middle\" x=\"398.4867\" y=\"-82.0529\" font-family=\"Times,serif\" font-size=\"14.00\" fill=\"#000000\">d </text>\n</g>\n<!-- F3&#45;&gt;BH -->\n<g id=\"edge13\" class=\"edge\">\n<title>F3&#45;&gt;BH</title>\n<path fill=\"none\" stroke=\"#000000\" d=\"M462.3321,-174.0624C469.811,-163.6062 480.093,-151.6755 492.083,-144.2529 505.4021,-136.0076 522.031,-131.3404 536.5921,-128.6986\"/>\n<polygon fill=\"#000000\" stroke=\"#000000\" points=\"537.4129,-132.1129 546.7525,-127.1108 536.332,-125.1969 537.4129,-132.1129\"/>\n<text text-anchor=\"middle\" x=\"500.083\" y=\"-223.0529\" font-family=\"Times,serif\" font-size=\"14.00\" fill=\"#000000\">a </text>\n<text text-anchor=\"middle\" x=\"500.083\" y=\"-208.0529\" font-family=\"Times,serif\" font-size=\"14.00\" fill=\"#000000\"> s </text>\n<text text-anchor=\"middle\" x=\"500.083\" y=\"-193.0529\" font-family=\"Times,serif\" font-size=\"14.00\" fill=\"#000000\"> b </text>\n<text text-anchor=\"middle\" x=\"500.083\" y=\"-178.0529\" font-family=\"Times,serif\" font-size=\"14.00\" fill=\"#000000\"> f </text>\n<text text-anchor=\"middle\" x=\"500.083\" y=\"-163.0529\" font-family=\"Times,serif\" font-size=\"14.00\" fill=\"#000000\"> d </text>\n<text text-anchor=\"middle\" x=\"500.083\" y=\"-148.0529\" font-family=\"Times,serif\" font-size=\"14.00\" fill=\"#000000\"> c </text>\n</g>\n<!-- F4&#45;&gt;BH -->\n<g id=\"edge14\" class=\"edge\">\n<title>F4&#45;&gt;BH</title>\n<path fill=\"none\" stroke=\"#000000\" d=\"M463.2142,-23.6974C474.9263,-9.0791 492.2466,6.3925 508.083,-3.2529 539.4982,-22.3869 555.9309,-62.7795 564.0291,-91.8513\"/>\n<polygon fill=\"#000000\" stroke=\"#000000\" points=\"560.6608,-92.8061 566.5568,-101.6088 567.4371,-91.0506 560.6608,-92.8061\"/>\n<text text-anchor=\"middle\" x=\"500.083\" y=\"-82.0529\" font-family=\"Times,serif\" font-size=\"14.00\" fill=\"#000000\">a </text>\n<text text-anchor=\"middle\" x=\"500.083\" y=\"-67.0529\" font-family=\"Times,serif\" font-size=\"14.00\" fill=\"#000000\"> s </text>\n<text text-anchor=\"middle\" x=\"500.083\" y=\"-52.0529\" font-family=\"Times,serif\" font-size=\"14.00\" fill=\"#000000\"> b </text>\n<text text-anchor=\"middle\" x=\"500.083\" y=\"-37.0529\" font-family=\"Times,serif\" font-size=\"14.00\" fill=\"#000000\"> f </text>\n<text text-anchor=\"middle\" x=\"500.083\" y=\"-22.0529\" font-family=\"Times,serif\" font-size=\"14.00\" fill=\"#000000\"> d </text>\n<text text-anchor=\"middle\" x=\"500.083\" y=\"-7.0529\" font-family=\"Times,serif\" font-size=\"14.00\" fill=\"#000000\"> c </text>\n</g>\n</g>\n</svg>\n"
          },
          "metadata": {
            "tags": []
          },
          "execution_count": 171
        }
      ]
    },
    {
      "cell_type": "markdown",
      "metadata": {
        "id": "eMdiPwL01Fal"
      },
      "source": [
        "### Your explanation of totalize_dfa:\n",
        "\n",
        "* It totalizes the $\\delta$, by pointing all missing symbols for each state in Q to a new black hole state.\n",
        "* The black hole state has a transition for each symbol in $\\Sigma$ to itself.\n"
      ]
    },
    {
      "cell_type": "markdown",
      "metadata": {
        "id": "27sayTkz1Fal"
      },
      "source": [
        "##  Compare the dfa with and without the black hole:"
      ]
    },
    {
      "cell_type": "code",
      "metadata": {
        "id": "rDOSZT6p1Fal",
        "colab": {
          "base_uri": "https://localhost:8080/",
          "height": 313
        },
        "outputId": "323275e1-3382-4970-a7df-5cd2ee9bd9c5"
      },
      "source": [
        "dotObj_dfa(tdfa1, FuseEdges=True)"
      ],
      "execution_count": null,
      "outputs": [
        {
          "output_type": "execute_result",
          "data": {
            "text/plain": [
              "<graphviz.dot.Digraph at 0x7f1d745d2c18>"
            ],
            "image/svg+xml": "<?xml version=\"1.0\" encoding=\"UTF-8\" standalone=\"no\"?>\n<!DOCTYPE svg PUBLIC \"-//W3C//DTD SVG 1.1//EN\"\n \"http://www.w3.org/Graphics/SVG/1.1/DTD/svg11.dtd\">\n<!-- Generated by graphviz version 2.40.1 (20161225.0304)\n -->\n<!-- Title: %3 Pages: 1 -->\n<svg width=\"478pt\" height=\"219pt\"\n viewBox=\"0.00 0.00 478.08 218.80\" xmlns=\"http://www.w3.org/2000/svg\" xmlns:xlink=\"http://www.w3.org/1999/xlink\">\n<g id=\"graph0\" class=\"graph\" transform=\"scale(1 1) rotate(0) translate(4 214.7982)\">\n<title>%3</title>\n<polygon fill=\"#ffffff\" stroke=\"transparent\" points=\"-4,4 -4,-214.7982 474.083,-214.7982 474.083,4 -4,4\"/>\n<!-- EMPTY -->\n<g id=\"node1\" class=\"node\">\n<title>EMPTY</title>\n</g>\n<!-- I1_I2_B -->\n<g id=\"node2\" class=\"node\">\n<title>I1_I2_B</title>\n<ellipse fill=\"none\" stroke=\"#000000\" cx=\"133.2463\" cy=\"-90.7982\" rx=\"42.4939\" ry=\"42.4939\"/>\n<text text-anchor=\"middle\" x=\"133.2463\" y=\"-87.0982\" font-family=\"Times,serif\" font-size=\"14.00\" fill=\"#000000\">I1_I2_B</text>\n</g>\n<!-- EMPTY&#45;&gt;I1_I2_B -->\n<g id=\"edge1\" class=\"edge\">\n<title>EMPTY&#45;&gt;I1_I2_B</title>\n<path fill=\"none\" stroke=\"#000000\" d=\"M54.0853,-90.7982C62.3026,-90.7982 71.6242,-90.7982 80.9135,-90.7982\"/>\n<polygon fill=\"#000000\" stroke=\"#000000\" points=\"80.927,-94.2983 90.927,-90.7982 80.9269,-87.2983 80.927,-94.2983\"/>\n</g>\n<!-- wasI2 -->\n<g id=\"node3\" class=\"node\">\n<title>wasI2</title>\n<ellipse fill=\"none\" stroke=\"#000000\" cx=\"253.9896\" cy=\"-130.7982\" rx=\"32.4942\" ry=\"32.4942\"/>\n<text text-anchor=\"middle\" x=\"253.9896\" y=\"-127.0982\" font-family=\"Times,serif\" font-size=\"14.00\" fill=\"#000000\">wasI2</text>\n</g>\n<!-- I1_I2_B&#45;&gt;wasI2 -->\n<g id=\"edge2\" class=\"edge\">\n<title>I1_I2_B&#45;&gt;wasI2</title>\n<path fill=\"none\" stroke=\"#000000\" d=\"M173.452,-104.1176C186.3535,-108.3916 200.6432,-113.1255 213.5606,-117.4048\"/>\n<polygon fill=\"#000000\" stroke=\"#000000\" points=\"212.5321,-120.7511 223.1254,-120.5734 214.7334,-114.1062 212.5321,-120.7511\"/>\n<text text-anchor=\"middle\" x=\"198.4925\" y=\"-116.5982\" font-family=\"Times,serif\" font-size=\"14.00\" fill=\"#000000\">a </text>\n</g>\n<!-- B -->\n<g id=\"node4\" class=\"node\">\n<title>B</title>\n<ellipse fill=\"none\" stroke=\"#000000\" cx=\"354.4867\" cy=\"-50.7982\" rx=\"18\" ry=\"18\"/>\n<text text-anchor=\"middle\" x=\"354.4867\" y=\"-47.0982\" font-family=\"Times,serif\" font-size=\"14.00\" fill=\"#000000\">B</text>\n</g>\n<!-- I1_I2_B&#45;&gt;B -->\n<g id=\"edge3\" class=\"edge\">\n<title>I1_I2_B&#45;&gt;B</title>\n<path fill=\"none\" stroke=\"#000000\" d=\"M172.5759,-74.4229C187.6243,-68.8411 205.1094,-63.1652 221.4925,-59.7982 256.956,-52.5097 298.7431,-50.7683 325.8807,-50.5161\"/>\n<polygon fill=\"#000000\" stroke=\"#000000\" points=\"326.2188,-54.0152 336.2085,-50.486 326.1983,-47.0152 326.2188,-54.0152\"/>\n<text text-anchor=\"middle\" x=\"253.9896\" y=\"-78.5982\" font-family=\"Times,serif\" font-size=\"14.00\" fill=\"#000000\">s </text>\n<text text-anchor=\"middle\" x=\"253.9896\" y=\"-63.5982\" font-family=\"Times,serif\" font-size=\"14.00\" fill=\"#000000\"> b </text>\n</g>\n<!-- F3 -->\n<g id=\"node5\" class=\"node\">\n<title>F3</title>\n<ellipse fill=\"none\" stroke=\"#000000\" cx=\"445.2849\" cy=\"-137.7982\" rx=\"20.6302\" ry=\"20.6302\"/>\n<ellipse fill=\"none\" stroke=\"#000000\" cx=\"445.2849\" cy=\"-137.7982\" rx=\"24.5979\" ry=\"24.5979\"/>\n<text text-anchor=\"middle\" x=\"445.2849\" y=\"-134.0982\" font-family=\"Times,serif\" font-size=\"14.00\" fill=\"#000000\">F3</text>\n</g>\n<!-- I1_I2_B&#45;&gt;F3 -->\n<g id=\"edge4\" class=\"edge\">\n<title>I1_I2_B&#45;&gt;F3</title>\n<path fill=\"none\" stroke=\"#000000\" d=\"M159.1386,-124.473C174.9709,-142.2058 196.8814,-162.2155 221.4925,-171.7982 286.5199,-197.1176 369.0097,-170.9538 413.4503,-152.546\"/>\n<polygon fill=\"#000000\" stroke=\"#000000\" points=\"415.0353,-155.675 422.8566,-148.5281 412.2855,-149.2376 415.0353,-155.675\"/>\n<text text-anchor=\"middle\" x=\"311.4867\" y=\"-199.5982\" font-family=\"Times,serif\" font-size=\"14.00\" fill=\"#000000\">f </text>\n<text text-anchor=\"middle\" x=\"311.4867\" y=\"-184.5982\" font-family=\"Times,serif\" font-size=\"14.00\" fill=\"#000000\"> c </text>\n</g>\n<!-- F4 -->\n<g id=\"node6\" class=\"node\">\n<title>F4</title>\n<ellipse fill=\"none\" stroke=\"#000000\" cx=\"445.2849\" cy=\"-24.7982\" rx=\"20.6302\" ry=\"20.6302\"/>\n<ellipse fill=\"none\" stroke=\"#000000\" cx=\"445.2849\" cy=\"-24.7982\" rx=\"24.5979\" ry=\"24.5979\"/>\n<text text-anchor=\"middle\" x=\"445.2849\" y=\"-21.0982\" font-family=\"Times,serif\" font-size=\"14.00\" fill=\"#000000\">F4</text>\n</g>\n<!-- I1_I2_B&#45;&gt;F4 -->\n<g id=\"edge5\" class=\"edge\">\n<title>I1_I2_B&#45;&gt;F4</title>\n<path fill=\"none\" stroke=\"#000000\" d=\"M170.5613,-70.8581C178.0863,-67.047 185.9903,-63.1915 193.4925,-59.7982 253.2044,-32.7895 271.3257,-30.7995 336.4867,-23.7982 352.3952,-22.0889 356.4871,-23.6883 372.4867,-23.7982 384.8043,-23.8828 398.2933,-24.0479 410.277,-24.2199\"/>\n<polygon fill=\"#000000\" stroke=\"#000000\" points=\"410.3018,-27.7206 420.3532,-24.3711 410.4069,-20.7214 410.3018,-27.7206\"/>\n<text text-anchor=\"middle\" x=\"311.4867\" y=\"-31.5982\" font-family=\"Times,serif\" font-size=\"14.00\" fill=\"#000000\">d </text>\n</g>\n<!-- wasI2&#45;&gt;B -->\n<g id=\"edge10\" class=\"edge\">\n<title>wasI2&#45;&gt;B</title>\n<path fill=\"none\" stroke=\"#000000\" d=\"M279.6093,-110.4038C295.8997,-97.436 316.7783,-80.8157 332.3481,-68.4214\"/>\n<polygon fill=\"#000000\" stroke=\"#000000\" points=\"334.745,-70.987 340.389,-62.0205 330.3854,-65.5103 334.745,-70.987\"/>\n<text text-anchor=\"middle\" x=\"311.4867\" y=\"-91.5982\" font-family=\"Times,serif\" font-size=\"14.00\" fill=\"#000000\">b </text>\n</g>\n<!-- wasI2&#45;&gt;F3 -->\n<g id=\"edge9\" class=\"edge\">\n<title>wasI2&#45;&gt;F3</title>\n<path fill=\"none\" stroke=\"#000000\" d=\"M286.8744,-132.0015C321.2419,-133.2591 374.9649,-135.225 410.1496,-136.5125\"/>\n<polygon fill=\"#000000\" stroke=\"#000000\" points=\"410.3106,-140.0206 420.4319,-136.8887 410.5666,-133.0253 410.3106,-140.0206\"/>\n<text text-anchor=\"middle\" x=\"354.4867\" y=\"-138.5982\" font-family=\"Times,serif\" font-size=\"14.00\" fill=\"#000000\">c </text>\n</g>\n<!-- B&#45;&gt;B -->\n<g id=\"edge6\" class=\"edge\">\n<title>B&#45;&gt;B</title>\n<path fill=\"none\" stroke=\"#000000\" d=\"M347.1039,-67.4622C345.4633,-77.4232 347.9242,-86.7982 354.4867,-86.7982 358.6908,-86.7982 361.2117,-82.9507 362.0492,-77.5664\"/>\n<polygon fill=\"#000000\" stroke=\"#000000\" points=\"365.5469,-77.3984 361.8695,-67.4622 358.548,-77.5229 365.5469,-77.3984\"/>\n<text text-anchor=\"middle\" x=\"354.4867\" y=\"-90.5982\" font-family=\"Times,serif\" font-size=\"14.00\" fill=\"#000000\">s </text>\n</g>\n<!-- B&#45;&gt;F3 -->\n<g id=\"edge8\" class=\"edge\">\n<title>B&#45;&gt;F3</title>\n<path fill=\"none\" stroke=\"#000000\" d=\"M367.4959,-63.2631C381.1034,-76.3014 402.8116,-97.1015 419.8421,-113.4196\"/>\n<polygon fill=\"#000000\" stroke=\"#000000\" points=\"417.6499,-116.1665 427.2918,-120.5578 422.4928,-111.1121 417.6499,-116.1665\"/>\n<text text-anchor=\"middle\" x=\"396.4867\" y=\"-97.5982\" font-family=\"Times,serif\" font-size=\"14.00\" fill=\"#000000\">f </text>\n</g>\n<!-- B&#45;&gt;F4 -->\n<g id=\"edge7\" class=\"edge\">\n<title>B&#45;&gt;F4</title>\n<path fill=\"none\" stroke=\"#000000\" d=\"M371.9935,-45.7851C383.1633,-42.5866 398.0109,-38.335 411.4205,-34.4952\"/>\n<polygon fill=\"#000000\" stroke=\"#000000\" points=\"412.6599,-37.7811 421.31,-31.6634 410.7328,-31.0515 412.6599,-37.7811\"/>\n<text text-anchor=\"middle\" x=\"396.4867\" y=\"-44.5982\" font-family=\"Times,serif\" font-size=\"14.00\" fill=\"#000000\">d </text>\n</g>\n</g>\n</svg>\n"
          },
          "metadata": {
            "tags": []
          },
          "execution_count": 174
        }
      ]
    },
    {
      "cell_type": "code",
      "metadata": {
        "id": "dWbXpki11Fam",
        "colab": {
          "base_uri": "https://localhost:8080/",
          "height": 456
        },
        "outputId": "2ab1034a-a93e-4c87-ad8f-7695a79f4bc2"
      },
      "source": [
        "dotObj_dfa_w_bh(tdfa1, FuseEdges=True)"
      ],
      "execution_count": null,
      "outputs": [
        {
          "output_type": "execute_result",
          "data": {
            "text/plain": [
              "<graphviz.dot.Digraph at 0x7f1d745d29e8>"
            ],
            "image/svg+xml": "<?xml version=\"1.0\" encoding=\"UTF-8\" standalone=\"no\"?>\n<!DOCTYPE svg PUBLIC \"-//W3C//DTD SVG 1.1//EN\"\n \"http://www.w3.org/Graphics/SVG/1.1/DTD/svg11.dtd\">\n<!-- Generated by graphviz version 2.40.1 (20161225.0304)\n -->\n<!-- Title: %3 Pages: 1 -->\n<svg width=\"624pt\" height=\"326pt\"\n viewBox=\"0.00 0.00 624.08 326.25\" xmlns=\"http://www.w3.org/2000/svg\" xmlns:xlink=\"http://www.w3.org/1999/xlink\">\n<g id=\"graph0\" class=\"graph\" transform=\"scale(1 1) rotate(0) translate(4 322.2529)\">\n<title>%3</title>\n<polygon fill=\"#ffffff\" stroke=\"transparent\" points=\"-4,4 -4,-322.2529 620.083,-322.2529 620.083,4 -4,4\"/>\n<!-- EMPTY -->\n<g id=\"node1\" class=\"node\">\n<title>EMPTY</title>\n</g>\n<!-- I1_I2_B -->\n<g id=\"node2\" class=\"node\">\n<title>I1_I2_B</title>\n<ellipse fill=\"none\" stroke=\"#000000\" cx=\"133.2463\" cy=\"-153.2529\" rx=\"42.4939\" ry=\"42.4939\"/>\n<text text-anchor=\"middle\" x=\"133.2463\" y=\"-149.5529\" font-family=\"Times,serif\" font-size=\"14.00\" fill=\"#000000\">I1_I2_B</text>\n</g>\n<!-- EMPTY&#45;&gt;I1_I2_B -->\n<g id=\"edge1\" class=\"edge\">\n<title>EMPTY&#45;&gt;I1_I2_B</title>\n<path fill=\"none\" stroke=\"#000000\" d=\"M54.0853,-153.2529C62.3026,-153.2529 71.6242,-153.2529 80.9135,-153.2529\"/>\n<polygon fill=\"#000000\" stroke=\"#000000\" points=\"80.927,-156.753 90.927,-153.2529 80.9269,-149.753 80.927,-156.753\"/>\n</g>\n<!-- wasI2 -->\n<g id=\"node4\" class=\"node\">\n<title>wasI2</title>\n<ellipse fill=\"none\" stroke=\"#000000\" cx=\"253.9896\" cy=\"-192.2529\" rx=\"32.4942\" ry=\"32.4942\"/>\n<text text-anchor=\"middle\" x=\"253.9896\" y=\"-188.5529\" font-family=\"Times,serif\" font-size=\"14.00\" fill=\"#000000\">wasI2</text>\n</g>\n<!-- I1_I2_B&#45;&gt;wasI2 -->\n<g id=\"edge2\" class=\"edge\">\n<title>I1_I2_B&#45;&gt;wasI2</title>\n<path fill=\"none\" stroke=\"#000000\" d=\"M173.452,-166.2393C186.1188,-170.3307 200.1236,-174.8542 212.8541,-178.9662\"/>\n<polygon fill=\"#000000\" stroke=\"#000000\" points=\"212.1489,-182.4164 222.7406,-182.1595 214.3005,-175.7552 212.1489,-182.4164\"/>\n<text text-anchor=\"middle\" x=\"198.4925\" y=\"-178.0529\" font-family=\"Times,serif\" font-size=\"14.00\" fill=\"#000000\">a </text>\n</g>\n<!-- B -->\n<g id=\"node5\" class=\"node\">\n<title>B</title>\n<ellipse fill=\"none\" stroke=\"#000000\" cx=\"354.4867\" cy=\"-108.2529\" rx=\"18\" ry=\"18\"/>\n<text text-anchor=\"middle\" x=\"354.4867\" y=\"-104.5529\" font-family=\"Times,serif\" font-size=\"14.00\" fill=\"#000000\">B</text>\n</g>\n<!-- I1_I2_B&#45;&gt;B -->\n<g id=\"edge3\" class=\"edge\">\n<title>I1_I2_B&#45;&gt;B</title>\n<path fill=\"none\" stroke=\"#000000\" d=\"M172.151,-136.7639C187.2988,-130.9785 204.9623,-124.9955 221.4925,-121.2529 256.8908,-113.2384 298.6924,-110.1644 325.8512,-108.9857\"/>\n<polygon fill=\"#000000\" stroke=\"#000000\" points=\"326.3259,-112.4704 336.1878,-108.5984 326.0638,-105.4753 326.3259,-112.4704\"/>\n<text text-anchor=\"middle\" x=\"253.9896\" y=\"-140.0529\" font-family=\"Times,serif\" font-size=\"14.00\" fill=\"#000000\">s </text>\n<text text-anchor=\"middle\" x=\"253.9896\" y=\"-125.0529\" font-family=\"Times,serif\" font-size=\"14.00\" fill=\"#000000\"> b </text>\n</g>\n<!-- F3 -->\n<g id=\"node6\" class=\"node\">\n<title>F3</title>\n<ellipse fill=\"none\" stroke=\"#000000\" cx=\"449.2849\" cy=\"-195.2529\" rx=\"20.6302\" ry=\"20.6302\"/>\n<ellipse fill=\"none\" stroke=\"#000000\" cx=\"449.2849\" cy=\"-195.2529\" rx=\"24.5979\" ry=\"24.5979\"/>\n<text text-anchor=\"middle\" x=\"449.2849\" y=\"-191.5529\" font-family=\"Times,serif\" font-size=\"14.00\" fill=\"#000000\">F3</text>\n</g>\n<!-- I1_I2_B&#45;&gt;F3 -->\n<g id=\"edge4\" class=\"edge\">\n<title>I1_I2_B&#45;&gt;F3</title>\n<path fill=\"none\" stroke=\"#000000\" d=\"M162.3241,-183.9272C178.6625,-200.0024 200.0373,-219.2108 221.4925,-233.2529 290.4003,-278.3521 309.9642,-291.9798 390.4867,-309.2529 397.4397,-310.7444 400.6412,-313.3023 406.4867,-309.2529 420.0702,-299.8433 433.0235,-259.415 441.051,-229.3604\"/>\n<polygon fill=\"#000000\" stroke=\"#000000\" points=\"444.4531,-230.1841 443.5783,-219.6254 437.6777,-228.4251 444.4531,-230.1841\"/>\n<text text-anchor=\"middle\" x=\"311.4867\" y=\"-307.0529\" font-family=\"Times,serif\" font-size=\"14.00\" fill=\"#000000\">f </text>\n<text text-anchor=\"middle\" x=\"311.4867\" y=\"-292.0529\" font-family=\"Times,serif\" font-size=\"14.00\" fill=\"#000000\"> c </text>\n</g>\n<!-- F4 -->\n<g id=\"node7\" class=\"node\">\n<title>F4</title>\n<ellipse fill=\"none\" stroke=\"#000000\" cx=\"449.2849\" cy=\"-44.2529\" rx=\"20.6302\" ry=\"20.6302\"/>\n<ellipse fill=\"none\" stroke=\"#000000\" cx=\"449.2849\" cy=\"-44.2529\" rx=\"24.5979\" ry=\"24.5979\"/>\n<text text-anchor=\"middle\" x=\"449.2849\" y=\"-40.5529\" font-family=\"Times,serif\" font-size=\"14.00\" fill=\"#000000\">F4</text>\n</g>\n<!-- I1_I2_B&#45;&gt;F4 -->\n<g id=\"edge5\" class=\"edge\">\n<title>I1_I2_B&#45;&gt;F4</title>\n<path fill=\"none\" stroke=\"#000000\" d=\"M169.7889,-131.9954C185.3713,-123.5172 203.9704,-114.1535 221.4925,-107.2529 288.0802,-81.0291 369.6707,-61.295 414.9126,-51.3801\"/>\n<polygon fill=\"#000000\" stroke=\"#000000\" points=\"415.764,-54.777 424.799,-49.2435 414.2853,-47.935 415.764,-54.777\"/>\n<text text-anchor=\"middle\" x=\"311.4867\" y=\"-83.0529\" font-family=\"Times,serif\" font-size=\"14.00\" fill=\"#000000\">d </text>\n</g>\n<!-- BH -->\n<g id=\"node3\" class=\"node\">\n<title>BH</title>\n<ellipse fill=\"none\" stroke=\"#000000\" cx=\"571.083\" cy=\"-125.2529\" rx=\"24.0958\" ry=\"24.0958\"/>\n<text text-anchor=\"middle\" x=\"571.083\" y=\"-121.5529\" font-family=\"Times,serif\" font-size=\"14.00\" fill=\"#000000\">BH</text>\n</g>\n<!-- BH&#45;&gt;BH -->\n<g id=\"edge15\" class=\"edge\">\n<title>BH&#45;&gt;BH</title>\n<path fill=\"none\" stroke=\"#000000\" d=\"M558.4996,-146.0219C556.3612,-157.1567 560.5557,-167.3008 571.083,-167.3008 578.1561,-167.3008 582.3704,-162.7216 583.726,-156.3393\"/>\n<polygon fill=\"#000000\" stroke=\"#000000\" points=\"587.2242,-156.0015 583.6665,-146.0219 580.2243,-156.0419 587.2242,-156.0015\"/>\n<text text-anchor=\"middle\" x=\"571.083\" y=\"-246.1008\" font-family=\"Times,serif\" font-size=\"14.00\" fill=\"#000000\">a </text>\n<text text-anchor=\"middle\" x=\"571.083\" y=\"-231.1008\" font-family=\"Times,serif\" font-size=\"14.00\" fill=\"#000000\"> s </text>\n<text text-anchor=\"middle\" x=\"571.083\" y=\"-216.1008\" font-family=\"Times,serif\" font-size=\"14.00\" fill=\"#000000\"> b </text>\n<text text-anchor=\"middle\" x=\"571.083\" y=\"-201.1008\" font-family=\"Times,serif\" font-size=\"14.00\" fill=\"#000000\"> f </text>\n<text text-anchor=\"middle\" x=\"571.083\" y=\"-186.1008\" font-family=\"Times,serif\" font-size=\"14.00\" fill=\"#000000\"> d </text>\n<text text-anchor=\"middle\" x=\"571.083\" y=\"-171.1008\" font-family=\"Times,serif\" font-size=\"14.00\" fill=\"#000000\"> c </text>\n</g>\n<!-- wasI2&#45;&gt;BH -->\n<g id=\"edge12\" class=\"edge\">\n<title>wasI2&#45;&gt;BH</title>\n<path fill=\"none\" stroke=\"#000000\" d=\"M282.4442,-208.2587C331.8226,-233.6951 435.0826,-276.3767 508.083,-234.2529 535.9935,-218.1476 552.6513,-184.4416 561.7604,-158.7488\"/>\n<polygon fill=\"#000000\" stroke=\"#000000\" points=\"565.1676,-159.5941 564.9976,-149.0006 558.5243,-157.3879 565.1676,-159.5941\"/>\n<text text-anchor=\"middle\" x=\"398.4867\" y=\"-298.0529\" font-family=\"Times,serif\" font-size=\"14.00\" fill=\"#000000\">a </text>\n<text text-anchor=\"middle\" x=\"398.4867\" y=\"-283.0529\" font-family=\"Times,serif\" font-size=\"14.00\" fill=\"#000000\"> f </text>\n<text text-anchor=\"middle\" x=\"398.4867\" y=\"-268.0529\" font-family=\"Times,serif\" font-size=\"14.00\" fill=\"#000000\"> s </text>\n<text text-anchor=\"middle\" x=\"398.4867\" y=\"-253.0529\" font-family=\"Times,serif\" font-size=\"14.00\" fill=\"#000000\"> d </text>\n</g>\n<!-- wasI2&#45;&gt;B -->\n<g id=\"edge11\" class=\"edge\">\n<title>wasI2&#45;&gt;B</title>\n<path fill=\"none\" stroke=\"#000000\" d=\"M279.09,-171.2728C295.6257,-157.4516 317.0568,-139.5386 332.8415,-126.345\"/>\n<polygon fill=\"#000000\" stroke=\"#000000\" points=\"335.0973,-129.0211 340.5254,-119.9224 330.608,-123.6502 335.0973,-129.0211\"/>\n<text text-anchor=\"middle\" x=\"311.4867\" y=\"-151.0529\" font-family=\"Times,serif\" font-size=\"14.00\" fill=\"#000000\">b </text>\n</g>\n<!-- wasI2&#45;&gt;F3 -->\n<g id=\"edge10\" class=\"edge\">\n<title>wasI2&#45;&gt;F3</title>\n<path fill=\"none\" stroke=\"#000000\" d=\"M286.6777,-192.755C321.9599,-193.297 377.9494,-194.1571 414.154,-194.7133\"/>\n<polygon fill=\"#000000\" stroke=\"#000000\" points=\"414.2057,-198.2144 424.2583,-194.8685 414.3132,-191.2152 414.2057,-198.2144\"/>\n<text text-anchor=\"middle\" x=\"354.4867\" y=\"-197.0529\" font-family=\"Times,serif\" font-size=\"14.00\" fill=\"#000000\">c </text>\n</g>\n<!-- B&#45;&gt;BH -->\n<g id=\"edge9\" class=\"edge\">\n<title>B&#45;&gt;BH</title>\n<path fill=\"none\" stroke=\"#000000\" d=\"M372.7329,-109.3271C396.1956,-110.7419 438.1965,-113.3883 474.083,-116.2529 494.8966,-117.9143 518.1945,-120.0664 536.74,-121.8495\"/>\n<polygon fill=\"#000000\" stroke=\"#000000\" points=\"536.4899,-125.3416 546.7811,-122.8234 537.1657,-118.3743 536.4899,-125.3416\"/>\n<text text-anchor=\"middle\" x=\"449.2849\" y=\"-150.0529\" font-family=\"Times,serif\" font-size=\"14.00\" fill=\"#000000\">a </text>\n<text text-anchor=\"middle\" x=\"449.2849\" y=\"-135.0529\" font-family=\"Times,serif\" font-size=\"14.00\" fill=\"#000000\"> c </text>\n<text text-anchor=\"middle\" x=\"449.2849\" y=\"-120.0529\" font-family=\"Times,serif\" font-size=\"14.00\" fill=\"#000000\"> b </text>\n</g>\n<!-- B&#45;&gt;B -->\n<g id=\"edge6\" class=\"edge\">\n<title>B&#45;&gt;B</title>\n<path fill=\"none\" stroke=\"#000000\" d=\"M347.1039,-124.917C345.4633,-134.8779 347.9242,-144.2529 354.4867,-144.2529 358.6908,-144.2529 361.2117,-140.4054 362.0492,-135.0212\"/>\n<polygon fill=\"#000000\" stroke=\"#000000\" points=\"365.5469,-134.8531 361.8695,-124.917 358.548,-134.9776 365.5469,-134.8531\"/>\n<text text-anchor=\"middle\" x=\"354.4867\" y=\"-148.0529\" font-family=\"Times,serif\" font-size=\"14.00\" fill=\"#000000\">s </text>\n</g>\n<!-- B&#45;&gt;F3 -->\n<g id=\"edge8\" class=\"edge\">\n<title>B&#45;&gt;F3</title>\n<path fill=\"none\" stroke=\"#000000\" d=\"M368.069,-120.7179C382.3648,-133.8377 405.2241,-154.8166 423.054,-171.1798\"/>\n<polygon fill=\"#000000\" stroke=\"#000000\" points=\"421.1093,-174.1456 430.8434,-178.3285 425.8424,-168.9882 421.1093,-174.1456\"/>\n<text text-anchor=\"middle\" x=\"398.4867\" y=\"-158.0529\" font-family=\"Times,serif\" font-size=\"14.00\" fill=\"#000000\">f </text>\n</g>\n<!-- B&#45;&gt;F4 -->\n<g id=\"edge7\" class=\"edge\">\n<title>B&#45;&gt;F4</title>\n<path fill=\"none\" stroke=\"#000000\" d=\"M368.0679,-95.997C374.6317,-90.3216 382.7487,-83.6555 390.4867,-78.2529 399.2609,-72.127 409.2031,-66.0716 418.3827,-60.8066\"/>\n<polygon fill=\"#000000\" stroke=\"#000000\" points=\"420.2331,-63.7817 427.2366,-55.8318 416.804,-57.679 420.2331,-63.7817\"/>\n<text text-anchor=\"middle\" x=\"398.4867\" y=\"-82.0529\" font-family=\"Times,serif\" font-size=\"14.00\" fill=\"#000000\">d </text>\n</g>\n<!-- F3&#45;&gt;BH -->\n<g id=\"edge13\" class=\"edge\">\n<title>F3&#45;&gt;BH</title>\n<path fill=\"none\" stroke=\"#000000\" d=\"M462.3321,-174.0624C469.811,-163.6062 480.093,-151.6755 492.083,-144.2529 505.4021,-136.0076 522.031,-131.3404 536.5921,-128.6986\"/>\n<polygon fill=\"#000000\" stroke=\"#000000\" points=\"537.4129,-132.1129 546.7525,-127.1108 536.332,-125.1969 537.4129,-132.1129\"/>\n<text text-anchor=\"middle\" x=\"500.083\" y=\"-223.0529\" font-family=\"Times,serif\" font-size=\"14.00\" fill=\"#000000\">a </text>\n<text text-anchor=\"middle\" x=\"500.083\" y=\"-208.0529\" font-family=\"Times,serif\" font-size=\"14.00\" fill=\"#000000\"> s </text>\n<text text-anchor=\"middle\" x=\"500.083\" y=\"-193.0529\" font-family=\"Times,serif\" font-size=\"14.00\" fill=\"#000000\"> b </text>\n<text text-anchor=\"middle\" x=\"500.083\" y=\"-178.0529\" font-family=\"Times,serif\" font-size=\"14.00\" fill=\"#000000\"> f </text>\n<text text-anchor=\"middle\" x=\"500.083\" y=\"-163.0529\" font-family=\"Times,serif\" font-size=\"14.00\" fill=\"#000000\"> d </text>\n<text text-anchor=\"middle\" x=\"500.083\" y=\"-148.0529\" font-family=\"Times,serif\" font-size=\"14.00\" fill=\"#000000\"> c </text>\n</g>\n<!-- F4&#45;&gt;BH -->\n<g id=\"edge14\" class=\"edge\">\n<title>F4&#45;&gt;BH</title>\n<path fill=\"none\" stroke=\"#000000\" d=\"M463.2142,-23.6974C474.9263,-9.0791 492.2466,6.3925 508.083,-3.2529 539.4982,-22.3869 555.9309,-62.7795 564.0291,-91.8513\"/>\n<polygon fill=\"#000000\" stroke=\"#000000\" points=\"560.6608,-92.8061 566.5568,-101.6088 567.4371,-91.0506 560.6608,-92.8061\"/>\n<text text-anchor=\"middle\" x=\"500.083\" y=\"-82.0529\" font-family=\"Times,serif\" font-size=\"14.00\" fill=\"#000000\">a </text>\n<text text-anchor=\"middle\" x=\"500.083\" y=\"-67.0529\" font-family=\"Times,serif\" font-size=\"14.00\" fill=\"#000000\"> s </text>\n<text text-anchor=\"middle\" x=\"500.083\" y=\"-52.0529\" font-family=\"Times,serif\" font-size=\"14.00\" fill=\"#000000\"> b </text>\n<text text-anchor=\"middle\" x=\"500.083\" y=\"-37.0529\" font-family=\"Times,serif\" font-size=\"14.00\" fill=\"#000000\"> f </text>\n<text text-anchor=\"middle\" x=\"500.083\" y=\"-22.0529\" font-family=\"Times,serif\" font-size=\"14.00\" fill=\"#000000\"> d </text>\n<text text-anchor=\"middle\" x=\"500.083\" y=\"-7.0529\" font-family=\"Times,serif\" font-size=\"14.00\" fill=\"#000000\"> c </text>\n</g>\n</g>\n</svg>\n"
          },
          "metadata": {
            "tags": []
          },
          "execution_count": 175
        }
      ]
    },
    {
      "cell_type": "markdown",
      "metadata": {
        "id": "285Y2wis1Fam"
      },
      "source": [
        "### Was it a good idea to not always show black-holes?\n",
        "\n",
        "* In what circumstances might you still need to apply the _w_bh view option?\n",
        "An open-ended answer - anything you may think up can be a valuable piece of feedback.\n",
        "\n",
        "Answer: It's easy to infer that any non listed states are sent to a black hole state. Showing the black hole only serves to complicate the graph.\n"
      ]
    },
    {
      "cell_type": "markdown",
      "metadata": {
        "id": "b6bWV4AZ1Fan"
      },
      "source": [
        "## 2.2: Obtain an RE by looking at nfa1\n",
        "\n",
        "* Follow all paths\n",
        "\n",
        "* Summarize the paths in your head, using the Star operator suitably\n",
        "\n",
        "\n"
      ]
    },
    {
      "cell_type": "code",
      "metadata": {
        "id": "W2GdlsN01Fan"
      },
      "source": [
        "RE1_hand = \"ac+c+f+d+((b+ab+'')s*(f+d))\"\r\n",
        "dotObj_dfa(min_dfa(nfa2dfa(re2nfa(RE1_hand))))"
      ],
      "execution_count": null,
      "outputs": []
    },
    {
      "cell_type": "code",
      "metadata": {
        "id": "x4SW2mluHPAV",
        "colab": {
          "base_uri": "https://localhost:8080/"
        },
        "outputId": "1b81ed99-909e-46fa-ec30-3ba86b56087a"
      },
      "source": [
        "iso_dfa(min_dfa(nfa2dfa(nfa1)), min_dfa(nfa2dfa(re2nfa(RE1_hand))))"
      ],
      "execution_count": null,
      "outputs": [
        {
          "output_type": "stream",
          "text": [
            "Generating LALR tables\n"
          ],
          "name": "stderr"
        },
        {
          "output_type": "execute_result",
          "data": {
            "text/plain": [
              "True"
            ]
          },
          "metadata": {
            "tags": []
          },
          "execution_count": 187
        }
      ]
    },
    {
      "cell_type": "markdown",
      "metadata": {
        "id": "kFsWMB9l1Fan"
      },
      "source": [
        "## 2.3: Reverse RE1 by hand to obtain Rev_RE1\n",
        "\n",
        "Once you have an RE, you can \"visually reverse it\" for simple REs"
      ]
    },
    {
      "cell_type": "code",
      "metadata": {
        "id": "OTCTyqlv1Fao"
      },
      "source": [
        "Rev_RE1_hand = \"ca+c+f+d+((f+d)s*(b+ba+''))\""
      ],
      "execution_count": null,
      "outputs": []
    },
    {
      "cell_type": "code",
      "metadata": {
        "id": "rbizhJtGHcav",
        "colab": {
          "base_uri": "https://localhost:8080/"
        },
        "outputId": "89b3f2e0-738f-410c-c9fa-31ed0a5f77c1"
      },
      "source": [
        "iso_dfa(min_dfa(nfa2dfa(rnfa1)), min_dfa(nfa2dfa(re2nfa(Rev_RE1_hand))))"
      ],
      "execution_count": null,
      "outputs": [
        {
          "output_type": "stream",
          "text": [
            "Generating LALR tables\n"
          ],
          "name": "stderr"
        },
        {
          "output_type": "execute_result",
          "data": {
            "text/plain": [
              "True"
            ]
          },
          "metadata": {
            "tags": []
          },
          "execution_count": 189
        }
      ]
    },
    {
      "cell_type": "markdown",
      "metadata": {
        "id": "Fqhsan3o1Fao"
      },
      "source": [
        "## 2.4: Understand del_gnfa_states via help"
      ]
    },
    {
      "cell_type": "code",
      "metadata": {
        "id": "St7Zo8AY1Fao",
        "colab": {
          "base_uri": "https://localhost:8080/"
        },
        "outputId": "73bad4f9-0956-4b11-d7e1-a92375cb3488"
      },
      "source": [
        "# help of del_gnfa_states run below\n",
        "help(del_gnfa_states)"
      ],
      "execution_count": null,
      "outputs": [
        {
          "output_type": "stream",
          "text": [
            "Help on function del_gnfa_states in module jove.Def_NFA2RE:\n",
            "\n",
            "del_gnfa_states(Gin, DelList=[])\n",
            "    Given a GNFA Gin with no unreachable states, \n",
            "    delete all states but f\n",
            "    or Real_I and Real_F.\n",
            "    If DelList is given, follow the state deletion\n",
            "    order mentioned therein; else choose order internally.\n",
            "    \n",
            "    Return a triple (Gfinal, dotObj_List, final_re_str), where\n",
            "      Gfinal       : the final GNFA\n",
            "      dotObj_List  : a list of Dot objects recording the process of\n",
            "                     deleting states and forming intermediate REs\n",
            "      final_re_str : the final RE as a string (ready to be fed to  \n",
            "                     re2nfa for converting back to an NFA)\n",
            "\n"
          ],
          "name": "stdout"
        }
      ]
    },
    {
      "cell_type": "markdown",
      "metadata": {
        "id": "2KFNXlqV1Fao"
      },
      "source": [
        "### Document what you learned from the function help of del_gnfa_states and summarize below\n",
        "\n",
        "\n",
        "* It can be done recursively or iteratively\n",
        "\n",
        "* It can accept a deletion order list, but it is not necessary\n",
        "\n",
        "* It outputs a tuple of 3 values, the last of which is the regular expression."
      ]
    },
    {
      "cell_type": "markdown",
      "metadata": {
        "id": "5tn3lrpW1Fap"
      },
      "source": [
        "# Problem 3: Converting to GNFA and Attempting Two Elimination Orders\n",
        "\n",
        "Work on rnfa1 to obtain Rev_RE1 and Rev_RE2 "
      ]
    },
    {
      "cell_type": "markdown",
      "metadata": {
        "id": "eOmufZDa1Fap"
      },
      "source": [
        "## 3.1: Obtain grnfa1 below via a suitable command"
      ]
    },
    {
      "cell_type": "code",
      "metadata": {
        "id": "9jf13qhs1Faq"
      },
      "source": [
        "grnfa1 = mk_gnfa(rnfa1)"
      ],
      "execution_count": null,
      "outputs": []
    },
    {
      "cell_type": "code",
      "metadata": {
        "id": "iF-KnQi01Faq",
        "colab": {
          "base_uri": "https://localhost:8080/",
          "height": 210
        },
        "outputId": "110bc695-0517-4603-bfe9-2a28949397ba"
      },
      "source": [
        "dotObj_gnfa(grnfa1)"
      ],
      "execution_count": null,
      "outputs": [
        {
          "output_type": "execute_result",
          "data": {
            "text/plain": [
              "<graphviz.dot.Digraph at 0x7f1d74585f60>"
            ],
            "image/svg+xml": "<?xml version=\"1.0\" encoding=\"UTF-8\" standalone=\"no\"?>\n<!DOCTYPE svg PUBLIC \"-//W3C//DTD SVG 1.1//EN\"\n \"http://www.w3.org/Graphics/SVG/1.1/DTD/svg11.dtd\">\n<!-- Generated by graphviz version 2.40.1 (20161225.0304)\n -->\n<!-- Title: %3 Pages: 1 -->\n<svg width=\"641pt\" height=\"142pt\"\n viewBox=\"0.00 0.00 641.48 141.70\" xmlns=\"http://www.w3.org/2000/svg\" xmlns:xlink=\"http://www.w3.org/1999/xlink\">\n<g id=\"graph0\" class=\"graph\" transform=\"scale(1 1) rotate(0) translate(4 137.6967)\">\n<title>%3</title>\n<polygon fill=\"#ffffff\" stroke=\"transparent\" points=\"-4,4 -4,-137.6967 637.4764,-137.6967 637.4764,4 -4,4\"/>\n<!-- EMPTY -->\n<g id=\"node1\" class=\"node\">\n<title>EMPTY</title>\n</g>\n<!-- Real_I -->\n<g id=\"node2\" class=\"node\">\n<title>Real_I</title>\n<ellipse fill=\"none\" stroke=\"#000000\" cx=\"126.0969\" cy=\"-68.6967\" rx=\"35.194\" ry=\"35.194\"/>\n<text text-anchor=\"middle\" x=\"126.0969\" y=\"-64.9967\" font-family=\"Times,serif\" font-size=\"14.00\" fill=\"#000000\">Real_I</text>\n</g>\n<!-- EMPTY&#45;&gt;Real_I -->\n<g id=\"edge1\" class=\"edge\">\n<title>EMPTY&#45;&gt;Real_I</title>\n<path fill=\"none\" stroke=\"#000000\" d=\"M54.0787,-68.6967C62.3227,-68.6967 71.6196,-68.6967 80.7269,-68.6967\"/>\n<polygon fill=\"#000000\" stroke=\"#000000\" points=\"80.8626,-72.1968 90.8626,-68.6967 80.8625,-65.1968 80.8626,-72.1968\"/>\n</g>\n<!-- I4 -->\n<g id=\"node5\" class=\"node\">\n<title>I4</title>\n<ellipse fill=\"none\" stroke=\"#000000\" cx=\"225.0421\" cy=\"-96.6967\" rx=\"18.6979\" ry=\"18.6979\"/>\n<text text-anchor=\"middle\" x=\"225.0421\" y=\"-92.9967\" font-family=\"Times,serif\" font-size=\"14.00\" fill=\"#000000\">I4</text>\n</g>\n<!-- Real_I&#45;&gt;I4 -->\n<g id=\"edge10\" class=\"edge\">\n<title>Real_I&#45;&gt;I4</title>\n<path fill=\"none\" stroke=\"#000000\" d=\"M159.8715,-78.2544C171.873,-81.6506 185.2495,-85.436 196.7456,-88.6892\"/>\n<polygon fill=\"#000000\" stroke=\"#000000\" points=\"196.106,-92.1456 206.6812,-91.5008 198.0121,-85.4101 196.106,-92.1456\"/>\n<text text-anchor=\"middle\" x=\"183.6938\" y=\"-89.4967\" font-family=\"Times,serif\" font-size=\"14.00\" fill=\"#000000\">&#39;&#39; </text>\n</g>\n<!-- I3 -->\n<g id=\"node6\" class=\"node\">\n<title>I3</title>\n<ellipse fill=\"none\" stroke=\"#000000\" cx=\"225.0421\" cy=\"-40.6967\" rx=\"18.6979\" ry=\"18.6979\"/>\n<text text-anchor=\"middle\" x=\"225.0421\" y=\"-36.9967\" font-family=\"Times,serif\" font-size=\"14.00\" fill=\"#000000\">I3</text>\n</g>\n<!-- Real_I&#45;&gt;I3 -->\n<g id=\"edge9\" class=\"edge\">\n<title>Real_I&#45;&gt;I3</title>\n<path fill=\"none\" stroke=\"#000000\" d=\"M159.8715,-59.139C171.873,-55.7427 185.2495,-51.9574 196.7456,-48.7041\"/>\n<polygon fill=\"#000000\" stroke=\"#000000\" points=\"198.0121,-51.9833 206.6812,-45.8925 196.106,-45.2477 198.0121,-51.9833\"/>\n<text text-anchor=\"middle\" x=\"183.6938\" y=\"-57.4967\" font-family=\"Times,serif\" font-size=\"14.00\" fill=\"#000000\">&#39;&#39; </text>\n</g>\n<!-- F2 -->\n<g id=\"node3\" class=\"node\">\n<title>F2</title>\n<ellipse fill=\"none\" stroke=\"#000000\" cx=\"396.6886\" cy=\"-28.6967\" rx=\"20.5982\" ry=\"20.5982\"/>\n<text text-anchor=\"middle\" x=\"396.6886\" y=\"-24.9967\" font-family=\"Times,serif\" font-size=\"14.00\" fill=\"#000000\">F2</text>\n</g>\n<!-- F1 -->\n<g id=\"node4\" class=\"node\">\n<title>F1</title>\n<ellipse fill=\"none\" stroke=\"#000000\" cx=\"484.2849\" cy=\"-79.6967\" rx=\"20.5982\" ry=\"20.5982\"/>\n<text text-anchor=\"middle\" x=\"484.2849\" y=\"-75.9967\" font-family=\"Times,serif\" font-size=\"14.00\" fill=\"#000000\">F1</text>\n</g>\n<!-- F2&#45;&gt;F1 -->\n<g id=\"edge3\" class=\"edge\">\n<title>F2&#45;&gt;F1</title>\n<path fill=\"none\" stroke=\"#000000\" d=\"M414.8386,-39.2639C427.0535,-46.3756 443.3777,-55.8798 457.1302,-63.8867\"/>\n<polygon fill=\"#000000\" stroke=\"#000000\" points=\"455.7551,-67.1361 466.1581,-69.143 459.2772,-61.0867 455.7551,-67.1361\"/>\n<text text-anchor=\"middle\" x=\"440.4867\" y=\"-60.4967\" font-family=\"Times,serif\" font-size=\"14.00\" fill=\"#000000\">a </text>\n</g>\n<!-- Real_F -->\n<g id=\"node8\" class=\"node\">\n<title>Real_F</title>\n<ellipse fill=\"none\" stroke=\"#000000\" cx=\"591.7797\" cy=\"-41.6967\" rx=\"37.8753\" ry=\"37.8753\"/>\n<ellipse fill=\"none\" stroke=\"#000000\" cx=\"591.7797\" cy=\"-41.6967\" rx=\"41.8942\" ry=\"41.8942\"/>\n<text text-anchor=\"middle\" x=\"591.7797\" y=\"-37.9967\" font-family=\"Times,serif\" font-size=\"14.00\" fill=\"#000000\">Real_F</text>\n</g>\n<!-- F2&#45;&gt;Real_F -->\n<g id=\"edge11\" class=\"edge\">\n<title>F2&#45;&gt;Real_F</title>\n<path fill=\"none\" stroke=\"#000000\" d=\"M417.4781,-29.6912C439.3056,-30.7719 474.6209,-32.6241 505.083,-34.6967 516.2716,-35.4579 528.2648,-36.3666 539.6542,-37.2731\"/>\n<polygon fill=\"#000000\" stroke=\"#000000\" points=\"539.6544,-40.7844 549.9036,-38.1007 540.2178,-33.8071 539.6544,-40.7844\"/>\n<text text-anchor=\"middle\" x=\"484.2849\" y=\"-38.4967\" font-family=\"Times,serif\" font-size=\"14.00\" fill=\"#000000\">&#39;&#39; </text>\n</g>\n<!-- F1&#45;&gt;Real_F -->\n<g id=\"edge12\" class=\"edge\">\n<title>F1&#45;&gt;Real_F</title>\n<path fill=\"none\" stroke=\"#000000\" d=\"M504.0011,-72.7269C514.8287,-68.8993 528.7865,-63.9651 542.3721,-59.1625\"/>\n<polygon fill=\"#000000\" stroke=\"#000000\" points=\"543.8869,-62.3393 552.1486,-55.7065 541.5538,-55.7396 543.8869,-62.3393\"/>\n<text text-anchor=\"middle\" x=\"527.583\" y=\"-69.4967\" font-family=\"Times,serif\" font-size=\"14.00\" fill=\"#000000\">&#39;&#39; </text>\n</g>\n<!-- B -->\n<g id=\"node7\" class=\"node\">\n<title>B</title>\n<ellipse fill=\"none\" stroke=\"#000000\" cx=\"309.8904\" cy=\"-82.6967\" rx=\"18\" ry=\"18\"/>\n<text text-anchor=\"middle\" x=\"309.8904\" y=\"-78.9967\" font-family=\"Times,serif\" font-size=\"14.00\" fill=\"#000000\">B</text>\n</g>\n<!-- I4&#45;&gt;B -->\n<g id=\"edge7\" class=\"edge\">\n<title>I4&#45;&gt;B</title>\n<path fill=\"none\" stroke=\"#000000\" d=\"M243.8727,-93.5896C255.0866,-91.7393 269.5252,-89.3569 282.0385,-87.2922\"/>\n<polygon fill=\"#000000\" stroke=\"#000000\" points=\"282.687,-90.7326 291.9838,-85.6513 281.5474,-83.826 282.687,-90.7326\"/>\n<text text-anchor=\"middle\" x=\"267.8904\" y=\"-93.4967\" font-family=\"Times,serif\" font-size=\"14.00\" fill=\"#000000\">d </text>\n</g>\n<!-- I3&#45;&gt;F2 -->\n<g id=\"edge4\" class=\"edge\">\n<title>I3&#45;&gt;F2</title>\n<path fill=\"none\" stroke=\"#000000\" d=\"M244.0671,-39.3666C273.4142,-37.3149 330.0323,-33.3567 365.4498,-30.8806\"/>\n<polygon fill=\"#000000\" stroke=\"#000000\" points=\"365.9756,-34.3525 375.7071,-30.1635 365.4873,-27.3695 365.9756,-34.3525\"/>\n<text text-anchor=\"middle\" x=\"309.8904\" y=\"-40.4967\" font-family=\"Times,serif\" font-size=\"14.00\" fill=\"#000000\">c </text>\n</g>\n<!-- I3&#45;&gt;B -->\n<g id=\"edge8\" class=\"edge\">\n<title>I3&#45;&gt;B</title>\n<path fill=\"none\" stroke=\"#000000\" d=\"M242.2124,-49.196C254.2919,-55.1753 270.666,-63.2805 284.2825,-70.0207\"/>\n<polygon fill=\"#000000\" stroke=\"#000000\" points=\"283.0944,-73.3379 293.6093,-74.6375 286.1998,-67.0644 283.0944,-73.3379\"/>\n<text text-anchor=\"middle\" x=\"267.8904\" y=\"-68.4967\" font-family=\"Times,serif\" font-size=\"14.00\" fill=\"#000000\">f </text>\n</g>\n<!-- B&#45;&gt;F2 -->\n<g id=\"edge5\" class=\"edge\">\n<title>B&#45;&gt;F2</title>\n<path fill=\"none\" stroke=\"#000000\" d=\"M325.2625,-72.7774C331.6276,-68.6959 339.0964,-63.9394 345.8904,-59.6967 353.7007,-54.8193 362.2297,-49.5807 370.0304,-44.8234\"/>\n<polygon fill=\"#000000\" stroke=\"#000000\" points=\"372.0411,-47.6971 378.7664,-39.5105 368.4037,-41.7163 372.0411,-47.6971\"/>\n<text text-anchor=\"middle\" x=\"351.8904\" y=\"-63.4967\" font-family=\"Times,serif\" font-size=\"14.00\" fill=\"#000000\">b </text>\n</g>\n<!-- B&#45;&gt;F1 -->\n<g id=\"edge2\" class=\"edge\">\n<title>B&#45;&gt;F1</title>\n<path fill=\"none\" stroke=\"#000000\" d=\"M327.8968,-82.3869C357.5205,-81.8773 416.8797,-80.8562 453.3416,-80.229\"/>\n<polygon fill=\"#000000\" stroke=\"#000000\" points=\"453.4811,-83.7272 463.4194,-80.0556 453.3606,-76.7282 453.4811,-83.7272\"/>\n<text text-anchor=\"middle\" x=\"396.6886\" y=\"-84.4967\" font-family=\"Times,serif\" font-size=\"14.00\" fill=\"#000000\">&#39;&#39; </text>\n</g>\n<!-- B&#45;&gt;B -->\n<g id=\"edge6\" class=\"edge\">\n<title>B&#45;&gt;B</title>\n<path fill=\"none\" stroke=\"#000000\" d=\"M302.5076,-99.3607C300.867,-109.3217 303.3279,-118.6967 309.8904,-118.6967 314.0945,-118.6967 316.6153,-114.8492 317.4529,-109.4649\"/>\n<polygon fill=\"#000000\" stroke=\"#000000\" points=\"320.9505,-109.2969 317.2732,-99.3607 313.9517,-109.4214 320.9505,-109.2969\"/>\n<text text-anchor=\"middle\" x=\"309.8904\" y=\"-122.4967\" font-family=\"Times,serif\" font-size=\"14.00\" fill=\"#000000\">s </text>\n</g>\n</g>\n</svg>\n"
          },
          "metadata": {
            "tags": []
          },
          "execution_count": 192
        }
      ]
    },
    {
      "cell_type": "markdown",
      "metadata": {
        "id": "VFtjQsTs1Faq"
      },
      "source": [
        "## 3.2: Apply the elimination order by supplying the second argument \n",
        "['B', 'F2', 'F1', 'I3', 'I4']\n",
        "\n",
        "as you learned in the help"
      ]
    },
    {
      "cell_type": "code",
      "metadata": {
        "id": "4XkJaoDL1Far",
        "colab": {
          "base_uri": "https://localhost:8080/"
        },
        "outputId": "629b8612-419b-41da-a391-441b4eeea3a1"
      },
      "source": [
        "(Gfinal, DO, Rev_RE1) = del_gnfa_states(grnfa1, ['B', 'F2', 'F1', 'I3', 'I4'])"
      ],
      "execution_count": null,
      "outputs": [
        {
          "output_type": "stream",
          "text": [
            "**** Eliminating state B ****\n",
            "**** Eliminating state F2 ****\n",
            "**** Eliminating state F1 ****\n",
            "**** Eliminating state I3 ****\n",
            "**** Eliminating state I4 ****\n"
          ],
          "name": "stdout"
        }
      ]
    },
    {
      "cell_type": "code",
      "metadata": {
        "id": "zvc3WnQb1Far",
        "colab": {
          "base_uri": "https://localhost:8080/",
          "height": 52
        },
        "outputId": "7ed3bcec-7eef-4c4f-8744-896b8230267b"
      },
      "source": [
        "Rev_RE1"
      ],
      "execution_count": null,
      "outputs": [
        {
          "output_type": "execute_result",
          "data": {
            "application/vnd.google.colaboratory.intrinsic+json": {
              "type": "string"
            },
            "text/plain": [
              "'((((((((d ((s)* b)) a) + (d (s)*)) + (d (s)*)) + (d ((s)* b))) + (d ((s)* b))) + ((((((((f ((s)* b)) + c) + c) a) + (f (s)*)) + (f (s)*)) + (((f ((s)* b)) + c) + c)) + (((f ((s)* b)) + c) + c))) + ((((((((f ((s)* b)) + c) + c) a) + (f (s)*)) + (f (s)*)) + (((f ((s)* b)) + c) + c)) + (((f ((s)* b)) + c) + c)))'"
            ]
          },
          "metadata": {
            "tags": []
          },
          "execution_count": 195
        }
      ]
    },
    {
      "cell_type": "code",
      "metadata": {
        "id": "D0dEbHik1Far",
        "colab": {
          "base_uri": "https://localhost:8080/",
          "height": 231
        },
        "outputId": "7e7f94f0-7d39-48c7-8a43-998f0df6d755"
      },
      "source": [
        "dotObj_dfa(min_dfa(nfa2dfa(re2nfa(Rev_RE1))))"
      ],
      "execution_count": null,
      "outputs": [
        {
          "output_type": "stream",
          "text": [
            "Generating LALR tables\n"
          ],
          "name": "stderr"
        },
        {
          "output_type": "execute_result",
          "data": {
            "text/plain": [
              "<graphviz.dot.Digraph at 0x7f1d74532e80>"
            ],
            "image/svg+xml": "<?xml version=\"1.0\" encoding=\"UTF-8\" standalone=\"no\"?>\n<!DOCTYPE svg PUBLIC \"-//W3C//DTD SVG 1.1//EN\"\n \"http://www.w3.org/Graphics/SVG/1.1/DTD/svg11.dtd\">\n<!-- Generated by graphviz version 2.40.1 (20161225.0304)\n -->\n<!-- Title: %3 Pages: 1 -->\n<svg width=\"463pt\" height=\"145pt\"\n viewBox=\"0.00 0.00 462.58 145.00\" xmlns=\"http://www.w3.org/2000/svg\" xmlns:xlink=\"http://www.w3.org/1999/xlink\">\n<g id=\"graph0\" class=\"graph\" transform=\"scale(1 1) rotate(0) translate(4 140.9954)\">\n<title>%3</title>\n<polygon fill=\"#ffffff\" stroke=\"transparent\" points=\"-4,4 -4,-140.9954 458.5825,-140.9954 458.5825,4 -4,4\"/>\n<!-- EMPTY -->\n<g id=\"node1\" class=\"node\">\n<title>EMPTY</title>\n</g>\n<!-- St1 -->\n<g id=\"node2\" class=\"node\">\n<title>St1</title>\n<ellipse fill=\"none\" stroke=\"#000000\" cx=\"114.3979\" cy=\"-49.5975\" rx=\"23.2963\" ry=\"23.2963\"/>\n<text text-anchor=\"middle\" x=\"114.3979\" y=\"-45.8975\" font-family=\"Times,serif\" font-size=\"14.00\" fill=\"#000000\">St1</text>\n</g>\n<!-- EMPTY&#45;&gt;St1 -->\n<g id=\"edge1\" class=\"edge\">\n<title>EMPTY&#45;&gt;St1</title>\n<path fill=\"none\" stroke=\"#000000\" d=\"M54.1742,-49.5975C62.5103,-49.5975 71.7873,-49.5975 80.5137,-49.5975\"/>\n<polygon fill=\"#000000\" stroke=\"#000000\" points=\"80.7846,-53.0976 90.7846,-49.5975 80.7845,-46.0976 80.7846,-53.0976\"/>\n</g>\n<!-- St2 -->\n<g id=\"node4\" class=\"node\">\n<title>St2</title>\n<ellipse fill=\"none\" stroke=\"#000000\" cx=\"213.1938\" cy=\"-76.5975\" rx=\"23.3111\" ry=\"23.3111\"/>\n<ellipse fill=\"none\" stroke=\"#000000\" cx=\"213.1938\" cy=\"-76.5975\" rx=\"27.2962\" ry=\"27.2962\"/>\n<text text-anchor=\"middle\" x=\"213.1938\" y=\"-72.8975\" font-family=\"Times,serif\" font-size=\"14.00\" fill=\"#000000\">St2</text>\n</g>\n<!-- St1&#45;&gt;St2 -->\n<g id=\"edge2\" class=\"edge\">\n<title>St1&#45;&gt;St2</title>\n<path fill=\"none\" stroke=\"#000000\" d=\"M136.0621,-58.8121C142.3489,-61.2553 149.2776,-63.7296 155.7958,-65.5975 162.1967,-67.4317 169.0877,-69.0484 175.797,-70.4385\"/>\n<polygon fill=\"#000000\" stroke=\"#000000\" points=\"175.6105,-73.9674 186.0939,-72.4352 176.9431,-67.0955 175.6105,-73.9674\"/>\n<text text-anchor=\"middle\" x=\"161.7958\" y=\"-71.3975\" font-family=\"Times,serif\" font-size=\"14.00\" fill=\"#000000\">f </text>\n</g>\n<!-- St1&#45;&gt;St2 -->\n<g id=\"edge3\" class=\"edge\">\n<title>St1&#45;&gt;St2</title>\n<path fill=\"none\" stroke=\"#000000\" d=\"M137.4104,-44.8843C146.9842,-43.7957 158.1034,-43.6843 167.7958,-46.5975 173.1111,-48.195 178.3777,-50.6393 183.338,-53.4576\"/>\n<polygon fill=\"#000000\" stroke=\"#000000\" points=\"181.5522,-56.4691 191.8802,-58.8322 185.2801,-50.5443 181.5522,-56.4691\"/>\n<text text-anchor=\"middle\" x=\"161.7958\" y=\"-50.3975\" font-family=\"Times,serif\" font-size=\"14.00\" fill=\"#000000\">d </text>\n</g>\n<!-- St4 -->\n<g id=\"node5\" class=\"node\">\n<title>St4</title>\n<ellipse fill=\"none\" stroke=\"#000000\" cx=\"315.9896\" cy=\"-32.5975\" rx=\"23.3111\" ry=\"23.3111\"/>\n<ellipse fill=\"none\" stroke=\"#000000\" cx=\"315.9896\" cy=\"-32.5975\" rx=\"27.2962\" ry=\"27.2962\"/>\n<text text-anchor=\"middle\" x=\"315.9896\" y=\"-28.8975\" font-family=\"Times,serif\" font-size=\"14.00\" fill=\"#000000\">St4</text>\n</g>\n<!-- St1&#45;&gt;St4 -->\n<g id=\"edge4\" class=\"edge\">\n<title>St1&#45;&gt;St4</title>\n<path fill=\"none\" stroke=\"#000000\" d=\"M136.119,-40.2447C150.0308,-34.7734 168.6315,-28.4051 185.7958,-25.5975 216.8172,-20.5231 252.4932,-23.0137 278.646,-26.3552\"/>\n<polygon fill=\"#000000\" stroke=\"#000000\" points=\"278.4918,-29.867 288.8764,-27.7672 279.4489,-22.9327 278.4918,-29.867\"/>\n<text text-anchor=\"middle\" x=\"213.1938\" y=\"-29.3975\" font-family=\"Times,serif\" font-size=\"14.00\" fill=\"#000000\">c </text>\n</g>\n<!-- St10 -->\n<g id=\"node3\" class=\"node\">\n<title>St10</title>\n<ellipse fill=\"none\" stroke=\"#000000\" cx=\"421.985\" cy=\"-32.5975\" rx=\"28.6832\" ry=\"28.6832\"/>\n<ellipse fill=\"none\" stroke=\"#000000\" cx=\"421.985\" cy=\"-32.5975\" rx=\"32.6952\" ry=\"32.6952\"/>\n<text text-anchor=\"middle\" x=\"421.985\" y=\"-28.8975\" font-family=\"Times,serif\" font-size=\"14.00\" fill=\"#000000\">St10</text>\n</g>\n<!-- St2&#45;&gt;St2 -->\n<g id=\"edge5\" class=\"edge\">\n<title>St2&#45;&gt;St2</title>\n<path fill=\"none\" stroke=\"#000000\" d=\"M203.876,-102.7225C203.3496,-113.2006 206.4555,-121.9954 213.1938,-121.9954 217.5105,-121.9954 220.3365,-118.386 221.6717,-113.037\"/>\n<polygon fill=\"#000000\" stroke=\"#000000\" points=\"225.1884,-112.9736 222.5116,-102.7225 218.2115,-112.4055 225.1884,-112.9736\"/>\n<text text-anchor=\"middle\" x=\"213.1938\" y=\"-125.7954\" font-family=\"Times,serif\" font-size=\"14.00\" fill=\"#000000\">s </text>\n</g>\n<!-- St2&#45;&gt;St4 -->\n<g id=\"edge6\" class=\"edge\">\n<title>St2&#45;&gt;St4</title>\n<path fill=\"none\" stroke=\"#000000\" d=\"M238.604,-65.7211C251.4536,-60.221 267.244,-53.4622 281.2029,-47.4873\"/>\n<polygon fill=\"#000000\" stroke=\"#000000\" points=\"282.6995,-50.6539 290.5155,-43.5012 279.9449,-44.2187 282.6995,-50.6539\"/>\n<text text-anchor=\"middle\" x=\"264.5917\" y=\"-59.3975\" font-family=\"Times,serif\" font-size=\"14.00\" fill=\"#000000\">b </text>\n</g>\n<!-- St4&#45;&gt;St10 -->\n<g id=\"edge7\" class=\"edge\">\n<title>St4&#45;&gt;St10</title>\n<path fill=\"none\" stroke=\"#000000\" d=\"M343.562,-32.5975C354.3788,-32.5975 367.0476,-32.5975 379.0094,-32.5975\"/>\n<polygon fill=\"#000000\" stroke=\"#000000\" points=\"379.2751,-36.0976 389.2751,-32.5975 379.275,-29.0976 379.2751,-36.0976\"/>\n<text text-anchor=\"middle\" x=\"366.3875\" y=\"-36.3975\" font-family=\"Times,serif\" font-size=\"14.00\" fill=\"#000000\">a </text>\n</g>\n</g>\n</svg>\n"
          },
          "metadata": {
            "tags": []
          },
          "execution_count": 196
        }
      ]
    },
    {
      "cell_type": "markdown",
      "metadata": {
        "id": "iQEHDBcy1Far"
      },
      "source": [
        "## 3.3: Apply the elimination order by supplying the second argument \n",
        " ['I3', 'I4', 'F1', 'B', 'F2' ]\n",
        "\n",
        "as you learned in the help"
      ]
    },
    {
      "cell_type": "markdown",
      "metadata": {
        "id": "RdLm-Pc-1Fas"
      },
      "source": [
        "## Examine DO[0] through DO[Last_Legal_Item] (find out how long DO is)\n",
        "\n",
        "DO[0] is the initial GNFA machine, DO[1] is the next one, and so on. You will see each step getting\n",
        "rid of one state.\n",
        "\n",
        "### Summarize your observation of the state elimination and which REs were introduced as a result. Use one bullet per question answered below."
      ]
    },
    {
      "cell_type": "code",
      "metadata": {
        "id": "uHhM_vTqID1K",
        "colab": {
          "base_uri": "https://localhost:8080/",
          "height": 119
        },
        "outputId": "b83b0371-7535-4a56-c7bd-22e052ce5882"
      },
      "source": [
        "(Gfinal2, DO2, Rev_RE2) = del_gnfa_states(grnfa1, ['I3', 'I4', 'F1', 'B', 'F2' ])\r\n",
        "Rev_RE2"
      ],
      "execution_count": null,
      "outputs": [
        {
          "output_type": "stream",
          "text": [
            "**** Eliminating state I3 ****\n",
            "**** Eliminating state I4 ****\n",
            "**** Eliminating state F1 ****\n",
            "**** Eliminating state B ****\n",
            "**** Eliminating state F2 ****\n"
          ],
          "name": "stdout"
        },
        {
          "output_type": "execute_result",
          "data": {
            "application/vnd.google.colaboratory.intrinsic+json": {
              "type": "string"
            },
            "text/plain": [
              "'((((((((d + f) + f) ((s)* b)) + c) + c) ((a + \"\") + \"\")) + (((d + f) + f) (s)*)) + (((d + f) + f) (s)*))'"
            ]
          },
          "metadata": {
            "tags": []
          },
          "execution_count": 197
        }
      ]
    },
    {
      "cell_type": "code",
      "metadata": {
        "id": "AaJuAMRJ1Fas",
        "scrolled": true,
        "colab": {
          "base_uri": "https://localhost:8080/",
          "height": 210
        },
        "outputId": "59bead71-e900-453b-aebe-4c8823be8a7e"
      },
      "source": [
        "DO[0]"
      ],
      "execution_count": null,
      "outputs": [
        {
          "output_type": "execute_result",
          "data": {
            "text/plain": [
              "<graphviz.dot.Digraph at 0x7f1d74541898>"
            ],
            "image/svg+xml": "<?xml version=\"1.0\" encoding=\"UTF-8\" standalone=\"no\"?>\n<!DOCTYPE svg PUBLIC \"-//W3C//DTD SVG 1.1//EN\"\n \"http://www.w3.org/Graphics/SVG/1.1/DTD/svg11.dtd\">\n<!-- Generated by graphviz version 2.40.1 (20161225.0304)\n -->\n<!-- Title: %3 Pages: 1 -->\n<svg width=\"641pt\" height=\"142pt\"\n viewBox=\"0.00 0.00 641.48 141.70\" xmlns=\"http://www.w3.org/2000/svg\" xmlns:xlink=\"http://www.w3.org/1999/xlink\">\n<g id=\"graph0\" class=\"graph\" transform=\"scale(1 1) rotate(0) translate(4 137.6967)\">\n<title>%3</title>\n<polygon fill=\"#ffffff\" stroke=\"transparent\" points=\"-4,4 -4,-137.6967 637.4764,-137.6967 637.4764,4 -4,4\"/>\n<!-- EMPTY -->\n<g id=\"node1\" class=\"node\">\n<title>EMPTY</title>\n</g>\n<!-- Real_I -->\n<g id=\"node2\" class=\"node\">\n<title>Real_I</title>\n<ellipse fill=\"none\" stroke=\"#000000\" cx=\"126.0969\" cy=\"-68.6967\" rx=\"35.194\" ry=\"35.194\"/>\n<text text-anchor=\"middle\" x=\"126.0969\" y=\"-64.9967\" font-family=\"Times,serif\" font-size=\"14.00\" fill=\"#000000\">Real_I</text>\n</g>\n<!-- EMPTY&#45;&gt;Real_I -->\n<g id=\"edge1\" class=\"edge\">\n<title>EMPTY&#45;&gt;Real_I</title>\n<path fill=\"none\" stroke=\"#000000\" d=\"M54.0787,-68.6967C62.3227,-68.6967 71.6196,-68.6967 80.7269,-68.6967\"/>\n<polygon fill=\"#000000\" stroke=\"#000000\" points=\"80.8626,-72.1968 90.8626,-68.6967 80.8625,-65.1968 80.8626,-72.1968\"/>\n</g>\n<!-- I4 -->\n<g id=\"node5\" class=\"node\">\n<title>I4</title>\n<ellipse fill=\"none\" stroke=\"#000000\" cx=\"225.0421\" cy=\"-96.6967\" rx=\"18.6979\" ry=\"18.6979\"/>\n<text text-anchor=\"middle\" x=\"225.0421\" y=\"-92.9967\" font-family=\"Times,serif\" font-size=\"14.00\" fill=\"#000000\">I4</text>\n</g>\n<!-- Real_I&#45;&gt;I4 -->\n<g id=\"edge10\" class=\"edge\">\n<title>Real_I&#45;&gt;I4</title>\n<path fill=\"none\" stroke=\"#000000\" d=\"M159.8715,-78.2544C171.873,-81.6506 185.2495,-85.436 196.7456,-88.6892\"/>\n<polygon fill=\"#000000\" stroke=\"#000000\" points=\"196.106,-92.1456 206.6812,-91.5008 198.0121,-85.4101 196.106,-92.1456\"/>\n<text text-anchor=\"middle\" x=\"183.6938\" y=\"-89.4967\" font-family=\"Times,serif\" font-size=\"14.00\" fill=\"#000000\">&#39;&#39; </text>\n</g>\n<!-- I3 -->\n<g id=\"node6\" class=\"node\">\n<title>I3</title>\n<ellipse fill=\"none\" stroke=\"#000000\" cx=\"225.0421\" cy=\"-40.6967\" rx=\"18.6979\" ry=\"18.6979\"/>\n<text text-anchor=\"middle\" x=\"225.0421\" y=\"-36.9967\" font-family=\"Times,serif\" font-size=\"14.00\" fill=\"#000000\">I3</text>\n</g>\n<!-- Real_I&#45;&gt;I3 -->\n<g id=\"edge9\" class=\"edge\">\n<title>Real_I&#45;&gt;I3</title>\n<path fill=\"none\" stroke=\"#000000\" d=\"M159.8715,-59.139C171.873,-55.7427 185.2495,-51.9574 196.7456,-48.7041\"/>\n<polygon fill=\"#000000\" stroke=\"#000000\" points=\"198.0121,-51.9833 206.6812,-45.8925 196.106,-45.2477 198.0121,-51.9833\"/>\n<text text-anchor=\"middle\" x=\"183.6938\" y=\"-57.4967\" font-family=\"Times,serif\" font-size=\"14.00\" fill=\"#000000\">&#39;&#39; </text>\n</g>\n<!-- F2 -->\n<g id=\"node3\" class=\"node\">\n<title>F2</title>\n<ellipse fill=\"none\" stroke=\"#000000\" cx=\"396.6886\" cy=\"-28.6967\" rx=\"20.5982\" ry=\"20.5982\"/>\n<text text-anchor=\"middle\" x=\"396.6886\" y=\"-24.9967\" font-family=\"Times,serif\" font-size=\"14.00\" fill=\"#000000\">F2</text>\n</g>\n<!-- F1 -->\n<g id=\"node4\" class=\"node\">\n<title>F1</title>\n<ellipse fill=\"none\" stroke=\"#000000\" cx=\"484.2849\" cy=\"-79.6967\" rx=\"20.5982\" ry=\"20.5982\"/>\n<text text-anchor=\"middle\" x=\"484.2849\" y=\"-75.9967\" font-family=\"Times,serif\" font-size=\"14.00\" fill=\"#000000\">F1</text>\n</g>\n<!-- F2&#45;&gt;F1 -->\n<g id=\"edge3\" class=\"edge\">\n<title>F2&#45;&gt;F1</title>\n<path fill=\"none\" stroke=\"#000000\" d=\"M414.8386,-39.2639C427.0535,-46.3756 443.3777,-55.8798 457.1302,-63.8867\"/>\n<polygon fill=\"#000000\" stroke=\"#000000\" points=\"455.7551,-67.1361 466.1581,-69.143 459.2772,-61.0867 455.7551,-67.1361\"/>\n<text text-anchor=\"middle\" x=\"440.4867\" y=\"-60.4967\" font-family=\"Times,serif\" font-size=\"14.00\" fill=\"#000000\">a </text>\n</g>\n<!-- Real_F -->\n<g id=\"node8\" class=\"node\">\n<title>Real_F</title>\n<ellipse fill=\"none\" stroke=\"#000000\" cx=\"591.7797\" cy=\"-41.6967\" rx=\"37.8753\" ry=\"37.8753\"/>\n<ellipse fill=\"none\" stroke=\"#000000\" cx=\"591.7797\" cy=\"-41.6967\" rx=\"41.8942\" ry=\"41.8942\"/>\n<text text-anchor=\"middle\" x=\"591.7797\" y=\"-37.9967\" font-family=\"Times,serif\" font-size=\"14.00\" fill=\"#000000\">Real_F</text>\n</g>\n<!-- F2&#45;&gt;Real_F -->\n<g id=\"edge11\" class=\"edge\">\n<title>F2&#45;&gt;Real_F</title>\n<path fill=\"none\" stroke=\"#000000\" d=\"M417.4781,-29.6912C439.3056,-30.7719 474.6209,-32.6241 505.083,-34.6967 516.2716,-35.4579 528.2648,-36.3666 539.6542,-37.2731\"/>\n<polygon fill=\"#000000\" stroke=\"#000000\" points=\"539.6544,-40.7844 549.9036,-38.1007 540.2178,-33.8071 539.6544,-40.7844\"/>\n<text text-anchor=\"middle\" x=\"484.2849\" y=\"-38.4967\" font-family=\"Times,serif\" font-size=\"14.00\" fill=\"#000000\">&#39;&#39; </text>\n</g>\n<!-- F1&#45;&gt;Real_F -->\n<g id=\"edge12\" class=\"edge\">\n<title>F1&#45;&gt;Real_F</title>\n<path fill=\"none\" stroke=\"#000000\" d=\"M504.0011,-72.7269C514.8287,-68.8993 528.7865,-63.9651 542.3721,-59.1625\"/>\n<polygon fill=\"#000000\" stroke=\"#000000\" points=\"543.8869,-62.3393 552.1486,-55.7065 541.5538,-55.7396 543.8869,-62.3393\"/>\n<text text-anchor=\"middle\" x=\"527.583\" y=\"-69.4967\" font-family=\"Times,serif\" font-size=\"14.00\" fill=\"#000000\">&#39;&#39; </text>\n</g>\n<!-- B -->\n<g id=\"node7\" class=\"node\">\n<title>B</title>\n<ellipse fill=\"none\" stroke=\"#000000\" cx=\"309.8904\" cy=\"-82.6967\" rx=\"18\" ry=\"18\"/>\n<text text-anchor=\"middle\" x=\"309.8904\" y=\"-78.9967\" font-family=\"Times,serif\" font-size=\"14.00\" fill=\"#000000\">B</text>\n</g>\n<!-- I4&#45;&gt;B -->\n<g id=\"edge7\" class=\"edge\">\n<title>I4&#45;&gt;B</title>\n<path fill=\"none\" stroke=\"#000000\" d=\"M243.8727,-93.5896C255.0866,-91.7393 269.5252,-89.3569 282.0385,-87.2922\"/>\n<polygon fill=\"#000000\" stroke=\"#000000\" points=\"282.687,-90.7326 291.9838,-85.6513 281.5474,-83.826 282.687,-90.7326\"/>\n<text text-anchor=\"middle\" x=\"267.8904\" y=\"-93.4967\" font-family=\"Times,serif\" font-size=\"14.00\" fill=\"#000000\">d </text>\n</g>\n<!-- I3&#45;&gt;F2 -->\n<g id=\"edge4\" class=\"edge\">\n<title>I3&#45;&gt;F2</title>\n<path fill=\"none\" stroke=\"#000000\" d=\"M244.0671,-39.3666C273.4142,-37.3149 330.0323,-33.3567 365.4498,-30.8806\"/>\n<polygon fill=\"#000000\" stroke=\"#000000\" points=\"365.9756,-34.3525 375.7071,-30.1635 365.4873,-27.3695 365.9756,-34.3525\"/>\n<text text-anchor=\"middle\" x=\"309.8904\" y=\"-40.4967\" font-family=\"Times,serif\" font-size=\"14.00\" fill=\"#000000\">c </text>\n</g>\n<!-- I3&#45;&gt;B -->\n<g id=\"edge8\" class=\"edge\">\n<title>I3&#45;&gt;B</title>\n<path fill=\"none\" stroke=\"#000000\" d=\"M242.2124,-49.196C254.2919,-55.1753 270.666,-63.2805 284.2825,-70.0207\"/>\n<polygon fill=\"#000000\" stroke=\"#000000\" points=\"283.0944,-73.3379 293.6093,-74.6375 286.1998,-67.0644 283.0944,-73.3379\"/>\n<text text-anchor=\"middle\" x=\"267.8904\" y=\"-68.4967\" font-family=\"Times,serif\" font-size=\"14.00\" fill=\"#000000\">f </text>\n</g>\n<!-- B&#45;&gt;F2 -->\n<g id=\"edge5\" class=\"edge\">\n<title>B&#45;&gt;F2</title>\n<path fill=\"none\" stroke=\"#000000\" d=\"M325.2625,-72.7774C331.6276,-68.6959 339.0964,-63.9394 345.8904,-59.6967 353.7007,-54.8193 362.2297,-49.5807 370.0304,-44.8234\"/>\n<polygon fill=\"#000000\" stroke=\"#000000\" points=\"372.0411,-47.6971 378.7664,-39.5105 368.4037,-41.7163 372.0411,-47.6971\"/>\n<text text-anchor=\"middle\" x=\"351.8904\" y=\"-63.4967\" font-family=\"Times,serif\" font-size=\"14.00\" fill=\"#000000\">b </text>\n</g>\n<!-- B&#45;&gt;F1 -->\n<g id=\"edge2\" class=\"edge\">\n<title>B&#45;&gt;F1</title>\n<path fill=\"none\" stroke=\"#000000\" d=\"M327.8968,-82.3869C357.5205,-81.8773 416.8797,-80.8562 453.3416,-80.229\"/>\n<polygon fill=\"#000000\" stroke=\"#000000\" points=\"453.4811,-83.7272 463.4194,-80.0556 453.3606,-76.7282 453.4811,-83.7272\"/>\n<text text-anchor=\"middle\" x=\"396.6886\" y=\"-84.4967\" font-family=\"Times,serif\" font-size=\"14.00\" fill=\"#000000\">&#39;&#39; </text>\n</g>\n<!-- B&#45;&gt;B -->\n<g id=\"edge6\" class=\"edge\">\n<title>B&#45;&gt;B</title>\n<path fill=\"none\" stroke=\"#000000\" d=\"M302.5076,-99.3607C300.867,-109.3217 303.3279,-118.6967 309.8904,-118.6967 314.0945,-118.6967 316.6153,-114.8492 317.4529,-109.4649\"/>\n<polygon fill=\"#000000\" stroke=\"#000000\" points=\"320.9505,-109.2969 317.2732,-99.3607 313.9517,-109.4214 320.9505,-109.2969\"/>\n<text text-anchor=\"middle\" x=\"309.8904\" y=\"-122.4967\" font-family=\"Times,serif\" font-size=\"14.00\" fill=\"#000000\">s </text>\n</g>\n</g>\n</svg>\n"
          },
          "metadata": {
            "tags": []
          },
          "execution_count": 210
        }
      ]
    },
    {
      "cell_type": "code",
      "metadata": {
        "id": "_1zdEmFo1Fas",
        "colab": {
          "base_uri": "https://localhost:8080/",
          "height": 224
        },
        "outputId": "1ab59fba-c0ae-4408-fb1f-6d2c49013548"
      },
      "source": [
        "DO[1]"
      ],
      "execution_count": null,
      "outputs": [
        {
          "output_type": "execute_result",
          "data": {
            "text/plain": [
              "<graphviz.dot.Digraph at 0x7f1d745416a0>"
            ],
            "image/svg+xml": "<?xml version=\"1.0\" encoding=\"UTF-8\" standalone=\"no\"?>\n<!DOCTYPE svg PUBLIC \"-//W3C//DTD SVG 1.1//EN\"\n \"http://www.w3.org/Graphics/SVG/1.1/DTD/svg11.dtd\">\n<!-- Generated by graphviz version 2.40.1 (20161225.0304)\n -->\n<!-- Title: %3 Pages: 1 -->\n<svg width=\"658pt\" height=\"152pt\"\n viewBox=\"0.00 0.00 657.88 151.70\" xmlns=\"http://www.w3.org/2000/svg\" xmlns:xlink=\"http://www.w3.org/1999/xlink\">\n<g id=\"graph0\" class=\"graph\" transform=\"scale(1 1) rotate(0) translate(4 147.6967)\">\n<title>%3</title>\n<polygon fill=\"#ffffff\" stroke=\"transparent\" points=\"-4,4 -4,-147.6967 653.88,-147.6967 653.88,4 -4,4\"/>\n<!-- EMPTY -->\n<g id=\"node1\" class=\"node\">\n<title>EMPTY</title>\n</g>\n<!-- Real_I -->\n<g id=\"node2\" class=\"node\">\n<title>Real_I</title>\n<ellipse fill=\"none\" stroke=\"#000000\" cx=\"126.0969\" cy=\"-90.6967\" rx=\"35.194\" ry=\"35.194\"/>\n<text text-anchor=\"middle\" x=\"126.0969\" y=\"-86.9967\" font-family=\"Times,serif\" font-size=\"14.00\" fill=\"#000000\">Real_I</text>\n</g>\n<!-- EMPTY&#45;&gt;Real_I -->\n<g id=\"edge1\" class=\"edge\">\n<title>EMPTY&#45;&gt;Real_I</title>\n<path fill=\"none\" stroke=\"#000000\" d=\"M54.0787,-90.6967C62.3227,-90.6967 71.6196,-90.6967 80.7269,-90.6967\"/>\n<polygon fill=\"#000000\" stroke=\"#000000\" points=\"80.8626,-94.1968 90.8626,-90.6967 80.8625,-87.1968 80.8626,-94.1968\"/>\n</g>\n<!-- I4 -->\n<g id=\"node5\" class=\"node\">\n<title>I4</title>\n<ellipse fill=\"none\" stroke=\"#000000\" cx=\"232.0421\" cy=\"-121.6967\" rx=\"18.6979\" ry=\"18.6979\"/>\n<text text-anchor=\"middle\" x=\"232.0421\" y=\"-117.9967\" font-family=\"Times,serif\" font-size=\"14.00\" fill=\"#000000\">I4</text>\n</g>\n<!-- Real_I&#45;&gt;I4 -->\n<g id=\"edge9\" class=\"edge\">\n<title>Real_I&#45;&gt;I4</title>\n<path fill=\"none\" stroke=\"#000000\" d=\"M159.9099,-100.5905C174.194,-104.7701 190.6261,-109.5782 204.1955,-113.5486\"/>\n<polygon fill=\"#000000\" stroke=\"#000000\" points=\"203.3505,-116.9481 213.9311,-116.3973 205.3164,-110.2298 203.3505,-116.9481\"/>\n<text text-anchor=\"middle\" x=\"187.1938\" y=\"-115.4967\" font-family=\"Times,serif\" font-size=\"14.00\" fill=\"#000000\">&quot;&quot; </text>\n</g>\n<!-- I3 -->\n<g id=\"node6\" class=\"node\">\n<title>I3</title>\n<ellipse fill=\"none\" stroke=\"#000000\" cx=\"232.0421\" cy=\"-62.6967\" rx=\"18.6979\" ry=\"18.6979\"/>\n<text text-anchor=\"middle\" x=\"232.0421\" y=\"-58.9967\" font-family=\"Times,serif\" font-size=\"14.00\" fill=\"#000000\">I3</text>\n</g>\n<!-- Real_I&#45;&gt;I3 -->\n<g id=\"edge8\" class=\"edge\">\n<title>Real_I&#45;&gt;I3</title>\n<path fill=\"none\" stroke=\"#000000\" d=\"M160.2018,-81.6832C174.2346,-77.9744 190.2995,-73.7287 203.6741,-70.194\"/>\n<polygon fill=\"#000000\" stroke=\"#000000\" points=\"204.9596,-73.4745 213.7333,-67.5354 203.171,-66.7068 204.9596,-73.4745\"/>\n<text text-anchor=\"middle\" x=\"187.1938\" y=\"-80.4967\" font-family=\"Times,serif\" font-size=\"14.00\" fill=\"#000000\">&quot;&quot; </text>\n</g>\n<!-- F2 -->\n<g id=\"node3\" class=\"node\">\n<title>F2</title>\n<ellipse fill=\"none\" stroke=\"#000000\" cx=\"403.8904\" cy=\"-31.6967\" rx=\"20.5982\" ry=\"20.5982\"/>\n<text text-anchor=\"middle\" x=\"403.8904\" y=\"-27.9967\" font-family=\"Times,serif\" font-size=\"14.00\" fill=\"#000000\">F2</text>\n</g>\n<!-- F1 -->\n<g id=\"node4\" class=\"node\">\n<title>F1</title>\n<ellipse fill=\"none\" stroke=\"#000000\" cx=\"493.6886\" cy=\"-83.6967\" rx=\"20.5982\" ry=\"20.5982\"/>\n<text text-anchor=\"middle\" x=\"493.6886\" y=\"-79.9967\" font-family=\"Times,serif\" font-size=\"14.00\" fill=\"#000000\">F1</text>\n</g>\n<!-- F2&#45;&gt;F1 -->\n<g id=\"edge6\" class=\"edge\">\n<title>F2&#45;&gt;F1</title>\n<path fill=\"none\" stroke=\"#000000\" d=\"M422.4326,-41.577C432.1641,-46.8377 444.2458,-53.4879 454.8904,-59.6967 458.9248,-62.0498 463.1592,-64.5923 467.2874,-67.1121\"/>\n<polygon fill=\"#000000\" stroke=\"#000000\" points=\"465.6878,-70.2377 476.0362,-72.5096 469.3632,-64.2802 465.6878,-70.2377\"/>\n<text text-anchor=\"middle\" x=\"449.8904\" y=\"-63.4967\" font-family=\"Times,serif\" font-size=\"14.00\" fill=\"#000000\">a </text>\n</g>\n<!-- Real_F -->\n<g id=\"node7\" class=\"node\">\n<title>Real_F</title>\n<ellipse fill=\"none\" stroke=\"#000000\" cx=\"608.1834\" cy=\"-41.6967\" rx=\"37.8753\" ry=\"37.8753\"/>\n<ellipse fill=\"none\" stroke=\"#000000\" cx=\"608.1834\" cy=\"-41.6967\" rx=\"41.8942\" ry=\"41.8942\"/>\n<text text-anchor=\"middle\" x=\"608.1834\" y=\"-37.9967\" font-family=\"Times,serif\" font-size=\"14.00\" fill=\"#000000\">Real_F</text>\n</g>\n<!-- F2&#45;&gt;Real_F -->\n<g id=\"edge10\" class=\"edge\">\n<title>F2&#45;&gt;Real_F</title>\n<path fill=\"none\" stroke=\"#000000\" d=\"M424.9839,-32.7292C455.6869,-34.2321 513.657,-37.0697 556.1929,-39.1518\"/>\n<polygon fill=\"#000000\" stroke=\"#000000\" points=\"556.2165,-42.657 566.3757,-39.6502 556.5588,-35.6654 556.2165,-42.657\"/>\n<text text-anchor=\"middle\" x=\"493.6886\" y=\"-41.4967\" font-family=\"Times,serif\" font-size=\"14.00\" fill=\"#000000\">&quot;&quot; </text>\n</g>\n<!-- F1&#45;&gt;Real_F -->\n<g id=\"edge11\" class=\"edge\">\n<title>F1&#45;&gt;Real_F</title>\n<path fill=\"none\" stroke=\"#000000\" d=\"M513.3709,-76.4766C526.0914,-71.8104 543.2422,-65.519 559.4595,-59.57\"/>\n<polygon fill=\"#000000\" stroke=\"#000000\" points=\"560.6767,-62.8516 568.8596,-56.1217 558.266,-56.2798 560.6767,-62.8516\"/>\n<text text-anchor=\"middle\" x=\"540.4867\" y=\"-73.4967\" font-family=\"Times,serif\" font-size=\"14.00\" fill=\"#000000\">&quot;&quot; </text>\n</g>\n<!-- I4&#45;&gt;F2 -->\n<g id=\"edge4\" class=\"edge\">\n<title>I4&#45;&gt;F2</title>\n<path fill=\"none\" stroke=\"#000000\" d=\"M250.6449,-118.1201C277.2203,-112.3823 326.8219,-99.295 362.8904,-75.6967 370.8032,-70.5196 378.2485,-63.499 384.5668,-56.5871\"/>\n<polygon fill=\"#000000\" stroke=\"#000000\" points=\"387.5419,-58.4969 391.4268,-48.64 382.243,-53.9228 387.5419,-58.4969\"/>\n<text text-anchor=\"middle\" x=\"315.8904\" y=\"-118.4967\" font-family=\"Times,serif\" font-size=\"14.00\" fill=\"#000000\">(d ((s)* b)) </text>\n</g>\n<!-- I4&#45;&gt;F1 -->\n<g id=\"edge5\" class=\"edge\">\n<title>I4&#45;&gt;F1</title>\n<path fill=\"none\" stroke=\"#000000\" d=\"M249.756,-128.7132C255.7349,-130.7435 262.5114,-132.6841 268.8904,-133.6967 310.1517,-140.2459 321.7654,-141.0527 362.8904,-133.6967 399.813,-127.0923 439.7405,-110.2869 465.6392,-97.9755\"/>\n<polygon fill=\"#000000\" stroke=\"#000000\" points=\"467.3751,-101.0235 474.8427,-93.5077 464.3181,-94.7262 467.3751,-101.0235\"/>\n<text text-anchor=\"middle\" x=\"403.8904\" y=\"-132.4967\" font-family=\"Times,serif\" font-size=\"14.00\" fill=\"#000000\">(d (s)*) </text>\n</g>\n<!-- I3&#45;&gt;F2 -->\n<g id=\"edge2\" class=\"edge\">\n<title>I3&#45;&gt;F2</title>\n<path fill=\"none\" stroke=\"#000000\" d=\"M241.7761,-46.3585C248.2022,-37.256 257.5269,-26.7623 268.8904,-21.6967 302.7287,-6.6122 346.0835,-13.8972 374.4034,-21.722\"/>\n<polygon fill=\"#000000\" stroke=\"#000000\" points=\"373.5295,-25.1133 384.1113,-24.5888 375.512,-18.3999 373.5295,-25.1133\"/>\n<text text-anchor=\"middle\" x=\"315.8904\" y=\"-25.4967\" font-family=\"Times,serif\" font-size=\"14.00\" fill=\"#000000\">((f ((s)* b)) + c) </text>\n</g>\n<!-- I3&#45;&gt;F2 -->\n<g id=\"edge7\" class=\"edge\">\n<title>I3&#45;&gt;F2</title>\n<path fill=\"none\" stroke=\"#000000\" d=\"M250.76,-59.3201C280.1656,-54.0156 337.4906,-43.6746 373.0517,-37.2597\"/>\n<polygon fill=\"#000000\" stroke=\"#000000\" points=\"374.1144,-40.6246 383.3342,-35.4048 372.8717,-33.7358 374.1144,-40.6246\"/>\n<text text-anchor=\"middle\" x=\"315.8904\" y=\"-60.4967\" font-family=\"Times,serif\" font-size=\"14.00\" fill=\"#000000\">c </text>\n</g>\n<!-- I3&#45;&gt;F1 -->\n<g id=\"edge3\" class=\"edge\">\n<title>I3&#45;&gt;F1</title>\n<path fill=\"none\" stroke=\"#000000\" d=\"M249.7812,-69.5639C255.7618,-71.5842 262.533,-73.5567 268.8904,-74.6967 337.1163,-86.93 418.7764,-86.5277 462.4604,-85.1294\"/>\n<polygon fill=\"#000000\" stroke=\"#000000\" points=\"462.8497,-88.6177 472.717,-84.7595 462.5973,-81.6223 462.8497,-88.6177\"/>\n<text text-anchor=\"middle\" x=\"403.8904\" y=\"-90.4967\" font-family=\"Times,serif\" font-size=\"14.00\" fill=\"#000000\">(f (s)*) </text>\n</g>\n</g>\n</svg>\n"
          },
          "metadata": {
            "tags": []
          },
          "execution_count": 199
        }
      ]
    },
    {
      "cell_type": "code",
      "metadata": {
        "id": "NIdTl0pPIhl1",
        "colab": {
          "base_uri": "https://localhost:8080/",
          "height": 290
        },
        "outputId": "154339fe-9f45-4759-d337-6c056ec6e85f"
      },
      "source": [
        "DO[2]"
      ],
      "execution_count": null,
      "outputs": [
        {
          "output_type": "execute_result",
          "data": {
            "text/plain": [
              "<graphviz.dot.Digraph at 0x7f1d7452a4e0>"
            ],
            "image/svg+xml": "<?xml version=\"1.0\" encoding=\"UTF-8\" standalone=\"no\"?>\n<!DOCTYPE svg PUBLIC \"-//W3C//DTD SVG 1.1//EN\"\n \"http://www.w3.org/Graphics/SVG/1.1/DTD/svg11.dtd\">\n<!-- Generated by graphviz version 2.40.1 (20161225.0304)\n -->\n<!-- Title: %3 Pages: 1 -->\n<svg width=\"763pt\" height=\"202pt\"\n viewBox=\"0.00 0.00 763.28 201.57\" xmlns=\"http://www.w3.org/2000/svg\" xmlns:xlink=\"http://www.w3.org/1999/xlink\">\n<g id=\"graph0\" class=\"graph\" transform=\"scale(1 1) rotate(0) translate(4 197.571)\">\n<title>%3</title>\n<polygon fill=\"#ffffff\" stroke=\"transparent\" points=\"-4,4 -4,-197.571 759.2837,-197.571 759.2837,4 -4,4\"/>\n<!-- EMPTY -->\n<g id=\"node1\" class=\"node\">\n<title>EMPTY</title>\n</g>\n<!-- Real_I -->\n<g id=\"node2\" class=\"node\">\n<title>Real_I</title>\n<ellipse fill=\"none\" stroke=\"#000000\" cx=\"126.0969\" cy=\"-101.2463\" rx=\"35.194\" ry=\"35.194\"/>\n<text text-anchor=\"middle\" x=\"126.0969\" y=\"-97.5463\" font-family=\"Times,serif\" font-size=\"14.00\" fill=\"#000000\">Real_I</text>\n</g>\n<!-- EMPTY&#45;&gt;Real_I -->\n<g id=\"edge1\" class=\"edge\">\n<title>EMPTY&#45;&gt;Real_I</title>\n<path fill=\"none\" stroke=\"#000000\" d=\"M54.0787,-101.2463C62.3227,-101.2463 71.6196,-101.2463 80.7269,-101.2463\"/>\n<polygon fill=\"#000000\" stroke=\"#000000\" points=\"80.8626,-104.7464 90.8626,-101.2463 80.8625,-97.7464 80.8626,-104.7464\"/>\n</g>\n<!-- I3 -->\n<g id=\"node3\" class=\"node\">\n<title>I3</title>\n<ellipse fill=\"none\" stroke=\"#000000\" cx=\"232.0421\" cy=\"-139.2463\" rx=\"18.6979\" ry=\"18.6979\"/>\n<text text-anchor=\"middle\" x=\"232.0421\" y=\"-135.5463\" font-family=\"Times,serif\" font-size=\"14.00\" fill=\"#000000\">I3</text>\n</g>\n<!-- Real_I&#45;&gt;I3 -->\n<g id=\"edge8\" class=\"edge\">\n<title>Real_I&#45;&gt;I3</title>\n<path fill=\"none\" stroke=\"#000000\" d=\"M159.3279,-113.1655C173.8798,-118.3849 190.751,-124.4362 204.577,-129.3953\"/>\n<polygon fill=\"#000000\" stroke=\"#000000\" points=\"203.4351,-132.7039 214.0296,-132.7857 205.7985,-126.115 203.4351,-132.7039\"/>\n<text text-anchor=\"middle\" x=\"187.1938\" y=\"-129.0463\" font-family=\"Times,serif\" font-size=\"14.00\" fill=\"#000000\">&quot;&quot; </text>\n</g>\n<!-- I4 -->\n<g id=\"node5\" class=\"node\">\n<title>I4</title>\n<ellipse fill=\"none\" stroke=\"#000000\" cx=\"232.0421\" cy=\"-73.2463\" rx=\"18.6979\" ry=\"18.6979\"/>\n<text text-anchor=\"middle\" x=\"232.0421\" y=\"-69.5463\" font-family=\"Times,serif\" font-size=\"14.00\" fill=\"#000000\">I4</text>\n</g>\n<!-- Real_I&#45;&gt;I4 -->\n<g id=\"edge9\" class=\"edge\">\n<title>Real_I&#45;&gt;I4</title>\n<path fill=\"none\" stroke=\"#000000\" d=\"M160.2018,-92.2328C174.2346,-88.5241 190.2995,-84.2784 203.6741,-80.7436\"/>\n<polygon fill=\"#000000\" stroke=\"#000000\" points=\"204.9596,-84.0241 213.7333,-78.0851 203.171,-77.2565 204.9596,-84.0241\"/>\n<text text-anchor=\"middle\" x=\"187.1938\" y=\"-90.0463\" font-family=\"Times,serif\" font-size=\"14.00\" fill=\"#000000\">&quot;&quot; </text>\n</g>\n<!-- F1 -->\n<g id=\"node4\" class=\"node\">\n<title>F1</title>\n<ellipse fill=\"none\" stroke=\"#000000\" cx=\"557.3904\" cy=\"-106.2463\" rx=\"20.5982\" ry=\"20.5982\"/>\n<text text-anchor=\"middle\" x=\"557.3904\" y=\"-102.5463\" font-family=\"Times,serif\" font-size=\"14.00\" fill=\"#000000\">F1</text>\n</g>\n<!-- I3&#45;&gt;F1 -->\n<g id=\"edge2\" class=\"edge\">\n<title>I3&#45;&gt;F1</title>\n<path fill=\"none\" stroke=\"#000000\" d=\"M250.7344,-142.0616C292.0559,-147.7087 394.0683,-158.4723 476.8904,-141.2463 495.3717,-137.4024 514.8148,-129.0843 529.9622,-121.5215\"/>\n<polygon fill=\"#000000\" stroke=\"#000000\" points=\"531.9723,-124.4221 539.2426,-116.7154 528.7532,-118.2062 531.9723,-124.4221\"/>\n<text text-anchor=\"middle\" x=\"372.8904\" y=\"-154.0463\" font-family=\"Times,serif\" font-size=\"14.00\" fill=\"#000000\">(((((f ((s)* b)) + c) + c) a) + (f (s)*)) </text>\n</g>\n<!-- I3&#45;&gt;F1 -->\n<g id=\"edge6\" class=\"edge\">\n<title>I3&#45;&gt;F1</title>\n<path fill=\"none\" stroke=\"#000000\" d=\"M248.7989,-129.8965C254.9354,-126.9132 262.0535,-123.9472 268.8904,-122.2463 316.864,-110.3116 461.9795,-107.27 526.2183,-106.5022\"/>\n<polygon fill=\"#000000\" stroke=\"#000000\" points=\"526.5592,-109.9988 536.5206,-106.3905 526.4832,-102.9992 526.5592,-109.9988\"/>\n<text text-anchor=\"middle\" x=\"372.8904\" y=\"-126.0463\" font-family=\"Times,serif\" font-size=\"14.00\" fill=\"#000000\">(f (s)*) </text>\n</g>\n<!-- Real_F -->\n<g id=\"node6\" class=\"node\">\n<title>Real_F</title>\n<ellipse fill=\"none\" stroke=\"#000000\" cx=\"713.5871\" cy=\"-106.2463\" rx=\"37.8753\" ry=\"37.8753\"/>\n<ellipse fill=\"none\" stroke=\"#000000\" cx=\"713.5871\" cy=\"-106.2463\" rx=\"41.8942\" ry=\"41.8942\"/>\n<text text-anchor=\"middle\" x=\"713.5871\" y=\"-102.5463\" font-family=\"Times,serif\" font-size=\"14.00\" fill=\"#000000\">Real_F</text>\n</g>\n<!-- I3&#45;&gt;Real_F -->\n<g id=\"edge3\" class=\"edge\">\n<title>I3&#45;&gt;Real_F</title>\n<path fill=\"none\" stroke=\"#000000\" d=\"M244.9601,-153.4729C251.4632,-159.5799 259.8743,-166.0402 268.8904,-169.2463 416.5221,-221.744 468.8097,-177.7882 619.8904,-136.2463 634.342,-132.2726 649.8951,-127.4983 664.0966,-122.9391\"/>\n<polygon fill=\"#000000\" stroke=\"#000000\" points=\"665.2503,-126.2444 673.6823,-119.8295 663.0903,-119.586 665.2503,-126.2444\"/>\n<text text-anchor=\"middle\" x=\"557.3904\" y=\"-177.0463\" font-family=\"Times,serif\" font-size=\"14.00\" fill=\"#000000\">(((f ((s)* b)) + c) + c) </text>\n</g>\n<!-- F1&#45;&gt;Real_F -->\n<g id=\"edge10\" class=\"edge\">\n<title>F1&#45;&gt;Real_F</title>\n<path fill=\"none\" stroke=\"#000000\" d=\"M578.4558,-106.2463C599.6666,-106.2463 633.2183,-106.2463 661.582,-106.2463\"/>\n<polygon fill=\"#000000\" stroke=\"#000000\" points=\"661.7646,-109.7464 671.7645,-106.2463 661.7645,-102.7464 661.7646,-109.7464\"/>\n<text text-anchor=\"middle\" x=\"645.8904\" y=\"-110.0463\" font-family=\"Times,serif\" font-size=\"14.00\" fill=\"#000000\">&quot;&quot; </text>\n</g>\n<!-- I4&#45;&gt;F1 -->\n<g id=\"edge4\" class=\"edge\">\n<title>I4&#45;&gt;F1</title>\n<path fill=\"none\" stroke=\"#000000\" d=\"M251.1946,-73.3878C292.5883,-73.9192 393.3979,-76.4306 476.8904,-88.2463 493.7109,-90.6267 512.2278,-94.666 527.2573,-98.3157\"/>\n<polygon fill=\"#000000\" stroke=\"#000000\" points=\"526.4918,-101.7319 537.0415,-100.755 528.1852,-94.9398 526.4918,-101.7319\"/>\n<text text-anchor=\"middle\" x=\"372.8904\" y=\"-92.0463\" font-family=\"Times,serif\" font-size=\"14.00\" fill=\"#000000\">(((d ((s)* b)) a) + (d (s)*)) </text>\n</g>\n<!-- I4&#45;&gt;F1 -->\n<g id=\"edge7\" class=\"edge\">\n<title>I4&#45;&gt;F1</title>\n<path fill=\"none\" stroke=\"#000000\" d=\"M247.8937,-62.9725C254.1706,-59.478 261.616,-56.0114 268.8904,-54.2463 358.7282,-32.4485 388.2211,-28.0982 476.8904,-54.2463 498.0305,-60.4804 518.8472,-74.1863 534.0147,-85.9621\"/>\n<polygon fill=\"#000000\" stroke=\"#000000\" points=\"531.8404,-88.705 541.8261,-92.246 536.2281,-83.2507 531.8404,-88.705\"/>\n<text text-anchor=\"middle\" x=\"372.8904\" y=\"-58.0463\" font-family=\"Times,serif\" font-size=\"14.00\" fill=\"#000000\">(d (s)*) </text>\n</g>\n<!-- I4&#45;&gt;Real_F -->\n<g id=\"edge5\" class=\"edge\">\n<title>I4&#45;&gt;Real_F</title>\n<path fill=\"none\" stroke=\"#000000\" d=\"M241.7761,-56.9082C248.2022,-47.8056 257.5269,-37.3119 268.8904,-32.2463 411.8598,31.4866 471.4989,-11.4257 619.8904,-61.2463 635.899,-66.621 652.7237,-74.0792 667.6288,-81.3796\"/>\n<polygon fill=\"#000000\" stroke=\"#000000\" points=\"666.1274,-84.542 676.6369,-85.8847 669.2586,-78.2813 666.1274,-84.542\"/>\n<text text-anchor=\"middle\" x=\"557.3904\" y=\"-65.0463\" font-family=\"Times,serif\" font-size=\"14.00\" fill=\"#000000\">(d ((s)* b)) </text>\n</g>\n</g>\n</svg>\n"
          },
          "metadata": {
            "tags": []
          },
          "execution_count": 200
        }
      ]
    },
    {
      "cell_type": "code",
      "metadata": {
        "id": "TwxOx5R4Iig9",
        "colab": {
          "base_uri": "https://localhost:8080/",
          "height": 260
        },
        "outputId": "3c8d444e-fc6c-4477-938e-ede7ac56beaf"
      },
      "source": [
        "DO[3]"
      ],
      "execution_count": null,
      "outputs": [
        {
          "output_type": "execute_result",
          "data": {
            "text/plain": [
              "<graphviz.dot.Digraph at 0x7f1d7452a630>"
            ],
            "image/svg+xml": "<?xml version=\"1.0\" encoding=\"UTF-8\" standalone=\"no\"?>\n<!DOCTYPE svg PUBLIC \"-//W3C//DTD SVG 1.1//EN\"\n \"http://www.w3.org/Graphics/SVG/1.1/DTD/svg11.dtd\">\n<!-- Generated by graphviz version 2.40.1 (20161225.0304)\n -->\n<!-- Title: %3 Pages: 1 -->\n<svg width=\"795pt\" height=\"179pt\"\n viewBox=\"0.00 0.00 795.28 179.33\" xmlns=\"http://www.w3.org/2000/svg\" xmlns:xlink=\"http://www.w3.org/1999/xlink\">\n<g id=\"graph0\" class=\"graph\" transform=\"scale(1 1) rotate(0) translate(4 175.3298)\">\n<title>%3</title>\n<polygon fill=\"#ffffff\" stroke=\"transparent\" points=\"-4,4 -4,-175.3298 791.2837,-175.3298 791.2837,4 -4,4\"/>\n<!-- EMPTY -->\n<g id=\"node1\" class=\"node\">\n<title>EMPTY</title>\n</g>\n<!-- Real_I -->\n<g id=\"node2\" class=\"node\">\n<title>Real_I</title>\n<ellipse fill=\"none\" stroke=\"#000000\" cx=\"126.0969\" cy=\"-100.3298\" rx=\"35.194\" ry=\"35.194\"/>\n<text text-anchor=\"middle\" x=\"126.0969\" y=\"-96.6298\" font-family=\"Times,serif\" font-size=\"14.00\" fill=\"#000000\">Real_I</text>\n</g>\n<!-- EMPTY&#45;&gt;Real_I -->\n<g id=\"edge1\" class=\"edge\">\n<title>EMPTY&#45;&gt;Real_I</title>\n<path fill=\"none\" stroke=\"#000000\" d=\"M54.0787,-100.3298C62.3227,-100.3298 71.6196,-100.3298 80.7269,-100.3298\"/>\n<polygon fill=\"#000000\" stroke=\"#000000\" points=\"80.8626,-103.8299 90.8626,-100.3298 80.8625,-96.8299 80.8626,-103.8299\"/>\n</g>\n<!-- I3 -->\n<g id=\"node3\" class=\"node\">\n<title>I3</title>\n<ellipse fill=\"none\" stroke=\"#000000\" cx=\"232.0421\" cy=\"-128.3298\" rx=\"18.6979\" ry=\"18.6979\"/>\n<text text-anchor=\"middle\" x=\"232.0421\" y=\"-124.6298\" font-family=\"Times,serif\" font-size=\"14.00\" fill=\"#000000\">I3</text>\n</g>\n<!-- Real_I&#45;&gt;I3 -->\n<g id=\"edge6\" class=\"edge\">\n<title>Real_I&#45;&gt;I3</title>\n<path fill=\"none\" stroke=\"#000000\" d=\"M160.2018,-109.3433C174.2346,-113.0521 190.2995,-117.2978 203.6741,-120.8325\"/>\n<polygon fill=\"#000000\" stroke=\"#000000\" points=\"203.171,-124.3197 213.7333,-123.4911 204.9596,-117.552 203.171,-124.3197\"/>\n<text text-anchor=\"middle\" x=\"187.1938\" y=\"-123.1298\" font-family=\"Times,serif\" font-size=\"14.00\" fill=\"#000000\">&quot;&quot; </text>\n</g>\n<!-- I4 -->\n<g id=\"node4\" class=\"node\">\n<title>I4</title>\n<ellipse fill=\"none\" stroke=\"#000000\" cx=\"232.0421\" cy=\"-72.3298\" rx=\"18.6979\" ry=\"18.6979\"/>\n<text text-anchor=\"middle\" x=\"232.0421\" y=\"-68.6298\" font-family=\"Times,serif\" font-size=\"14.00\" fill=\"#000000\">I4</text>\n</g>\n<!-- Real_I&#45;&gt;I4 -->\n<g id=\"edge7\" class=\"edge\">\n<title>Real_I&#45;&gt;I4</title>\n<path fill=\"none\" stroke=\"#000000\" d=\"M160.2018,-91.3163C174.2346,-87.6076 190.2995,-83.3619 203.6741,-79.8271\"/>\n<polygon fill=\"#000000\" stroke=\"#000000\" points=\"204.9596,-83.1077 213.7333,-77.1686 203.171,-76.34 204.9596,-83.1077\"/>\n<text text-anchor=\"middle\" x=\"187.1938\" y=\"-90.1298\" font-family=\"Times,serif\" font-size=\"14.00\" fill=\"#000000\">&quot;&quot; </text>\n</g>\n<!-- Real_F -->\n<g id=\"node5\" class=\"node\">\n<title>Real_F</title>\n<ellipse fill=\"none\" stroke=\"#000000\" cx=\"745.5871\" cy=\"-100.3298\" rx=\"37.8753\" ry=\"37.8753\"/>\n<ellipse fill=\"none\" stroke=\"#000000\" cx=\"745.5871\" cy=\"-100.3298\" rx=\"41.8942\" ry=\"41.8942\"/>\n<text text-anchor=\"middle\" x=\"745.5871\" y=\"-96.6298\" font-family=\"Times,serif\" font-size=\"14.00\" fill=\"#000000\">Real_F</text>\n</g>\n<!-- I3&#45;&gt;Real_F -->\n<g id=\"edge2\" class=\"edge\">\n<title>I3&#45;&gt;Real_F</title>\n<path fill=\"none\" stroke=\"#000000\" d=\"M250.6552,-132.2273C313.4015,-144.6135 522.3856,-179.7271 685.8904,-135.3298 691.3252,-133.8541 696.7711,-131.7454 702.042,-129.2849\"/>\n<polygon fill=\"#000000\" stroke=\"#000000\" points=\"703.9993,-132.2146 711.3002,-124.5368 700.8049,-125.9859 703.9993,-132.2146\"/>\n<text text-anchor=\"middle\" x=\"477.3904\" y=\"-160.1298\" font-family=\"Times,serif\" font-size=\"14.00\" fill=\"#000000\">(((((((f ((s)* b)) + c) + c) a) + (f (s)*)) + (f (s)*)) + (((f ((s)* b)) + c) + c)) </text>\n</g>\n<!-- I3&#45;&gt;Real_F -->\n<g id=\"edge4\" class=\"edge\">\n<title>I3&#45;&gt;Real_F</title>\n<path fill=\"none\" stroke=\"#000000\" d=\"M249.777,-121.4385C255.7573,-119.4166 262.5293,-117.4492 268.8904,-116.3298 349.0981,-102.2154 587.4794,-100.3449 693.6133,-100.2356\"/>\n<polygon fill=\"#000000\" stroke=\"#000000\" points=\"693.7672,-103.7356 703.7653,-100.2302 693.7634,-96.7356 693.7672,-103.7356\"/>\n<text text-anchor=\"middle\" x=\"477.3904\" y=\"-120.1298\" font-family=\"Times,serif\" font-size=\"14.00\" fill=\"#000000\">(((f ((s)* b)) + c) + c) </text>\n</g>\n<!-- I4&#45;&gt;Real_F -->\n<g id=\"edge3\" class=\"edge\">\n<title>I4&#45;&gt;Real_F</title>\n<path fill=\"none\" stroke=\"#000000\" d=\"M251.2311,-70.9136C314.0886,-66.6649 519.3183,-55.8854 685.8904,-82.3298 689.3082,-82.8724 692.8033,-83.5602 696.3031,-84.3485\"/>\n<polygon fill=\"#000000\" stroke=\"#000000\" points=\"695.5686,-87.7724 706.1186,-86.7988 697.2641,-80.9808 695.5686,-87.7724\"/>\n<text text-anchor=\"middle\" x=\"477.3904\" y=\"-86.1298\" font-family=\"Times,serif\" font-size=\"14.00\" fill=\"#000000\">(((((d ((s)* b)) a) + (d (s)*)) + (d (s)*)) + (d ((s)* b))) </text>\n</g>\n<!-- I4&#45;&gt;Real_F -->\n<g id=\"edge5\" class=\"edge\">\n<title>I4&#45;&gt;Real_F</title>\n<path fill=\"none\" stroke=\"#000000\" d=\"M245.9689,-59.4223C252.4343,-54.2899 260.5321,-48.9818 268.8904,-46.3298 445.5452,9.7196 512.9433,20.2864 685.8904,-46.3298 694.7971,-49.7605 703.2003,-55.2041 710.7347,-61.3424\"/>\n<polygon fill=\"#000000\" stroke=\"#000000\" points=\"708.7304,-64.2405 718.5521,-68.2134 713.3516,-58.9827 708.7304,-64.2405\"/>\n<text text-anchor=\"middle\" x=\"477.3904\" y=\"-50.1298\" font-family=\"Times,serif\" font-size=\"14.00\" fill=\"#000000\">(d ((s)* b)) </text>\n</g>\n</g>\n</svg>\n"
          },
          "metadata": {
            "tags": []
          },
          "execution_count": 201
        }
      ]
    },
    {
      "cell_type": "code",
      "metadata": {
        "id": "jFPRQbaCIj3m",
        "colab": {
          "base_uri": "https://localhost:8080/",
          "height": 184
        },
        "outputId": "cbb4c37d-984c-4e2c-8cd0-3ffb662fba0b"
      },
      "source": [
        "DO[4]"
      ],
      "execution_count": null,
      "outputs": [
        {
          "output_type": "execute_result",
          "data": {
            "text/plain": [
              "<graphviz.dot.Digraph at 0x7f1d7452aa90>"
            ],
            "image/svg+xml": "<?xml version=\"1.0\" encoding=\"UTF-8\" standalone=\"no\"?>\n<!DOCTYPE svg PUBLIC \"-//W3C//DTD SVG 1.1//EN\"\n \"http://www.w3.org/Graphics/SVG/1.1/DTD/svg11.dtd\">\n<!-- Generated by graphviz version 2.40.1 (20161225.0304)\n -->\n<!-- Title: %3 Pages: 1 -->\n<svg width=\"1209pt\" height=\"107pt\"\n viewBox=\"0.00 0.00 1208.59 107.10\" xmlns=\"http://www.w3.org/2000/svg\" xmlns:xlink=\"http://www.w3.org/1999/xlink\">\n<g id=\"graph0\" class=\"graph\" transform=\"scale(1 1) rotate(0) translate(4 103.0969)\">\n<title>%3</title>\n<polygon fill=\"#ffffff\" stroke=\"transparent\" points=\"-4,4 -4,-103.0969 1204.5871,-103.0969 1204.5871,4 -4,4\"/>\n<!-- EMPTY -->\n<g id=\"node1\" class=\"node\">\n<title>EMPTY</title>\n</g>\n<!-- Real_I -->\n<g id=\"node2\" class=\"node\">\n<title>Real_I</title>\n<ellipse fill=\"none\" stroke=\"#000000\" cx=\"126.0969\" cy=\"-35.0969\" rx=\"35.194\" ry=\"35.194\"/>\n<text text-anchor=\"middle\" x=\"126.0969\" y=\"-31.3969\" font-family=\"Times,serif\" font-size=\"14.00\" fill=\"#000000\">Real_I</text>\n</g>\n<!-- EMPTY&#45;&gt;Real_I -->\n<g id=\"edge1\" class=\"edge\">\n<title>EMPTY&#45;&gt;Real_I</title>\n<path fill=\"none\" stroke=\"#000000\" d=\"M54.0787,-35.0969C62.3227,-35.0969 71.6196,-35.0969 80.7269,-35.0969\"/>\n<polygon fill=\"#000000\" stroke=\"#000000\" points=\"80.8626,-38.597 90.8626,-35.0969 80.8625,-31.597 80.8626,-38.597\"/>\n</g>\n<!-- I4 -->\n<g id=\"node3\" class=\"node\">\n<title>I4</title>\n<ellipse fill=\"none\" stroke=\"#000000\" cx=\"494.1938\" cy=\"-71.0969\" rx=\"18.6979\" ry=\"18.6979\"/>\n<text text-anchor=\"middle\" x=\"494.1938\" y=\"-67.3969\" font-family=\"Times,serif\" font-size=\"14.00\" fill=\"#000000\">I4</text>\n</g>\n<!-- Real_I&#45;&gt;I4 -->\n<g id=\"edge5\" class=\"edge\">\n<title>Real_I&#45;&gt;I4</title>\n<path fill=\"none\" stroke=\"#000000\" d=\"M161.0584,-38.5161C233.3065,-45.582 397.9058,-61.6799 464.9548,-68.2373\"/>\n<polygon fill=\"#000000\" stroke=\"#000000\" points=\"464.9197,-71.7505 475.2129,-69.2406 465.6011,-64.7837 464.9197,-71.7505\"/>\n<text text-anchor=\"middle\" x=\"187.1938\" y=\"-45.8969\" font-family=\"Times,serif\" font-size=\"14.00\" fill=\"#000000\">&quot;&quot; </text>\n</g>\n<!-- Real_F -->\n<g id=\"node4\" class=\"node\">\n<title>Real_F</title>\n<ellipse fill=\"none\" stroke=\"#000000\" cx=\"1158.8904\" cy=\"-52.0969\" rx=\"37.8753\" ry=\"37.8753\"/>\n<ellipse fill=\"none\" stroke=\"#000000\" cx=\"1158.8904\" cy=\"-52.0969\" rx=\"41.8942\" ry=\"41.8942\"/>\n<text text-anchor=\"middle\" x=\"1158.8904\" y=\"-48.3969\" font-family=\"Times,serif\" font-size=\"14.00\" fill=\"#000000\">Real_F</text>\n</g>\n<!-- Real_I&#45;&gt;Real_F -->\n<g id=\"edge2\" class=\"edge\">\n<title>Real_I&#45;&gt;Real_F</title>\n<path fill=\"none\" stroke=\"#000000\" d=\"M161.2321,-31.6277C177.0886,-30.2285 196.0657,-28.7841 213.1938,-28.0969 462.7708,-18.0837 525.4742,-22.7042 775.1938,-28.0969 919.2945,-31.2087 955.8468,-27.0511 1099.1938,-42.0969 1102.0351,-42.3951 1104.9463,-42.7428 1107.8804,-43.126\"/>\n<polygon fill=\"#000000\" stroke=\"#000000\" points=\"1107.4834,-46.6047 1117.8763,-44.546 1108.4679,-39.6743 1107.4834,-46.6047\"/>\n<text text-anchor=\"middle\" x=\"494.1938\" y=\"-31.8969\" font-family=\"Times,serif\" font-size=\"14.00\" fill=\"#000000\">((((((((f ((s)* b)) + c) + c) a) + (f (s)*)) + (f (s)*)) + (((f ((s)* b)) + c) + c)) + (((f ((s)* b)) + c) + c)) </text>\n</g>\n<!-- I4&#45;&gt;Real_F -->\n<g id=\"edge3\" class=\"edge\">\n<title>I4&#45;&gt;Real_F</title>\n<path fill=\"none\" stroke=\"#000000\" d=\"M513.134,-72.7591C587.9724,-78.9574 870.168,-98.8345 1099.1938,-68.0969 1102.3841,-67.6687 1105.6465,-67.1212 1108.9203,-66.4881\"/>\n<polygon fill=\"#000000\" stroke=\"#000000\" points=\"1109.6828,-69.9042 1118.715,-64.3662 1108.2007,-63.0629 1109.6828,-69.9042\"/>\n<text text-anchor=\"middle\" x=\"946.1938\" y=\"-87.8969\" font-family=\"Times,serif\" font-size=\"14.00\" fill=\"#000000\">(((((d ((s)* b)) a) + (d (s)*)) + (d (s)*)) + (d ((s)* b))) </text>\n</g>\n<!-- I4&#45;&gt;Real_F -->\n<g id=\"edge4\" class=\"edge\">\n<title>I4&#45;&gt;Real_F</title>\n<path fill=\"none\" stroke=\"#000000\" d=\"M513.0577,-69.225C560.2185,-64.6509 687.0833,-52.9953 793.1938,-49.0969 929.1021,-44.1037 963.2366,-45.6828 1099.1938,-49.0969 1101.7354,-49.1607 1104.3372,-49.2398 1106.9646,-49.3306\"/>\n<polygon fill=\"#000000\" stroke=\"#000000\" points=\"1107.0209,-52.8355 1117.151,-49.7319 1107.2965,-45.8409 1107.0209,-52.8355\"/>\n<text text-anchor=\"middle\" x=\"946.1938\" y=\"-52.8969\" font-family=\"Times,serif\" font-size=\"14.00\" fill=\"#000000\">(d ((s)* b)) </text>\n</g>\n</g>\n</svg>\n"
          },
          "metadata": {
            "tags": []
          },
          "execution_count": 202
        }
      ]
    },
    {
      "cell_type": "code",
      "metadata": {
        "id": "irJS4o0ZIlYp",
        "colab": {
          "base_uri": "https://localhost:8080/",
          "height": 204
        },
        "outputId": "fa1e0fa0-02fb-4659-e165-4403309f4fe0"
      },
      "source": [
        "DO[5]"
      ],
      "execution_count": null,
      "outputs": [
        {
          "output_type": "execute_result",
          "data": {
            "text/plain": [
              "<graphviz.dot.Digraph at 0x7f1d7452aa58>"
            ],
            "image/svg+xml": "<?xml version=\"1.0\" encoding=\"UTF-8\" standalone=\"no\"?>\n<!DOCTYPE svg PUBLIC \"-//W3C//DTD SVG 1.1//EN\"\n \"http://www.w3.org/Graphics/SVG/1.1/DTD/svg11.dtd\">\n<!-- Generated by graphviz version 2.40.1 (20161225.0304)\n -->\n<!-- Title: %3 Pages: 1 -->\n<svg width=\"1265pt\" height=\"122pt\"\n viewBox=\"0.00 0.00 1264.59 121.71\" xmlns=\"http://www.w3.org/2000/svg\" xmlns:xlink=\"http://www.w3.org/1999/xlink\">\n<g id=\"graph0\" class=\"graph\" transform=\"scale(1 1) rotate(0) translate(4 117.7089)\">\n<title>%3</title>\n<polygon fill=\"#ffffff\" stroke=\"transparent\" points=\"-4,4 -4,-117.7089 1260.5871,-117.7089 1260.5871,4 -4,4\"/>\n<!-- EMPTY -->\n<g id=\"node1\" class=\"node\">\n<title>EMPTY</title>\n</g>\n<!-- Real_I -->\n<g id=\"node2\" class=\"node\">\n<title>Real_I</title>\n<ellipse fill=\"none\" stroke=\"#000000\" cx=\"126.0969\" cy=\"-72.0123\" rx=\"35.194\" ry=\"35.194\"/>\n<text text-anchor=\"middle\" x=\"126.0969\" y=\"-68.3123\" font-family=\"Times,serif\" font-size=\"14.00\" fill=\"#000000\">Real_I</text>\n</g>\n<!-- EMPTY&#45;&gt;Real_I -->\n<g id=\"edge1\" class=\"edge\">\n<title>EMPTY&#45;&gt;Real_I</title>\n<path fill=\"none\" stroke=\"#000000\" d=\"M54.0787,-72.0123C62.3227,-72.0123 71.6196,-72.0123 80.7269,-72.0123\"/>\n<polygon fill=\"#000000\" stroke=\"#000000\" points=\"80.8626,-75.5124 90.8626,-72.0123 80.8625,-68.5124 80.8626,-75.5124\"/>\n</g>\n<!-- Real_F -->\n<g id=\"node3\" class=\"node\">\n<title>Real_F</title>\n<ellipse fill=\"none\" stroke=\"#000000\" cx=\"1214.8904\" cy=\"-72.0123\" rx=\"37.8753\" ry=\"37.8753\"/>\n<ellipse fill=\"none\" stroke=\"#000000\" cx=\"1214.8904\" cy=\"-72.0123\" rx=\"41.8942\" ry=\"41.8942\"/>\n<text text-anchor=\"middle\" x=\"1214.8904\" y=\"-68.3123\" font-family=\"Times,serif\" font-size=\"14.00\" fill=\"#000000\">Real_F</text>\n</g>\n<!-- Real_I&#45;&gt;Real_F -->\n<g id=\"edge2\" class=\"edge\">\n<title>Real_I&#45;&gt;Real_F</title>\n<path fill=\"none\" stroke=\"#000000\" d=\"M161.3963,-72.0123C320.646,-72.0123 972.6444,-72.0123 1162.6802,-72.0123\"/>\n<polygon fill=\"#000000\" stroke=\"#000000\" points=\"1162.9566,-75.5124 1172.9565,-72.0123 1162.9565,-68.5124 1162.9566,-75.5124\"/>\n<text text-anchor=\"middle\" x=\"667.1938\" y=\"-75.8123\" font-family=\"Times,serif\" font-size=\"14.00\" fill=\"#000000\">(((((((d ((s)* b)) a) + (d (s)*)) + (d (s)*)) + (d ((s)* b))) + (d ((s)* b))) + ((((((((f ((s)* b)) + c) + c) a) + (f (s)*)) + (f (s)*)) + (((f ((s)* b)) + c) + c)) + (((f ((s)* b)) + c) + c))) </text>\n</g>\n<!-- Real_I&#45;&gt;Real_F -->\n<g id=\"edge3\" class=\"edge\">\n<title>Real_I&#45;&gt;Real_F</title>\n<path fill=\"none\" stroke=\"#000000\" d=\"M158.4764,-58.4481C165.2107,-56.1915 172.3448,-54.2008 179.1938,-53.0123 606.5843,21.153 726.5542,13.5554 1155.1938,-53.0123 1158.6296,-53.5459 1162.1382,-54.2425 1165.6479,-55.0531\"/>\n<polygon fill=\"#000000\" stroke=\"#000000\" points=\"1164.9242,-58.481 1175.4822,-57.5986 1166.6783,-51.7044 1164.9242,-58.481\"/>\n<text text-anchor=\"middle\" x=\"667.1938\" y=\"-56.8123\" font-family=\"Times,serif\" font-size=\"14.00\" fill=\"#000000\">((((((((f ((s)* b)) + c) + c) a) + (f (s)*)) + (f (s)*)) + (((f ((s)* b)) + c) + c)) + (((f ((s)* b)) + c) + c)) </text>\n</g>\n</g>\n</svg>\n"
          },
          "metadata": {
            "tags": []
          },
          "execution_count": 203
        }
      ]
    },
    {
      "cell_type": "code",
      "metadata": {
        "id": "4xIOtGhHImvN",
        "colab": {
          "base_uri": "https://localhost:8080/",
          "height": 162
        },
        "outputId": "06cae68f-95b2-444a-db38-9a238390fcf2"
      },
      "source": [
        "DO[6]"
      ],
      "execution_count": null,
      "outputs": [
        {
          "output_type": "error",
          "ename": "IndexError",
          "evalue": "ignored",
          "traceback": [
            "\u001b[0;31m---------------------------------------------------------------------------\u001b[0m",
            "\u001b[0;31mIndexError\u001b[0m                                Traceback (most recent call last)",
            "\u001b[0;32m<ipython-input-204-9c644fee139e>\u001b[0m in \u001b[0;36m<module>\u001b[0;34m()\u001b[0m\n\u001b[0;32m----> 1\u001b[0;31m \u001b[0mDO\u001b[0m\u001b[0;34m[\u001b[0m\u001b[0;36m6\u001b[0m\u001b[0;34m]\u001b[0m\u001b[0;34m\u001b[0m\u001b[0;34m\u001b[0m\u001b[0m\n\u001b[0m",
            "\u001b[0;31mIndexError\u001b[0m: list index out of range"
          ]
        }
      ]
    },
    {
      "cell_type": "markdown",
      "metadata": {
        "id": "WisPrtobIz80"
      },
      "source": [
        "|Index|States Deleted| RE Introduced|\r\n",
        "|---|---|---|\r\n",
        "|0|None| N/A|\r\n",
        "|1|B|{ds\\*, ds\\*b, fs\\*, fs\\*b+c}|\r\n",
        "|2|F2|{(((f ((s)\\* b)) + c) + c), (((((f ((s)\\* b)) + c) + c) a) + (f (s)\\*)), (((d ((s)\\* b)) a) + (d (s)\\*))}|\r\n",
        "|3|F1|{(((((((f ((s)\\* b)) + c) + c) a) + (f (s)\\*)) + (f (s)\\*)) + (((f ((s)\\* b)) + c) + c)), (((f ((s)\\* b)) + c) + c),(((((d ((s)\\* b)) a) + (d (s)\\*)) + (d (s)\\*)) + (d ((s)\\* b)))} |\r\n",
        "|4|I3|{((((((((f ((s)\\* b)) + c) + c) a) + (f (s)\\*)) + (f (s)\\*)) + (((f ((s)\\* b)) + c) + c)) + (((f ((s)\\* b)) + c) + c))}|\r\n",
        "|5|I4|{(((((((d ((s)\\* b)) a) + (d (s)\\*)) + (d (s)\\*)) + (d ((s)\\* b))) + (d ((s)\\* b))) + ((((((((f ((s)\\* b)) + c) + c) a) + (f (s)\\*)) + (f (s)\\*)) + (((f ((s)\\* b)) + c) + c)) + (((f ((s)\\* b)) + c) + c)))}|"
      ]
    },
    {
      "cell_type": "markdown",
      "metadata": {
        "id": "xbzVZEQY1Fat"
      },
      "source": [
        "## Examine DO[0] through DO[Last_Legal_Item] (find out how long DO is)\n",
        "\n",
        "DO is 6 elements long\n",
        "\n",
        "---\n",
        "\n"
      ]
    },
    {
      "cell_type": "markdown",
      "metadata": {
        "id": "1QaSXKIu1Fat"
      },
      "source": [
        "## 3.4: Check for isomorphism as requested between Rev_RE1 and Rev_RE2\n",
        "\n",
        "Apply a Jove call that is compact (and will be given in class) that checks that Rev_RE1 and Rev_RE2 are equivalent. It has to involve iso_dfa and min_dfa and other calls."
      ]
    },
    {
      "cell_type": "code",
      "metadata": {
        "id": "ft9RVqT71Fat",
        "colab": {
          "base_uri": "https://localhost:8080/"
        },
        "outputId": "67aef72d-9a38-4eb3-914e-072683b161b6"
      },
      "source": [
        "iso_dfa(min_dfa(nfa2dfa(re2nfa(Rev_RE1))), min_dfa(nfa2dfa(re2nfa(Rev_RE2))))"
      ],
      "execution_count": null,
      "outputs": [
        {
          "output_type": "stream",
          "text": [
            "Generating LALR tables\n",
            "Generating LALR tables\n"
          ],
          "name": "stderr"
        },
        {
          "output_type": "execute_result",
          "data": {
            "text/plain": [
              "True"
            ]
          },
          "metadata": {
            "tags": []
          },
          "execution_count": 205
        }
      ]
    },
    {
      "cell_type": "code",
      "metadata": {
        "id": "y8DyxZvA1Fau",
        "colab": {
          "base_uri": "https://localhost:8080/",
          "height": 35
        },
        "outputId": "9431a1ab-51b1-4eee-be9e-fe979862ed33"
      },
      "source": [
        "# Just look at it again for comparison\n",
        "\n",
        "Rev_RE1_hand"
      ],
      "execution_count": null,
      "outputs": [
        {
          "output_type": "execute_result",
          "data": {
            "application/vnd.google.colaboratory.intrinsic+json": {
              "type": "string"
            },
            "text/plain": [
              "\"ca+c+f+d+((f+d)s*(b+ba+''))\""
            ]
          },
          "metadata": {
            "tags": []
          },
          "execution_count": 206
        }
      ]
    },
    {
      "cell_type": "markdown",
      "metadata": {
        "id": "SrFKBgbl1Fau"
      },
      "source": [
        "## 3.5: Check for isomorphism as requested between Rev_RE1 and Rev_RE1_hand\n",
        "\n",
        "Same methods as above."
      ]
    },
    {
      "cell_type": "code",
      "metadata": {
        "id": "ITE6hltC1Fau",
        "colab": {
          "base_uri": "https://localhost:8080/"
        },
        "outputId": "b83f7c54-f046-4f0a-945a-5573bebf9f56"
      },
      "source": [
        "iso_dfa(min_dfa(nfa2dfa(re2nfa(Rev_RE1))), min_dfa(nfa2dfa(re2nfa(Rev_RE1_hand))))"
      ],
      "execution_count": null,
      "outputs": [
        {
          "output_type": "stream",
          "text": [
            "Generating LALR tables\n",
            "Generating LALR tables\n"
          ],
          "name": "stderr"
        },
        {
          "output_type": "execute_result",
          "data": {
            "text/plain": [
              "True"
            ]
          },
          "metadata": {
            "tags": []
          },
          "execution_count": 207
        }
      ]
    },
    {
      "cell_type": "markdown",
      "metadata": {
        "id": "gAGEONPJ1Fav"
      },
      "source": [
        "# Problem 4: Chasing down the RE2NFA components\n",
        "\n",
        "Find out where the s* components are and explain the set of all strings that precede s* in Rev_RE2 and the NFA of Rev_RE2\n",
        "\n",
        "Find out where the ending \"a\" is, and find out the set of all the symbols that precede a\n",
        "\n",
        "Let's first look at the NFA and then see where the RE \"parts\" are in it."
      ]
    },
    {
      "cell_type": "code",
      "metadata": {
        "id": "reKK6EvN1Fav",
        "scrolled": true,
        "colab": {
          "base_uri": "https://localhost:8080/",
          "height": 986
        },
        "outputId": "fb33197d-3774-4f29-b7d3-acae2fa38714"
      },
      "source": [
        "dotObj_nfa(re2nfa(Rev_RE2))"
      ],
      "execution_count": null,
      "outputs": [
        {
          "output_type": "stream",
          "text": [
            "Generating LALR tables\n"
          ],
          "name": "stderr"
        },
        {
          "output_type": "execute_result",
          "data": {
            "text/plain": [
              "<graphviz.dot.Digraph at 0x7f1d7c13d780>"
            ],
            "image/svg+xml": "<?xml version=\"1.0\" encoding=\"UTF-8\" standalone=\"no\"?>\n<!DOCTYPE svg PUBLIC \"-//W3C//DTD SVG 1.1//EN\"\n \"http://www.w3.org/Graphics/SVG/1.1/DTD/svg11.dtd\">\n<!-- Generated by graphviz version 2.40.1 (20161225.0304)\n -->\n<!-- Title: %3 Pages: 1 -->\n<svg width=\"895pt\" height=\"711pt\"\n viewBox=\"0.00 0.00 894.75 711.19\" xmlns=\"http://www.w3.org/2000/svg\" xmlns:xlink=\"http://www.w3.org/1999/xlink\">\n<g id=\"graph0\" class=\"graph\" transform=\"scale(1 1) rotate(0) translate(4 707.1949)\">\n<title>%3</title>\n<polygon fill=\"#ffffff\" stroke=\"transparent\" points=\"-4,4 -4,-707.1949 890.7543,-707.1949 890.7543,4 -4,4\"/>\n<!-- EMPTY -->\n<g id=\"node1\" class=\"node\">\n<title>EMPTY</title>\n</g>\n<!-- St33 -->\n<g id=\"node2\" class=\"node\">\n<title>St33</title>\n<ellipse fill=\"none\" stroke=\"#000000\" cx=\"119.5975\" cy=\"-599.5975\" rx=\"28.6953\" ry=\"28.6953\"/>\n<text text-anchor=\"middle\" x=\"119.5975\" y=\"-595.8975\" font-family=\"Times,serif\" font-size=\"14.00\" fill=\"#000000\">St33</text>\n</g>\n<!-- EMPTY&#45;&gt;St33 -->\n<g id=\"edge2\" class=\"edge\">\n<title>EMPTY&#45;&gt;St33</title>\n<path fill=\"none\" stroke=\"#000000\" d=\"M30.1762,-369.66C37.2628,-407.2066 56.5154,-495.7477 91,-562.5975 92.1724,-564.8703 93.4893,-567.1439 94.8973,-569.3838\"/>\n<polygon fill=\"#000000\" stroke=\"#000000\" points=\"92.1198,-571.522 100.6671,-577.7826 97.8895,-567.5583 92.1198,-571.522\"/>\n</g>\n<!-- St14 -->\n<g id=\"node3\" class=\"node\">\n<title>St14</title>\n<ellipse fill=\"none\" stroke=\"#000000\" cx=\"194.7924\" cy=\"-467.5975\" rx=\"28.6953\" ry=\"28.6953\"/>\n<text text-anchor=\"middle\" x=\"194.7924\" y=\"-463.8975\" font-family=\"Times,serif\" font-size=\"14.00\" fill=\"#000000\">St14</text>\n</g>\n<!-- EMPTY&#45;&gt;St14 -->\n<g id=\"edge5\" class=\"edge\">\n<title>EMPTY&#45;&gt;St14</title>\n<path fill=\"none\" stroke=\"#000000\" d=\"M33.8009,-369.8917C43.1145,-392.2479 62.0554,-429.4551 91,-448.5975 110.0841,-461.2187 135.2524,-466.0471 156.0254,-467.6824\"/>\n<polygon fill=\"#000000\" stroke=\"#000000\" points=\"155.9438,-471.1834 166.1274,-468.2601 156.3435,-464.1948 155.9438,-471.1834\"/>\n</g>\n<!-- St31 -->\n<g id=\"node4\" class=\"node\">\n<title>St31</title>\n<ellipse fill=\"none\" stroke=\"#000000\" cx=\"119.5975\" cy=\"-524.5975\" rx=\"28.6953\" ry=\"28.6953\"/>\n<text text-anchor=\"middle\" x=\"119.5975\" y=\"-520.8975\" font-family=\"Times,serif\" font-size=\"14.00\" fill=\"#000000\">St31</text>\n</g>\n<!-- EMPTY&#45;&gt;St31 -->\n<g id=\"edge7\" class=\"edge\">\n<title>EMPTY&#45;&gt;St31</title>\n<path fill=\"none\" stroke=\"#000000\" d=\"M30.2697,-369.6885C35.6646,-396.042 48.2727,-445.7484 72,-481.5975 76.581,-488.5187 82.529,-495.0546 88.6597,-500.8429\"/>\n<polygon fill=\"#000000\" stroke=\"#000000\" points=\"86.6329,-503.7239 96.4339,-507.7477 91.2813,-498.4902 86.6329,-503.7239\"/>\n</g>\n<!-- St12 -->\n<g id=\"node7\" class=\"node\">\n<title>St12</title>\n<ellipse fill=\"none\" stroke=\"#000000\" cx=\"345.1822\" cy=\"-235.5975\" rx=\"28.6953\" ry=\"28.6953\"/>\n<text text-anchor=\"middle\" x=\"345.1822\" y=\"-231.8975\" font-family=\"Times,serif\" font-size=\"14.00\" fill=\"#000000\">St12</text>\n</g>\n<!-- EMPTY&#45;&gt;St12 -->\n<g id=\"edge9\" class=\"edge\">\n<title>EMPTY&#45;&gt;St12</title>\n<path fill=\"none\" stroke=\"#000000\" d=\"M33.1755,-333.5891C42.042,-310.7993 60.7301,-272.3774 91,-254.5975 158.6086,-214.8855 254.3957,-221.0438 306.9661,-228.5995\"/>\n<polygon fill=\"#000000\" stroke=\"#000000\" points=\"306.4686,-232.064 316.8828,-230.1161 307.5269,-225.1445 306.4686,-232.064\"/>\n</g>\n<!-- St22 -->\n<g id=\"node8\" class=\"node\">\n<title>St22</title>\n<ellipse fill=\"none\" stroke=\"#000000\" cx=\"119.5975\" cy=\"-28.5975\" rx=\"28.6953\" ry=\"28.6953\"/>\n<text text-anchor=\"middle\" x=\"119.5975\" y=\"-24.8975\" font-family=\"Times,serif\" font-size=\"14.00\" fill=\"#000000\">St22</text>\n</g>\n<!-- EMPTY&#45;&gt;St22 -->\n<g id=\"edge10\" class=\"edge\">\n<title>EMPTY&#45;&gt;St22</title>\n<path fill=\"none\" stroke=\"#000000\" d=\"M28.3287,-333.3087C32.293,-286.6123 46.6595,-160.0092 91,-65.5975 92.0871,-63.2827 93.3397,-60.9773 94.7006,-58.7142\"/>\n<polygon fill=\"#000000\" stroke=\"#000000\" points=\"97.7044,-60.5189 100.365,-50.2635 91.8898,-56.6214 97.7044,-60.5189\"/>\n</g>\n<!-- St20 -->\n<g id=\"node10\" class=\"node\">\n<title>St20</title>\n<ellipse fill=\"none\" stroke=\"#000000\" cx=\"119.5975\" cy=\"-103.5975\" rx=\"28.6953\" ry=\"28.6953\"/>\n<text text-anchor=\"middle\" x=\"119.5975\" y=\"-99.8975\" font-family=\"Times,serif\" font-size=\"14.00\" fill=\"#000000\">St20</text>\n</g>\n<!-- EMPTY&#45;&gt;St20 -->\n<g id=\"edge11\" class=\"edge\">\n<title>EMPTY&#45;&gt;St20</title>\n<path fill=\"none\" stroke=\"#000000\" d=\"M30.1762,-333.5349C37.2628,-295.9883 56.5154,-207.4472 91,-140.5975 92.1724,-138.3247 93.4893,-136.051 94.8973,-133.8111\"/>\n<polygon fill=\"#000000\" stroke=\"#000000\" points=\"97.8895,-135.6366 100.6671,-125.4123 92.1198,-131.6729 97.8895,-135.6366\"/>\n</g>\n<!-- St5 -->\n<g id=\"node11\" class=\"node\">\n<title>St5</title>\n<ellipse fill=\"none\" stroke=\"#000000\" cx=\"119.5975\" cy=\"-286.5975\" rx=\"23.2963\" ry=\"23.2963\"/>\n<text text-anchor=\"middle\" x=\"119.5975\" y=\"-282.8975\" font-family=\"Times,serif\" font-size=\"14.00\" fill=\"#000000\">St5</text>\n</g>\n<!-- EMPTY&#45;&gt;St5 -->\n<g id=\"edge3\" class=\"edge\">\n<title>EMPTY&#45;&gt;St5</title>\n<path fill=\"none\" stroke=\"#000000\" d=\"M52.7936,-333.4913C65.0548,-324.8844 79.7205,-314.5896 92.1831,-305.8414\"/>\n<polygon fill=\"#000000\" stroke=\"#000000\" points=\"94.2286,-308.6818 100.4024,-300.0717 90.2067,-302.9524 94.2286,-308.6818\"/>\n</g>\n<!-- St29 -->\n<g id=\"node17\" class=\"node\">\n<title>St29</title>\n<ellipse fill=\"none\" stroke=\"#000000\" cx=\"119.5975\" cy=\"-674.5975\" rx=\"28.6953\" ry=\"28.6953\"/>\n<text text-anchor=\"middle\" x=\"119.5975\" y=\"-670.8975\" font-family=\"Times,serif\" font-size=\"14.00\" fill=\"#000000\">St29</text>\n</g>\n<!-- EMPTY&#45;&gt;St29 -->\n<g id=\"edge1\" class=\"edge\">\n<title>EMPTY&#45;&gt;St29</title>\n<path fill=\"none\" stroke=\"#000000\" d=\"M28.3287,-369.8862C32.293,-416.5826 46.6595,-543.1857 91,-637.5975 92.0871,-639.9123 93.3397,-642.2176 94.7006,-644.4808\"/>\n<polygon fill=\"#000000\" stroke=\"#000000\" points=\"91.8898,-646.5736 100.365,-652.9314 97.7044,-642.676 91.8898,-646.5736\"/>\n</g>\n<!-- St1 -->\n<g id=\"node19\" class=\"node\">\n<title>St1</title>\n<ellipse fill=\"none\" stroke=\"#000000\" cx=\"119.5975\" cy=\"-351.5975\" rx=\"23.2963\" ry=\"23.2963\"/>\n<text text-anchor=\"middle\" x=\"119.5975\" y=\"-347.8975\" font-family=\"Times,serif\" font-size=\"14.00\" fill=\"#000000\">St1</text>\n</g>\n<!-- EMPTY&#45;&gt;St1 -->\n<g id=\"edge4\" class=\"edge\">\n<title>EMPTY&#45;&gt;St1</title>\n<path fill=\"none\" stroke=\"#000000\" d=\"M54.2815,-351.5975C64.2041,-351.5975 75.5373,-351.5975 85.9467,-351.5975\"/>\n<polygon fill=\"#000000\" stroke=\"#000000\" points=\"85.9617,-355.0976 95.9616,-351.5975 85.9616,-348.0976 85.9617,-355.0976\"/>\n</g>\n<!-- St3 -->\n<g id=\"node20\" class=\"node\">\n<title>St3</title>\n<ellipse fill=\"none\" stroke=\"#000000\" cx=\"119.5975\" cy=\"-416.5975\" rx=\"23.2963\" ry=\"23.2963\"/>\n<text text-anchor=\"middle\" x=\"119.5975\" y=\"-412.8975\" font-family=\"Times,serif\" font-size=\"14.00\" fill=\"#000000\">St3</text>\n</g>\n<!-- EMPTY&#45;&gt;St3 -->\n<g id=\"edge6\" class=\"edge\">\n<title>EMPTY&#45;&gt;St3</title>\n<path fill=\"none\" stroke=\"#000000\" d=\"M52.7936,-369.7036C65.0548,-378.3105 79.7205,-388.6053 92.1831,-397.3536\"/>\n<polygon fill=\"#000000\" stroke=\"#000000\" points=\"90.2067,-400.2425 100.4024,-403.1233 94.2286,-394.5131 90.2067,-400.2425\"/>\n</g>\n<!-- St24 -->\n<g id=\"node22\" class=\"node\">\n<title>St24</title>\n<ellipse fill=\"none\" stroke=\"#000000\" cx=\"119.5975\" cy=\"-178.5975\" rx=\"28.6953\" ry=\"28.6953\"/>\n<text text-anchor=\"middle\" x=\"119.5975\" y=\"-174.8975\" font-family=\"Times,serif\" font-size=\"14.00\" fill=\"#000000\">St24</text>\n</g>\n<!-- EMPTY&#45;&gt;St24 -->\n<g id=\"edge8\" class=\"edge\">\n<title>EMPTY&#45;&gt;St24</title>\n<path fill=\"none\" stroke=\"#000000\" d=\"M30.2697,-333.5065C35.6646,-307.1529 48.2727,-257.4466 72,-221.5975 76.581,-214.6762 82.529,-208.1403 88.6597,-202.352\"/>\n<polygon fill=\"#000000\" stroke=\"#000000\" points=\"91.2813,-204.7048 96.4339,-195.4473 86.6329,-199.471 91.2813,-204.7048\"/>\n</g>\n<!-- St34 -->\n<g id=\"node27\" class=\"node\">\n<title>St34</title>\n<ellipse fill=\"none\" stroke=\"#000000\" cx=\"269.9873\" cy=\"-599.5975\" rx=\"28.6953\" ry=\"28.6953\"/>\n<text text-anchor=\"middle\" x=\"269.9873\" y=\"-595.8975\" font-family=\"Times,serif\" font-size=\"14.00\" fill=\"#000000\">St34</text>\n</g>\n<!-- St33&#45;&gt;St34 -->\n<g id=\"edge46\" class=\"edge\">\n<title>St33&#45;&gt;St34</title>\n<path fill=\"none\" stroke=\"#000000\" d=\"M148.2386,-599.5975C171.6833,-599.5975 205.0821,-599.5975 230.9701,-599.5975\"/>\n<polygon fill=\"#000000\" stroke=\"#000000\" points=\"231.1971,-603.0976 241.197,-599.5975 231.197,-596.0976 231.1971,-603.0976\"/>\n<text text-anchor=\"middle\" x=\"194.7924\" y=\"-603.3975\" font-family=\"Times,serif\" font-size=\"14.00\" fill=\"#000000\">f </text>\n</g>\n<!-- St15 -->\n<g id=\"node26\" class=\"node\">\n<title>St15</title>\n<ellipse fill=\"none\" stroke=\"#000000\" cx=\"636.767\" cy=\"-466.5975\" rx=\"28.6953\" ry=\"28.6953\"/>\n<text text-anchor=\"middle\" x=\"636.767\" y=\"-462.8975\" font-family=\"Times,serif\" font-size=\"14.00\" fill=\"#000000\">St15</text>\n</g>\n<!-- St14&#45;&gt;St15 -->\n<g id=\"edge24\" class=\"edge\">\n<title>St14&#45;&gt;St15</title>\n<path fill=\"none\" stroke=\"#000000\" d=\"M223.6231,-467.5975C253.8964,-467.5975 302.8851,-467.5975 345.1822,-467.5975 345.1822,-467.5975 345.1822,-467.5975 531.5721,-467.5975 553.4009,-467.5975 577.7766,-467.3795 597.5629,-467.1471\"/>\n<polygon fill=\"#000000\" stroke=\"#000000\" points=\"597.7889,-470.6447 607.745,-467.0216 597.7025,-463.6452 597.7889,-470.6447\"/>\n<text text-anchor=\"middle\" x=\"424.3772\" y=\"-471.3975\" font-family=\"Times,serif\" font-size=\"14.00\" fill=\"#000000\">c </text>\n</g>\n<!-- St32 -->\n<g id=\"node29\" class=\"node\">\n<title>St32</title>\n<ellipse fill=\"none\" stroke=\"#000000\" cx=\"269.9873\" cy=\"-524.5975\" rx=\"28.6953\" ry=\"28.6953\"/>\n<text text-anchor=\"middle\" x=\"269.9873\" y=\"-520.8975\" font-family=\"Times,serif\" font-size=\"14.00\" fill=\"#000000\">St32</text>\n</g>\n<!-- St31&#45;&gt;St32 -->\n<g id=\"edge45\" class=\"edge\">\n<title>St31&#45;&gt;St32</title>\n<path fill=\"none\" stroke=\"#000000\" d=\"M148.2386,-524.5975C171.6833,-524.5975 205.0821,-524.5975 230.9701,-524.5975\"/>\n<polygon fill=\"#000000\" stroke=\"#000000\" points=\"231.1971,-528.0976 241.197,-524.5975 231.197,-521.0976 231.1971,-528.0976\"/>\n<text text-anchor=\"middle\" x=\"194.7924\" y=\"-528.3975\" font-family=\"Times,serif\" font-size=\"14.00\" fill=\"#000000\">f </text>\n</g>\n<!-- St25 -->\n<g id=\"node5\" class=\"node\">\n<title>St25</title>\n<ellipse fill=\"none\" stroke=\"#000000\" cx=\"269.9873\" cy=\"-178.5975\" rx=\"28.6953\" ry=\"28.6953\"/>\n<text text-anchor=\"middle\" x=\"269.9873\" y=\"-174.8975\" font-family=\"Times,serif\" font-size=\"14.00\" fill=\"#000000\">St25</text>\n</g>\n<!-- St28 -->\n<g id=\"node34\" class=\"node\">\n<title>St28</title>\n<ellipse fill=\"none\" stroke=\"#000000\" cx=\"424.3772\" cy=\"-103.5975\" rx=\"28.6832\" ry=\"28.6832\"/>\n<ellipse fill=\"none\" stroke=\"#000000\" cx=\"424.3772\" cy=\"-103.5975\" rx=\"32.6952\" ry=\"32.6952\"/>\n<text text-anchor=\"middle\" x=\"424.3772\" y=\"-99.8975\" font-family=\"Times,serif\" font-size=\"14.00\" fill=\"#000000\">St28</text>\n</g>\n<!-- St25&#45;&gt;St28 -->\n<g id=\"edge43\" class=\"edge\">\n<title>St25&#45;&gt;St28</title>\n<path fill=\"none\" stroke=\"#000000\" d=\"M295.8287,-166.0441C320.4311,-154.0927 357.7697,-135.9543 385.8769,-122.3002\"/>\n<polygon fill=\"#000000\" stroke=\"#000000\" points=\"387.5578,-125.3749 395.0233,-117.8571 384.4991,-119.0785 387.5578,-125.3749\"/>\n<text text-anchor=\"middle\" x=\"345.1822\" y=\"-157.3975\" font-family=\"Times,serif\" font-size=\"14.00\" fill=\"#000000\">&#39;&#39; </text>\n</g>\n<!-- St2 -->\n<g id=\"node6\" class=\"node\">\n<title>St2</title>\n<ellipse fill=\"none\" stroke=\"#000000\" cx=\"269.9873\" cy=\"-351.5975\" rx=\"23.2963\" ry=\"23.2963\"/>\n<text text-anchor=\"middle\" x=\"269.9873\" y=\"-347.8975\" font-family=\"Times,serif\" font-size=\"14.00\" fill=\"#000000\">St2</text>\n</g>\n<!-- St9 -->\n<g id=\"node24\" class=\"node\">\n<title>St9</title>\n<ellipse fill=\"none\" stroke=\"#000000\" cx=\"424.3772\" cy=\"-354.5975\" rx=\"23.2963\" ry=\"23.2963\"/>\n<text text-anchor=\"middle\" x=\"424.3772\" y=\"-350.8975\" font-family=\"Times,serif\" font-size=\"14.00\" fill=\"#000000\">St9</text>\n</g>\n<!-- St2&#45;&gt;St9 -->\n<g id=\"edge20\" class=\"edge\">\n<title>St2&#45;&gt;St9</title>\n<path fill=\"none\" stroke=\"#000000\" d=\"M293.4358,-352.0531C319.3554,-352.5567 361.3239,-353.3723 390.7434,-353.9439\"/>\n<polygon fill=\"#000000\" stroke=\"#000000\" points=\"390.8953,-357.4474 400.9614,-354.1425 391.0314,-350.4488 390.8953,-357.4474\"/>\n<text text-anchor=\"middle\" x=\"345.1822\" y=\"-356.3975\" font-family=\"Times,serif\" font-size=\"14.00\" fill=\"#000000\">&#39;&#39; </text>\n</g>\n<!-- St13 -->\n<g id=\"node28\" class=\"node\">\n<title>St13</title>\n<ellipse fill=\"none\" stroke=\"#000000\" cx=\"636.767\" cy=\"-235.5975\" rx=\"28.6953\" ry=\"28.6953\"/>\n<text text-anchor=\"middle\" x=\"636.767\" y=\"-231.8975\" font-family=\"Times,serif\" font-size=\"14.00\" fill=\"#000000\">St13</text>\n</g>\n<!-- St12&#45;&gt;St13 -->\n<g id=\"edge23\" class=\"edge\">\n<title>St12&#45;&gt;St13</title>\n<path fill=\"none\" stroke=\"#000000\" d=\"M373.9385,-235.5975C426.5275,-235.5975 538.2488,-235.5975 597.6798,-235.5975\"/>\n<polygon fill=\"#000000\" stroke=\"#000000\" points=\"597.7952,-239.0976 607.7952,-235.5975 597.7951,-232.0976 597.7952,-239.0976\"/>\n<text text-anchor=\"middle\" x=\"479.9746\" y=\"-239.3975\" font-family=\"Times,serif\" font-size=\"14.00\" fill=\"#000000\">c </text>\n</g>\n<!-- St23 -->\n<g id=\"node33\" class=\"node\">\n<title>St23</title>\n<ellipse fill=\"none\" stroke=\"#000000\" cx=\"269.9873\" cy=\"-28.5975\" rx=\"28.6953\" ry=\"28.6953\"/>\n<text text-anchor=\"middle\" x=\"269.9873\" y=\"-24.8975\" font-family=\"Times,serif\" font-size=\"14.00\" fill=\"#000000\">St23</text>\n</g>\n<!-- St22&#45;&gt;St23 -->\n<g id=\"edge36\" class=\"edge\">\n<title>St22&#45;&gt;St23</title>\n<path fill=\"none\" stroke=\"#000000\" d=\"M148.2386,-28.5975C171.6833,-28.5975 205.0821,-28.5975 230.9701,-28.5975\"/>\n<polygon fill=\"#000000\" stroke=\"#000000\" points=\"231.1971,-32.0976 241.197,-28.5975 231.197,-25.0976 231.1971,-32.0976\"/>\n<text text-anchor=\"middle\" x=\"194.7924\" y=\"-32.3975\" font-family=\"Times,serif\" font-size=\"14.00\" fill=\"#000000\">f </text>\n</g>\n<!-- St10 -->\n<g id=\"node9\" class=\"node\">\n<title>St10</title>\n<ellipse fill=\"none\" stroke=\"#000000\" cx=\"531.5721\" cy=\"-294.5975\" rx=\"28.6953\" ry=\"28.6953\"/>\n<text text-anchor=\"middle\" x=\"531.5721\" y=\"-290.8975\" font-family=\"Times,serif\" font-size=\"14.00\" fill=\"#000000\">St10</text>\n</g>\n<!-- St11 -->\n<g id=\"node14\" class=\"node\">\n<title>St11</title>\n<ellipse fill=\"none\" stroke=\"#000000\" cx=\"636.767\" cy=\"-310.5975\" rx=\"27.8951\" ry=\"27.8951\"/>\n<text text-anchor=\"middle\" x=\"636.767\" y=\"-306.8975\" font-family=\"Times,serif\" font-size=\"14.00\" fill=\"#000000\">St11</text>\n</g>\n<!-- St10&#45;&gt;St11 -->\n<g id=\"edge19\" class=\"edge\">\n<title>St10&#45;&gt;St11</title>\n<path fill=\"none\" stroke=\"#000000\" d=\"M560.0393,-298.9273C572.0425,-300.753 586.1861,-302.9042 599.0391,-304.8591\"/>\n<polygon fill=\"#000000\" stroke=\"#000000\" points=\"598.592,-308.3313 609.0047,-306.3748 599.6447,-301.4109 598.592,-308.3313\"/>\n<text text-anchor=\"middle\" x=\"584.1696\" y=\"-306.3975\" font-family=\"Times,serif\" font-size=\"14.00\" fill=\"#000000\">b </text>\n</g>\n<!-- St21 -->\n<g id=\"node23\" class=\"node\">\n<title>St21</title>\n<ellipse fill=\"none\" stroke=\"#000000\" cx=\"269.9873\" cy=\"-103.5975\" rx=\"28.6953\" ry=\"28.6953\"/>\n<text text-anchor=\"middle\" x=\"269.9873\" y=\"-99.8975\" font-family=\"Times,serif\" font-size=\"14.00\" fill=\"#000000\">St21</text>\n</g>\n<!-- St20&#45;&gt;St21 -->\n<g id=\"edge35\" class=\"edge\">\n<title>St20&#45;&gt;St21</title>\n<path fill=\"none\" stroke=\"#000000\" d=\"M148.2386,-103.5975C171.6833,-103.5975 205.0821,-103.5975 230.9701,-103.5975\"/>\n<polygon fill=\"#000000\" stroke=\"#000000\" points=\"231.1971,-107.0976 241.197,-103.5975 231.197,-100.0976 231.1971,-107.0976\"/>\n<text text-anchor=\"middle\" x=\"194.7924\" y=\"-107.3975\" font-family=\"Times,serif\" font-size=\"14.00\" fill=\"#000000\">d </text>\n</g>\n<!-- St6 -->\n<g id=\"node21\" class=\"node\">\n<title>St6</title>\n<ellipse fill=\"none\" stroke=\"#000000\" cx=\"269.9873\" cy=\"-286.5975\" rx=\"23.2963\" ry=\"23.2963\"/>\n<text text-anchor=\"middle\" x=\"269.9873\" y=\"-282.8975\" font-family=\"Times,serif\" font-size=\"14.00\" fill=\"#000000\">St6</text>\n</g>\n<!-- St5&#45;&gt;St6 -->\n<g id=\"edge14\" class=\"edge\">\n<title>St5&#45;&gt;St6</title>\n<path fill=\"none\" stroke=\"#000000\" d=\"M143.0959,-286.5975C168.002,-286.5975 207.5737,-286.5975 235.9041,-286.5975\"/>\n<polygon fill=\"#000000\" stroke=\"#000000\" points=\"236.1576,-290.0976 246.1576,-286.5975 236.1576,-283.0976 236.1576,-290.0976\"/>\n<text text-anchor=\"middle\" x=\"194.7924\" y=\"-290.3975\" font-family=\"Times,serif\" font-size=\"14.00\" fill=\"#000000\">f </text>\n</g>\n<!-- St30 -->\n<g id=\"node12\" class=\"node\">\n<title>St30</title>\n<ellipse fill=\"none\" stroke=\"#000000\" cx=\"269.9873\" cy=\"-674.5975\" rx=\"28.6953\" ry=\"28.6953\"/>\n<text text-anchor=\"middle\" x=\"269.9873\" y=\"-670.8975\" font-family=\"Times,serif\" font-size=\"14.00\" fill=\"#000000\">St30</text>\n</g>\n<!-- St37 -->\n<g id=\"node36\" class=\"node\">\n<title>St37</title>\n<ellipse fill=\"none\" stroke=\"#000000\" cx=\"424.3772\" cy=\"-599.5975\" rx=\"28.6832\" ry=\"28.6832\"/>\n<ellipse fill=\"none\" stroke=\"#000000\" cx=\"424.3772\" cy=\"-599.5975\" rx=\"32.6952\" ry=\"32.6952\"/>\n<text text-anchor=\"middle\" x=\"424.3772\" y=\"-595.8975\" font-family=\"Times,serif\" font-size=\"14.00\" fill=\"#000000\">St37</text>\n</g>\n<!-- St30&#45;&gt;St37 -->\n<g id=\"edge51\" class=\"edge\">\n<title>St30&#45;&gt;St37</title>\n<path fill=\"none\" stroke=\"#000000\" d=\"M295.8287,-662.0441C320.4311,-650.0927 357.7697,-631.9543 385.8769,-618.3002\"/>\n<polygon fill=\"#000000\" stroke=\"#000000\" points=\"387.5578,-621.3749 395.0233,-613.8571 384.4991,-615.0785 387.5578,-621.3749\"/>\n<text text-anchor=\"middle\" x=\"345.1822\" y=\"-653.3975\" font-family=\"Times,serif\" font-size=\"14.00\" fill=\"#000000\">&#39;&#39; </text>\n</g>\n<!-- St8 -->\n<g id=\"node13\" class=\"node\">\n<title>St8</title>\n<ellipse fill=\"none\" stroke=\"#000000\" cx=\"636.767\" cy=\"-386.5975\" rx=\"23.2963\" ry=\"23.2963\"/>\n<text text-anchor=\"middle\" x=\"636.767\" y=\"-382.8975\" font-family=\"Times,serif\" font-size=\"14.00\" fill=\"#000000\">St8</text>\n</g>\n<!-- St8&#45;&gt;St9 -->\n<g id=\"edge18\" class=\"edge\">\n<title>St8&#45;&gt;St9</title>\n<path fill=\"none\" stroke=\"#000000\" d=\"M614.1436,-392.5906C587.2363,-398.739 541.16,-406.1601 502.9746,-396.5975 484.9533,-392.0844 466.5455,-382.5646 452.0788,-373.7278\"/>\n<polygon fill=\"#000000\" stroke=\"#000000\" points=\"453.939,-370.763 443.6191,-368.3648 450.191,-376.6751 453.939,-370.763\"/>\n<text text-anchor=\"middle\" x=\"531.5721\" y=\"-404.3975\" font-family=\"Times,serif\" font-size=\"14.00\" fill=\"#000000\">&#39;&#39; </text>\n</g>\n<!-- St16 -->\n<g id=\"node16\" class=\"node\">\n<title>St16</title>\n<ellipse fill=\"none\" stroke=\"#000000\" cx=\"742.9619\" cy=\"-424.5975\" rx=\"28.6953\" ry=\"28.6953\"/>\n<text text-anchor=\"middle\" x=\"742.9619\" y=\"-420.8975\" font-family=\"Times,serif\" font-size=\"14.00\" fill=\"#000000\">St16</text>\n</g>\n<!-- St11&#45;&gt;St16 -->\n<g id=\"edge29\" class=\"edge\">\n<title>St11&#45;&gt;St16</title>\n<path fill=\"none\" stroke=\"#000000\" d=\"M653.1792,-333.7841C657.4471,-340.3428 661.8332,-347.6033 665.3645,-354.5975 675.6333,-374.9362 667.2124,-386.5282 683.3645,-402.5975 689.3679,-408.5701 697.1313,-412.9391 705.0589,-416.129\"/>\n<polygon fill=\"#000000\" stroke=\"#000000\" points=\"704.1083,-419.5036 714.703,-419.4639 706.396,-412.888 704.1083,-419.5036\"/>\n<text text-anchor=\"middle\" x=\"687.8645\" y=\"-412.3975\" font-family=\"Times,serif\" font-size=\"14.00\" fill=\"#000000\">&#39;&#39; </text>\n</g>\n<!-- St19 -->\n<g id=\"node37\" class=\"node\">\n<title>St19</title>\n<ellipse fill=\"none\" stroke=\"#000000\" cx=\"742.9619\" cy=\"-230.5975\" rx=\"28.6832\" ry=\"28.6832\"/>\n<ellipse fill=\"none\" stroke=\"#000000\" cx=\"742.9619\" cy=\"-230.5975\" rx=\"32.6952\" ry=\"32.6952\"/>\n<text text-anchor=\"middle\" x=\"742.9619\" y=\"-226.8975\" font-family=\"Times,serif\" font-size=\"14.00\" fill=\"#000000\">St19</text>\n</g>\n<!-- St11&#45;&gt;St19 -->\n<g id=\"edge30\" class=\"edge\">\n<title>St11&#45;&gt;St19</title>\n<path fill=\"none\" stroke=\"#000000\" d=\"M653.9885,-288.3477C667.1577,-271.345 683.1124,-250.7763 683.3645,-250.5975 688.7383,-246.7843 694.8922,-243.6574 701.1594,-241.105\"/>\n<polygon fill=\"#000000\" stroke=\"#000000\" points=\"702.7876,-244.2384 711.0053,-237.5511 700.4109,-237.6542 702.7876,-244.2384\"/>\n<text text-anchor=\"middle\" x=\"687.8645\" y=\"-254.3975\" font-family=\"Times,serif\" font-size=\"14.00\" fill=\"#000000\">&#39;&#39; </text>\n</g>\n<!-- St18 -->\n<g id=\"node38\" class=\"node\">\n<title>St18</title>\n<ellipse fill=\"none\" stroke=\"#000000\" cx=\"742.9619\" cy=\"-313.5975\" rx=\"28.6832\" ry=\"28.6832\"/>\n<ellipse fill=\"none\" stroke=\"#000000\" cx=\"742.9619\" cy=\"-313.5975\" rx=\"32.6952\" ry=\"32.6952\"/>\n<text text-anchor=\"middle\" x=\"742.9619\" y=\"-309.8975\" font-family=\"Times,serif\" font-size=\"14.00\" fill=\"#000000\">St18</text>\n</g>\n<!-- St11&#45;&gt;St18 -->\n<g id=\"edge31\" class=\"edge\">\n<title>St11&#45;&gt;St18</title>\n<path fill=\"none\" stroke=\"#000000\" d=\"M664.7684,-310.9836C673.5987,-311.1369 683.3901,-311.3394 692.3645,-311.5975 694.9019,-311.6704 697.5106,-311.7524 700.1422,-311.8403\"/>\n<polygon fill=\"#000000\" stroke=\"#000000\" points=\"700.1853,-315.344 710.3039,-312.2033 700.4352,-308.3485 700.1853,-315.344\"/>\n<text text-anchor=\"middle\" x=\"687.8645\" y=\"-315.3975\" font-family=\"Times,serif\" font-size=\"14.00\" fill=\"#000000\">&#39;&#39; </text>\n</g>\n<!-- St26 -->\n<g id=\"node15\" class=\"node\">\n<title>St26</title>\n<ellipse fill=\"none\" stroke=\"#000000\" cx=\"531.5721\" cy=\"-163.5975\" rx=\"28.6953\" ry=\"28.6953\"/>\n<text text-anchor=\"middle\" x=\"531.5721\" y=\"-159.8975\" font-family=\"Times,serif\" font-size=\"14.00\" fill=\"#000000\">St26</text>\n</g>\n<!-- St27 -->\n<g id=\"node31\" class=\"node\">\n<title>St27</title>\n<ellipse fill=\"none\" stroke=\"#000000\" cx=\"636.767\" cy=\"-131.5975\" rx=\"28.6953\" ry=\"28.6953\"/>\n<text text-anchor=\"middle\" x=\"636.767\" y=\"-127.8975\" font-family=\"Times,serif\" font-size=\"14.00\" fill=\"#000000\">St27</text>\n</g>\n<!-- St26&#45;&gt;St27 -->\n<g id=\"edge39\" class=\"edge\">\n<title>St26&#45;&gt;St27</title>\n<path fill=\"none\" stroke=\"#000000\" d=\"M558.9362,-155.2734C571.258,-151.5251 586.0011,-147.0403 599.3254,-142.9871\"/>\n<polygon fill=\"#000000\" stroke=\"#000000\" points=\"600.6259,-146.2499 609.1745,-139.991 598.5887,-139.5529 600.6259,-146.2499\"/>\n<text text-anchor=\"middle\" x=\"584.1696\" y=\"-151.3975\" font-family=\"Times,serif\" font-size=\"14.00\" fill=\"#000000\">s </text>\n</g>\n<!-- St17 -->\n<g id=\"node35\" class=\"node\">\n<title>St17</title>\n<ellipse fill=\"none\" stroke=\"#000000\" cx=\"854.1569\" cy=\"-424.5975\" rx=\"28.6832\" ry=\"28.6832\"/>\n<ellipse fill=\"none\" stroke=\"#000000\" cx=\"854.1569\" cy=\"-424.5975\" rx=\"32.6952\" ry=\"32.6952\"/>\n<text text-anchor=\"middle\" x=\"854.1569\" y=\"-420.8975\" font-family=\"Times,serif\" font-size=\"14.00\" fill=\"#000000\">St17</text>\n</g>\n<!-- St16&#45;&gt;St17 -->\n<g id=\"edge25\" class=\"edge\">\n<title>St16&#45;&gt;St17</title>\n<path fill=\"none\" stroke=\"#000000\" d=\"M771.5974,-424.5975C783.5802,-424.5975 797.7678,-424.5975 810.9713,-424.5975\"/>\n<polygon fill=\"#000000\" stroke=\"#000000\" points=\"811.2883,-428.0976 821.2883,-424.5975 811.2882,-421.0976 811.2883,-428.0976\"/>\n<text text-anchor=\"middle\" x=\"798.5594\" y=\"-428.3975\" font-family=\"Times,serif\" font-size=\"14.00\" fill=\"#000000\">a </text>\n</g>\n<!-- St29&#45;&gt;St30 -->\n<g id=\"edge44\" class=\"edge\">\n<title>St29&#45;&gt;St30</title>\n<path fill=\"none\" stroke=\"#000000\" d=\"M148.2386,-674.5975C171.6833,-674.5975 205.0821,-674.5975 230.9701,-674.5975\"/>\n<polygon fill=\"#000000\" stroke=\"#000000\" points=\"231.1971,-678.0976 241.197,-674.5975 231.197,-671.0976 231.1971,-678.0976\"/>\n<text text-anchor=\"middle\" x=\"194.7924\" y=\"-678.3975\" font-family=\"Times,serif\" font-size=\"14.00\" fill=\"#000000\">d </text>\n</g>\n<!-- St36 -->\n<g id=\"node18\" class=\"node\">\n<title>St36</title>\n<ellipse fill=\"none\" stroke=\"#000000\" cx=\"636.767\" cy=\"-594.5975\" rx=\"28.6953\" ry=\"28.6953\"/>\n<text text-anchor=\"middle\" x=\"636.767\" y=\"-590.8975\" font-family=\"Times,serif\" font-size=\"14.00\" fill=\"#000000\">St36</text>\n</g>\n<!-- St36&#45;&gt;St37 -->\n<g id=\"edge49\" class=\"edge\">\n<title>St36&#45;&gt;St37</title>\n<path fill=\"none\" stroke=\"#000000\" d=\"M608.1852,-595.9364C602.2323,-596.1837 595.9969,-596.4197 590.1696,-596.5975 548.4962,-597.8686 500.913,-598.6617 467.444,-599.1107\"/>\n<polygon fill=\"#000000\" stroke=\"#000000\" points=\"467.0527,-595.6154 457.0988,-599.2446 467.1433,-602.6148 467.0527,-595.6154\"/>\n<text text-anchor=\"middle\" x=\"531.5721\" y=\"-601.3975\" font-family=\"Times,serif\" font-size=\"14.00\" fill=\"#000000\">&#39;&#39; </text>\n</g>\n<!-- St1&#45;&gt;St2 -->\n<g id=\"edge12\" class=\"edge\">\n<title>St1&#45;&gt;St2</title>\n<path fill=\"none\" stroke=\"#000000\" d=\"M143.0959,-351.5975C168.002,-351.5975 207.5737,-351.5975 235.9041,-351.5975\"/>\n<polygon fill=\"#000000\" stroke=\"#000000\" points=\"236.1576,-355.0976 246.1576,-351.5975 236.1576,-348.0976 236.1576,-355.0976\"/>\n<text text-anchor=\"middle\" x=\"194.7924\" y=\"-355.3975\" font-family=\"Times,serif\" font-size=\"14.00\" fill=\"#000000\">d </text>\n</g>\n<!-- St4 -->\n<g id=\"node25\" class=\"node\">\n<title>St4</title>\n<ellipse fill=\"none\" stroke=\"#000000\" cx=\"269.9873\" cy=\"-416.5975\" rx=\"23.2963\" ry=\"23.2963\"/>\n<text text-anchor=\"middle\" x=\"269.9873\" y=\"-412.8975\" font-family=\"Times,serif\" font-size=\"14.00\" fill=\"#000000\">St4</text>\n</g>\n<!-- St3&#45;&gt;St4 -->\n<g id=\"edge13\" class=\"edge\">\n<title>St3&#45;&gt;St4</title>\n<path fill=\"none\" stroke=\"#000000\" d=\"M143.2965,-415.3834C150.6344,-415.0605 158.7471,-414.7572 166.1949,-414.5975 191.609,-414.0523 197.9757,-414.0523 223.3899,-414.5975 227.4629,-414.6848 231.7347,-414.8151 235.97,-414.9681\"/>\n<polygon fill=\"#000000\" stroke=\"#000000\" points=\"236.1556,-418.4783 246.2883,-415.3834 236.4372,-411.4839 236.1556,-418.4783\"/>\n<text text-anchor=\"middle\" x=\"194.7924\" y=\"-418.3975\" font-family=\"Times,serif\" font-size=\"14.00\" fill=\"#000000\">f </text>\n</g>\n<!-- St6&#45;&gt;St9 -->\n<g id=\"edge21\" class=\"edge\">\n<title>St6&#45;&gt;St9</title>\n<path fill=\"none\" stroke=\"#000000\" d=\"M291.4546,-296.0526C317.9211,-307.7096 363.1014,-327.609 393.3433,-340.9288\"/>\n<polygon fill=\"#000000\" stroke=\"#000000\" points=\"392.0321,-344.1757 402.5945,-345.0034 394.8537,-337.7695 392.0321,-344.1757\"/>\n<text text-anchor=\"middle\" x=\"345.1822\" y=\"-334.3975\" font-family=\"Times,serif\" font-size=\"14.00\" fill=\"#000000\">&#39;&#39; </text>\n</g>\n<!-- St24&#45;&gt;St25 -->\n<g id=\"edge37\" class=\"edge\">\n<title>St24&#45;&gt;St25</title>\n<path fill=\"none\" stroke=\"#000000\" d=\"M148.2386,-178.5975C171.6833,-178.5975 205.0821,-178.5975 230.9701,-178.5975\"/>\n<polygon fill=\"#000000\" stroke=\"#000000\" points=\"231.1971,-182.0976 241.197,-178.5975 231.197,-175.0976 231.1971,-182.0976\"/>\n<text text-anchor=\"middle\" x=\"194.7924\" y=\"-182.3975\" font-family=\"Times,serif\" font-size=\"14.00\" fill=\"#000000\">f </text>\n</g>\n<!-- St21&#45;&gt;St28 -->\n<g id=\"edge41\" class=\"edge\">\n<title>St21&#45;&gt;St28</title>\n<path fill=\"none\" stroke=\"#000000\" d=\"M298.665,-103.5975C321.9144,-103.5975 355.0378,-103.5975 381.448,-103.5975\"/>\n<polygon fill=\"#000000\" stroke=\"#000000\" points=\"381.5716,-107.0976 391.5716,-103.5975 381.5716,-100.0976 381.5716,-107.0976\"/>\n<text text-anchor=\"middle\" x=\"345.1822\" y=\"-107.3975\" font-family=\"Times,serif\" font-size=\"14.00\" fill=\"#000000\">&#39;&#39; </text>\n</g>\n<!-- St9&#45;&gt;St10 -->\n<g id=\"edge15\" class=\"edge\">\n<title>St9&#45;&gt;St10</title>\n<path fill=\"none\" stroke=\"#000000\" d=\"M445.0454,-343.0289C459.8293,-334.7539 480.0705,-323.4243 497.2588,-313.8036\"/>\n<polygon fill=\"#000000\" stroke=\"#000000\" points=\"499.4231,-316.6032 506.4396,-308.6648 496.0041,-310.4949 499.4231,-316.6032\"/>\n<text text-anchor=\"middle\" x=\"479.9746\" y=\"-328.3975\" font-family=\"Times,serif\" font-size=\"14.00\" fill=\"#000000\">&#39;&#39; </text>\n</g>\n<!-- St7 -->\n<g id=\"node30\" class=\"node\">\n<title>St7</title>\n<ellipse fill=\"none\" stroke=\"#000000\" cx=\"531.5721\" cy=\"-364.5975\" rx=\"23.2963\" ry=\"23.2963\"/>\n<text text-anchor=\"middle\" x=\"531.5721\" y=\"-360.8975\" font-family=\"Times,serif\" font-size=\"14.00\" fill=\"#000000\">St7</text>\n</g>\n<!-- St9&#45;&gt;St7 -->\n<g id=\"edge16\" class=\"edge\">\n<title>St9&#45;&gt;St7</title>\n<path fill=\"none\" stroke=\"#000000\" d=\"M447.9015,-356.792C462.5628,-358.1597 481.6628,-359.9415 497.9117,-361.4574\"/>\n<polygon fill=\"#000000\" stroke=\"#000000\" points=\"497.8207,-364.964 508.1026,-362.408 498.4709,-357.9942 497.8207,-364.964\"/>\n<text text-anchor=\"middle\" x=\"479.9746\" y=\"-363.3975\" font-family=\"Times,serif\" font-size=\"14.00\" fill=\"#000000\">&#39;&#39; </text>\n</g>\n<!-- St4&#45;&gt;St9 -->\n<g id=\"edge22\" class=\"edge\">\n<title>St4&#45;&gt;St9</title>\n<path fill=\"none\" stroke=\"#000000\" d=\"M291.7802,-407.8459C318.067,-397.2896 362.4692,-379.4585 392.5789,-367.367\"/>\n<polygon fill=\"#000000\" stroke=\"#000000\" points=\"394.2199,-370.4798 402.1953,-363.5053 391.6112,-363.984 394.2199,-370.4798\"/>\n<text text-anchor=\"middle\" x=\"345.1822\" y=\"-399.3975\" font-family=\"Times,serif\" font-size=\"14.00\" fill=\"#000000\">&#39;&#39; </text>\n</g>\n<!-- St15&#45;&gt;St16 -->\n<g id=\"edge26\" class=\"edge\">\n<title>St15&#45;&gt;St16</title>\n<path fill=\"none\" stroke=\"#000000\" d=\"M662.8863,-478.7486C672.4196,-481.5112 683.123,-482.6027 692.3645,-478.5975 703.3963,-473.8163 713.1242,-465.3143 721.0273,-456.4507\"/>\n<polygon fill=\"#000000\" stroke=\"#000000\" points=\"723.8035,-458.5859 727.4895,-448.6529 718.4137,-454.1192 723.8035,-458.5859\"/>\n<text text-anchor=\"middle\" x=\"687.8645\" y=\"-484.3975\" font-family=\"Times,serif\" font-size=\"14.00\" fill=\"#000000\">&#39;&#39; </text>\n</g>\n<!-- St15&#45;&gt;St19 -->\n<g id=\"edge27\" class=\"edge\">\n<title>St15&#45;&gt;St19</title>\n<path fill=\"none\" stroke=\"#000000\" d=\"M653.0641,-442.4113C657.5304,-435.0039 662.0491,-426.6736 665.3645,-418.5975 678.0545,-387.6846 672.1556,-377.0777 683.3645,-345.5975 686.4987,-336.7949 688.9044,-335.2771 692.3645,-326.5975 701.8886,-302.7056 698.1691,-294.2426 710.3645,-271.5975 711.8264,-268.8828 713.473,-266.168 715.2295,-263.5007\"/>\n<polygon fill=\"#000000\" stroke=\"#000000\" points=\"718.1867,-265.3815 721.1233,-255.2017 712.4795,-261.3283 718.1867,-265.3815\"/>\n<text text-anchor=\"middle\" x=\"687.8645\" y=\"-349.3975\" font-family=\"Times,serif\" font-size=\"14.00\" fill=\"#000000\">&#39;&#39; </text>\n</g>\n<!-- St15&#45;&gt;St18 -->\n<g id=\"edge28\" class=\"edge\">\n<title>St15&#45;&gt;St18</title>\n<path fill=\"none\" stroke=\"#000000\" d=\"M662.0887,-452.9789C672.5164,-446.3977 684.0705,-437.721 692.3645,-427.5975 704.9767,-412.2032 702.3073,-404.7945 710.3645,-386.5975 715.2323,-375.6036 720.5382,-363.6914 725.4284,-352.7411\"/>\n<polygon fill=\"#000000\" stroke=\"#000000\" points=\"728.7123,-353.9709 729.5973,-343.4131 722.3216,-351.1147 728.7123,-353.9709\"/>\n<text text-anchor=\"middle\" x=\"687.8645\" y=\"-440.3975\" font-family=\"Times,serif\" font-size=\"14.00\" fill=\"#000000\">&#39;&#39; </text>\n</g>\n<!-- St34&#45;&gt;St37 -->\n<g id=\"edge50\" class=\"edge\">\n<title>St34&#45;&gt;St37</title>\n<path fill=\"none\" stroke=\"#000000\" d=\"M298.665,-599.5975C321.9144,-599.5975 355.0378,-599.5975 381.448,-599.5975\"/>\n<polygon fill=\"#000000\" stroke=\"#000000\" points=\"381.5716,-603.0976 391.5716,-599.5975 381.5716,-596.0976 381.5716,-603.0976\"/>\n<text text-anchor=\"middle\" x=\"345.1822\" y=\"-603.3975\" font-family=\"Times,serif\" font-size=\"14.00\" fill=\"#000000\">&#39;&#39; </text>\n</g>\n<!-- St13&#45;&gt;St16 -->\n<g id=\"edge32\" class=\"edge\">\n<title>St13&#45;&gt;St16</title>\n<path fill=\"none\" stroke=\"#000000\" d=\"M655.7979,-257.4491C659.4308,-262.4905 662.8719,-268.0191 665.3645,-273.5975 682.1836,-311.2388 664.0104,-328.1946 683.3645,-364.5975 690.5191,-378.0544 701.6705,-390.4633 712.401,-400.4615\"/>\n<polygon fill=\"#000000\" stroke=\"#000000\" points=\"710.281,-403.2602 720.077,-407.2962 714.936,-398.0323 710.281,-403.2602\"/>\n<text text-anchor=\"middle\" x=\"687.8645\" y=\"-381.3975\" font-family=\"Times,serif\" font-size=\"14.00\" fill=\"#000000\">&#39;&#39; </text>\n</g>\n<!-- St13&#45;&gt;St19 -->\n<g id=\"edge33\" class=\"edge\">\n<title>St13&#45;&gt;St19</title>\n<path fill=\"none\" stroke=\"#000000\" d=\"M656.6334,-214.3632C664.269,-207.6632 673.5304,-201.0989 683.3645,-197.5975 692.8908,-194.2056 702.7016,-196.7604 711.5444,-201.668\"/>\n<polygon fill=\"#000000\" stroke=\"#000000\" points=\"709.7367,-204.6681 720.018,-207.2268 713.5764,-198.8151 709.7367,-204.6681\"/>\n<text text-anchor=\"middle\" x=\"687.8645\" y=\"-201.3975\" font-family=\"Times,serif\" font-size=\"14.00\" fill=\"#000000\">&#39;&#39; </text>\n</g>\n<!-- St13&#45;&gt;St18 -->\n<g id=\"edge34\" class=\"edge\">\n<title>St13&#45;&gt;St18</title>\n<path fill=\"none\" stroke=\"#000000\" d=\"M660.0719,-252.7149C674.0841,-263.0068 692.1889,-276.3048 707.9021,-287.846\"/>\n<polygon fill=\"#000000\" stroke=\"#000000\" points=\"706.2128,-290.948 716.3443,-294.0469 710.3567,-285.3062 706.2128,-290.948\"/>\n<text text-anchor=\"middle\" x=\"687.8645\" y=\"-278.3975\" font-family=\"Times,serif\" font-size=\"14.00\" fill=\"#000000\">&#39;&#39; </text>\n</g>\n<!-- St32&#45;&gt;St37 -->\n<g id=\"edge52\" class=\"edge\">\n<title>St32&#45;&gt;St37</title>\n<path fill=\"none\" stroke=\"#000000\" d=\"M295.8287,-537.1508C320.4311,-549.1022 357.7697,-567.2407 385.8769,-580.8947\"/>\n<polygon fill=\"#000000\" stroke=\"#000000\" points=\"384.4991,-584.1164 395.0233,-585.3378 387.5578,-577.82 384.4991,-584.1164\"/>\n<text text-anchor=\"middle\" x=\"345.1822\" y=\"-576.3975\" font-family=\"Times,serif\" font-size=\"14.00\" fill=\"#000000\">&#39;&#39; </text>\n</g>\n<!-- St7&#45;&gt;St8 -->\n<g id=\"edge17\" class=\"edge\">\n<title>St7&#45;&gt;St8</title>\n<path fill=\"none\" stroke=\"#000000\" d=\"M554.6576,-369.4255C569.0452,-372.4344 587.7889,-376.3544 603.7347,-379.6892\"/>\n<polygon fill=\"#000000\" stroke=\"#000000\" points=\"603.2307,-383.1595 613.7354,-381.7807 604.6637,-376.3077 603.2307,-383.1595\"/>\n<text text-anchor=\"middle\" x=\"584.1696\" y=\"-379.3975\" font-family=\"Times,serif\" font-size=\"14.00\" fill=\"#000000\">s </text>\n</g>\n<!-- St27&#45;&gt;St28 -->\n<g id=\"edge40\" class=\"edge\">\n<title>St27&#45;&gt;St28</title>\n<path fill=\"none\" stroke=\"#000000\" d=\"M609.4291,-122.5565C594.9531,-118.1646 576.7783,-113.27 560.1696,-110.5975 529.4094,-105.6478 494.2737,-103.9412 467.4497,-103.4493\"/>\n<polygon fill=\"#000000\" stroke=\"#000000\" points=\"467.2826,-99.9468 457.2367,-103.3129 467.189,-106.9462 467.2826,-99.9468\"/>\n<text text-anchor=\"middle\" x=\"531.5721\" y=\"-114.3975\" font-family=\"Times,serif\" font-size=\"14.00\" fill=\"#000000\">&#39;&#39; </text>\n</g>\n<!-- St35 -->\n<g id=\"node32\" class=\"node\">\n<title>St35</title>\n<ellipse fill=\"none\" stroke=\"#000000\" cx=\"531.5721\" cy=\"-558.5975\" rx=\"28.6953\" ry=\"28.6953\"/>\n<text text-anchor=\"middle\" x=\"531.5721\" y=\"-554.8975\" font-family=\"Times,serif\" font-size=\"14.00\" fill=\"#000000\">St35</text>\n</g>\n<!-- St35&#45;&gt;St36 -->\n<g id=\"edge48\" class=\"edge\">\n<title>St35&#45;&gt;St36</title>\n<path fill=\"none\" stroke=\"#000000\" d=\"M558.6624,-567.8684C571.2028,-572.16 586.2958,-577.3251 599.8572,-581.9661\"/>\n<polygon fill=\"#000000\" stroke=\"#000000\" points=\"598.8083,-585.3064 609.4029,-585.2329 601.0749,-578.6835 598.8083,-585.3064\"/>\n<text text-anchor=\"middle\" x=\"584.1696\" y=\"-581.3975\" font-family=\"Times,serif\" font-size=\"14.00\" fill=\"#000000\">s </text>\n</g>\n<!-- St23&#45;&gt;St28 -->\n<g id=\"edge42\" class=\"edge\">\n<title>St23&#45;&gt;St28</title>\n<path fill=\"none\" stroke=\"#000000\" d=\"M295.8287,-41.1508C320.4311,-53.1022 357.7697,-71.2407 385.8769,-84.8947\"/>\n<polygon fill=\"#000000\" stroke=\"#000000\" points=\"384.4991,-88.1164 395.0233,-89.3378 387.5578,-81.82 384.4991,-88.1164\"/>\n<text text-anchor=\"middle\" x=\"345.1822\" y=\"-81.3975\" font-family=\"Times,serif\" font-size=\"14.00\" fill=\"#000000\">&#39;&#39; </text>\n</g>\n<!-- St28&#45;&gt;St26 -->\n<g id=\"edge38\" class=\"edge\">\n<title>St28&#45;&gt;St26</title>\n<path fill=\"none\" stroke=\"#000000\" d=\"M452.822,-119.5188C466.4579,-127.1512 482.9029,-136.3559 497.2305,-144.3755\"/>\n<polygon fill=\"#000000\" stroke=\"#000000\" points=\"495.8537,-147.6158 506.2893,-149.446 499.2727,-141.5076 495.8537,-147.6158\"/>\n<text text-anchor=\"middle\" x=\"479.9746\" y=\"-140.3975\" font-family=\"Times,serif\" font-size=\"14.00\" fill=\"#000000\">&#39;&#39; </text>\n</g>\n<!-- St37&#45;&gt;St35 -->\n<g id=\"edge47\" class=\"edge\">\n<title>St37&#45;&gt;St35</title>\n<path fill=\"none\" stroke=\"#000000\" d=\"M455.0949,-587.8485C467.6172,-583.059 482.1907,-577.4849 495.2367,-572.4951\"/>\n<polygon fill=\"#000000\" stroke=\"#000000\" points=\"496.7662,-575.6574 504.8559,-568.8159 494.2654,-569.1193 496.7662,-575.6574\"/>\n<text text-anchor=\"middle\" x=\"479.9746\" y=\"-582.3975\" font-family=\"Times,serif\" font-size=\"14.00\" fill=\"#000000\">&#39;&#39; </text>\n</g>\n</g>\n</svg>\n"
          },
          "metadata": {
            "tags": []
          },
          "execution_count": 208
        }
      ]
    },
    {
      "cell_type": "markdown",
      "metadata": {
        "id": "rViHZD9k1Fav"
      },
      "source": [
        "\n",
        "This is an exercise in explaining how Rev_RE2 got translated to an NFA. You are to pick these cases and find an example of each, and explain below. What you pick does not matter.\n",
        "\n",
        "* Find a case where a Star is used, and explain the construction, pointing to the states involved. Use up to 6 bullets below. More or less based on how you explain (clarity not length emphasized).\n",
        "  - St28, St26, St27\n",
        "  - Since St28 transitions to St26 on an epsilon, and St27 transitions to St28 on an epsilon, and there is only one transition, 's', between St26 and St27. Because of this St28->St26->St27 can be reduced to St28->St28 on 's'.\n",
        "  - This looping on 's' represents the s* behaviour in the RE.\n",
        "\n",
        "* Find a case where the Star follows something (I.e. a concatenation of the form \"X\" followed by \"Star\" is used). Show how that concatenation construction is accomplished in the same manner (up to 6 bullets roughly) as above. More or less based on how you explain.\n",
        "  - We have already established that St28->St26->St27->St28 represents an s*.\n",
        "  - This state is preceded by St23 and St22. \n",
        "  - St22 is an initial state.\n",
        "  - St22 transitions to St23 on an 'f', and St23 epsilon transitions to St28\n",
        "  - This chain represents the RE f(s)*.\n",
        "  \n",
        "* Find a case where something follows Star (I.e. a concatenation of the form \"Star\" followed by \"X\"). Explain how the concatenation is accomplished.\n",
        "  - St9->St7->St8->St9 is also an construction of s*\n",
        "  - It is followed by St10->St11->St18.\n",
        "  - St9 transitions to St10 on an epsilon, St11 transitions to St18 on an epsilon, and St10->St11 on an 'b'.\n",
        "  - This behaviour models the RE (s)*b."
      ]
    },
    {
      "cell_type": "markdown",
      "metadata": {
        "id": "fmY0Ky9A1Faw"
      },
      "source": [
        "## Repeat finding out the aforesaid paths in your own Rev_RE1_hand"
      ]
    },
    {
      "cell_type": "code",
      "metadata": {
        "id": "R6k3FPqAPDKn",
        "colab": {
          "base_uri": "https://localhost:8080/",
          "height": 739
        },
        "outputId": "a9c7f7ce-c742-421e-8a44-71edd42d0ae5"
      },
      "source": [
        "dotObj_nfa(re2nfa(Rev_RE1_hand))"
      ],
      "execution_count": null,
      "outputs": [
        {
          "output_type": "stream",
          "text": [
            "Generating LALR tables\n"
          ],
          "name": "stderr"
        },
        {
          "output_type": "execute_result",
          "data": {
            "text/plain": [
              "<graphviz.dot.Digraph at 0x7f1d745dc240>"
            ],
            "image/svg+xml": "<?xml version=\"1.0\" encoding=\"UTF-8\" standalone=\"no\"?>\n<!DOCTYPE svg PUBLIC \"-//W3C//DTD SVG 1.1//EN\"\n \"http://www.w3.org/Graphics/SVG/1.1/DTD/svg11.dtd\">\n<!-- Generated by graphviz version 2.40.1 (20161225.0304)\n -->\n<!-- Title: %3 Pages: 1 -->\n<svg width=\"809pt\" height=\"526pt\"\n viewBox=\"0.00 0.00 809.36 526.00\" xmlns=\"http://www.w3.org/2000/svg\" xmlns:xlink=\"http://www.w3.org/1999/xlink\">\n<g id=\"graph0\" class=\"graph\" transform=\"scale(1 1) rotate(0) translate(4 521.9954)\">\n<title>%3</title>\n<polygon fill=\"#ffffff\" stroke=\"transparent\" points=\"-4,4 -4,-521.9954 805.3645,-521.9954 805.3645,4 -4,4\"/>\n<!-- EMPTY -->\n<g id=\"node1\" class=\"node\">\n<title>EMPTY</title>\n</g>\n<!-- St13 -->\n<g id=\"node3\" class=\"node\">\n<title>St13</title>\n<ellipse fill=\"none\" stroke=\"#000000\" cx=\"119.5975\" cy=\"-323.3979\" rx=\"28.6953\" ry=\"28.6953\"/>\n<text text-anchor=\"middle\" x=\"119.5975\" y=\"-319.6979\" font-family=\"Times,serif\" font-size=\"14.00\" fill=\"#000000\">St13</text>\n</g>\n<!-- EMPTY&#45;&gt;St13 -->\n<g id=\"edge6\" class=\"edge\">\n<title>EMPTY&#45;&gt;St13</title>\n<path fill=\"none\" stroke=\"#000000\" d=\"M41.0636,-222.4715C55.5092,-241.036 78.2663,-270.2819 95.5725,-292.5227\"/>\n<polygon fill=\"#000000\" stroke=\"#000000\" points=\"93.0063,-294.924 101.9097,-300.6668 98.5308,-290.6252 93.0063,-294.924\"/>\n</g>\n<!-- St1 -->\n<g id=\"node4\" class=\"node\">\n<title>St1</title>\n<ellipse fill=\"none\" stroke=\"#000000\" cx=\"119.5975\" cy=\"-40.3979\" rx=\"23.2963\" ry=\"23.2963\"/>\n<text text-anchor=\"middle\" x=\"119.5975\" y=\"-36.6979\" font-family=\"Times,serif\" font-size=\"14.00\" fill=\"#000000\">St1</text>\n</g>\n<!-- EMPTY&#45;&gt;St1 -->\n<g id=\"edge2\" class=\"edge\">\n<title>EMPTY&#45;&gt;St1</title>\n<path fill=\"none\" stroke=\"#000000\" d=\"M34.4864,-186.1841C45.361,-160.5536 66.8809,-112.796 91,-75.3979 93.0334,-72.245 95.3048,-69.0489 97.6544,-65.9358\"/>\n<polygon fill=\"#000000\" stroke=\"#000000\" points=\"100.4911,-67.9911 103.9466,-57.9756 94.9996,-63.6503 100.4911,-67.9911\"/>\n</g>\n<!-- St5 -->\n<g id=\"node6\" class=\"node\">\n<title>St5</title>\n<ellipse fill=\"none\" stroke=\"#000000\" cx=\"119.5975\" cy=\"-249.3979\" rx=\"23.2963\" ry=\"23.2963\"/>\n<text text-anchor=\"middle\" x=\"119.5975\" y=\"-245.6979\" font-family=\"Times,serif\" font-size=\"14.00\" fill=\"#000000\">St5</text>\n</g>\n<!-- EMPTY&#45;&gt;St5 -->\n<g id=\"edge1\" class=\"edge\">\n<title>EMPTY&#45;&gt;St5</title>\n<path fill=\"none\" stroke=\"#000000\" d=\"M54.2815,-217.656C65.2844,-223.0032 78.0217,-229.1932 89.3106,-234.6793\"/>\n<polygon fill=\"#000000\" stroke=\"#000000\" points=\"87.8588,-237.8651 98.3828,-239.0881 90.9184,-231.5692 87.8588,-237.8651\"/>\n</g>\n<!-- St7 -->\n<g id=\"node8\" class=\"node\">\n<title>St7</title>\n<ellipse fill=\"none\" stroke=\"#000000\" cx=\"119.5975\" cy=\"-180.3979\" rx=\"23.2963\" ry=\"23.2963\"/>\n<text text-anchor=\"middle\" x=\"119.5975\" y=\"-176.6979\" font-family=\"Times,serif\" font-size=\"14.00\" fill=\"#000000\">St7</text>\n</g>\n<!-- EMPTY&#45;&gt;St7 -->\n<g id=\"edge4\" class=\"edge\">\n<title>EMPTY&#45;&gt;St7</title>\n<path fill=\"none\" stroke=\"#000000\" d=\"M54.2815,-197.3269C64.55,-194.6655 76.3292,-191.6125 87.0319,-188.8385\"/>\n<polygon fill=\"#000000\" stroke=\"#000000\" points=\"88.0769,-192.1834 96.8789,-186.2863 86.3206,-185.4073 88.0769,-192.1834\"/>\n</g>\n<!-- St9 -->\n<g id=\"node13\" class=\"node\">\n<title>St9</title>\n<ellipse fill=\"none\" stroke=\"#000000\" cx=\"119.5975\" cy=\"-107.3979\" rx=\"23.2963\" ry=\"23.2963\"/>\n<text text-anchor=\"middle\" x=\"119.5975\" y=\"-103.6979\" font-family=\"Times,serif\" font-size=\"14.00\" fill=\"#000000\">St9</text>\n</g>\n<!-- EMPTY&#45;&gt;St9 -->\n<g id=\"edge3\" class=\"edge\">\n<title>EMPTY&#45;&gt;St9</title>\n<path fill=\"none\" stroke=\"#000000\" d=\"M44.4169,-186.153C59.0457,-170.8286 80.0796,-148.7946 96.1811,-131.9276\"/>\n<polygon fill=\"#000000\" stroke=\"#000000\" points=\"98.8178,-134.2343 103.1912,-124.5842 93.7545,-129.4008 98.8178,-134.2343\"/>\n</g>\n<!-- St11 -->\n<g id=\"node15\" class=\"node\">\n<title>St11</title>\n<ellipse fill=\"none\" stroke=\"#000000\" cx=\"119.5975\" cy=\"-400.3979\" rx=\"27.8951\" ry=\"27.8951\"/>\n<text text-anchor=\"middle\" x=\"119.5975\" y=\"-396.6979\" font-family=\"Times,serif\" font-size=\"14.00\" fill=\"#000000\">St11</text>\n</g>\n<!-- EMPTY&#45;&gt;St11 -->\n<g id=\"edge5\" class=\"edge\">\n<title>EMPTY&#45;&gt;St11</title>\n<path fill=\"none\" stroke=\"#000000\" d=\"M32.7448,-222.4759C42.6014,-252.3867 64.2782,-313.6137 91,-361.3979 92.5982,-364.2559 94.3732,-367.1482 96.2339,-369.998\"/>\n<polygon fill=\"#000000\" stroke=\"#000000\" points=\"93.4275,-372.0938 101.9827,-378.3435 99.1922,-368.1227 93.4275,-372.0938\"/>\n</g>\n<!-- St16 -->\n<g id=\"node2\" class=\"node\">\n<title>St16</title>\n<ellipse fill=\"none\" stroke=\"#000000\" cx=\"555.3772\" cy=\"-389.3979\" rx=\"28.6953\" ry=\"28.6953\"/>\n<text text-anchor=\"middle\" x=\"555.3772\" y=\"-385.6979\" font-family=\"Times,serif\" font-size=\"14.00\" fill=\"#000000\">St16</text>\n</g>\n<!-- St17 -->\n<g id=\"node14\" class=\"node\">\n<title>St17</title>\n<ellipse fill=\"none\" stroke=\"#000000\" cx=\"334.9873\" cy=\"-354.3979\" rx=\"28.6953\" ry=\"28.6953\"/>\n<text text-anchor=\"middle\" x=\"334.9873\" y=\"-350.6979\" font-family=\"Times,serif\" font-size=\"14.00\" fill=\"#000000\">St17</text>\n</g>\n<!-- St16&#45;&gt;St17 -->\n<g id=\"edge20\" class=\"edge\">\n<title>St16&#45;&gt;St17</title>\n<path fill=\"none\" stroke=\"#000000\" d=\"M526.9731,-394.1861C497.2545,-398.2262 449.4649,-401.9702 409.5848,-392.3979 395.1415,-388.9312 380.3418,-382.1765 367.772,-375.3116\"/>\n<polygon fill=\"#000000\" stroke=\"#000000\" points=\"369.471,-372.2514 359.0503,-370.3387 366.0038,-378.3324 369.471,-372.2514\"/>\n<text text-anchor=\"middle\" x=\"442.1822\" y=\"-402.1979\" font-family=\"Times,serif\" font-size=\"14.00\" fill=\"#000000\">&#39;&#39; </text>\n</g>\n<!-- St14 -->\n<g id=\"node5\" class=\"node\">\n<title>St14</title>\n<ellipse fill=\"none\" stroke=\"#000000\" cx=\"228.7924\" cy=\"-326.3979\" rx=\"28.6953\" ry=\"28.6953\"/>\n<text text-anchor=\"middle\" x=\"228.7924\" y=\"-322.6979\" font-family=\"Times,serif\" font-size=\"14.00\" fill=\"#000000\">St14</text>\n</g>\n<!-- St13&#45;&gt;St14 -->\n<g id=\"edge14\" class=\"edge\">\n<title>St13&#45;&gt;St14</title>\n<path fill=\"none\" stroke=\"#000000\" d=\"M148.2871,-324.1861C160.9762,-324.5348 176.0958,-324.9501 189.7874,-325.3263\"/>\n<polygon fill=\"#000000\" stroke=\"#000000\" points=\"189.8228,-328.8285 199.9152,-325.6046 190.0151,-321.8311 189.8228,-328.8285\"/>\n<text text-anchor=\"middle\" x=\"172.1949\" y=\"-328.1979\" font-family=\"Times,serif\" font-size=\"14.00\" fill=\"#000000\">d </text>\n</g>\n<!-- St2 -->\n<g id=\"node9\" class=\"node\">\n<title>St2</title>\n<ellipse fill=\"none\" stroke=\"#000000\" cx=\"228.7924\" cy=\"-27.3979\" rx=\"23.2963\" ry=\"23.2963\"/>\n<text text-anchor=\"middle\" x=\"228.7924\" y=\"-23.6979\" font-family=\"Times,serif\" font-size=\"14.00\" fill=\"#000000\">St2</text>\n</g>\n<!-- St1&#45;&gt;St2 -->\n<g id=\"edge7\" class=\"edge\">\n<title>St1&#45;&gt;St2</title>\n<path fill=\"none\" stroke=\"#000000\" d=\"M143.0225,-37.6091C158.2798,-35.7927 178.4212,-33.3948 195.3517,-31.3791\"/>\n<polygon fill=\"#000000\" stroke=\"#000000\" points=\"195.89,-34.8399 205.4061,-30.1821 195.0624,-27.889 195.89,-34.8399\"/>\n<text text-anchor=\"middle\" x=\"172.1949\" y=\"-39.1979\" font-family=\"Times,serif\" font-size=\"14.00\" fill=\"#000000\">c </text>\n</g>\n<!-- St14&#45;&gt;St17 -->\n<g id=\"edge22\" class=\"edge\">\n<title>St14&#45;&gt;St17</title>\n<path fill=\"none\" stroke=\"#000000\" d=\"M256.6939,-333.7546C269.1322,-337.0342 283.9721,-340.9469 297.3707,-344.4797\"/>\n<polygon fill=\"#000000\" stroke=\"#000000\" points=\"296.7103,-347.9251 307.2722,-347.0904 298.495,-341.1564 296.7103,-347.9251\"/>\n<text text-anchor=\"middle\" x=\"283.8899\" y=\"-345.1979\" font-family=\"Times,serif\" font-size=\"14.00\" fill=\"#000000\">&#39;&#39; </text>\n</g>\n<!-- St6 -->\n<g id=\"node21\" class=\"node\">\n<title>St6</title>\n<ellipse fill=\"none\" stroke=\"#000000\" cx=\"228.7924\" cy=\"-252.3979\" rx=\"23.3111\" ry=\"23.3111\"/>\n<ellipse fill=\"none\" stroke=\"#000000\" cx=\"228.7924\" cy=\"-252.3979\" rx=\"27.2962\" ry=\"27.2962\"/>\n<text text-anchor=\"middle\" x=\"228.7924\" y=\"-248.6979\" font-family=\"Times,serif\" font-size=\"14.00\" fill=\"#000000\">St6</text>\n</g>\n<!-- St5&#45;&gt;St6 -->\n<g id=\"edge10\" class=\"edge\">\n<title>St5&#45;&gt;St6</title>\n<path fill=\"none\" stroke=\"#000000\" d=\"M143.0225,-250.0415C157.0049,-250.4256 175.0894,-250.9225 191.0452,-251.3609\"/>\n<polygon fill=\"#000000\" stroke=\"#000000\" points=\"191.0661,-254.8627 201.1585,-251.6387 191.2584,-247.8653 191.0661,-254.8627\"/>\n<text text-anchor=\"middle\" x=\"172.1949\" y=\"-254.1979\" font-family=\"Times,serif\" font-size=\"14.00\" fill=\"#000000\">c </text>\n</g>\n<!-- St3 -->\n<g id=\"node7\" class=\"node\">\n<title>St3</title>\n<ellipse fill=\"none\" stroke=\"#000000\" cx=\"334.9873\" cy=\"-27.3979\" rx=\"23.2963\" ry=\"23.2963\"/>\n<text text-anchor=\"middle\" x=\"334.9873\" y=\"-23.6979\" font-family=\"Times,serif\" font-size=\"14.00\" fill=\"#000000\">St3</text>\n</g>\n<!-- St4 -->\n<g id=\"node22\" class=\"node\">\n<title>St4</title>\n<ellipse fill=\"none\" stroke=\"#000000\" cx=\"442.1822\" cy=\"-27.3979\" rx=\"23.3111\" ry=\"23.3111\"/>\n<ellipse fill=\"none\" stroke=\"#000000\" cx=\"442.1822\" cy=\"-27.3979\" rx=\"27.2962\" ry=\"27.2962\"/>\n<text text-anchor=\"middle\" x=\"442.1822\" y=\"-23.6979\" font-family=\"Times,serif\" font-size=\"14.00\" fill=\"#000000\">St4</text>\n</g>\n<!-- St3&#45;&gt;St4 -->\n<g id=\"edge8\" class=\"edge\">\n<title>St3&#45;&gt;St4</title>\n<path fill=\"none\" stroke=\"#000000\" d=\"M358.5117,-27.3979C371.9316,-27.3979 389.0706,-27.3979 404.3379,-27.3979\"/>\n<polygon fill=\"#000000\" stroke=\"#000000\" points=\"404.5399,-30.898 414.5399,-27.3979 404.5398,-23.898 404.5399,-30.898\"/>\n<text text-anchor=\"middle\" x=\"386.5848\" y=\"-31.1979\" font-family=\"Times,serif\" font-size=\"14.00\" fill=\"#000000\">a </text>\n</g>\n<!-- St8 -->\n<g id=\"node23\" class=\"node\">\n<title>St8</title>\n<ellipse fill=\"none\" stroke=\"#000000\" cx=\"228.7924\" cy=\"-179.3979\" rx=\"23.3111\" ry=\"23.3111\"/>\n<ellipse fill=\"none\" stroke=\"#000000\" cx=\"228.7924\" cy=\"-179.3979\" rx=\"27.2962\" ry=\"27.2962\"/>\n<text text-anchor=\"middle\" x=\"228.7924\" y=\"-175.6979\" font-family=\"Times,serif\" font-size=\"14.00\" fill=\"#000000\">St8</text>\n</g>\n<!-- St7&#45;&gt;St8 -->\n<g id=\"edge11\" class=\"edge\">\n<title>St7&#45;&gt;St8</title>\n<path fill=\"none\" stroke=\"#000000\" d=\"M143.0225,-180.1834C157.0049,-180.0553 175.0894,-179.8897 191.0452,-179.7436\"/>\n<polygon fill=\"#000000\" stroke=\"#000000\" points=\"191.191,-183.2425 201.1585,-179.651 191.1269,-176.2428 191.191,-183.2425\"/>\n<text text-anchor=\"middle\" x=\"172.1949\" y=\"-183.1979\" font-family=\"Times,serif\" font-size=\"14.00\" fill=\"#000000\">f </text>\n</g>\n<!-- St2&#45;&gt;St3 -->\n<g id=\"edge9\" class=\"edge\">\n<title>St2&#45;&gt;St3</title>\n<path fill=\"none\" stroke=\"#000000\" d=\"M252.3605,-27.3979C266.7966,-27.3979 285.5027,-27.3979 301.4646,-27.3979\"/>\n<polygon fill=\"#000000\" stroke=\"#000000\" points=\"301.4851,-30.898 311.4851,-27.3979 301.4851,-23.898 301.4851,-30.898\"/>\n<text text-anchor=\"middle\" x=\"283.8899\" y=\"-31.1979\" font-family=\"Times,serif\" font-size=\"14.00\" fill=\"#000000\">&#39;&#39; </text>\n</g>\n<!-- St12 -->\n<g id=\"node10\" class=\"node\">\n<title>St12</title>\n<ellipse fill=\"none\" stroke=\"#000000\" cx=\"228.7924\" cy=\"-401.3979\" rx=\"28.6953\" ry=\"28.6953\"/>\n<text text-anchor=\"middle\" x=\"228.7924\" y=\"-397.6979\" font-family=\"Times,serif\" font-size=\"14.00\" fill=\"#000000\">St12</text>\n</g>\n<!-- St12&#45;&gt;St17 -->\n<g id=\"edge21\" class=\"edge\">\n<title>St12&#45;&gt;St17</title>\n<path fill=\"none\" stroke=\"#000000\" d=\"M255.0428,-389.7799C268.445,-383.8484 284.9439,-376.5463 299.4658,-370.1191\"/>\n<polygon fill=\"#000000\" stroke=\"#000000\" points=\"300.9429,-373.2929 308.6708,-366.0451 298.1099,-366.8918 300.9429,-373.2929\"/>\n<text text-anchor=\"middle\" x=\"283.8899\" y=\"-381.1979\" font-family=\"Times,serif\" font-size=\"14.00\" fill=\"#000000\">&#39;&#39; </text>\n</g>\n<!-- St22 -->\n<g id=\"node11\" class=\"node\">\n<title>St22</title>\n<ellipse fill=\"none\" stroke=\"#000000\" cx=\"661.5721\" cy=\"-201.3979\" rx=\"28.6953\" ry=\"28.6953\"/>\n<text text-anchor=\"middle\" x=\"661.5721\" y=\"-197.6979\" font-family=\"Times,serif\" font-size=\"14.00\" fill=\"#000000\">St22</text>\n</g>\n<!-- St23 -->\n<g id=\"node24\" class=\"node\">\n<title>St23</title>\n<ellipse fill=\"none\" stroke=\"#000000\" cx=\"768.767\" cy=\"-201.3979\" rx=\"28.6832\" ry=\"28.6832\"/>\n<ellipse fill=\"none\" stroke=\"#000000\" cx=\"768.767\" cy=\"-201.3979\" rx=\"32.6952\" ry=\"32.6952\"/>\n<text text-anchor=\"middle\" x=\"768.767\" y=\"-197.6979\" font-family=\"Times,serif\" font-size=\"14.00\" fill=\"#000000\">St23</text>\n</g>\n<!-- St22&#45;&gt;St23 -->\n<g id=\"edge25\" class=\"edge\">\n<title>St22&#45;&gt;St23</title>\n<path fill=\"none\" stroke=\"#000000\" d=\"M690.2984,-201.3979C701.1386,-201.3979 713.723,-201.3979 725.5971,-201.3979\"/>\n<polygon fill=\"#000000\" stroke=\"#000000\" points=\"725.7875,-204.898 735.7874,-201.3979 725.7874,-197.898 725.7875,-204.898\"/>\n<text text-anchor=\"middle\" x=\"713.1696\" y=\"-205.1979\" font-family=\"Times,serif\" font-size=\"14.00\" fill=\"#000000\">a </text>\n</g>\n<!-- St21 -->\n<g id=\"node12\" class=\"node\">\n<title>St21</title>\n<ellipse fill=\"none\" stroke=\"#000000\" cx=\"555.3772\" cy=\"-201.3979\" rx=\"28.6953\" ry=\"28.6953\"/>\n<text text-anchor=\"middle\" x=\"555.3772\" y=\"-197.6979\" font-family=\"Times,serif\" font-size=\"14.00\" fill=\"#000000\">St21</text>\n</g>\n<!-- St21&#45;&gt;St22 -->\n<g id=\"edge26\" class=\"edge\">\n<title>St21&#45;&gt;St22</title>\n<path fill=\"none\" stroke=\"#000000\" d=\"M584.115,-201.3979C595.9203,-201.3979 609.7767,-201.3979 622.481,-201.3979\"/>\n<polygon fill=\"#000000\" stroke=\"#000000\" points=\"622.8113,-204.898 632.8112,-201.3979 622.8112,-197.898 622.8113,-204.898\"/>\n<text text-anchor=\"middle\" x=\"610.4746\" y=\"-205.1979\" font-family=\"Times,serif\" font-size=\"14.00\" fill=\"#000000\">&#39;&#39; </text>\n</g>\n<!-- St10 -->\n<g id=\"node20\" class=\"node\">\n<title>St10</title>\n<ellipse fill=\"none\" stroke=\"#000000\" cx=\"228.7924\" cy=\"-101.3979\" rx=\"28.6832\" ry=\"28.6832\"/>\n<ellipse fill=\"none\" stroke=\"#000000\" cx=\"228.7924\" cy=\"-101.3979\" rx=\"32.6952\" ry=\"32.6952\"/>\n<text text-anchor=\"middle\" x=\"228.7924\" y=\"-97.6979\" font-family=\"Times,serif\" font-size=\"14.00\" fill=\"#000000\">St10</text>\n</g>\n<!-- St9&#45;&gt;St10 -->\n<g id=\"edge12\" class=\"edge\">\n<title>St9&#45;&gt;St10</title>\n<path fill=\"none\" stroke=\"#000000\" d=\"M143.0225,-106.1108C155.4275,-105.4292 171.0612,-104.5701 185.5727,-103.7727\"/>\n<polygon fill=\"#000000\" stroke=\"#000000\" points=\"186.0859,-107.2499 195.8788,-103.2064 185.7018,-100.2605 186.0859,-107.2499\"/>\n<text text-anchor=\"middle\" x=\"172.1949\" y=\"-108.1979\" font-family=\"Times,serif\" font-size=\"14.00\" fill=\"#000000\">d </text>\n</g>\n<!-- St15 -->\n<g id=\"node16\" class=\"node\">\n<title>St15</title>\n<ellipse fill=\"none\" stroke=\"#000000\" cx=\"442.1822\" cy=\"-354.3979\" rx=\"28.6953\" ry=\"28.6953\"/>\n<text text-anchor=\"middle\" x=\"442.1822\" y=\"-350.6979\" font-family=\"Times,serif\" font-size=\"14.00\" fill=\"#000000\">St15</text>\n</g>\n<!-- St17&#45;&gt;St15 -->\n<g id=\"edge16\" class=\"edge\">\n<title>St17&#45;&gt;St15</title>\n<path fill=\"none\" stroke=\"#000000\" d=\"M363.7136,-354.3979C375.8494,-354.3979 390.1712,-354.3979 403.2351,-354.3979\"/>\n<polygon fill=\"#000000\" stroke=\"#000000\" points=\"403.3767,-357.898 413.3767,-354.3979 403.3766,-350.898 403.3767,-357.898\"/>\n<text text-anchor=\"middle\" x=\"386.5848\" y=\"-358.1979\" font-family=\"Times,serif\" font-size=\"14.00\" fill=\"#000000\">&#39;&#39; </text>\n</g>\n<!-- St18 -->\n<g id=\"node17\" class=\"node\">\n<title>St18</title>\n<ellipse fill=\"none\" stroke=\"#000000\" cx=\"442.1822\" cy=\"-279.3979\" rx=\"28.6953\" ry=\"28.6953\"/>\n<text text-anchor=\"middle\" x=\"442.1822\" y=\"-275.6979\" font-family=\"Times,serif\" font-size=\"14.00\" fill=\"#000000\">St18</text>\n</g>\n<!-- St17&#45;&gt;St18 -->\n<g id=\"edge17\" class=\"edge\">\n<title>St17&#45;&gt;St18</title>\n<path fill=\"none\" stroke=\"#000000\" d=\"M358.5117,-337.9389C373.7314,-327.2902 393.7346,-313.2948 410.3661,-301.6584\"/>\n<polygon fill=\"#000000\" stroke=\"#000000\" points=\"412.5256,-304.4192 418.7127,-295.8186 408.5126,-298.6836 412.5256,-304.4192\"/>\n<text text-anchor=\"middle\" x=\"386.5848\" y=\"-324.1979\" font-family=\"Times,serif\" font-size=\"14.00\" fill=\"#000000\">&#39;&#39; </text>\n</g>\n<!-- St20 -->\n<g id=\"node18\" class=\"node\">\n<title>St20</title>\n<ellipse fill=\"none\" stroke=\"#000000\" cx=\"442.1822\" cy=\"-202.3979\" rx=\"28.6953\" ry=\"28.6953\"/>\n<text text-anchor=\"middle\" x=\"442.1822\" y=\"-198.6979\" font-family=\"Times,serif\" font-size=\"14.00\" fill=\"#000000\">St20</text>\n</g>\n<!-- St17&#45;&gt;St20 -->\n<g id=\"edge18\" class=\"edge\">\n<title>St17&#45;&gt;St20</title>\n<path fill=\"none\" stroke=\"#000000\" d=\"M350.2196,-329.6075C364.7781,-306.3414 387.6893,-270.8153 409.5848,-241.3979 411.824,-238.3894 414.2182,-235.3049 416.6542,-232.2526\"/>\n<polygon fill=\"#000000\" stroke=\"#000000\" points=\"419.5139,-234.2839 423.1221,-224.3224 414.0894,-229.8596 419.5139,-234.2839\"/>\n<text text-anchor=\"middle\" x=\"386.5848\" y=\"-284.1979\" font-family=\"Times,serif\" font-size=\"14.00\" fill=\"#000000\">&#39;&#39; </text>\n</g>\n<!-- St24 -->\n<g id=\"node25\" class=\"node\">\n<title>St24</title>\n<ellipse fill=\"none\" stroke=\"#000000\" cx=\"442.1822\" cy=\"-485.3979\" rx=\"28.6832\" ry=\"28.6832\"/>\n<ellipse fill=\"none\" stroke=\"#000000\" cx=\"442.1822\" cy=\"-485.3979\" rx=\"32.6952\" ry=\"32.6952\"/>\n<text text-anchor=\"middle\" x=\"442.1822\" y=\"-481.6979\" font-family=\"Times,serif\" font-size=\"14.00\" fill=\"#000000\">St24</text>\n</g>\n<!-- St17&#45;&gt;St24 -->\n<g id=\"edge15\" class=\"edge\">\n<title>St17&#45;&gt;St24</title>\n<path fill=\"none\" stroke=\"#000000\" d=\"M347.5037,-380.3409C355.9398,-396.4738 367.9859,-417.1627 381.5848,-433.3979 389.2958,-442.6039 398.7268,-451.5336 407.8308,-459.32\"/>\n<polygon fill=\"#000000\" stroke=\"#000000\" points=\"405.7651,-462.154 415.6956,-465.8465 410.2352,-456.7671 405.7651,-462.154\"/>\n<text text-anchor=\"middle\" x=\"386.5848\" y=\"-446.1979\" font-family=\"Times,serif\" font-size=\"14.00\" fill=\"#000000\">&#39;&#39; </text>\n</g>\n<!-- St11&#45;&gt;St12 -->\n<g id=\"edge13\" class=\"edge\">\n<title>St11&#45;&gt;St12</title>\n<path fill=\"none\" stroke=\"#000000\" d=\"M147.7179,-400.6554C160.5081,-400.7726 175.8562,-400.9131 189.7409,-401.0403\"/>\n<polygon fill=\"#000000\" stroke=\"#000000\" points=\"189.9751,-404.5425 200.0068,-401.1343 190.0393,-397.5428 189.9751,-404.5425\"/>\n<text text-anchor=\"middle\" x=\"172.1949\" y=\"-404.1979\" font-family=\"Times,serif\" font-size=\"14.00\" fill=\"#000000\">f </text>\n</g>\n<!-- St15&#45;&gt;St16 -->\n<g id=\"edge19\" class=\"edge\">\n<title>St15&#45;&gt;St16</title>\n<path fill=\"none\" stroke=\"#000000\" d=\"M469.5836,-362.8704C484.0754,-367.3513 502.0839,-372.9196 517.8547,-377.7959\"/>\n<polygon fill=\"#000000\" stroke=\"#000000\" points=\"517.2482,-381.2718 527.8358,-380.8821 519.316,-374.5842 517.2482,-381.2718\"/>\n<text text-anchor=\"middle\" x=\"498.7797\" y=\"-376.1979\" font-family=\"Times,serif\" font-size=\"14.00\" fill=\"#000000\">s </text>\n</g>\n<!-- St19 -->\n<g id=\"node19\" class=\"node\">\n<title>St19</title>\n<ellipse fill=\"none\" stroke=\"#000000\" cx=\"555.3772\" cy=\"-280.3979\" rx=\"28.6832\" ry=\"28.6832\"/>\n<ellipse fill=\"none\" stroke=\"#000000\" cx=\"555.3772\" cy=\"-280.3979\" rx=\"32.6952\" ry=\"32.6952\"/>\n<text text-anchor=\"middle\" x=\"555.3772\" y=\"-276.6979\" font-family=\"Times,serif\" font-size=\"14.00\" fill=\"#000000\">St19</text>\n</g>\n<!-- St18&#45;&gt;St19 -->\n<g id=\"edge23\" class=\"edge\">\n<title>St18&#45;&gt;St19</title>\n<path fill=\"none\" stroke=\"#000000\" d=\"M471.039,-279.6529C483.5662,-279.7635 498.5022,-279.8955 512.2997,-280.0174\"/>\n<polygon fill=\"#000000\" stroke=\"#000000\" points=\"512.5394,-283.5195 522.57,-280.1081 512.6013,-276.5198 512.5394,-283.5195\"/>\n<text text-anchor=\"middle\" x=\"498.7797\" y=\"-283.1979\" font-family=\"Times,serif\" font-size=\"14.00\" fill=\"#000000\">b </text>\n</g>\n<!-- St20&#45;&gt;St21 -->\n<g id=\"edge24\" class=\"edge\">\n<title>St20&#45;&gt;St21</title>\n<path fill=\"none\" stroke=\"#000000\" d=\"M471.039,-202.143C484.7431,-202.0219 501.3301,-201.8754 516.1556,-201.7444\"/>\n<polygon fill=\"#000000\" stroke=\"#000000\" points=\"516.6045,-205.2407 526.5731,-201.6524 516.5426,-198.241 516.6045,-205.2407\"/>\n<text text-anchor=\"middle\" x=\"498.7797\" y=\"-205.1979\" font-family=\"Times,serif\" font-size=\"14.00\" fill=\"#000000\">b </text>\n</g>\n</g>\n</svg>\n"
          },
          "metadata": {
            "tags": []
          },
          "execution_count": 209
        }
      ]
    },
    {
      "cell_type": "markdown",
      "metadata": {
        "id": "cmAoBNG81Faw"
      },
      "source": [
        "\n",
        "This is an exercise in explaining how Rev_RE1_hand got translated to an NFA. You are to pick these cases and find an example of each, and explain below. What you pick does not matter.\n",
        "\n",
        "* Find a case where a Star is used, and explain the construction, pointing to the states involved. Use up to 6 bullets below. More or less based on how you explain (clarity not length emphasized).\n",
        "  - St17->St15->St16->St17 can be reduced to St17->St17 on 's' because of the epsilon transitions.\n",
        "  - This looping behaviour models the RE s*\n",
        "* Find a case where the Star follows something (I.e. a concatenation of the form \"X\" followed by \"Star\" is used). If such a case does not arise in your RE, skip this part. Show how that concatenation construction is accomplished in the same manner (up to 6 bullets roughly) as above. More or less based on how you explain. \n",
        "  - St17->St18->St19\n",
        "  - Because St17 transitions to St18 on an epsilon we can reduce the chain to St17->St19 on an 'b'. \n",
        "  - This chain models an RE for (s)*b.\n",
        "  \n",
        "* Find a case where something follows Star (I.e. a concatenation of the form \"Star\" followed by \"X\"). If such a case does not arise in your RE, skip this part. Explain how the concatenation is accomplished.\n",
        "  - St17 is preceded by St11->St12.\n",
        "  - Because St12 transitions to St17 on an epsilon state it can be reduced to St11->St17 on an 'f'\n",
        "  - This chain represents the RE f(s)*"
      ]
    },
    {
      "cell_type": "markdown",
      "metadata": {
        "id": "V9nRzOHS1Fax"
      },
      "source": [
        "# END\n"
      ]
    }
  ]
}