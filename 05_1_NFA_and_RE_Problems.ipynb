{
 "cells": [
  {
   "cell_type": "markdown",
   "metadata": {
    "id": "F6evhB5n1FaV"
   },
   "source": [
    "# Four Problems for Week 05's Assignment \n",
    "\n",
    "Problem 1:\n",
    "\n",
    "    a. take a given nfa called nfa1\n",
    "    \n",
    "    b. convert it to dfa1 \n",
    "    \n",
    "    c. reverse nfa1 by hand obtaining rnfa1\n",
    "    \n",
    "    d. inspect and conclude (listing six paths) that rnfa1 is indeed a reverse of nfa1\n",
    "\n",
    "Problem 2:\n",
    "\n",
    "    a. learn about a few DFA utilities such as totalize_dfa and dotObj_dfa_w_bh\n",
    "    \n",
    "    b. extract an RE by inspecting nfa1 and write it down as RE1_hand\n",
    "    \n",
    "    c. reverse RE1_hand by inspection, writing the result down as Rev_RE1_hand\n",
    "    \n",
    "    d. Understand the function del_gnfa_states via its help command\n",
    "    \n",
    "\n",
    "Problem 3:\n",
    "\n",
    "    a. obtain a GNFA for rnfa1, calling it grnfa1\n",
    "    \n",
    "    b. apply two elimination orders for states on grnfa1\n",
    "    \n",
    "    c. obtain Rev_RE1 and Rev_RE2\n",
    "    \n",
    "    d. check that Rev_RE1 and Rev_RE2 and Rev_RE1_hand are all isomorphic\n",
    "    \n",
    "\n",
    "Problem 4:\n",
    "\n",
    "    a. print the NFA for Rev_RE2 and answer the stated questions.\n",
    "    \n",
    "    b. print the NFA for Rev_RE1_hand and answer the stated questions. "
   ]
  },
  {
   "cell_type": "markdown",
   "metadata": {
    "id": "1an9nmMw1Fac",
    "run_control": {
     "frozen": false,
     "read_only": false
    }
   },
   "source": [
    "# Imports \n"
   ]
  },
  {
   "cell_type": "code",
   "execution_count": null,
   "metadata": {
    "id": "y863_jSu1Fad",
    "run_control": {
     "frozen": false,
     "read_only": false
    },
    "scrolled": true
   },
   "outputs": [],
   "source": [
    "#~~~~~~~~~~~~~~~~~~~~~~~~~~~~~~~~~~~~~~~~~~~~~~~~~~~~~~~\n",
    "import sys\n",
    "\n",
    "# -- Detect if in Own Install or in Colab\n",
    "try:\n",
    "    import google.colab\n",
    "    OWN_INSTALL = False\n",
    "except:\n",
    "    OWN_INSTALL = True\n",
    "    \n",
    "if OWN_INSTALL:\n",
    "  \n",
    "  sys.path[0:0] = ['../../../../..',  '../../../../../3rdparty',  \n",
    "                   '../../../..',  '../../../../3rdparty',  \n",
    "                   '../../..',     '../../../3rdparty', \n",
    "                   '../..',        '../../3rdparty',\n",
    "                   '..',           '../3rdparty',\n",
    "                   '../Jove',      '../Jove/jove']\n",
    "\n",
    "else: # In colab\n",
    "  ! if [ ! -d Jove ]; then git clone https://github.com/ganeshutah/Jove Jove; fi\n",
    "  sys.path.append('./Jove')\n",
    "  sys.path.append('./Jove/jove')\n",
    "\n",
    "# -- common imports --\n",
    "from jove.DotBashers import *\n",
    "from jove.Def_md2mc  import *\n",
    "from jove.Def_NFA    import *\n",
    "from jove.Def_DFA    import *\n",
    "from jove.Def_NFA2RE import *\n",
    "from jove.Def_RE2NFA import *\n",
    "from jove.AnimateNFA import *\n",
    "#~~~~~~~~~~~~~~~~~~~~~~~~~~~~~~~~~~~~~~~~~~~~~~~~~~~~~~~"
   ]
  },
  {
   "cell_type": "markdown",
   "metadata": {
    "id": "BzOCjuwm1Fae"
   },
   "source": [
    "## Problem 1: "
   ]
  },
  {
   "cell_type": "code",
   "execution_count": null,
   "metadata": {
    "id": "tnc6tDJT1Faf"
   },
   "outputs": [],
   "source": [
    "# Given NFA\n",
    "\n",
    "nfa1 = md2mc('''NFA\n",
    "I1 : '' -> B\n",
    "I1 : a  -> I2\n",
    "\n",
    "I2 : c  -> F3\n",
    "I2 : b  -> B\n",
    "\n",
    "B : s  -> B\n",
    "B : d  -> F4\n",
    "B : f  -> F3\n",
    "\n",
    "\n",
    "''')\n"
   ]
  },
  {
   "cell_type": "code",
   "execution_count": null,
   "metadata": {
    "id": "kV7jblE21Fag"
   },
   "outputs": [],
   "source": [
    "dotObj_nfa(nfa1)"
   ]
  },
  {
   "cell_type": "markdown",
   "metadata": {
    "id": "Ub1tr-Rv1Fah"
   },
   "source": [
    "## 1.1: Convert the given NFA to a DFA by hand.\n",
    "\n",
    "Use as many bullets as necessary to clearly show your work:\n",
    "\n",
    "*\n",
    "\n",
    "*\n",
    "\n",
    "*\n",
    "\n",
    "*\n",
    "\n",
    "*"
   ]
  },
  {
   "cell_type": "code",
   "execution_count": null,
   "metadata": {
    "id": "CMDNIlBA1Fah"
   },
   "outputs": [],
   "source": [
    "# DFA of nfa1\n",
    "\n",
    "dfa1 = md2mc('''DFA\n",
    "\n",
    "I1_I2_B : a -> wasI2\n",
    "\n",
    "...show the rest of your work...\n",
    "\n",
    "''')"
   ]
  },
  {
   "cell_type": "code",
   "execution_count": null,
   "metadata": {
    "id": "0RbZ4_-o1Fai"
   },
   "outputs": [],
   "source": [
    "dotObj_dfa(dfa1)"
   ]
  },
  {
   "cell_type": "markdown",
   "metadata": {
    "id": "p0RgegJo1Fai"
   },
   "source": [
    "## 1.2: Reverse nfa1 by hand and name the states in this manner:\n",
    "\n",
    "1) Change F3 to I3\n",
    "\n",
    "2) Change F4 to I4\n",
    "\n",
    "3) Change I1 and I2 to F1 and F2\n",
    "\n",
    "4) Now, reverse the transitions of nfa1, obtaining \"rnfa1\" below\n",
    " "
   ]
  },
  {
   "cell_type": "code",
   "execution_count": null,
   "metadata": {
    "id": "qhRWvd9b1Fai"
   },
   "outputs": [],
   "source": [
    "# There is no Jove function to reverse automatically - do it by hand!\n",
    "rnfa1 = md2mc('''\n",
    "NFA\n",
    "\n",
    "...show your work...\n",
    "\n",
    "''')"
   ]
  },
  {
   "cell_type": "code",
   "execution_count": null,
   "metadata": {
    "id": "8UbDrNhh1Faj"
   },
   "outputs": [],
   "source": [
    "dotObj_nfa(rnfa1)"
   ]
  },
  {
   "cell_type": "code",
   "execution_count": null,
   "metadata": {
    "id": "lNvtz_C51Faj"
   },
   "outputs": [],
   "source": [
    "dotObj_nfa(nfa1)"
   ]
  },
  {
   "cell_type": "markdown",
   "metadata": {
    "id": "h3BNQFbW1Fak"
   },
   "source": [
    "## 1.3: Inspect and conclude that rnfa1 is truly the reverse of nfa1\n",
    "### List the first six strings in numeric order and check that they have been correctly reversed. State the string in the original machine and explain (by specifying a path as a sequence of states) that this string is present in the reversed machine also.\n",
    "\n",
    "1.\n",
    "\n",
    "2.\n",
    "\n",
    "3.\n",
    "\n",
    "4.\n",
    "\n",
    "5.\n",
    "\n",
    "6.\n",
    "\n",
    " \n",
    " "
   ]
  },
  {
   "cell_type": "markdown",
   "metadata": {
    "id": "Pln4gmGl1Fak"
   },
   "source": [
    "# Problem 2: Extraction of RE by Inspection and other things before it\n"
   ]
  },
  {
   "cell_type": "markdown",
   "metadata": {
    "id": "KfUW_PBz1Fak"
   },
   "source": [
    "## 2.1: Totalize dfa1 to obtain the totalized machine, then explain totalize_dfa in a few sentences below, by looking at the Delta before and After"
   ]
  },
  {
   "cell_type": "code",
   "execution_count": null,
   "metadata": {
    "id": "Vq0a77k-1Fal"
   },
   "outputs": [],
   "source": [
    "tdfa1 = totalize_dfa(dfa1)"
   ]
  },
  {
   "cell_type": "markdown",
   "metadata": {
    "id": "eMdiPwL01Fal"
   },
   "source": [
    "### Your explanation of totalize_dfa:\n",
    "\n",
    "*\n",
    "\n",
    "*\n",
    "\n"
   ]
  },
  {
   "cell_type": "markdown",
   "metadata": {
    "id": "27sayTkz1Fal"
   },
   "source": [
    "##  Compare the dfa with and without the black hole:"
   ]
  },
  {
   "cell_type": "code",
   "execution_count": null,
   "metadata": {
    "id": "rDOSZT6p1Fal"
   },
   "outputs": [],
   "source": [
    "dotObj_dfa(tdfa1)"
   ]
  },
  {
   "cell_type": "code",
   "execution_count": null,
   "metadata": {
    "id": "dWbXpki11Fam"
   },
   "outputs": [],
   "source": [
    "dotObj_dfa_w_bh(tdfa1)"
   ]
  },
  {
   "cell_type": "markdown",
   "metadata": {
    "id": "285Y2wis1Fam"
   },
   "source": [
    "### Was it a good idea to not always show black-holes?\n",
    "\n",
    "* In what circumstances might you still need to apply the _w_bh view option?\n",
    "An open-ended answer - anything you may think up can be a valuable piece of feedback.\n",
    "\n",
    "Answer:\n"
   ]
  },
  {
   "cell_type": "markdown",
   "metadata": {
    "id": "b6bWV4AZ1Fan"
   },
   "source": [
    "## 2.2: Obtain an RE by looking at nfa1\n",
    "\n",
    "* Follow all paths\n",
    "\n",
    "* Summarize the paths in your head, using the Star operator suitably\n",
    "\n",
    "\n"
   ]
  },
  {
   "cell_type": "code",
   "execution_count": null,
   "metadata": {
    "id": "W2GdlsN01Fan"
   },
   "outputs": [],
   "source": [
    "RE1_hand = \" ... your RE here... \""
   ]
  },
  {
   "cell_type": "markdown",
   "metadata": {
    "id": "kFsWMB9l1Fan"
   },
   "source": [
    "## 2.3: Reverse RE1 by hand to obtain Rev_RE1\n",
    "\n",
    "Once you have an RE, you can \"visually reverse it\" for simple REs"
   ]
  },
  {
   "cell_type": "code",
   "execution_count": null,
   "metadata": {
    "id": "OTCTyqlv1Fao"
   },
   "outputs": [],
   "source": [
    "Rev_RE1_hand = \" ...your reversed RE here... \""
   ]
  },
  {
   "cell_type": "markdown",
   "metadata": {
    "id": "Fqhsan3o1Fao"
   },
   "source": [
    "## 2.4: Understand del_gnfa_states via help"
   ]
  },
  {
   "cell_type": "code",
   "execution_count": null,
   "metadata": {
    "id": "St7Zo8AY1Fao"
   },
   "outputs": [],
   "source": [
    "# help of del_gnfa_states run below\n"
   ]
  },
  {
   "cell_type": "markdown",
   "metadata": {
    "id": "2KFNXlqV1Fao"
   },
   "source": [
    "### Document what you learned from the function help of del_gnfa_states and summarize below\n",
    "\n",
    "\n",
    "*\n",
    "\n",
    "*\n",
    "\n",
    "*"
   ]
  },
  {
   "cell_type": "markdown",
   "metadata": {
    "id": "5tn3lrpW1Fap"
   },
   "source": [
    "# Problem 3: Converting to GNFA and Attempting Two Elimination Orders\n",
    "\n",
    "Work on rnfa1 to obtain Rev_RE1 and Rev_RE2 "
   ]
  },
  {
   "cell_type": "markdown",
   "metadata": {
    "id": "eOmufZDa1Fap"
   },
   "source": [
    "## 3.1: Obtain grnfa1 below via a suitable command"
   ]
  },
  {
   "cell_type": "code",
   "execution_count": null,
   "metadata": {
    "id": "9jf13qhs1Faq"
   },
   "outputs": [],
   "source": [
    "grnfa1 = mk_gnfa(rnfa1)"
   ]
  },
  {
   "cell_type": "code",
   "execution_count": null,
   "metadata": {
    "id": "iF-KnQi01Faq"
   },
   "outputs": [],
   "source": [
    "dotObj_gnfa(grnfa1)"
   ]
  },
  {
   "cell_type": "markdown",
   "metadata": {
    "id": "VFtjQsTs1Faq"
   },
   "source": [
    "## 3.2: Apply the elimination order by supplying the second argument \n",
    "['B', 'F2', 'F1', 'I3', 'I4']\n",
    "\n",
    "as you learned in the help"
   ]
  },
  {
   "cell_type": "code",
   "execution_count": null,
   "metadata": {
    "id": "4XkJaoDL1Far"
   },
   "outputs": [],
   "source": [
    "(Gfinal, DO, Rev_RE1) = del_gnfa_states(...args filled here...)"
   ]
  },
  {
   "cell_type": "code",
   "execution_count": null,
   "metadata": {
    "id": "zvc3WnQb1Far"
   },
   "outputs": [],
   "source": [
    "Rev_RE1"
   ]
  },
  {
   "cell_type": "code",
   "execution_count": null,
   "metadata": {
    "id": "D0dEbHik1Far"
   },
   "outputs": [],
   "source": [
    "dotObj_dfa(min_dfa(nfa2dfa(re2nfa(Rev_RE1))))"
   ]
  },
  {
   "cell_type": "markdown",
   "metadata": {
    "id": "iQEHDBcy1Far"
   },
   "source": [
    "## 3.3: Apply the elimination order by supplying the second argument \n",
    " ['I3', 'I4', 'F1', 'B', 'F2' ]\n",
    "\n",
    "as you learned in the help"
   ]
  },
  {
   "cell_type": "markdown",
   "metadata": {
    "id": "RdLm-Pc-1Fas"
   },
   "source": [
    "## Examine DO[0] through DO[Last_Legal_Item] (find out how long DO is)\n",
    "\n",
    "DO[0] is the initial GNFA machine, DO[1] is the next one, and so on. You will see each step getting\n",
    "rid of one state.\n",
    "\n",
    "### Summarize your observation of the state elimination and which REs were introduced as a result. Use one bullet per question answered below.\n",
    "\n",
    "*\n",
    "\n",
    "*\n",
    "\n",
    "*\n",
    "\n",
    "*\n",
    "\n",
    "*\n",
    "\n",
    "*\n",
    "\n",
    "*"
   ]
  },
  {
   "cell_type": "code",
   "execution_count": null,
   "metadata": {
    "id": "AaJuAMRJ1Fas",
    "scrolled": true
   },
   "outputs": [],
   "source": [
    "(Gfinal, DO, Rev_RE2) = del_gnfa_states(grnfa1, ...args...)"
   ]
  },
  {
   "cell_type": "code",
   "execution_count": null,
   "metadata": {
    "id": "_1zdEmFo1Fas"
   },
   "outputs": [],
   "source": [
    "Rev_RE2"
   ]
  },
  {
   "cell_type": "markdown",
   "metadata": {
    "id": "xbzVZEQY1Fat"
   },
   "source": [
    "## Examine DO[0] through DO[Last_Legal_Item] (find out how long DO is)\n",
    "\n",
    "### Summarize your observation of the state elimination and which REs were introduced as a result\n",
    "\n",
    "*\n",
    "\n",
    "*\n",
    "\n",
    "*\n",
    "\n",
    "*\n",
    "\n",
    "*\n",
    "\n",
    "*\n",
    "\n",
    "*"
   ]
  },
  {
   "cell_type": "markdown",
   "metadata": {
    "id": "1QaSXKIu1Fat"
   },
   "source": [
    "## 3.4: Check for isomorphism as requested between Rev_RE1 and Rev_RE2\n",
    "\n",
    "Apply a Jove call that is compact (and will be given in class) that checks that Rev_RE1 and Rev_RE2 are equivalent. It has to involve iso_dfa and min_dfa and other calls."
   ]
  },
  {
   "cell_type": "code",
   "execution_count": null,
   "metadata": {
    "id": "ft9RVqT71Fat"
   },
   "outputs": [],
   "source": [
    "iso_dfa( ... )"
   ]
  },
  {
   "cell_type": "markdown",
   "metadata": {
    "id": "7YPYmZWU1Fau"
   },
   "source": []
  },
  {
   "cell_type": "code",
   "execution_count": null,
   "metadata": {
    "id": "y8DyxZvA1Fau"
   },
   "outputs": [],
   "source": [
    "# Just look at it again for comparison\n",
    "\n",
    "...Rev_RE1_hand..."
   ]
  },
  {
   "cell_type": "markdown",
   "metadata": {
    "id": "SrFKBgbl1Fau"
   },
   "source": [
    "## 3.5: Check for isomorphism as requested between Rev_RE1 and Rev_RE1_hand\n",
    "\n",
    "Same methods as above."
   ]
  },
  {
   "cell_type": "code",
   "execution_count": null,
   "metadata": {
    "id": "ITE6hltC1Fau"
   },
   "outputs": [],
   "source": [
    "iso_dfa( ... )"
   ]
  },
  {
   "cell_type": "markdown",
   "metadata": {
    "id": "gAGEONPJ1Fav"
   },
   "source": [
    "# Problem 4: Chasing down the RE2NFA components\n",
    "\n",
    "Find out where the s* components are and explain the set of all strings that precede s* in Rev_RE2 and the NFA of Rev_RE2\n",
    "\n",
    "Find out where the ending \"a\" is, and find out the set of all the symbols that precede a\n",
    "\n",
    "Let's first look at the NFA and then see where the RE \"parts\" are in it."
   ]
  },
  {
   "cell_type": "code",
   "execution_count": null,
   "metadata": {
    "id": "reKK6EvN1Fav",
    "scrolled": true
   },
   "outputs": [],
   "source": [
    "dotObj_nfa(re2nfa(Rev_RE2))"
   ]
  },
  {
   "cell_type": "markdown",
   "metadata": {
    "id": "rViHZD9k1Fav"
   },
   "source": [
    "\n",
    "This is an exercise in explaining how Rev_RE2 got translated to an NFA. You are to pick these cases and find an example of each, and explain below. What you pick does not matter.\n",
    "\n",
    "* Find a case where a Star is used, and explain the construction, pointing to the states involved. Use up to 6 bullets below. More or less based on how you explain (clarity not length emphasized).\n",
    "  - ...\n",
    "  - ...\n",
    "  - ...\n",
    "  - ...\n",
    "  - ...\n",
    "  - ...\n",
    "\n",
    "* Find a case where the Star follows something (I.e. a concatenation of the form \"X\" followed by \"Star\" is used). Show how that concatenation construction is accomplished in the same manner (up to 6 bullets roughly) as above. More or less based on how you explain.\n",
    "  - ...\n",
    "  - ...\n",
    "  - ...\n",
    "  - ...\n",
    "  - ...\n",
    "  - ...\n",
    "  \n",
    "* Find a case where something follows Star (I.e. a concatenation of the form \"Star\" followed by \"X\"). Explain how the concatenation is accomplished.\n",
    "  - ...\n",
    "  - ...\n",
    "  - ...\n",
    "  - ...\n",
    "  - ...\n",
    "  - ..."
   ]
  },
  {
   "cell_type": "markdown",
   "metadata": {
    "id": "fmY0Ky9A1Faw"
   },
   "source": [
    "## Repeat finding out the aforesaid paths in your own Rev_RE1_hand"
   ]
  },
  {
   "cell_type": "markdown",
   "metadata": {
    "id": "cmAoBNG81Faw"
   },
   "source": [
    "\n",
    "This is an exercise in explaining how Rev_RE1_hand got translated to an NFA. You are to pick these cases and find an example of each, and explain below. What you pick does not matter.\n",
    "\n",
    "* Find a case where a Star is used, and explain the construction, pointing to the states involved. Use up to 6 bullets below. More or less based on how you explain (clarity not length emphasized).\n",
    "  - ...\n",
    "  - ...\n",
    "  - ...\n",
    "  - ...\n",
    "  - ...\n",
    "  - ...\n",
    "\n",
    "* Find a case where the Star follows something (I.e. a concatenation of the form \"X\" followed by \"Star\" is used). If such a case does not arise in your RE, skip this part. Show how that concatenation construction is accomplished in the same manner (up to 6 bullets roughly) as above. More or less based on how you explain. \n",
    "  - ...\n",
    "  - ...\n",
    "  - ...\n",
    "  - ...\n",
    "  - ...\n",
    "  - ...\n",
    "  \n",
    "* Find a case where something follows Star (I.e. a concatenation of the form \"Star\" followed by \"X\"). If such a case does not arise in your RE, skip this part. Explain how the concatenation is accomplished.\n",
    "  - ...\n",
    "  - ...\n",
    "  - ...\n",
    "  - ...\n",
    "  - ...\n",
    "  - ..."
   ]
  },
  {
   "cell_type": "markdown",
   "metadata": {
    "id": "V9nRzOHS1Fax"
   },
   "source": [
    "# END\n"
   ]
  }
 ],
 "metadata": {
  "colab": {
   "name": "u1234567_asg4_Prob1234.ipynb",
   "provenance": []
  },
  "kernelspec": {
   "display_name": "Python 3",
   "language": "python",
   "name": "python3"
  },
  "language_info": {
   "codemirror_mode": {
    "name": "ipython",
    "version": 3
   },
   "file_extension": ".py",
   "mimetype": "text/x-python",
   "name": "python",
   "nbconvert_exporter": "python",
   "pygments_lexer": "ipython3",
   "version": "3.9.0"
  },
  "toc": {
   "colors": {
    "hover_highlight": "#DAA520",
    "running_highlight": "#FF0000",
    "selected_highlight": "#FFD700"
   },
   "moveMenuLeft": true,
   "nav_menu": {
    "height": "121px",
    "width": "252px"
   },
   "navigate_menu": true,
   "number_sections": true,
   "sideBar": true,
   "threshold": 4,
   "toc_cell": false,
   "toc_section_display": "block",
   "toc_window_display": false,
   "widenNotebook": false
  }
 },
 "nbformat": 4,
 "nbformat_minor": 1
}
