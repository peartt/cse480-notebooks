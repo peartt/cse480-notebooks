{
  "nbformat": 4,
  "nbformat_minor": 0,
  "metadata": {
    "colab": {
      "name": "10_4_Answer_Selected_Questions.ipynb",
      "provenance": [],
      "authorship_tag": "ABX9TyMKHSGjGiZ7VB5hskYy+0BV",
      "include_colab_link": true
    },
    "kernelspec": {
      "name": "python3",
      "display_name": "Python 3"
    }
  },
  "cells": [
    {
      "cell_type": "markdown",
      "metadata": {
        "id": "view-in-github",
        "colab_type": "text"
      },
      "source": [
        "<a href=\"https://colab.research.google.com/github/byui-cse/cse480-notebooks/blob/master/10_4_Answer_Selected_Questions.ipynb\" target=\"_parent\"><img src=\"https://colab.research.google.com/assets/colab-badge.svg\" alt=\"Open In Colab\"/></a>"
      ]
    },
    {
      "cell_type": "markdown",
      "metadata": {
        "id": "T44byWeaNckf"
      },
      "source": [
        "# Answer Selected Questions\n",
        "## 12 March 2021"
      ]
    },
    {
      "cell_type": "markdown",
      "metadata": {
        "id": "GsG_VIaeNpyT"
      },
      "source": [
        "## 1"
      ]
    },
    {
      "cell_type": "markdown",
      "metadata": {
        "id": "aC2F5bnpNv6s"
      },
      "source": [
        "Could you please go over that $Regular_{TM}$ mapping reduction one more time?"
      ]
    },
    {
      "cell_type": "markdown",
      "metadata": {
        "id": "MC6PmFRxUd58"
      },
      "source": [
        "### Answer"
      ]
    },
    {
      "cell_type": "markdown",
      "metadata": {
        "id": "ZphsmKY0ODiA"
      },
      "source": [
        "Yes. Here is my revamping of another attempt Ganesh made to describe this admittedly hard-to-understand mapping reduction.\n",
        "\n",
        "Note that Ganesh says \"set\" a lot to mean \"language\" --- knowing that a language is a set of strings helps, but keep this in mind to avoid confusion!"
      ]
    },
    {
      "cell_type": "markdown",
      "metadata": {
        "id": "EFDEcNeuOxNt"
      },
      "source": [
        "#### Python functions"
      ]
    },
    {
      "cell_type": "markdown",
      "metadata": {
        "id": "oE3Ia8ilO3RH"
      },
      "source": [
        "Let us introduce these Python functions that are allegedly in some Python library:\n",
        "\n",
        "* ```def semi_decider_A_TM(M, w): pass```\n",
        "This is a semi-decider for the set $A_{TM}$. It is not a full decider but only a semi-decider.\n",
        "* ```def full_decider_A_TM(M, w): pass```\n",
        "This is a full decider for the set $A_{TM}$. **We have mathematically shown that this function cannot exist.**\n",
        "* ```def full_decider_Regular_TM(M, w): pass```\n",
        "This is a full decider for the set $Regular_{TM}$. This is the set of TMs whose languages are a regular set. **We are going to show that** if the ```full_decider_Regular_TM``` function exists, then the ```full_decider_A_TM``` function will end up existing. This will result in a contradiction."
      ]
    },
    {
      "cell_type": "markdown",
      "metadata": {
        "id": "4iKusayXQYHw"
      },
      "source": [
        "#### Translate (Reduce)"
      ]
    },
    {
      "cell_type": "markdown",
      "metadata": {
        "id": "T2jK_FkPQd9o"
      },
      "source": [
        "Now define a translator from TMs to TMs called ```translate```. This is our mapping reduction function! It must take an $M$ and a $w$ and produce another TM program:\n",
        "\n",
        "```def translate(M, w): pass```"
      ]
    },
    {
      "cell_type": "markdown",
      "metadata": {
        "id": "y6ZMjEdsQ5BP"
      },
      "source": [
        "Our goal is to design ```translate``` in such a way that it tries to \"trick\" ```full_decider_Regular_TM``` if it were to exist. For that, the design of ```translate``` must hide within it the power to define ```full_decider_A_TM```.\n",
        "\n",
        "We design things so that ```translate``` returns the string $M^{\\prime}$ by splicing in $M$ and $w$:\n",
        "\n",
        "```\n",
        "def translate(M, w):\n",
        "  return f\"M'(x) {\n",
        "              if x is of the form 0^n 1^n then goto accept_M';\n",
        "\n",
        "              Run {M} on {w}; # splice in M and w\n",
        "\n",
        "              If this execution results in {M} accepting {w}\n",
        "              then M' goes to accept_M';\n",
        "\n",
        "              If {M} rejects {w}, then M' goes to reject_M';\n",
        "         }\"\n",
        "```"
      ]
    },
    {
      "cell_type": "markdown",
      "metadata": {
        "id": "PvNfgomuShb8"
      },
      "source": [
        "#### How?"
      ]
    },
    {
      "cell_type": "markdown",
      "metadata": {
        "id": "R4UJPXneSi59"
      },
      "source": [
        "How does ```translate``` help?\n",
        "\n",
        "Notice that ```translate``` is our mapping reduction function. It takes an $M$ and a $w$ and splices them into a formatted string which is the TM $M^{\\prime}$ which is returned!\n",
        "\n",
        "Now if the string returned by ```translate``` --- which is the $M^{\\prime}$ machine --- is presented to ```full_decider_Regular_TM``` --- if it were to exist --- then we have essentially created ```full_decider_A_TM```. This is a contradiction.\n",
        "\n",
        "Here is how ```full_decider_A_TM``` will work then:\n",
        "```\n",
        "def full_decider_A_TM(M, w):\n",
        "  return full_decider_Regular_TM(translate(M, w))\n",
        "```"
      ]
    },
    {
      "cell_type": "markdown",
      "metadata": {
        "id": "RhDOJPbMTnQ4"
      },
      "source": [
        "#### Why?"
      ]
    },
    {
      "cell_type": "markdown",
      "metadata": {
        "id": "X5PeKwMgTo8z"
      },
      "source": [
        "Why does this work?\n",
        "\n",
        "The only way the language of the $M^{\\prime}$ machine will be deemed regular is if $M$ accepts $w$. Else its language can't be regular. Thus this \"secret\" is revealed by judging that $M^{\\prime}$ has a regular language."
      ]
    },
    {
      "cell_type": "markdown",
      "metadata": {
        "id": "BpeWP_YXNwh2"
      },
      "source": [
        "## 2\n"
      ]
    },
    {
      "cell_type": "markdown",
      "metadata": {
        "id": "W1aKbi8R35Jv"
      },
      "source": [
        "I'm having a hard time grasping the A_TM to E_TM mapping reduction. Please illuminate?"
      ]
    },
    {
      "cell_type": "markdown",
      "metadata": {
        "id": "vqNsZrsf4EQX"
      },
      "source": [
        "### Answer"
      ]
    },
    {
      "cell_type": "markdown",
      "metadata": {
        "id": "_HdFRQO-N3L5"
      },
      "source": [
        "In the same vein as the answer above, let us do a slightly different mapping reduction:"
      ]
    },
    {
      "cell_type": "markdown",
      "metadata": {
        "id": "DnunidBt4Yy0"
      },
      "source": [
        "More Python functions that are allegedly in some Python library:\n",
        "\n",
        "* ```def full_decider_E_TM(M, w): pass```\n",
        "This is a full decider for the set $E_{TM}$. This is the set of TMs whose languages are empty. That is, the set of TMs that accept *nothing* --- as opposed to *something*.\n",
        "* ```def full_decider_Co_E_TM(M, w): pass```\n",
        "This is a full decider for the set $\\overline{E_{TM}}$. This is the set of TMs whose languages are NON-empty sets. That is, the set of TMs that accept *something* --- as opposed to *nothing*.\n",
        "\n",
        "**We are going to try --- and fail --- to show that** if the ```full_decider_E_TM``` function exists, then the ```full_decider_A_TM``` function could be created --- a contradiction.\n",
        "\n",
        "**We are going to show that** if the ```full_decider_Co_E_TM``` function exists, then the ```full_decider_A_TM``` function could be created --- a contradiction."
      ]
    },
    {
      "cell_type": "markdown",
      "metadata": {
        "id": "CQxiPRhO5ZC-"
      },
      "source": [
        "#### Translate (Reduce)"
      ]
    },
    {
      "cell_type": "markdown",
      "metadata": {
        "id": "2EeMdPI05ZC_"
      },
      "source": [
        "Now define translators from TMs to TMs called ```translate0``` and ```translate1```. These are our mapping reduction functions! They must take an $M$ and a $w$ and produce another TM program:\n",
        "\n",
        "* ```def translate0(M, w): pass```\n",
        "* ```def translate1(M, w): pass```\n"
      ]
    },
    {
      "cell_type": "markdown",
      "metadata": {
        "id": "Jz-NDmzW9qSV"
      },
      "source": [
        "Let's first see why ```def translate0(M, w)``` can't work. If it were to try to produce a modified TM, say $M^{\\prime}$, that we could feed to our (alleged) ```full_decider_E_TM```, then this decider could run on input $\\langle M \\rangle$ and see if it accepts. If it does, we know that $L(M)$ is empty and therefore that $M$ does NOT accept $w$ --- because it accepts *nothing*. But if ```full_decider_E_TM``` rejects $\\langle M \\rangle$, all we know is that $L(M)$ is NOT empty and therefore that $M$ accepts some string --- but we still do not know whether $M$ accepts the particular string $w$, which would decide $A_{TM}$. So scratch that approach."
      ]
    },
    {
      "cell_type": "markdown",
      "metadata": {
        "id": "tSDggW9q5ZDA"
      },
      "source": [
        "So now let's design ```translate1``` in such a way that it tries to \"trick\" ```full_decider_Co_E_TM``` if it were to exist. For that, the design of ```translate1``` must hide within it the power to define ```full_decider_A_TM```.\n",
        "\n",
        "We design things so that ```translate1``` returns the string $M^{\\prime}$ by splicing in $M$ and $w$:\n",
        "\n",
        "```\n",
        "def translate1(M, w):\n",
        "  return f\"M'(x) {\n",
        "              Run {M} on {w}; # splice in M and w\n",
        "\n",
        "              If this execution results in {M} accepting {w}\n",
        "              then M' goes to accept_M';\n",
        "\n",
        "              If {M} rejects {w}, then M' goes to reject_M';\n",
        "         }\"\n",
        "```"
      ]
    },
    {
      "cell_type": "markdown",
      "metadata": {
        "id": "RwyTKVtQ5ZDA"
      },
      "source": [
        "#### How?"
      ]
    },
    {
      "cell_type": "markdown",
      "metadata": {
        "id": "jR0BThMb5ZDB"
      },
      "source": [
        "How does ```translate1``` help?\n",
        "\n",
        "Notice that ```translate1``` is our successful mapping reduction function. It takes an $M$ and a $w$ and splices them into a formatted string which is the TM $M^{\\prime}$ which is returned!\n",
        "\n",
        "Now if the string returned by ```translate1``` --- which is the $M^{\\prime}$ machine --- is presented to ```full_decider_Co_E_TM``` --- if it were to exist --- then we have essentially created ```full_decider_A_TM```. This is a contradiction.\n",
        "\n",
        "Here is how ```full_decider_A_TM``` will work then:\n",
        "```\n",
        "def full_decider_A_TM(M, w):\n",
        "  return full_decider_Co_E_TM(translate1(M, w))\n",
        "```"
      ]
    },
    {
      "cell_type": "markdown",
      "metadata": {
        "id": "7BBvtWIc5ZDB"
      },
      "source": [
        "#### Why?"
      ]
    },
    {
      "cell_type": "markdown",
      "metadata": {
        "id": "qADXwI6T5ZDC"
      },
      "source": [
        "Why does this work?\n",
        "\n",
        "The only way the language of the $M^{\\prime}$ machine will be deemed NON-empty --- and thus in $\\overline{E_{TM}}$ --- is if $M$ accepts $w$. Else its language MUST be empty.\n",
        "\n",
        "Thus we have reversed the sense of the answer (which is why we took the complement):\n",
        "\n",
        "If $\\langle M, w \\rangle \\in A_{TM}$ then $\\langle M^{\\prime}_{M, w} \\rangle \\in \\overline{E_{TM}}$, because it accepts something --- in fact, it accepts everything.\n",
        "\n",
        "If $\\langle M, w \\rangle \\not \\in A_{TM}$ then $\\langle M^{\\prime}_{M, w} \\rangle \\in E_{TM}$, because it accepts nothing."
      ]
    },
    {
      "cell_type": "markdown",
      "metadata": {
        "id": "kXK_ZlfyEBmM"
      },
      "source": [
        "##### P.S."
      ]
    },
    {
      "cell_type": "markdown",
      "metadata": {
        "id": "rndS9MJ4EJRf"
      },
      "source": [
        "The language $\\overline{E_{TM}}$ can easily be shown to be semi-decidable, using the dovetailing technique. Let $s_1, s_2, \\ldots$ be a list of all strings in $\\Sigma^*$ in numeric order. The following TM semi-decides (recognizes) $\\overline{E_{TM}}$:\n",
        "\n",
        "\"On input $\\langle M \\rangle$, where $M$ is a TM:\n",
        "1. Repeat the following for $i = 1, 2, 3, \\ldots$\n",
        "2. > Run $M$ for $i$ steps on each input, $s_1, s_2, \\ldots, s_i$.\n",
        "3. > If $M$ has accepted any of these, **accept**. Otherwise, continue.\""
      ]
    }
  ]
}