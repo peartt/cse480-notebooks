{
  "nbformat": 4,
  "nbformat_minor": 0,
  "metadata": {
    "colab": {
      "name": "12_2_About_Boolean_Logic.ipynb",
      "provenance": [],
      "authorship_tag": "ABX9TyMoaY2eGllMwIth3DAsPtN0",
      "include_colab_link": true
    },
    "kernelspec": {
      "name": "python3",
      "display_name": "Python 3"
    },
    "language_info": {
      "name": "python"
    }
  },
  "cells": [
    {
      "cell_type": "markdown",
      "metadata": {
        "id": "view-in-github",
        "colab_type": "text"
      },
      "source": [
        "<a href=\"https://colab.research.google.com/github/byui-cse/cse480-notebooks/blob/master/12_2_About_Boolean_Logic.ipynb\" target=\"_parent\"><img src=\"https://colab.research.google.com/assets/colab-badge.svg\" alt=\"Open In Colab\"/></a>"
      ]
    },
    {
      "cell_type": "markdown",
      "metadata": {
        "id": "kdtedtqdI0eU"
      },
      "source": [
        "# About Boolean Logic\n",
        "## Monday, 22 March 2021"
      ]
    },
    {
      "cell_type": "markdown",
      "metadata": {
        "id": "IfKEOT0SI417"
      },
      "source": [
        "## The Goal: Understand Boolean Expressions Better"
      ]
    },
    {
      "cell_type": "markdown",
      "metadata": {
        "id": "j-T456f9ii9X"
      },
      "source": [
        "Two Boolean expressions are said to be equal if they evaluate to the same truth value for all truth assignments.\n",
        "\n",
        "A Boolean expression is a **tautology** if it evaluates to true for **all** truth assignments.\n",
        "\n",
        "A Boolean expression is **satisfiable** if it evaluates to true for **at least one** truth assignment."
      ]
    },
    {
      "cell_type": "markdown",
      "metadata": {
        "id": "5n2M5mEtilxX"
      },
      "source": [
        "### Recall De Morgan's Laws"
      ]
    },
    {
      "cell_type": "markdown",
      "metadata": {
        "id": "5b8m5yyHina0"
      },
      "source": [
        "$\\lnot(P \\lor Q) \\leftrightarrow \\lnot P \\land \\lnot Q$\n",
        "\n",
        "$\\lnot(P \\land Q) \\leftrightarrow \\lnot P \\lor \\lnot Q$\n"
      ]
    },
    {
      "cell_type": "markdown",
      "metadata": {
        "id": "0OFGFq71iujJ"
      },
      "source": [
        "### Recall the Double-Negation Elimination Rule"
      ]
    },
    {
      "cell_type": "markdown",
      "metadata": {
        "id": "Gwv56O6BixN0"
      },
      "source": [
        "$\\lnot \\lnot P \\leftrightarrow P$"
      ]
    },
    {
      "cell_type": "markdown",
      "metadata": {
        "id": "VDBZTPfCiy7L"
      },
      "source": [
        "### Recall the Distributive Properties"
      ]
    },
    {
      "cell_type": "markdown",
      "metadata": {
        "id": "RjcqdSYui0SW"
      },
      "source": [
        "$(P \\land (Q \\lor R)) \\leftrightarrow ((P \\land Q) \\lor (P \\land R))$\n",
        "\n",
        "In truth table form:\n",
        "\n",
        "| ( | P | $\\land$ | ( | Q | $\\lor$ | R | ) | ) | $\\leftrightarrow$ | ( | ( | P | $\\land$ | Q | ) | $\\lor$ | ( | P | $\\land$ | R | ) | ) |\n",
        "|---|---|---|---|---|---|---|---|---|---|---|---|---|---|---|---|---|---|---|---|---|---|---|\n",
        "|   | 0 | 0 |   | 0 | 0 | 0 |   |   | 1 |   |   | 0 | 0 | 0 |   | 0 |   | 0 | 0 | 0 |   |   |\n",
        "|   | 0 | 0 |   | 0 | 1 | 1 |   |   | 1 |   |   | 0 | 0 | 0 |   | 0 |   | 0 | 0 | 1 |   |   |\n",
        "|   | 0 | 0 |   | 1 | 1 | 0 |   |   | 1 |   |   | 0 | 0 | 1 |   | 0 |   | 0 | 0 | 0 |   |   |\n",
        "|   | 0 | 0 |   | 1 | 1 | 1 |   |   | 1 |   |   | 0 | 0 | 1 |   | 0 |   | 0 | 0 | 1 |   |   |\n",
        "|   | 1 | 0 |   | 0 | 0 | 0 |   |   | 1 |   |   | 1 | 0 | 0 |   | 0 |   | 1 | 0 | 0 |   |   |\n",
        "|   | 1 | 1 |   | 0 | 1 | 1 |   |   | 1 |   |   | 1 | 0 | 0 |   | 1 |   | 1 | 1 | 1 |   |   |\n",
        "|   | 1 | 1 |   | 1 | 1 | 0 |   |   | 1 |   |   | 1 | 1 | 1 |   | 1 |   | 1 | 0 | 0 |   |   |\n",
        "|   | 1 | 1 |   | 1 | 1 | 1 |   |   | 1 |   |   | 1 | 1 | 1 |   | 1 |   | 1 | 1 | 1 |   |   |\n"
      ]
    },
    {
      "cell_type": "markdown",
      "metadata": {
        "id": "FlJJV8k5i_4J"
      },
      "source": [
        "$(P \\lor (Q \\land R)) \\leftrightarrow ((P \\lor Q) \\land (P \\lor R))$\n",
        "\n",
        "In truth table form:\n",
        "\n",
        "| ( | P | $\\lor$ | ( | Q | $\\land$ | R | ) | ) | $\\leftrightarrow$ | ( | ( | P | $\\lor$ | Q | ) | $\\land$ | ( | P | $\\lor$ | R | ) | ) |\n",
        "|---|---|---|---|---|---|---|---|---|---|---|---|---|---|---|---|---|---|---|---|---|---|---|\n",
        "|   | 0 | 0 |   | 0 | 0 | 0 |   |   | 1 |   |   | 0 | 0 | 0 |   | 0 |   | 0 | 0 | 0 |   |   |\n",
        "|   | 0 | 0 |   | 0 | 0 | 1 |   |   | 1 |   |   | 0 | 0 | 0 |   | 0 |   | 0 | 1 | 1 |   |   |\n",
        "|   | 0 | 0 |   | 1 | 0 | 0 |   |   | 1 |   |   | 0 | 1 | 1 |   | 1 |   | 0 | 0 | 0 |   |   |\n",
        "|   | 0 | 1 |   | 1 | 1 | 1 |   |   | 1 |   |   | 0 | 1 | 1 |   | 1 |   | 0 | 1 | 1 |   |   |\n",
        "|   | 1 | 1 |   | 0 | 0 | 0 |   |   | 1 |   |   | 1 | 1 | 0 |   | 1 |   | 1 | 1 | 0 |   |   |\n",
        "|   | 1 | 1 |   | 0 | 0 | 1 |   |   | 1 |   |   | 1 | 1 | 0 |   | 1 |   | 1 | 1 | 1 |   |   |\n",
        "|   | 1 | 1 |   | 1 | 0 | 0 |   |   | 1 |   |   | 1 | 1 | 1 |   | 1 |   | 1 | 1 | 0 |   |   |\n",
        "|   | 1 | 1 |   | 1 | 1 | 1 |   |   | 1 |   |   | 1 | 1 | 1 |   | 1 |   | 1 | 1 | 1 |   |   |\n"
      ]
    },
    {
      "cell_type": "markdown",
      "metadata": {
        "id": "LBwG-2MXjG6o"
      },
      "source": [
        "## How Hard Is It"
      ]
    },
    {
      "cell_type": "markdown",
      "metadata": {
        "id": "JHAh7h8KjJWX"
      },
      "source": [
        "To Convert DNF to CNF?"
      ]
    },
    {
      "cell_type": "markdown",
      "metadata": {
        "id": "g3jCszASjLBo"
      },
      "source": [
        "### Make a blank truth table:"
      ]
    },
    {
      "cell_type": "markdown",
      "metadata": {
        "id": "C-9ZLwMvjMnB"
      },
      "source": [
        "| P | Q | R | f(P, Q, R) |\n",
        "|---|---|---|------------|\n",
        "| 0 | 0 | 0 |            |\n",
        "| 0 | 0 | 1 |            |\n",
        "| 0 | 1 | 0 |            |\n",
        "| 0 | 1 | 1 |            |\n",
        "| 1 | 0 | 0 |            |\n",
        "| 1 | 0 | 1 |            |\n",
        "| 1 | 1 | 0 |            |\n",
        "| 1 | 1 | 1 |            |"
      ]
    },
    {
      "cell_type": "markdown",
      "metadata": {
        "id": "_R0qaFGDjO6U"
      },
      "source": [
        "### Flesh Out Personality"
      ]
    },
    {
      "cell_type": "markdown",
      "metadata": {
        "id": "Am1IFgyfjSyV"
      },
      "source": [
        "| P | Q | R | f(P, Q, R) |\n",
        "|---|---|---|------------|\n",
        "| 0 | 0 | 0 |          0 |\n",
        "| 0 | 0 | 1 |          1 |\n",
        "| 0 | 1 | 0 |          0 |\n",
        "| 0 | 1 | 1 |          0 |\n",
        "| 1 | 0 | 0 |          0 |\n",
        "| 1 | 0 | 1 |          1 |\n",
        "| 1 | 1 | 0 |          1 |\n",
        "| 1 | 1 | 1 |          0 |"
      ]
    },
    {
      "cell_type": "markdown",
      "metadata": {
        "id": "XhCXd0wWjVGL"
      },
      "source": [
        "### Flesh Out DNF"
      ]
    },
    {
      "cell_type": "markdown",
      "metadata": {
        "id": "Yv4uLlwHjW5I"
      },
      "source": [
        "| P | Q | R | f(P, Q, R) | DNF             |\n",
        "|---|---|---|------------|-----------------|\n",
        "| 0 | 0 | 0 |          0 |                 |\n",
        "| 0 | 0 | 1 |          1 | (!P * !Q * R) + |\n",
        "| 0 | 1 | 0 |          0 |                 |\n",
        "| 0 | 1 | 1 |          0 |                 |\n",
        "| 1 | 0 | 0 |          0 |                 |\n",
        "| 1 | 0 | 1 |          1 | (P * !Q * R) +  |\n",
        "| 1 | 1 | 0 |          1 | (P * Q * !R)    |\n",
        "| 1 | 1 | 1 |          0 |                 |"
      ]
    },
    {
      "cell_type": "markdown",
      "metadata": {
        "id": "ZGcFvV1IjZdn"
      },
      "source": [
        "### Flesh Out Negated DNF Personality"
      ]
    },
    {
      "cell_type": "markdown",
      "metadata": {
        "id": "lNS6gMxbjbnc"
      },
      "source": [
        "| P | Q | R | f(P, Q, R) | DNF             | !DNF |\n",
        "|---|---|---|------------|-----------------|------|\n",
        "| 0 | 0 | 0 |          0 |                 |    1 |\n",
        "| 0 | 0 | 1 |          1 | (!P * !Q * R) + |    0 |\n",
        "| 0 | 1 | 0 |          0 |                 |    1 |\n",
        "| 0 | 1 | 1 |          0 |                 |    1 |\n",
        "| 1 | 0 | 0 |          0 |                 |    1 |\n",
        "| 1 | 0 | 1 |          1 | (P * !Q * R) +  |    0 |\n",
        "| 1 | 1 | 0 |          1 | (P * Q * !R)    |    0 |\n",
        "| 1 | 1 | 1 |          0 |                 |    1 |"
      ]
    },
    {
      "cell_type": "markdown",
      "metadata": {
        "id": "4pbXk3FFjmfJ"
      },
      "source": [
        "### Flesh Out CNF Target"
      ]
    },
    {
      "cell_type": "markdown",
      "metadata": {
        "id": "owYFEnNAjo05"
      },
      "source": [
        "| P | Q | R | f(P, Q, R) | DNF             | !DNF | CNF     |\n",
        "|---|---|---|------------|-----------------|------|---------|\n",
        "| 0 | 0 | 0 |          0 |                 |    1 | ( ? ) * |\n",
        "| 0 | 0 | 1 |          1 | (!P * !Q * R) + |    0 |         |\n",
        "| 0 | 1 | 0 |          0 |                 |    1 | ( ? ) * |\n",
        "| 0 | 1 | 1 |          0 |                 |    1 | ( ? ) * |\n",
        "| 1 | 0 | 0 |          0 |                 |    1 | ( ? ) * |\n",
        "| 1 | 0 | 1 |          1 | (P * !Q * R) +  |    0 |         |\n",
        "| 1 | 1 | 0 |          1 | (P * Q * !R)    |    0 |         |\n",
        "| 1 | 1 | 1 |          0 |                 |    1 | ( ? )   |"
      ]
    },
    {
      "cell_type": "markdown",
      "metadata": {
        "id": "2JUYXRiHjqt3"
      },
      "source": [
        "### Fleshed Out (Almost) Full Process"
      ]
    },
    {
      "cell_type": "markdown",
      "metadata": {
        "id": "U8hEnGLRjsY5"
      },
      "source": [
        "| P | Q | R | f(P, Q, R) | DNF             |  !f(P, Q, R) | !DNF             | !!DNF             | CNF             |\n",
        "|---|---|---|------------|-----------------|--------------|------------------|-------------------|-----------------|\n",
        "| 0 | 0 | 0 |          0 |                 |            1 | (!P * !Q * !R) + | !(!P * !Q * !R) * | (P + Q + R) *   |\n",
        "| 0 | 0 | 1 |          1 | (!P * !Q * R) + |            0 |                  |                   |                 |\n",
        "| 0 | 1 | 0 |          0 |                 |            1 | (!P * Q * !R) +  | !(!P * Q * !R) *  | (P + !Q + R) *  |\n",
        "| 0 | 1 | 1 |          0 |                 |            1 | (!P * Q * R) +   | !(!P * Q * R) *   | (P + !Q + !R) * |\n",
        "| 1 | 0 | 0 |          0 |                 |            1 | (P * !Q * !R) +  | !(P * !Q * !R) *  | (!P + Q + R) *  |\n",
        "| 1 | 0 | 1 |          1 | (P * !Q * R) +  |            0 |                  |                   |                 |\n",
        "| 1 | 1 | 0 |          1 | (P * Q * !R)    |            0 |                  |                   |                 |\n",
        "| 1 | 1 | 1 |          0 |                 |            1 | (P * Q * R)      | !(P * Q * R)      | (!P + !Q + !R)  |"
      ]
    }
  ]
}