{
  "nbformat": 4,
  "nbformat_minor": 0,
  "metadata": {
    "colab": {
      "name": "06_4_Answer_Selected_Questions.ipynb",
      "provenance": [],
      "authorship_tag": "ABX9TyMc2t3noAYz7NHkcrq673OJ",
      "include_colab_link": true
    },
    "kernelspec": {
      "name": "python3",
      "display_name": "Python 3"
    }
  },
  "cells": [
    {
      "cell_type": "markdown",
      "metadata": {
        "id": "view-in-github",
        "colab_type": "text"
      },
      "source": [
        "<a href=\"https://colab.research.google.com/github/byui-cse/cse480-notebooks/blob/master/06_4_Answer_Selected_Questions.ipynb\" target=\"_parent\"><img src=\"https://colab.research.google.com/assets/colab-badge.svg\" alt=\"Open In Colab\"/></a>"
      ]
    },
    {
      "cell_type": "markdown",
      "metadata": {
        "id": "sn9mqVvbxBwK"
      },
      "source": [
        "# Answer Selected Questions\n",
        "## 12 February 2021"
      ]
    },
    {
      "cell_type": "markdown",
      "metadata": {
        "id": "gW7qjdme3Yq4"
      },
      "source": [
        "## Imports, then Questions"
      ]
    },
    {
      "cell_type": "code",
      "metadata": {
        "id": "FdcN5gt13d3p"
      },
      "source": [
        "#~~~~~~~~~~~~~~~~~~~~~~~~~~~~~~~~~~~~~~~~~~~~~~~~~~~~~~~\n",
        "import sys\n",
        "\n",
        "# -- Detect if in Own Install or in Colab\n",
        "try:\n",
        "    import google.colab\n",
        "    OWN_INSTALL = False\n",
        "except:\n",
        "    OWN_INSTALL = True\n",
        "    \n",
        "if OWN_INSTALL:\n",
        "  \n",
        "  sys.path[0:0] = ['../../../../..',  '../../../../../3rdparty',  \n",
        "                   '../../../..',  '../../../../3rdparty',  \n",
        "                   '../../..',     '../../../3rdparty', \n",
        "                   '../..',        '../../3rdparty',\n",
        "                   '..',           '../3rdparty',\n",
        "                   '../Jove',      '../Jove/jove']\n",
        "\n",
        "else: # In colab\n",
        "  ! if [ ! -d Jove ]; then git clone https://github.com/ganeshutah/Jove Jove; fi\n",
        "  sys.path.append('./Jove')\n",
        "  sys.path.append('./Jove/jove')\n",
        "\n",
        "# -- common imports --\n",
        "from jove.DotBashers import *\n",
        "from jove.Def_md2mc  import *\n",
        "from jove.Def_NFA    import *\n",
        "from jove.Def_DFA    import *\n",
        "from jove.Def_NFA2RE import *\n",
        "from jove.Def_RE2NFA import *\n",
        "from jove.AnimateNFA import *\n",
        "#~~~~~~~~~~~~~~~~~~~~~~~~~~~~~~~~~~~~~~~~~~~~~~~~~~~~~~~"
      ],
      "execution_count": null,
      "outputs": []
    },
    {
      "cell_type": "markdown",
      "metadata": {
        "id": "K1QFNeZRCSyY"
      },
      "source": [
        "## What was the proof for the Easiest Proof Problem?"
      ]
    },
    {
      "cell_type": "markdown",
      "metadata": {
        "id": "dtanFumfCasp"
      },
      "source": [
        "If $a \\equiv_5 b$ then $a^2 \\equiv_5 b^2$.\n",
        "\n",
        "Make logical use of the definitions:\n",
        "\n",
        "$x \\equiv_m y$ means $m$ divides $x - y$, which means $cm = x - y$ for some $c$.\n",
        "\n",
        "Given that $c$, we know that $5c = (a - b)$. Can we then show that $\\exists d \\mid 5d = a^2 - b^2$?\n",
        "\n",
        "Yes, because $a^2 - b^2$ is a difference of squares, and so it factors as $(a - b)(a + b)$.\n",
        "\n",
        "Plugging in $5c$ as the value of $(a - b)$, we have $5d = 5c(a + b)$, so $d$ = $c(a + b)$.\n",
        "\n",
        "Note that the converse --- if $a^2 \\equiv_5 b^2$ then $a \\equiv_5 b$ --- is false.\n",
        "\n",
        "Using the same style of argument, with the difference of squares factorization being given, we would be looking for some $d$ (an integer) that is equal to $\\frac{c}{(a + b)}$, which is NOT guaranteed to be an integer!\n",
        "\n",
        "Here's a proof by counterexample:\n",
        "\n",
        "$1^2 \\equiv_5 4^2$ but $1 \\not \\equiv_5 4$."
      ]
    },
    {
      "cell_type": "markdown",
      "metadata": {
        "id": "1KRCwtVXCe1p"
      },
      "source": [
        "## What was the proof for the Easy Proof Problem?"
      ]
    },
    {
      "cell_type": "markdown",
      "metadata": {
        "id": "xMN_A0JkWp5P"
      },
      "source": [
        "Prove that for every natural number $n$, there exist integers $a, b$ such that $n = 3a + 7b$.\n",
        "\n",
        "Can you generalize this result?\n",
        "\n",
        "$1 = 3a + 7b = 3(5) + 7(-2) = 3(-2) + 7(1)$.\n",
        "\n",
        "Then multiply both sides of that equation by $n$.\n",
        "\n",
        "So, $a = 5n, b = (-2)n$ is one answer. $a = (-2)n, b = (1)n$ is another.\n",
        "\n",
        "Generalizing,\n",
        "\n",
        "$n = ra + sb$ is true iff $r$ and $s$ are coprime.\n",
        "\n",
        "For example,\n",
        "\n",
        "$1 = 3a + 6b$ has no solutions because you can divide both sides of the equation by their GCD ($= 3$) to get the nonsensical $\\frac{1}{3} = a + 2b$."
      ]
    },
    {
      "cell_type": "markdown",
      "metadata": {
        "id": "m8FcndlTxNHr"
      },
      "source": [
        "## What is the argument for 3 being the minimum pumping length for $L_3 = 1^*01^*01^*$?\n"
      ]
    },
    {
      "cell_type": "markdown",
      "metadata": {
        "id": "3QIKx9e-2V7Y"
      },
      "source": [
        "The pumping length cannot be 2 because the string 00 is in the language and it cannot be pumped.\n",
        "\n",
        "Every string in the language of length 3 or more contains a 1 within the first 3 symbols.\n",
        "\n",
        "Do you see it?\n",
        "\n",
        "That means it can be pumped by letting $y$ be that 1 and letting $x$ be the symbols to the left of $y$, and $z$ be the symbols to the right of $y$."
      ]
    },
    {
      "cell_type": "markdown",
      "metadata": {
        "id": "Hyvha3y-2gJR"
      },
      "source": [
        "## I get \"pumping up\", but could you explain \"pumping down\" more?"
      ]
    },
    {
      "cell_type": "markdown",
      "metadata": {
        "id": "lhHcJuKo2kHa"
      },
      "source": [
        "Look at $B = \\{0^{i}1^{j}\\ \\vert\\ i > j\\}$, and try to use the Pumping Lemma to show that $B$ is not regular.\n",
        "\n",
        "Assume, for the sake of deriving a contradiction, that $B$ is regular.\n",
        "\n",
        "Let $N$ be the pumping length for $B$ given by the Pumping Lemma.\n",
        "\n",
        "Let $w = 0^{N+1}1^{N}$. Then $w$ can be split into $xyz$, satisfying the conditions of the Pumping Lemma.\n",
        "\n",
        "By the condition that $xy$ is confined to the first $N$ steps of $w$, $y$ consists only of 0's.\n",
        "\n",
        "Let's examine the string $xyyz$ to see whether it can be in $B$.\n",
        "\n",
        "Adding an extra copy of $y$ increases the number of 0's.\n",
        "\n",
        "But, $B$ contains all strings in $0^*1^*$ that have more 0's than 1's, so increasing the number of 0's will still give a string in $B$.\n",
        "\n",
        "No contradiction occurs with pumping up.\n",
        "\n",
        "So try pumping down.\n",
        "\n",
        "Remember, the Pumping Lemma states that $xy^{i}z \\in B$ even when $i = 0$, so consider the string $xy^{0}z = xz$.\n",
        "\n",
        "Removing string $y$ decreases the number of 0's in $w$.\n",
        "\n",
        "Recall that $w$ has just one more 0 than 1.\n",
        "\n",
        "Therefore $xz$ cannot have more 0's than 1's, so it cannot be a member of $B$.\n",
        "\n",
        "Thus we obtain a contradiction, and conclude that $B$ must be nonregular.\n",
        "\n",
        "\n",
        "\n"
      ]
    },
    {
      "cell_type": "markdown",
      "metadata": {
        "id": "SwEmIyNN2qG8"
      },
      "source": [
        "## Can you give an example of a Pumping Lemma proof with a unary language?\n"
      ]
    },
    {
      "cell_type": "markdown",
      "metadata": {
        "id": "4Jp8U3mx2zT0"
      },
      "source": [
        "Let $C = \\{1^{n^2}\\ \\vert\\ n \\ge 0\\}$.\n",
        "\n",
        "In other words $C$ contains all strings of 1's whose length is a perfect square.\n",
        "\n",
        "Use the Pumping Lemma to prove that $C$ is not regular.\n",
        "\n",
        "Assume to the contrary that $C$ is regular. How do we derive a contradiction?\n",
        "\n",
        "Let $N$ be the pumping length given by the Pumping Lemma.\n",
        "\n",
        "Let $w$ be the string $1^{N^2}$.\n",
        "\n",
        "Because $w$ is a member of $C$ and has length at least $N$, the Pumping Lemma guarantees that $w$ can be split into three pieces, $w = xyz$, where for any $i \\ge 0$ the string $xy^{i}z$ is in $C$.\n",
        "\n",
        "But this is impossible!\n",
        "\n",
        "Think about the sequence of perfect squares:\n",
        "$$0, 1, 4, 9, 16, 25, 36, 49, \\ldots$$\n",
        "\n",
        "Note the growing gap (what is it in terms of the index number of each term?) between successive members of this sequence.\n",
        "\n",
        "This means that large members of this sequence cannot be near each other.\n",
        "\n",
        "Now consider the two strings $xyz$ and $xy^{2}z$.\n",
        "\n",
        "These strings differ from each other by a single repetition of $y$.\n",
        "\n",
        "Thus their lengths differ by the length of $y$.\n",
        "\n",
        "Again, by the condition that $xy$ is confined to the first $N$ steps of $w$, $|xy| \\le N$ and thus $|y| \\le N$.\n",
        "\n",
        "We have $|xyz| = N^2$ and so $|xy^{2}z| \\le N^2 + N$.\n",
        "\n",
        "But $N^2 + N < N^2 + 2N + 1 = (N + 1)^2$.\n",
        "\n",
        "Moreover, by the condition that $y$ is not the empty string, $|xy^{2}z| > N^2$. (Strictly greater than.)\n",
        "\n",
        "Therefore the length of $xy^{2}z$ lies strictly between the consecutive perfect squares $N^2$ and $(N + 1)^2$.\n",
        "\n",
        "Hence this length cannot be a perfect square itself.\n",
        "\n",
        "So we arrive at the contradiction $xy^{2}z \\not \\in C$.\n",
        "\n",
        "Therefore $C$ is not regular.\n",
        "\n",
        "\n",
        "\n",
        "\n",
        "\n",
        "\n",
        "\n",
        "\n"
      ]
    },
    {
      "cell_type": "markdown",
      "metadata": {
        "id": "AnZ4iQzE25Xw"
      },
      "source": [
        "## What is a good name for this DFA?"
      ]
    },
    {
      "cell_type": "code",
      "metadata": {
        "colab": {
          "base_uri": "https://localhost:8080/",
          "height": 190
        },
        "id": "-So5rD9U3J4V",
        "outputId": "c7c39a6f-d12f-400b-ecf3-20e9ae8a1e16"
      },
      "source": [
        "dotObj_dfa({ 'Q': {'A', 'IF', 'B'},\n",
        "             'Sigma': {'0', '1'},\n",
        "             'Delta': { ('IF', '0'): 'A',\n",
        "                        ('IF', '1'): 'IF',\n",
        "                        ('A', '0'): 'B',\n",
        "                        ('A', '1'): 'A',\n",
        "                        ('B', '0'): 'IF',\n",
        "                        ('B', '1'): 'B' },\n",
        "             'q0': 'IF',\n",
        "            'F': {'IF'}})"
      ],
      "execution_count": 4,
      "outputs": [
        {
          "output_type": "execute_result",
          "data": {
            "text/plain": [
              "<graphviz.dot.Digraph at 0x7f0cc00e1518>"
            ],
            "image/svg+xml": "<?xml version=\"1.0\" encoding=\"UTF-8\" standalone=\"no\"?>\n<!DOCTYPE svg PUBLIC \"-//W3C//DTD SVG 1.1//EN\"\n \"http://www.w3.org/Graphics/SVG/1.1/DTD/svg11.dtd\">\n<!-- Generated by graphviz version 2.40.1 (20161225.0304)\n -->\n<!-- Title: %3 Pages: 1 -->\n<svg width=\"313pt\" height=\"126pt\"\n viewBox=\"0.00 0.00 312.70 125.85\" xmlns=\"http://www.w3.org/2000/svg\" xmlns:xlink=\"http://www.w3.org/1999/xlink\">\n<g id=\"graph0\" class=\"graph\" transform=\"scale(1 1) rotate(0) translate(4 121.8483)\">\n<title>%3</title>\n<polygon fill=\"#ffffff\" stroke=\"transparent\" points=\"-4,4 -4,-121.8483 308.6967,-121.8483 308.6967,4 -4,4\"/>\n<!-- EMPTY -->\n<g id=\"node1\" class=\"node\">\n<title>EMPTY</title>\n</g>\n<!-- IF -->\n<g id=\"node4\" class=\"node\">\n<title>IF</title>\n<ellipse fill=\"none\" stroke=\"#000000\" cx=\"113.8483\" cy=\"-62\" rx=\"18.724\" ry=\"18.724\"/>\n<ellipse fill=\"none\" stroke=\"#000000\" cx=\"113.8483\" cy=\"-62\" rx=\"22.6977\" ry=\"22.6977\"/>\n<text text-anchor=\"middle\" x=\"113.8483\" y=\"-58.3\" font-family=\"Times,serif\" font-size=\"14.00\" fill=\"#000000\">IF</text>\n</g>\n<!-- EMPTY&#45;&gt;IF -->\n<g id=\"edge1\" class=\"edge\">\n<title>EMPTY&#45;&gt;IF</title>\n<path fill=\"none\" stroke=\"#000000\" d=\"M54.0033,-62C62.5212,-62 72.0276,-62 80.9112,-62\"/>\n<polygon fill=\"#000000\" stroke=\"#000000\" points=\"80.9572,-65.5001 90.9572,-62 80.9572,-58.5001 80.9572,-65.5001\"/>\n</g>\n<!-- A -->\n<g id=\"node2\" class=\"node\">\n<title>A</title>\n<ellipse fill=\"none\" stroke=\"#000000\" cx=\"202.6967\" cy=\"-18\" rx=\"18\" ry=\"18\"/>\n<text text-anchor=\"middle\" x=\"202.6967\" y=\"-14.3\" font-family=\"Times,serif\" font-size=\"14.00\" fill=\"#000000\">A</text>\n</g>\n<!-- A&#45;&gt;A -->\n<g id=\"edge5\" class=\"edge\">\n<title>A&#45;&gt;A</title>\n<path fill=\"none\" stroke=\"#000000\" d=\"M195.3138,-34.6641C193.6732,-44.625 196.1342,-54 202.6967,-54 206.9008,-54 209.4216,-50.1525 210.2591,-44.7682\"/>\n<polygon fill=\"#000000\" stroke=\"#000000\" points=\"213.7568,-44.6002 210.0795,-34.6641 206.7579,-44.7247 213.7568,-44.6002\"/>\n<text text-anchor=\"middle\" x=\"202.6967\" y=\"-57.8\" font-family=\"Times,serif\" font-size=\"14.00\" fill=\"#000000\">1 </text>\n</g>\n<!-- B -->\n<g id=\"node3\" class=\"node\">\n<title>B</title>\n<ellipse fill=\"none\" stroke=\"#000000\" cx=\"286.6967\" cy=\"-62\" rx=\"18\" ry=\"18\"/>\n<text text-anchor=\"middle\" x=\"286.6967\" y=\"-58.3\" font-family=\"Times,serif\" font-size=\"14.00\" fill=\"#000000\">B</text>\n</g>\n<!-- A&#45;&gt;B -->\n<g id=\"edge4\" class=\"edge\">\n<title>A&#45;&gt;B</title>\n<path fill=\"none\" stroke=\"#000000\" d=\"M218.8927,-26.4836C230.9782,-32.8142 247.7178,-41.5825 261.5401,-48.8228\"/>\n<polygon fill=\"#000000\" stroke=\"#000000\" points=\"260.068,-52.0027 270.5503,-53.5424 263.316,-45.8019 260.068,-52.0027\"/>\n<text text-anchor=\"middle\" x=\"244.6967\" y=\"-45.8\" font-family=\"Times,serif\" font-size=\"14.00\" fill=\"#000000\">0 </text>\n</g>\n<!-- B&#45;&gt;B -->\n<g id=\"edge7\" class=\"edge\">\n<title>B&#45;&gt;B</title>\n<path fill=\"none\" stroke=\"#000000\" d=\"M279.3138,-78.6641C277.6732,-88.625 280.1342,-98 286.6967,-98 290.9008,-98 293.4216,-94.1525 294.2591,-88.7682\"/>\n<polygon fill=\"#000000\" stroke=\"#000000\" points=\"297.7568,-88.6002 294.0795,-78.6641 290.7579,-88.7247 297.7568,-88.6002\"/>\n<text text-anchor=\"middle\" x=\"286.6967\" y=\"-101.8\" font-family=\"Times,serif\" font-size=\"14.00\" fill=\"#000000\">1 </text>\n</g>\n<!-- B&#45;&gt;IF -->\n<g id=\"edge6\" class=\"edge\">\n<title>B&#45;&gt;IF</title>\n<path fill=\"none\" stroke=\"#000000\" d=\"M269.2563,-67.431C256.0696,-71.2417 237.4376,-75.9998 220.6967,-78 204.8097,-79.8982 200.5981,-79.7732 184.6967,-78 171.9021,-76.5732 158.0446,-73.7398 146.0068,-70.8485\"/>\n<polygon fill=\"#000000\" stroke=\"#000000\" points=\"146.5205,-67.3689 135.969,-68.3267 144.8148,-74.1579 146.5205,-67.3689\"/>\n<text text-anchor=\"middle\" x=\"202.6967\" y=\"-82.8\" font-family=\"Times,serif\" font-size=\"14.00\" fill=\"#000000\">0 </text>\n</g>\n<!-- IF&#45;&gt;A -->\n<g id=\"edge2\" class=\"edge\">\n<title>IF&#45;&gt;A</title>\n<path fill=\"none\" stroke=\"#000000\" d=\"M134.4552,-51.7949C147.1605,-45.503 163.5558,-37.3835 177.0916,-30.6803\"/>\n<polygon fill=\"#000000\" stroke=\"#000000\" points=\"178.9407,-33.6703 186.3488,-26.0959 175.8342,-27.3974 178.9407,-33.6703\"/>\n<text text-anchor=\"middle\" x=\"160.6967\" y=\"-44.8\" font-family=\"Times,serif\" font-size=\"14.00\" fill=\"#000000\">0 </text>\n</g>\n<!-- IF&#45;&gt;IF -->\n<g id=\"edge3\" class=\"edge\">\n<title>IF&#45;&gt;IF</title>\n<path fill=\"none\" stroke=\"#000000\" d=\"M106.4966,-83.8532C105.6946,-93.9909 108.1452,-102.8483 113.8483,-102.8483 117.5019,-102.8483 119.8206,-99.2132 120.8045,-93.9352\"/>\n<polygon fill=\"#000000\" stroke=\"#000000\" points=\"124.3052,-93.9828 121.2,-83.8532 117.3106,-93.7083 124.3052,-93.9828\"/>\n<text text-anchor=\"middle\" x=\"113.8483\" y=\"-106.6483\" font-family=\"Times,serif\" font-size=\"14.00\" fill=\"#000000\">1 </text>\n</g>\n</g>\n</svg>\n"
          },
          "metadata": {
            "tags": []
          },
          "execution_count": 4
        }
      ]
    },
    {
      "cell_type": "markdown",
      "metadata": {
        "id": "WkPKW1ctJy5N"
      },
      "source": [
        "strings-of-0s-and-1s-whose-number-of-0s-is-0-mod-3"
      ]
    },
    {
      "cell_type": "markdown",
      "metadata": {
        "id": "pqFIvz3f4pW1"
      },
      "source": [
        "## What are the \"Basics of Pushdown Automata\" that the schedule mentioned we would study this week?"
      ]
    },
    {
      "cell_type": "markdown",
      "metadata": {
        "id": "XqS25J3D4sFA"
      },
      "source": [
        "PDA Go Beyond the Power of FA\n"
      ]
    },
    {
      "cell_type": "markdown",
      "metadata": {
        "id": "dH4CHTJ7KZCX"
      },
      "source": [
        "See Chapter 1, and the restrictions Ganesh mentions on memory and how it's allocated and accessed."
      ]
    },
    {
      "cell_type": "markdown",
      "metadata": {
        "id": "vXojb-wPLCgn"
      },
      "source": [
        "What is the language recognized by this *machine*?\n",
        "\n",
        "Read symbols from the input. As each 0 is read, push it onto the stack. As soon as 1s are seen, pop a 0 off the stack for each 1 read. If reading the input is finished exactly when the stack becomes empty of 0s, accept the input. If the stack becomes empty while 1s remain or if the 1s are finished while the stack still contains 0s, or if any 0s appear in the input following 1s, reject the input.\n",
        "\n",
        "$$\\Sigma = \\{0, 1\\}, L_{0n1n} = \\{0^{n}1^{n} \\mid\\ n \\ge 0\\}.$$\n"
      ]
    },
    {
      "cell_type": "markdown",
      "metadata": {
        "id": "tSSMINo9L31e"
      },
      "source": [
        "## Can we explore a Jove alternative?"
      ]
    },
    {
      "cell_type": "markdown",
      "metadata": {
        "id": "tWsyLPv1SSbu"
      },
      "source": [
        "Yes, but don't tell Ganesh!"
      ]
    },
    {
      "cell_type": "markdown",
      "metadata": {
        "id": "sL-d-FlfL_HN"
      },
      "source": [
        "https://automatonsimulator.com/\n",
        "\n",
        "https://automatonsimulator.com/#%7B%22type%22%3A%22PDA%22%2C%22pda%22%3A%7B%22transitions%22%3A%7B%22start%22%3A%7B%22%22%3A%7B%22%22%3A%5B%7B%22state%22%3A%22s0%22%2C%22stackPushChar%22%3A%22%24%22%7D%5D%7D%7D%2C%22s0%22%3A%7B%220%22%3A%7B%22%22%3A%5B%7B%22state%22%3A%22s0%22%2C%22stackPushChar%22%3A%220%22%7D%5D%7D%2C%221%22%3A%7B%220%22%3A%5B%7B%22state%22%3A%22s1%22%2C%22stackPushChar%22%3A%22%22%7D%5D%7D%7D%2C%22s1%22%3A%7B%221%22%3A%7B%220%22%3A%5B%7B%22state%22%3A%22s1%22%2C%22stackPushChar%22%3A%22%22%7D%5D%7D%2C%22%22%3A%7B%22%24%22%3A%5B%7B%22state%22%3A%22s2%22%2C%22stackPushChar%22%3A%22%22%7D%5D%7D%7D%7D%2C%22startState%22%3A%22start%22%2C%22acceptStates%22%3A%5B%22s2%22%2C%22start%22%5D%7D%2C%22states%22%3A%7B%22start%22%3A%7B%22isAccept%22%3Atrue%7D%2C%22s0%22%3A%7B%22top%22%3A346%2C%22left%22%3A176%7D%2C%22s1%22%3A%7B%22top%22%3A344%2C%22left%22%3A358%7D%2C%22s2%22%3A%7B%22isAccept%22%3Atrue%2C%22top%22%3A343%2C%22left%22%3A545%7D%7D%2C%22transitions%22%3A%5B%7B%22stateA%22%3A%22start%22%2C%22label%22%3A%22%CF%B5%2C%CF%B5%2C%24%22%2C%22stateB%22%3A%22s0%22%7D%2C%7B%22stateA%22%3A%22s0%22%2C%22label%22%3A%220%2C%CF%B5%2C0%22%2C%22stateB%22%3A%22s0%22%7D%2C%7B%22stateA%22%3A%22s0%22%2C%22label%22%3A%221%2C0%2C%CF%B5%22%2C%22stateB%22%3A%22s1%22%7D%2C%7B%22stateA%22%3A%22s1%22%2C%22label%22%3A%221%2C0%2C%CF%B5%22%2C%22stateB%22%3A%22s1%22%7D%2C%7B%22stateA%22%3A%22s1%22%2C%22label%22%3A%22%CF%B5%2C%24%2C%CF%B5%22%2C%22stateB%22%3A%22s2%22%7D%5D%2C%22bulkTests%22%3A%7B%22accept%22%3A%2201%5Cn0011%5Cn000111%5Cn00011%22%2C%22reject%22%3A%2210%5Cn101%5Cn00111%22%7D%7D\n",
        "\n",
        "{\"type\":\"PDA\",\"pda\":{\"transitions\":{\"start\":{\"\":{\"\":[{\"state\":\"s0\",\"stackPushChar\":\"$\"}]}},\"s0\":{\"0\":{\"\":[{\"state\":\"s0\",\"stackPushChar\":\"0\"}]},\"1\":{\"0\":[{\"state\":\"s1\",\"stackPushChar\":\"\"}]}},\"s1\":{\"1\":{\"0\":[{\"state\":\"s1\",\"stackPushChar\":\"\"}]},\"\":{\"$\":[{\"state\":\"s2\",\"stackPushChar\":\"\"}]}}},\"startState\":\"start\",\"acceptStates\":[\"s2\",\"start\"]},\"states\":{\"start\":{\"isAccept\":true},\"s0\":{\"top\":346,\"left\":176},\"s1\":{\"top\":344,\"left\":358},\"s2\":{\"isAccept\":true,\"top\":343,\"left\":545}},\"transitions\":[{\"stateA\":\"start\",\"label\":\"ϵ,ϵ,$\",\"stateB\":\"s0\"},{\"stateA\":\"s0\",\"label\":\"0,ϵ,0\",\"stateB\":\"s0\"},{\"stateA\":\"s0\",\"label\":\"1,0,ϵ\",\"stateB\":\"s1\"},{\"stateA\":\"s1\",\"label\":\"1,0,ϵ\",\"stateB\":\"s1\"},{\"stateA\":\"s1\",\"label\":\"ϵ,$,ϵ\",\"stateB\":\"s2\"}],\"bulkTests\":{\"accept\":\"01\\n0011\\n000111\\n00011\",\"reject\":\"10\\n101\\n00111\"}}"
      ]
    },
    {
      "cell_type": "markdown",
      "metadata": {
        "id": "-QEeVf8sQgAB"
      },
      "source": [
        "## What is the value of f(n)?"
      ]
    },
    {
      "cell_type": "code",
      "metadata": {
        "id": "DdO_40AGRdFp"
      },
      "source": [
        "from math import log\n",
        "\n",
        "def b(n):\n",
        "  return bin(n).count('1')\n",
        "\n",
        "def f(max):\n",
        "   sum = 0\n",
        "   for n in range(1, max + 1):\n",
        "     sum += (b(n) / (n ** 2 + n))\n",
        "   return sum\n",
        "\n",
        "# try max a million\n",
        "a = f(1000000)\n",
        "print(a)\n",
        "print(abs(log(4) - a))\n"
      ],
      "execution_count": null,
      "outputs": []
    },
    {
      "cell_type": "markdown",
      "metadata": {
        "id": "e26OF4q7RaXs"
      },
      "source": [
        "The answer is $1.3862831558809863 \\approx ln\\ 4$.\n",
        "\n",
        "The question is, WHY should $f(n)$ converge to the natural log of 4?"
      ]
    }
  ]
}