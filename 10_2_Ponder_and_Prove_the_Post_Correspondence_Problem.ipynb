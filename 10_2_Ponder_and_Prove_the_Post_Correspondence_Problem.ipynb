{
  "nbformat": 4,
  "nbformat_minor": 0,
  "metadata": {
    "colab": {
      "name": "10_2_Ponder_and_Prove_the_Post_Correspondence_Problem.ipynb",
      "provenance": [],
      "authorship_tag": "ABX9TyP2n8+4bzBNX5BPl8ojTxmo",
      "include_colab_link": true
    },
    "kernelspec": {
      "name": "python3",
      "display_name": "Python 3"
    }
  },
  "cells": [
    {
      "cell_type": "markdown",
      "metadata": {
        "id": "view-in-github",
        "colab_type": "text"
      },
      "source": [
        "<a href=\"https://colab.research.google.com/github/byui-cse/cse480-notebooks/blob/master/10_2_Ponder_and_Prove_the_Post_Correspondence_Problem.ipynb\" target=\"_parent\"><img src=\"https://colab.research.google.com/assets/colab-badge.svg\" alt=\"Open In Colab\"/></a>"
      ]
    },
    {
      "cell_type": "markdown",
      "metadata": {
        "id": "c0zTrX71D4o_"
      },
      "source": [
        "# Ponder and Prove the Post Correspondence Problem\n",
        "## And other undecidability proofs\n",
        "### Due: Saturday, 13 March 2021, 11:59 pm"
      ]
    },
    {
      "cell_type": "markdown",
      "metadata": {
        "id": "q2YxGFKZGAp6"
      },
      "source": [
        "## Short Description"
      ]
    },
    {
      "cell_type": "markdown",
      "metadata": {
        "id": "bOIzJGcTGDeQ"
      },
      "source": [
        "The input is a set of *tiles*. Each tile has two ASCII strings written on it, one above the other. For example,\n",
        "\n",
        "$$\\left[\\frac{abc}{yz}\\right]$$\n",
        "\n",
        "is a single tile. So, an example of the problem input would be\n",
        "\n",
        "$$\\left\\{\\left[\\frac{yz}{y}\\right],\\left[\\frac{x}{zx}\\right],\\left[\\frac{zz}{z}\\right],\\left[\\frac{ww}{w}\\right]\\right\\}$$\n",
        "\n",
        "We imagine that we have an infinite supply of each kind of tile in the set.\n",
        "\n",
        "The output of the problem is \"yes\" if some tiles from the supply can be arranged in a sequence (with repetitions permitted) so that the strings on the top and bottom of the sequence are identical.\n",
        "\n",
        "If no such arrangement is possible, the output is \"no\".\n",
        "\n",
        "The example above is a positive (\"yes\") instance, because the following sequence produces the string $yzxzzxyzx$ on the top and bottom:\n",
        "\n",
        "$$\\left[\\frac{yz}{y}\\right]\\left[\\frac{x}{zx}\\right]\\left[\\frac{zz}{z}\\right]\\left[\\frac{x}{zx}\\right]\\left[\\frac{yz}{y}\\right]\\left[\\frac{x}{zx}\\right]$$\n"
      ]
    },
    {
      "cell_type": "markdown",
      "metadata": {
        "id": "-Ci4Wyg_IBDA"
      },
      "source": [
        "## Longer Description"
      ]
    },
    {
      "cell_type": "markdown",
      "metadata": {
        "id": "41H1-k-VIDrB"
      },
      "source": [
        "### Undecidable"
      ]
    },
    {
      "cell_type": "markdown",
      "metadata": {
        "id": "fDpVccwqIdKE"
      },
      "source": [
        "**Undecidability** has been called one of the most philosophically important concepts in the theory of computation.\n",
        "\n",
        "Theoretical computer science identifies specific problems that cannot be solved by any algorithm, because, by their very nature, their solution may never be found. A procedure can be written to search for it, but there's no guarantee it will succeed.\n",
        "\n",
        "As you know, this problem, known as the Halting Problem (or $A_{TM}$, your \"money language\"), is the poster child of undecidability.\n",
        "\n",
        "As we'll see, the Post Correspondence Problem (PCP) is afflicted with the same non-guarantee that the Halting Problem has.\n"
      ]
    },
    {
      "cell_type": "markdown",
      "metadata": {
        "id": "HwQ_0cOIInvs"
      },
      "source": [
        "### The Word Problem"
      ]
    },
    {
      "cell_type": "markdown",
      "metadata": {
        "id": "Gp_yQVZ4IsBO"
      },
      "source": [
        "The Word Problem (WP) is to find whether two equivalent sentences can be generated from a language.\n",
        "\n",
        "The WP is similar to the PCP --- and is also easier to grasp.\n",
        "\n",
        "A.K. Dewdney describes this problem as follows:\n",
        "\n",
        "Suppose you have a sentence in a given language. Pick words at random until you find a sentence with an equivalent meaning. As an example, consider a sentence below.\n",
        "\n",
        "The dog ran home →\n",
        "\n",
        "The canine ran home →\n",
        "\n",
        "The canine hurried home →\n",
        "\n",
        "The canine hurried to his house ...\n",
        "\n",
        "This type of problem is also referred to by Dewdney as a Thue problem, created by Norwegian mathematician Axel Thue. To solve a Thue problem, we use a dictionary to make substitutions until we find an equivalent sentence. It should be noted that the computer cannot determine equivalency; a dictionary must supply mappings of substitutable phrases.\n",
        "\n",
        "This example seems to show that the algorithm of substituting words works! The problem is that this algorithm may never terminate. Why? Dewdney points out that the substitutions made along the way may \"involve intermediate words that are arbitrarily long,\" thus causing substitutions that may go on forever, as in the following example:\n",
        "\n",
        "The boy gave the girl a flower →\n",
        "\n",
        "The boy showed the girl he likes her with a flower →\n",
        "\n",
        "The boy risked it all, acting in the name of the love, by giving the girl flowers.\n",
        "\n",
        "Anyone familiar with dating would realize the first sentence and the last one are equivalent. But look how the sentence grows as equivalent meanings are unearthed! We could easily go on and on forever. Because this solution may take forever to return (if at all), this problem is not decidable."
      ]
    },
    {
      "cell_type": "markdown",
      "metadata": {
        "id": "SVQzdFEW6l3F"
      },
      "source": [
        "### The Post Correspondence Problem"
      ]
    },
    {
      "cell_type": "markdown",
      "metadata": {
        "id": "kwrgYmdr6pRZ"
      },
      "source": [
        "As with the WP, the PCP is (simply) a specific instance of an undecidable problem. Its creator, Emil L. Post, a Polish-born American mathematician, like Church and Turing, also produced a general model of computation.\n",
        "\n",
        "The goal of the PCP is to take a set of tiles $\\left[\\frac{t_1}{b_1}\\right], \\left[\\frac{t_2}{b_2}\\right], \\cdots, \\left[\\frac{t_n}{b_n}\\right]$, and select them (with repetition) in a certain way. A solution is found when the concatenation of the top portion of the arrangement of tiles is equal to the concatenation of the bottom portion of the tiles.\n",
        "\n",
        "Ganesh mentions that the details of the proof he just sketches are to be found elsewhere. It is just these \"technical\" details that make this problem difficult. We'll provide an alternate description that may make it easier to grasp.\n",
        "\n",
        "We first form a Modified Post Correspondence Problem (MPCP). In this construction, we create tiles based on the transition table for an arbitrary TM, and build the following machines:\n",
        "\n",
        "D - An instance of the PCP modified so that the first tile is $\\left[\\frac{t_1}{b_1}\\right]$.\n",
        "\n",
        "M - A Turing Machine constructed by D that accepts a string w.\n",
        "\n",
        "S - Constructs instance D of the MPCP.\n",
        "\n",
        "R - Decides the PCP by constructing S.\n",
        "\n",
        "Note that R is constructed first, then S, then D, then M.\n",
        "\n",
        "R behaves like $A_{TM}$: it accepts if S accepts, otherwise it rejects (the problem being that \"otherwise\" includes the case where S doesn't halt!).\n",
        "\n",
        "Also, $\\left[\\frac{t_1}{b_1}\\right]$ is defined as the initial configuration snapshot (computation history) of M:\n",
        "\n",
        "$$\\left[\\frac{\\#\\hspace{12.5ex}}{\\#q_{0}w_{1}w_{2}\\ldots w_{n}\\#}\\right]$$\n",
        "\n",
        "We construct tiles using computation histories and M's transition function.\n",
        "\n",
        "The rest of the proof involves describing how these tiles are created and used.\n",
        "\n",
        "It is important to understand why we even choose to prove that the PCP is undecidable by using computation histories.\n",
        "\n",
        "As will be shown below, using computation histories allows us to solve the PCP by simulating M on w.\n",
        "\n",
        "Although there may be other possible algorithms, this one works well --- provided that $A_{TM}$ is decidable (of course, it is not --- but we're playing \"what if?\").\n",
        "\n",
        "In order to build R, we construct S such that it builds D according to some rules, as follows:\n",
        "\n",
        "1. Handle moves to the right. This occurs when we are constructing a partial match where the top tile matches the current head location. Expressed formally, this rule is as follows: For every $a, b \\in \\Gamma$ and every $q, r \\in Q$ where $q \\ne q_{reject}$\n",
        "\n",
        "> if $\\delta(q, a) = (r, b, R)$, put $\\left[\\frac{qa}{br}\\right]$ into D.\n",
        "\n",
        "Note that for this and the next rule, we are simply using the transition function to construct tiles that we can use to \"extend the simulation\" --- which just means making tiles that create partial matches.\n",
        "\n",
        "2. Handle moves to the left. This occurs when we find a tape sequence that matches a left movement. For every $a, b, c \\in \\Gamma$ and every $q, r \\in Q$ where $q \\ne q_{reject}$,\n",
        "\n",
        "> if $\\delta(q, a) = (r, b, L)$, put $\\left[\\frac{cqa}{rcb}\\right]$ into D.\n",
        "\n",
        "Note here we may actually create a lot of tiles: one for every $c \\in \\Gamma$ for every $a, b \\in \\Gamma$ that matches the transition rule for a left head movement. We inject this $c$ to satisfy the requirement that the head cannot move past the left end of the tape for this modified problem.\n",
        "\n",
        "3. Handle non-existent moves (tiles for which there is no action). For every $a \\in \\Gamma$ put $\\left[\\frac{a}{a}\\right]$ into D.\n",
        "\n",
        "4. For tacking on #'s to delimit the end of each partial match. We simply provide two tiles:\n",
        "\n",
        "   $\\left[\\frac{\\#}{\\#}\\right]$ and $\\left[\\frac{\\#}{\\sqcup}\\right]$.\n"
      ]
    },
    {
      "cell_type": "markdown",
      "metadata": {
        "id": "C_c_bpYh8HbP"
      },
      "source": [
        "### Example"
      ]
    },
    {
      "cell_type": "markdown",
      "metadata": {
        "id": "m1-73Ign8I5z"
      },
      "source": [
        "Assume M is defined as follows:"
      ]
    },
    {
      "cell_type": "code",
      "metadata": {
        "id": "YSRNH_CF8Mjk"
      },
      "source": [
        "'''\n",
        "TM\n",
        "q0: 0; 2, R -> q2\n",
        "q1: 0; 2, L -> q3\n",
        "q2: 1; 0, R -> q1\n",
        "q3: 0; 1, R -> qaccept\n",
        "'''"
      ],
      "execution_count": null,
      "outputs": []
    },
    {
      "cell_type": "markdown",
      "metadata": {
        "id": "ZYJSnjH2-8tS"
      },
      "source": [
        "1. The first file, as defined for the MPCP, is:\n",
        "\n",
        "$$\\left[\\frac{\\#\\hspace{3ex}}{\\#q_{0}\\#}\\right]$$\n",
        "\n",
        "2. Tiles created from rule 3:\n",
        "\n",
        "$$\\left[\\frac{0}{0}\\right], \\left[\\frac{1}{1}\\right], \\left[\\frac{2}{2}\\right], \\left[\\frac{\\sqcup}{\\sqcup}\\right]$$\n",
        "\n",
        "3. Tiles created from rule 1:\n",
        "\n",
        "$$\\left[\\frac{q_{0}0}{2q_{2}}\\right], \\left[\\frac{q_{2}1}{0q_{1}}\\right], \\left[\\frac{q_{3}0\\hspace{3ex}}{1q_{accept}}\\right]$$\n",
        "\n",
        "4. Tiles created from rule 2 using the transition function:\n",
        "\n",
        "$$\\left[\\frac{0q_{1}0}{q_{3}02}\\right], \\left[\\frac{1q_{1}0}{q_{3}12}\\right], \\left[\\frac{2q_{1}0}{q_{3}22}\\right], \\left[\\frac{\\sqcup q_{1}0}{q_{3}\\sqcup 2}\\right]$$\n",
        "\n",
        "5. From rule 4 we have:\n",
        "\n",
        "$$\\left[\\frac{\\#}{\\#}\\right]\\ \\mbox{and}\\ \\left[\\frac{\\#}{\\sqcup}\\right].$$\n",
        "\n",
        "6. One final rule applies once we have reached an accept state on the bottom. In this case, we can use the following tiles to \"pinch off\" the top portion. For every $a \\in \\Gamma$, generate the tile-pair:\n",
        "\n",
        "$$\\left[\\frac{aq_{accept}}{q_{accept}}\\right], \\left[\\frac{q_{accept}a}{q_{accept}}\\right]$$\n",
        "\n",
        "Using the generated tiles, we can find the solution to the PCP by selecting partial matches that effectively \"simulate $M$ on $w$\".\n",
        "\n",
        "This can be seen in the following sequence of events:\n",
        "\n",
        "1. From tile set 1,\n",
        "\n",
        "$$\\left[\\frac{\\#\\hspace{7ex}}{\\#q_{0}0100\\#}\\right]$$\n",
        "\n",
        "2. From tile sets 3, 2, 2, 2, and 5 we select\n",
        "\n",
        "$$\\left[\\frac{q_{0}0}{2q_{2}}\\right], \\left[\\frac{1}{1}\\right], \\left[\\frac{0}{0}\\right], \\left[\\frac{0}{0}\\right], \\left[\\frac{\\#}{\\#}\\right]$$\n",
        "\n",
        "respectively and \"smoosh\" them together (to better see their alignment):\n",
        "\n",
        "$$\\left[\\frac{\\#q_{0}0100\\#\\hspace{7ex}}{\\#q_{0}0100\\#2q_{2}100\\#}\\right]$$\n",
        "\n",
        "3. From tile sets 2, 3, 2, 2, 5 we select\n",
        "\n",
        "$$\\left[\\frac{2}{2}\\right], \\left[\\frac{q_{2}1}{0q_{1}}\\right], \\left[\\frac{0}{0}\\right], \\left[\\frac{0}{0}\\right], \\left[\\frac{\\#}{\\#}\\right]$$\n",
        "\n",
        "respectively to get:\n",
        "\n",
        "$$\\left[\\frac{\\#q_{0}0100\\#2q_{2}100\\#\\hspace{7ex}}{\\#q_{0}0100\\#2q_{2}100\\#20q_{1}00\\#}\\right]$$\n",
        "\n",
        "4. From tile sets 2, 4, 2, 5 we select\n",
        "\n",
        "$$\\left[\\frac{2}{2}\\right], \\left[\\frac{q_{3}0}{1q_{accept}}\\right], \\left[\\frac{2}{2}\\right], \\left[\\frac{0}{0}\\right], \\left[\\frac{\\#}{\\#}\\right]$$\n",
        "\n",
        "respectively to get:\n",
        "\n",
        "$$\\left[\\frac{\\#q_{0}0100\\#2q_{2}100\\#20q_{1}00\\#2q_{3}020\\#\\hspace{10ex}}{\\#q_{0}0100\\#2q_{2}100\\#20q_{1}00\\#2q_{3}020\\#21q_{accept}20\\#}\\right]$$\n",
        "\n",
        "5. We can now \"pinch off\" the top since the bottom has reached an accept state. Add tiles from tile set 6 to the previous sequence:\n",
        "\n",
        "$$\\left[\\frac{\\ldots \\#21q_{accept}20\\#2q_{accept}20\\#q_{accept}20\\#q_{accept}0\\#q_{accept}\\#\\#}{\\ldots \\hspace{10ex}\\#2q_{accept}20\\#q_{accept}20\\#q_{accept}0\\#q_{accept}\\#\\#}\\right]$$\n",
        "\n",
        "Note that in this \"simulation\" we are stepping through $M$ on $w$, and by so doing we produce identical strings on the top and bottom, as will be shown.\n",
        "\n",
        "As we make these substitutions, it should be apparent that the individual tile values we use to form these two strings are different; these differences can be thought of as equivalent words.\n",
        "\n",
        "We find at this point a \"solution\" to this particular instance.\n",
        "\n",
        "The PCP is undecidable in general, however.\n",
        "\n",
        "To show this, imagine having a TM that doesn't halt. The substitutions, for example, might go in a circle.\n",
        "\n",
        "The result would be the dreaded **loop of death** that lurks in all undecidable problems.\n",
        "\n",
        "It should also be noted that a complete solution would need an additional step that involves converting D (an instance of the MPCP) to P (an instance of the PCP.) This involves many more technical details that essentially boil down to this idea: manipulate the input so that it earmarks the first tile $\\left[\\frac{t_1}{b_1}\\right]$ so that it is always selected first. The details are omitted because they're not essential to understanding this reduction."
      ]
    },
    {
      "cell_type": "markdown",
      "metadata": {
        "id": "lnYggMlNJgTB"
      },
      "source": [
        "### WP and PCP"
      ]
    },
    {
      "cell_type": "markdown",
      "metadata": {
        "id": "9NiZzRIIJiM_"
      },
      "source": [
        "The PCP can be thought of a Turing Reduction of the WP to a Thue Problem. While the problem of making substitutions is approached in the WP with a dictionary, in the PCP we use tiles. These tiles essentially become entries in a dictionary, with the top of the tile matching the value at the current head position. Thus these problems are \"the same\" problem because one is reducible to the other."
      ]
    },
    {
      "cell_type": "markdown",
      "metadata": {
        "id": "LVnTq15HJpy1"
      },
      "source": [
        "### Conclusion"
      ]
    },
    {
      "cell_type": "markdown",
      "metadata": {
        "id": "7LQp5XDrJrR7"
      },
      "source": [
        "Part of the problem in understanding the PCP is that it is thick with subtle details that are not immediately apparent in a cursory reading. By actually stepping through the simulation, it is possible to expose these details. Thus, it really is a matter of doing versus seeing. Although several readings may enlighten you, getting your hands dirty has a much better chance of giving you a much deeper understanding!"
      ]
    },
    {
      "cell_type": "markdown",
      "metadata": {
        "id": "n5CkXlSeqf4p"
      },
      "source": [
        "## Imports"
      ]
    },
    {
      "cell_type": "code",
      "metadata": {
        "id": "y863_jSu1Fad",
        "run_control": {
          "frozen": false,
          "read_only": false
        },
        "scrolled": true
      },
      "source": [
        "#~~~~~~~~~~~~~~~~~~~~~~~~~~~~~~~~~~~~~~~~~~~~~~~~~~~~~~~\n",
        "import sys\n",
        "\n",
        "# -- Detect if in Own Install or in Colab\n",
        "try:\n",
        "    import google.colab\n",
        "    OWN_INSTALL = False\n",
        "except:\n",
        "    OWN_INSTALL = True\n",
        "    \n",
        "if OWN_INSTALL:\n",
        "  \n",
        "  sys.path[0:0] = ['../../../../..',  '../../../../../3rdparty',  \n",
        "                   '../../../..',  '../../../../3rdparty',  \n",
        "                   '../../..',     '../../../3rdparty', \n",
        "                   '../..',        '../../3rdparty',\n",
        "                   '..',           '../3rdparty',\n",
        "                   '../Jove',      '../Jove/jove']\n",
        "\n",
        "else: # In colab\n",
        "  ! if [ ! -d Jove ]; then git clone https://github.com/ganeshutah/Jove Jove; fi\n",
        "  sys.path.append('./Jove')\n",
        "  sys.path.append('./Jove/jove')\n",
        "\n",
        "# -- common imports --\n",
        "from jove.DotBashers import *\n",
        "from jove.Def_md2mc  import *\n",
        "from jove.Def_NFA    import *\n",
        "from jove.Def_DFA    import *\n",
        "from jove.Def_NFA2RE import *\n",
        "from jove.Def_RE2NFA import *\n",
        "from jove.AnimateNFA import *\n",
        "#~~~~~~~~~~~~~~~~~~~~~~~~~~~~~~~~~~~~~~~~~~~~~~~~~~~~~~~"
      ],
      "execution_count": null,
      "outputs": []
    },
    {
      "cell_type": "code",
      "metadata": {
        "id": "lZbe-zIQqmUf"
      },
      "source": [
        "!pcp -h"
      ],
      "execution_count": null,
      "outputs": []
    },
    {
      "cell_type": "markdown",
      "metadata": {
        "id": "8W41_rOdEJPM"
      },
      "source": [
        "## TODO Exercises from the Book"
      ]
    },
    {
      "cell_type": "markdown",
      "metadata": {
        "id": "c38WWJ34EL7b"
      },
      "source": [
        "Please do the following Chapter 15 exercises (comments from Ganesh):"
      ]
    },
    {
      "cell_type": "markdown",
      "metadata": {
        "id": "ZiIwjVfHEMRk"
      },
      "source": [
        "### Exercise 15.2.3.1"
      ]
    },
    {
      "cell_type": "markdown",
      "metadata": {
        "id": "dP5E_y2zoZPY"
      },
      "source": [
        "Using the PCP solver in Jove, determine the\n",
        "optimal solution length for the PCP instance\n",
        "$[(100,1), (0,100), (1,0)].$\n",
        "\n"
      ]
    },
    {
      "cell_type": "markdown",
      "metadata": {
        "id": "xae9rMaYEt58"
      },
      "source": [
        "Comment: This exercise is a warmup and encourages the use of the tool."
      ]
    },
    {
      "cell_type": "markdown",
      "metadata": {
        "id": "q93Y92NjEuOW"
      },
      "source": [
        "### Exercise 15.2.3.4"
      ]
    },
    {
      "cell_type": "markdown",
      "metadata": {
        "id": "E_l1m_fTrCu6"
      },
      "source": [
        "Answer the following questions with respect to \n",
        " the unary PCP instance:\n",
        "\n",
        "1. Using Jove, solve the following unary PCP instance (i.e., where the alphabet is a singleton, namely $\\{0\\}$): $[(000,00), (0,0000), (0000,000), (0,0000), (000000,0)].$\n",
        "2. Argue that the unary PCP problem --- PCP over a singleton alphabet ($|\\Sigma|=1$) --- is decidable. Do it in two stages:\n",
        "\n",
        "> (a) Suppose for all tiles $T_i$ in the unary PCP instance we have $len(T_i[0]) < len(T_i[1])$ or $len(T_i[0]) > len(T_i[1])$. Then what can you say about the unary PCP instance's solutions?\n",
        "\n",
        "> (b) Suppose the above condition does not hold; that is, there are two distinct tiles $T_j$ and $T_k$ in the instance with $len(T_j[0]) < len(T_j[1])$ and $len(T_k[0]) > len(T_k[1])$. Then what can you say about the unary PCP instance's solutions?"
      ]
    },
    {
      "cell_type": "markdown",
      "metadata": {
        "id": "B-Sc328HExSg"
      },
      "source": [
        "Comment: This exercise is good, as it shows that 0's and 1's matter -- not just 0's (i.e. a zebra and not a donkey)."
      ]
    },
    {
      "cell_type": "markdown",
      "metadata": {
        "id": "Zv13bKO_ExoU"
      },
      "source": [
        "### Exercise 15.2.3.5"
      ]
    },
    {
      "cell_type": "markdown",
      "metadata": {
        "id": "0arQYzxZE0U6"
      },
      "source": [
        "Comment: This exercise is great to show one use of PCP (it is medium-hard)."
      ]
    },
    {
      "cell_type": "markdown",
      "metadata": {
        "id": "zUHkPEUQE0rP"
      },
      "source": [
        "### Exercise 15.5.1.3"
      ]
    },
    {
      "cell_type": "markdown",
      "metadata": {
        "id": "_mXGzB4OE6lg"
      },
      "source": [
        "Comment: This exercise is good, as it builds on something already done, and it shows how \"label surgery\" on a TM is done."
      ]
    },
    {
      "cell_type": "markdown",
      "metadata": {
        "id": "93YbY3EDE64f"
      },
      "source": [
        "### Exercise 15.5.1.5"
      ]
    },
    {
      "cell_type": "markdown",
      "metadata": {
        "id": "S1SIFmS6E8le"
      },
      "source": [
        "Comment: This exercise is good and not that hard (resembles Fig 15.10) as it does cause some mental pushups to be exercised."
      ]
    }
  ]
}