{
  "nbformat": 4,
  "nbformat_minor": 0,
  "metadata": {
    "colab": {
      "name": "10_2_Ponder_and_Prove_the_Post_Correspondence_Problem.ipynb",
      "provenance": [],
      "include_colab_link": true
    },
    "kernelspec": {
      "name": "python3",
      "display_name": "Python 3"
    }
  },
  "cells": [
    {
      "cell_type": "markdown",
      "metadata": {
        "id": "view-in-github",
        "colab_type": "text"
      },
      "source": [
        "<a href=\"https://colab.research.google.com/github/peartt/cse480-notebooks/blob/master/10_2_Ponder_and_Prove_the_Post_Correspondence_Problem.ipynb\" target=\"_parent\"><img src=\"https://colab.research.google.com/assets/colab-badge.svg\" alt=\"Open In Colab\"/></a>"
      ]
    },
    {
      "cell_type": "markdown",
      "metadata": {
        "id": "c0zTrX71D4o_"
      },
      "source": [
        "# Ponder and Prove the Post Correspondence Problem\n",
        "## And other undecidability proofs\n",
        "### Due: Saturday, 13 March 2021, 11:59 pm"
      ]
    },
    {
      "cell_type": "markdown",
      "metadata": {
        "id": "q2YxGFKZGAp6"
      },
      "source": [
        "## Short Description"
      ]
    },
    {
      "cell_type": "markdown",
      "metadata": {
        "id": "bOIzJGcTGDeQ"
      },
      "source": [
        "The input is a set of *tiles*. Each tile has two ASCII strings written on it, one above the other. For example,\n",
        "\n",
        "$$\\left[\\frac{abc}{yz}\\right]$$\n",
        "\n",
        "is a single tile. So, an example of the problem input would be\n",
        "\n",
        "$$\\left\\{\\left[\\frac{yz}{y}\\right],\\left[\\frac{x}{zx}\\right],\\left[\\frac{zz}{z}\\right],\\left[\\frac{ww}{w}\\right]\\right\\}$$\n",
        "\n",
        "We imagine that we have an infinite supply of each kind of tile in the set.\n",
        "\n",
        "The output of the problem is \"yes\" if some tiles from the supply can be arranged in a sequence (with repetitions permitted) so that the strings on the top and bottom of the sequence are identical.\n",
        "\n",
        "If no such arrangement is possible, the output is \"no\".\n",
        "\n",
        "The example above is a positive (\"yes\") instance, because the following sequence produces the string $yzxzzxyzx$ on the top and bottom:\n",
        "\n",
        "$$\\left[\\frac{yz}{y}\\right]\\left[\\frac{x}{zx}\\right]\\left[\\frac{zz}{z}\\right]\\left[\\frac{x}{zx}\\right]\\left[\\frac{yz}{y}\\right]\\left[\\frac{x}{zx}\\right]$$\n"
      ]
    },
    {
      "cell_type": "markdown",
      "metadata": {
        "id": "-Ci4Wyg_IBDA"
      },
      "source": [
        "## Longer Description"
      ]
    },
    {
      "cell_type": "markdown",
      "metadata": {
        "id": "41H1-k-VIDrB"
      },
      "source": [
        "### Undecidable"
      ]
    },
    {
      "cell_type": "markdown",
      "metadata": {
        "id": "fDpVccwqIdKE"
      },
      "source": [
        "**Undecidability** has been called one of the most philosophically important concepts in the theory of computation.\n",
        "\n",
        "Theoretical computer science identifies specific problems that cannot be solved by any algorithm, because, by their very nature, their solution may never be found. A procedure can be written to search for it, but there's no guarantee it will succeed.\n",
        "\n",
        "As you know, this problem, known as the Halting Problem (or $A_{TM}$, your \"money language\"), is the poster child of undecidability.\n",
        "\n",
        "As we'll see, the Post Correspondence Problem (PCP) is afflicted with the same non-guarantee that the Halting Problem has.\n"
      ]
    },
    {
      "cell_type": "markdown",
      "metadata": {
        "id": "HwQ_0cOIInvs"
      },
      "source": [
        "### The Word Problem"
      ]
    },
    {
      "cell_type": "markdown",
      "metadata": {
        "id": "Gp_yQVZ4IsBO"
      },
      "source": [
        "The Word Problem (WP) is to find whether two equivalent sentences can be generated from a language.\n",
        "\n",
        "The WP is similar to the PCP --- and is also easier to grasp.\n",
        "\n",
        "A.K. Dewdney describes this problem as follows:\n",
        "\n",
        "Suppose you have a sentence in a given language. Pick words at random until you find a sentence with an equivalent meaning. As an example, consider a sentence below.\n",
        "\n",
        "The dog ran home →\n",
        "\n",
        "The canine ran home →\n",
        "\n",
        "The canine hurried home →\n",
        "\n",
        "The canine hurried to his house ...\n",
        "\n",
        "This type of problem is also referred to by Dewdney as a Thue problem, created by Norwegian mathematician Axel Thue. To solve a Thue problem, we use a dictionary to make substitutions until we find an equivalent sentence. It should be noted that the computer cannot determine equivalency; a dictionary must supply mappings of substitutable phrases.\n",
        "\n",
        "This example seems to show that the algorithm of substituting words works! The problem is that this algorithm may never terminate. Why? Dewdney points out that the substitutions made along the way may \"involve intermediate words that are arbitrarily long,\" thus causing substitutions that may go on forever, as in the following example:\n",
        "\n",
        "The boy gave the girl a flower →\n",
        "\n",
        "The boy showed the girl he likes her with a flower →\n",
        "\n",
        "The boy risked it all, acting in the name of the love, by giving the girl flowers.\n",
        "\n",
        "Anyone familiar with dating would realize the first sentence and the last one are equivalent. But look how the sentence grows as equivalent meanings are unearthed! We could easily go on and on forever. Because this solution may take forever to return (if at all), this problem is not decidable."
      ]
    },
    {
      "cell_type": "markdown",
      "metadata": {
        "id": "SVQzdFEW6l3F"
      },
      "source": [
        "### The Post Correspondence Problem"
      ]
    },
    {
      "cell_type": "markdown",
      "metadata": {
        "id": "kwrgYmdr6pRZ"
      },
      "source": [
        "As with the WP, the PCP is (simply) a specific instance of an undecidable problem. Its creator, Emil L. Post, a Polish-born American mathematician, like Church and Turing, also produced a general model of computation.\n",
        "\n",
        "The goal of the PCP is to take a set of tiles $\\left[\\frac{t_1}{b_1}\\right], \\left[\\frac{t_2}{b_2}\\right], \\cdots, \\left[\\frac{t_n}{b_n}\\right]$, and select them (with repetition) in a certain way. A solution is found when the concatenation of the top portion of the arrangement of tiles is equal to the concatenation of the bottom portion of the tiles.\n",
        "\n",
        "Ganesh mentions that the details of the proof he just sketches are to be found elsewhere. It is just these \"technical\" details that make this problem difficult. We'll provide an alternate description that may make it easier to grasp.\n",
        "\n",
        "We first form a Modified Post Correspondence Problem (MPCP). In this construction, we create tiles based on the transition table for an arbitrary TM, and build the following machines:\n",
        "\n",
        "D - An instance of the PCP modified so that the first tile is $\\left[\\frac{t_1}{b_1}\\right]$.\n",
        "\n",
        "M - A Turing Machine constructed by D that accepts a string w.\n",
        "\n",
        "S - Constructs instance D of the MPCP.\n",
        "\n",
        "R - Decides the PCP by constructing S.\n",
        "\n",
        "Note that R is constructed first, then S, then D, then M.\n",
        "\n",
        "R behaves like $A_{TM}$: it accepts if S accepts, otherwise it rejects (the problem being that \"otherwise\" includes the case where S doesn't halt!).\n",
        "\n",
        "Also, $\\left[\\frac{t_1}{b_1}\\right]$ is defined as the initial configuration snapshot (computation history) of M:\n",
        "\n",
        "$$\\left[\\frac{\\#\\hspace{12.5ex}}{\\#q_{0}w_{1}w_{2}\\ldots w_{n}\\#}\\right]$$\n",
        "\n",
        "We construct tiles using computation histories and M's transition function.\n",
        "\n",
        "The rest of the proof involves describing how these tiles are created and used.\n",
        "\n",
        "It is important to understand why we even choose to prove that the PCP is undecidable by using computation histories.\n",
        "\n",
        "As will be shown below, using computation histories allows us to solve the PCP by simulating M on w.\n",
        "\n",
        "Although there may be other possible algorithms, this one works well --- provided that $A_{TM}$ is decidable (of course, it is not --- but we're playing \"what if?\").\n",
        "\n",
        "In order to build R, we construct S such that it builds D according to some rules, as follows:\n",
        "\n",
        "1. Handle moves to the right. This occurs when we are constructing a partial match where the top tile matches the current head location. Expressed formally, this rule is as follows: For every $a, b \\in \\Gamma$ and every $q, r \\in Q$ where $q \\ne q_{reject}$\n",
        "\n",
        "> if $\\delta(q, a) = (r, b, R)$, put $\\left[\\frac{qa}{br}\\right]$ into D.\n",
        "\n",
        "Note that for this and the next rule, we are simply using the transition function to construct tiles that we can use to \"extend the simulation\" --- which just means making tiles that create partial matches.\n",
        "\n",
        "2. Handle moves to the left. This occurs when we find a tape sequence that matches a left movement. For every $a, b, c \\in \\Gamma$ and every $q, r \\in Q$ where $q \\ne q_{reject}$,\n",
        "\n",
        "> if $\\delta(q, a) = (r, b, L)$, put $\\left[\\frac{cqa}{rcb}\\right]$ into D.\n",
        "\n",
        "Note here we may actually create a lot of tiles: one for every $c \\in \\Gamma$ for every $a, b \\in \\Gamma$ that matches the transition rule for a left head movement. We inject this $c$ to satisfy the requirement that the head cannot move past the left end of the tape for this modified problem.\n",
        "\n",
        "3. Handle non-existent moves (tiles for which there is no action). For every $a \\in \\Gamma$ put $\\left[\\frac{a}{a}\\right]$ into D.\n",
        "\n",
        "4. For tacking on #'s to delimit the end of each partial match. We simply provide two tiles:\n",
        "\n",
        "   $\\left[\\frac{\\#}{\\#}\\right]$ and $\\left[\\frac{\\#}{\\sqcup}\\right]$.\n"
      ]
    },
    {
      "cell_type": "markdown",
      "metadata": {
        "id": "C_c_bpYh8HbP"
      },
      "source": [
        "### Example"
      ]
    },
    {
      "cell_type": "markdown",
      "metadata": {
        "id": "m1-73Ign8I5z"
      },
      "source": [
        "Assume M is defined as follows:"
      ]
    },
    {
      "cell_type": "code",
      "metadata": {
        "id": "YSRNH_CF8Mjk"
      },
      "source": [
        "'''\n",
        "TM\n",
        "q0: 0; 2, R -> q2\n",
        "q1: 0; 2, L -> q3\n",
        "q2: 1; 0, R -> q1\n",
        "q3: 0; 1, R -> qaccept\n",
        "'''"
      ],
      "execution_count": null,
      "outputs": []
    },
    {
      "cell_type": "markdown",
      "metadata": {
        "id": "ZYJSnjH2-8tS"
      },
      "source": [
        "1. The first tile, as defined for the MPCP, is:\n",
        "\n",
        "$$\\left[\\frac{\\#\\hspace{3ex}}{\\#q_{0}\\#}\\right]$$\n",
        "\n",
        "2. Tiles created from rule 3:\n",
        "\n",
        "$$\\left[\\frac{0}{0}\\right], \\left[\\frac{1}{1}\\right], \\left[\\frac{2}{2}\\right], \\left[\\frac{\\sqcup}{\\sqcup}\\right]$$\n",
        "\n",
        "3. Tiles created from rule 1:\n",
        "\n",
        "$$\\left[\\frac{q_{0}0}{2q_{2}}\\right], \\left[\\frac{q_{2}1}{0q_{1}}\\right], \\left[\\frac{q_{3}0\\hspace{3ex}}{1q_{accept}}\\right]$$\n",
        "\n",
        "4. Tiles created from rule 2 using the transition function:\n",
        "\n",
        "$$\\left[\\frac{0q_{1}0}{q_{3}02}\\right], \\left[\\frac{1q_{1}0}{q_{3}12}\\right], \\left[\\frac{2q_{1}0}{q_{3}22}\\right], \\left[\\frac{\\sqcup q_{1}0}{q_{3}\\sqcup 2}\\right]$$\n",
        "\n",
        "5. From rule 4 we have:\n",
        "\n",
        "$$\\left[\\frac{\\#}{\\#}\\right]\\ \\mbox{and}\\ \\left[\\frac{\\#}{\\sqcup}\\right].$$\n",
        "\n",
        "6. One final rule applies once we have reached an accept state on the bottom. In this case, we can use the following tiles to \"pinch off\" the top portion. For every $a \\in \\Gamma$, generate the tile-pair:\n",
        "\n",
        "$$\\left[\\frac{aq_{accept}}{q_{accept}}\\right], \\left[\\frac{q_{accept}a}{q_{accept}}\\right]$$\n",
        "\n",
        "Using the generated tiles, we can find the solution to the PCP by selecting partial matches that effectively \"simulate $M$ on $w$\".\n",
        "\n",
        "This can be seen in the following sequence of events:\n",
        "\n",
        "1. From tile set 1,\n",
        "\n",
        "$$\\left[\\frac{\\#\\hspace{7ex}}{\\#q_{0}0100\\#}\\right]$$\n",
        "\n",
        "2. From tile sets 3, 2, 2, 2, and 5 we select\n",
        "\n",
        "$$\\left[\\frac{q_{0}0}{2q_{2}}\\right], \\left[\\frac{1}{1}\\right], \\left[\\frac{0}{0}\\right], \\left[\\frac{0}{0}\\right], \\left[\\frac{\\#}{\\#}\\right]$$\n",
        "\n",
        "respectively and \"smoosh\" them together (to better see their alignment):\n",
        "\n",
        "$$\\left[\\frac{\\#q_{0}0100\\#\\hspace{7ex}}{\\#q_{0}0100\\#2q_{2}100\\#}\\right]$$\n",
        "\n",
        "3. From tile sets 2, 3, 2, 2, 5 we select\n",
        "\n",
        "$$\\left[\\frac{2}{2}\\right], \\left[\\frac{q_{2}1}{0q_{1}}\\right], \\left[\\frac{0}{0}\\right], \\left[\\frac{0}{0}\\right], \\left[\\frac{\\#}{\\#}\\right]$$\n",
        "\n",
        "respectively to get:\n",
        "\n",
        "$$\\left[\\frac{\\#q_{0}0100\\#2q_{2}100\\#\\hspace{7ex}}{\\#q_{0}0100\\#2q_{2}100\\#20q_{1}00\\#}\\right]$$\n",
        "\n",
        "4. From tile sets 2, 4, 2, 5 we select\n",
        "\n",
        "$$\\left[\\frac{2}{2}\\right], \\left[\\frac{q_{3}0}{1q_{accept}}\\right], \\left[\\frac{2}{2}\\right], \\left[\\frac{0}{0}\\right], \\left[\\frac{\\#}{\\#}\\right]$$\n",
        "\n",
        "respectively to get:\n",
        "\n",
        "$$\\left[\\frac{\\#q_{0}0100\\#2q_{2}100\\#20q_{1}00\\#2q_{3}020\\#\\hspace{10ex}}{\\#q_{0}0100\\#2q_{2}100\\#20q_{1}00\\#2q_{3}020\\#21q_{accept}20\\#}\\right]$$\n",
        "\n",
        "5. We can now \"pinch off\" the top since the bottom has reached an accept state. Add tiles from tile set 6 to the previous sequence:\n",
        "\n",
        "$$\\left[\\frac{\\ldots \\#21q_{accept}20\\#2q_{accept}20\\#q_{accept}20\\#q_{accept}0\\#q_{accept}\\#\\#}{\\ldots \\hspace{10ex}\\#2q_{accept}20\\#q_{accept}20\\#q_{accept}0\\#q_{accept}\\#\\#}\\right]$$\n",
        "\n",
        "Note that in this \"simulation\" we are stepping through $M$ on $w$, and by so doing we produce identical strings on the top and bottom, as will be shown.\n",
        "\n",
        "As we make these substitutions, it should be apparent that the individual tile values we use to form these two strings are different; these differences can be thought of as equivalent words.\n",
        "\n",
        "We find at this point a \"solution\" to this particular instance.\n",
        "\n",
        "The PCP is undecidable in general, however.\n",
        "\n",
        "To show this, imagine having a TM that doesn't halt. The substitutions, for example, might go in a circle.\n",
        "\n",
        "The result would be the dreaded **loop of death** that lurks in all undecidable problems.\n",
        "\n",
        "It should also be noted that a complete solution would need an additional step that involves converting D (an instance of the MPCP) to P (an instance of the PCP.) This involves many more technical details that essentially boil down to this idea: manipulate the input so that it earmarks the first tile $\\left[\\frac{t_1}{b_1}\\right]$ so that it is always selected first. The details are omitted because they're not essential to understanding this reduction."
      ]
    },
    {
      "cell_type": "markdown",
      "metadata": {
        "id": "lnYggMlNJgTB"
      },
      "source": [
        "### WP and PCP"
      ]
    },
    {
      "cell_type": "markdown",
      "metadata": {
        "id": "9NiZzRIIJiM_"
      },
      "source": [
        "The PCP can be thought of a Turing Reduction of the WP to a Thue Problem. While the problem of making substitutions is approached in the WP with a dictionary, in the PCP we use tiles. These tiles essentially become entries in a dictionary, with the top of the tile matching the value at the current head position. Thus these problems are \"the same\" problem because one is reducible to the other."
      ]
    },
    {
      "cell_type": "markdown",
      "metadata": {
        "id": "LVnTq15HJpy1"
      },
      "source": [
        "### Conclusion"
      ]
    },
    {
      "cell_type": "markdown",
      "metadata": {
        "id": "7LQp5XDrJrR7"
      },
      "source": [
        "Part of the problem in understanding the PCP is that it is thick with subtle details that are not immediately apparent in a cursory reading. By actually stepping through the simulation, it is possible to expose these details. Thus, it really is a matter of doing versus seeing. Although several readings may enlighten you, getting your hands dirty has a much better chance of giving you a much deeper understanding!"
      ]
    },
    {
      "cell_type": "markdown",
      "metadata": {
        "id": "n5CkXlSeqf4p"
      },
      "source": [
        "## Imports"
      ]
    },
    {
      "cell_type": "code",
      "metadata": {
        "id": "y863_jSu1Fad",
        "run_control": {
          "frozen": false,
          "read_only": false
        },
        "scrolled": true,
        "outputId": "cdeaef39-5bbb-42c6-abb3-835cb27ccd78",
        "colab": {
          "base_uri": "https://localhost:8080/"
        }
      },
      "source": [
        "#~~~~~~~~~~~~~~~~~~~~~~~~~~~~~~~~~~~~~~~~~~~~~~~~~~~~~~~\n",
        "import sys\n",
        "\n",
        "# -- Detect if in Own Install or in Colab\n",
        "try:\n",
        "    import google.colab\n",
        "    OWN_INSTALL = False\n",
        "except:\n",
        "    OWN_INSTALL = True\n",
        "    \n",
        "if OWN_INSTALL:\n",
        "  \n",
        "  sys.path[0:0] = ['../../../../..',  '../../../../../3rdparty',  \n",
        "                   '../../../..',  '../../../../3rdparty',  \n",
        "                   '../../..',     '../../../3rdparty', \n",
        "                   '../..',        '../../3rdparty',\n",
        "                   '..',           '../3rdparty',\n",
        "                   '../Jove',      '../Jove/jove']\n",
        "\n",
        "else: # In colab\n",
        "  ! if [ ! -d Jove ]; then git clone https://github.com/ganeshutah/Jove Jove; fi\n",
        "  sys.path.append('./Jove')\n",
        "  sys.path.append('./Jove/jove')\n",
        "\n",
        "# -- common imports --\n",
        "from jove.DotBashers import *\n",
        "from jove.Def_md2mc  import *\n",
        "from jove.Def_NFA    import *\n",
        "from jove.Def_DFA    import *\n",
        "from jove.Def_NFA2RE import *\n",
        "from jove.Def_RE2NFA import *\n",
        "from jove.AnimateNFA import *\n",
        "from jove.PcpJupyterNew import *\n",
        "#~~~~~~~~~~~~~~~~~~~~~~~~~~~~~~~~~~~~~~~~~~~~~~~~~~~~~~~"
      ],
      "execution_count": 1,
      "outputs": [
        {
          "output_type": "stream",
          "text": [
            "Cloning into 'Jove'...\n",
            "remote: Enumerating objects: 4634, done.\u001b[K\n",
            "remote: Total 4634 (delta 0), reused 0 (delta 0), pack-reused 4634\u001b[K\n",
            "Receiving objects: 100% (4634/4634), 7.38 MiB | 11.89 MiB/s, done.\n",
            "Resolving deltas: 100% (3005/3005), done.\n",
            "You may use any of these help commands:\n",
            "help(ResetStNum)\n",
            "help(NxtStateStr)\n",
            "\n",
            "You may use any of these help commands:\n",
            "help(md2mc)\n",
            ".. and if you want to dig more, then ..\n",
            "help(default_line_attr)\n",
            "help(length_ok_input_items)\n",
            "help(union_line_attr_list_fld)\n",
            "help(extend_rsltdict)\n",
            "help(form_delta)\n",
            "help(get_machine_components)\n",
            "\n",
            "You may use any of these help commands:\n",
            "help(mkp_dfa)\n",
            "help(mk_dfa)\n",
            "help(totalize_dfa)\n",
            "help(addtosigma_delta)\n",
            "help(step_dfa)\n",
            "help(run_dfa)\n",
            "help(accepts_dfa)\n",
            "help(comp_dfa)\n",
            "help(union_dfa)\n",
            "help(intersect_dfa)\n",
            "help(pruneUnreach)\n",
            "help(iso_dfa)\n",
            "help(langeq_dfa)\n",
            "help(same_status)\n",
            "help(h_langeq_dfa)\n",
            "help(fixptDist)\n",
            "help(min_dfa)\n",
            "help(pairFR)\n",
            "help(state_combos)\n",
            "help(sepFinNonFin)\n",
            "help(bash_eql_classes)\n",
            "help(listminus)\n",
            "help(bash_1)\n",
            "help(mk_rep_eqc)\n",
            "help(F_of)\n",
            "help(rep_of_s)\n",
            "help(q0_of)\n",
            "help(Delta_of)\n",
            "help(mk_state_eqc_name)\n",
            "\n",
            "You may use any of these help commands:\n",
            "help(mk_nfa)\n",
            "help(totalize_nfa)\n",
            "help(step_nfa)\n",
            "help(run_nfa)\n",
            "help(ec_step_nfa)\n",
            "help(Eclosure)\n",
            "help(Echelp)\n",
            "help(accepts_nfa)\n",
            "help(nfa2dfa)\n",
            "help(n2d)\n",
            "help(inSets)\n",
            "help(rev_dfa)\n",
            "help(min_dfa_brz)\n",
            "\n",
            "You may use any of these help commands:\n",
            "help(RE2Str)\n",
            "help(mk_gnfa)\n",
            "help(mk_gnfa_from_D)\n",
            "help(dfa2nfa)\n",
            "help(del_gnfa_states)\n",
            "help(gnfa_w_REStr)\n",
            "help(del_one_gnfa_state)\n",
            "help(Edges_Exist_Via)\n",
            "help(choose_state_to_del)\n",
            "help(form_alt_RE)\n",
            "help(form_concat_RE)\n",
            "help(form_kleene_RE)\n",
            "\n",
            "You may use any of these help commands:\n",
            "help(re2nfa)\n",
            "\n",
            " \"help(AnimateNFA)\" gives you info on how to use animations with NFA \n"
          ],
          "name": "stdout"
        }
      ]
    },
    {
      "cell_type": "code",
      "metadata": {
        "id": "ekTAq0512nut"
      },
      "source": [
        "!ln -s /content/Jove/jove/pcpbinaries/pcp_linux /usr/local/bin/pcp"
      ],
      "execution_count": 2,
      "outputs": []
    },
    {
      "cell_type": "code",
      "metadata": {
        "id": "lZbe-zIQqmUf",
        "outputId": "035adb22-7a0f-416c-bcbd-c1635acc05b9",
        "colab": {
          "base_uri": "https://localhost:8080/"
        }
      },
      "source": [
        "!pcp -h"
      ],
      "execution_count": 3,
      "outputs": [
        {
          "output_type": "stream",
          "text": [
            "PCPSolver Ver 0.0.3 by Ling Zhao (zhao@cs.ualberta.ca) Nov 16, 2003\n",
            "\n",
            "pcp  : Solving tool for instances of Post's correspondence problem\n",
            "\n",
            "Usage: 1. Solve PCP instances in a file:\n",
            "          pcp -d depth -di inc -r run -i inputfile -o outputfile -ni\n",
            "\n",
            "       2. Scan a PCP subclass:\n",
            "          pcp -scan -s size -w width -d depth\n",
            "\n",
            "       3. Randomly generate difficult solvable instances:\n",
            "          pcp -ran -s size -w width -d depth -t times -l sol_lim\n",
            "              -o ofilename\n",
            "\n",
            "          run     - number of runs\n",
            "          ni      - no iterative search\n",
            "          di      - depth increment\n",
            "          depth   - search depth\n",
            "          times   - number of instances to be tried\n",
            "          sol_lim - min optimal solution length (only instances satisfying\n",
            "                    it will be recorded)\n",
            "\n"
          ],
          "name": "stdout"
        }
      ]
    },
    {
      "cell_type": "markdown",
      "metadata": {
        "id": "8W41_rOdEJPM"
      },
      "source": [
        "## TODO Exercises from the Book"
      ]
    },
    {
      "cell_type": "markdown",
      "metadata": {
        "id": "c38WWJ34EL7b"
      },
      "source": [
        "Please do the following Chapter 15 exercises (comments from Ganesh):"
      ]
    },
    {
      "cell_type": "markdown",
      "metadata": {
        "id": "ZiIwjVfHEMRk"
      },
      "source": [
        "### Exercise 15.2.3.1"
      ]
    },
    {
      "cell_type": "markdown",
      "metadata": {
        "id": "dP5E_y2zoZPY"
      },
      "source": [
        "Using the PCP solver in Jove, determine the\n",
        "optimal solution length for the PCP instance\n",
        "$[(100,1), (0,100), (1,0)].$\n",
        "\n"
      ]
    },
    {
      "cell_type": "code",
      "metadata": {
        "id": "ZMGEewe3Zh7z",
        "outputId": "8f264e27-09d9-443b-e5e5-b77a3fa29d3e",
        "colab": {
          "base_uri": "https://localhost:8080/"
        }
      },
      "source": [
        "pcp_solve([('100','1'),('0','100'),('1','0')])"
      ],
      "execution_count": 4,
      "outputs": [
        {
          "output_type": "stream",
          "text": [
            "Detected platform linux\n",
            " Running the command ... :  ['./Jove/jove/pcp', '-i', 'temp.txt']\n",
            "Solution(s) to PCP instance are below. Note: the tiles may be reversed,\n",
            "  as the solver may sometimes present the solution in reverse.:\n",
            "\n",
            "Solution 1\n",
            "[1, 3, 3, 1, 1, 2, 1, 3, 3, 3, 2, 1, 1, 1, 3, 2, 1, 3, 3, 2, 1, 3, 2, 1, 1, 3, 2, 1, 3, 1, 3, 3, 2, 1, 3, 2, 1, 1, 3, 3, 1, 1, 3, 2, 1, 3, 2, 2, 1, 1, 2, 2, 1, 3, 2, 2, 2, 2, 3, 3, 2, 2, 3, 3, 1, 2, 1, 1, 2, 3, 2, 2, 3, 2, 2]\n",
            "100 1   1   100 100 0   100 1   1   1   0   100 100 100 1   \n",
            "1   0   0   1   1   100 1   0   0   0   100 1   1   1   0   \n",
            "\n",
            "0   100 1   1   0   100 1   0   100 100 1   0   100 1   100 \n",
            "100 1   0   0   100 1   0   100 1   1   0   100 1   0   1   \n",
            "\n",
            "1   1   0   100 1   0   100 100 1   1   100 100 1   0   100 \n",
            "0   0   100 1   0   100 1   1   0   0   1   1   0   100 1   \n",
            "\n",
            "1   0   0   100 100 0   0   100 1   0   0   0   0   1   1   \n",
            "0   100 100 1   1   100 100 1   0   100 100 100 100 0   0   \n",
            "\n",
            "0   0   1   1   100 0   100 100 0   1   0   0   1   0   0   \n",
            "100 100 0   0   1   100 1   1   100 0   100 100 0   100 100 \n",
            "\n",
            "\n",
            "\n",
            "\n",
            "\n",
            "Solution 2\n",
            "[1, 3, 3, 1, 1, 2, 1, 3, 3, 3, 2, 1, 1, 1, 3, 1, 3, 3, 2, 2, 1, 2, 1, 2, 2, 3, 1, 3, 3, 3, 3, 1, 2, 1, 1, 1, 1, 2, 3, 2, 1, 3, 3, 2, 2, 3, 1, 3, 2, 1, 2, 1, 1, 3, 3, 1, 3, 2, 3, 2, 2, 1, 1, 2, 1, 3, 2, 2, 2, 3, 2, 2, 3, 2, 2]\n",
            "100 1   1   100 100 0   100 1   1   1   0   100 100 100 1   \n",
            "1   0   0   1   1   100 1   0   0   0   100 1   1   1   0   \n",
            "\n",
            "100 1   1   0   0   100 0   100 0   0   1   100 1   1   1   \n",
            "1   0   0   100 100 1   100 1   100 100 0   1   0   0   0   \n",
            "\n",
            "1   100 0   100 100 100 100 0   1   0   100 1   1   0   0   \n",
            "0   1   100 1   1   1   1   100 0   100 1   0   0   100 100 \n",
            "\n",
            "1   100 1   0   100 0   100 100 1   1   100 1   0   1   0   \n",
            "0   1   0   100 1   100 1   1   0   0   1   0   100 0   100 \n",
            "\n",
            "0   100 100 0   100 1   0   0   0   1   0   0   1   0   0   \n",
            "100 1   1   100 1   0   100 100 100 0   100 100 0   100 100 \n",
            "\n",
            "\n",
            "\n",
            "\n",
            "\n"
          ],
          "name": "stdout"
        }
      ]
    },
    {
      "cell_type": "markdown",
      "metadata": {
        "id": "xae9rMaYEt58"
      },
      "source": [
        "Comment: This exercise is a warmup and encourages the use of the tool."
      ]
    },
    {
      "cell_type": "markdown",
      "metadata": {
        "id": "q93Y92NjEuOW"
      },
      "source": [
        "### Exercise 15.2.3.4"
      ]
    },
    {
      "cell_type": "markdown",
      "metadata": {
        "id": "E_l1m_fTrCu6"
      },
      "source": [
        "Answer the following questions with respect to \n",
        " the unary PCP instance:\n",
        "\n",
        "1. Using Jove, solve the following unary PCP instance (i.e., where the alphabet is a singleton, namely $\\{0\\}$): $[(000,00), (0,0000), (0000,000), (0,0000), (000000,0)].$\n",
        "2. Argue that the unary PCP problem --- PCP over a singleton alphabet ($|\\Sigma|=1$) --- is decidable. Do it in two stages:\n",
        "\n",
        "> (a) Suppose for all tiles $T_i$ in the unary PCP instance we have $len(T_i[0]) < len(T_i[1])$ or $len(T_i[0]) > len(T_i[1])$. Then what can you say about the unary PCP instance's solutions?\n",
        "\n",
        "> (b) Suppose the above condition does not hold; that is, there are two distinct tiles $T_j$ and $T_k$ in the instance with $len(T_j[0]) < len(T_j[1])$ and $len(T_k[0]) > len(T_k[1])$. Then what can you say about the unary PCP instance's solutions?"
      ]
    },
    {
      "cell_type": "code",
      "metadata": {
        "id": "IdH4gJ2PZoWE"
      },
      "source": [
        "mySet = [('000', '00'), ('0', '0000'), ('0000', '000'), ('0', '0000'), ('000000', '0')]\r\n",
        "pcp_solve(mySet)"
      ],
      "execution_count": null,
      "outputs": []
    },
    {
      "cell_type": "markdown",
      "metadata": {
        "id": "B-Sc328HExSg"
      },
      "source": [
        "Comment: This exercise is good, as it shows that 0's and 1's matter -- not just 0's (i.e. a zebra and not a donkey)."
      ]
    },
    {
      "cell_type": "markdown",
      "metadata": {
        "id": "09nhYnpqZrw7"
      },
      "source": [
        "Importantly because the unary problem only has 1 symbol we are only concerned with the total length. Thus we can reduce this problem to a seres of a linear equations. The above problem can be reduced to the following equation.\r\n",
        "\r\n",
        "$$3a+1b+4c+1d+6e=2a+4b+3c+4d+1e$$\r\n",
        "\r\n",
        "Where a represents the amount of the first tile, b the amount of the second and so on. Because the tiles only have one symbol the order of the tiles don't matter."
      ]
    },
    {
      "cell_type": "markdown",
      "metadata": {
        "id": "6EkmaahOZu6Z"
      },
      "source": [
        "The above equation can be reduced to\r\n",
        "$$a-3b+c-3d+5e=0$$\r\n",
        "Where all of the solutions represent the number of tiles that solve this instance of the unary PCP."
      ]
    },
    {
      "cell_type": "markdown",
      "metadata": {
        "id": "cBYh2gmuZxUZ"
      },
      "source": [
        "Consider the impossible solution below."
      ]
    },
    {
      "cell_type": "markdown",
      "metadata": {
        "id": "h3ZwGsp7Zz8A"
      },
      "source": [
        "$$\\frac{000}{0},\\frac{0000}{00}$$\r\n",
        "\r\n",
        "Which can be expressed as the following equation.\r\n",
        "\r\n",
        "$$3a+4b=1a+2b$$\r\n",
        "\r\n",
        "This equation has no positive integer solutions greater than 0."
      ]
    },
    {
      "cell_type": "markdown",
      "metadata": {
        "id": "eOLdixoIZ2To"
      },
      "source": [
        "Because we can either find the solution or prove that a solution doesn't exist the unary PCP is decidable."
      ]
    },
    {
      "cell_type": "markdown",
      "metadata": {
        "id": "Zv13bKO_ExoU"
      },
      "source": [
        "### Exercise 15.2.3.5"
      ]
    },
    {
      "cell_type": "markdown",
      "metadata": {
        "id": "0arQYzxZE0U6"
      },
      "source": [
        "Comment: This exercise is great to show one use of PCP (it is medium-hard)."
      ]
    },
    {
      "cell_type": "markdown",
      "metadata": {
        "id": "PwHzut6aZ7vf"
      },
      "source": [
        "Here is how we can build a mapping reduction from PCP to CFG grammar ambiguity; please fill in missing steps (if any) and argue that the mapping reduction actually works (achieves its purpose)."
      ]
    },
    {
      "cell_type": "markdown",
      "metadata": {
        "id": "56cTPWQjZ9oq"
      },
      "source": [
        "Let\r\n",
        "$$A=w_1,w_2,...,w_n$$\r\n",
        "and\r\n",
        "$$B=x_1,x_2,...,x_n$$\r\n",
        "be two lists of words over a finite alphabet $\\Sigma$. Let\r\n",
        "$a_1,a_2,...,a_n$\r\n",
        "be symbols that do not appear in any of the $w_i$ or $x_i$. Let $G$ be a CFG\r\n",
        "$$(\\{S,S_A,S_B\\},\\Sigma\\cup \\{a_1,...,a_n\\},P,S)$$\r\n",
        "where P contains the productions\r\n",
        "$$S \\rightarrow S_A,\\\\\r\n",
        "\r\n",
        "S\\rightarrow S_B,\\\\\r\n",
        "\r\n",
        "\\textrm{For } 1\\leq i\\leq n,S_A\\rightarrow w_iS_Aa_i,\\\\\r\n",
        "\r\n",
        "\\textrm{For } 1\\leq i\\leq n,S_A\\rightarrow w_ia_i,\\\\\r\n",
        "\r\n",
        "\\textrm{For }  1\\leq i\\leq n,S_B\\rightarrow x_iS_Ba_i, \\textrm{and}\\\\\r\n",
        "\r\n",
        "\\textrm{For } 1\\leq i\\leq n,S_B\\rightarrow x_ia_i.$$\r\n",
        "Now, argue that $G$ is ambiguous if and only if the PCP instance(A,B) has a solution (thus, we may view the process of going from (A,B) to G as a mapping reduction)."
      ]
    },
    {
      "cell_type": "markdown",
      "metadata": {
        "id": "64sBLgjTaBLx"
      },
      "source": [
        "The above CFG emulates the behaviour of the PCP instance by replicating the elements of A(the top part of the tiles) or B(the bottom part of the tiles). By remove all of the $a_i$s from the resulting string it is a solution to the instance of PCP. \r\n",
        "\r\n",
        "Because it is clearly computable, then if a PCP is solvable then $G$ must be ambigious. Because the PCP isn't computabile deciding the ambiguity of $G$ is also undecidable. "
      ]
    },
    {
      "cell_type": "markdown",
      "metadata": {
        "id": "zUHkPEUQE0rP"
      },
      "source": [
        "### Exercise 15.5.1.3"
      ]
    },
    {
      "cell_type": "markdown",
      "metadata": {
        "id": "_mXGzB4OE6lg"
      },
      "source": [
        "Comment: This exercise is good, as it builds on something already done, and it shows how \"label surgery\" on a TM is done."
      ]
    },
    {
      "cell_type": "markdown",
      "metadata": {
        "id": "Pb1grSzQaE6a"
      },
      "source": [
        "n §15.5, we described a mapping reduction from $A_{TM}$ to $Halt_{TM}$ by producing a machine $M^{'}$ such that checking for the halting of $M^{'}$ on input w is tantamount to checking whether the original machine M accepts w. In the same vein, describe a mapping re-duction from $Halt_{TM}$ to $A_{TM}$ by producing a machine $M^{''}$ such that checking whether $M^{''}$ accepts w is tantamount to answering whether M halts on w. Hint:Make a copy $M_c$ of $M$, and modify the accept or reject label (figure out which) of $M_c$ suitably. Now, amalgamate both machines M and $M_c$ *into one single machine* (call it $M_{combined}$) such that essentially both machines get run.\r\n",
        "Now, checking that $M_{combined}$ accepts w must be tantamount to answering whether $M$ halts on w."
      ]
    },
    {
      "cell_type": "markdown",
      "metadata": {
        "id": "GX8OEcboaGXb"
      },
      "source": [
        "We copy and then modify M such that whenever M would reject w it instead loops. This machine is called $M_c$. We then run our impossible decider for $Halt_{TM}$ on $M_c$ and w. When M would have accepted w then the machine accepts w, when M would have rejected B the machine rejects B. By wrapping the conversion of M to $M_C$ and the deicder into one machine it is the same as $A_{TM}$"
      ]
    },
    {
      "cell_type": "markdown",
      "metadata": {
        "id": "93YbY3EDE64f"
      },
      "source": [
        "### Exercise 15.5.1.5"
      ]
    },
    {
      "cell_type": "markdown",
      "metadata": {
        "id": "S1SIFmS6E8le"
      },
      "source": [
        "Comment: This exercise is good and not that hard (resembles Fig 15.10) as it does cause some mental pushups to be exercised."
      ]
    },
    {
      "cell_type": "markdown",
      "metadata": {
        "id": "yjCFc1oYaIcu"
      },
      "source": [
        "Define\r\n",
        "\r\n",
        "$$CFL_{TM}=\\{M : M \\textrm{ is a } TM \\textrm{ whose language is context-free.}\\}$$\r\n",
        "\r\n",
        "Specify a mapping reduction from $A_{TM}$ to $CFL_{TM}$. Please take ideas from the construction in Figure 15.10."
      ]
    },
    {
      "cell_type": "markdown",
      "metadata": {
        "id": "3V62Poc1aJ9w"
      },
      "source": [
        "def full_decider_CFL_tm(M,w):\r\n",
        "  return full_decider_A_TM(translate(M,w))\r\n",
        "\r\n",
        "def translate(M,w):\r\n",
        "  return f''M'(x) \\{\r\n",
        "    Run M on w\r\n",
        "    If the execution results in M accepting w then accept\r\n",
        "    If M rejects w, then reject\r\n",
        "  \\}"
      ]
    }
  ]
}