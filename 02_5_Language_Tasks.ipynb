{
 "cells": [
  {
   "cell_type": "markdown",
   "metadata": {},
   "source": [
    "# First let's import, then look for the assignment below"
   ]
  },
  {
   "cell_type": "code",
   "execution_count": null,
   "metadata": {},
   "outputs": [],
   "source": [
    "#~~~~~~~~~~~~~~~~~~~~~~~~~~~~~~~~~~~~~~~~~~~~~~~~~~~~~~~\n",
    "import sys\n",
    "\n",
    "# -- Detect if in Own Install or in Colab\n",
    "try:\n",
    "    import google.colab\n",
    "    OWN_INSTALL = False\n",
    "except:\n",
    "    OWN_INSTALL = True\n",
    "    \n",
    "if OWN_INSTALL:\n",
    "\n",
    "  sys.path[0:0] = ['../../../../..',  '../../../../../3rdparty',  \n",
    "                   '../../../..',  '../../../../3rdparty',  \n",
    "                   '../../..',     '../../../3rdparty', \n",
    "                   '../..',        '../../3rdparty',\n",
    "                   '..',           '../3rdparty' ]\n",
    "\n",
    "else: # In colab\n",
    "  ! if [ ! -d Jove ]; then git clone https://github.com/ganeshutah/Jove Jove; fi\n",
    "  sys.path.append('./Jove')\n",
    "  sys.path.append('./Jove/jove')\n",
    "\n",
    "# -- common imports --\n",
    "from jove.LangDef   import *\n",
    "#~~~~~~~~~~~~~~~~~~~~~~~~~~~~~~~~~~~~~~~~~~~~~~~~~~~~~~~"
   ]
  },
  {
   "cell_type": "markdown",
   "metadata": {},
   "source": [
    "# Week 02 Notebook 5 on Language Basics\n",
    "\n",
    "<font size=\"4\"> \n",
    "\n",
    "This problem helps you review the basics of languages, symbols, strings, concatenation, etc. It presents the material in the form of puzzles.  \n",
    "    \n",
    "There are four tasks for you to complete.\n",
    " \n",
    "</font>"
   ]
  },
  {
   "cell_type": "markdown",
   "metadata": {},
   "source": [
    "<font size=\"4\"> \n",
    "\n",
    " \n",
    "1. If there are two languages $L_1$ and $L_2$, their concatenation has smaller size than their cartesian product if the following condition is met:\n",
    "    \n",
    "    **Their intersection is at least of size 2 and contains $\\varepsilon$**\n",
    "    \n",
    "    (The other aspects of the languages may be different.)\n",
    "    \n",
    "Your tasks are described below.\n",
    "    \n",
    "</font>"
   ]
  },
  {
   "cell_type": "markdown",
   "metadata": {},
   "source": [
    "# Space below for your arguments\n",
    "<font size=\"4\">\n",
    "\n",
    "\n",
    "</font>"
   ]
  },
  {
   "cell_type": "markdown",
   "metadata": {},
   "source": [
    "## Now present code that supports or refutes the claim."
   ]
  },
  {
   "cell_type": "markdown",
   "metadata": {},
   "source": [
    "# Task 1: Define two languages to print \"cat and product have the same size\" below. L1 and L2 must both contain $\\varepsilon$."
   ]
  },
  {
   "cell_type": "code",
   "execution_count": 1,
   "metadata": {},
   "outputs": [],
   "source": [
    "L1 = {\"\", \"a\"}\n",
    "L2 = {\"\", \"b\"}"
   ]
  },
  {
   "cell_type": "code",
   "execution_count": 2,
   "metadata": {},
   "outputs": [
    {
     "name": "stdout",
     "output_type": "stream",
     "text": [
      "L1 and L2 are {'', '1'} {'', '2'}\n"
     ]
    },
    {
     "ename": "NameError",
     "evalue": "name 'lcat' is not defined",
     "output_type": "error",
     "traceback": [
      "\u001b[1;31m---------------------------------------------------------------------------\u001b[0m",
      "\u001b[1;31mNameError\u001b[0m                                 Traceback (most recent call last)",
      "\u001b[1;32m<ipython-input-2-9833ab6b3d48>\u001b[0m in \u001b[0;36m<module>\u001b[1;34m\u001b[0m\n\u001b[0;32m      3\u001b[0m \u001b[1;31m# Perform their contatenation\u001b[0m\u001b[1;33m\u001b[0m\u001b[1;33m\u001b[0m\u001b[1;33m\u001b[0m\u001b[0m\n\u001b[0;32m      4\u001b[0m \u001b[1;33m\u001b[0m\u001b[0m\n\u001b[1;32m----> 5\u001b[1;33m \u001b[0mcatL1L2\u001b[0m \u001b[1;33m=\u001b[0m \u001b[0mlcat\u001b[0m\u001b[1;33m(\u001b[0m\u001b[0mL1\u001b[0m\u001b[1;33m,\u001b[0m\u001b[0mL2\u001b[0m\u001b[1;33m)\u001b[0m\u001b[1;33m\u001b[0m\u001b[1;33m\u001b[0m\u001b[0m\n\u001b[0m\u001b[0;32m      6\u001b[0m \u001b[0mlencatL1L2\u001b[0m \u001b[1;33m=\u001b[0m \u001b[0mlen\u001b[0m\u001b[1;33m(\u001b[0m\u001b[0mcatL1L2\u001b[0m\u001b[1;33m)\u001b[0m\u001b[1;33m\u001b[0m\u001b[1;33m\u001b[0m\u001b[0m\n\u001b[0;32m      7\u001b[0m \u001b[1;33m\u001b[0m\u001b[0m\n",
      "\u001b[1;31mNameError\u001b[0m: name 'lcat' is not defined"
     ]
    }
   ],
   "source": [
    "print(\"L1 and L2 are\", L1, L2)\n",
    "\n",
    "# Perform their contatenation \n",
    "\n",
    "catL1L2 = lcat(L1,L2)\n",
    "lencatL1L2 = len(catL1L2)\n",
    "\n",
    "print(\"Cat of L1 and L2 is\", catL1L2, \" of size \", lencatL1L2)\n",
    "\n",
    "# Perform their intersection\n",
    "\n",
    "intL1L2 = lint(L1,L2)\n",
    "lenintL1L2 = len(intL1L2)\n",
    "\n",
    "print(\"Intersection of L1 and L2 is\", intL1L2, \" of size \", lenintL1L2)\n",
    "\n",
    "# Make a statement of what you observe\n",
    "\n",
    "prodL1L2 = { (x,y) for x in L1 for y in L2 }\n",
    "lenprodL1L2 = len(prodL1L2)\n",
    "\n",
    "print(\"Product of L1 and L2 is\", prodL1L2, \" of size \", lenprodL1L2)\n",
    "\n",
    "if (lenprodL1L2 != lencatL1L2):\n",
    "    print(\" cat and product differ in size \")\n",
    "else:\n",
    "    print(\" cat and product have the same size \")\n",
    "    \n",
    " "
   ]
  },
  {
   "cell_type": "markdown",
   "metadata": {},
   "source": [
    "#### The statements you are requested to make corresponding to the prints can be added below\n",
    "#### Did you choose the languages such that cat and intersection resulted in the same size?\n",
    "\n",
    "...\n",
    "...\n"
   ]
  },
  {
   "cell_type": "markdown",
   "metadata": {},
   "source": [
    "# Task 2: Define two languages to print \"cat and product differ in size\" below. L1 and L2 must both contain $\\varepsilon$."
   ]
  },
  {
   "cell_type": "code",
   "execution_count": null,
   "metadata": {},
   "outputs": [],
   "source": [
    "L1 = {\"\", \"a\"}\n",
    "L2 = {\"\", \"a\", \"b\"}"
   ]
  },
  {
   "cell_type": "code",
   "execution_count": null,
   "metadata": {},
   "outputs": [],
   "source": [
    "print(\"L1 and L2 are\", L1, L2)\n",
    "\n",
    "# Perform their contatenation \n",
    "\n",
    "catL1L2 = lcat(L1,L2)\n",
    "lencatL1L2 = len(catL1L2)\n",
    "\n",
    "print(\"Cat of L1 and L2 is\", catL1L2, \" of size \", lencatL1L2)\n",
    "\n",
    "# Perform their intersection\n",
    "\n",
    "intL1L2 = lint(L1,L2)\n",
    "lenintL1L2 = len(intL1L2)\n",
    "\n",
    "print(\"Intersection of L1 and L2 is\", intL1L2, \" of size \", lenintL1L2)\n",
    "\n",
    "# Make a statement of what you observe\n",
    "\n",
    "prodL1L2 = { (x,y) for x in L1 for y in L2 }\n",
    "lenprodL1L2 = len(prodL1L2)\n",
    "\n",
    "print(\"Product of L1 and L2 is\", prodL1L2, \" of size \", lenprodL1L2)\n",
    "\n",
    "if (lenprodL1L2 != lencatL1L2):\n",
    "    print(\" cat and product differ in size \")\n",
    "else:\n",
    "    print(\" cat and product have the same size \")\n",
    "    \n",
    " "
   ]
  },
  {
   "cell_type": "markdown",
   "metadata": {},
   "source": [
    "#### The statements you are requested to make corresponding to the prints can be added below\n",
    "#### Did you choose the languages such that cat and product resulted in different sizes?\n",
    "\n",
    "...\n",
    "...\n"
   ]
  },
  {
   "cell_type": "markdown",
   "metadata": {},
   "source": [
    "# Here is a claim relating intersection to concatenation\n",
    "\n",
    "<font size=\"4\"> \n",
    "\n",
    "If there are two languages $L_1$ and $L_2$, their intersection can never be the same as their concatenation if the languages are finite.\n",
    "     \n",
    "</font>"
   ]
  },
  {
   "cell_type": "markdown",
   "metadata": {},
   "source": [
    "## Task 3: Define L1 and L2 (both finite) to make intersection = concatenation"
   ]
  },
  {
   "cell_type": "code",
   "execution_count": null,
   "metadata": {},
   "outputs": [],
   "source": [
    "# Define two FINITE languages\n",
    "L1 = {\"\"}\n",
    "L2 = {\"\"}\n",
    "\n",
    "# Perform their intersection\n",
    "\n",
    "intL1L2 = lint(L1,L2)\n",
    "\n",
    "# Perform their concatenation\n",
    "\n",
    "catL1L2 = lcat(L1,L2)\n",
    "\n",
    "# Make a statement of what you observe\n",
    "\n",
    "print(\"intersection = \", intL1L2)\n",
    "print(\"concatenation = \", catL1L2)\n",
    "\n",
    "# THEY MUST BE THE SAME"
   ]
  },
  {
   "cell_type": "markdown",
   "metadata": {},
   "source": [
    "## Task 4: Define L1 and L2 (both finite) to make intersection != concatenation"
   ]
  },
  {
   "cell_type": "code",
   "execution_count": null,
   "metadata": {},
   "outputs": [],
   "source": [
    "# Define two FINITE languages\n",
    "L1 = {''}\n",
    "L2 = {'a'}\n",
    "\n",
    "# Perform their intersection\n",
    "\n",
    "intL1L2 = lint(L1,L2)\n",
    "\n",
    "# Perform their concatenation\n",
    "\n",
    "catL1L2 = lcat(L1,L2)\n",
    "\n",
    "# Make a statement of what you observe\n",
    "\n",
    "print(\"intersection = \", intL1L2)\n",
    "print(\"concatenation = \", catL1L2)\n",
    "\n",
    "# THEY MUST BE DIFFERENT"
   ]
  },
  {
   "cell_type": "markdown",
   "metadata": {},
   "source": [
    "# END"
   ]
  }
 ],
 "metadata": {
  "kernelspec": {
   "display_name": "Python 3",
   "language": "python",
   "name": "python3"
  },
  "language_info": {
   "codemirror_mode": {
    "name": "ipython",
    "version": 3
   },
   "file_extension": ".py",
   "mimetype": "text/x-python",
   "name": "python",
   "nbconvert_exporter": "python",
   "pygments_lexer": "ipython3",
   "version": "3.9.1"
  }
 },
 "nbformat": 4,
 "nbformat_minor": 2
}
