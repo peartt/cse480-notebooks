{
 "cells": [
  {
   "cell_type": "markdown",
   "metadata": {},
   "source": [
    "# Mathy Graphs -- An Exercise in Comprehension\n",
    "If $G_1 = (V_1, E_1)$ and $G_2 = (V_2, E_2)$, the *composition* $G\n",
    "= G_1[G_2]$ of these two graphs is the graph that has vertex set $V =\n",
    "V_1 \\times V_2$ and edge set $E$ defined by\n",
    "$$E = \\{\\{(u_1, u_2), (v_1, v_2)\\}:\\ \\mbox{either}\\ \\{u_1, v_1\\} \\in\n",
    "  E_1\\ \\mbox{or}\\ (u_1 = v_1\\ \\mbox{and}\\ \\{u_2, v_2\\} \\in E_2)\\}.$$\n",
    "  \n",
    "Let $G_1$ be the graph $K_3$ (or $C_3$ --- i.e., the simple \"triangle\" graph with degree sequence 2, 2, 2).\n",
    "\n",
    "Let $G_2$ be the \"line\" graph formed by removing one edge from $G_1$ --- i.e., the simple graph with degree sequence 2, 1, 1.\n",
    "\n",
    "Draw the composition $G = G_1[G_2]$ of these two graphs.\n",
    "\n",
    "How many vertices and edges does $G$ have?  What is its degree sequence?\n"
   ]
  },
  {
   "cell_type": "markdown",
   "metadata": {},
   "source": [
    "## What about this way of explaining the composition $G_1[G_2]$?\n",
    "\n",
    "---\n",
    "\n",
    "The composition is constructed by replacing each vertex of $G_1$ by a copy of $G_2$ and then replacing each edge of $G_1$ by a complete bipartite subgraph that joins every vertex in the copy corresponding to one endpoint to every vertex in the copy corresponding to the other endpoint.\n",
    "\n",
    "---\n",
    "\n",
    "### Does that help you visualize this graph?\n"
   ]
  }
 ],
 "metadata": {
  "kernelspec": {
   "display_name": "Python 3",
   "language": "python",
   "name": "python3"
  },
  "language_info": {
   "codemirror_mode": {
    "name": "ipython",
    "version": 3
   },
   "file_extension": ".py",
   "mimetype": "text/x-python",
   "name": "python",
   "nbconvert_exporter": "python",
   "pygments_lexer": "ipython3",
   "version": "3.9.0"
  },
  "toc": {
   "colors": {
    "hover_highlight": "#DAA520",
    "running_highlight": "#FF0000",
    "selected_highlight": "#FFD700"
   },
   "moveMenuLeft": true,
   "nav_menu": {
    "height": "121px",
    "width": "252px"
   },
   "navigate_menu": true,
   "number_sections": true,
   "sideBar": true,
   "threshold": 4,
   "toc_cell": false,
   "toc_section_display": "block",
   "toc_window_display": false,
   "widenNotebook": false
  },
  "widgets": {
   "state": {
    "430c92ee02b34ec1912bf03c8de1e6dc": {
     "views": [
      {
       "cell_index": 20
      }
     ]
    }
   },
   "version": "1.2.0"
  }
 },
 "nbformat": 4,
 "nbformat_minor": 2
}
