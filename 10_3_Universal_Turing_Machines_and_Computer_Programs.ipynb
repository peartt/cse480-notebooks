{
  "nbformat": 4,
  "nbformat_minor": 0,
  "metadata": {
    "colab": {
      "name": "10_3_Universal_Turing_Machines_and_Computer_Programs.ipynb",
      "provenance": [],
      "authorship_tag": "ABX9TyP1E5+YwRzIDi32wZyvkgSO",
      "include_colab_link": true
    },
    "kernelspec": {
      "name": "python3",
      "display_name": "Python 3"
    }
  },
  "cells": [
    {
      "cell_type": "markdown",
      "metadata": {
        "id": "view-in-github",
        "colab_type": "text"
      },
      "source": [
        "<a href=\"https://colab.research.google.com/github/byui-cse/cse480-notebooks/blob/master/10_3_Universal_Turing_Machines_and_Computer_Programs.ipynb\" target=\"_parent\"><img src=\"https://colab.research.google.com/assets/colab-badge.svg\" alt=\"Open In Colab\"/></a>"
      ]
    },
    {
      "cell_type": "markdown",
      "metadata": {
        "id": "iMPhw_6--Tho"
      },
      "source": [
        "# Universal Turing Machines and Computer Programs\n",
        "## Supplemental Material on \"The Big Picture\"\n",
        "### 12 March 2021"
      ]
    },
    {
      "cell_type": "markdown",
      "metadata": {
        "id": "U6gGjWJg-aya"
      },
      "source": [
        "## Big Idea #1"
      ]
    },
    {
      "cell_type": "markdown",
      "metadata": {
        "id": "uklews_P-py1"
      },
      "source": [
        "There exist undecidable/uncomputable problems."
      ]
    },
    {
      "cell_type": "markdown",
      "metadata": {
        "id": "HDHYmsH9-tGf"
      },
      "source": [
        "## Big Idea #2"
      ]
    },
    {
      "cell_type": "markdown",
      "metadata": {
        "id": "8TWvfFQ_-vRM"
      },
      "source": [
        "There exist universal computers --- computers that can simulate any other computer or program."
      ]
    },
    {
      "cell_type": "markdown",
      "metadata": {
        "id": "3KgiBLhl-4Vv"
      },
      "source": [
        "### The Python ```exec``` function"
      ]
    },
    {
      "cell_type": "markdown",
      "metadata": {
        "id": "z0HC3Tu3-9n8"
      },
      "source": [
        "executes strings of Python code:"
      ]
    },
    {
      "cell_type": "code",
      "metadata": {
        "id": "CuZtIhPH_BL8"
      },
      "source": [
        "command = \"print('abc', 5+2)\"\n",
        "exec(command)"
      ],
      "execution_count": null,
      "outputs": []
    },
    {
      "cell_type": "markdown",
      "metadata": {
        "id": "uWjbrimD_LqW"
      },
      "source": [
        "We can use ```exec``` to write a **universal** Python program that executes other Python programs:"
      ]
    },
    {
      "cell_type": "code",
      "metadata": {
        "id": "yk6mkY8Q_VAM"
      },
      "source": [
        "def universal(prog_string, in_string):\n",
        "  # Execute the definition of the function in prog_string.\n",
        "  # This defines the program, but doesn't invoke it.\n",
        "  exec(prog_string)\n",
        "  # Now that the function is defined, we can extract a reference to it.\n",
        "  prog_function = extract_main_function(prog_string, locals())\n",
        "  # Invoke the desired function with the desired input string.\n",
        "  return prog_function(in_string)\n"
      ],
      "execution_count": null,
      "outputs": []
    },
    {
      "cell_type": "markdown",
      "metadata": {
        "id": "DHaz2X2JB5qa"
      },
      "source": [
        "Study these helper functions carefully. SISO means \"String In String Out\"."
      ]
    },
    {
      "cell_type": "code",
      "metadata": {
        "id": "rVHM8eC9_z65"
      },
      "source": [
        "import re\n",
        "\n",
        "def extract_main_function_name(prog_string):\n",
        "   \"\"\"Extract the name of the main function in a Python program.\n",
        "\n",
        "    Args:\n",
        "\n",
        "        prog_string (str): string containing the Python program to be\n",
        "        examined.\n",
        "\n",
        "    Returns:\n",
        "\n",
        "        str: The name of the main function if one could be found,\n",
        "           otherwise the empty string.\n",
        "\n",
        "    \"\"\"\n",
        "\n",
        "   # This is the regular expression that searches for the main\n",
        "   # function using the heuristic described above.\n",
        "   main_function_regex = r'^def\\s+([a-zA-Z0-9_]*)'\n",
        "   match_result = re.search(main_function_regex, prog_string, re.MULTILINE )\n",
        "   if match_result:\n",
        "      return match_result.group(1)\n",
        "   else:\n",
        "      # Return empty string if we couldn't find any function\n",
        "      # definitions. This should never happen when processing a\n",
        "      # legitimate SISO program.\n",
        "      return ''\n",
        "\n",
        "def extract_main_function(prog_string, local_vars):\n",
        "   \"\"\"Given a Python program, return a reference\n",
        "    to the \"main\" function: that is, the first\n",
        "    Python function defined within prog_string.\n",
        "    The local_vars parameter should be\n",
        "\n",
        "    Args:\n",
        "\n",
        "        prog_string (str): string containing the Python program to be\n",
        "            examined.\n",
        "\n",
        "        local_vars (dict): the \"locals()\" dictionary of the calling\n",
        "            function, as explained further in the source code comment.\n",
        "\n",
        "    Returns:\n",
        "\n",
        "        fn: A reference to the main function if one could be\n",
        "            found. Otherwise an Exception is raised.\n",
        "\n",
        "    \"\"\"\n",
        "\n",
        "   function_name = extract_main_function_name(prog_string)\n",
        "   # Python has a standard built-in dictionary called \"locals()\"\n",
        "   # which contains, among other things, all the functions that are\n",
        "   # currently defined. We can get a reference to the desired\n",
        "   # function by looking it up in this dictionary, using the name of\n",
        "   # the function as the key.\n",
        "   if function_name in local_vars:\n",
        "      prog_function = local_vars[function_name]\n",
        "   else:\n",
        "      raise Exception('function ' + function_name + \\\n",
        "                      ' not defined, so cannot extract or simulate it')\n",
        "   return prog_function\n",
        "\n",
        "def read_file(file_name):\n",
        "   \"\"\"Read a file, returning its contents as a single string.\n",
        "\n",
        "    Args:\n",
        "\n",
        "        file_name (str): The name of the file to be read.\n",
        "\n",
        "    Returns:\n",
        "\n",
        "        str: The contents of the file.\n",
        "    \"\"\"\n",
        "\n",
        "   file_contents = ''\n",
        "   with open(file_name) as input_file:\n",
        "      file_contents = input_file.read()\n",
        "   return file_contents\n",
        "\n",
        "# Define a very short convenient alias for the read_file function\n",
        "rf = read_file\n",
        "\n",
        "def write_file(file_name, file_contents):\n",
        "   \"\"\"Write a file, overwriting any existing content with the given content.\n",
        "\n",
        "    Args:\n",
        "\n",
        "        file_name (str): The name of the file to be written or overwritten.\n",
        "\n",
        "        file_contents (str): The contents of the file to be written,\n",
        "            stored as a single string that may contain newlines.\n",
        "    \"\"\"\n",
        "   with open(file_name, 'w') as output_file:\n",
        "      output_file.write(file_contents)\n",
        "\n",
        "def ESS(in_string1, in_string2):\n",
        "   \"\"\"Encode two strings as a single string.\n",
        "\n",
        "    ESS is an acronym for Encode as Single String.  This function uses\n",
        "    the encoding that consists of the length of the first string,\n",
        "    followed by a space character, followed by the two strings\n",
        "    concatenated together.\n",
        "\n",
        "    Args:\n",
        "\n",
        "        in_string1 (str): The first string to be encoded\n",
        "\n",
        "        in_string2 (str): The second string to be encoded\n",
        "\n",
        "    Returns:\n",
        "\n",
        "        str: A single string encoding in_string1 and in_string2\n",
        "\n",
        "    Example:\n",
        "\n",
        "        >>> ESS('abc', 'defg')\n",
        "        '3 abcdefg'\n",
        "    \"\"\"\n",
        "   return str(len(in_string1)) + ' ' + in_string1 + in_string2\n",
        "\n",
        "def DESS(in_string):\n",
        "   \"\"\"Decode a single string into two strings (inverse of ESS).\n",
        "\n",
        "    DESS is an acronym for DEcode from Single String. This function converts a\n",
        "    single string that encodes two strings back into the original two strings.\n",
        "    DESS is the inverse of the function ESS.\n",
        "\n",
        "    Args:\n",
        "\n",
        "       in_string (str): The string to be decoded\n",
        "\n",
        "    Returns:\n",
        "\n",
        "       (str, str): A 2-tuple containing the two strings that were decoded from the input.\n",
        "\n",
        "    Example:\n",
        "\n",
        "       >>> DESS('3 abcdefg')\n",
        "       ('abc', 'defg')\n",
        "\n",
        "    \"\"\"\n",
        "   # split on the first space character\n",
        "   (the_length, remainder) = in_string.split(' ', 1)\n",
        "   in_string1 = remainder[:int(the_length)]\n",
        "   in_string2 = remainder[int(the_length):]\n",
        "   return (in_string1, in_string2)"
      ],
      "execution_count": 2,
      "outputs": []
    },
    {
      "cell_type": "markdown",
      "metadata": {
        "id": "o_VlPQASCpdq"
      },
      "source": [
        "### Some Examples"
      ]
    },
    {
      "cell_type": "code",
      "metadata": {
        "id": "o-quo-9nDBw0"
      },
      "source": [
        "write_file('containsGAGA.py',\n",
        "\"\"\"\n",
        "def containsGAGA(in_string):\n",
        "    if 'GAGA' in in_string:\n",
        "        return 'yes'\n",
        "    else:\n",
        "        return 'no'\n",
        "  \"\"\")"
      ],
      "execution_count": 3,
      "outputs": []
    },
    {
      "cell_type": "markdown",
      "metadata": {
        "id": "3TtSWGLHFNwe"
      },
      "source": [
        "Verify the file is there:"
      ]
    },
    {
      "cell_type": "code",
      "metadata": {
        "id": "IcC1vyZrFJuR"
      },
      "source": [
        "!cat containsGAGA.py"
      ],
      "execution_count": null,
      "outputs": []
    },
    {
      "cell_type": "markdown",
      "metadata": {
        "id": "4bD-sGnaCre3"
      },
      "source": [
        "What do these output?"
      ]
    },
    {
      "cell_type": "code",
      "metadata": {
        "id": "PyKOrXd9C0gH"
      },
      "source": [
        "universal(rf('containsGAGA.py'), 'GTTGAGA')"
      ],
      "execution_count": null,
      "outputs": []
    },
    {
      "cell_type": "code",
      "metadata": {
        "id": "dssej-q9C-DJ"
      },
      "source": [
        "universal(rf('containsGAGA.py'), 'GTTAA')"
      ],
      "execution_count": null,
      "outputs": []
    },
    {
      "cell_type": "markdown",
      "metadata": {
        "id": "VAw-sCZpDkwd"
      },
      "source": [
        "### Universal Turing Machines exist too"
      ]
    },
    {
      "cell_type": "markdown",
      "metadata": {
        "id": "7EyrxmwPDoa8"
      },
      "source": [
        "Here's a high-level argument:\n",
        "\n",
        "1. Any Python program can be converted to a Turing machine.\n",
        "2. We just saw the universal Python function (program -- if you save its code in a file 'universal.py'.)\n",
        "3. Therefore 'universal.py' can be converted into an equivalent Turing machine, which is universal by definition (and can be made to receive only one parameter)."
      ]
    },
    {
      "cell_type": "markdown",
      "metadata": {
        "id": "uxsonij5ELlc"
      },
      "source": [
        "#### Universal Turing Machines"
      ]
    },
    {
      "cell_type": "markdown",
      "metadata": {
        "id": "Gp3W4CXcEOtf"
      },
      "source": [
        "UTMs can be constructed explicitly --- here are two examples:\n",
        "\n",
        "1. Alan Turing gave a suitable construction in his 1936 paper.\n",
        "2. Marvin Minsky published a 7-state, 4-symbol UTM in the 1960s."
      ]
    },
    {
      "cell_type": "markdown",
      "metadata": {
        "id": "da3neydRL6n0"
      },
      "source": [
        "#### Universal computation occurs in the real world"
      ]
    },
    {
      "cell_type": "markdown",
      "metadata": {
        "id": "Y2wkTVn9L8Z6"
      },
      "source": [
        "|             |  simple                 | complex        |\n",
        "|-------------|-------------------------|----------------|\n",
        "| artificial  | Minsky's machine        | real computers |\n",
        "|             | Rule 110 CA (see below) |                |\n",
        "|             | Conway's Game of Life   |                |\n",
        "|             | ...                     |                |\n",
        "| natural     | ?                       | human brain    |"
      ]
    },
    {
      "cell_type": "markdown",
      "metadata": {
        "id": "v7ntPrSlNMGT"
      },
      "source": [
        "##### Rule 110 CA"
      ]
    },
    {
      "cell_type": "markdown",
      "metadata": {
        "id": "ISdaglL-NUOy"
      },
      "source": [
        "The \"Rule 110 Cellular Automaton\" is a famous example of universal computation resulting from extremely simple rules:\n"
      ]
    },
    {
      "cell_type": "code",
      "metadata": {
        "id": "Ks-0YXYONcQO"
      },
      "source": [
        "# Conceptually, we think of the cells of the automaton being filled\n",
        "# with zeros and ones, but we will encode these as '-' and 'G'\n",
        "# respectively, since those characters happen to give a more appealing\n",
        "# visual appearance when successive results are printed out.\n",
        "zero = '-'\n",
        "one = 'G'\n",
        "\n",
        "# update_rule is a dictionary mapping a triple of cells to the new\n",
        "# value of the middle cell of that triple in the next timestep.\n",
        "update_rule = {\n",
        "    (zero, zero, zero): zero,\n",
        "    (zero, zero, one): one,\n",
        "    (zero, one, zero): one,\n",
        "    (zero, one, one): one,\n",
        "    (one, zero, zero): zero,\n",
        "    (one, zero, one): one,\n",
        "    (one, one, zero): one,\n",
        "    (one, one, one): zero,\n",
        "    }\n",
        "\n",
        "def rule_110(tape):\n",
        "    \"\"\"Implements a single timestep of the Rule 110 automaton.\n",
        "\n",
        "    Args:\n",
        "\n",
        "        tape (str): A string representing the current tape of zeros\n",
        "            and ones.\n",
        "\n",
        "    Returns:\n",
        "\n",
        "        str: The updated contents of the tape after a single\n",
        "            timestep. The left and right ends of the tape are assumed\n",
        "            to be padded with zeros.\n",
        "\n",
        "    \"\"\"\n",
        "\n",
        "    L = len(tape)\n",
        "    updated_tape = []\n",
        "    for i in range(L):\n",
        "        # The left and right ends of the tape need to be treated\n",
        "        # separately since they should be padded with a zero.\n",
        "        if i == 0:\n",
        "            # pad with a zero on the left\n",
        "            (left, middle, right) = (zero, tape[i], tape[i+1])\n",
        "        elif i == L-1:\n",
        "            # pad with a zero on the right\n",
        "            (left, middle, right) = (tape[i-1], tape[i], zero)\n",
        "        else:\n",
        "            # no padding required as we are in the interior of the tape\n",
        "            (left, middle, right) = (tape[i-1], tape[i], tape[i+1])\n",
        "        new_symbol = update_rule[(left, middle, right)]\n",
        "        updated_tape.append(new_symbol)\n",
        "    return ''.join(updated_tape)\n",
        "\n",
        "def test_Rule_110():\n",
        "    string_length = 64\n",
        "    iterations = 40\n",
        "    start_string = [zero for x in range(string_length)]\n",
        "    one_locations = [string_length-25, string_length-1]\n",
        "    # put a single one at each specified location\n",
        "    for location in one_locations:\n",
        "        start_string[location] = one\n",
        "\n",
        "    tape = start_string\n",
        "    for i in range(iterations):\n",
        "        print(tape)\n",
        "        tape = rule_110(tape)\n",
        "\n",
        "    expected_tape = 'GGGGGG----G-GGG-GGGG---GGG---G-GGG--GG---G--GG-GGGGGG-----GG---G'\n",
        "    assert tape == expected_tape"
      ],
      "execution_count": null,
      "outputs": []
    },
    {
      "cell_type": "code",
      "metadata": {
        "id": "msGYgiVKONC-"
      },
      "source": [
        "test_Rule_110()"
      ],
      "execution_count": null,
      "outputs": []
    },
    {
      "cell_type": "markdown",
      "metadata": {
        "id": "vY65rjptOXJd"
      },
      "source": [
        "#### Using a universal program"
      ]
    },
    {
      "cell_type": "markdown",
      "metadata": {
        "id": "cSwKbaG9OaI4"
      },
      "source": [
        "With a universal program in hand, we can alter the effects of other programs in real time:"
      ]
    },
    {
      "cell_type": "code",
      "metadata": {
        "id": "pOmT0YFnOiFa"
      },
      "source": [
        "def repeat_CA_or_GA(in_string):\n",
        "    if in_string == 'CA':\n",
        "        return 'CACA'\n",
        "    elif in_string == 'GA':\n",
        "        return 'GAGA'\n",
        "    else:\n",
        "        return 'unknown'"
      ],
      "execution_count": null,
      "outputs": []
    },
    {
      "cell_type": "code",
      "metadata": {
        "id": "1cFW0rF_OsMG"
      },
      "source": [
        "def alter_GAGA_to_TATA(in_string):\n",
        "  (prog_string, new_in_string) = DESS(in_string)\n",
        "  val = universal(prog_string, new_in_string)\n",
        "  if val == 'GAGA':\n",
        "    return 'TATA'\n",
        "  else:\n",
        "    return val"
      ],
      "execution_count": null,
      "outputs": []
    },
    {
      "cell_type": "markdown",
      "metadata": {
        "id": "vaWgE5ZiO-U9"
      },
      "source": [
        "#### Some decision problems are recognizable but undecidable"
      ]
    },
    {
      "cell_type": "markdown",
      "metadata": {
        "id": "v_ko8m1mPG5Z"
      },
      "source": [
        "Recognizable means there's a program that \n",
        "\n",
        "1. **always terminates** with the right answer (\"yes\") on positive instances\n",
        "2. Reliably is **never wrong** on negative instances\n",
        "3. But it may **enter an infinite loop** on negative instances"
      ]
    },
    {
      "cell_type": "markdown",
      "metadata": {
        "id": "bOeldGPJPiVT"
      },
      "source": [
        "###### Example"
      ]
    },
    {
      "cell_type": "markdown",
      "metadata": {
        "id": "_YMFWcROPlgT"
      },
      "source": [
        "```yes_on_string``` and ```crash_on_string``` are recognizable but undecidable:"
      ]
    },
    {
      "cell_type": "markdown",
      "metadata": {
        "id": "yLIZhHnNPxeW"
      },
      "source": [
        "Here's a program that recognizes ```yes_on_string```:"
      ]
    },
    {
      "cell_type": "code",
      "metadata": {
        "id": "PmviQjeQP4CH"
      },
      "source": [
        "def recognizes_yes_on_string(in_string):\n",
        "  (prog_string, new_in_string) = DESS(in_string)\n",
        "  val = universal(prog_string, new_in_string)\n",
        "  if val == 'yes':\n",
        "    return 'yes'\n",
        "  else:\n",
        "    return 'no'"
      ],
      "execution_count": null,
      "outputs": []
    },
    {
      "cell_type": "code",
      "metadata": {
        "id": "GZi5gVN9QRuW"
      },
      "source": [
        "def test_recognizes_yes_on_string():\n",
        "  for (prog_name, in_string, solution) in \\\n",
        "      [('containsGAGA.py', 'GAGAGAGAG', 'yes'), \\\n",
        "       ('containsGAGA.py', 'TTTTGGCCGGT', 'no')]:\n",
        "       combined_string = ESS(rf(prog_name), in_string)\n",
        "       val = recognizes_yes_on_string(combined_string)\n",
        "       print((prog_name, in_string), ':', val)\n",
        "       assert val == solution"
      ],
      "execution_count": null,
      "outputs": []
    },
    {
      "cell_type": "code",
      "metadata": {
        "id": "RDVjdSRrQ4GL"
      },
      "source": [
        "test_recognizes_yes_on_string()"
      ],
      "execution_count": null,
      "outputs": []
    }
  ]
}