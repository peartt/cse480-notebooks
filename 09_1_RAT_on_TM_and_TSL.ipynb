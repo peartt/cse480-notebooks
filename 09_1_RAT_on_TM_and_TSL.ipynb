{
  "nbformat": 4,
  "nbformat_minor": 0,
  "metadata": {
    "colab": {
      "name": "09_1_RAT_on_TM_and_TSL.ipynb",
      "provenance": [],
      "authorship_tag": "ABX9TyNtn90Tm/ZV2DnV8oukIEJM",
      "include_colab_link": true
    },
    "kernelspec": {
      "name": "python3",
      "display_name": "Python 3"
    }
  },
  "cells": [
    {
      "cell_type": "markdown",
      "metadata": {
        "id": "view-in-github",
        "colab_type": "text"
      },
      "source": [
        "<a href=\"https://colab.research.google.com/github/byui-cse/cse480-notebooks/blob/master/09_1_RAT_on_TM_and_TSL.ipynb\" target=\"_parent\"><img src=\"https://colab.research.google.com/assets/colab-badge.svg\" alt=\"Open In Colab\"/></a>"
      ]
    },
    {
      "cell_type": "markdown",
      "metadata": {
        "id": "YAQDN0tRKYqZ"
      },
      "source": [
        "# RAT on TM and TSL\n",
        "## Due: Monday, 1 March 2021, 2:30 pm."
      ]
    },
    {
      "cell_type": "markdown",
      "metadata": {
        "id": "l_RDPVsaK4UY"
      },
      "source": [
        "### True or False Questions"
      ]
    },
    {
      "cell_type": "code",
      "metadata": {
        "id": "3ntnzBMdKmaI"
      },
      "source": [
        "#@markdown --- True or False? **ANYTHING** you can instruct a computer to do in any programming language can also be programmed into a Turing Machine.\n",
        "answer1 = False  #@param {type: \"boolean\"}\n",
        "\n",
        "#@markdown --- True or False? The Church-Turing Thesis gives us an **informal way** to talk about algorithms.\n",
        "answer2 = False  #@param {type: \"boolean\"}\n",
        "\n",
        "#@markdown --- True or False? Both Church’s model and Turing’s model correctly capture the mathematical notion of \"effective computability,\" i.e., of *explicit algorithmic processes*.\n",
        "\n",
        "answer3 = False  #@param {type: \"boolean\"}\n",
        "\n",
        "#@markdown --- True or False? Anything not computable by a Turing Machine is not computable **at all**.\n",
        "answer4 = False  #@param {type: \"boolean\"}\n",
        "\n",
        "#@markdown --- True or False? The tape of a Turing Machine can be modeled by two unbounded stacks.\n",
        "answer5 = False  #@param {type: \"boolean\"}\n",
        "\n",
        "#@markdown --- True or False? A Turing Machine can halt in any state.\n",
        "answer6 = False  #@param {type: \"boolean\"}\n",
        "\n",
        "#@markdown --- True or False? A Turing Machine with its starting state q_0 in its set of final states has Sigma* as its language.\n",
        "answer7 = False  #@param {type: \"boolean\"}\n",
        "\n",
        "#@markdown --- True or False? It is necessary for a Turing Machine to read all of its input before halting.\n",
        "answer8 = False  #@param {type: \"boolean\"}\n"
      ],
      "execution_count": null,
      "outputs": []
    },
    {
      "cell_type": "markdown",
      "metadata": {
        "id": "_7Hq6LLrNFAP"
      },
      "source": [
        "### What is the language of this Turing Machine?"
      ]
    },
    {
      "cell_type": "markdown",
      "metadata": {
        "id": "90gchCV5NUsb"
      },
      "source": [
        "In the table below, q0 is the start state, q6 is the final state, B represents the blank symbol, and moves occur from the row states to the column states.\n",
        "\n",
        "Simulate the operation of the Turing Machine on at least inputs 'aaabbc' and 'aabbcc', and choose the correct one of four descriptions of its language."
      ]
    },
    {
      "cell_type": "markdown",
      "metadata": {
        "id": "Dtc-At8iNsQa"
      },
      "source": [
        "```\n",
        "         q0        q1        q2        q3        q4        q5        q6\n",
        "    +---------+---------+---------+---------+---------+---------+---------+\n",
        " q0 | -       | a; X, R | -       | -       | Y; Y, R | -       | B; B, R |\n",
        "    +---------+---------+---------+---------+---------+---------+---------+\n",
        " q1 | -       | a; a, R | b; Y, R | -       | -       | -       | -       |\n",
        "    | -       | Y; Y, R | -       | -       | -       | -       | -       |\n",
        "    +---------+---------+---------+---------+---------+---------+---------+\n",
        " q2 | -       | -       | Z; Z, R | c; Z, L | -       | -       | -       |\n",
        "    | -       | -       | b; b, R | -       | -       | -       | -       |\n",
        "    +---------+---------+---------+---------+---------+---------+---------+\n",
        " q3 | X; X, R | -       | -       | b; b, L | -       | -       | -       |\n",
        "    | -       | -       | -       | Y; Y, L | -       | -       | -       |\n",
        "    | -       | -       | -       | a; a, L | -       | -       | -       |\n",
        "    | -       | -       | -       | Z; Z, L | -       | -       | -       |\n",
        "    | -       | -       | -       | c; c, L | -       | -       | -       |\n",
        "    +---------+---------+---------+---------+---------+---------+---------+\n",
        " q4 | -       | -       | -       | -       | Y; Y, R | Z; Z, R | -       |\n",
        "    +---------+---------+---------+---------+---------+---------+---------+\n",
        " q5 | -       | -       | -       | -       | -       | Z; Z, R | B; B, R |\n",
        "    +---------+---------+---------+---------+---------+---------+---------+\n",
        " q6 | -       | -       | -       | -       | -       | -       | -       |\n",
        "    +---------------------------------------------------------------------+\n",
        "```"
      ]
    },
    {
      "cell_type": "code",
      "metadata": {
        "id": "B2e3u_yOOA_E"
      },
      "source": [
        "#@title Multiple Choice\n",
        "select_one = \"Not this one\" #@param [\"Not this one\", \"Zero or more a's followed by the same number of b's followed by the same number of c's.\", \"Some number of a's followed by one fewer b's followed by one fewer c's.\", \"An equal number of a's, b's and c's, with the empty string included.\", \"Some number (n, could be zero) of a's followed by n+1 b's followed by n+2 c's.\"] {allow-input: false}\n"
      ],
      "execution_count": null,
      "outputs": []
    },
    {
      "cell_type": "markdown",
      "metadata": {
        "id": "BXwy9vCEO1EX"
      },
      "source": [
        "### Trace Execution"
      ]
    },
    {
      "cell_type": "markdown",
      "metadata": {
        "id": "E8pe62gzO4Tk"
      },
      "source": [
        "Study the Turing Machine described in the file at\n",
        "\n",
        "https://firstthreeodds.org/17657741833134731255/tm101.xml\n",
        "\n",
        "Give its configuration history (i.e., a list of its instantaneous descriptions) given 01101#01101 as input, assuming B represents the blank symbol."
      ]
    },
    {
      "cell_type": "markdown",
      "metadata": {
        "id": "hIChK1MwPHWS"
      },
      "source": [
        "### Implement The Simple Language's Macro 8"
      ]
    },
    {
      "cell_type": "markdown",
      "metadata": {
        "id": "CQcWZTo1PLND"
      },
      "source": [
        "#### Macro 1\n",
        "\n",
        "X $\\leftarrow$ 0 (or X <-- 0: clearing a variable)\n",
        "```\n",
        "while X\n",
        "{\n",
        "  decr X\n",
        "}\n",
        "```"
      ]
    },
    {
      "cell_type": "markdown",
      "metadata": {
        "id": "xeAbbSFdPjrE"
      },
      "source": [
        "#### Macro 2\n",
        "\n",
        "X $\\leftarrow$ n (assignment statement)\n",
        "\n",
        "```\n",
        "X <-- 0\n",
        "incr X\n",
        "incr X\n",
        "incr X\n",
        "...\n",
        "incr X\n",
        "```\n",
        "The number of 'incr X' statements is **n**."
      ]
    },
    {
      "cell_type": "markdown",
      "metadata": {
        "id": "wfQEeFuZPkEA"
      },
      "source": [
        "#### Macro 3\n",
        "\n",
        "Y $\\leftarrow$ X (variable assignment)\n",
        "```\n",
        "Y <-- 0\n",
        "T <-- 0\n",
        "while X\n",
        "{\n",
        "   incr Y\n",
        "   decr X\n",
        "   incr T\n",
        "}\n",
        "while T\n",
        "{\n",
        "   decr T\n",
        "   incr X\n",
        "}\n",
        "```"
      ]
    },
    {
      "cell_type": "markdown",
      "metadata": {
        "id": "a0FQ59RrPkHj"
      },
      "source": [
        "#### Macro 4\n",
        "\n",
        "Z $\\leftarrow$ X + Y (addition --- repeated increment)\n",
        "```\n",
        "Z <-- X\n",
        "T <-- Y\n",
        "while T\n",
        "{\n",
        "   incr Z\n",
        "   decr T\n",
        "}\n",
        "```"
      ]
    },
    {
      "cell_type": "markdown",
      "metadata": {
        "id": "eIWywTohPkKs"
      },
      "source": [
        "#### Macro 5\n",
        "\n",
        "Z $\\leftarrow$ X * Y (multiplication --- repeated addition)\n",
        "```\n",
        "Z <-- 0\n",
        "T <-- Y\n",
        "while T\n",
        "{\n",
        "   Z <-- Z + X\n",
        "   decr T\n",
        "}\n",
        "```"
      ]
    },
    {
      "cell_type": "markdown",
      "metadata": {
        "id": "X7J-2f1rPkNr"
      },
      "source": [
        "#### Macro 6\n",
        "\n",
        "comp X (if X is 0 make it 1; if non-zero make it 0)\n",
        "```\n",
        "T <-- 1\n",
        "while X\n",
        "{\n",
        "   X <-- 0\n",
        "   T <-- 0\n",
        "}\n",
        "while T\n",
        "{\n",
        "   incr X\n",
        "   decr T\n",
        "}\n",
        "```"
      ]
    },
    {
      "cell_type": "markdown",
      "metadata": {
        "id": "e8h7H8WuPkQ1"
      },
      "source": [
        "#### Macro 7\n",
        "\n",
        "if X then A1 else A2\n",
        "```\n",
        "T <-- X\n",
        "while T\n",
        "{\n",
        "    A1\n",
        "    T <-- 0\n",
        "}\n",
        "T <-- X\n",
        "comp T\n",
        "while T\n",
        "{\n",
        "   A2\n",
        "   T <-- 0\n",
        "}\n",
        "```"
      ]
    },
    {
      "cell_type": "markdown",
      "metadata": {
        "id": "CPuJB6BZPkXW"
      },
      "source": [
        "#### Macro 8\n",
        "\n",
        "if X < Y then A1 else A2\n",
        "```\n",
        "Insert your code here.\n",
        "```"
      ]
    },
    {
      "cell_type": "markdown",
      "metadata": {
        "id": "g-XHV3kfR7rV"
      },
      "source": [
        "##### Hint:"
      ]
    },
    {
      "cell_type": "markdown",
      "metadata": {
        "id": "JBgGpZFGR_En"
      },
      "source": [
        "Use Macro 7 in your solution (twice!)."
      ]
    }
  ]
}