{
  "nbformat": 4,
  "nbformat_minor": 0,
  "metadata": {
    "colab": {
      "name": "09_1_RAT_on_TM_and_TSL.ipynb",
      "provenance": [],
      "include_colab_link": true
    },
    "kernelspec": {
      "name": "python3",
      "display_name": "Python 3"
    }
  },
  "cells": [
    {
      "cell_type": "markdown",
      "metadata": {
        "id": "view-in-github",
        "colab_type": "text"
      },
      "source": [
        "<a href=\"https://colab.research.google.com/github/peartt/cse480-notebooks/blob/master/09_1_RAT_on_TM_and_TSL.ipynb\" target=\"_parent\"><img src=\"https://colab.research.google.com/assets/colab-badge.svg\" alt=\"Open In Colab\"/></a>"
      ]
    },
    {
      "cell_type": "markdown",
      "metadata": {
        "id": "YAQDN0tRKYqZ"
      },
      "source": [
        "# RAT on TM and TSL\n",
        "## Due: Monday, 1 March 2021, 2:30 pm."
      ]
    },
    {
      "cell_type": "code",
      "metadata": {
        "id": "CXKQBCK3rgPo",
        "outputId": "a0a706fb-1b2f-42af-c5fc-e9bd5416fce0",
        "colab": {
          "base_uri": "https://localhost:8080/"
        }
      },
      "source": [
        "import sys\r\n",
        "\r\n",
        "# -- Detect if in Own Install or in Colab\r\n",
        "try:\r\n",
        "    import google.colab\r\n",
        "    OWN_INSTALL = False\r\n",
        "except:\r\n",
        "    OWN_INSTALL = True\r\n",
        "    \r\n",
        "if OWN_INSTALL:\r\n",
        "  sys.path[0:0] = ['../../../../..',  '../../../../../3rdparty',  \r\n",
        "                   '../../../..',  '../../../../3rdparty',  \r\n",
        "                   '../../..',     '../../../3rdparty', \r\n",
        "                   '../..',        '../../3rdparty',\r\n",
        "                   '..',           '../3rdparty',\r\n",
        "                   '../Jove',      '../Jove/jove']\r\n",
        "\r\n",
        "else: # In colab\r\n",
        "  ! if [ ! -d Jove ]; then git clone https://github.com/ganeshutah/Jove Jove; fi\r\n",
        "  sys.path.append('./Jove')\r\n",
        "  sys.path.append('./Jove/jove')\r\n",
        "\r\n",
        "# -- common imports --\r\n",
        "from jove.Def_TM     import *\r\n",
        "from jove.Def_md2mc  import *\r\n",
        "from jove.DotBashers import *"
      ],
      "execution_count": 1,
      "outputs": [
        {
          "output_type": "stream",
          "text": [
            "Cloning into 'Jove'...\n",
            "remote: Enumerating objects: 4634, done.\u001b[K\n",
            "remote: Total 4634 (delta 0), reused 0 (delta 0), pack-reused 4634\u001b[K\n",
            "Receiving objects: 100% (4634/4634), 7.38 MiB | 5.32 MiB/s, done.\n",
            "Resolving deltas: 100% (3005/3005), done.\n",
            "You may use any of these help commands:\n",
            "help(step_tm)\n",
            "help(run_tm)\n",
            "help(explore_tm)\n",
            "\n",
            "You may use any of these help commands:\n",
            "help(md2mc)\n",
            ".. and if you want to dig more, then ..\n",
            "help(default_line_attr)\n",
            "help(length_ok_input_items)\n",
            "help(union_line_attr_list_fld)\n",
            "help(extend_rsltdict)\n",
            "help(form_delta)\n",
            "help(get_machine_components)\n",
            "\n",
            "You may use any of these help commands:\n",
            "help(ResetStNum)\n",
            "help(NxtStateStr)\n",
            "\n"
          ],
          "name": "stdout"
        }
      ]
    },
    {
      "cell_type": "code",
      "metadata": {
        "id": "Ndrqho3trlgM",
        "outputId": "7c5ca087-7515-4aa8-f994-a2c10b9a68ec",
        "colab": {
          "base_uri": "https://localhost:8080/"
        }
      },
      "source": [
        "help(explore_tm)"
      ],
      "execution_count": 2,
      "outputs": [
        {
          "output_type": "stream",
          "text": [
            "Help on function explore_tm in module jove.Def_TM:\n",
            "\n",
            "explore_tm(T, tape, nsteps)\n",
            "    A handy routine to print the result of run_tm plus making \n",
            "    future extensions to explore run-results.\n",
            "\n"
          ],
          "name": "stdout"
        }
      ]
    },
    {
      "cell_type": "code",
      "metadata": {
        "id": "vzCzbKdprqrZ",
        "outputId": "60d01e67-fec8-43ec-de7b-ef7c1b489348",
        "colab": {
          "base_uri": "https://localhost:8080/"
        }
      },
      "source": [
        "help(run_tm)"
      ],
      "execution_count": 3,
      "outputs": [
        {
          "output_type": "stream",
          "text": [
            "Help on function run_tm in module jove.Def_TM:\n",
            "\n",
            "run_tm(T, tape, fuel, chatty=True)\n",
            "    Helper for explore_tm\n",
            "    ---\n",
            "    Given a TM T and a tape, run the TM for fuel steps\n",
            "    (e.g., gallons of gas in your tank), \n",
            "    collecting all halting configurations. \n",
            "    \n",
            "    Return a triple\n",
            "    (id_path_pairs, haltSet, nfuel) of\n",
            "     - all resulting id_path_pairs \n",
            "     - the final haltSet\n",
            "     - the remaining fuel\n",
            "    This way, one can find all accepting and rejecting \n",
            "    IDs in the final haltSet and print paths to them.\n",
            "\n"
          ],
          "name": "stdout"
        }
      ]
    },
    {
      "cell_type": "markdown",
      "metadata": {
        "id": "l_RDPVsaK4UY"
      },
      "source": [
        "### True or False Questions"
      ]
    },
    {
      "cell_type": "code",
      "metadata": {
        "id": "3ntnzBMdKmaI"
      },
      "source": [
        "#@markdown --- True or False? **ANYTHING** you can instruct a computer to do in any programming language can also be programmed into a Turing Machine.\n",
        "answer1 = True  #@param {type: \"boolean\"}\n",
        "\n",
        "#@markdown --- True or False? The Church-Turing Thesis gives us an **informal way** to talk about algorithms.\n",
        "answer2 = False  #@param {type: \"boolean\"}\n",
        "\n",
        "#@markdown --- True or False? Both Church’s model and Turing’s model correctly capture the mathematical notion of \"effective computability,\" i.e., of *explicit algorithmic processes*.\n",
        "\n",
        "answer3 = True  #@param {type: \"boolean\"}\n",
        "\n",
        "#@markdown --- True or False? Anything not computable by a Turing Machine is not computable **at all**.\n",
        "answer4 = True  #@param {type: \"boolean\"}\n",
        "\n",
        "#@markdown --- True or False? The tape of a Turing Machine can be modeled by two unbounded stacks.\n",
        "answer5 = True  #@param {type: \"boolean\"}\n",
        "\n",
        "#@markdown --- True or False? A Turing Machine can halt in any state.\n",
        "answer6 = True  #@param {type: \"boolean\"}\n",
        "\n",
        "#@markdown --- True or False? A Turing Machine with its starting state q_0 in its set of final states has Sigma* as its language.\n",
        "answer7 = False  #@param {type: \"boolean\"}\n",
        "\n",
        "#@markdown --- True or False? It is necessary for a Turing Machine to read all of its input before halting.\n",
        "answer8 = False  #@param {type: \"boolean\"}\n"
      ],
      "execution_count": null,
      "outputs": []
    },
    {
      "cell_type": "markdown",
      "metadata": {
        "id": "_7Hq6LLrNFAP"
      },
      "source": [
        "### What is the language of this Turing Machine?"
      ]
    },
    {
      "cell_type": "markdown",
      "metadata": {
        "id": "90gchCV5NUsb"
      },
      "source": [
        "In the table below, q0 is the start state, q6 is the final state, B represents the blank symbol, and moves occur from the row states to the column states.\n",
        "\n",
        "Simulate the operation of the Turing Machine on at least inputs 'aaabbc' and 'aabbcc', and choose the correct one of four descriptions of its language."
      ]
    },
    {
      "cell_type": "markdown",
      "metadata": {
        "id": "Dtc-At8iNsQa"
      },
      "source": [
        "```\n",
        "         q0        q1        q2        q3        q4        q5        q6\n",
        "    +---------+---------+---------+---------+---------+---------+---------+\n",
        " q0 | -       | a; X, R | -       | -       | Y; Y, R | -       | B; B, R |\n",
        "    +---------+---------+---------+---------+---------+---------+---------+\n",
        " q1 | -       | a; a, R | b; Y, R | -       | -       | -       | -       |\n",
        "    | -       | Y; Y, R | -       | -       | -       | -       | -       |\n",
        "    +---------+---------+---------+---------+---------+---------+---------+\n",
        " q2 | -       | -       | Z; Z, R | c; Z, L | -       | -       | -       |\n",
        "    | -       | -       | b; b, R | -       | -       | -       | -       |\n",
        "    +---------+---------+---------+---------+---------+---------+---------+\n",
        " q3 | X; X, R | -       | -       | b; b, L | -       | -       | -       |\n",
        "    | -       | -       | -       | Y; Y, L | -       | -       | -       |\n",
        "    | -       | -       | -       | a; a, L | -       | -       | -       |\n",
        "    | -       | -       | -       | Z; Z, L | -       | -       | -       |\n",
        "    | -       | -       | -       | c; c, L | -       | -       | -       |\n",
        "    +---------+---------+---------+---------+---------+---------+---------+\n",
        " q4 | -       | -       | -       | -       | Y; Y, R | Z; Z, R | -       |\n",
        "    +---------+---------+---------+---------+---------+---------+---------+\n",
        " q5 | -       | -       | -       | -       | -       | Z; Z, R | B; B, R |\n",
        "    +---------+---------+---------+---------+---------+---------+---------+\n",
        " q6 | -       | -       | -       | -       | -       | -       | -       |\n",
        "    +---------------------------------------------------------------------+\n",
        "```"
      ]
    },
    {
      "cell_type": "code",
      "metadata": {
        "id": "B2e3u_yOOA_E"
      },
      "source": [
        "#@title Multiple Choice\n",
        "select_one = \"Zero or more a's followed by the same number of b's followed by the same number of c's.\" #@param [\"Not this one\", \"Zero or more a's followed by the same number of b's followed by the same number of c's.\", \"Some number of a's followed by one fewer b's followed by one fewer c's.\", \"An equal number of a's, b's and c's, with the empty string included.\", \"Some number (n, could be zero) of a's followed by n+1 b's followed by n+2 c's.\"] {allow-input: false}\n"
      ],
      "execution_count": null,
      "outputs": []
    },
    {
      "cell_type": "markdown",
      "metadata": {
        "id": "BXwy9vCEO1EX"
      },
      "source": [
        "### Trace Execution"
      ]
    },
    {
      "cell_type": "markdown",
      "metadata": {
        "id": "E8pe62gzO4Tk"
      },
      "source": [
        "Study the Turing Machine described in the file at\n",
        "\n",
        "https://firstthreeodds.org/17657741833134731255/tm101.xml\n",
        "\n",
        "Give its configuration history (i.e., a list of its instantaneous descriptions) given 01101#01101 as input, assuming B represents the blank symbol."
      ]
    },
    {
      "cell_type": "markdown",
      "metadata": {
        "id": "hIChK1MwPHWS"
      },
      "source": [
        "### Implement The Simple Language's Macro 8"
      ]
    },
    {
      "cell_type": "markdown",
      "metadata": {
        "id": "CQcWZTo1PLND"
      },
      "source": [
        "#### Macro 1\n",
        "\n",
        "X $\\leftarrow$ 0 (or X <-- 0: clearing a variable)\n",
        "```\n",
        "while X\n",
        "{\n",
        "  decr X\n",
        "}\n",
        "```"
      ]
    },
    {
      "cell_type": "markdown",
      "metadata": {
        "id": "xeAbbSFdPjrE"
      },
      "source": [
        "#### Macro 2\n",
        "\n",
        "X $\\leftarrow$ n (assignment statement)\n",
        "\n",
        "```\n",
        "X <-- 0\n",
        "incr X\n",
        "incr X\n",
        "incr X\n",
        "...\n",
        "incr X\n",
        "```\n",
        "The number of 'incr X' statements is **n**."
      ]
    },
    {
      "cell_type": "markdown",
      "metadata": {
        "id": "wfQEeFuZPkEA"
      },
      "source": [
        "#### Macro 3\n",
        "\n",
        "Y $\\leftarrow$ X (variable assignment)\n",
        "```\n",
        "Y <-- 0\n",
        "T <-- 0\n",
        "while X\n",
        "{\n",
        "   incr Y\n",
        "   decr X\n",
        "   incr T\n",
        "}\n",
        "while T\n",
        "{\n",
        "   decr T\n",
        "   incr X\n",
        "}\n",
        "```"
      ]
    },
    {
      "cell_type": "markdown",
      "metadata": {
        "id": "a0FQ59RrPkHj"
      },
      "source": [
        "#### Macro 4\n",
        "\n",
        "Z $\\leftarrow$ X + Y (addition --- repeated increment)\n",
        "```\n",
        "Z <-- X\n",
        "T <-- Y\n",
        "while T\n",
        "{\n",
        "   incr Z\n",
        "   decr T\n",
        "}\n",
        "```"
      ]
    },
    {
      "cell_type": "markdown",
      "metadata": {
        "id": "eIWywTohPkKs"
      },
      "source": [
        "#### Macro 5\n",
        "\n",
        "Z $\\leftarrow$ X * Y (multiplication --- repeated addition)\n",
        "```\n",
        "Z <-- 0\n",
        "T <-- Y\n",
        "while T\n",
        "{\n",
        "   Z <-- Z + X\n",
        "   decr T\n",
        "}\n",
        "```"
      ]
    },
    {
      "cell_type": "markdown",
      "metadata": {
        "id": "X7J-2f1rPkNr"
      },
      "source": [
        "#### Macro 6\n",
        "\n",
        "comp X (if X is 0 make it 1; if non-zero make it 0)\n",
        "```\n",
        "T <-- 1\n",
        "while X\n",
        "{\n",
        "   X <-- 0\n",
        "   T <-- 0\n",
        "}\n",
        "while T\n",
        "{\n",
        "   incr X\n",
        "   decr T\n",
        "}\n",
        "```"
      ]
    },
    {
      "cell_type": "markdown",
      "metadata": {
        "id": "e8h7H8WuPkQ1"
      },
      "source": [
        "#### Macro 7\n",
        "\n",
        "if X then A1 else A2\n",
        "```\n",
        "T <-- X\n",
        "while T\n",
        "{\n",
        "    A1\n",
        "    T <-- 0\n",
        "}\n",
        "T <-- X\n",
        "comp T\n",
        "while T\n",
        "{\n",
        "   A2\n",
        "   T <-- 0\n",
        "}\n",
        "```"
      ]
    },
    {
      "cell_type": "markdown",
      "metadata": {
        "id": "CPuJB6BZPkXW"
      },
      "source": [
        "#### Macro 8\n",
        "\n",
        "if X < Y then A1 else A2\n",
        "```\n",
        "!Decrement X and Y\n",
        "!Find which one hits 0 first\n",
        "!Execute A!/A2 depending on which hits 0 first\n",
        "!Would not work on both numbers being negative\n",
        "```"
      ]
    },
    {
      "cell_type": "markdown",
      "metadata": {
        "id": "g-XHV3kfR7rV"
      },
      "source": [
        "##### Hint:"
      ]
    },
    {
      "cell_type": "markdown",
      "metadata": {
        "id": "JBgGpZFGR_En"
      },
      "source": [
        "Use Macro 7 in your solution (twice!)."
      ]
    }
  ]
}