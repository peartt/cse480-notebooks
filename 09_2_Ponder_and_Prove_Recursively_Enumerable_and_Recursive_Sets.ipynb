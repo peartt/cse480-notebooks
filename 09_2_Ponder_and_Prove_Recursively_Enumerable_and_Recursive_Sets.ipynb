{
  "nbformat": 4,
  "nbformat_minor": 0,
  "metadata": {
    "colab": {
      "name": "09_2_Ponder_and_Prove_Recursively_Enumerable_and_Recursive_Sets.ipynb",
      "provenance": [],
      "authorship_tag": "ABX9TyM6K4AJw4szz5nQpwRnq8a1",
      "include_colab_link": true
    },
    "kernelspec": {
      "name": "python3",
      "display_name": "Python 3"
    }
  },
  "cells": [
    {
      "cell_type": "markdown",
      "metadata": {
        "id": "view-in-github",
        "colab_type": "text"
      },
      "source": [
        "<a href=\"https://colab.research.google.com/github/byui-cse/cse480-notebooks/blob/master/09_2_Ponder_and_Prove_Recursively_Enumerable_and_Recursive_Sets.ipynb\" target=\"_parent\"><img src=\"https://colab.research.google.com/assets/colab-badge.svg\" alt=\"Open In Colab\"/></a>"
      ]
    },
    {
      "cell_type": "markdown",
      "metadata": {
        "id": "KROWXw9EqAOY"
      },
      "source": [
        "# Ponder and Prove Recursively Enumerable and Recursive Sets\n",
        "## Due: Saturday, 27 February 2021, 11:59 pm"
      ]
    },
    {
      "cell_type": "markdown",
      "metadata": {
        "id": "uLXu2I4YqK2x"
      },
      "source": [
        "## TODO Exercise 14.4.1, RE and Recursive\n"
      ]
    },
    {
      "cell_type": "markdown",
      "metadata": {
        "id": "m7clQtUHqQDq"
      },
      "source": [
        "Do the first six parts only (we'll do part 7 in class together)."
      ]
    },
    {
      "cell_type": "markdown",
      "metadata": {
        "id": "ND770ZuCq5kG"
      },
      "source": [
        "1. Describe a decider to check whether the language of a given DFA $D$ is infinite."
      ]
    },
    {
      "cell_type": "markdown",
      "metadata": {
        "id": "MRG7nNwoq_qT"
      },
      "source": [
        "Your answer goes here."
      ]
    },
    {
      "cell_type": "markdown",
      "metadata": {
        "id": "5rVqkMA0kWFT"
      },
      "source": [
        "2. Describe a decider to check whether a linear bounded automaton $L$ working on an input $w$ will go into an infinite loop."
      ]
    },
    {
      "cell_type": "markdown",
      "metadata": {
        "id": "CzHz1MFfkWFY"
      },
      "source": [
        "Your answer goes here."
      ]
    },
    {
      "cell_type": "markdown",
      "metadata": {
        "id": "PBAwrOrkkWk7"
      },
      "source": [
        "3. Describe an enumerator for the language $Halt_{TM}$ similar to how the enumerator for $A_{TM}$ was designed."
      ]
    },
    {
      "cell_type": "markdown",
      "metadata": {
        "id": "BNHY7u_0kWk8"
      },
      "source": [
        "Your answer goes here."
      ]
    },
    {
      "cell_type": "markdown",
      "metadata": {
        "id": "8Jeqy8I_kWrR"
      },
      "source": [
        "4. Describe an enumerator for the language $\\overline{L_{UnivCFG}}$."
      ]
    },
    {
      "cell_type": "markdown",
      "metadata": {
        "id": "t9SwwfftkWrS"
      },
      "source": [
        "Your answer goes here."
      ]
    },
    {
      "cell_type": "markdown",
      "metadata": {
        "id": "98rHo7ggkWwM"
      },
      "source": [
        "5. Describe a semi-decider for whether or not a grammar $G_{1}$ has a language that is not contained in the language of another grammar $G_{2}$. That is, we must be able to enumerate all such pairs\n",
        "$(G_{1}, G_{2})$ such that $L(G_{1}) \\not \\subseteq L(G_{2})$."
      ]
    },
    {
      "cell_type": "markdown",
      "metadata": {
        "id": "tGMfPWVSkWwN"
      },
      "source": [
        "Your answer goes here."
      ]
    },
    {
      "cell_type": "markdown",
      "metadata": {
        "id": "55N7qScokW2I"
      },
      "source": [
        "6. Suppose someone claims to have a decider for $L(G_{1}) \\subseteq L(G_{2})$. Demonstrate how to build a reduction proof from $UnivCFG$. Draw a diagram similar to Figure 14.1 explaining your proof."
      ]
    },
    {
      "cell_type": "markdown",
      "metadata": {
        "id": "Y5s-HiojkW2J"
      },
      "source": [
        "Your answer goes here."
      ]
    }
  ]
}