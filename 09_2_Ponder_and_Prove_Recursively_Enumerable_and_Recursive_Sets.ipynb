{
  "nbformat": 4,
  "nbformat_minor": 0,
  "metadata": {
    "colab": {
      "name": "09_2_Ponder_and_Prove_Recursively_Enumerable_and_Recursive_Sets.ipynb",
      "provenance": [],
      "include_colab_link": true
    },
    "kernelspec": {
      "name": "python3",
      "display_name": "Python 3"
    }
  },
  "cells": [
    {
      "cell_type": "markdown",
      "metadata": {
        "id": "view-in-github",
        "colab_type": "text"
      },
      "source": [
        "<a href=\"https://colab.research.google.com/github/peartt/cse480-notebooks/blob/master/09_2_Ponder_and_Prove_Recursively_Enumerable_and_Recursive_Sets.ipynb\" target=\"_parent\"><img src=\"https://colab.research.google.com/assets/colab-badge.svg\" alt=\"Open In Colab\"/></a>"
      ]
    },
    {
      "cell_type": "markdown",
      "metadata": {
        "id": "KROWXw9EqAOY"
      },
      "source": [
        "# Ponder and Prove Recursively Enumerable and Recursive Sets\n",
        "## Due: Saturday, 27 February 2021, 11:59 pm"
      ]
    },
    {
      "cell_type": "markdown",
      "metadata": {
        "id": "uLXu2I4YqK2x"
      },
      "source": [
        "## TODO Exercise 14.4.1, RE and Recursive\n"
      ]
    },
    {
      "cell_type": "markdown",
      "metadata": {
        "id": "m7clQtUHqQDq"
      },
      "source": [
        "Do the first six parts only (we'll do part 7 in class together)."
      ]
    },
    {
      "cell_type": "markdown",
      "metadata": {
        "id": "ND770ZuCq5kG"
      },
      "source": [
        "1. Describe a decider to check whether the language of a given DFA $D$ is infinite."
      ]
    },
    {
      "cell_type": "markdown",
      "metadata": {
        "id": "MRG7nNwoq_qT"
      },
      "source": [
        "* A DFA has an infinite langauge if there exists a cycle between the initial and final states.\r\n",
        "* If D accepts a string of length k where n$\\leq$ k$\\leq$2n and n is the number of states than there must be a cycle in it. This is proven by the pumping lemma theorem.\r\n",
        "* The Decider enumerates over all strings of length between n and 2n, if it accepts any of them than it is infinite, else it is finite."
      ]
    },
    {
      "cell_type": "markdown",
      "metadata": {
        "id": "5rVqkMA0kWFT"
      },
      "source": [
        "2. Describe a decider to check whether a linear bounded automaton $L$ working on an input $w$ will go into an infinite loop."
      ]
    },
    {
      "cell_type": "markdown",
      "metadata": {
        "id": "CzHz1MFfkWFY"
      },
      "source": [
        "* Because a linear bounded automata has a finite tape length our decider can store the configuration of the tape at each state.\r\n",
        "* The decider operates L on w recording the configuration of the tape at each state.\r\n",
        "* If the deicder enters a state it previously visited with the same configuration thus because linear bounded automaton are deterministic it will loop."
      ]
    },
    {
      "cell_type": "markdown",
      "metadata": {
        "id": "PBAwrOrkkWk7"
      },
      "source": [
        "3. Describe an enumerator for the language $Halt_{TM}$ similar to how the enumerator for $A_{TM}$ was designed."
      ]
    },
    {
      "cell_type": "markdown",
      "metadata": {
        "id": "BNHY7u_0kWk8"
      },
      "source": [
        "* Keep listing pairs (A, B) of strings $\\Sigma^*$ on an \"internal tape.\"\r\n",
        "* Keep checking whether A is a Turing machine description (e.g., our markdown language for the TM has a parser; one can run this parser and see if it accepts A. If so, A happens to be a Turing machine description.\r\n",
        "* Run turing machine A on B, treating B as its input. Again, do not run to completion; instead, engage in a dovetailed execution with all other TMs and inputs meanwhile being enumerated internally.\r\n",
        "* When the dovetailed simulation finds an (A, B) pair such that A halts on B, it lists the (A,B) pair on the output tape.\r\n",
        "* This listing will produce every (M, w) such that M halts on w."
      ]
    },
    {
      "cell_type": "markdown",
      "metadata": {
        "id": "8Jeqy8I_kWrR"
      },
      "source": [
        "4. Describe an enumerator for the language $\\overline{L_{UnivCFG}}$."
      ]
    },
    {
      "cell_type": "markdown",
      "metadata": {
        "id": "t9SwwfftkWrS"
      },
      "source": [
        "* On an internal tape enumerate over all possible strings in $\\Sigma^*$. For any that are valid CFG (e.g., our markdown language for the CFG has a parser; one can run this parser and see if it accepts ) write them to a second interal tape B.\r\n",
        "* For each CFG C in B execute a dovetailed execution on C for all potential inputs. If for any input that C rejects, meaning that the string is not a part C's language, write C to the main tape.\r\n",
        "* Any CFG that has a universal language will not halt and thus will not be written to the main tape.\r\n",
        "* The resulting main tape will contain all CFG with a non universal language."
      ]
    },
    {
      "cell_type": "markdown",
      "metadata": {
        "id": "98rHo7ggkWwM"
      },
      "source": [
        "5. Describe a semi-decider for whether or not a grammar $G_{1}$ has a language that is not contained in the language of another grammar $G_{2}$. That is, we must be able to enumerate all such pairs\n",
        "$(G_{1}, G_{2})$ such that $L(G_{1}) \\not \\subseteq L(G_{2})$."
      ]
    },
    {
      "cell_type": "markdown",
      "metadata": {
        "id": "tGMfPWVSkWwN"
      },
      "source": [
        "* Create two internal tapes for the languages of $G_1$ and $G_2$. \r\n",
        "* Enumerate over all strings in $\\Sigma^*$ and simulate it on $G_1$ (e.g. assuming we have defined $G_1$ and $G_2$ in some way). If $G_1$ rejects any input it is removed from the tape.\r\n",
        "* Repeat the above process for the second tape on $G_2$.\r\n",
        "* For each string in L($G_1$) in the first tape represented as $S$, enumerate over all values in L($G_2$) on the second tape. At each step the following two conditions are observed.\r\n",
        "  * If S equals any element in L($G_2$), S moves to the next element in L($G_1$). \r\n",
        "  * If we reach the end of the second tape then the turing machine accepts ($G_1,G_2$). \r\n",
        "* If we reach the end of the first tape then the TM rejects($G_1,G_2$). "
      ]
    },
    {
      "cell_type": "markdown",
      "metadata": {
        "id": "55N7qScokW2I"
      },
      "source": [
        "6. Suppose someone claims to have a decider for $L(G_{1}) \\subseteq L(G_{2})$. Demonstrate how to build a reduction proof from $UnivCFG$. Draw a diagram similar to Figure 14.1 explaining your proof."
      ]
    },
    {
      "cell_type": "markdown",
      "metadata": {
        "id": "EcOgH0dGhWXP"
      },
      "source": [
        "* Assume L($G_2$) $\\eq$ $UnivCFG$.\r\n",
        "* The impossible decider is then given another grammar called $G_{user}$.\r\n",
        "* If the impossible deicder existed then it would decide that $G_{user}$ $\\subseteq$ $UnivCFG$. Which is impossible given the infinite language generated by $G_2$.\r\n",
        "\r\n",
        "![Untitled.png](data:image/png;base64,iVBORw0KGgoAAAANSUhEUgAAAyAAAAJYCAIAAAAVFBUnAAAAAXNSR0IArs4c6QAAAARnQU1BAACxjwv8YQUAAAAJcEhZcwAADsMAAA7DAcdvqGQAAEtoSURBVHhe7d0HYJXV3YDx7IQsSFgh7Cl7yRIQWQJuGaLY1mqHo37OulpbS917VS3iABEBIWxE2VA2AZIQIIMMMgnZeyf3+9+cQwxhCHhC1vP78qXnnPe9N/fm0pun731zY2uxWGwAAABgjp3+TwAAABhCYAEAABhGYAEAABhGYAEAABhGYAEAABhGYAEAABhGYAEAABhGYAEAABhGYAEAABhGYAEAABhGYAEAABhGYAEAABhGYAEAABhGYAEAABhGYAEAABhGYAEAABhGYAEAABhGYAEAABhGYAEAABhGYAEAABhGYAEAABhGYAEAABhGYAEAABhGYAEAABhGYAEAABhGYAEAABhGYAEAABhGYAEAABhGYAEAABhGYAEAABhGYAEAABhGYAEAABhGYAEAABhGYAEAABhGYAEAABhGYAEAABhGYAEAABhGYAEAABhGYAEAABhGYAEAABhGYAEAABhGYAEAABhGYAEAABhGYAEAABhGYAEAABhGYAEAABhGYAEAABhGYAEAABhGYAEAABhGYAEAABhGYAEAABhGYAEAABhGYAFaeXl5fIXMzEy9dKWWLFmiR2cbPHjwP/7xDz25fHl5eTNnzvTx8XFwcNBLlyk2NvbEiRN6cgnS0tK2b9+ekJCg5xe2YMECe3t7PTFHPSKV9OoZoaGh/v7+8m3R8zNkXY/OCA8Pl/uiJxdw9OjRrVu36slFpaSk7N27t+oVnjp1St/ECnr1jOLi4t27dx8/flzPATQGFgAVpF30fytsbFq1ajV9+vSoqCi97XJ88803cg0BAQF6XoWzs/OLL76oJ5dv9uzZ3bp1CwwMXL58uV66TDNmzBg7dqye/JLf/OY3ckf69esnn2+//Xa9egFyryX79ORKPfroo6+99pqeWCxz5syxPhhVSDmpTe+8845eqvDb3/42PT1dbTp9+rSsrFq1Sk2VoUOHvvzyy3pyAfKId+7cWU8uIDg4WK5KfVExYcKEwsJCWXdxcdFLFebNm6f2l6iaPHmyrHh6espnd3f3qncQQAPGESzgZ927d5f/VmRmZi5btiwuLu6aa66Rz3rbJbvvvvsOHDgwcOBAPa+iqKhIj65IYmLikCFDBgwYMG3aNL10+crKyvTooiRQvvvuuzVr1hw5ciQ2Nnbw4MF6w4WVlpbq0ZVydHT84Ycf9OQM9VSlyCMiKx9//PGzzz770UcfpaWllZeXy0AuNWvWLLW/Ymd32U9uUkU7d+7Uk/PJyMgYOXJkmzZtjh49KjdG4qlly5YRERGySb6rL7zwQuoZ999/vyzu2rWrd+/eHh4ekmVZWVlyU+Vb+msOYQKoRwgsoLqmTZuOGTNm//797du3r/rjcPfu3W+++ea//vUviQ+9VGHx4sUvvvjiu+++Kz9HZbpkyZIff/xRfpqqrTt27HjrrbfeeeedY8eOqZVK69evl+t//fXXDx8+rFZyc3NlKj+tX3vtNRmoReXDDz+UH/+Sbp9++qncErUoX1pSQ67/4MGDakW88cYb0jpz5sx56aWX9FIVlxhYe/bsadu27W233SZj+T7IvVbrckc2btyoxkK+IVVfQJSCfP/99+W7UXWfyMhIudSjjz4q91cv2dicOHFCOkmiRLJGrXzwwQdbt26VupX122+/XS2e13vvvff0008//vjj3t7etra2Mvjyyy83bNiwdu1avcdFyfdHUmndunVPPvnkZ599pldtbFavXr18+XIZyJ1aunSpWhRSb7Iig5dffrlFixayW58+fWTaq1cv+f6rsdwMV1fX5mdYL2Zj89RTT02cOFFivW/fvmofuV+V/zAANGwEFnBB0gSVB1SkeEaPHi11Ip00derUzz//XK0/8sgjf/jDH7KysqQYRowYIYXh4eEhOXLq1CnZKp0xduxYiRVJKPVTttKf/vSn2bNnyw9sqbEhQ4bIPrIYHh4udSJ5J8H0yiuvqD2VXbt2JSUlpaamyk2S3SIiInr37v1///d/TZo0kRYcOnSoigNJq7///e933HGH/OyXa4iNjVUXr3SJgSVXKOX0z3/+U8/PWLRoUWUOylX97W9/CwkJUVMxcOBAaR25bZMnT5YckZVDhw5JiOTk5HTt2vXWW29Vu0lz9OvXT+6O5JR895544glZlHuRnJwcExMjqXTuSVSVAgIC5E5df/31el5h2rRpXl5el3iSk5TrrFmzJEzt7e3lIZZHU61L3n311VcykG/yv//9b7UoPvnkk6CgIBlIwD3wwANq8RcdPXpUHkR11wA0RurAO4CZM2eqlwgrrVy5Uv47Ih2gDj5J4qj13/72tz169JDB5s2bZX3Hjh1qXabyed26dbIYHx8vYwkd+VlesdGiAkidg7VkyRI3N7e0tDS1qXPnztOnT5eB5Ijs8/jjj6v1aiZOnDhhwgQ1fvjhh6+77jo1Fvfcc8/IkSNlUFJSItcwZcoUtV6NfBWJOT35Je+8846jo6Ovr69kVnl5uVqUhHrjjTfUWL0muGnTJhmrM88WLlyoNj355JOSUDKQZJF7qhYrderUae7cuWqszqaSQpXx3XffXfXmqXOw5OItW7bs0KHDH//4R1lUv0CQl5en9qnUrVs3aVYZqHOw1qxZo9aVqudgubu7y+Oixv/9739l59zcXBlLPPXv318G+/btk8UDBw7IOD09Xcby2KkwXbBggfVi53BycpJb/vTTT0vdCrk76h9PYmKibM3IyJAUlodVemvSpEnqIgAaNo5gARekYsXT01MdpNmzZ89bb7315ptvys/j8PBw+RwVFeXi4jJmzJiK3a2nPKtBpYMHD954441qPG3aNAkFNT5y5Ii3t/eXX34p1yaaNWtW9eiLRJgenc3e3t7Z2VmNd+7cOX78eDUWN910k8oCRX7S69E5LvEIlnjmmWcSEhLuu+++V155pdoRowtR58ULib/g4GDJoL59+8rnhx56aP/+/WrTiRMnTp48Kd9S9c1Ux9hUwkrPubq6Vuz1s9WrVy9evHj+/PnqaJCquuLi4oqNP5MHy9bWVk9+yb333qsGUqXyOSUlRU2V4cOH9+rVy8/PT8bSSU2bNpXHTn1FedKs2KU6+dJyA+R6JJoLCgpkZ3U71f6ySRpLSn3p0qXq0CaABo/AAi5IOqBdu3ZNmjRRB0WkaaQSgoKCpIceffRRd3d3+YHq4eGhdj6X/HC90BscJCcnSy3t2rXL399fQmTQoEH33HOP3nZh0h+VgSU/p6t+aanA8vJy+SmuphdJjUsPLCFF+MYbbyxfvnz37t0//vijXr0A+YbokY2NOg8pKytr2LBhch9zcnJGjBjx5z//WRbVNzMwMHDv3r3yOTs7W/JL/U6AfKvPDSzJVjFu3Dj1+4w+Pj7yecOGDRUbf5aent6tWzcZqPewqFZgEnlVf9Gv8hR49f08N5vuuusuFVirVq2aMWOGDOTiHTt2lH8SFdvPQ+JywYIFc+bMef/991u0aNGzZ09ZlDson+XbuHDhwu+//15a/EKJBqCBIbCA80tNTZW2uPvuu2XcpUsX+fzll1+uWLFi8eLF8+bN++STT9S6NFZubq71AueQypHOkJbS8yo6d+4sP+PXrFkj7fLdd9999dVX5z0hvRqnCmosXzoyMlKNRWxsrPxQ9/Ly0vMLkJ/u6sjKZZk2bZrcFxVGEkCVGSfZpAbnCgkJkZvq6+sr4yFDhixatOjQoUPqG6i+ma+88oq0y5IlS+bPny9RImkli9Xe7OC8+vTpIwl19OhRPa/w9ddfy41RBwu9vb0lPau+3VdSUtLx48clj/T8EkhgRUVF/fTTT2vXrpWxWpTOky+kxueqfGiUvn37yh1/s+Ls+EqSyHoEoKEjsICzhIeH+/v7f//996NHj5af96p7pkyZ0r59+w8//FD9Clh8fLwKr5tvvrlp06YffPCB/HSX3PnLX/6SnZ1tvZYzpk+fLjUWFhaWlZX1yCOPSLSp9TvuuEN+fqsTgISU1i8eHxLyI7zy0IvcAD8/vy1btsh479698oP/ueeeU5t+0cEzLnI8xtPTc9myZXl5eQUFBer8MMkFWe/du/fKlSvj4uIkWW655Ra1syKhOXPmTLlfwcHBn3766UMPPSSL3bp1UyeW5efn29vbu7m5SXVNmjTp/vvvVy/MyXdGwst6eRsbaUS5VVJyVdsxNDRUvoGKTH18fP72t7+9+uqrkmXyQMi39J///Ocf//hHqcBBgwapizz44IOyz7fffiu3PyIi4sknn5SilR3U1kuh8uj999+XW6veyErIdcbExMi9PnDgQFpa2u7duyXp1O9LnveQodzInTt33n777fL51KlTEtPqWwGgUZDnTQCi8vwhd3f3AQMGPP3009IWepvFsmPHjuHDh8tW+YkrlfD73/9era9ataryuJE6n73qSe5JSUnqDC1poxdeeGH8+PHqJHexaNGidu3aVVzOep233nqrLKofwFIYap9q7rvvvspT5oXcQklAR0dHufJnnnlGLarzxtSJ5+f63e9+V/EFNbkGveEcn3/+ueSO2q1Lly5ya9X6sWPH1BsTyBdVgVh5knuvXr0ee+yxiktYC7K0tFTWX375ZQ8PD3X0SAK04josUrF33nmnrKj1GTNmqPWgoCD12uINN9wg08rwqrR161a1pwScNJNabNu2rZSu1Nv8+fPVViHfZ2lftcNtt912+PBhvaHiFTppRzVWv66o3lG28iR35e2335ZNTzzxhJ5XCAgIkPJWr0J6e3tX3iN5IKS/1biqwMDAcePGyZ6yv5DvpHSh3gagQbOV/1f/zQegTtyp9lpPVbJDamqqeuWrqlOnTskP+FatWqlpVlZW5U93kZmZ2axZMxkUFRVVnkSl5FQ49wrPS/7bWl5eLl9IzyvIl27Tpo2emBYRESEx0alTJz0/Iz09vTIaqklISJBN6iW/SomJifLNUV1SlazLN0qCVc8rDnTJojqbSlQ7laraQyN7SlCqSnv99ddfffVViT9/f3+1VUgOylVV+54bkZKSUvkrC0Ju50X+2Qh1uK7qRQA0bAQW0Kips7CrkRKq9q5d9UJSUtLChQufeeYZPQeA2kNgAY3XypUrH3/8cT2pomvXrtu3b9cTAMDlI7AAAAAM47cIAQAADCOwAAAADCOwAAAADCOwAAAADCOwAAAADCOwAAAADCOwAAAADCOwAAAADCOwAAAADCOwAAAADCOwAAAADCOwAAAADCOwAAAADCOwAAAADCOwAAAADCOwAAAADCOwAAAADLO1WCx6iHqqrNQmPsYmMcYmI80mP1cvAkAD5upu49XcxrejTbuONvYOehGoSwisei7+pE3QfpuCfD0FgEaliavNgOE27TrpKVBnEFj1Vnm5TdABm8gQPQWARqtrL5sBw2zsOOkFdQj/HOst6goAFHkylKdEoC4hsOqn+JPUFQD8TJ4S5YkRqDMIrHqorNR63hUAoCp5YpSnR6BuILDqofgYzmoHgOrkiVGeHoG6gcCqhxJ5BgGA8+HpEXUGgVUPZaTpAQCgKp4eUWcQWPUQ7yYKAOfF0yPqDAILAADAMAILAADAMAILAADAMAILAADAMAILAADAMAILAADAMAILAADAMAILAADAMAILAADAMAILAADAMAILAADAMAILAADAMAILAADAMAILAADAMAILAADAMAILAADAMAILAADAMAILAADAMAILAADAMAILAADAMAILAADAMAILAADAMAILAADAMAILAADAMAILAADAMAILAADAMAILAADAMAILAADAMAILAADAMAILAADAMAILAADAMAILAADAMAILAADAMAILAADAMAILAADAMAILAADAMAILAADAMAILAADAMAILAADAMAILAADAMAILAADAMAILAADAMAILAADAMAILAADAMAILAADAMAILAADAMAILAADAMAILAADAMAILAADAMAILAADAMAILAADAMAILAADAMAILAADAMAILAADAMAILAADAMAILAADAMAILAADAMAILAADAMAILAADAMAILAADAMAILAADAMAILAADAMAILAADAMAILAADAMAILAADAMAILAADAMAILAADAMAILAADAMFuLxaKHqC/85ukB0LAUl9nvS+7on9oxMrt5SqGHXkU919Ilp6tn2tAWMSNaxTjZl+nVmjPjAT0AahWBVQ8RWGiI9p7uOP/E8PQiNz1Hg+PtnHd/9/3XtY7R8xpCYKFu4CVCALWsrNz2q7Dh7x8dT101bPL4yqMsj7U84noJaLgILAC1bP6JYT/F99YTNHTyWMsjridAw0VgAahNe093pK4aG3nE5XHXE6CBIrAA1JriMvv5J4brCRoTedzl0dcToCEisADUmn3JHTnvqnGSx10efT0BGiICC0Ct8U/lR2zjxaOPho3AAlBrIrOb6xEaHx59NGwEFoBaw7uJNmY8+mjYCCwAAADDCCwAAADDCCwAAADDCCwAAADDCCwAAADDCCwAAADDCCwAAADDCCwAAADDCCwAAADDCCzzLBaLv7//0aNH9fyiTpw4ERsbqydnhIaG6hEAAKiHCCyTEhISZs6c6ejoOGbMmH79+jk7Oz///PN62wW8/fbbd955p55UWLly5eDBg/UEAADUQwSWMeHh4b17987IyPD39y8oKLBYLOvWrZN+0psvzM6ORwEAgAaFH+3GPPXUUx06dNi0adOgQYPUyo033iiZpcYXcfHAWrx48fPPP//qq6+GhYXpJRubtQcD//ad31ur1ocmnFIriekZr69Yl1dY9O+lq2WgFgEAQK0gsMxIT09fv379448/rueXw9bWVo/O8eyzzz788MOdOnXKzMz88ssv1eJvPvr8vbUbTmVkLt93cMjz/z4aGy+LoQlJLy5eMeLvrx6NS/jH4hVqTwAAUCsILDMiIiLkc+W5U4899tgTTzzx5JNPvvTSS2rlIi5yBGvjxo333HPPI4888u67777zzjuy8sUXX2w7Grr938/P/78/HXjzJXs7uw9/2KR2FncMHbTsr38pX/a1ngMAgNpAYJlRWloqnytfEMzIyDh9+vTatWs/++wztXIRFzmCdf31169cuXLu3Lm5ublqJTAwsKWnx9ur1r+58gf5aOPV7Hh8otokXppxux4BAIDaQ2CZ0bNnT/kcFBSkpgsXLlyyZMn06dPV9CIcHR2Li4v1pIK0lIuLixp/8sknr7zyynvvvde2bdsVK6wv/CUnJ8ekpu0KPXEw8mRwbPyoa7pNHcavHAIAULcQWGZ4e3vffPPN6lW8Sg4ODr94knvHjh0TExOrNtahQ4c6dOigJzY2Dz30UFhYmHx+9tlnZdq5c+fuPq3XvPCE3zOPfvfEQ1/95Q/P3nGT2hMAANQRBJYxr732WkxMzA033LBt27a4uLjjx4/v2LFDb7uwO+64Iy0t7YEHHoiMjMzNzZ0/f/5HH3305z//WW39+OOP1SAiIkId1po6derBqJPfbN+t1g9HxewKCVdjAABQRxBYxgwcODAkJMTb2/uee+7p0KFDnz59pLd+8Y1Ge/bsuWrVKtmzW7duHh4esr8E1qOPPqq2Lly40NbW1sfHR3LtP//5j6xcd911Xz3ywLPfLrW96w/yMf3dT+Zs2q52BgAAdYTtpbxREy5XRkZGUVGRhJGeXwK5SHZ2dseOHfX8jMTERGdn5+bNm+u58Jsnn7Ly8vOKiny9vdQaUB/dteUBPUKjtGyC9dnMsBn8o0KdQGBdDYGBgXp0toEDB+rRZakILKABILAaOQILDRiBdTXY29v7+vrqSRW7du0695DVLyOw0FAQWI0cgYUGjHOwroaysrK487mSugIAAHUegQUAAGAYgQUAAGAYgQUAAGAYgQUAAGAYgQUAAGAYgQUAAGAYgQUAAGAYgQUAAGAYgQVUV1hcokcAAFwRAgs4S1JG1qBn//Xhuo16DgDA5SOwgLP8FBgcmpj01DdLaCwAwBUjsICz3D9u9Ae/v0cGNBYA4IoRWEB1T946icYCAPwathaLRQ/NmT17th6hJhwP0APUpO93HwhNTJKBxJYkl1qEWXdteUCP0CgtmzBPjwyawT8q1Ak1Eli2trZ6BDQIAW/PHti5g57AHAKrkSOw0IBxBKse4gjWVcERrKuAwGrkCCw0YDUSWKhZfjXwlISzfbhu41PfLJEBdVWjCKxGjsBCA8ZJ7kB11BUA4FcisICzzNm4jboCAPxKBBZwlrF9evo086SuAAC/BoEFnKVn2zYhH75OXQEAfg0CC6iumZurHgEAcEUILAAAAMMILAAAAMMILAAAAMMILAAAAMMILAAAAMMILAAAAMMILAAAAMMILAAAAMMILAAAAMMILAAAAMMILAAAAMMILAAAAMMILAAAAMMILAAAAMMILAAAAMMILAAAAMMILAAAAMMILAAAAMMILAAAAMMILAAAAMMILAAAAMMILAAAAMMILAAAAMMILAAAAMMILAAA6rqkpKRx48aFhobqOeo8AgsAgDpN1dX27dtprHqEwAIAoE7LrCADjmPVIwQWAAB1Ws+ePbdt2+bj4yNjGqu+ILAAAKjraKx6h8ACAKAeoLHqFwILAID6gcaqR2wtFoseor7wm6cHQD1315YH9AiN0rIJPz+b2d71Bz3C5ZDYkuSS8NJz1BkcwQIAoL5KSkqaNWuWnqAuIbAAAKivfHx8Fi9erCeoS3iJsB7iJUI0FLxE2MhVfYnQmBkN/B9VaGjouHHjkpKSZMzrg3UZR7AAAKgfqKt6hMACAKAeoK7qFwILAIC6jrqqdwgsAADqNOqqPiKwAACoH6ireoTAAgCgTpOikq4aOHAgdVWPEFgAANR10lUBAQHUVT1CYAEAABhGYAEAABhGYAEAABhGYAEAABhGYAEAABhGYAEAABhGYAEAABhGYAEAABhGYAEAABhGYAEAABhGYAEAABhGYAEAABhGYAEAABhGYAEAABhGYAEAABhGYAEAABhGYAEAABhGYAEAABhGYAEAABhGYAEAABhGYAEAABhGYAEAABhGYAEAABhGYAFoaPJz4wpyE/SkVqUnH0xL2qvGfnPs4iP91LiqoD1/9ZtjryeXad0CX7/PHfTkcsSeWKxHZ1vxhevhnY/qCYBfgcAC0NAc2fvc/s2z9KRWHdnzdOCeJ9XY3qFJSXGmGlfTut1EPbpMLdrc4N1yiJ5cssSTaw5suTc5YbueV+Hs0kKPAPw6BBYA1JQRk/1G37xeT2xsSoqz9ciQspJcPbocvp1uHz91f6u2Y/W8iqLCFD0C8OsQWAAasrDAd9NO709J3HFk73OhAW+pxahjnwfveyE+armaitDDbxQVpCZErQzc/VRM2AK9WkGq6GTYNwG7Hg8Pej8vO1qv2thkpAaEHH798M5HkxO2qZXioswTwR8H7Py/uIilaiV473NBe55WY0WuPGjPX0+Gztfzc2SkHJLbfPTAP+IiluilsxUVpkUEf3LMf3ZizLqiwlS9WiE92T8s8J2Ky+oboMRHrTh24CW5+3LlMs3LiUmK+6m4MF1tTU8+KJcKDXhTBuVlhWpRSYrbKF8o5NCrqad26SUbG7nX8lkusnPdZLUC4FwEFoCGLDF65ZG9f/Xf+vv05ANH97+w56c7d66bknhydU5W+L6NM07HbVK7SZQc3PZA5LFP7R2ayHj7an1053T8lp8W90iI9HNy9kpO2LJxaV+pEFk/FbN+i99gWxtbN/eOO9dNkhWpqy3Lh+RmnfBods3+zXfnZkfJYlFhSmFeovWKKsRHLo0O/Voq5/ihf29bOUqvVhFx9FO5ktKS3PycmP2bZ0n26Q1nlJbk71g9Ni7y++KitD0/3paTGao32NhI221dMaysNF8qUG5AWMDbal3Kct/G6YWFyfk5J+XKC/NPF+TGHz/4r4J86w2T+tyx5oaUxO3Z6ce3rhiqLqJIUx7Z87Sjk4fk6fbV1yfF/iSLcr+OHXjxf2tvlMXkRF2WAM5FYAFo4MrLiibeFTD2ju2Dx8yVtGruc93oW9aPnLzCq9Ww+Kifzzp3dPEec9vmfsNfHzj649RTO1KT9sjiiaD3WrWdMOrmtX2G/nv0zT809e4fHvSerGekHnJxbdNz8N+uGfTc9IdKZCU7/WhRQcqg0f/p1u+xGQ9b3D27WK/0bK4eneVmyMeIid+nnd6TnLBVb6gg6RO877mRU9b0GTp72IRvu/d/KvzI+3rbGZHHPisuzpDbKV/opnuj7B1c1XpBbsKRvc+OuumH3kP+NXzid137PqYuKzkYHvSOXOe1Y+YMHvPfsXfsdHFtrS6iRB79tKXvWLlrwyYsGH3LBr0qBRn7Y+TR/4y+5cceA/465rZNXi2HqDuuNHFvN/rmddMfLNZzAOcgsAA0cK3bTXJy9pKBVyvr+eBdej9UsWxTWpxT9ZSjdl1mqEHbznfaO7hlpgbIODlxe6u249W6aN1+ckaKvwyaNR9QmH8qaM8zmWlH1CYPr162dg77Ns6slk1VtesyTQ28Ww9zcm6emRqopkpOZmhZab583dCAt0ID3iwqSC0uTM3LidGbK2SlBbXyHWdv7yxjN8/OLX1vUOvZmaGW8uLKyxYXphUVnJbqys+xvqbZur31GJto0Wa0GlSSUmzVVp9i79N+knvT7mosvejg6BF3YrFcm3zY2TtnZxxTm0TPQX/TIwAXQGABaOhs9ROdrfxfFS3aXG9jKdeTszk5e5cWZxcXZZSXFTg6eepVGxsZy6IMfDvdPua2LbmZYZuXDTiy9zlZcXZpPnH6QSeXFv9bO2H3+tsqdr8YJxfvkuIsPalQmH9aPmekHEw/vS8zNcjWzr5z74fcPDqqrUpB3vnffkJySj6nJ+9Xl7Wzd5LLNnFvW1SQYmvnpILsvKq+gllBf4uKCpJlnJq0KyPZPyvtiHvTHh17/F5tAnApCCwADZztmcA6l6VKYOWfOVZUXJhekBfn6tHJydnL0dk7J+uEWhfSN+5Nu6lxq7bjR928dtTN68OD3kk/fUBW3Dw7Dx7z2U33RqcnH6g8ob6qynPkS0usZ0q5eXRSU8Wt4lXFawa9MHLKyhE3Lh46bt61Y+aoTZWcXVoUF6bpSRXqsr2H/KvaZWXdUl58kXcFc3Jpft7fHHTz6Czft1E3rblu8vLhExcNHfd1vxHVTwgDcBEEFoDGq2pgHfP/54ngj8vKikIOv+bi2ka9Ytih+2/iTixOiF4t48STa2PCF/Tob/2twE3LBhYVWLtEvXGUvaNr0J5nEqJWytjJxVuqxeHM2VFVHT/0cljgO+XlpSGHXnFw9GjX9S69oYJ3qyFNmw+Ii1hSXmY9t6mwIDk65Eu1qVKbTrcnxf2ozs2PCP5PXIR+v9DmrUd4evWJCf+2vMx6QlhhftLejdYr9+kwpYlb+4hjnxYXZRTkJcqNzM+JrbiE1rbzNLlTEohyq4L2/DX3TE226XRbSXFmeJA+Cex0/JZqv5kI4OIILACwatd1Zujh11d+4XIydN7Q8Qvs7B1lsd/wN5q1HLx34/Tlc533b551zcDn2ne7W9Zb+o5dt8D3x++6bl0xvNfgfzb17tvUu8/hnX9Zt6Dt6q+bNm3ev1u/xyqu9Wdlpfk9B/0t5NCrK+Y6Rh7/77CJ3zk4uuttZwwZ+1V2+rEVXzj/8G17+Ug8uUZvOKNjj9926fOXnT9MWfGF6+n4zfKl9Qa57Lh5WWlBK75wkguuX9jJYinT62O/ign7Zs087x++bSv95OrRQa0rvYe81NS739aVw1fMdbaUl7btPFWtu7q3v27yyqjjc/zm2K6d31rue+SxT9UmAJfC1mKx6CHqC795egDUc3dteUCPapvfHPtRN61t0/HmwvwkF1cfvVpFUUGKc5OWelKhrLSguChDdq76EmRBXqKTs7e9g4uen6O8vLSoILmJm6+en4+lvKyw4LRzk1Z2dhf8MzglRVmOzk1lUFZWVPUUK3X9Lk1a29qd9ed3CguS5Xor71pJcXbVc8tKS3LtHVzljlS7NlFakldSnHXxG3zFlk2ogWezGXXlHxUaOY5gAcDPzltXolpdCXuHJpId1U7wkpWL1JWQZvrFWJE2kn0uUldC1ZWo1kPq+qvVlXBp0qrqXataV8LB0V3dkXNPh3dwdPvFGwzgXAQWAIjz/zohAFwZAgsAbGY8bGnT8WY9AYBfjcACAAAwjMACAAAwjMACAAAwjMACAAAwjMACgMtjfU+pGlBDVwugVhBYABqmoD1Pr/+u88bv++r5ZSouyszJDNeTKg7teNB/a/U/e1xSnJOSuOO8+1+IxWLJTDuiJxVv9bnum9bJCdv1vIqCvMSE6FV6YkhGymG/ObaF+Ul6DsA0AgtAA5QQvfrEkQ96Dnxh0Jj/6qXLFHnssy3Lh+jJGaUleSfDvunQbZae29iknNq52W/I6q8992yYtmHJNT982z7q+Fy97cLio5b/uKjL/9ZO0POKt/ps3+3e+Mjv9byKE8Ef7d0w1VKu//SNQWVlRXp0RfJz42LCv9UTAGcjsAA0QIX5p9yb9ujS56GWba7XS5ev8s/5VUqIXmlra9e+2z1qGnti0Y7VY7xbDZsy68QdD6RN+3NR3+FvJMX9pLZeiP/W+wN3PebVYrClvFQvVWjffVZcxBI9qaL/iLcm3xN67puz17rTcRsCdj6qJwDOxt8irIfq3t8iLLErP9QuLcg3I8YrL83tV/1vYpjVPM+5Y4bbgESva+ObO5bXuf9BVUN/i3DvxrtKirMykv37DHvV3t65c68/yWJC9OrM1MO2tvZNvfu17aL/pHFowFs+HW7KzYpISdzevd8T7k27qnURcvj14wf/Pf3Bs/4979t0j1zD8Infybi4MH3Dkl5tOt0+ZOwXauslCg96v8eAp48feiUs4O2pf8rRqxVWf+01YpJf63Y/H9kSiSfXZKUF97r2RTWNOvZ5VnpwsxYDO/a4z87eSS0qpSW5J0Pn5WSGtWgzWlXg1pUj3Tw6qxss5P56txrequ3YjJTDW5Zfe9NvTibFrpf9W7a5ofJ7UlKcExM2v+qVCLlmib/sjOOSrV37PCwr+zbOLCnOPh2/of9170v8de/3uNrzsvC3CNGAcQQLv9ahtmn/mBI4b1jk4Xbp1FVdI4+IPC7y6MhjJI+UXm3ostKO5GVHlZTknDq5JiL4P7Lyv7U3Bu97ViohJyt878Zpx/xnqz3jTiw6sufpI3v/mp9z8lTsD2qx0rlHsLLSglxc26hxyqn/FRUmt+0yTU0vndSVGlgsZx3BEnLluVnVT+TKTj8WcvhVNd6xZnzKqR3SiKfjN52O36wWlbLSgi3Lh0kDeTTreTLsm+z047Lo7tm16l9LjAn7JistUE9sbPZvniVlKReU74n/NmuXlJbkb1k+NDsjxHolofOzM0JlMTM1aOPS/hJ59vZNAnY+susH61veu7i1zc+NlcHpuA1pSbtlAKAqAgtXrszWsnhg9NzrTmS6Fusl1FXyGMkjJY+XPGp6qeGaMiusQ/ff2Nk5XX/rhhtnBkUe/Sw1afeNdwUNGPne8AkL+w5/IzzovdKSPLVzTtaJcXfsGnXTmvMcgzknsHKzo5q46cDKzYpwcPRo0+EmGUt8BOx6LHDXE4G7nwwLfFft8IuqvUQoJLAucqZ8UUFqSuK2bv0e79LnoRE3fl/tb/tkpR+TrBw46qNu/f7v+lt+9PTurTdUYbGc9ScX23S4Wa7n2hs+79DjvpiwBVJa2elHJZsGjv7YeiW3/uTp1VN2O7Lv2badpw0c/VHf4a+NvuWnpLgfU5P2DBz1Qaee0mR2sptcibpCAJUILFy5pQNObu92Wk9QH8jjJY+anjR09vbOapB2em8r37H2Dk3UtE3HW8tKrYey1LRrn0eauLdV44uT/rCUF7s08VFTi6Ws8hSL0tL84qKMgvzE6JCv0k7vUYsXZ2tjd74jWD7nHsGq5NykhVfLIbvW35IQvVovVSEx5OTivW/zPafjNuml8zgrsDr3+rMa9Bz4vGzKTDvi4dXT0clz/6a7qx4eS038X35uTGjAW6EBb2amHJaVnAzr4TFR+V0FUA2BhSt0qG0adVUfyaPWSF4rtDsTWIX5SQ5OHmosHByt45KiDDW1ps6lsbVzlM+lJblq6tHsGgm15IStMm7eevjwCQuvm7TMvWk3KS+1w8XZ2jnoURVy5ece1qrqhtu3SREe2HLvluVD83Ji9GoFB0f38dP2N3Frt/OHSTvXTSkvK9Ebqqh2BKuSk0tz+VxSnCV1NWHaARc3353rbtz1w83l5aUSjuXlRXnZUWlJezJTA7IzQiTLpPNkf/kO2zu4VlwBgOoILFyJErvypQPOenJHPSKPnTyCetJA2dk5yYcau3l2zsv5+bhdfsXY3bObmtpecmDZ2TnYO7gXFuj3jmrVdoKTS8uToWedpi376NEvOe+ecuWOzl56cj5SUX2HvXrnH3MkbkIOvqxXz3B1bz9o9Me33peUnRkSGvCGrEgAFRelq62iWmCVn3mbhqz0o/LZzaOTfHb16DBo9H9u+V1CVnpwWMCbTs5ejs7eXXo9OOqm1SNu/H7YhAXX3jC3WYuBsqe9vUvlYUIA1RBYuBKH2qVx3lX9JY+dPIJ60kDZ2TtVHsFq23laRvKB6JCvysqKUpP2hAe+27HH7yUj1NYLqjgQlZ7sn558UD4yUg7JtFmLAZVvzuno5CGtE3ti4cFtf0w7vS8nMyzl1E51lOvi8nPjc7OjSoqyrOOcWPlQ60KuvGnz/npyjtgTi5PiNsjA1tbOuUmrai/PHT3wT7mdMnBw9HB2bq6OLXk065EUuz4jNUC+6P7N9+bnRFfsq+3ddFdmamBRYdqJI++3bjdJdg7e//eMihcBHZ2aOrnIlVi/RIfuv4kJX5CbFSFjS3lZTNgC64Wtx71aFOTFpyTuyM+NUysAKhFYuBJBvpUvr6BeavCPoJ2dY162NQiET4cpA0Z+ELT3ryu/cNm+apREw+Axc9SmrPSf30u9GtVnW1cM27piqHxsWT5Mpt6thmefOf1IdOn94PW3bs5MC9y5btKGJT13rB5TWpwjOaI3X8D6hR1/WtQ15PAr1vF3HeVDvewodVWQG6tefTsvV4+Oh//38Jr5Lf3m2MpF+gzTv1qoeHr13vPTHWu/abPqKzc3zy7XDHxGFrv1fax1+ylb/AavX9je1aOTV8uhamdF0nOz36C181vIl1bfk6ZefXb/eNu6Bb6rvnJ3b9q9x4C/ymK/4W96Nu+3cWm/H7/runyuQ0z4t+oG+3a8tVnzQTvWjJV7ZL06AFXwPlj1UB14H6y/3xTAOzLUa83znF//cZCe1J4aeh8spaQ4x7HKqVeiqCDFuUlLPbkiyQnb/7d23E2/OenmUT0pCvJOSbo5OTfT88t34siHxw++fMcffn5Fr5LFUl75bgsFeYmOTp4Oju5qWo1sdXL2qnZwq7QkT1aqvl9DpcKCZDs7p2o3+7xXImTd1s7BpUkrPa+Qmx3l7tlFTy4T74OFBowjWLgS1FV91xgewWp1JX5lXYlWbcd6ePVOiFqh51U0cWtTNVMyUwPP+6E3n09sxOL23X/+IzxVVW2jJm6+F6orIVvPDSMHR7fz1pWQWjo3Cs97JULWq9WVuOK6Aho2AgsALkPX3o8E73tOTy4gKy1494+3nfux+Zw/blgpPyfW1a19j/76PUgB1He8RFgP1YGXCB+asU+PUG997jdCj2pPjb5EiLqPlwjRgHEECwAAwDACCwAAwDACCwAAwDACCwBqU1lpQXlZjbxtb2E+f8wKqDUEFgCYlBC9asuK4au+ahp59DO9VCEvOzov+zx/aXuz3+DQwLf05IyCvMS0pL35ufF6/ktyMsOSE7ZXLaqkuA3rFvhYysv0HMDVRWABgEnHDvyjZZsbbrwrsFnLa/VShcM7/xK4+3E9OeN0/OaczNAO3X5++6uTofN/WNjxh2/bbls1cv3C9ltXXCelpbedj6TVjjXjNizp+b+146SoAnc/pdZ92k929egUF7lUTQFcZQQWAJiUmx3Vsu04N8/OzVsP10tnWCzVjyclRC1v6Tvevan+y9NBe54+uP2B7v2evPW+pBkPW+Szb+c70k5f7F1RstOP+7S/aeqfC2X/Nh1ujQj+MDsjRG1q3/WeeAILqCUEFgBciaz0o5FHP5MkqnwpsLgwPfTwG+VlBXEnFkcc/VQtVnXuC3aJJ9e07zpTjZPiNp448sG1N3zZY8BTLq6tZUU+9xz0gkzVDufVtsvUawY9Z1/xlxOHjLO+rVR2+rGKLTZeLa9NPLmqvKxETQFcTQQWAFy2sMB3Ny3tl5q0S55Fo0O+3PB9H4vFkp8bm57iL1vzc2OS4zdVLxvZw1KqxxUK8k4V5ie6uLVR09NxPzk38enc649qegVyssLls6tHJzVt4TtGPudkhakpgKuJwAKAy2OxlIcHvTtg5AfDJy4aMPLd6yavyM0MDw96r1mLgSMnW/9MYff+T4+cssrO3lHtX6naS4TSYfLZpYmPmuZmRXq1HKzGB7b+PmDX44G7n5SPhKiVavEXSeq19B3r3Ur/QR6XJq1sbR1yMq3VBeAqI7AA4PJkpQUXFZxu1e5GNXXz7NSq7YTMtJ//kLOdvZMena3aS4QlxVnyufIIlvX41pm/Xdas+YDiovT83NiI4I/ycs7zu4fnijz235iwb/qPfF/PK7i4tsmtOKwF4CojsADg8hTmn5LPjk6eaipkXFKUoScXZKl2BMvOztphpSW5aurRrGdmWpAa9xjw9PAJC9XxsEuRGLMuYOdfhk9c7NVikF6qIFfOOzUAtYLAAoDL4+bZRT7nZISqqUiK3+jm2VVPLsxiKdejCo7OzeRzYX6Smvp0uLkwPzEi+D9qeulOx2/Z89Od/a97t303fb68UlZaWFKcob4KgKuMwAKAy+PRrEdzn9GRx/+bnxNbWpJ/Ivjj0uKsbn0f1ZsvKj35oPooyE1o6tVHVioDq3W7CZ16/jFw9+Ohh9/ITA3Kz42Pi/jlN1lIPbV774apvh1va9l2fEZqgHxkpR9Vm9Q1N/Xup6YAriYCCwAu2+DrPysuTFv/XcdVX7kdP/jv6yat8Gh2jd52AQ6O7unJ+7auGKo+okLm2tk7ebcanpUerPewsRky9svBY+bGhH+7ZfmQ9Qvb7998d6t2N7ZqO05vPp9TMetKS3IST67a4jdYfWxa2l9tykg9bGNj63X2+50CuDpsLWfOqUS94Wd9q5va9dCMi73zIeqFz/1G6FHtuWvLA3pUP5WXlZSVFVQ9GUuUFOc4OnnoyS8JOfSa5NSUWT+/2lipIO+Uk4u3eoOrK7N3413lpYWjbl6r53XPsgk18Gw2o37/o0KDwREsALhCdvaO1epKXHpdiQ7df5ObFZaebH33rGqauLWprCuJtszUwHM/cjJPqB3OVVSYlhDl177bPXoO4OoisACg1rh5dmrWfFDQnou9V7uIDf9294+3nftx/OBsvcc5jh540bfTnR16/EbPAVxdvERYD/ESIUzgJULUOl4iRAPGESwAAADDCCwAAADDCCwAAADDCCwAAADDCCwAAADDCCwAAADDCCwAAADDCCwAAADDCCwAAADDCCwAAADDCCwAAADDCCwAAADDCCwAAADDCCwAAADDCCwAAADDCCwAAADDCCwAAADDCCwAAADDCCwAAADDCCwAAADDCCwAAADDCCwAAADDCCwAAADDCCwAAADDCCwAAADDCCwAAADDCCwAAADDCCwAAADDCCwAAADDCCwAAADDCCwAAADDCCwAAADDCCwAAADDCCzUGovFkuyfnH40Xc/rleiV0SuHr5zXdN7xOcf1EgAAZxBYqAV5CXmbZ27+0vHLtWPW+vXz+9L5y/3P79fb6gn/F/19x/pOD5zeYnALvQQAwBkEFq62zPDMpb2XFmUUTfWf+seCPz5oeXDKuilBbwfpzfVEdlS273hfz86erYa10ks4n6SMrHH/eis04ZSeA0DjYD979mw9RH1xPFAPas+63vF6dPm23bdNPt+5907XNq5qxbOr57Wzr1Xjox8fLc4uzo7MPvL+EUdPR4+OHhGLI6KWRyVuSyzOKW52TTO1W9A7QfYu9llhWcc+PZYWlOYzykcWj//3ePSK6JLckmY99W4BbwS0vq71yVUnQ+aEFGUWeffzlrCTa07cnujs5ezaWt8AufLIpZEnV5/MS8hrMUgfkdr58M7o5dFu7dwC3wwsTClsPqC5Wi9MLQz+KDhhY4KtnW1+Yr4KrNTA1Ci/qMglkXLLWw3VyZV8IFluvHt7d7mGoPeCuv+2u1qvI2473k6Paoy1rma/dTAqZvm+g7deO6CFp4fecMay6EF6hEZpZpcaeDbrzT8q1AkcwcJVVZheGLc+ru/jffX8HHEb4g6/fHj95PUFyQWR30du/d1WSa7SvFIJo413bJRSUbtJD+19cu+OP+1IOZiy/7n9m2ZsWjdhXez62IyQjI1TNybuSJR9ykvL/f/u/9OtP0mNlRaUbr136/8e/N+yfstyonLkNqy5fo2kmOx2fM7xdePXSVpJMPm/6L955uaKr2Bj72wvV75y6MrirOLwBeFqUeTG5qb4p1gHMbnxm+LLy8rlVq0YtCJ5b7KNrY2UnN8AP7Vn+pH0Q7MP+fX3y0vMs25tfDLz8+VDBkmZ2VJaHMcC0HgQWLiqsiOy5XPleUu7H9u954k9e57cc/Clg2pFJPsnTw+cfuOyG0d/MnroK0Pv3HvniHdGjPp4VL+n+sWsjdE7VfTTjKAZt22/bdQno6KXR7ed0HbK2imTV01uPqh5tF+03snGxtXXVa5hzNwxPe7vEfpF6Kj/jLrhqxtu+ummkuySk6tPyg69Huz1oOVBuf7hbw3vOqtr1LIodUGRcTTjph9vGvfNuFs336qXKm78pBWTZND/r/3ly1lKLYFvB476dNT478Zf9951E5dOlK4K/ihY7Sxp2P6m9nIN92fer1YalZ5t22yb/bxPM08Z01hATUhKSho3blxoaKieo84gsHBVSRVZ/8NSMbGxKcooyj+dL9l07LNjekl+Kv+pZ+XrcR6drC8qJe1JCl8QnhmWWZJjPeaktJ/S3tHdUQYth7SUz70e7lWxbCP7FKQUqLHoNqubGjQf2Ny9o3vnqZ1l7NzMuVnPZoUphTK2tbOVz6mHUyOXRpaXWG9ecU6xfBbtJrWTr6LG57Jzsv7XJ+1IWnFGcbsb9cttcrW+43zTgtLUVExYNEGPGiUaC6g5qq62b99OY9VBBBauKnV2VGV/jF84fuKSiZ2nW6Onkq2ttXgUaa9v23y7ZtSa5APJOSdz9GoFFUYVI/2fis9oH5uKitMq9xKVF6lgKbeGXlZEll9/vxXXrkjYnJAVlqU2aWdf83nln7K+BOboaU09RcaSXGrcxKeJGjRmNBZQQzIryIDjWHUQgYWrysXbpf3N7YPeOet3Bu0c7CqPaVlVyZr9z+/v+aeeD1oeHP3J6M7Tzuqwi9SPKqdznTewAt8IbNK6iXyJMXPH9H+mv9qkXUJgeXaxdkNmqPU5TknYkuDZ1booqn3FRovGAmpCz549t23b5uNj/S0fGquuIbBwtQ19bWhuTO6aG9YkbkvMjcvNOJ5xasdZP2urHsGyc7TLS8iTQV5iXtyPcWrxF10osM77712+RP6p/NKCUhmfWHhCLSqXkkfefb1bDmt57JNjcl9K8kqOvH+kNLe091966831pK9s7/pDTX/0evJFSSv15WgswBQaq84isHC1tRjYYmbITBdvl833bF7UYdGyPstyYnIGPD9Abz5bv6f6RS6JnO8936+/n8/1PunBv+pt37NP6B/wovKYU+9HepcVl33t+vVc27kenau/j8CluP7z6yXR5L7Mc58X8FrApNWT1GEtkZ9gfQER55LGmvXhHD0B8CvQWHWTrcVygf+tjzrLb54e1J6HZuzTo1+nKKOorKjM1Ue/H9V5yT/RgqSCyjfNqiGFqYUuLVz05BIU5xQ7eTjpSQWpNLkv1Rbrss/9RuhRxREsPbpafJp5bpv9/D9D/67naJSWTaiBZ7MZD+hBIyNRJWklgSVjiS1JLgkvtQm1gsCqhxpQYKEWVQ2sqyA04dS42W+pVwlVXfVs2+auLY30ZyGUqoF19Su/YaOxah0vEQKoceetK7UJQE1ISkqaNWuWnqA2EFgAahZ1BVx9Pj4+ixcv1hPUBl4irId4iRAmXJ2XCC9eV7xE2MhxDpZBnINV13AEC0BN4dgVcHVQV3UQgQWgxlFXQM2hruomAgtATZGikq4a2Kk9dQXUEOqqziKwANQg6aqAd/5NXQE1gbqqywgs1APRK6NLC61/yubqKMosmms79/S+03p+xly7uQf/dVBPAKDOoK7qIAILdV3OyZxN0zaFzq39v/zQ+rrWegQAdYAUlXTVwIEDqas6iMBCXefRyWOq/9S+j/fVcwDAGdJVAQEB1FUdZD979mw9RH1xPFAPas+63vF6dPkC3wosLyuXbNLTNwObXtPU0c0xeX9yxJKIlte2DJkbErM6xlJm8eyq/2Ry2Fdh8r8FijKKwuaFNR/Y3N7ZXq0HvRMU8nlI56mdZXxy9UnZmhqQ6urj6uztLCs5J3OOf3a8ef/mAW8EnN57us31bXLjc0O/DD2x8ITcgGbXNJN9yorK5FKR30fKBR3cHNRfRSwrLAt6K6jnn3q6t3OXaaWwr8M8u3j6jvOVcerh1IjFEXLB3Nhc+RK29raymLg9MXpltFcfL7kLsT/Eym2uvJsluSXyheRLpwenJ+1Okg+fUT57ntyTGZrZeoQ+MBb8YXDk4sj2N7WXsdwedf05MTnNB+jrF3JH5Eqil0er6ynJKWnaramsJ2xJiFgUkbgtsby4vPL7dnG3HW+nR7VnWfQgPUKjNLNLDTyb9eYfFeoEjmDhagufH54WkKbGJXklB/52ICssS8ZpQWmHXzm8uMviU9tPpR9NXz9pffwma8bJPgdfOigd49Xb69DsQxHfRVRc1CbtSNr+5/b3eqiXjDffvfnYJ8cKThdEfR+1YsiKrAjrFWYcz/B/0X/lsJWZYZn+//DPDM/06+dXkFzQtHvTjXdsLM23ntT1fc/vY9fFSrFlHs9cMWjFqf+dsl71L4nfHL/i2hVZJ7Ic3R2P/ufomjFr1HpaYFrgG4FyFySDpJDWjV2XtMt68qlYPmh5in+KSwuXkC9Cjrx3JDMkUxbl68asjVE7iJh1MfYu1nZM2JqwYrC+/uOfHl89erXaQXpr9cjVtra2xZnFct9j18bKXZb1/S/s/2HiD3aOdvIl1k9eL7up/QEAtYXAQh1Skl0y9NWhE5dOnLxqcvOBzaP8ovSGCvZO9l3u6lK5eHLlyaY9mvqM8jn26bHkA8m3bLpl7Pyx0w5NK8ktCf4gWO0juv+2+8QlEx8sfzD9SLpLS5fhbw7v92S/By0POrg6yNYpa6dMXj156CtD5bLe/b0TtiSoS11cu4ntfp/+++v/e73c2gHPDUjel5wdbX0vTVGYUjjq41ETFk2Qa27Ws1nUcuutjf0htryk/IYvbxj8j8HD3hgm+4ydN1btf5Yzf1Wh7fi296Xdp65/4AsDUw6kZEdarz9ySeTQ16wrcmvb39zeq49Xj9/3kIYLeitoxtEZA58fOGXdlHaT2h15/4i6HgBAbSGwUIe4tHK55oFr1FgCS0JEjStJYCVuScyNy5XxyVUnZSqD1MOpljJL4NuBgW9aP9w7uGccz6jY3WrwPwergVdvr+wT2dsf2J60Wx9VEt59vQvTC6WrQuaGOLg5lOSU6A2/xNnLOT04PXpldE50jkwlDdW6eyf3bvd2U2MpNnUXSgtL8xPzy4rKZOzS3MXRw7Fie3WW8p//bpWLt4u6fpVWxdnF8rk0vzTnpPXLiSatmzi6W68nI8R6Z6XhAt+y3n2LxSIXrNgFAFBrCCzUIbZ2+kwjYe9sXzU4lE53dHL2do7yi5KESgtMU4FVkFxQmleatCsp5WBK+tF037G+spvavyoJrBlHZthYbNaMXrP1t1vV4uFXDi9oviDk85C0I2kZR3/OsosryStZM2aNX3+/mLUxeXF5erXCee9Cl+nW2/mVy1dzbeeuG7euz1/6VGyvrvL+SkitHbvWev1rYnJjrTWpNB/UPPSLULkS+Tix4ETXWV1lUb1KKHc/eX+y3Au3dm7qZVMAQC0isHC1Obg6FGUUqXFRuh4oVetEnBtYQqIqenn0yVUnpTaaD2guKx6dPbz6eE1ZM+VGvxvHLxx/w1c39Huyn9q5Gu9+3mPnj71jzx0R30WEfxOeG5978KWDIz8aOXHpxNGfjG7W03ra+6UI/jA4/1T+g5YHx349dvBL+giZct67EPROUMc7Ok74fsJ1H1w3cdnEYW8MU1urfiusyvV/Bn8UnBuXa73+eWOvnX2tXq04aDf6s9Fjvhhz/efX3x1+d8trW8qiZxfrKe1y9yetmDRh0QS5SSM/GFmxOwCg1hBYuNokhqJXRBckF6QfTd84baNerVCtTiqDoyoJrNO7T0cuiVSHr0TnqZ2TdiZFLNInvycfSE72T1bjqpb1W6bOYXdwc3DycpK4sXOw/vt3auoknxO2JKQcSrHudwnkgvlJ+XmJ1mNXxz45phaVyl/30yruQnlpubRR4tZEuVRuTG7yfn3zPLt5pgWkxW+OL0wr3P3Y7qQ9+rVLuf6CpALpPxlXvX5LqSVmbUx6cHpefF7S7iT1umGHWzo4ejgefvWw2ic7Ojv0q9p/zzAAaOQILFxt/Z7qV15c/m3rb1cOXdn7kd56tYJ0gx5dWNsJbd3au0lkdJ1pfYFM+I7zvf7z6/c8sWd+s/lzbeduvXdryJwQtamqax64ZsOdG77r8N3yAcs73dlJ+szVx1VuwPb7ty/qvMj/H/6dp1nf7uFS9PxTT6/eXt+1/U6+nDqzqpL6jchqWl7bUtqoSasmsrP036oRqw6+ZH1H+O6/6d51Vtf1N65f0GJBeUl5x1s7qv3l+r37eS9qv0iuX/22o9JucrvC1EL7JvZFGUXb79u+qOMiiVQJxInLJkYtjZKdv23z7YrBK45/dlxfAABQS2wtlvO8CoM6zW+eHtSeh2bs06MrVZhW6NLcRU9+SUleiaPb+U8Mr6oos0hyxM3XTc/PJy8xz6WFi72TfictIdFTWlDq3Mz61lmXRSrH2euSLvXjzT+2Htl68D/0i4lrblhTVlA29cBUNS0rLrOxWE/YUtNK1a4/52TO4s6LZwTP8O7rrVa+cPhi9H9H9/qzPuOqtLC0KL3o4ne/qs/9RuhR7blrywN6hEZp2YQaeDabwT8q1AkcwULtuPS6EpdSV0Ii6RfzQnaoWldCyuYK6kpcYl0JRw/H0K9Co1dGpwZa3z40MzSz/RTru4kqcnvOrStR7frV7wyGLwhP3JaYtCvpp1t/snO08xnlo7YKBxeHS68rAECNIrCAGjf6s9Gdp3UOfj9449SNYV+HDXtj2JCXh+htl8ylhcv4ReNzonP2PLln16O7JNpu33m7V28vvRkAUJfwEmE91CBeIkSt4yVC1DpeIkQDxhEsAAAAwwgsAAAAwwgsAAAAwwgsAAAAwwgsAAAAwwgsAAAAwwgsAAAAwwgsAAAAwwgsAAAAwwgsAAAAwwgsAAAAwwgsAAAAwwgsAAAAwwgsAAAAwwgsAAAAwwgsAAAAwwgsAAAAwwgsAAAAwwgsAAAAwwgsAAAAwwgsAAAAwwgsAAAAwwgsAAAAwwgsAAAAwwgsAAAAwwgsAAAAwwgsAAAAwwgsAAAAwwgsAAAAwwgsAAAAwwgsAAAAwwgsAAAAwwgsAAAAwwgsAAAAwwgsAAAAwwgsAAAAwwgsAAAAwwgsAAAAwwgsAAAAwwgsAAAAwwgsAAAAwwgsAAAAwwgsAAAAwwgsAAAAwwgsAAAAwwgsAAAAwwgsAAAAwwgsAAAAwwgsAAAAwwgsAAAAwwgsAAAAwwgsAAAAwwgsAAAAwwgsAAAAwwgsAAAAwwgsALXG2zlPj9D48OijYSOwANSarp6peoTGh0cfDRuBBaDWDG0Rq0dofHj00bARWABqzajW0c2c8vUEjYk87vLo6wnQEBFYAGqNk33Z77sf0BM0JvK4y6OvJ0BDRGABqE2jfaIn+IbpCRoHecTlcdcToIEisADUsj9fs5fGajzksZZHXE+AhovAAlDL7O0sD/fa80Sf7ZyP1bDJ4yuPsjzW8ojrJaDhIrAA1AmjfaI/Hen3l147h7aM4R2SGhJ5NOUxlUdWHl9eGUTjYWux8L8k6hu/eXpQex6asU+PUG997jdCj4CGZMYDegDUKo5g4Uo0y3fSI9RPPIIAUKMILFyJThlueoT6iUcQAGoUgYUrMSDRS49QP/EIAkCNIrBwJYbGtfAsdNQT1Dfy2MkjqCcAgBpAYOFKOJbbzQzsqCeob+Sxk0dQTwAANYAnWVyhofEtRke31BPUH/KoyWOnJwCAmkFg4crde7gLjVW/yOMlj5qeAABqDIGFK2dvsf3doa5/2teN87HqPnmM5JGSx0seNb0EAKgxvNFoPVQH3mi0mhK7cv/2qUG+GSe98jJdi/Uq6oBm+U6dMtwGJHoNjWvBeVdoFHijUdQNBFY9VPcCCwDqCgILdQP/ixYAAMAwAgsAAMAwAgsAAMAwAgsAAMAwAgsAAMAwAgsAAMAwAgsAAMAwAgsAAMAwAgsAAMAwAgsAAMAwAgsAAMAwAgsAAMAwAgsAAMAwAgsAAMAwAgsAAMAwAgsAAMAwAgsAAMAwAgsAAMAwAgsAAMAwAgsAAMAwAgsAAMAwAgsAAMAwAgsAAMAwAgsAAMAwAgsAAMAwAgsAAMAwAgsAAMAwAgsAAMAwAgsAAMAwAgsAAMAwAgsAAMAwAgsAAMAwAgsAAMAwAqseauKqBwCAqnh6RJ1BYNVDXi30AABQFU+PqDMIrHrIt4MeAACq4ukRdQaBVQ+172zj3ESPAQCKPDHK0yNQNxBY9ZC9g83AYXoMAFDkiVGeHoG6gcCqn9p3senUQ48BAPKUKE+MQJ1BYNVbg6+jsQDASp4M5SkRqEtsLRaLHqI+iouyCTxgU1SgpwDQqDg3sb4yyLEr1D0EVv1XVmoTF22TGGuTkWpTkK8XAaABa+JqfUcG3w7Ws9o57wp1EoEFAABgGOdgAQAAGEZgAQAAGEZgAQAAGEZgAQAAGEZgAQAAGEZgAQAAGEZgAQAAGEZgAQAAGEZgAQAAGEZgAQAAGEZgAQAAGEZgAQAAGEZgAQAAGEZgAQAAGEZgAQAAGEZgAQAAGEZgAQAAGEZgAQAAGEZgAQAAGEZgAQAAGEZgAQAAGEZgAQAAGEZgAQAAGEZgAQAAGEZgAQAAGEZgAQAAGEZgAQAAGEZgAQAAGEZgAQAAGEZgAQAAGEZgAQAAGEZgAQAAGEZgAQAAGEZgAQAAGEZgAQAAGEZgAQAAGEZgAQAAGEZgAQAAGEZgAQAAGEZgAQAAGEZgAQAAGEZgAQAAGEZgAQAAGEZgAQAAGEZgAQAAGEZgAQAAGEZgAQAAGEZgAQAAGEZgAQAAGEZgAQAAGEZgAQAAGEZgAQAAGEZgAQAAGEZgAQAAGEZgAQAAGEZgAQAAGEZgAQAAGEZgAQAAGEZgAQAAGEZgAQAAGEZgAQAAGEZgAQAAGEZgAQAAGEZgAQAAGEZgAQAAGEZgAQAAGEZgAQAAGEZgAQAAGEZgAQAAGEZgAQAAGEZgAQAAGEZgAQAAGEZgAQAAGEZgAQAAGEZgAQAAGEZgAQAAGGVj8//WCCWjfeGpBwAAAABJRU5ErkJggg==)"
      ]
    },
    {
      "cell_type": "markdown",
      "metadata": {
        "id": "b1UH0-3-OPVA"
      },
      "source": [
        "What [...] is mathematics? The answer, it appears, is that any argument which is carried out with sufficient precision is mathematical, and the reason that your friends and ours cannot understand mathematics is not because they have no head for figures, but because they are unable to **achieve the degree of concentration required to follow a moderately involved sequence of inferences**.\n"
      ]
    },
    {
      "cell_type": "markdown",
      "metadata": {
        "id": "iPiO58ZohUMy"
      },
      "source": [
        "7. In 15.2.2, we will argue that $L_{AmbCFG}$ is not recursive. Assuming this result, argue that $\\overline{L_{AmbCFG}}$ is not RE.\n"
      ]
    },
    {
      "cell_type": "markdown",
      "metadata": {
        "id": "Y5s-HiojkW2J"
      },
      "source": [
        "Recall Theorem 14.2.3:\n",
        "\n",
        "If a language $L$ and its complement $\\overline{L}$ are both RE, then $L$ is recursive.\n",
        "\n",
        "We get to assume that $L_{AmbCFG}$ is not recursive.\n",
        "\n",
        "Therefore, by the contrapositive of the Theorem, we know that it is NOT the case that both \"$L_{AmbCFG}$ is RE\" and \"its complement $\\overline{L_{AmbCFG}}$ is RE\" can be true.\n",
        "\n",
        "By DeMorgan's Law we translate that into the equivalent statement:\n",
        "\n",
        "Either $L_{AmbCFG}$ is not RE, or $\\overline{L_{AmbCFG}}$ is not RE.\n",
        "\n",
        "In section 14.3.4 on pages 218 and 219, $L_{AmbCFG}$ is proven to be RE.\n",
        "\n",
        "Therefore, $\\overline{L_{AmbCFG}}$ must be the one that is not RE."
      ]
    }
  ]
}