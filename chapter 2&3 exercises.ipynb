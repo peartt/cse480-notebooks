{
 "cells": [
  {
   "cell_type": "markdown",
   "metadata": {},
   "source": [
    "**2.1.3**\n",
    "* 1) Can *Nat* be an alphabet? Why or why not?\n",
    " - No, because an alphabet must be finite and *Nat* is infinite.\n",
    "* 2) Consider the string \"Hello there!\". What are the symbols present  in this string, and what is the smallest alphabet underlying this string?\n",
    " - Symbols present are: {'H', 'e', 'l', 'o', 't', 'h', 'r', ' ', '!'} which is also the smallest alphabet underlying this string.\n",
    "* 3) Are all palindromes the concatenation of a string with its reverse?  If not, why not?\n",
    " - No. Palinfromes can have an odd amount of characters. EX: racecar cannot be split into two equal halves."
   ]
  },
  {
   "cell_type": "markdown",
   "metadata": {},
   "source": [
    "**2.1.4**\n",
    "* 1) Consider a string s = *abacaca*. Now consider the string exponentiation s^4. How many a’s are there in s^4? How about b’s, c’s and d’s? \n",
    " - Number of a's = 4 * 4 = 16\n",
    " - Number of b's = 1 * 4 = 4\n",
    " - Number of c's = 2 * 4 = 8\n",
    "* 2) Let *Nat* be regarded as the universal set in some domain of discourse. Now consider subsets of *Nat*, and let us view *set intersection* of such sets as “multiplication.” In that case, what is the *One* element of this multiplication operator? What is the *Zero* element? Recall that for any *s ⊆ Nat*, these One and Zero elements  must satisfy:  (a) s ∩ *One* = s  (b) s ∩ *Zero* = *Zero*\n",
    " - *One* = {\"\"}\n",
    " - *Zero* = {}"
   ]
  },
  {
   "cell_type": "markdown",
   "metadata": {},
   "source": [
    "**2.2 (Languages)**\n",
    "* 1) Why is *$\\epsilon$* not a member of *La_l t_b*?\n",
    " - Because when i = 0 and j = 0, i < j is false\n",
    "* 2) Which inequality in the definition of La_l t_b would you alter in  order to induce *$\\epsilon$* into this language?\n",
    " - Add $i \\le j$"
   ]
  },
  {
   "cell_type": "markdown",
   "metadata": {},
   "source": [
    "**2.2 (Python)**\n",
    "* 1) Write a one-line list comprehension in Python to generate the set  of all substrings of s=\"abc\". You can assume that s=\"abc\" is a  statement issued prior to your set comprehension.\n",
    "* 2) Write down a one-line set comprehension in Python to generate a  set of strings of the following form: {'', '((((()))))', '(((())))', '()', '(())', '((()))'\n",
    "* 2) Is this true in Python for two strings p and q? Explain! Argue (in one paragraph) why this works for any two strings p and q.  (p+q)[::-1] == (q[::-1] + p[::-1])\n",
    "* 3) In a sentance or two, describe the contents of $L_1$, $L_2$, and $L_3$ in English.\n",
    " - L1 = {(n) n: n ≥ 0}\n",
    " - L2 = {w: w is a string of balanced parentheses}\n",
    " - L3 = {w: w has an equal number of parentheses}\n",
    " - Note that the alphabet consists of the two symbols ( and ). By  “balanced parentheses,” we mean that in any string over (and  ), every occurrence of a right parenthesis must be matched by a  left parenthesis that appears earlier in the string. In your answer  you should also mention all possible language inclusions that exist  among L1,L2 and L3 (i.e., if Lx ⊂ Ly for x, y ∈ {1,2,3}, mention that  in your answer)."
   ]
  },
  {
   "cell_type": "code",
   "execution_count": null,
   "metadata": {},
   "outputs": [],
   "source": [
    "lang1 = {('a' * a,'b' * b,'c' * c) for a in range(2) for b in range(2) for c in range(2) }\n",
    "lang1"
   ]
  },
  {
   "cell_type": "code",
   "execution_count": null,
   "metadata": {},
   "outputs": [],
   "source": [
    "lang2 = {('()' * y) for y in range(6)}\n",
    "lang2"
   ]
  }
 ],
 "metadata": {
  "kernelspec": {
   "display_name": "Python 3",
   "language": "python",
   "name": "python3"
  },
  "language_info": {
   "codemirror_mode": {
    "name": "ipython",
    "version": 3
   },
   "file_extension": ".py",
   "mimetype": "text/x-python",
   "name": "python",
   "nbconvert_exporter": "python",
   "pygments_lexer": "ipython3",
   "version": "3.9.1"
  }
 },
 "nbformat": 4,
 "nbformat_minor": 4
}
