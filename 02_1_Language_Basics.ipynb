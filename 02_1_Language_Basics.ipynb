{
  "nbformat": 4,
  "nbformat_minor": 0,
  "metadata": {
    "kernelspec": {
      "display_name": "Python 3",
      "language": "python",
      "name": "python3"
    },
    "language_info": {
      "codemirror_mode": {
        "name": "ipython",
        "version": 3
      },
      "file_extension": ".py",
      "mimetype": "text/x-python",
      "name": "python",
      "nbconvert_exporter": "python",
      "pygments_lexer": "ipython3",
      "version": "3.9.0"
    },
    "colab": {
      "name": "02_1_Language_Basics.ipynb",
      "provenance": []
    },
    "widgets": {
      "application/vnd.jupyter.widget-state+json": {
        "b592bced0bed41ecac44e452c03978c9": {
          "model_module": "@jupyter-widgets/controls",
          "model_name": "VBoxModel",
          "state": {
            "_view_name": "VBoxView",
            "_dom_classes": [
              "widget-interact"
            ],
            "_model_name": "VBoxModel",
            "_view_module": "@jupyter-widgets/controls",
            "_model_module_version": "1.5.0",
            "_view_count": null,
            "_view_module_version": "1.5.0",
            "box_style": "",
            "layout": "IPY_MODEL_f14cbb8d167144cb8fd5977048d2de43",
            "_model_module": "@jupyter-widgets/controls",
            "children": [
              "IPY_MODEL_8c7275b1d2f94fedbbf72674030bd7ce",
              "IPY_MODEL_78cb13369d2a40d79bb70091baf9fbf1",
              "IPY_MODEL_e4ef7027f05440679ec111ca2b5eef47"
            ]
          }
        },
        "f14cbb8d167144cb8fd5977048d2de43": {
          "model_module": "@jupyter-widgets/base",
          "model_name": "LayoutModel",
          "state": {
            "_view_name": "LayoutView",
            "grid_template_rows": null,
            "right": null,
            "justify_content": null,
            "_view_module": "@jupyter-widgets/base",
            "overflow": null,
            "_model_module_version": "1.2.0",
            "_view_count": null,
            "flex_flow": null,
            "width": null,
            "min_width": null,
            "border": null,
            "align_items": null,
            "bottom": null,
            "_model_module": "@jupyter-widgets/base",
            "top": null,
            "grid_column": null,
            "overflow_y": null,
            "overflow_x": null,
            "grid_auto_flow": null,
            "grid_area": null,
            "grid_template_columns": null,
            "flex": null,
            "_model_name": "LayoutModel",
            "justify_items": null,
            "grid_row": null,
            "max_height": null,
            "align_content": null,
            "visibility": null,
            "align_self": null,
            "height": null,
            "min_height": null,
            "padding": null,
            "grid_auto_rows": null,
            "grid_gap": null,
            "max_width": null,
            "order": null,
            "_view_module_version": "1.2.0",
            "grid_template_areas": null,
            "object_position": null,
            "object_fit": null,
            "grid_auto_columns": null,
            "margin": null,
            "display": null,
            "left": null
          }
        },
        "8c7275b1d2f94fedbbf72674030bd7ce": {
          "model_module": "@jupyter-widgets/controls",
          "model_name": "DropdownModel",
          "state": {
            "_options_labels": [
              "L3",
              "L1",
              "L2",
              "M",
              "lphi",
              "lunit"
            ],
            "_view_name": "DropdownView",
            "style": "IPY_MODEL_87bc5999056c457a83f97addcde08533",
            "_dom_classes": [],
            "description": "L",
            "_model_name": "DropdownModel",
            "index": 0,
            "_view_module": "@jupyter-widgets/controls",
            "_model_module_version": "1.5.0",
            "_view_count": null,
            "disabled": false,
            "_view_module_version": "1.5.0",
            "description_tooltip": null,
            "_model_module": "@jupyter-widgets/controls",
            "layout": "IPY_MODEL_d734241e7f23412bb777563bbb8a0d93"
          }
        },
        "78cb13369d2a40d79bb70091baf9fbf1": {
          "model_module": "@jupyter-widgets/controls",
          "model_name": "IntSliderModel",
          "state": {
            "_view_name": "IntSliderView",
            "style": "IPY_MODEL_9465c00ef7854052851f45acf538eb3c",
            "_dom_classes": [],
            "description": "n",
            "step": 1,
            "_model_name": "IntSliderModel",
            "orientation": "horizontal",
            "max": 7,
            "_view_module": "@jupyter-widgets/controls",
            "_model_module_version": "1.5.0",
            "value": 2,
            "_view_count": null,
            "disabled": false,
            "_view_module_version": "1.5.0",
            "min": 0,
            "continuous_update": true,
            "readout_format": "d",
            "description_tooltip": null,
            "readout": true,
            "_model_module": "@jupyter-widgets/controls",
            "layout": "IPY_MODEL_a986291b1dea4e7a9fd4a96983792ecc"
          }
        },
        "e4ef7027f05440679ec111ca2b5eef47": {
          "model_module": "@jupyter-widgets/output",
          "model_name": "OutputModel",
          "state": {
            "_view_name": "OutputView",
            "msg_id": "",
            "_dom_classes": [],
            "_model_name": "OutputModel",
            "outputs": [
              {
                "output_type": "display_data",
                "metadata": {
                  "tags": []
                },
                "text/plain": "{'aa', 'ab', 'ac', 'ba', 'bb', 'bc', 'ca', 'cb', 'cc'}"
              }
            ],
            "_view_module": "@jupyter-widgets/output",
            "_model_module_version": "1.0.0",
            "_view_count": null,
            "_view_module_version": "1.0.0",
            "layout": "IPY_MODEL_bfba83d7703e43d4ae3914e45f81be2e",
            "_model_module": "@jupyter-widgets/output"
          }
        },
        "87bc5999056c457a83f97addcde08533": {
          "model_module": "@jupyter-widgets/controls",
          "model_name": "DescriptionStyleModel",
          "state": {
            "_view_name": "StyleView",
            "_model_name": "DescriptionStyleModel",
            "description_width": "",
            "_view_module": "@jupyter-widgets/base",
            "_model_module_version": "1.5.0",
            "_view_count": null,
            "_view_module_version": "1.2.0",
            "_model_module": "@jupyter-widgets/controls"
          }
        },
        "d734241e7f23412bb777563bbb8a0d93": {
          "model_module": "@jupyter-widgets/base",
          "model_name": "LayoutModel",
          "state": {
            "_view_name": "LayoutView",
            "grid_template_rows": null,
            "right": null,
            "justify_content": null,
            "_view_module": "@jupyter-widgets/base",
            "overflow": null,
            "_model_module_version": "1.2.0",
            "_view_count": null,
            "flex_flow": null,
            "width": null,
            "min_width": null,
            "border": null,
            "align_items": null,
            "bottom": null,
            "_model_module": "@jupyter-widgets/base",
            "top": null,
            "grid_column": null,
            "overflow_y": null,
            "overflow_x": null,
            "grid_auto_flow": null,
            "grid_area": null,
            "grid_template_columns": null,
            "flex": null,
            "_model_name": "LayoutModel",
            "justify_items": null,
            "grid_row": null,
            "max_height": null,
            "align_content": null,
            "visibility": null,
            "align_self": null,
            "height": null,
            "min_height": null,
            "padding": null,
            "grid_auto_rows": null,
            "grid_gap": null,
            "max_width": null,
            "order": null,
            "_view_module_version": "1.2.0",
            "grid_template_areas": null,
            "object_position": null,
            "object_fit": null,
            "grid_auto_columns": null,
            "margin": null,
            "display": null,
            "left": null
          }
        },
        "9465c00ef7854052851f45acf538eb3c": {
          "model_module": "@jupyter-widgets/controls",
          "model_name": "SliderStyleModel",
          "state": {
            "_view_name": "StyleView",
            "handle_color": null,
            "_model_name": "SliderStyleModel",
            "description_width": "",
            "_view_module": "@jupyter-widgets/base",
            "_model_module_version": "1.5.0",
            "_view_count": null,
            "_view_module_version": "1.2.0",
            "_model_module": "@jupyter-widgets/controls"
          }
        },
        "a986291b1dea4e7a9fd4a96983792ecc": {
          "model_module": "@jupyter-widgets/base",
          "model_name": "LayoutModel",
          "state": {
            "_view_name": "LayoutView",
            "grid_template_rows": null,
            "right": null,
            "justify_content": null,
            "_view_module": "@jupyter-widgets/base",
            "overflow": null,
            "_model_module_version": "1.2.0",
            "_view_count": null,
            "flex_flow": null,
            "width": null,
            "min_width": null,
            "border": null,
            "align_items": null,
            "bottom": null,
            "_model_module": "@jupyter-widgets/base",
            "top": null,
            "grid_column": null,
            "overflow_y": null,
            "overflow_x": null,
            "grid_auto_flow": null,
            "grid_area": null,
            "grid_template_columns": null,
            "flex": null,
            "_model_name": "LayoutModel",
            "justify_items": null,
            "grid_row": null,
            "max_height": null,
            "align_content": null,
            "visibility": null,
            "align_self": null,
            "height": null,
            "min_height": null,
            "padding": null,
            "grid_auto_rows": null,
            "grid_gap": null,
            "max_width": null,
            "order": null,
            "_view_module_version": "1.2.0",
            "grid_template_areas": null,
            "object_position": null,
            "object_fit": null,
            "grid_auto_columns": null,
            "margin": null,
            "display": null,
            "left": null
          }
        },
        "bfba83d7703e43d4ae3914e45f81be2e": {
          "model_module": "@jupyter-widgets/base",
          "model_name": "LayoutModel",
          "state": {
            "_view_name": "LayoutView",
            "grid_template_rows": null,
            "right": null,
            "justify_content": null,
            "_view_module": "@jupyter-widgets/base",
            "overflow": null,
            "_model_module_version": "1.2.0",
            "_view_count": null,
            "flex_flow": null,
            "width": null,
            "min_width": null,
            "border": null,
            "align_items": null,
            "bottom": null,
            "_model_module": "@jupyter-widgets/base",
            "top": null,
            "grid_column": null,
            "overflow_y": null,
            "overflow_x": null,
            "grid_auto_flow": null,
            "grid_area": null,
            "grid_template_columns": null,
            "flex": null,
            "_model_name": "LayoutModel",
            "justify_items": null,
            "grid_row": null,
            "max_height": null,
            "align_content": null,
            "visibility": null,
            "align_self": null,
            "height": null,
            "min_height": null,
            "padding": null,
            "grid_auto_rows": null,
            "grid_gap": null,
            "max_width": null,
            "order": null,
            "_view_module_version": "1.2.0",
            "grid_template_areas": null,
            "object_position": null,
            "object_fit": null,
            "grid_auto_columns": null,
            "margin": null,
            "display": null,
            "left": null
          }
        },
        "1a843728d2364b859293b30a530d930d": {
          "model_module": "@jupyter-widgets/controls",
          "model_name": "VBoxModel",
          "state": {
            "_view_name": "VBoxView",
            "_dom_classes": [
              "widget-interact"
            ],
            "_model_name": "VBoxModel",
            "_view_module": "@jupyter-widgets/controls",
            "_model_module_version": "1.5.0",
            "_view_count": null,
            "_view_module_version": "1.5.0",
            "box_style": "",
            "layout": "IPY_MODEL_f391337e9e5848cea17599b1347c1c71",
            "_model_module": "@jupyter-widgets/controls",
            "children": [
              "IPY_MODEL_4ee913d3c44e4e3282abbbde13f761fa",
              "IPY_MODEL_c6991a3ad5fb47d292ee35135b99a497",
              "IPY_MODEL_888f9b8ed9f24eb0ab80776b7a938219"
            ]
          }
        },
        "f391337e9e5848cea17599b1347c1c71": {
          "model_module": "@jupyter-widgets/base",
          "model_name": "LayoutModel",
          "state": {
            "_view_name": "LayoutView",
            "grid_template_rows": null,
            "right": null,
            "justify_content": null,
            "_view_module": "@jupyter-widgets/base",
            "overflow": null,
            "_model_module_version": "1.2.0",
            "_view_count": null,
            "flex_flow": null,
            "width": null,
            "min_width": null,
            "border": null,
            "align_items": null,
            "bottom": null,
            "_model_module": "@jupyter-widgets/base",
            "top": null,
            "grid_column": null,
            "overflow_y": null,
            "overflow_x": null,
            "grid_auto_flow": null,
            "grid_area": null,
            "grid_template_columns": null,
            "flex": null,
            "_model_name": "LayoutModel",
            "justify_items": null,
            "grid_row": null,
            "max_height": null,
            "align_content": null,
            "visibility": null,
            "align_self": null,
            "height": null,
            "min_height": null,
            "padding": null,
            "grid_auto_rows": null,
            "grid_gap": null,
            "max_width": null,
            "order": null,
            "_view_module_version": "1.2.0",
            "grid_template_areas": null,
            "object_position": null,
            "object_fit": null,
            "grid_auto_columns": null,
            "margin": null,
            "display": null,
            "left": null
          }
        },
        "4ee913d3c44e4e3282abbbde13f761fa": {
          "model_module": "@jupyter-widgets/controls",
          "model_name": "DropdownModel",
          "state": {
            "_options_labels": [
              "L3",
              "L1",
              "L2",
              "M",
              "lphi",
              "lunit"
            ],
            "_view_name": "DropdownView",
            "style": "IPY_MODEL_bfb0ebfe6c494882aeebfb186f89e971",
            "_dom_classes": [],
            "description": "L",
            "_model_name": "DropdownModel",
            "index": 0,
            "_view_module": "@jupyter-widgets/controls",
            "_model_module_version": "1.5.0",
            "_view_count": null,
            "disabled": false,
            "_view_module_version": "1.5.0",
            "description_tooltip": null,
            "_model_module": "@jupyter-widgets/controls",
            "layout": "IPY_MODEL_253502c20d2149fda23c0c462adb60af"
          }
        },
        "c6991a3ad5fb47d292ee35135b99a497": {
          "model_module": "@jupyter-widgets/controls",
          "model_name": "IntSliderModel",
          "state": {
            "_view_name": "IntSliderView",
            "style": "IPY_MODEL_71016c7a4c1b43f18f533b7423e0a0b4",
            "_dom_classes": [],
            "description": "n",
            "step": 1,
            "_model_name": "IntSliderModel",
            "orientation": "horizontal",
            "max": 7,
            "_view_module": "@jupyter-widgets/controls",
            "_model_module_version": "1.5.0",
            "value": 3,
            "_view_count": null,
            "disabled": false,
            "_view_module_version": "1.5.0",
            "min": 0,
            "continuous_update": true,
            "readout_format": "d",
            "description_tooltip": null,
            "readout": true,
            "_model_module": "@jupyter-widgets/controls",
            "layout": "IPY_MODEL_6f71ff5d63f94d27ad34a059d79f94e3"
          }
        },
        "888f9b8ed9f24eb0ab80776b7a938219": {
          "model_module": "@jupyter-widgets/output",
          "model_name": "OutputModel",
          "state": {
            "_view_name": "OutputView",
            "msg_id": "",
            "_dom_classes": [],
            "_model_name": "OutputModel",
            "outputs": [
              {
                "output_type": "display_data",
                "metadata": {
                  "tags": []
                },
                "text/plain": "{'',\n 'a',\n 'aa',\n 'aaa',\n 'aab',\n 'aac',\n 'ab',\n 'aba',\n 'abb',\n 'abc',\n 'ac',\n 'aca',\n 'acb',\n 'acc',\n 'b',\n 'ba',\n 'baa',\n 'bab',\n 'bac',\n 'bb',\n 'bba',\n 'bbb',\n 'bbc',\n 'bc',\n 'bca',\n 'bcb',\n 'bcc',\n 'c',\n 'ca',\n 'caa',\n 'cab',\n 'cac',\n 'cb',\n 'cba',\n 'cbb',\n 'cbc',\n 'cc',\n 'cca',\n 'ccb',\n 'ccc'}"
              }
            ],
            "_view_module": "@jupyter-widgets/output",
            "_model_module_version": "1.0.0",
            "_view_count": null,
            "_view_module_version": "1.0.0",
            "layout": "IPY_MODEL_da6d4cbaeccb40e1affe90a116d9afdd",
            "_model_module": "@jupyter-widgets/output"
          }
        },
        "bfb0ebfe6c494882aeebfb186f89e971": {
          "model_module": "@jupyter-widgets/controls",
          "model_name": "DescriptionStyleModel",
          "state": {
            "_view_name": "StyleView",
            "_model_name": "DescriptionStyleModel",
            "description_width": "",
            "_view_module": "@jupyter-widgets/base",
            "_model_module_version": "1.5.0",
            "_view_count": null,
            "_view_module_version": "1.2.0",
            "_model_module": "@jupyter-widgets/controls"
          }
        },
        "253502c20d2149fda23c0c462adb60af": {
          "model_module": "@jupyter-widgets/base",
          "model_name": "LayoutModel",
          "state": {
            "_view_name": "LayoutView",
            "grid_template_rows": null,
            "right": null,
            "justify_content": null,
            "_view_module": "@jupyter-widgets/base",
            "overflow": null,
            "_model_module_version": "1.2.0",
            "_view_count": null,
            "flex_flow": null,
            "width": null,
            "min_width": null,
            "border": null,
            "align_items": null,
            "bottom": null,
            "_model_module": "@jupyter-widgets/base",
            "top": null,
            "grid_column": null,
            "overflow_y": null,
            "overflow_x": null,
            "grid_auto_flow": null,
            "grid_area": null,
            "grid_template_columns": null,
            "flex": null,
            "_model_name": "LayoutModel",
            "justify_items": null,
            "grid_row": null,
            "max_height": null,
            "align_content": null,
            "visibility": null,
            "align_self": null,
            "height": null,
            "min_height": null,
            "padding": null,
            "grid_auto_rows": null,
            "grid_gap": null,
            "max_width": null,
            "order": null,
            "_view_module_version": "1.2.0",
            "grid_template_areas": null,
            "object_position": null,
            "object_fit": null,
            "grid_auto_columns": null,
            "margin": null,
            "display": null,
            "left": null
          }
        },
        "71016c7a4c1b43f18f533b7423e0a0b4": {
          "model_module": "@jupyter-widgets/controls",
          "model_name": "SliderStyleModel",
          "state": {
            "_view_name": "StyleView",
            "handle_color": null,
            "_model_name": "SliderStyleModel",
            "description_width": "",
            "_view_module": "@jupyter-widgets/base",
            "_model_module_version": "1.5.0",
            "_view_count": null,
            "_view_module_version": "1.2.0",
            "_model_module": "@jupyter-widgets/controls"
          }
        },
        "6f71ff5d63f94d27ad34a059d79f94e3": {
          "model_module": "@jupyter-widgets/base",
          "model_name": "LayoutModel",
          "state": {
            "_view_name": "LayoutView",
            "grid_template_rows": null,
            "right": null,
            "justify_content": null,
            "_view_module": "@jupyter-widgets/base",
            "overflow": null,
            "_model_module_version": "1.2.0",
            "_view_count": null,
            "flex_flow": null,
            "width": null,
            "min_width": null,
            "border": null,
            "align_items": null,
            "bottom": null,
            "_model_module": "@jupyter-widgets/base",
            "top": null,
            "grid_column": null,
            "overflow_y": null,
            "overflow_x": null,
            "grid_auto_flow": null,
            "grid_area": null,
            "grid_template_columns": null,
            "flex": null,
            "_model_name": "LayoutModel",
            "justify_items": null,
            "grid_row": null,
            "max_height": null,
            "align_content": null,
            "visibility": null,
            "align_self": null,
            "height": null,
            "min_height": null,
            "padding": null,
            "grid_auto_rows": null,
            "grid_gap": null,
            "max_width": null,
            "order": null,
            "_view_module_version": "1.2.0",
            "grid_template_areas": null,
            "object_position": null,
            "object_fit": null,
            "grid_auto_columns": null,
            "margin": null,
            "display": null,
            "left": null
          }
        },
        "da6d4cbaeccb40e1affe90a116d9afdd": {
          "model_module": "@jupyter-widgets/base",
          "model_name": "LayoutModel",
          "state": {
            "_view_name": "LayoutView",
            "grid_template_rows": null,
            "right": null,
            "justify_content": null,
            "_view_module": "@jupyter-widgets/base",
            "overflow": null,
            "_model_module_version": "1.2.0",
            "_view_count": null,
            "flex_flow": null,
            "width": null,
            "min_width": null,
            "border": null,
            "align_items": null,
            "bottom": null,
            "_model_module": "@jupyter-widgets/base",
            "top": null,
            "grid_column": null,
            "overflow_y": null,
            "overflow_x": null,
            "grid_auto_flow": null,
            "grid_area": null,
            "grid_template_columns": null,
            "flex": null,
            "_model_name": "LayoutModel",
            "justify_items": null,
            "grid_row": null,
            "max_height": null,
            "align_content": null,
            "visibility": null,
            "align_self": null,
            "height": null,
            "min_height": null,
            "padding": null,
            "grid_auto_rows": null,
            "grid_gap": null,
            "max_width": null,
            "order": null,
            "_view_module_version": "1.2.0",
            "grid_template_areas": null,
            "object_position": null,
            "object_fit": null,
            "grid_auto_columns": null,
            "margin": null,
            "display": null,
            "left": null
          }
        }
      }
    }
  },
  "cells": [
    {
      "cell_type": "markdown",
      "metadata": {
        "id": "qjt550b4_5cZ"
      },
      "source": [
        "# Overview of Language from Chapters 2 and 3\n",
        "\n",
        "This gives you a gentle overview of the whole of Jove. We keep essential highlights and often use simple examples.\n",
        "Later notebooks give you a more in-depth understanding of language operations."
      ]
    },
    {
      "cell_type": "markdown",
      "metadata": {
        "id": "qbJPJLZ8_5ce"
      },
      "source": [
        "## A good overview of all the definitions in this notebook and the ones later\n",
        "\n",
        "You get a thorough introduction to various language operations."
      ]
    },
    {
      "cell_type": "code",
      "metadata": {
        "id": "-R8rlHvw_5cf"
      },
      "source": [
        "# Youtube explaining contents\n",
        "from IPython.display import YouTubeVideo\n",
        "YouTubeVideo('TAEYvJn5eGc')"
      ],
      "execution_count": null,
      "outputs": []
    },
    {
      "cell_type": "code",
      "metadata": {
        "id": "gGHvTZwo_5cg",
        "outputId": "c80e11df-7f8d-441e-d49d-b459e97b7ea6",
        "colab": {
          "base_uri": "https://localhost:8080/"
        }
      },
      "source": [
        "#~~~~~~~~~~~~~~~~~~~~~~~~~~~~~~~~~~~~~~~~~~~~~~~~~~~~~~~\n",
        "import sys\n",
        "\n",
        "# -- Detect if in Own Install or in Colab\n",
        "try:\n",
        "    import google.colab\n",
        "    OWN_INSTALL = False\n",
        "except:\n",
        "    OWN_INSTALL = True\n",
        "    \n",
        "if OWN_INSTALL:\n",
        "\n",
        "  sys.path[0:0] = ['../../../../..',  '../../../../../3rdparty',  \n",
        "                   '../../../..',  '../../../../3rdparty',  \n",
        "                   '../../..',     '../../../3rdparty', \n",
        "                   '../..',        '../../3rdparty',\n",
        "                   '..',           '../3rdparty' ]\n",
        "\n",
        "else: # In colab\n",
        "  ! if [ ! -d Jove ]; then git clone https://github.com/ganeshutah/Jove Jove; fi\n",
        "  sys.path.append('./Jove')\n",
        "  sys.path.append('./Jove/jove')\n",
        "\n",
        "# -- common imports --\n",
        "from jove.LangDef   import *\n",
        "#~~~~~~~~~~~~~~~~~~~~~~~~~~~~~~~~~~~~~~~~~~~~~~~~~~~~~~~"
      ],
      "execution_count": 1,
      "outputs": [
        {
          "output_type": "stream",
          "text": [
            "Cloning into 'Jove'...\n",
            "remote: Enumerating objects: 4634, done.\u001b[K\n",
            "remote: Total 4634 (delta 0), reused 0 (delta 0), pack-reused 4634\u001b[K\n",
            "Receiving objects: 100% (4634/4634), 7.38 MiB | 25.18 MiB/s, done.\n",
            "Resolving deltas: 100% (3005/3005), done.\n",
            "You may use any of these help commands:\n",
            "help(lphi)\n",
            "help(lunit)\n",
            "help(lcat)\n",
            "help(lexp)\n",
            "help(lunion)\n",
            "help(lstar)\n",
            "help(srev)\n",
            "help(lrev)\n",
            "help(shomo)\n",
            "help(lhomo)\n",
            "help(powset)\n",
            "help(lint)\n",
            "help(lsymdiff)\n",
            "help(lminus)\n",
            "help(lissubset)\n",
            "help(lissuperset)\n",
            "help(lcomplem)\n",
            "help(product)\n",
            "help(nthnumeric)\n",
            "\n"
          ],
          "name": "stdout"
        }
      ]
    },
    {
      "cell_type": "markdown",
      "metadata": {
        "id": "7qrcTzMV_5cg"
      },
      "source": [
        "### Let us import Language Definitions"
      ]
    },
    {
      "cell_type": "code",
      "metadata": {
        "id": "Cg3qOxHd_5cg"
      },
      "source": [
        "from jove.LangDef import *"
      ],
      "execution_count": 2,
      "outputs": []
    },
    {
      "cell_type": "markdown",
      "metadata": {
        "id": "sEn_hC0D_5ch"
      },
      "source": [
        "### Define two test languages"
      ]
    },
    {
      "cell_type": "code",
      "metadata": {
        "id": "U0gjra_E_5ch"
      },
      "source": [
        "L1 = {'','a','b'}\n",
        "L2 = {'','b','c'}"
      ],
      "execution_count": 3,
      "outputs": []
    },
    {
      "cell_type": "markdown",
      "metadata": {
        "id": "n7--2fOp_5ch"
      },
      "source": [
        "### Now perform the symmetric-difference operation"
      ]
    },
    {
      "cell_type": "code",
      "metadata": {
        "id": "AXxPN3e__5ch",
        "outputId": "534582a6-ea32-46a6-b4b4-906f703b3157",
        "colab": {
          "base_uri": "https://localhost:8080/"
        }
      },
      "source": [
        "help(lsymdiff)"
      ],
      "execution_count": 4,
      "outputs": [
        {
          "output_type": "stream",
          "text": [
            "Help on function lsymdiff in module jove.LangDef:\n",
            "\n",
            "lsymdiff(L1, L2)\n",
            "    In : L1 (language : set of strings)\n",
            "         L2 (language : set of strings)\n",
            "    Out: (L1 \\ L2) union (L2 \\ L1) (sets of strings)\n",
            "    Example:\n",
            "    lsymdiff({'ab', 'bc'}, {'11', 'ab', '22'}) -> {'11', '22', 'bc'}\n",
            "\n"
          ],
          "name": "stdout"
        }
      ]
    },
    {
      "cell_type": "code",
      "metadata": {
        "id": "xd8CDLa-_5ch",
        "outputId": "018ba2d0-08fa-4e4b-944e-7918f2295b6a",
        "colab": {
          "base_uri": "https://localhost:8080/"
        }
      },
      "source": [
        "lsymdiff(L1,L2)"
      ],
      "execution_count": 5,
      "outputs": [
        {
          "output_type": "execute_result",
          "data": {
            "text/plain": [
              "{'a', 'c'}"
            ]
          },
          "metadata": {
            "tags": []
          },
          "execution_count": 5
        }
      ]
    },
    {
      "cell_type": "markdown",
      "metadata": {
        "id": "q-fBHlqq_5ci"
      },
      "source": [
        "### Concatenate and see the difference in the # of strings wrt cartesian product"
      ]
    },
    {
      "cell_type": "code",
      "metadata": {
        "id": "FQNeiCfB_5ci",
        "outputId": "cd128a75-3336-403e-e11a-857c68f10e8d",
        "colab": {
          "base_uri": "https://localhost:8080/"
        }
      },
      "source": [
        "help(lcat)"
      ],
      "execution_count": 6,
      "outputs": [
        {
          "output_type": "stream",
          "text": [
            "Help on function lcat in module jove.LangDef:\n",
            "\n",
            "lcat(L1, L2)\n",
            "    In : L1 (language : a set),\n",
            "         L2 (language : a set).\n",
            "    Out: L1 concat L2 (language : a set).\n",
            "    Example:\n",
            "    L1 = {'ab', 'bc'} \n",
            "    L2 = {'11', 'ab', '22'} \n",
            "    lcat(L1,L2) -> {'abab', 'bc22', 'ab11', 'ab22', 'bcab', 'bc11'}\n",
            "\n"
          ],
          "name": "stdout"
        }
      ]
    },
    {
      "cell_type": "code",
      "metadata": {
        "id": "rccbyjz4_5ci",
        "outputId": "21eda94d-c898-468f-b546-8073f431f014",
        "colab": {
          "base_uri": "https://localhost:8080/"
        }
      },
      "source": [
        "lcat(L1,L2)"
      ],
      "execution_count": 7,
      "outputs": [
        {
          "output_type": "execute_result",
          "data": {
            "text/plain": [
              "{'', 'a', 'ab', 'ac', 'b', 'bb', 'bc', 'c'}"
            ]
          },
          "metadata": {
            "tags": []
          },
          "execution_count": 7
        }
      ]
    },
    {
      "cell_type": "markdown",
      "metadata": {
        "id": "frfbIkXK_5ci"
      },
      "source": [
        "### Cartesian product would yield more elements"
      ]
    },
    {
      "cell_type": "code",
      "metadata": {
        "id": "hy46cQhK_5ci",
        "outputId": "be292956-f1f3-4547-83b3-fd2923698355",
        "colab": {
          "base_uri": "https://localhost:8080/"
        }
      },
      "source": [
        "help(product)"
      ],
      "execution_count": 8,
      "outputs": [
        {
          "output_type": "stream",
          "text": [
            "Help on function product in module jove.LangDef:\n",
            "\n",
            "product(S1, S2)\n",
            "    In : S1 (set)\n",
            "         S2 (set)\n",
            "    Out: Cartesian product of S1 and S2 (set of pairs)\n",
            "\n"
          ],
          "name": "stdout"
        }
      ]
    },
    {
      "cell_type": "code",
      "metadata": {
        "id": "KfWgPI77_5cj",
        "outputId": "dce8161a-15fc-4822-9d42-df54bc20e7ac",
        "colab": {
          "base_uri": "https://localhost:8080/"
        }
      },
      "source": [
        "product(L1,L2)"
      ],
      "execution_count": 9,
      "outputs": [
        {
          "output_type": "execute_result",
          "data": {
            "text/plain": [
              "{('', ''),\n",
              " ('', 'b'),\n",
              " ('', 'c'),\n",
              " ('a', ''),\n",
              " ('a', 'b'),\n",
              " ('a', 'c'),\n",
              " ('b', ''),\n",
              " ('b', 'b'),\n",
              " ('b', 'c')}"
            ]
          },
          "metadata": {
            "tags": []
          },
          "execution_count": 9
        }
      ]
    },
    {
      "cell_type": "markdown",
      "metadata": {
        "id": "w1IE_HM-_5cj"
      },
      "source": [
        "### Let's perform exponentiation"
      ]
    },
    {
      "cell_type": "code",
      "metadata": {
        "id": "MMG28Y6e_5cj",
        "outputId": "77cdff18-5ed8-4964-832e-7f5c4c422cdc",
        "colab": {
          "base_uri": "https://localhost:8080/"
        }
      },
      "source": [
        "help(lexp)"
      ],
      "execution_count": 10,
      "outputs": [
        {
          "output_type": "stream",
          "text": [
            "Help on function lexp in module jove.LangDef:\n",
            "\n",
            "lexp(L, n)\n",
            "    In : L (language : a set),\n",
            "         n (exponent : a nat).\n",
            "    Out: L^n (language : a set).\n",
            "    Example:\n",
            "    L = {'ab', 'bc'}\n",
            "    n = 2\n",
            "    lexp(A,2) -> {'abab', 'bcab', 'bcbc', 'abbc'}\n",
            "\n"
          ],
          "name": "stdout"
        }
      ]
    },
    {
      "cell_type": "code",
      "metadata": {
        "id": "7E4roiH8_5cj",
        "outputId": "681210ca-93bf-42ff-e7a7-85b79a5340db",
        "colab": {
          "base_uri": "https://localhost:8080/"
        }
      },
      "source": [
        "lexp(L1,3)"
      ],
      "execution_count": 11,
      "outputs": [
        {
          "output_type": "execute_result",
          "data": {
            "text/plain": [
              "{'',\n",
              " 'a',\n",
              " 'aa',\n",
              " 'aaa',\n",
              " 'aab',\n",
              " 'ab',\n",
              " 'aba',\n",
              " 'abb',\n",
              " 'b',\n",
              " 'ba',\n",
              " 'baa',\n",
              " 'bab',\n",
              " 'bb',\n",
              " 'bba',\n",
              " 'bbb'}"
            ]
          },
          "metadata": {
            "tags": []
          },
          "execution_count": 11
        }
      ]
    },
    {
      "cell_type": "markdown",
      "metadata": {
        "id": "s6Odd0Jm_5cj"
      },
      "source": [
        "### Star is union of all finite exponentiations; we truncate star in Jove to finite extents."
      ]
    },
    {
      "cell_type": "code",
      "metadata": {
        "id": "OywJA0do_5cj",
        "outputId": "5cce01ef-b8eb-4e18-e733-bc72982e9cf8",
        "colab": {
          "base_uri": "https://localhost:8080/"
        }
      },
      "source": [
        "help(lstar)"
      ],
      "execution_count": 12,
      "outputs": [
        {
          "output_type": "stream",
          "text": [
            "Help on function lstar in module jove.LangDef:\n",
            "\n",
            "lstar(L, n)\n",
            "    In : L (language : a set),\n",
            "            n (bound for lstar : a nat). \n",
            "       Out: L*_n (language : a set)\n",
            "    Example:\n",
            "    L = {'ab','bc'}\n",
            "    n = 2\n",
            "    lstar(L,2) -> {'abab', 'bcbc', 'ab', 'abbc', '', 'bc', 'bcab'}\n",
            "\n"
          ],
          "name": "stdout"
        }
      ]
    },
    {
      "cell_type": "code",
      "metadata": {
        "id": "1VuexW3U_5ck",
        "outputId": "6d4be63c-7821-4bfc-b4e9-bd6292b90eff",
        "colab": {
          "base_uri": "https://localhost:8080/"
        }
      },
      "source": [
        "lstar(L2,2)"
      ],
      "execution_count": 13,
      "outputs": [
        {
          "output_type": "execute_result",
          "data": {
            "text/plain": [
              "{'', 'b', 'bb', 'bc', 'c', 'cb', 'cc'}"
            ]
          },
          "metadata": {
            "tags": []
          },
          "execution_count": 13
        }
      ]
    },
    {
      "cell_type": "code",
      "metadata": {
        "id": "C6Ti8n13_5ck",
        "outputId": "717c9ebc-a3db-48f9-eec3-540dfc3ca9b3",
        "colab": {
          "base_uri": "https://localhost:8080/"
        }
      },
      "source": [
        "lstar(L1,3)"
      ],
      "execution_count": 14,
      "outputs": [
        {
          "output_type": "execute_result",
          "data": {
            "text/plain": [
              "{'',\n",
              " 'a',\n",
              " 'aa',\n",
              " 'aaa',\n",
              " 'aab',\n",
              " 'ab',\n",
              " 'aba',\n",
              " 'abb',\n",
              " 'b',\n",
              " 'ba',\n",
              " 'baa',\n",
              " 'bab',\n",
              " 'bb',\n",
              " 'bba',\n",
              " 'bbb'}"
            ]
          },
          "metadata": {
            "tags": []
          },
          "execution_count": 14
        }
      ]
    },
    {
      "cell_type": "markdown",
      "metadata": {
        "id": "5Iu30X7X_5ck"
      },
      "source": [
        "### We can generate powersets"
      ]
    },
    {
      "cell_type": "code",
      "metadata": {
        "id": "8giDpzds_5ck",
        "outputId": "d31f682c-c3ce-4737-ce77-a2aff79c243d",
        "colab": {
          "base_uri": "https://localhost:8080/"
        }
      },
      "source": [
        "help(powset)"
      ],
      "execution_count": 15,
      "outputs": [
        {
          "output_type": "stream",
          "text": [
            "Help on function powset in module jove.LangDef:\n",
            "\n",
            "powset(S)\n",
            "    In : S (set)\n",
            "    Out: List of lists representing powerset.\n",
            "         Since sets/lists are unhashable, we convert the set \n",
            "         to a list,perform the powerset operations, leaving \n",
            "         the result as a list (can't convert back to a set).\n",
            "    Example:\n",
            "    S = {'ab', 'bc'}\n",
            "    powset(S) -> [['ab', 'bc'], ['bc'], ['ab'], []]\n",
            "\n"
          ],
          "name": "stdout"
        }
      ]
    },
    {
      "cell_type": "code",
      "metadata": {
        "id": "U5kSKrwE_5ck",
        "outputId": "c55a993d-3dcb-4274-9696-ca1f1fa4a65a",
        "colab": {
          "base_uri": "https://localhost:8080/"
        }
      },
      "source": [
        "powset(L2)"
      ],
      "execution_count": 16,
      "outputs": [
        {
          "output_type": "execute_result",
          "data": {
            "text/plain": [
              "[[], ['b'], ['c'], ['c', 'b'], [''], ['', 'b'], ['', 'c'], ['', 'c', 'b']]"
            ]
          },
          "metadata": {
            "tags": []
          },
          "execution_count": 16
        }
      ]
    },
    {
      "cell_type": "markdown",
      "metadata": {
        "id": "f-MjunQ8_5ck"
      },
      "source": [
        "### We can generate sets according to numeric order"
      ]
    },
    {
      "cell_type": "code",
      "metadata": {
        "id": "zybXZ_fk_5ck",
        "outputId": "3ed6554c-e0fa-4183-f701-4a99ad8f8092",
        "colab": {
          "base_uri": "https://localhost:8080/"
        }
      },
      "source": [
        "help(nthnumeric)"
      ],
      "execution_count": 17,
      "outputs": [
        {
          "output_type": "stream",
          "text": [
            "Help on function nthnumeric in module jove.LangDef:\n",
            "\n",
            "nthnumeric(N, S=['a', 'b'])\n",
            "    Assume S ('Sigma') is a 2-sized list of chars (default ['a','b']). \n",
            "    Produce the Nth string in numeric order, where N >= 0.\n",
            "    Idea : Given N, get b = floor(log_2(N+1)) - need that \n",
            "    many places; what to fill in the places is the binary \n",
            "    code for N - (2^b - 1) with 0 as S[0] and 1 as S[1].\n",
            "\n"
          ],
          "name": "stdout"
        }
      ]
    },
    {
      "cell_type": "code",
      "metadata": {
        "id": "tdaviZ72_5cl",
        "outputId": "54b464a8-3d53-4816-aa89-47ebddaa7ab6",
        "colab": {
          "base_uri": "https://localhost:8080/",
          "height": 35
        }
      },
      "source": [
        "nthnumeric(8, ['0','1'])"
      ],
      "execution_count": 18,
      "outputs": [
        {
          "output_type": "execute_result",
          "data": {
            "application/vnd.google.colaboratory.intrinsic+json": {
              "type": "string"
            },
            "text/plain": [
              "'001'"
            ]
          },
          "metadata": {
            "tags": []
          },
          "execution_count": 18
        }
      ]
    },
    {
      "cell_type": "markdown",
      "metadata": {
        "id": "n5XYS65o_5cl"
      },
      "source": [
        "### Now, we can generate the first 27 strings according to numeric order from alphabet {0,1}"
      ]
    },
    {
      "cell_type": "code",
      "metadata": {
        "id": "g5f5eLh1_5cl",
        "outputId": "666ba0d6-8a17-4f85-83e8-765deffb1645",
        "colab": {
          "base_uri": "https://localhost:8080/"
        }
      },
      "source": [
        "[nthnumeric(i, ['0','1']) for i in range(28)]"
      ],
      "execution_count": 19,
      "outputs": [
        {
          "output_type": "execute_result",
          "data": {
            "text/plain": [
              "['',\n",
              " '0',\n",
              " '1',\n",
              " '00',\n",
              " '01',\n",
              " '10',\n",
              " '11',\n",
              " '000',\n",
              " '001',\n",
              " '010',\n",
              " '011',\n",
              " '100',\n",
              " '101',\n",
              " '110',\n",
              " '111',\n",
              " '0000',\n",
              " '0001',\n",
              " '0010',\n",
              " '0011',\n",
              " '0100',\n",
              " '0101',\n",
              " '0110',\n",
              " '0111',\n",
              " '1000',\n",
              " '1001',\n",
              " '1010',\n",
              " '1011',\n",
              " '1100']"
            ]
          },
          "metadata": {
            "tags": []
          },
          "execution_count": 19
        }
      ]
    },
    {
      "cell_type": "markdown",
      "metadata": {
        "id": "PBO1xRUf_5cl"
      },
      "source": [
        "### We can animate using Jupyter widgets!\n",
        "\n",
        "Below, we've arranged Jupyter widgets to demo \n",
        "language exponentiation and truncated language star"
      ]
    },
    {
      "cell_type": "code",
      "metadata": {
        "id": "a7Z45pKH_5cl"
      },
      "source": [
        "import ipywidgets as wdg\n",
        "L1 = {'a','b'}\n",
        "L2 = {'ab','bc'}\n",
        "L3 = {'a','b','c'}\n",
        "M =  {'01', '1'}"
      ],
      "execution_count": 20,
      "outputs": []
    },
    {
      "cell_type": "code",
      "metadata": {
        "id": "DStsq-qe_5cl",
        "outputId": "6607a689-f4dc-4a10-edeb-fd2902c6ea9e",
        "colab": {
          "base_uri": "https://localhost:8080/",
          "height": 115,
          "referenced_widgets": [
            "b592bced0bed41ecac44e452c03978c9",
            "f14cbb8d167144cb8fd5977048d2de43",
            "8c7275b1d2f94fedbbf72674030bd7ce",
            "78cb13369d2a40d79bb70091baf9fbf1",
            "e4ef7027f05440679ec111ca2b5eef47",
            "87bc5999056c457a83f97addcde08533",
            "d734241e7f23412bb777563bbb8a0d93",
            "9465c00ef7854052851f45acf538eb3c",
            "a986291b1dea4e7a9fd4a96983792ecc",
            "bfba83d7703e43d4ae3914e45f81be2e"
          ]
        }
      },
      "source": [
        "# Animate language exponentiation\n",
        "# You will be able to take exponents of L1, L2, L3, M, \n",
        "# the zero language lphi or the unit language lunit. \n",
        "# The last two will be very illuminating for you!\n",
        "\n",
        "wdg.interact(lexp,\n",
        "L={'L3': L3, 'L1': L1, 'L2':L2, 'M': M, 'lphi': lphi(), 'lunit' : lunit()}, n=(0,7))"
      ],
      "execution_count": 21,
      "outputs": [
        {
          "output_type": "display_data",
          "data": {
            "application/vnd.jupyter.widget-view+json": {
              "model_id": "b592bced0bed41ecac44e452c03978c9",
              "version_minor": 0,
              "version_major": 2
            },
            "text/plain": [
              "interactive(children=(Dropdown(description='L', options={'L3': {'c', 'b', 'a'}, 'L1': {'b', 'a'}, 'L2': {'ab',…"
            ]
          },
          "metadata": {
            "tags": []
          }
        },
        {
          "output_type": "execute_result",
          "data": {
            "text/plain": [
              "<function jove.LangDef.lexp>"
            ]
          },
          "metadata": {
            "tags": []
          },
          "execution_count": 21
        }
      ]
    },
    {
      "cell_type": "code",
      "metadata": {
        "id": "qmpt8Hg-_5cm",
        "outputId": "dddadb17-af95-421a-e682-20771df0dc56",
        "colab": {
          "base_uri": "https://localhost:8080/",
          "height": 778,
          "referenced_widgets": [
            "1a843728d2364b859293b30a530d930d",
            "f391337e9e5848cea17599b1347c1c71",
            "4ee913d3c44e4e3282abbbde13f761fa",
            "c6991a3ad5fb47d292ee35135b99a497",
            "888f9b8ed9f24eb0ab80776b7a938219",
            "bfb0ebfe6c494882aeebfb186f89e971",
            "253502c20d2149fda23c0c462adb60af",
            "71016c7a4c1b43f18f533b7423e0a0b4",
            "6f71ff5d63f94d27ad34a059d79f94e3",
            "da6d4cbaeccb40e1affe90a116d9afdd"
          ]
        }
      },
      "source": [
        "# Animate language star\n",
        "# You will be able to take truncated stars of L1, L2, L3, M, \n",
        "# the zero language lphi or the unit language lunit. \n",
        "# The last two will be very illuminating for you!\n",
        "\n",
        "wdg.interact(lstar,\n",
        "L={'L3': L3, 'L1': L1, 'L2':L2, 'M': M, 'lphi': lphi(), 'lunit' : lunit()}, n=(0,7))"
      ],
      "execution_count": 22,
      "outputs": [
        {
          "output_type": "display_data",
          "data": {
            "application/vnd.jupyter.widget-view+json": {
              "model_id": "1a843728d2364b859293b30a530d930d",
              "version_minor": 0,
              "version_major": 2
            },
            "text/plain": [
              "interactive(children=(Dropdown(description='L', options={'L3': {'c', 'b', 'a'}, 'L1': {'b', 'a'}, 'L2': {'ab',…"
            ]
          },
          "metadata": {
            "tags": []
          }
        },
        {
          "output_type": "execute_result",
          "data": {
            "text/plain": [
              "<function jove.LangDef.lstar>"
            ]
          },
          "metadata": {
            "tags": []
          },
          "execution_count": 22
        }
      ]
    },
    {
      "cell_type": "markdown",
      "metadata": {
        "id": "j9UZ5A6i_5cm"
      },
      "source": [
        "# Now, work through 02_2_Language_Details and read again Chapters 2 and 3!"
      ]
    },
    {
      "cell_type": "markdown",
      "metadata": {
        "id": "Cass0Dr4EADV"
      },
      "source": [
        "**Tyler read through this**"
      ]
    }
  ]
}