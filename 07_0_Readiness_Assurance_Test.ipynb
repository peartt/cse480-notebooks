{
  "nbformat": 4,
  "nbformat_minor": 0,
  "metadata": {
    "colab": {
      "name": "07_0_Readiness_Assurance_Test.ipynb",
      "provenance": [],
      "authorship_tag": "ABX9TyMpxkVc0zdbwp6qK7KKDxRO",
      "include_colab_link": true
    },
    "kernelspec": {
      "name": "python3",
      "display_name": "Python 3"
    }
  },
  "cells": [
    {
      "cell_type": "markdown",
      "metadata": {
        "id": "view-in-github",
        "colab_type": "text"
      },
      "source": [
        "<a href=\"https://colab.research.google.com/github/byui-cse/cse480-notebooks/blob/master/07_0_Readiness_Assurance_Test.ipynb\" target=\"_parent\"><img src=\"https://colab.research.google.com/assets/colab-badge.svg\" alt=\"Open In Colab\"/></a>"
      ]
    },
    {
      "cell_type": "markdown",
      "metadata": {
        "id": "b8_cnTzinSZL"
      },
      "source": [
        "# Readiness Assurance Test\n",
        "## Due: Tuesday, 16 February 2021, 2:20 pm"
      ]
    },
    {
      "cell_type": "markdown",
      "metadata": {
        "id": "zAVIYXzTncfA"
      },
      "source": [
        "The Pumping Lemma resembles the following English assertion (courtesy Ganesh in his earlier book):\n",
        "\n",
        "*A zoo Z is interesting if FOR SOME natural number n and FOR ALL giraffes g in Z that are more than n feet in height, THERE EXISTS a patch on g's skin of exactly n inches circumference, such that within this patch, FOR ALL hair h, the color of h is brown.*\n",
        "\n",
        "To show that Z is **UNinteresting**, we have to find one giraffe of height greater than n such that for all patches, either the patch is not n inches in circumference, or (it is, and) there exists a non-brown hair in it.\n",
        "\n",
        "Match the terms in the two paragraphs above with the corresponding terms in the pumping lemma:\n",
        "\n"
      ]
    },
    {
      "cell_type": "markdown",
      "metadata": {
        "id": "6L5D1lV-nwiQ"
      },
      "source": [
        "1. zoo\n",
        "2. interesting\n",
        "3. giraffe\n",
        "4. feet in height\n",
        "5. patch\n",
        "6. n inches circumference\n",
        "7. hair\n",
        "8. color is brown"
      ]
    },
    {
      "cell_type": "markdown",
      "metadata": {
        "id": "Upzwib4Bnz2a"
      },
      "source": [
        "> a. decomposition into 3 strings\n",
        "\n",
        "> b. certain string length restrictions\n",
        "\n",
        "> c. regular\n",
        "\n",
        "> d. $i \\ge 0$\n",
        "\n",
        "> e. characters in length\n",
        "\n",
        "> f. string\n",
        "\n",
        "> g. $xy^{i}z$ is in the language.\n",
        "\n",
        "> h. language"
      ]
    },
    {
      "cell_type": "code",
      "metadata": {
        "id": "9i__9hIinMmf"
      },
      "source": [
        "# Put your answer here as a python dictionary:\n",
        "match = {1: 'x', 2: 'y', 3: 'z'} # Not the right matching, just an example"
      ],
      "execution_count": null,
      "outputs": []
    }
  ]
}