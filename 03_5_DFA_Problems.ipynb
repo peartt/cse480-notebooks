{
  "nbformat": 4,
  "nbformat_minor": 0,
  "metadata": {
    "kernelspec": {
      "display_name": "Python 3",
      "language": "python",
      "name": "python3"
    },
    "language_info": {
      "codemirror_mode": {
        "name": "ipython",
        "version": 3
      },
      "file_extension": ".py",
      "mimetype": "text/x-python",
      "name": "python",
      "nbconvert_exporter": "python",
      "pygments_lexer": "ipython3",
      "version": "3.9.0"
    },
    "colab": {
      "name": "03_5_DFA_Problems.ipynb",
      "provenance": []
    }
  },
  "cells": [
    {
      "cell_type": "markdown",
      "metadata": {
        "id": "9fr8ifkeVD9_"
      },
      "source": [
        "# First let's import, then look for the assignment below"
      ]
    },
    {
      "cell_type": "code",
      "metadata": {
        "id": "W3-alkaUVD-G",
        "outputId": "7a44c3f5-52ad-433d-9c5b-6c22ced7a26e",
        "colab": {
          "base_uri": "https://localhost:8080/"
        }
      },
      "source": [
        "#~~~~~~~~~~~~~~~~~~~~~~~~~~~~~~~~~~~~~~~~~~~~~~~~~~~~~~~\n",
        "import sys\n",
        "\n",
        "# -- Detect if in Own Install or in Colab\n",
        "try:\n",
        "    import google.colab\n",
        "    OWN_INSTALL = False\n",
        "except:\n",
        "    OWN_INSTALL = True\n",
        "    \n",
        "if OWN_INSTALL:\n",
        "\n",
        "  sys.path[0:0] = ['../../../../..',  '../../../../../3rdparty',  \n",
        "                   '../../../..',  '../../../../3rdparty',  \n",
        "                   '../../..',     '../../../3rdparty', \n",
        "                   '../..',        '../../3rdparty',\n",
        "                   '..',           '../3rdparty' ]\n",
        "\n",
        "else: # In colab\n",
        "  ! if [ ! -d Jove ]; then git clone https://github.com/ganeshutah/Jove Jove; fi\n",
        "  sys.path.append('./Jove')\n",
        "  sys.path.append('./Jove/jove')\n",
        "\n",
        "# -- common imports --\n",
        "from jove.LangDef   import *  #-- mainly for nthnumeric\n",
        "from jove.Def_md2mc import *  #-- for md2mc\n",
        "from jove.Def_DFA   import *  #-- for all DFA functions\n",
        "from jove.DotBashers import * #-- for dotObj_dfa\n",
        "#~~~~~~~~~~~~~~~~~~~~~~~~~~~~~~~~~~~~~~~~~~~~~~~~~~~~~~~"
      ],
      "execution_count": 1,
      "outputs": [
        {
          "output_type": "stream",
          "text": [
            "Cloning into 'Jove'...\n",
            "remote: Enumerating objects: 4634, done.\u001b[K\n",
            "remote: Total 4634 (delta 0), reused 0 (delta 0), pack-reused 4634\u001b[K\n",
            "Receiving objects: 100% (4634/4634), 7.38 MiB | 7.30 MiB/s, done.\n",
            "Resolving deltas: 100% (3005/3005), done.\n",
            "You may use any of these help commands:\n",
            "help(lphi)\n",
            "help(lunit)\n",
            "help(lcat)\n",
            "help(lexp)\n",
            "help(lunion)\n",
            "help(lstar)\n",
            "help(srev)\n",
            "help(lrev)\n",
            "help(shomo)\n",
            "help(lhomo)\n",
            "help(powset)\n",
            "help(lint)\n",
            "help(lsymdiff)\n",
            "help(lminus)\n",
            "help(lissubset)\n",
            "help(lissuperset)\n",
            "help(lcomplem)\n",
            "help(product)\n",
            "help(nthnumeric)\n",
            "\n",
            "You may use any of these help commands:\n",
            "help(md2mc)\n",
            ".. and if you want to dig more, then ..\n",
            "help(default_line_attr)\n",
            "help(length_ok_input_items)\n",
            "help(union_line_attr_list_fld)\n",
            "help(extend_rsltdict)\n",
            "help(form_delta)\n",
            "help(get_machine_components)\n",
            "\n",
            "You may use any of these help commands:\n",
            "help(ResetStNum)\n",
            "help(NxtStateStr)\n",
            "\n",
            "You may use any of these help commands:\n",
            "help(mkp_dfa)\n",
            "help(mk_dfa)\n",
            "help(totalize_dfa)\n",
            "help(addtosigma_delta)\n",
            "help(step_dfa)\n",
            "help(run_dfa)\n",
            "help(accepts_dfa)\n",
            "help(comp_dfa)\n",
            "help(union_dfa)\n",
            "help(intersect_dfa)\n",
            "help(pruneUnreach)\n",
            "help(iso_dfa)\n",
            "help(langeq_dfa)\n",
            "help(same_status)\n",
            "help(h_langeq_dfa)\n",
            "help(fixptDist)\n",
            "help(min_dfa)\n",
            "help(pairFR)\n",
            "help(state_combos)\n",
            "help(sepFinNonFin)\n",
            "help(bash_eql_classes)\n",
            "help(listminus)\n",
            "help(bash_1)\n",
            "help(mk_rep_eqc)\n",
            "help(F_of)\n",
            "help(rep_of_s)\n",
            "help(q0_of)\n",
            "help(Delta_of)\n",
            "help(mk_state_eqc_name)\n",
            "\n"
          ],
          "name": "stdout"
        }
      ]
    },
    {
      "cell_type": "markdown",
      "metadata": {
        "id": "FrvyEqeDVD-H"
      },
      "source": [
        "# Task 1: Define DFA Even010\n",
        "\n",
        "<font size=\"4\">    \n",
        "Using Jove's markdown, define a DFA for the language of strings over alphabet $\\{0,1\\}$ that accepts an even number of NON-OVERLAPPING occurrences of $010$s. Thoroughly document your construction!\n",
        "    \n",
        "HERE ARE EXAMPLES :\n",
        "\n",
        "* 01010 - does NOT have an even number of 0's because we wanted NON-OVERLAPPING\n",
        "\n",
        "* 0101010 - has two NON-OVERLAPPING occurrences of 010 -- that is what we want!\n",
        "\n",
        "* 0101111010 - has two NON-OVERLAPPING occurrences of 010\n",
        "\n",
        "* 111111 - has ZERO occurrences of 010\n",
        "    \n",
        "</font>"
      ]
    },
    {
      "cell_type": "markdown",
      "metadata": {
        "id": "ZlxhHz5RVD-H"
      },
      "source": [
        "### Hint: Name states to remember the essence of the history of inputs so far. If you do so, and also keep the sense of where the machine is (in an I state, an IF state or an F state), then you'll have the solution fall out automatically!\n",
        "\n",
        "Please read the Jove_User_Manual and heed the advice given there regarding how to write your automaton markdowns, how to place comments, how to group the lines of a DFA per state, and how to order which transition you may first consider.\n"
      ]
    },
    {
      "cell_type": "code",
      "metadata": {
        "id": "tSzDbnMtVD-I",
        "outputId": "ad2accd6-a844-408a-f2a3-b5dd61e2d1da",
        "colab": {
          "base_uri": "https://localhost:8080/"
        }
      },
      "source": [
        "Even010 = md2mc('''\n",
        "DFA \n",
        "\n",
        "!! Put comments describing overall plan here\n",
        "!! This code for this module was created with my group (The Empty Set) on Friday. Expect 'similarities' in our code\n",
        "\n",
        " IF : 0 -> FA\n",
        " IF : 1 -> IF\n",
        " FA : 1 -> FB\n",
        " FA : 0 -> FA\n",
        " FB : 0 -> C\n",
        " FB : 1 -> IF\n",
        " C : 0 -> D\n",
        " C : 1 -> C\n",
        " D : 0 -> D\n",
        " D : 1 -> E\n",
        " E : 0 -> F\n",
        " E : 1 -> C\n",
        " F : 1 -> F\n",
        " F : 0 -> FG\n",
        " FG : 1 -> FH\n",
        " FG : 0 -> FG\n",
        " FH : 0 -> C\n",
        " FH : 1 -> F \n",
        "''')"
      ],
      "execution_count": 2,
      "outputs": [
        {
          "output_type": "stream",
          "text": [
            "Generating LALR tables\n"
          ],
          "name": "stderr"
        }
      ]
    },
    {
      "cell_type": "code",
      "metadata": {
        "id": "5cMNfKW5VD-I",
        "outputId": "10e3479d-cd03-45ae-c63d-ce9d31943c83",
        "colab": {
          "base_uri": "https://localhost:8080/",
          "height": 253
        }
      },
      "source": [
        "dotObj_dfa(Even010)"
      ],
      "execution_count": 3,
      "outputs": [
        {
          "output_type": "execute_result",
          "data": {
            "text/plain": [
              "<graphviz.dot.Digraph at 0x7f25a9fb4dd8>"
            ],
            "image/svg+xml": "<?xml version=\"1.0\" encoding=\"UTF-8\" standalone=\"no\"?>\n<!DOCTYPE svg PUBLIC \"-//W3C//DTD SVG 1.1//EN\"\n \"http://www.w3.org/Graphics/SVG/1.1/DTD/svg11.dtd\">\n<!-- Generated by graphviz version 2.40.1 (20161225.0304)\n -->\n<!-- Title: %3 Pages: 1 -->\n<svg width=\"895pt\" height=\"174pt\"\n viewBox=\"0.00 0.00 894.68 173.75\" xmlns=\"http://www.w3.org/2000/svg\" xmlns:xlink=\"http://www.w3.org/1999/xlink\">\n<g id=\"graph0\" class=\"graph\" transform=\"scale(1 1) rotate(0) translate(4 169.748)\">\n<title>%3</title>\n<polygon fill=\"#ffffff\" stroke=\"transparent\" points=\"-4,4 -4,-169.748 890.6805,-169.748 890.6805,4 -4,4\"/>\n<!-- EMPTY -->\n<g id=\"node1\" class=\"node\">\n<title>EMPTY</title>\n</g>\n<!-- IF -->\n<g id=\"node7\" class=\"node\">\n<title>IF</title>\n<ellipse fill=\"none\" stroke=\"#000000\" cx=\"113.8483\" cy=\"-46\" rx=\"18.724\" ry=\"18.724\"/>\n<ellipse fill=\"none\" stroke=\"#000000\" cx=\"113.8483\" cy=\"-46\" rx=\"22.6977\" ry=\"22.6977\"/>\n<text text-anchor=\"middle\" x=\"113.8483\" y=\"-42.3\" font-family=\"Times,serif\" font-size=\"14.00\" fill=\"#000000\">IF</text>\n</g>\n<!-- EMPTY&#45;&gt;IF -->\n<g id=\"edge1\" class=\"edge\">\n<title>EMPTY&#45;&gt;IF</title>\n<path fill=\"none\" stroke=\"#000000\" d=\"M54.0033,-46C62.5212,-46 72.0276,-46 80.9112,-46\"/>\n<polygon fill=\"#000000\" stroke=\"#000000\" points=\"80.9572,-49.5001 90.9572,-46 80.9572,-42.5001 80.9572,-49.5001\"/>\n</g>\n<!-- D -->\n<g id=\"node2\" class=\"node\">\n<title>D</title>\n<ellipse fill=\"none\" stroke=\"#000000\" cx=\"489.6886\" cy=\"-97\" rx=\"18\" ry=\"18\"/>\n<text text-anchor=\"middle\" x=\"489.6886\" y=\"-93.3\" font-family=\"Times,serif\" font-size=\"14.00\" fill=\"#000000\">D</text>\n</g>\n<!-- D&#45;&gt;D -->\n<g id=\"edge10\" class=\"edge\">\n<title>D&#45;&gt;D</title>\n<path fill=\"none\" stroke=\"#000000\" d=\"M482.3058,-113.6641C480.6651,-123.625 483.1261,-133 489.6886,-133 493.8927,-133 496.4135,-129.1525 497.251,-123.7682\"/>\n<polygon fill=\"#000000\" stroke=\"#000000\" points=\"500.7487,-123.6002 497.0714,-113.6641 493.7498,-123.7247 500.7487,-123.6002\"/>\n<text text-anchor=\"middle\" x=\"489.6886\" y=\"-136.8\" font-family=\"Times,serif\" font-size=\"14.00\" fill=\"#000000\">0 </text>\n</g>\n<!-- E -->\n<g id=\"node4\" class=\"node\">\n<title>E</title>\n<ellipse fill=\"none\" stroke=\"#000000\" cx=\"573.6886\" cy=\"-64\" rx=\"18\" ry=\"18\"/>\n<text text-anchor=\"middle\" x=\"573.6886\" y=\"-60.3\" font-family=\"Times,serif\" font-size=\"14.00\" fill=\"#000000\">E</text>\n</g>\n<!-- D&#45;&gt;E -->\n<g id=\"edge11\" class=\"edge\">\n<title>D&#45;&gt;E</title>\n<path fill=\"none\" stroke=\"#000000\" d=\"M506.6872,-90.322C518.3006,-85.7596 533.9237,-79.6219 547.1623,-74.4211\"/>\n<polygon fill=\"#000000\" stroke=\"#000000\" points=\"548.6875,-77.5823 556.7152,-70.6681 546.1279,-71.0671 548.6875,-77.5823\"/>\n<text text-anchor=\"middle\" x=\"531.6886\" y=\"-85.8\" font-family=\"Times,serif\" font-size=\"14.00\" fill=\"#000000\">1 </text>\n</g>\n<!-- C -->\n<g id=\"node3\" class=\"node\">\n<title>C</title>\n<ellipse fill=\"none\" stroke=\"#000000\" cx=\"405.6886\" cy=\"-46\" rx=\"18\" ry=\"18\"/>\n<text text-anchor=\"middle\" x=\"405.6886\" y=\"-42.3\" font-family=\"Times,serif\" font-size=\"14.00\" fill=\"#000000\">C</text>\n</g>\n<!-- C&#45;&gt;D -->\n<g id=\"edge8\" class=\"edge\">\n<title>C&#45;&gt;D</title>\n<path fill=\"none\" stroke=\"#000000\" d=\"M421.0955,-55.3542C433.4507,-62.8556 451.0216,-73.5236 465.2864,-82.1844\"/>\n<polygon fill=\"#000000\" stroke=\"#000000\" points=\"463.7306,-85.3343 474.0949,-87.5324 467.3634,-79.3508 463.7306,-85.3343\"/>\n<text text-anchor=\"middle\" x=\"447.6886\" y=\"-77.8\" font-family=\"Times,serif\" font-size=\"14.00\" fill=\"#000000\">0 </text>\n</g>\n<!-- C&#45;&gt;C -->\n<g id=\"edge9\" class=\"edge\">\n<title>C&#45;&gt;C</title>\n<path fill=\"none\" stroke=\"#000000\" d=\"M398.3058,-62.6641C396.6651,-72.625 399.1261,-82 405.6886,-82 409.8927,-82 412.4135,-78.1525 413.251,-72.7682\"/>\n<polygon fill=\"#000000\" stroke=\"#000000\" points=\"416.7487,-72.6002 413.0714,-62.6641 409.7498,-72.7247 416.7487,-72.6002\"/>\n<text text-anchor=\"middle\" x=\"405.6886\" y=\"-85.8\" font-family=\"Times,serif\" font-size=\"14.00\" fill=\"#000000\">1 </text>\n</g>\n<!-- E&#45;&gt;C -->\n<g id=\"edge13\" class=\"edge\">\n<title>E&#45;&gt;C</title>\n<path fill=\"none\" stroke=\"#000000\" d=\"M555.7894,-61.325C542.5294,-59.4003 524.0075,-56.8316 507.6886,-55 482.8303,-52.21 454.4828,-49.768 433.992,-48.1344\"/>\n<polygon fill=\"#000000\" stroke=\"#000000\" points=\"434.0137,-44.6255 423.7711,-47.3346 433.4676,-51.6041 434.0137,-44.6255\"/>\n<text text-anchor=\"middle\" x=\"489.6886\" y=\"-58.8\" font-family=\"Times,serif\" font-size=\"14.00\" fill=\"#000000\">1 </text>\n</g>\n<!-- F -->\n<g id=\"node9\" class=\"node\">\n<title>F</title>\n<ellipse fill=\"none\" stroke=\"#000000\" cx=\"661.6886\" cy=\"-64\" rx=\"18\" ry=\"18\"/>\n<ellipse fill=\"none\" stroke=\"#000000\" cx=\"661.6886\" cy=\"-64\" rx=\"22\" ry=\"22\"/>\n<text text-anchor=\"middle\" x=\"661.6886\" y=\"-60.3\" font-family=\"Times,serif\" font-size=\"14.00\" fill=\"#000000\">F</text>\n</g>\n<!-- E&#45;&gt;F -->\n<g id=\"edge12\" class=\"edge\">\n<title>E&#45;&gt;F</title>\n<path fill=\"none\" stroke=\"#000000\" d=\"M591.9222,-64C602.6988,-64 616.6594,-64 629.2578,-64\"/>\n<polygon fill=\"#000000\" stroke=\"#000000\" points=\"629.4203,-67.5001 639.4203,-64 629.4202,-60.5001 629.4203,-67.5001\"/>\n<text text-anchor=\"middle\" x=\"615.6886\" y=\"-67.8\" font-family=\"Times,serif\" font-size=\"14.00\" fill=\"#000000\">0 </text>\n</g>\n<!-- FG -->\n<g id=\"node5\" class=\"node\">\n<title>FG</title>\n<ellipse fill=\"none\" stroke=\"#000000\" cx=\"758.4366\" cy=\"-106\" rx=\"22.9609\" ry=\"22.9609\"/>\n<ellipse fill=\"none\" stroke=\"#000000\" cx=\"758.4366\" cy=\"-106\" rx=\"26.9983\" ry=\"26.9983\"/>\n<text text-anchor=\"middle\" x=\"758.4366\" y=\"-102.3\" font-family=\"Times,serif\" font-size=\"14.00\" fill=\"#000000\">FG</text>\n</g>\n<!-- FG&#45;&gt;FG -->\n<g id=\"edge17\" class=\"edge\">\n<title>FG&#45;&gt;FG</title>\n<path fill=\"none\" stroke=\"#000000\" d=\"M749.144,-131.301C748.5031,-141.8261 751.6006,-150.748 758.4366,-150.748 762.9226,-150.748 765.7987,-146.9056 767.0648,-141.2894\"/>\n<polygon fill=\"#000000\" stroke=\"#000000\" points=\"770.5577,-141.5112 767.7292,-131.301 763.5731,-141.0466 770.5577,-141.5112\"/>\n<text text-anchor=\"middle\" x=\"758.4366\" y=\"-154.548\" font-family=\"Times,serif\" font-size=\"14.00\" fill=\"#000000\">0 </text>\n</g>\n<!-- FH -->\n<g id=\"node10\" class=\"node\">\n<title>FH</title>\n<ellipse fill=\"none\" stroke=\"#000000\" cx=\"859.9325\" cy=\"-46\" rx=\"22.9609\" ry=\"22.9609\"/>\n<ellipse fill=\"none\" stroke=\"#000000\" cx=\"859.9325\" cy=\"-46\" rx=\"26.9983\" ry=\"26.9983\"/>\n<text text-anchor=\"middle\" x=\"859.9325\" y=\"-42.3\" font-family=\"Times,serif\" font-size=\"14.00\" fill=\"#000000\">FH</text>\n</g>\n<!-- FG&#45;&gt;FH -->\n<g id=\"edge16\" class=\"edge\">\n<title>FG&#45;&gt;FH</title>\n<path fill=\"none\" stroke=\"#000000\" d=\"M781.4676,-92.3851C795.1262,-84.3107 812.649,-73.952 827.6693,-65.0726\"/>\n<polygon fill=\"#000000\" stroke=\"#000000\" points=\"829.8141,-67.8706 836.6413,-59.7687 826.2519,-61.8447 829.8141,-67.8706\"/>\n<text text-anchor=\"middle\" x=\"809.1845\" y=\"-80.8\" font-family=\"Times,serif\" font-size=\"14.00\" fill=\"#000000\">1 </text>\n</g>\n<!-- FA -->\n<g id=\"node6\" class=\"node\">\n<title>FA</title>\n<ellipse fill=\"none\" stroke=\"#000000\" cx=\"211.4446\" cy=\"-90\" rx=\"22.9609\" ry=\"22.9609\"/>\n<ellipse fill=\"none\" stroke=\"#000000\" cx=\"211.4446\" cy=\"-90\" rx=\"26.9983\" ry=\"26.9983\"/>\n<text text-anchor=\"middle\" x=\"211.4446\" y=\"-86.3\" font-family=\"Times,serif\" font-size=\"14.00\" fill=\"#000000\">FA</text>\n</g>\n<!-- FA&#45;&gt;FA -->\n<g id=\"edge5\" class=\"edge\">\n<title>FA&#45;&gt;FA</title>\n<path fill=\"none\" stroke=\"#000000\" d=\"M202.152,-115.301C201.5112,-125.8261 204.6087,-134.748 211.4446,-134.748 215.9307,-134.748 218.8068,-130.9056 220.0729,-125.2894\"/>\n<polygon fill=\"#000000\" stroke=\"#000000\" points=\"223.5658,-125.5112 220.7372,-115.301 216.5812,-125.0466 223.5658,-125.5112\"/>\n<text text-anchor=\"middle\" x=\"211.4446\" y=\"-138.548\" font-family=\"Times,serif\" font-size=\"14.00\" fill=\"#000000\">0 </text>\n</g>\n<!-- FB -->\n<g id=\"node8\" class=\"node\">\n<title>FB</title>\n<ellipse fill=\"none\" stroke=\"#000000\" cx=\"312.9406\" cy=\"-46\" rx=\"22.9609\" ry=\"22.9609\"/>\n<ellipse fill=\"none\" stroke=\"#000000\" cx=\"312.9406\" cy=\"-46\" rx=\"26.9983\" ry=\"26.9983\"/>\n<text text-anchor=\"middle\" x=\"312.9406\" y=\"-42.3\" font-family=\"Times,serif\" font-size=\"14.00\" fill=\"#000000\">FB</text>\n</g>\n<!-- FA&#45;&gt;FB -->\n<g id=\"edge4\" class=\"edge\">\n<title>FA&#45;&gt;FB</title>\n<path fill=\"none\" stroke=\"#000000\" d=\"M236.014,-79.3488C248.8843,-73.7694 264.8481,-66.8488 278.8916,-60.7607\"/>\n<polygon fill=\"#000000\" stroke=\"#000000\" points=\"280.4629,-63.8944 288.2457,-56.7056 277.6786,-57.4719 280.4629,-63.8944\"/>\n<text text-anchor=\"middle\" x=\"262.1926\" y=\"-72.8\" font-family=\"Times,serif\" font-size=\"14.00\" fill=\"#000000\">1 </text>\n</g>\n<!-- IF&#45;&gt;FA -->\n<g id=\"edge2\" class=\"edge\">\n<title>IF&#45;&gt;FA</title>\n<path fill=\"none\" stroke=\"#000000\" d=\"M135.0253,-55.5473C147.415,-61.1331 163.3469,-68.3158 177.4547,-74.6761\"/>\n<polygon fill=\"#000000\" stroke=\"#000000\" points=\"176.3093,-77.9989 186.8642,-78.9182 179.1864,-71.6175 176.3093,-77.9989\"/>\n<text text-anchor=\"middle\" x=\"160.6967\" y=\"-72.8\" font-family=\"Times,serif\" font-size=\"14.00\" fill=\"#000000\">0 </text>\n</g>\n<!-- IF&#45;&gt;IF -->\n<g id=\"edge3\" class=\"edge\">\n<title>IF&#45;&gt;IF</title>\n<path fill=\"none\" stroke=\"#000000\" d=\"M106.4966,-67.8532C105.6946,-77.9909 108.1452,-86.8483 113.8483,-86.8483 117.5019,-86.8483 119.8206,-83.2132 120.8045,-77.9352\"/>\n<polygon fill=\"#000000\" stroke=\"#000000\" points=\"124.3052,-77.9828 121.2,-67.8532 117.3106,-77.7083 124.3052,-77.9828\"/>\n<text text-anchor=\"middle\" x=\"113.8483\" y=\"-90.6483\" font-family=\"Times,serif\" font-size=\"14.00\" fill=\"#000000\">1 </text>\n</g>\n<!-- FB&#45;&gt;C -->\n<g id=\"edge6\" class=\"edge\">\n<title>FB&#45;&gt;C</title>\n<path fill=\"none\" stroke=\"#000000\" d=\"M339.7672,-46C351.482,-46 365.2339,-46 377.1378,-46\"/>\n<polygon fill=\"#000000\" stroke=\"#000000\" points=\"377.439,-49.5001 387.4389,-46 377.4389,-42.5001 377.439,-49.5001\"/>\n<text text-anchor=\"middle\" x=\"363.6886\" y=\"-49.8\" font-family=\"Times,serif\" font-size=\"14.00\" fill=\"#000000\">0 </text>\n</g>\n<!-- FB&#45;&gt;IF -->\n<g id=\"edge7\" class=\"edge\">\n<title>FB&#45;&gt;IF</title>\n<path fill=\"none\" stroke=\"#000000\" d=\"M286.3451,-42.9009C272.0879,-41.3934 254.2068,-39.7482 238.1926,-39 214.4425,-37.8904 208.4438,-37.8297 184.6967,-39 172.2842,-39.6117 158.6928,-40.8227 146.7634,-42.0679\"/>\n<polygon fill=\"#000000\" stroke=\"#000000\" points=\"146.3407,-38.5932 136.7792,-43.1568 147.0997,-45.5519 146.3407,-38.5932\"/>\n<text text-anchor=\"middle\" x=\"211.4446\" y=\"-42.8\" font-family=\"Times,serif\" font-size=\"14.00\" fill=\"#000000\">1 </text>\n</g>\n<!-- F&#45;&gt;FG -->\n<g id=\"edge15\" class=\"edge\">\n<title>F&#45;&gt;FG</title>\n<path fill=\"none\" stroke=\"#000000\" d=\"M682.2063,-72.9071C694.4647,-78.2287 710.3434,-85.1219 724.4331,-91.2385\"/>\n<polygon fill=\"#000000\" stroke=\"#000000\" points=\"723.2686,-94.5485 733.8353,-95.3202 726.0561,-88.1274 723.2686,-94.5485\"/>\n<text text-anchor=\"middle\" x=\"707.6886\" y=\"-89.8\" font-family=\"Times,serif\" font-size=\"14.00\" fill=\"#000000\">0 </text>\n</g>\n<!-- F&#45;&gt;F -->\n<g id=\"edge14\" class=\"edge\">\n<title>F&#45;&gt;F</title>\n<path fill=\"none\" stroke=\"#000000\" d=\"M653.6823,-84.5808C652.5745,-94.8447 655.2433,-104 661.6886,-104 665.8176,-104 668.3967,-100.2427 669.426,-94.8436\"/>\n<polygon fill=\"#000000\" stroke=\"#000000\" points=\"672.9317,-94.6691 669.6949,-84.5808 665.9341,-94.4857 672.9317,-94.6691\"/>\n<text text-anchor=\"middle\" x=\"661.6886\" y=\"-107.8\" font-family=\"Times,serif\" font-size=\"14.00\" fill=\"#000000\">1 </text>\n</g>\n<!-- FH&#45;&gt;C -->\n<g id=\"edge18\" class=\"edge\">\n<title>FH&#45;&gt;C</title>\n<path fill=\"none\" stroke=\"#000000\" d=\"M838.2378,-29.6526C818.5086,-16.4309 788.0361,0 758.4366,0 489.6886,0 489.6886,0 489.6886,0 466.12,0 442.8978,-14.1034 426.8643,-26.6918\"/>\n<polygon fill=\"#000000\" stroke=\"#000000\" points=\"424.2025,-24.3523 418.7399,-33.4303 428.6714,-29.7402 424.2025,-24.3523\"/>\n<text text-anchor=\"middle\" x=\"615.6886\" y=\"-3.8\" font-family=\"Times,serif\" font-size=\"14.00\" fill=\"#000000\">0 </text>\n</g>\n<!-- FH&#45;&gt;F -->\n<g id=\"edge19\" class=\"edge\">\n<title>FH&#45;&gt;F</title>\n<path fill=\"none\" stroke=\"#000000\" d=\"M832.8737,-47.4435C806.8926,-48.9371 766.5585,-51.5377 731.6886,-55 719.2404,-56.236 705.5879,-57.9175 693.6714,-59.4927\"/>\n<polygon fill=\"#000000\" stroke=\"#000000\" points=\"693.1622,-56.0296 683.7202,-60.8357 694.0985,-62.9667 693.1622,-56.0296\"/>\n<text text-anchor=\"middle\" x=\"758.4366\" y=\"-58.8\" font-family=\"Times,serif\" font-size=\"14.00\" fill=\"#000000\">1 </text>\n</g>\n</g>\n</svg>\n"
          },
          "metadata": {
            "tags": []
          },
          "execution_count": 3
        }
      ]
    },
    {
      "cell_type": "markdown",
      "metadata": {
        "id": "Dk9Q6-WhVD-I"
      },
      "source": [
        "# Task 2: Define DFA Ends010\n",
        "\n",
        "<font size=\"4\">    \n",
        "3. Using Jove's markdown, define a DFA for the language of strings over alphabet $\\{0,1\\}$ that ends in a $010$, calling it Ends010. Then obtain the intersection with the Even010 machine using intersect_dfa. \n",
        "    \n",
        "    Call the intersection Even010_Ends010.\n",
        "    \n",
        "    Next, minimize Even010_Ends010, storing it in min_Even010_Ends010 .\n",
        "    \n",
        "    Again, document the construction thoroughly.\n",
        "    \n",
        "</font>"
      ]
    },
    {
      "cell_type": "markdown",
      "metadata": {
        "id": "nf4IJqafVD-I"
      },
      "source": [
        "### Hint: Define a machine for \"ends $010$\" as illustrated by DFA Even010, and negate."
      ]
    },
    {
      "cell_type": "code",
      "metadata": {
        "id": "NrjIrTYrVD-J"
      },
      "source": [
        "Ends010 =  md2mc('''\n",
        "DFA\n",
        "\n",
        "I : 1 -> I\n",
        "I : 0 -> A\n",
        "A : 1 -> B\n",
        "A : 0 -> A\n",
        "B : 0 -> F\n",
        "B : 1 -> I\n",
        "F : 1 -> I\n",
        "F : 0 -> A\n",
        "\n",
        "''')"
      ],
      "execution_count": 4,
      "outputs": []
    },
    {
      "cell_type": "code",
      "metadata": {
        "id": "PYhvdSS1VD-J",
        "outputId": "d670a4ef-5834-4398-d4d7-9722cc9920fd",
        "colab": {
          "base_uri": "https://localhost:8080/",
          "height": 204
        }
      },
      "source": [
        "# Let's see the \"Ends010\" machine\n",
        "dotObj_dfa(Ends010, FuseEdges=True)"
      ],
      "execution_count": 5,
      "outputs": [
        {
          "output_type": "execute_result",
          "data": {
            "text/plain": [
              "<graphviz.dot.Digraph at 0x7f25aa39a128>"
            ],
            "image/svg+xml": "<?xml version=\"1.0\" encoding=\"UTF-8\" standalone=\"no\"?>\n<!DOCTYPE svg PUBLIC \"-//W3C//DTD SVG 1.1//EN\"\n \"http://www.w3.org/Graphics/SVG/1.1/DTD/svg11.dtd\">\n<!-- Generated by graphviz version 2.40.1 (20161225.0304)\n -->\n<!-- Title: %3 Pages: 1 -->\n<svg width=\"395pt\" height=\"137pt\"\n viewBox=\"0.00 0.00 395.00 136.65\" xmlns=\"http://www.w3.org/2000/svg\" xmlns:xlink=\"http://www.w3.org/1999/xlink\">\n<g id=\"graph0\" class=\"graph\" transform=\"scale(1 1) rotate(0) translate(4 132.651)\">\n<title>%3</title>\n<polygon fill=\"#ffffff\" stroke=\"transparent\" points=\"-4,4 -4,-132.651 391,-132.651 391,4 -4,4\"/>\n<!-- EMPTY -->\n<g id=\"node1\" class=\"node\">\n<title>EMPTY</title>\n</g>\n<!-- I -->\n<g id=\"node3\" class=\"node\">\n<title>I</title>\n<ellipse fill=\"none\" stroke=\"#000000\" cx=\"109\" cy=\"-26.651\" rx=\"18\" ry=\"18\"/>\n<text text-anchor=\"middle\" x=\"109\" y=\"-22.951\" font-family=\"Times,serif\" font-size=\"14.00\" fill=\"#000000\">I</text>\n</g>\n<!-- EMPTY&#45;&gt;I -->\n<g id=\"edge1\" class=\"edge\">\n<title>EMPTY&#45;&gt;I</title>\n<path fill=\"none\" stroke=\"#000000\" d=\"M54.3048,-26.651C62.6909,-26.651 71.9407,-26.651 80.4103,-26.651\"/>\n<polygon fill=\"#000000\" stroke=\"#000000\" points=\"80.5976,-30.1511 90.5976,-26.651 80.5976,-23.1511 80.5976,-30.1511\"/>\n</g>\n<!-- A -->\n<g id=\"node2\" class=\"node\">\n<title>A</title>\n<ellipse fill=\"none\" stroke=\"#000000\" cx=\"193\" cy=\"-77.651\" rx=\"18\" ry=\"18\"/>\n<text text-anchor=\"middle\" x=\"193\" y=\"-73.951\" font-family=\"Times,serif\" font-size=\"14.00\" fill=\"#000000\">A</text>\n</g>\n<!-- A&#45;&gt;A -->\n<g id=\"edge5\" class=\"edge\">\n<title>A&#45;&gt;A</title>\n<path fill=\"none\" stroke=\"#000000\" d=\"M185.6172,-94.3151C183.9766,-104.276 186.4375,-113.651 193,-113.651 197.2041,-113.651 199.7249,-109.8035 200.5625,-104.4193\"/>\n<polygon fill=\"#000000\" stroke=\"#000000\" points=\"204.0601,-104.2513 200.3828,-94.3151 197.0612,-104.3758 204.0601,-104.2513\"/>\n<text text-anchor=\"middle\" x=\"193\" y=\"-117.451\" font-family=\"Times,serif\" font-size=\"14.00\" fill=\"#000000\">0 </text>\n</g>\n<!-- B -->\n<g id=\"node4\" class=\"node\">\n<title>B</title>\n<ellipse fill=\"none\" stroke=\"#000000\" cx=\"277\" cy=\"-30.651\" rx=\"18\" ry=\"18\"/>\n<text text-anchor=\"middle\" x=\"277\" y=\"-26.951\" font-family=\"Times,serif\" font-size=\"14.00\" fill=\"#000000\">B</text>\n</g>\n<!-- A&#45;&gt;B -->\n<g id=\"edge4\" class=\"edge\">\n<title>A&#45;&gt;B</title>\n<path fill=\"none\" stroke=\"#000000\" d=\"M208.7998,-68.8107C221.0018,-61.9834 238.1161,-52.4075 252.1477,-44.5565\"/>\n<polygon fill=\"#000000\" stroke=\"#000000\" points=\"254.2533,-47.3891 261.2711,-39.4517 250.8352,-41.2803 254.2533,-47.3891\"/>\n<text text-anchor=\"middle\" x=\"235\" y=\"-60.451\" font-family=\"Times,serif\" font-size=\"14.00\" fill=\"#000000\">1 </text>\n</g>\n<!-- I&#45;&gt;A -->\n<g id=\"edge3\" class=\"edge\">\n<title>I&#45;&gt;A</title>\n<path fill=\"none\" stroke=\"#000000\" d=\"M124.4069,-36.0052C136.7621,-43.5066 154.333,-54.1747 168.5978,-62.8354\"/>\n<polygon fill=\"#000000\" stroke=\"#000000\" points=\"167.042,-65.9854 177.4063,-68.1834 170.6749,-60.0019 167.042,-65.9854\"/>\n<text text-anchor=\"middle\" x=\"151\" y=\"-58.451\" font-family=\"Times,serif\" font-size=\"14.00\" fill=\"#000000\">0 </text>\n</g>\n<!-- I&#45;&gt;I -->\n<g id=\"edge2\" class=\"edge\">\n<title>I&#45;&gt;I</title>\n<path fill=\"none\" stroke=\"#000000\" d=\"M102.6208,-43.6883C101.3189,-53.509 103.4453,-62.651 109,-62.651 112.4717,-62.651 114.6042,-59.0799 115.3975,-54.004\"/>\n<polygon fill=\"#000000\" stroke=\"#000000\" points=\"118.8971,-53.6821 115.3792,-43.6883 111.8971,-53.6946 118.8971,-53.6821\"/>\n<text text-anchor=\"middle\" x=\"109\" y=\"-66.451\" font-family=\"Times,serif\" font-size=\"14.00\" fill=\"#000000\">1 </text>\n</g>\n<!-- B&#45;&gt;I -->\n<g id=\"edge7\" class=\"edge\">\n<title>B&#45;&gt;I</title>\n<path fill=\"none\" stroke=\"#000000\" d=\"M258.9781,-30.222C229.9203,-29.5301 172.4682,-28.1622 137.7186,-27.3348\"/>\n<polygon fill=\"#000000\" stroke=\"#000000\" points=\"137.3793,-23.8258 127.2988,-27.0867 137.2126,-30.8239 137.3793,-23.8258\"/>\n<text text-anchor=\"middle\" x=\"193\" y=\"-32.451\" font-family=\"Times,serif\" font-size=\"14.00\" fill=\"#000000\">1 </text>\n</g>\n<!-- F -->\n<g id=\"node5\" class=\"node\">\n<title>F</title>\n<ellipse fill=\"none\" stroke=\"#000000\" cx=\"365\" cy=\"-30.651\" rx=\"18\" ry=\"18\"/>\n<ellipse fill=\"none\" stroke=\"#000000\" cx=\"365\" cy=\"-30.651\" rx=\"22\" ry=\"22\"/>\n<text text-anchor=\"middle\" x=\"365\" y=\"-26.951\" font-family=\"Times,serif\" font-size=\"14.00\" fill=\"#000000\">F</text>\n</g>\n<!-- B&#45;&gt;F -->\n<g id=\"edge6\" class=\"edge\">\n<title>B&#45;&gt;F</title>\n<path fill=\"none\" stroke=\"#000000\" d=\"M295.2337,-30.651C306.0103,-30.651 319.9708,-30.651 332.5692,-30.651\"/>\n<polygon fill=\"#000000\" stroke=\"#000000\" points=\"332.7317,-34.1511 342.7317,-30.651 332.7317,-27.1511 332.7317,-34.1511\"/>\n<text text-anchor=\"middle\" x=\"319\" y=\"-34.451\" font-family=\"Times,serif\" font-size=\"14.00\" fill=\"#000000\">0 </text>\n</g>\n<!-- F&#45;&gt;A -->\n<g id=\"edge9\" class=\"edge\">\n<title>F&#45;&gt;A</title>\n<path fill=\"none\" stroke=\"#000000\" d=\"M345.3074,-40.693C338.9145,-43.7664 331.733,-47.0255 325,-49.651 288.5895,-63.8492 279.5114,-69.0043 241,-75.651 234.7869,-76.7234 228.0578,-77.3368 221.6591,-77.6688\"/>\n<polygon fill=\"#000000\" stroke=\"#000000\" points=\"221.2369,-74.1803 211.352,-77.9933 221.4572,-81.1768 221.2369,-74.1803\"/>\n<text text-anchor=\"middle\" x=\"277\" y=\"-75.451\" font-family=\"Times,serif\" font-size=\"14.00\" fill=\"#000000\">0 </text>\n</g>\n<!-- F&#45;&gt;I -->\n<g id=\"edge8\" class=\"edge\">\n<title>F&#45;&gt;I</title>\n<path fill=\"none\" stroke=\"#000000\" d=\"M345.0577,-20.6897C331.3574,-14.4201 312.5434,-6.9172 295,-3.651 238.9554,6.7829 172.5024,-7.8381 136.1389,-18.1064\"/>\n<polygon fill=\"#000000\" stroke=\"#000000\" points=\"134.9018,-14.8216 126.2889,-20.9917 136.8696,-21.5394 134.9018,-14.8216\"/>\n<text text-anchor=\"middle\" x=\"235\" y=\"-5.451\" font-family=\"Times,serif\" font-size=\"14.00\" fill=\"#000000\">1 </text>\n</g>\n</g>\n</svg>\n"
          },
          "metadata": {
            "tags": []
          },
          "execution_count": 5
        }
      ]
    },
    {
      "cell_type": "markdown",
      "metadata": {
        "id": "55BEtZSHVD-J"
      },
      "source": [
        "## Obtain the intersection of Even010 and Ends010"
      ]
    },
    {
      "cell_type": "code",
      "metadata": {
        "scrolled": true,
        "id": "7ztMj3kSVD-J",
        "outputId": "3adb7710-1890-448b-d1c1-f88a91493952",
        "colab": {
          "base_uri": "https://localhost:8080/",
          "height": 372
        }
      },
      "source": [
        "Even010_Ends010 = intersect_dfa(Even010, Ends010)\n",
        "dotObj_dfa(Even010_Ends010)"
      ],
      "execution_count": 6,
      "outputs": [
        {
          "output_type": "execute_result",
          "data": {
            "text/plain": [
              "<graphviz.dot.Digraph at 0x7f25ab24a7f0>"
            ],
            "image/svg+xml": "<?xml version=\"1.0\" encoding=\"UTF-8\" standalone=\"no\"?>\n<!DOCTYPE svg PUBLIC \"-//W3C//DTD SVG 1.1//EN\"\n \"http://www.w3.org/Graphics/SVG/1.1/DTD/svg11.dtd\">\n<!-- Generated by graphviz version 2.40.1 (20161225.0304)\n -->\n<!-- Title: %3 Pages: 1 -->\n<svg width=\"1254pt\" height=\"263pt\"\n viewBox=\"0.00 0.00 1253.94 262.55\" xmlns=\"http://www.w3.org/2000/svg\" xmlns:xlink=\"http://www.w3.org/1999/xlink\">\n<g id=\"graph0\" class=\"graph\" transform=\"scale(1 1) rotate(0) translate(4 258.5473)\">\n<title>%3</title>\n<polygon fill=\"#ffffff\" stroke=\"transparent\" points=\"-4,4 -4,-258.5473 1249.9366,-258.5473 1249.9366,4 -4,4\"/>\n<!-- EMPTY -->\n<g id=\"node1\" class=\"node\">\n<title>EMPTY</title>\n</g>\n<!-- \\(IF_I\\) -->\n<g id=\"node8\" class=\"node\">\n<title>\\(IF_I\\)</title>\n<ellipse fill=\"none\" stroke=\"#000000\" cx=\"123.4971\" cy=\"-109.5473\" rx=\"32.4942\" ry=\"32.4942\"/>\n<text text-anchor=\"middle\" x=\"123.4971\" y=\"-105.8473\" font-family=\"Times,serif\" font-size=\"14.00\" fill=\"#000000\">(IF_I)</text>\n</g>\n<!-- EMPTY&#45;&gt;\\(IF_I\\) -->\n<g id=\"edge1\" class=\"edge\">\n<title>EMPTY&#45;&gt;\\(IF_I\\)</title>\n<path fill=\"none\" stroke=\"#000000\" d=\"M54.1366,-109.5473C62.3991,-109.5473 71.6905,-109.5473 80.7226,-109.5473\"/>\n<polygon fill=\"#000000\" stroke=\"#000000\" points=\"80.7414,-113.0474 90.7413,-109.5473 80.7413,-106.0474 80.7414,-113.0474\"/>\n</g>\n<!-- \\(FH_B\\) -->\n<g id=\"node2\" class=\"node\">\n<title>\\(FH_B\\)</title>\n<ellipse fill=\"none\" stroke=\"#000000\" cx=\"1205.6401\" cy=\"-195.5473\" rx=\"40.0939\" ry=\"40.0939\"/>\n<text text-anchor=\"middle\" x=\"1205.6401\" y=\"-191.8473\" font-family=\"Times,serif\" font-size=\"14.00\" fill=\"#000000\">(FH_B)</text>\n</g>\n<!-- \\(F_I\\) -->\n<g id=\"node4\" class=\"node\">\n<title>\\(F_I\\)</title>\n<ellipse fill=\"none\" stroke=\"#000000\" cx=\"958.8535\" cy=\"-148.5473\" rx=\"29.795\" ry=\"29.795\"/>\n<text text-anchor=\"middle\" x=\"958.8535\" y=\"-144.8473\" font-family=\"Times,serif\" font-size=\"14.00\" fill=\"#000000\">(F_I)</text>\n</g>\n<!-- \\(FH_B\\)&#45;&gt;\\(F_I\\) -->\n<g id=\"edge20\" class=\"edge\">\n<title>\\(FH_B\\)&#45;&gt;\\(F_I\\)</title>\n<path fill=\"none\" stroke=\"#000000\" d=\"M1165.5244,-190.2035C1131.1841,-185.3741 1080.5044,-177.641 1036.7509,-168.5473 1024.0417,-165.9058 1010.29,-162.5452 997.9291,-159.3361\"/>\n<polygon fill=\"#000000\" stroke=\"#000000\" points=\"998.4886,-155.864 987.9265,-156.6953 996.7017,-162.6321 998.4886,-155.864\"/>\n<text text-anchor=\"middle\" x=\"1077.0473\" y=\"-186.3473\" font-family=\"Times,serif\" font-size=\"14.00\" fill=\"#000000\">1 </text>\n</g>\n<!-- \\(C_F\\) -->\n<g id=\"node10\" class=\"node\">\n<title>\\(C_F\\)</title>\n<ellipse fill=\"none\" stroke=\"#000000\" cx=\"493.0271\" cy=\"-109.5473\" rx=\"33.2948\" ry=\"33.2948\"/>\n<text text-anchor=\"middle\" x=\"493.0271\" y=\"-105.8473\" font-family=\"Times,serif\" font-size=\"14.00\" fill=\"#000000\">(C_F)</text>\n</g>\n<!-- \\(FH_B\\)&#45;&gt;\\(C_F\\) -->\n<g id=\"edge23\" class=\"edge\">\n<title>\\(FH_B\\)&#45;&gt;\\(C_F\\)</title>\n<path fill=\"none\" stroke=\"#000000\" d=\"M1170.164,-214.7183C1144.9381,-226.5754 1109.8455,-239.5473 1077.0473,-239.5473 609.271,-239.5473 609.271,-239.5473 609.271,-239.5473 584.0789,-239.5473 542.518,-184.613 516.5149,-146.165\"/>\n<polygon fill=\"#000000\" stroke=\"#000000\" points=\"519.3617,-144.1256 510.8959,-137.7554 513.5414,-148.0146 519.3617,-144.1256\"/>\n<text text-anchor=\"middle\" x=\"844.4591\" y=\"-243.3473\" font-family=\"Times,serif\" font-size=\"14.00\" fill=\"#000000\">0 </text>\n</g>\n<!-- \\(FA_A\\) -->\n<g id=\"node3\" class=\"node\">\n<title>\\(FA_A\\)</title>\n<ellipse fill=\"none\" stroke=\"#000000\" cx=\"244.2907\" cy=\"-166.5473\" rx=\"40.0939\" ry=\"40.0939\"/>\n<text text-anchor=\"middle\" x=\"244.2907\" y=\"-162.8473\" font-family=\"Times,serif\" font-size=\"14.00\" fill=\"#000000\">(FA_A)</text>\n</g>\n<!-- \\(FA_A\\)&#45;&gt;\\(FA_A\\) -->\n<g id=\"edge15\" class=\"edge\">\n<title>\\(FA_A\\)&#45;&gt;\\(FA_A\\)</title>\n<path fill=\"none\" stroke=\"#000000\" d=\"M232.3375,-205.2295C232.8063,-216.3042 236.7907,-224.8437 244.2907,-224.8437 249.2125,-224.8437 252.6204,-221.1661 254.5141,-215.5077\"/>\n<polygon fill=\"#000000\" stroke=\"#000000\" points=\"258.0357,-215.6717 256.2438,-205.2295 251.1327,-214.51 258.0357,-215.6717\"/>\n<text text-anchor=\"middle\" x=\"244.2907\" y=\"-228.6437\" font-family=\"Times,serif\" font-size=\"14.00\" fill=\"#000000\">0 </text>\n</g>\n<!-- \\(FB_B\\) -->\n<g id=\"node11\" class=\"node\">\n<title>\\(FB_B\\)</title>\n<ellipse fill=\"none\" stroke=\"#000000\" cx=\"372.2336\" cy=\"-109.5473\" rx=\"39.7935\" ry=\"39.7935\"/>\n<text text-anchor=\"middle\" x=\"372.2336\" y=\"-105.8473\" font-family=\"Times,serif\" font-size=\"14.00\" fill=\"#000000\">(FB_B)</text>\n</g>\n<!-- \\(FA_A\\)&#45;&gt;\\(FB_B\\) -->\n<g id=\"edge6\" class=\"edge\">\n<title>\\(FA_A\\)&#45;&gt;\\(FB_B\\)</title>\n<path fill=\"none\" stroke=\"#000000\" d=\"M281.297,-150.0605C295.3424,-143.8032 311.5105,-136.6001 326.2827,-130.0189\"/>\n<polygon fill=\"#000000\" stroke=\"#000000\" points=\"328.042,-133.0668 335.7522,-125.8002 325.1933,-126.6727 328.042,-133.0668\"/>\n<text text-anchor=\"middle\" x=\"308.5871\" y=\"-143.3473\" font-family=\"Times,serif\" font-size=\"14.00\" fill=\"#000000\">1 </text>\n</g>\n<!-- \\(F_I\\)&#45;&gt;\\(F_I\\) -->\n<g id=\"edge9\" class=\"edge\">\n<title>\\(F_I\\)&#45;&gt;\\(F_I\\)</title>\n<path fill=\"none\" stroke=\"#000000\" d=\"M949.1249,-177.0674C948.806,-187.6958 952.0488,-196.4446 958.8535,-196.4446 963.3191,-196.4446 966.2507,-192.6768 967.6484,-187.0826\"/>\n<polygon fill=\"#000000\" stroke=\"#000000\" points=\"971.1386,-187.3491 968.5821,-177.0674 964.1689,-186.6993 971.1386,-187.3491\"/>\n<text text-anchor=\"middle\" x=\"958.8535\" y=\"-200.2446\" font-family=\"Times,serif\" font-size=\"14.00\" fill=\"#000000\">1 </text>\n</g>\n<!-- \\(FG_A\\) -->\n<g id=\"node5\" class=\"node\">\n<title>\\(FG_A\\)</title>\n<ellipse fill=\"none\" stroke=\"#000000\" cx=\"1077.0473\" cy=\"-86.5473\" rx=\"40.0939\" ry=\"40.0939\"/>\n<text text-anchor=\"middle\" x=\"1077.0473\" y=\"-82.8473\" font-family=\"Times,serif\" font-size=\"14.00\" fill=\"#000000\">(FG_A)</text>\n</g>\n<!-- \\(F_I\\)&#45;&gt;\\(FG_A\\) -->\n<g id=\"edge12\" class=\"edge\">\n<title>\\(F_I\\)&#45;&gt;\\(FG_A\\)</title>\n<path fill=\"none\" stroke=\"#000000\" d=\"M985.3785,-134.6333C999.1471,-127.4108 1016.3461,-118.3888 1032.1153,-110.1169\"/>\n<polygon fill=\"#000000\" stroke=\"#000000\" points=\"1033.9683,-113.0973 1041.198,-105.3525 1030.7166,-106.8984 1033.9683,-113.0973\"/>\n<text text-anchor=\"middle\" x=\"1012.7509\" y=\"-127.3473\" font-family=\"Times,serif\" font-size=\"14.00\" fill=\"#000000\">0 </text>\n</g>\n<!-- \\(FG_A\\)&#45;&gt;\\(FH_B\\) -->\n<g id=\"edge13\" class=\"edge\">\n<title>\\(FG_A\\)&#45;&gt;\\(FH_B\\)</title>\n<path fill=\"none\" stroke=\"#000000\" d=\"M1107.8485,-112.6555C1125.5326,-127.6452 1147.9068,-146.6104 1166.7896,-162.6161\"/>\n<polygon fill=\"#000000\" stroke=\"#000000\" points=\"1164.7532,-165.4782 1174.6446,-169.2743 1169.2794,-160.1384 1164.7532,-165.4782\"/>\n<text text-anchor=\"middle\" x=\"1141.3437\" y=\"-147.3473\" font-family=\"Times,serif\" font-size=\"14.00\" fill=\"#000000\">1 </text>\n</g>\n<!-- \\(FG_A\\)&#45;&gt;\\(FG_A\\) -->\n<g id=\"edge4\" class=\"edge\">\n<title>\\(FG_A\\)&#45;&gt;\\(FG_A\\)</title>\n<path fill=\"none\" stroke=\"#000000\" d=\"M1065.0942,-125.2295C1065.5629,-136.3042 1069.5473,-144.8437 1077.0473,-144.8437 1081.9692,-144.8437 1085.377,-141.1661 1087.2708,-135.5077\"/>\n<polygon fill=\"#000000\" stroke=\"#000000\" points=\"1090.7923,-135.6717 1089.0004,-125.2295 1083.8894,-134.51 1090.7923,-135.6717\"/>\n<text text-anchor=\"middle\" x=\"1077.0473\" y=\"-148.6437\" font-family=\"Times,serif\" font-size=\"14.00\" fill=\"#000000\">0 </text>\n</g>\n<!-- \\(D_A\\) -->\n<g id=\"node6\" class=\"node\">\n<title>\\(D_A\\)</title>\n<ellipse fill=\"none\" stroke=\"#000000\" cx=\"609.271\" cy=\"-109.5473\" rx=\"35.194\" ry=\"35.194\"/>\n<text text-anchor=\"middle\" x=\"609.271\" y=\"-105.8473\" font-family=\"Times,serif\" font-size=\"14.00\" fill=\"#000000\">(D_A)</text>\n</g>\n<!-- \\(D_A\\)&#45;&gt;\\(D_A\\) -->\n<g id=\"edge14\" class=\"edge\">\n<title>\\(D_A\\)&#45;&gt;\\(D_A\\)</title>\n<path fill=\"none\" stroke=\"#000000\" d=\"M598.3967,-142.9917C598.4529,-153.9324 602.0777,-162.6442 609.271,-162.6442 613.9917,-162.6442 617.1755,-158.8923 618.8224,-153.2208\"/>\n<polygon fill=\"#000000\" stroke=\"#000000\" points=\"622.3337,-153.3581 620.1454,-142.9917 615.3915,-152.4601 622.3337,-153.3581\"/>\n<text text-anchor=\"middle\" x=\"609.271\" y=\"-166.4442\" font-family=\"Times,serif\" font-size=\"14.00\" fill=\"#000000\">0 </text>\n</g>\n<!-- \\(E_B\\) -->\n<g id=\"node7\" class=\"node\">\n<title>\\(E_B\\)</title>\n<ellipse fill=\"none\" stroke=\"#000000\" cx=\"726.1649\" cy=\"-143.5473\" rx=\"33.5952\" ry=\"33.5952\"/>\n<text text-anchor=\"middle\" x=\"726.1649\" y=\"-139.8473\" font-family=\"Times,serif\" font-size=\"14.00\" fill=\"#000000\">(E_B)</text>\n</g>\n<!-- \\(D_A\\)&#45;&gt;\\(E_B\\) -->\n<g id=\"edge21\" class=\"edge\">\n<title>\\(D_A\\)&#45;&gt;\\(E_B\\)</title>\n<path fill=\"none\" stroke=\"#000000\" d=\"M643.0816,-119.3815C655.7623,-123.0698 670.3368,-127.309 683.7031,-131.1967\"/>\n<polygon fill=\"#000000\" stroke=\"#000000\" points=\"683.0578,-134.6541 693.6374,-134.0863 685.0129,-127.9326 683.0578,-134.6541\"/>\n<text text-anchor=\"middle\" x=\"668.3679\" y=\"-131.3473\" font-family=\"Times,serif\" font-size=\"14.00\" fill=\"#000000\">1 </text>\n</g>\n<!-- \\(C_I\\) -->\n<g id=\"node9\" class=\"node\">\n<title>\\(C_I\\)</title>\n<ellipse fill=\"none\" stroke=\"#000000\" cx=\"844.4591\" cy=\"-30.5473\" rx=\"30.5947\" ry=\"30.5947\"/>\n<text text-anchor=\"middle\" x=\"844.4591\" y=\"-26.8473\" font-family=\"Times,serif\" font-size=\"14.00\" fill=\"#000000\">(C_I)</text>\n</g>\n<!-- \\(E_B\\)&#45;&gt;\\(C_I\\) -->\n<g id=\"edge2\" class=\"edge\">\n<title>\\(E_B\\)&#45;&gt;\\(C_I\\)</title>\n<path fill=\"none\" stroke=\"#000000\" d=\"M752.4756,-121.9368C764.2015,-112.0353 778.0299,-99.9794 789.9619,-88.5473 799.0814,-79.8099 808.6364,-69.9176 817.1531,-60.8091\"/>\n<polygon fill=\"#000000\" stroke=\"#000000\" points=\"819.8025,-63.0994 824.0307,-53.3848 814.6673,-58.3423 819.8025,-63.0994\"/>\n<text text-anchor=\"middle\" x=\"783.9619\" y=\"-103.3473\" font-family=\"Times,serif\" font-size=\"14.00\" fill=\"#000000\">1 </text>\n</g>\n<!-- \\(F_F\\) -->\n<g id=\"node12\" class=\"node\">\n<title>\\(F_F\\)</title>\n<ellipse fill=\"none\" stroke=\"#000000\" cx=\"844.4591\" cy=\"-148.5473\" rx=\"32.4945\" ry=\"32.4945\"/>\n<ellipse fill=\"none\" stroke=\"#000000\" cx=\"844.4591\" cy=\"-148.5473\" rx=\"36.4942\" ry=\"36.4942\"/>\n<text text-anchor=\"middle\" x=\"844.4591\" y=\"-144.8473\" font-family=\"Times,serif\" font-size=\"14.00\" fill=\"#000000\">(F_F)</text>\n</g>\n<!-- \\(E_B\\)&#45;&gt;\\(F_F\\) -->\n<g id=\"edge11\" class=\"edge\">\n<title>\\(E_B\\)&#45;&gt;\\(F_F\\)</title>\n<path fill=\"none\" stroke=\"#000000\" d=\"M760.0633,-144.9801C771.691,-145.4716 784.9214,-146.0308 797.4017,-146.5583\"/>\n<polygon fill=\"#000000\" stroke=\"#000000\" points=\"797.5181,-150.0662 807.657,-146.9918 797.8138,-143.0725 797.5181,-150.0662\"/>\n<text text-anchor=\"middle\" x=\"783.9619\" y=\"-149.3473\" font-family=\"Times,serif\" font-size=\"14.00\" fill=\"#000000\">0 </text>\n</g>\n<!-- \\(IF_I\\)&#45;&gt;\\(FA_A\\) -->\n<g id=\"edge7\" class=\"edge\">\n<title>\\(IF_I\\)&#45;&gt;\\(FA_A\\)</title>\n<path fill=\"none\" stroke=\"#000000\" d=\"M153.0465,-123.4911C166.6969,-129.9324 183.221,-137.7298 198.436,-144.9094\"/>\n<polygon fill=\"#000000\" stroke=\"#000000\" points=\"197.1655,-148.18 207.7029,-149.2823 200.1528,-141.8494 197.1655,-148.18\"/>\n<text text-anchor=\"middle\" x=\"179.9942\" y=\"-141.3473\" font-family=\"Times,serif\" font-size=\"14.00\" fill=\"#000000\">0 </text>\n</g>\n<!-- \\(IF_I\\)&#45;&gt;\\(IF_I\\) -->\n<g id=\"edge22\" class=\"edge\">\n<title>\\(IF_I\\)&#45;&gt;\\(IF_I\\)</title>\n<path fill=\"none\" stroke=\"#000000\" d=\"M114.1221,-141.108C114.1221,-151.6282 117.2471,-160.0444 123.4971,-160.0444 127.501,-160.0444 130.2224,-156.5904 131.6613,-151.3419\"/>\n<polygon fill=\"#000000\" stroke=\"#000000\" points=\"135.1729,-151.45 132.8721,-141.108 128.2214,-150.6275 135.1729,-151.45\"/>\n<text text-anchor=\"middle\" x=\"123.4971\" y=\"-163.8444\" font-family=\"Times,serif\" font-size=\"14.00\" fill=\"#000000\">1 </text>\n</g>\n<!-- \\(C_I\\)&#45;&gt;\\(D_A\\) -->\n<g id=\"edge5\" class=\"edge\">\n<title>\\(C_I\\)&#45;&gt;\\(D_A\\)</title>\n<path fill=\"none\" stroke=\"#000000\" d=\"M815.2737,-40.3507C774.441,-54.0664 699.9661,-79.0827 652.634,-94.9816\"/>\n<polygon fill=\"#000000\" stroke=\"#000000\" points=\"651.3328,-91.7264 642.9678,-98.2285 653.5618,-98.3621 651.3328,-91.7264\"/>\n<text text-anchor=\"middle\" x=\"726.1649\" y=\"-84.3473\" font-family=\"Times,serif\" font-size=\"14.00\" fill=\"#000000\">0 </text>\n</g>\n<!-- \\(C_I\\)&#45;&gt;\\(C_I\\) -->\n<g id=\"edge19\" class=\"edge\">\n<title>\\(C_I\\)&#45;&gt;\\(C_I\\)</title>\n<path fill=\"none\" stroke=\"#000000\" d=\"M833.253,-58.9707C832.755,-69.9604 836.4903,-79.0946 844.4591,-79.0946 849.8131,-79.0946 853.256,-74.9712 854.788,-68.9322\"/>\n<polygon fill=\"#000000\" stroke=\"#000000\" points=\"858.2744,-69.2392 855.6651,-58.9707 851.3014,-68.6252 858.2744,-69.2392\"/>\n<text text-anchor=\"middle\" x=\"844.4591\" y=\"-82.8946\" font-family=\"Times,serif\" font-size=\"14.00\" fill=\"#000000\">1 </text>\n</g>\n<!-- \\(C_F\\)&#45;&gt;\\(D_A\\) -->\n<g id=\"edge16\" class=\"edge\">\n<title>\\(C_F\\)&#45;&gt;\\(D_A\\)</title>\n<path fill=\"none\" stroke=\"#000000\" d=\"M526.338,-109.5473C537.9738,-109.5473 551.2429,-109.5473 563.7036,-109.5473\"/>\n<polygon fill=\"#000000\" stroke=\"#000000\" points=\"563.9268,-113.0474 573.9268,-109.5473 563.9267,-106.0474 563.9268,-113.0474\"/>\n<text text-anchor=\"middle\" x=\"550.1742\" y=\"-113.3473\" font-family=\"Times,serif\" font-size=\"14.00\" fill=\"#000000\">0 </text>\n</g>\n<!-- \\(C_F\\)&#45;&gt;\\(C_I\\) -->\n<g id=\"edge3\" class=\"edge\">\n<title>\\(C_F\\)&#45;&gt;\\(C_I\\)</title>\n<path fill=\"none\" stroke=\"#000000\" d=\"M520.7901,-91.1708C535.9536,-82.0077 555.4191,-71.6133 574.1742,-65.5473 652.6778,-40.1565 749.6393,-33.1168 803.4901,-31.2089\"/>\n<polygon fill=\"#000000\" stroke=\"#000000\" points=\"803.7811,-34.7017 813.6673,-30.8919 803.5631,-27.7051 803.7811,-34.7017\"/>\n<text text-anchor=\"middle\" x=\"668.3679\" y=\"-49.3473\" font-family=\"Times,serif\" font-size=\"14.00\" fill=\"#000000\">1 </text>\n</g>\n<!-- \\(FB_B\\)&#45;&gt;\\(IF_I\\) -->\n<g id=\"edge10\" class=\"edge\">\n<title>\\(FB_B\\)&#45;&gt;\\(IF_I\\)</title>\n<path fill=\"none\" stroke=\"#000000\" d=\"M332.5696,-105.7061C317.5541,-104.4292 300.2974,-103.1737 284.5871,-102.5473 248.7965,-101.1203 239.7796,-100.9943 203.9942,-102.5473 191.6218,-103.0842 178.2099,-104.0833 165.9467,-105.1619\"/>\n<polygon fill=\"#000000\" stroke=\"#000000\" points=\"165.602,-101.6787 155.9638,-106.0782 166.2419,-108.6494 165.602,-101.6787\"/>\n<text text-anchor=\"middle\" x=\"244.2907\" y=\"-106.3473\" font-family=\"Times,serif\" font-size=\"14.00\" fill=\"#000000\">1 </text>\n</g>\n<!-- \\(FB_B\\)&#45;&gt;\\(C_F\\) -->\n<g id=\"edge8\" class=\"edge\">\n<title>\\(FB_B\\)&#45;&gt;\\(C_F\\)</title>\n<path fill=\"none\" stroke=\"#000000\" d=\"M412.1207,-109.5473C424.0263,-109.5473 437.1386,-109.5473 449.2776,-109.5473\"/>\n<polygon fill=\"#000000\" stroke=\"#000000\" points=\"449.64,-113.0474 459.6399,-109.5473 449.6399,-106.0474 449.64,-113.0474\"/>\n<text text-anchor=\"middle\" x=\"435.88\" y=\"-113.3473\" font-family=\"Times,serif\" font-size=\"14.00\" fill=\"#000000\">0 </text>\n</g>\n<!-- \\(F_F\\)&#45;&gt;\\(F_I\\) -->\n<g id=\"edge17\" class=\"edge\">\n<title>\\(F_F\\)&#45;&gt;\\(F_I\\)</title>\n<path fill=\"none\" stroke=\"#000000\" d=\"M880.9687,-148.5473C893.0245,-148.5473 906.4974,-148.5473 918.8035,-148.5473\"/>\n<polygon fill=\"#000000\" stroke=\"#000000\" points=\"918.8094,-152.0474 928.8094,-148.5473 918.8094,-145.0474 918.8094,-152.0474\"/>\n<text text-anchor=\"middle\" x=\"904.9562\" y=\"-152.3473\" font-family=\"Times,serif\" font-size=\"14.00\" fill=\"#000000\">1 </text>\n</g>\n<!-- \\(F_F\\)&#45;&gt;\\(FG_A\\) -->\n<g id=\"edge18\" class=\"edge\">\n<title>\\(F_F\\)&#45;&gt;\\(FG_A\\)</title>\n<path fill=\"none\" stroke=\"#000000\" d=\"M872.6759,-125.2773C888.2694,-113.8286 908.5719,-101.1065 928.9562,-94.5473 960.2812,-84.4677 997.2389,-82.4584 1026.3978,-82.9736\"/>\n<polygon fill=\"#000000\" stroke=\"#000000\" points=\"1026.6676,-86.4826 1036.7628,-83.2674 1026.866,-79.4854 1026.6676,-86.4826\"/>\n<text text-anchor=\"middle\" x=\"958.8535\" y=\"-98.3473\" font-family=\"Times,serif\" font-size=\"14.00\" fill=\"#000000\">0 </text>\n</g>\n</g>\n</svg>\n"
          },
          "metadata": {
            "tags": []
          },
          "execution_count": 6
        }
      ]
    },
    {
      "cell_type": "markdown",
      "metadata": {
        "id": "L0S4f2WYVD-K"
      },
      "source": [
        "## Minimize the intersection of Even010 and Ends010"
      ]
    },
    {
      "cell_type": "code",
      "metadata": {
        "id": "M-KN2DVHVD-K",
        "outputId": "97d811ae-69e3-4682-8d91-c5b7e48678c8",
        "colab": {
          "base_uri": "https://localhost:8080/",
          "height": 332
        }
      },
      "source": [
        "min_Even010_Ends010 = min_dfa(Even010_Ends010)\n",
        "dotObj_dfa(min_Even010_Ends010)"
      ],
      "execution_count": 7,
      "outputs": [
        {
          "output_type": "execute_result",
          "data": {
            "text/plain": [
              "<graphviz.dot.Digraph at 0x7f25aa35e908>"
            ],
            "image/svg+xml": "<?xml version=\"1.0\" encoding=\"UTF-8\" standalone=\"no\"?>\n<!DOCTYPE svg PUBLIC \"-//W3C//DTD SVG 1.1//EN\"\n \"http://www.w3.org/Graphics/SVG/1.1/DTD/svg11.dtd\">\n<!-- Generated by graphviz version 2.40.1 (20161225.0304)\n -->\n<!-- Title: %3 Pages: 1 -->\n<svg width=\"884pt\" height=\"233pt\"\n viewBox=\"0.00 0.00 883.76 233.00\" xmlns=\"http://www.w3.org/2000/svg\" xmlns:xlink=\"http://www.w3.org/1999/xlink\">\n<g id=\"graph0\" class=\"graph\" transform=\"scale(1 1) rotate(0) translate(4 229)\">\n<title>%3</title>\n<polygon fill=\"#ffffff\" stroke=\"transparent\" points=\"-4,4 -4,-229 879.7566,-229 879.7566,4 -4,4\"/>\n<!-- EMPTY -->\n<g id=\"node1\" class=\"node\">\n<title>EMPTY</title>\n</g>\n<!-- \\(IF_I\\) -->\n<g id=\"node5\" class=\"node\">\n<title>\\(IF_I\\)</title>\n<ellipse fill=\"none\" stroke=\"#000000\" cx=\"123.4971\" cy=\"-64\" rx=\"32.4942\" ry=\"32.4942\"/>\n<text text-anchor=\"middle\" x=\"123.4971\" y=\"-60.3\" font-family=\"Times,serif\" font-size=\"14.00\" fill=\"#000000\">(IF_I)</text>\n</g>\n<!-- EMPTY&#45;&gt;\\(IF_I\\) -->\n<g id=\"edge1\" class=\"edge\">\n<title>EMPTY&#45;&gt;\\(IF_I\\)</title>\n<path fill=\"none\" stroke=\"#000000\" d=\"M54.1366,-64C62.3991,-64 71.6905,-64 80.7226,-64\"/>\n<polygon fill=\"#000000\" stroke=\"#000000\" points=\"80.7414,-67.5001 90.7413,-64 80.7413,-60.5001 80.7414,-67.5001\"/>\n</g>\n<!-- \\(FA_A\\) -->\n<g id=\"node2\" class=\"node\">\n<title>\\(FA_A\\)</title>\n<ellipse fill=\"none\" stroke=\"#000000\" cx=\"244.2907\" cy=\"-137\" rx=\"40.0939\" ry=\"40.0939\"/>\n<text text-anchor=\"middle\" x=\"244.2907\" y=\"-133.3\" font-family=\"Times,serif\" font-size=\"14.00\" fill=\"#000000\">(FA_A)</text>\n</g>\n<!-- \\(FA_A\\)&#45;&gt;\\(FA_A\\) -->\n<g id=\"edge4\" class=\"edge\">\n<title>\\(FA_A\\)&#45;&gt;\\(FA_A\\)</title>\n<path fill=\"none\" stroke=\"#000000\" d=\"M232.3375,-175.6822C232.8063,-186.7569 236.7907,-195.2964 244.2907,-195.2964 249.2125,-195.2964 252.6204,-191.6188 254.5141,-185.9604\"/>\n<polygon fill=\"#000000\" stroke=\"#000000\" points=\"258.0357,-186.1244 256.2438,-175.6822 251.1327,-184.9627 258.0357,-186.1244\"/>\n<text text-anchor=\"middle\" x=\"244.2907\" y=\"-199.0964\" font-family=\"Times,serif\" font-size=\"14.00\" fill=\"#000000\">0 </text>\n</g>\n<!-- \\(FB_B\\) -->\n<g id=\"node7\" class=\"node\">\n<title>\\(FB_B\\)</title>\n<ellipse fill=\"none\" stroke=\"#000000\" cx=\"372.2336\" cy=\"-83\" rx=\"39.7935\" ry=\"39.7935\"/>\n<text text-anchor=\"middle\" x=\"372.2336\" y=\"-79.3\" font-family=\"Times,serif\" font-size=\"14.00\" fill=\"#000000\">(FB_B)</text>\n</g>\n<!-- \\(FA_A\\)&#45;&gt;\\(FB_B\\) -->\n<g id=\"edge6\" class=\"edge\">\n<title>\\(FA_A\\)&#45;&gt;\\(FB_B\\)</title>\n<path fill=\"none\" stroke=\"#000000\" d=\"M281.641,-121.2358C295.557,-115.3623 311.5187,-108.6255 326.1287,-102.4592\"/>\n<polygon fill=\"#000000\" stroke=\"#000000\" points=\"327.6473,-105.6173 335.4993,-98.5042 324.9253,-99.1682 327.6473,-105.6173\"/>\n<text text-anchor=\"middle\" x=\"308.5871\" y=\"-114.8\" font-family=\"Times,serif\" font-size=\"14.00\" fill=\"#000000\">1 </text>\n</g>\n<!-- \\(D_A\\) -->\n<g id=\"node3\" class=\"node\">\n<title>\\(D_A\\)</title>\n<ellipse fill=\"none\" stroke=\"#000000\" cx=\"604.0715\" cy=\"-114\" rx=\"35.194\" ry=\"35.194\"/>\n<text text-anchor=\"middle\" x=\"604.0715\" y=\"-110.3\" font-family=\"Times,serif\" font-size=\"14.00\" fill=\"#000000\">(D_A)</text>\n</g>\n<!-- \\(D_A\\)&#45;&gt;\\(D_A\\) -->\n<g id=\"edge12\" class=\"edge\">\n<title>\\(D_A\\)&#45;&gt;\\(D_A\\)</title>\n<path fill=\"none\" stroke=\"#000000\" d=\"M593.1972,-147.4444C593.2534,-158.3851 596.8782,-167.0969 604.0715,-167.0969 608.7922,-167.0969 611.9759,-163.345 613.6229,-157.6736\"/>\n<polygon fill=\"#000000\" stroke=\"#000000\" points=\"617.1342,-157.8108 614.9458,-147.4444 610.192,-156.9128 617.1342,-157.8108\"/>\n<text text-anchor=\"middle\" x=\"604.0715\" y=\"-170.8969\" font-family=\"Times,serif\" font-size=\"14.00\" fill=\"#000000\">0 </text>\n</g>\n<!-- \\(E_B\\) -->\n<g id=\"node4\" class=\"node\">\n<title>\\(E_B\\)</title>\n<ellipse fill=\"none\" stroke=\"#000000\" cx=\"720.9654\" cy=\"-88\" rx=\"33.5952\" ry=\"33.5952\"/>\n<text text-anchor=\"middle\" x=\"720.9654\" y=\"-84.3\" font-family=\"Times,serif\" font-size=\"14.00\" fill=\"#000000\">(E_B)</text>\n</g>\n<!-- \\(D_A\\)&#45;&gt;\\(E_B\\) -->\n<g id=\"edge15\" class=\"edge\">\n<title>\\(D_A\\)&#45;&gt;\\(E_B\\)</title>\n<path fill=\"none\" stroke=\"#000000\" d=\"M638.5113,-106.3398C650.7334,-103.6213 664.6508,-100.5257 677.526,-97.662\"/>\n<polygon fill=\"#000000\" stroke=\"#000000\" points=\"678.5744,-101.0144 687.5759,-95.4266 677.0545,-94.1814 678.5744,-101.0144\"/>\n<text text-anchor=\"middle\" x=\"663.1684\" y=\"-104.8\" font-family=\"Times,serif\" font-size=\"14.00\" fill=\"#000000\">1 </text>\n</g>\n<!-- \\(C_I\\) -->\n<g id=\"node6\" class=\"node\">\n<title>\\(C_I\\)</title>\n<ellipse fill=\"none\" stroke=\"#000000\" cx=\"490.4273\" cy=\"-83\" rx=\"30.5947\" ry=\"30.5947\"/>\n<text text-anchor=\"middle\" x=\"490.4273\" y=\"-79.3\" font-family=\"Times,serif\" font-size=\"14.00\" fill=\"#000000\">(C_I)</text>\n</g>\n<!-- \\(E_B\\)&#45;&gt;\\(C_I\\) -->\n<g id=\"edge2\" class=\"edge\">\n<title>\\(E_B\\)&#45;&gt;\\(C_I\\)</title>\n<path fill=\"none\" stroke=\"#000000\" d=\"M690.7474,-72.5721C675.6713,-65.7236 656.9066,-58.4433 639.1684,-55 608.5428,-49.055 599.7157,-49.6846 568.9746,-55 555.2195,-57.3784 540.6831,-61.9373 527.9052,-66.6968\"/>\n<polygon fill=\"#000000\" stroke=\"#000000\" points=\"526.573,-63.4594 518.5188,-70.3427 529.1076,-69.9845 526.573,-63.4594\"/>\n<text text-anchor=\"middle\" x=\"604.0715\" y=\"-58.8\" font-family=\"Times,serif\" font-size=\"14.00\" fill=\"#000000\">1 </text>\n</g>\n<!-- \\(F_F\\) -->\n<g id=\"node8\" class=\"node\">\n<title>\\(F_F\\)</title>\n<ellipse fill=\"none\" stroke=\"#000000\" cx=\"839.2595\" cy=\"-88\" rx=\"32.4945\" ry=\"32.4945\"/>\n<ellipse fill=\"none\" stroke=\"#000000\" cx=\"839.2595\" cy=\"-88\" rx=\"36.4942\" ry=\"36.4942\"/>\n<text text-anchor=\"middle\" x=\"839.2595\" y=\"-84.3\" font-family=\"Times,serif\" font-size=\"14.00\" fill=\"#000000\">(F_F)</text>\n</g>\n<!-- \\(E_B\\)&#45;&gt;\\(F_F\\) -->\n<g id=\"edge11\" class=\"edge\">\n<title>\\(E_B\\)&#45;&gt;\\(F_F\\)</title>\n<path fill=\"none\" stroke=\"#000000\" d=\"M754.8637,-88C766.4915,-88 779.7219,-88 792.2021,-88\"/>\n<polygon fill=\"#000000\" stroke=\"#000000\" points=\"792.4575,-91.5001 802.4575,-88 792.4574,-84.5001 792.4575,-91.5001\"/>\n<text text-anchor=\"middle\" x=\"778.7624\" y=\"-91.8\" font-family=\"Times,serif\" font-size=\"14.00\" fill=\"#000000\">0 </text>\n</g>\n<!-- \\(IF_I\\)&#45;&gt;\\(FA_A\\) -->\n<g id=\"edge7\" class=\"edge\">\n<title>\\(IF_I\\)&#45;&gt;\\(FA_A\\)</title>\n<path fill=\"none\" stroke=\"#000000\" d=\"M151.5132,-80.9312C166.0968,-89.7446 184.2565,-100.7191 200.6334,-110.6163\"/>\n<polygon fill=\"#000000\" stroke=\"#000000\" points=\"199.1454,-113.8065 209.5142,-115.9833 202.766,-107.8156 199.1454,-113.8065\"/>\n<text text-anchor=\"middle\" x=\"179.9942\" y=\"-103.8\" font-family=\"Times,serif\" font-size=\"14.00\" fill=\"#000000\">0 </text>\n</g>\n<!-- \\(IF_I\\)&#45;&gt;\\(IF_I\\) -->\n<g id=\"edge9\" class=\"edge\">\n<title>\\(IF_I\\)&#45;&gt;\\(IF_I\\)</title>\n<path fill=\"none\" stroke=\"#000000\" d=\"M114.1221,-95.5607C114.1221,-106.0809 117.2471,-114.4971 123.4971,-114.4971 127.501,-114.4971 130.2224,-111.0431 131.6613,-105.7946\"/>\n<polygon fill=\"#000000\" stroke=\"#000000\" points=\"135.1729,-105.9027 132.8721,-95.5607 128.2214,-105.0802 135.1729,-105.9027\"/>\n<text text-anchor=\"middle\" x=\"123.4971\" y=\"-118.2971\" font-family=\"Times,serif\" font-size=\"14.00\" fill=\"#000000\">1 </text>\n</g>\n<!-- \\(C_I\\)&#45;&gt;\\(D_A\\) -->\n<g id=\"edge5\" class=\"edge\">\n<title>\\(C_I\\)&#45;&gt;\\(D_A\\)</title>\n<path fill=\"none\" stroke=\"#000000\" d=\"M519.9893,-91.064C532.1478,-94.3806 546.4886,-98.2925 559.8505,-101.9373\"/>\n<polygon fill=\"#000000\" stroke=\"#000000\" points=\"559.2566,-105.4032 569.8252,-104.6583 561.0988,-98.6499 559.2566,-105.4032\"/>\n<text text-anchor=\"middle\" x=\"544.9746\" y=\"-102.8\" font-family=\"Times,serif\" font-size=\"14.00\" fill=\"#000000\">0 </text>\n</g>\n<!-- \\(C_I\\)&#45;&gt;\\(C_I\\) -->\n<g id=\"edge3\" class=\"edge\">\n<title>\\(C_I\\)&#45;&gt;\\(C_I\\)</title>\n<path fill=\"none\" stroke=\"#000000\" d=\"M480.3246,-111.9071C479.9933,-122.6797 483.3609,-131.5473 490.4273,-131.5473 495.0647,-131.5473 498.109,-127.7284 499.5605,-122.0582\"/>\n<polygon fill=\"#000000\" stroke=\"#000000\" points=\"503.0633,-122.1946 500.5301,-111.9071 496.095,-121.5289 503.0633,-122.1946\"/>\n<text text-anchor=\"middle\" x=\"490.4273\" y=\"-135.3473\" font-family=\"Times,serif\" font-size=\"14.00\" fill=\"#000000\">1 </text>\n</g>\n<!-- \\(FB_B\\)&#45;&gt;\\(IF_I\\) -->\n<g id=\"edge10\" class=\"edge\">\n<title>\\(FB_B\\)&#45;&gt;\\(IF_I\\)</title>\n<path fill=\"none\" stroke=\"#000000\" d=\"M332.5778,-77.9839C317.5633,-76.2141 300.3051,-74.3346 284.5871,-73 244.5436,-69.5999 198.7868,-67.1841 166.298,-65.7172\"/>\n<polygon fill=\"#000000\" stroke=\"#000000\" points=\"166.3843,-62.2177 156.24,-65.2742 166.0763,-69.2109 166.3843,-62.2177\"/>\n<text text-anchor=\"middle\" x=\"244.2907\" y=\"-76.8\" font-family=\"Times,serif\" font-size=\"14.00\" fill=\"#000000\">1 </text>\n</g>\n<!-- \\(FB_B\\)&#45;&gt;\\(C_I\\) -->\n<g id=\"edge8\" class=\"edge\">\n<title>\\(FB_B\\)&#45;&gt;\\(C_I\\)</title>\n<path fill=\"none\" stroke=\"#000000\" d=\"M411.9192,-83C423.9529,-83 437.1946,-83 449.3195,-83\"/>\n<polygon fill=\"#000000\" stroke=\"#000000\" points=\"449.6289,-86.5001 459.6289,-83 449.6289,-79.5001 449.6289,-86.5001\"/>\n<text text-anchor=\"middle\" x=\"435.88\" y=\"-86.8\" font-family=\"Times,serif\" font-size=\"14.00\" fill=\"#000000\">0 </text>\n</g>\n<!-- \\(F_F\\)&#45;&gt;\\(FA_A\\) -->\n<g id=\"edge14\" class=\"edge\">\n<title>\\(F_F\\)&#45;&gt;\\(FA_A\\)</title>\n<path fill=\"none\" stroke=\"#000000\" d=\"M824.3394,-121.66C805.7745,-157.7713 770.3819,-210 720.9654,-210 372.2336,-210 372.2336,-210 372.2336,-210 338.4585,-210 305.4802,-190.5709 281.4659,-171.7596\"/>\n<polygon fill=\"#000000\" stroke=\"#000000\" points=\"283.646,-169.0213 273.6773,-165.4327 279.2324,-174.4545 283.646,-169.0213\"/>\n<text text-anchor=\"middle\" x=\"544.9746\" y=\"-213.8\" font-family=\"Times,serif\" font-size=\"14.00\" fill=\"#000000\">0 </text>\n</g>\n<!-- \\(F_F\\)&#45;&gt;\\(IF_I\\) -->\n<g id=\"edge13\" class=\"edge\">\n<title>\\(F_F\\)&#45;&gt;\\(IF_I\\)</title>\n<path fill=\"none\" stroke=\"#000000\" d=\"M817.4893,-58.2072C796.0883,-32.6777 760.8961,0 720.9654,0 244.2907,0 244.2907,0 244.2907,0 211.5283,0 178.9748,-18.6103 155.9318,-35.7598\"/>\n<polygon fill=\"#000000\" stroke=\"#000000\" points=\"153.662,-33.0905 147.8897,-41.9748 157.9425,-38.6293 153.662,-33.0905\"/>\n<text text-anchor=\"middle\" x=\"490.4273\" y=\"-3.8\" font-family=\"Times,serif\" font-size=\"14.00\" fill=\"#000000\">1 </text>\n</g>\n</g>\n</svg>\n"
          },
          "metadata": {
            "tags": []
          },
          "execution_count": 7
        }
      ]
    },
    {
      "cell_type": "markdown",
      "metadata": {
        "id": "F6VzSX4wVD-K"
      },
      "source": [
        "# Task 3: Examine Why Minimization Implies Elimination\n",
        "<font size=\"4\">    \n",
        "    \n",
        "Find out which states were eliminated in the Minimization Process. Explain why it was OK to leave these states out. Test the constructed machine using the template given to you. Finally use the Python \"filter\" function that filters out the accepted strings.\n",
        "    \n",
        "</font>"
      ]
    },
    {
      "cell_type": "markdown",
      "metadata": {
        "id": "xSfuRu-bVD-K"
      },
      "source": [
        "## Find out which states were eliminated"
      ]
    },
    {
      "cell_type": "markdown",
      "metadata": {
        "id": "Byrf87aQW-7V"
      },
      "source": [
        "We lost the (C_F), (F_I), (FG_A), and (FH_B) state"
      ]
    },
    {
      "cell_type": "code",
      "metadata": {
        "id": "d7iuefB1VD-K"
      },
      "source": [
        "# Hint: You can obtain the components of a DFA D by using the notation D[\"Q\"] where\n",
        "# D is a DFA created using the md2mc command. Basically, \"D\" is a dictionary and \n",
        "# D[\"Q\"] obtains the value of the key at \"Q\". See the lecture slides for Lec-3."
      ],
      "execution_count": null,
      "outputs": []
    },
    {
      "cell_type": "markdown",
      "metadata": {
        "id": "3Z_mePzFVD-L"
      },
      "source": [
        "## Explain why it is OK to leave these states out\n",
        "\n",
        "A template to guide your answer is below."
      ]
    },
    {
      "cell_type": "markdown",
      "metadata": {
        "id": "XtX5-BK9VD-L"
      },
      "source": [
        "<font size=\"4\"> \n",
        "... Your explanations here - a template of your answer is as follows ...\n",
        "    \n",
        "**This template tries to limit the number of cases you have to list**\n",
        " \n",
        " \n",
        " * I find that state SOMESTATE1 is present in DFA1 but SOMESTATE1 is absent in DFA2 \n",
        " \n",
        " \n",
        "   - I can obtain this info by doing DFA1[\"Q\"] - DFA2[\"Q\"]\n",
        "   - I can also eye-ball the diagrams and spot the missing state\n",
        "   - But I recall that in the diagram, a state may show up P_Q while in the DFA1[\"Q\"] - DFA2[\"Q\"] printout, it may show up as ('P','Q')\n",
        " \n",
        " \n",
        " \n",
        " * If there are multiple *SOMESTATE1* that are missing in DFA2, please pick the one that involves state letter 'I'  and call that the *SOMESTATE1* for the remaining questions BELOW\n",
        " \n",
        " \n",
        " **IMPORTANT CHANGE:** __Due to some non-reproducibility lurking in Jove, some people may not get a state containing \"I\". In that case, pick any one state that is missing, and answer the remaining questions.__\n",
        " \n",
        " * But I find that THIS STRING (pick the shortest string in numeric order) that reached SOMESTATE1 in DFA1 is now reaching state SOMESTATE2 in DFA2\n",
        " \n",
        " * Thus I conclude that state SOMESTATE1 and SOMESTATE2 are equivalent\n",
        " \n",
        " * This is further confirmed by the fact that (**here I am limiting your checks to 3 cases**)\n",
        "   - upon 0, SOMESTATE1 goes to THIS STATE while SOMESTATE2 goes to THIS STATE and they are  BOTH ACCEPTING / BOTH NON-ACCEPTING (pick on)\n",
        "   - upon 1, SOMESTATE1 goes to THIS STATE while SOMESTATE2 goes to THIS STATE and they are  BOTH ACCEPTING / BOTH NON-ACCEPTING (pick on)\n",
        "   upon 01, SOMESTATE1 goes to THIS STATE while SOMESTATE2 goes to THIS STATE and they are  BOTH ACCEPTING / BOTH NON-ACCEPTING (pick on)\n",
        " \n",
        " \n",
        "\n",
        " \n",
        " \n",
        "    \n",
        "</font>"
      ]
    },
    {
      "cell_type": "markdown",
      "metadata": {
        "id": "FZWd3UURVD-L"
      },
      "source": [
        "# Testing the machine"
      ]
    },
    {
      "cell_type": "code",
      "metadata": {
        "id": "k5ON-tTIVD-M"
      },
      "source": [
        "help(nthnumeric)"
      ],
      "execution_count": null,
      "outputs": []
    },
    {
      "cell_type": "markdown",
      "metadata": {
        "id": "fCF3DolVVD-P"
      },
      "source": [
        "## Test the constructed machine the \"direct\" way"
      ]
    },
    {
      "cell_type": "code",
      "metadata": {
        "id": "C0fL_ViaVD-P"
      },
      "source": [
        "TestList = [ nthnumeric(i, ['0','1']) for i in range(256) ]"
      ],
      "execution_count": 8,
      "outputs": []
    },
    {
      "cell_type": "code",
      "metadata": {
        "id": "GkDBoT2yVD-P"
      },
      "source": [
        "TestList"
      ],
      "execution_count": null,
      "outputs": []
    },
    {
      "cell_type": "code",
      "metadata": {
        "id": "DB-rTtcyVD-P"
      },
      "source": [
        "help(accepts_dfa)"
      ],
      "execution_count": null,
      "outputs": []
    },
    {
      "cell_type": "code",
      "metadata": {
        "id": "7AFThgHyVD-Q"
      },
      "source": [
        "for test in TestList:\n",
        "    if accepts_dfa(min_Even010_Ends010, test):\n",
        "        print(\" min_Even010_Ends010 : accepts \", test)\n",
        "    else:\n",
        "        print(\" min_Even010_Ends010 : does not accept \", test)"
      ],
      "execution_count": null,
      "outputs": []
    },
    {
      "cell_type": "markdown",
      "metadata": {
        "id": "k-SEBOotVD-Q"
      },
      "source": [
        "## Use Python's \"filter\" function to filter out the accepted strings directly"
      ]
    },
    {
      "cell_type": "code",
      "metadata": {
        "scrolled": true,
        "id": "okNd4vNkVD-Q",
        "outputId": "dade4e19-a360-41ca-90c2-55debdff1fa0",
        "colab": {
          "base_uri": "https://localhost:8080/"
        }
      },
      "source": [
        "list(filter(lambda x: accepts_dfa(min_Even010_Ends010, x), TestList))"
      ],
      "execution_count": 11,
      "outputs": [
        {
          "output_type": "execute_result",
          "data": {
            "text/plain": [
              "['010010', '0010010', '0100010', '0101010', '1010010']"
            ]
          },
          "metadata": {
            "tags": []
          },
          "execution_count": 11
        }
      ]
    },
    {
      "cell_type": "markdown",
      "metadata": {
        "id": "KyjsOOywVD-Q"
      },
      "source": [
        "## Doubled the testing range; now finding at least ten strings!"
      ]
    },
    {
      "cell_type": "code",
      "metadata": {
        "id": "IXt5UfksVD-Q",
        "outputId": "25da5407-c6d3-47be-d336-caf2c3a84414",
        "colab": {
          "base_uri": "https://localhost:8080/"
        }
      },
      "source": [
        "#TestList = [ nthnumeric(i, ['0','1']) for i in range(256) ] original\r\n",
        "TestList = [ nthnumeric(i, ['0','1']) for i in range(512) ]\r\n",
        "list(filter(lambda x: accepts_dfa(min_Even010_Ends010, x), TestList))"
      ],
      "execution_count": 13,
      "outputs": [
        {
          "output_type": "execute_result",
          "data": {
            "text/plain": [
              "['010010',\n",
              " '0010010',\n",
              " '0100010',\n",
              " '0101010',\n",
              " '1010010',\n",
              " '00010010',\n",
              " '00100010',\n",
              " '00101010',\n",
              " '01000010',\n",
              " '01010010',\n",
              " '01011010',\n",
              " '10010010',\n",
              " '10100010',\n",
              " '10101010',\n",
              " '11010010']"
            ]
          },
          "metadata": {
            "tags": []
          },
          "execution_count": 13
        }
      ]
    },
    {
      "cell_type": "markdown",
      "metadata": {
        "id": "-rU0GYt-VD-R"
      },
      "source": [
        "# END"
      ]
    }
  ]
}