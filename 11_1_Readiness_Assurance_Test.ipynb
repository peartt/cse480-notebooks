{
  "nbformat": 4,
  "nbformat_minor": 0,
  "metadata": {
    "colab": {
      "name": "11_1_Readiness_Assurance_Test.ipynb",
      "provenance": [],
      "include_colab_link": true
    },
    "kernelspec": {
      "name": "python3",
      "display_name": "Python 3"
    }
  },
  "cells": [
    {
      "cell_type": "markdown",
      "metadata": {
        "id": "view-in-github",
        "colab_type": "text"
      },
      "source": [
        "<a href=\"https://colab.research.google.com/github/peartt/cse480-notebooks/blob/master/11_1_Readiness_Assurance_Test.ipynb\" target=\"_parent\"><img src=\"https://colab.research.google.com/assets/colab-badge.svg\" alt=\"Open In Colab\"/></a>"
      ]
    },
    {
      "cell_type": "markdown",
      "metadata": {
        "id": "aMa2AgML52ze"
      },
      "source": [
        "# Readiness Assurance Test\n",
        "## 15 March 2021"
      ]
    },
    {
      "cell_type": "markdown",
      "metadata": {
        "id": "54mbJDOn_L32"
      },
      "source": [
        "# Answer the Following Questions"
      ]
    },
    {
      "cell_type": "markdown",
      "metadata": {
        "id": "xDxfy-x8_Tn2"
      },
      "source": [
        "## Best Analogy"
      ]
    },
    {
      "cell_type": "markdown",
      "metadata": {
        "id": "HPDsSGym_Xf2"
      },
      "source": [
        "Which of the following is the best analogy for reducing an **old** language to a new one, rather than the other way around, in order to prove undecidability?"
      ]
    },
    {
      "cell_type": "markdown",
      "metadata": {
        "id": "B0drDVYs_sJY"
      },
      "source": [
        "A. Proving an old proven very large number is indeed very large by showing it is less than or equal to a known very large number is futile.\n",
        "\n",
        "B. Proving (by contradiction, following reduction) that IF an existing undecidable language is decidable, THEN we will have shown the new language to be undecidable.\n",
        "\n",
        "C. Proving a **new** purported very large number is indeed very large by showing it is less than or equal to a known very large number is futile.\n",
        "\n",
        "D. Proving (by contradiction, following reduction) that IF an existing decidable language is undecidable, THEN we will have shown the new language to be decidable."
      ]
    },
    {
      "cell_type": "markdown",
      "metadata": {
        "id": "aQQyZfw6_vvg"
      },
      "source": [
        "### Enter your answer in the text cell below"
      ]
    },
    {
      "cell_type": "markdown",
      "metadata": {
        "id": "5XZZU5CE_17z"
      },
      "source": [
        "B. If you can reduce the old undecidable language to the new one, than the new one must also be undecidable. "
      ]
    },
    {
      "cell_type": "markdown",
      "metadata": {
        "id": "aEDPQMYR_2-y"
      },
      "source": [
        "#### Hint"
      ]
    },
    {
      "cell_type": "markdown",
      "metadata": {
        "id": "ZqxWxRbc_49s"
      },
      "source": [
        "Read the footnote on page 2 of the How-to-Create-Mapping-Reductions.pdf document found in the outside chat."
      ]
    },
    {
      "cell_type": "markdown",
      "metadata": {
        "id": "7Zvl4irMAUQU"
      },
      "source": [
        "## Show Understanding"
      ]
    },
    {
      "cell_type": "markdown",
      "metadata": {
        "id": "afaB5rBGAjQl"
      },
      "source": [
        "Remember, another way to say Recursively Enumerable is **Turing-recognizable**. Also, a language is **co-Turing-recognizable** if its **complement** is Turing-recognizable.\n",
        "\n",
        "Use any of the following three theorems as appropriate: "
      ]
    },
    {
      "cell_type": "markdown",
      "metadata": {
        "id": "PL21rGNBA8r6"
      },
      "source": [
        "### Theorem 1"
      ]
    },
    {
      "cell_type": "markdown",
      "metadata": {
        "id": "m_OiyBYoA_5f"
      },
      "source": [
        "A language is decidable iff it is Turing-recognizable and co-Turing-recognizable."
      ]
    },
    {
      "cell_type": "markdown",
      "metadata": {
        "id": "JUBtFh7yBBdR"
      },
      "source": [
        "### Theorem 2"
      ]
    },
    {
      "cell_type": "markdown",
      "metadata": {
        "id": "6NiAZRFVBBdS"
      },
      "source": [
        "If $A \\le_m B$ and $B$ is Turing-recognizable, then $A$ is Turing-recognizable."
      ]
    },
    {
      "cell_type": "markdown",
      "metadata": {
        "id": "Eb54ot48BBpX"
      },
      "source": [
        "### Theorem 3"
      ]
    },
    {
      "cell_type": "markdown",
      "metadata": {
        "id": "hkB7SQkrBBpY"
      },
      "source": [
        "If $L$ is a regular language, and $A$ is mapping reducible to it, then $A$ is decidable."
      ]
    },
    {
      "cell_type": "markdown",
      "metadata": {
        "id": "2qTWkoA6BzrV"
      },
      "source": [
        "### Show NON-mapping reducibility"
      ]
    },
    {
      "cell_type": "markdown",
      "metadata": {
        "id": "rboXuUgOB5QW"
      },
      "source": [
        "Show that $A_{TM}$ is **not** mapping reducible to $E_{TM}$.\n",
        "\n",
        "In other words, show that no computable function reduces $A_{TM}$ to $E_{TM}$."
      ]
    },
    {
      "cell_type": "markdown",
      "metadata": {
        "id": "66DtcJ1XGbXW"
      },
      "source": [
        "$A_{TM}$ requires input $w$ in order to check for acceptance. $E_{TM}$ will reject $w$ and therfore cannot be reduced to from $A_{TM}$. There is nothing that can be learned about $A_{TM}$ from $E_{TM}$."
      ]
    },
    {
      "cell_type": "markdown",
      "metadata": {
        "id": "LKzOBzeNCKKX"
      },
      "source": [
        "#### Hint"
      ]
    },
    {
      "cell_type": "markdown",
      "metadata": {
        "id": "gfYyj0Y2CMMR"
      },
      "source": [
        "Use a proof by contradiction, and facts you already know about $A_{TM}$ and $E_{TM}$ --- plus a fact that follows from the definition of mapping reducibility."
      ]
    },
    {
      "cell_type": "markdown",
      "metadata": {
        "id": "VlUP0Ry9CpBi"
      },
      "source": [
        "### Show decidability"
      ]
    },
    {
      "cell_type": "markdown",
      "metadata": {
        "id": "-rf89iKzCsDQ"
      },
      "source": [
        "Show that $A$ is decidable iff $A \\le_m 0^{*}1^{*}$."
      ]
    },
    {
      "cell_type": "markdown",
      "metadata": {
        "id": "gtrgGv2SGZZd"
      },
      "source": [
        "$0^*1^*$ has an easily recognizable accept state. Assuming $A$ is able to compute a possibly infinite $n$ or $m$ for $\\{0^n1^m \\mid n \\ge 0, m \\ge 0\\}$ than $A$ can easily decide if a string is in that format."
      ]
    },
    {
      "cell_type": "markdown",
      "metadata": {
        "id": "qxIfKZeHC5nO"
      },
      "source": [
        "### Show Turing-**recognizability**"
      ]
    },
    {
      "cell_type": "markdown",
      "metadata": {
        "id": "YSrU9EkoC_I1"
      },
      "source": [
        "Show that $A$ is Turing-recognizable iff $A \\le_m A_{TM}$."
      ]
    },
    {
      "cell_type": "markdown",
      "metadata": {
        "id": "GkRUYH0NGMf1"
      },
      "source": [
        "$A_{TM}$ is Turing-recognizable. Because of this, if $A \\le_m A_{TM}$ is true, that $A$ cannot be more complex and must remain Turing-recgonizable. However, if $A$ is more complex than $A_{TM}$, it becomes too complex and cannot be Turing-recognizable"
      ]
    },
    {
      "cell_type": "markdown",
      "metadata": {
        "id": "jMr7dJ7DDcrJ"
      },
      "source": [
        "### Show NON-Turing-recognizability"
      ]
    },
    {
      "cell_type": "markdown",
      "metadata": {
        "id": "mKeiRvO1DfOO"
      },
      "source": [
        "Let $J = \\{w \\mid\\ \\mathbf{either}\\ w = 0x\\ \\mbox{for some}\\ x \\in A_{TM},\\ \\mathbf{or}\\ w = 1y\\ \\mbox{for some}\\ y \\in \\overline{A_{TM}}\\}$."
      ]
    },
    {
      "cell_type": "markdown",
      "metadata": {
        "id": "HqS1vPFKEde7"
      },
      "source": [
        "Show that neither $J$ nor $\\overline{J}$ is Turing-recognizable."
      ]
    },
    {
      "cell_type": "markdown",
      "metadata": {
        "id": "eSpZsashGPZd"
      },
      "source": [
        "Not sure if I understand what this is trying to say but I believe you are saying $J$ is a turing machine that accepts an input $x$ from $A_{TM}$ where $A_{TM}(x) = 0$ which shouldn't be possible or a $y$ from $\\overline{A_{TM}}$ where $\\overline{A_{TM}}(y) = 0$ which should also be impossible."
      ]
    },
    {
      "cell_type": "markdown",
      "metadata": {
        "id": "AVZBzgZ2EiSX"
      },
      "source": [
        "#### Hint"
      ]
    },
    {
      "cell_type": "markdown",
      "metadata": {
        "id": "y-g2LxszEpVv"
      },
      "source": [
        "To prove that $J$ is not Turing-recognizable, show that $\\overline{A_{TM}} \\le_m J$. \n",
        "\n",
        "You must actually define the mapping reduction --- i.e., say \"the reduction maps any string $y$ to the string _______.\" (Fill in the blank.)\n",
        "\n",
        "To prove that $\\overline{J}$ is not Turing-recognizable, show that $A_{TM} \\le_m J$. (Note $A_{TM} \\le_m J$ iff $\\overline{A_{TM}} \\le_m \\overline{J}$.)\n",
        "\n",
        "You must actually define the mapping reduction --- i.e., say \"the reduction maps any string $x$ to the string _______.\" (Fill in the blank.)"
      ]
    }
  ]
}