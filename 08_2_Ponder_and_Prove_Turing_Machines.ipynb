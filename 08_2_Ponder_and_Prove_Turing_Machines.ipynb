{
  "nbformat": 4,
  "nbformat_minor": 0,
  "metadata": {
    "colab": {
      "name": "08_2_Ponder_and_Prove_Turing_Machines.ipynb",
      "provenance": [],
      "authorship_tag": "ABX9TyOo3/qUdohdCVa8N4GTz0Yg",
      "include_colab_link": true
    },
    "kernelspec": {
      "name": "python3",
      "display_name": "Python 3"
    }
  },
  "cells": [
    {
      "cell_type": "markdown",
      "metadata": {
        "id": "view-in-github",
        "colab_type": "text"
      },
      "source": [
        "<a href=\"https://colab.research.google.com/github/byui-cse/cse480-notebooks/blob/master/08_2_Ponder_and_Prove_Turing_Machines.ipynb\" target=\"_parent\"><img src=\"https://colab.research.google.com/assets/colab-badge.svg\" alt=\"Open In Colab\"/></a>"
      ]
    },
    {
      "cell_type": "markdown",
      "metadata": {
        "id": "KROWXw9EqAOY"
      },
      "source": [
        "# Ponder and Prove Turing Machines\n",
        "## Due: Saturday, 27 February 2021, 11:59 pm"
      ]
    },
    {
      "cell_type": "markdown",
      "metadata": {
        "id": "uLXu2I4YqK2x"
      },
      "source": [
        "## TODO Study Examples"
      ]
    },
    {
      "cell_type": "markdown",
      "metadata": {
        "id": "m7clQtUHqQDq"
      },
      "source": [
        "In the folders\n",
        "\n",
        "Jove/For_CS3100_Fall2020/17_DTMs_and_NDTMs\n",
        "\n",
        "and \n",
        "\n",
        "Jove/For_CS3100_Fall2020/18_More_TM_Exs\n",
        "\n",
        "you will find many examples of Deterministic Turing Machines, and Nondeterministic Turing Machines. Study these carefully!"
      ]
    },
    {
      "cell_type": "markdown",
      "metadata": {
        "id": "ND770ZuCq5kG"
      },
      "source": [
        "## TODO Write a Summary"
      ]
    },
    {
      "cell_type": "markdown",
      "metadata": {
        "id": "MRG7nNwoq_qT"
      },
      "source": [
        "Describe what you learned about TMs of both varieties."
      ]
    },
    {
      "cell_type": "markdown",
      "metadata": {
        "id": "IZv2_MDnrkiY"
      },
      "source": [
        "## TODO Create a DTM to Delete a Character"
      ]
    },
    {
      "cell_type": "markdown",
      "metadata": {
        "id": "8CO727aIrrEi"
      },
      "source": [
        "This task is to delete a character from the tape string. Deleting the current symbol means transforming the tape from $x\\sigma y$ to $xy$ where $\\sigma$ is any symbol, including a blank, and $y$ is a string of nonblank symbols. Assume the input alphabet is $\\{a, b\\}$.\n",
        "\n",
        "HINT: Use a couple of states (labeled $q_a$ and $q_b$, say) for your TM to remember a symbol between the time it is erased and the time it is copied in the next square to the left. (The complete DTM requires about 6 states total, with 12 transitions.)\n"
      ]
    },
    {
      "cell_type": "markdown",
      "metadata": {
        "id": "FmWSlviOsUC7"
      },
      "source": [
        "## TODO Create a DTM to Insert a Character"
      ]
    },
    {
      "cell_type": "markdown",
      "metadata": {
        "id": "jA2pQpkJsdXS"
      },
      "source": [
        "This task is the opposite of the first one, namely, to insert a character into the tape string. Inserting the symbol $\\sigma$ is done virtually the same way as deleting, except that the single pass goes from left to right, symbols are moved to the right instead of to the left, and the move that starts things off writes $\\sigma$ instead of a blank.\n"
      ]
    },
    {
      "cell_type": "markdown",
      "metadata": {
        "id": "rgOacLFksrEm"
      },
      "source": [
        "## TODO Create a DTM to Copy a String"
      ]
    },
    {
      "cell_type": "markdown",
      "metadata": {
        "id": "Iw2WYYVPsuqJ"
      },
      "source": [
        "Let $\\sqcup$ represent the blank symbol. A *Copy* DTM starts with tape $\\sqcup\\ x$ where $x$ is a string of nonblank symbols, and ends up with $\\sqcup\\ x \\sqcup x$. Again, assume the input alphabet is $\\{a, b\\}$.\n",
        "\n",
        "HINT: This DTM requires about 10 states, and not quite double that many transitions."
      ]
    },
    {
      "cell_type": "markdown",
      "metadata": {
        "id": "sTNke7j5t9D6"
      },
      "source": [
        "## TODO Refresh Your Knowledge of the 3x+1 Conjecture"
      ]
    },
    {
      "cell_type": "markdown",
      "metadata": {
        "id": "NpXXTnxMuN8t"
      },
      "source": [
        "The code on page 200 does the 3x+1 Conjecture testing recursively:"
      ]
    },
    {
      "cell_type": "code",
      "metadata": {
        "id": "8E-aZBdbuCo5"
      },
      "source": [
        "def tep1(x):\n",
        "    if (x==1):\n",
        "        return 1\n",
        "    elif (x%2 == 0):\n",
        "        return tep1(x/2)\n",
        "    else:\n",
        "        return tep1(3*x+1)\n",
        "\n",
        "print(tep1(3))\n",
        "print(tep1(191))\n",
        "print(tep1(19192949297080))\n",
        "print(tep1(191929492970809272397923472398492839482))\n",
        "print(tep1(191929492970809272397923472398492839482938492))"
      ],
      "execution_count": null,
      "outputs": []
    },
    {
      "cell_type": "markdown",
      "metadata": {
        "id": "4zkYEg08uZju"
      },
      "source": [
        "Two Python techniques --- \"memoizing\" and \"listifying\" --- make for faster code:"
      ]
    },
    {
      "cell_type": "code",
      "metadata": {
        "id": "er7VN37Au07d"
      },
      "source": [
        "def memoize(func):\n",
        "    results = {}\n",
        "    def inner(i):\n",
        "        if not i in results:\n",
        "            results[i] = func(i)\n",
        "        return results[i]\n",
        "    return inner\n",
        "\n",
        "def listify(func):\n",
        "    def inner(x):\n",
        "        return list(func(x))\n",
        "    return inner\n",
        "\n",
        "@memoize\n",
        "def tep1(x):\n",
        "    return 1 if x == 2 else tep1(x/2) if x%2 == 0 else tep1(3*x+1)\n",
        "\n",
        "@listify\n",
        "def tepmany(x):\n",
        "    for i in range(1, x+1):\n",
        "        yield tep1(i)\n",
        "\n",
        "print(max(tepmany(100000)))"
      ],
      "execution_count": null,
      "outputs": []
    },
    {
      "cell_type": "markdown",
      "metadata": {
        "id": "0QX5geEMvvcw"
      },
      "source": [
        "# TODO Modify a NON-Trivial Turing Machine Program"
      ]
    },
    {
      "cell_type": "markdown",
      "metadata": {
        "id": "3TemaqVUv1MI"
      },
      "source": [
        "The Turing machine program on page 202 performs the continuing 3x+1 transformation on an input that is a binary number. So for example if the\n",
        "initial tape has\n",
        "\n",
        "$11$\n",
        "\n",
        "which is the binary representation of the decimal number three, the final tape\n",
        "will have\n",
        "\n",
        "$1$\n",
        "\n",
        "on it.\n",
        "\n",
        "Modify the program so that a trace of all intermediate results appears on the output tape, e.g.:\n",
        "\n",
        "$11*1010*101*10000*1000*100*10*1$\n",
        "\n",
        "which separates with a star the binary representations of the numbers in the\n",
        "continuing 3x+1 transformation from 3 to 10 to 5 to 16 to 8 to 4 to 2 to 1.\n"
      ]
    }
  ]
}