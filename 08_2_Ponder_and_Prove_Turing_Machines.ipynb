{
  "nbformat": 4,
  "nbformat_minor": 0,
  "metadata": {
    "colab": {
      "name": "08_2_Ponder_and_Prove_Turing_Machines.ipynb",
      "provenance": [],
      "include_colab_link": true
    },
    "kernelspec": {
      "name": "python3",
      "display_name": "Python 3"
    }
  },
  "cells": [
    {
      "cell_type": "markdown",
      "metadata": {
        "id": "view-in-github",
        "colab_type": "text"
      },
      "source": [
        "<a href=\"https://colab.research.google.com/github/peartt/cse480-notebooks/blob/master/08_2_Ponder_and_Prove_Turing_Machines.ipynb\" target=\"_parent\"><img src=\"https://colab.research.google.com/assets/colab-badge.svg\" alt=\"Open In Colab\"/></a>"
      ]
    },
    {
      "cell_type": "markdown",
      "metadata": {
        "id": "KROWXw9EqAOY"
      },
      "source": [
        "# Ponder and Prove Turing Machines\n",
        "## Due: Saturday, 27 February 2021, 11:59 pm"
      ]
    },
    {
      "cell_type": "code",
      "metadata": {
        "id": "joPrU0hVb8K2",
        "outputId": "8e48fa84-55f7-43c4-df8d-1880996fbe23",
        "colab": {
          "base_uri": "https://localhost:8080/"
        }
      },
      "source": [
        "import sys\r\n",
        "\r\n",
        "# -- Detect if in Own Install or in Colab\r\n",
        "try:\r\n",
        "    import google.colab\r\n",
        "    OWN_INSTALL = False\r\n",
        "except:\r\n",
        "    OWN_INSTALL = True\r\n",
        "    \r\n",
        "if OWN_INSTALL:\r\n",
        "  sys.path[0:0] = ['../../../../..',  '../../../../../3rdparty',  \r\n",
        "                   '../../../..',  '../../../../3rdparty',  \r\n",
        "                   '../../..',     '../../../3rdparty', \r\n",
        "                   '../..',        '../../3rdparty',\r\n",
        "                   '..',           '../3rdparty',\r\n",
        "                   '../Jove',      '../Jove/jove']\r\n",
        "\r\n",
        "else: # In colab\r\n",
        "  ! if [ ! -d Jove ]; then git clone https://github.com/ganeshutah/Jove Jove; fi\r\n",
        "  sys.path.append('./Jove')\r\n",
        "  sys.path.append('./Jove/jove')\r\n",
        "\r\n",
        "# -- common imports --\r\n",
        "from jove.Def_TM     import *\r\n",
        "from jove.Def_md2mc  import *\r\n",
        "from jove.DotBashers import *"
      ],
      "execution_count": 1,
      "outputs": [
        {
          "output_type": "stream",
          "text": [
            "You may use any of these help commands:\n",
            "help(step_tm)\n",
            "help(run_tm)\n",
            "help(explore_tm)\n",
            "\n",
            "You may use any of these help commands:\n",
            "help(md2mc)\n",
            ".. and if you want to dig more, then ..\n",
            "help(default_line_attr)\n",
            "help(length_ok_input_items)\n",
            "help(union_line_attr_list_fld)\n",
            "help(extend_rsltdict)\n",
            "help(form_delta)\n",
            "help(get_machine_components)\n",
            "\n",
            "You may use any of these help commands:\n",
            "help(ResetStNum)\n",
            "help(NxtStateStr)\n",
            "\n"
          ],
          "name": "stdout"
        }
      ]
    },
    {
      "cell_type": "markdown",
      "metadata": {
        "id": "uLXu2I4YqK2x"
      },
      "source": [
        "## TODO Study Examples"
      ]
    },
    {
      "cell_type": "markdown",
      "metadata": {
        "id": "m7clQtUHqQDq"
      },
      "source": [
        "In the folders\n",
        "\n",
        "Jove/For_CS3100_Fall2020/17_DTMs_and_NDTMs\n",
        "\n",
        "and \n",
        "\n",
        "Jove/For_CS3100_Fall2020/18_More_TM_Exs\n",
        "\n",
        "you will find many examples of Deterministic Turing Machines, and Nondeterministic Turing Machines. Study these carefully!"
      ]
    },
    {
      "cell_type": "markdown",
      "metadata": {
        "id": "ND770ZuCq5kG"
      },
      "source": [
        "## TODO Write a Summary"
      ]
    },
    {
      "cell_type": "markdown",
      "metadata": {
        "id": "MRG7nNwoq_qT"
      },
      "source": [
        "Describe what you learned about TMs of both varieties."
      ]
    },
    {
      "cell_type": "markdown",
      "metadata": {
        "id": "IZv2_MDnrkiY"
      },
      "source": [
        "## TODO Create a DTM to Delete a Character"
      ]
    },
    {
      "cell_type": "markdown",
      "metadata": {
        "id": "8CO727aIrrEi"
      },
      "source": [
        "This task is to delete a character from the tape string. Deleting the current symbol means transforming the tape from $x\\sigma y$ to $xy$ where $\\sigma$ is any symbol, including a blank, and $y$ is a string of nonblank symbols. Assume the input alphabet is $\\{a, b\\}$.\n",
        "\n",
        "HINT: Use a couple of states (labeled $q_a$ and $q_b$, say) for your TM to remember a symbol between the time it is erased and the time it is copied in the next square to the left. (The complete DTM requires about 6 states total, with 12 transitions.)\n"
      ]
    },
    {
      "cell_type": "code",
      "metadata": {
        "id": "orQxxZGbbvnm",
        "outputId": "4a82ac51-c8f2-41e3-def9-ddf7f85ac254",
        "colab": {
          "base_uri": "https://localhost:8080/",
          "height": 337
        }
      },
      "source": [
        "dotObj_tm(md2mc('''\r\n",
        "  TM\r\n",
        "!!cs  sr  sw   md   ns\r\n",
        "  I0 : a ; a , R -> I0\r\n",
        "  I0 : b ; b , R -> I0\r\n",
        "  I0 : s ; # , R -> QA\r\n",
        "  QA : a ; # , L -> QB\r\n",
        "  QA : b ; # , L -> QC\r\n",
        "  QA : _ ; _ , R -> Fhalt\r\n",
        "  QB : # ; a , R -> QD\r\n",
        "  QC : # ; b , R -> QD\r\n",
        "  QD : # ; # , R -> QA\r\n",
        "'''), FuseEdges=True)"
      ],
      "execution_count": 2,
      "outputs": [
        {
          "output_type": "execute_result",
          "data": {
            "text/plain": [
              "<graphviz.dot.Digraph at 0x7f177bfbd5d0>"
            ],
            "image/svg+xml": "<?xml version=\"1.0\" encoding=\"UTF-8\" standalone=\"no\"?>\n<!DOCTYPE svg PUBLIC \"-//W3C//DTD SVG 1.1//EN\"\n \"http://www.w3.org/Graphics/SVG/1.1/DTD/svg11.dtd\">\n<!-- Generated by graphviz version 2.40.1 (20161225.0304)\n -->\n<!-- Title: %3 Pages: 1 -->\n<svg width=\"529pt\" height=\"237pt\"\n viewBox=\"0.00 0.00 529.28 236.90\" xmlns=\"http://www.w3.org/2000/svg\" xmlns:xlink=\"http://www.w3.org/1999/xlink\">\n<g id=\"graph0\" class=\"graph\" transform=\"scale(1 1) rotate(0) translate(4 232.8973)\">\n<title>%3</title>\n<polygon fill=\"#ffffff\" stroke=\"transparent\" points=\"-4,4 -4,-232.8973 525.2826,-232.8973 525.2826,4 -4,4\"/>\n<!-- EMPTY -->\n<g id=\"node1\" class=\"node\">\n<title>EMPTY</title>\n</g>\n<!-- I0 -->\n<g id=\"node3\" class=\"node\">\n<title>I0</title>\n<ellipse fill=\"none\" stroke=\"#000000\" cx=\"109.8483\" cy=\"-149.8973\" rx=\"18.6979\" ry=\"18.6979\"/>\n<text text-anchor=\"middle\" x=\"109.8483\" y=\"-146.1973\" font-family=\"Times,serif\" font-size=\"14.00\" fill=\"#000000\">I0</text>\n</g>\n<!-- EMPTY&#45;&gt;I0 -->\n<g id=\"edge1\" class=\"edge\">\n<title>EMPTY&#45;&gt;I0</title>\n<path fill=\"none\" stroke=\"#000000\" d=\"M54.1276,-149.8973C62.6494,-149.8973 72.0912,-149.8973 80.7441,-149.8973\"/>\n<polygon fill=\"#000000\" stroke=\"#000000\" points=\"80.7925,-153.3974 90.7925,-149.8973 80.7925,-146.3974 80.7925,-153.3974\"/>\n</g>\n<!-- QB -->\n<g id=\"node2\" class=\"node\">\n<title>QB</title>\n<ellipse fill=\"none\" stroke=\"#000000\" cx=\"361.9896\" cy=\"-175.8973\" rx=\"24.0958\" ry=\"24.0958\"/>\n<text text-anchor=\"middle\" x=\"361.9896\" y=\"-172.1973\" font-family=\"Times,serif\" font-size=\"14.00\" fill=\"#000000\">QB</text>\n</g>\n<!-- QD -->\n<g id=\"node4\" class=\"node\">\n<title>QD</title>\n<ellipse fill=\"none\" stroke=\"#000000\" cx=\"496.5848\" cy=\"-175.8973\" rx=\"24.8972\" ry=\"24.8972\"/>\n<text text-anchor=\"middle\" x=\"496.5848\" y=\"-172.1973\" font-family=\"Times,serif\" font-size=\"14.00\" fill=\"#000000\">QD</text>\n</g>\n<!-- QB&#45;&gt;QD -->\n<g id=\"edge7\" class=\"edge\">\n<title>QB&#45;&gt;QD</title>\n<path fill=\"none\" stroke=\"#000000\" d=\"M386.0525,-175.8973C407.1299,-175.8973 438.0195,-175.8973 461.7895,-175.8973\"/>\n<polygon fill=\"#000000\" stroke=\"#000000\" points=\"461.8196,-179.3974 471.8196,-175.8973 461.8195,-172.3974 461.8196,-179.3974\"/>\n<text text-anchor=\"middle\" x=\"433.887\" y=\"-179.6973\" font-family=\"Times,serif\" font-size=\"14.00\" fill=\"#000000\"># ; a,R</text>\n</g>\n<!-- I0&#45;&gt;I0 -->\n<g id=\"edge2\" class=\"edge\">\n<title>I0&#45;&gt;I0</title>\n<path fill=\"none\" stroke=\"#000000\" d=\"M103.4213,-167.7175C102.2216,-177.6236 104.364,-186.7457 109.8483,-186.7457 113.2761,-186.7457 115.3983,-183.1823 116.2151,-178.0914\"/>\n<polygon fill=\"#000000\" stroke=\"#000000\" points=\"119.7171,-177.7377 116.2753,-167.7175 112.7172,-177.697 119.7171,-177.7377\"/>\n<text text-anchor=\"middle\" x=\"109.8483\" y=\"-205.5457\" font-family=\"Times,serif\" font-size=\"14.00\" fill=\"#000000\">a ; a,R </text>\n<text text-anchor=\"middle\" x=\"109.8483\" y=\"-190.5457\" font-family=\"Times,serif\" font-size=\"14.00\" fill=\"#000000\"> b ; b,R</text>\n</g>\n<!-- QA -->\n<g id=\"node5\" class=\"node\">\n<title>QA</title>\n<ellipse fill=\"none\" stroke=\"#000000\" cx=\"227.3945\" cy=\"-149.8973\" rx=\"24.8972\" ry=\"24.8972\"/>\n<text text-anchor=\"middle\" x=\"227.3945\" y=\"-146.1973\" font-family=\"Times,serif\" font-size=\"14.00\" fill=\"#000000\">QA</text>\n</g>\n<!-- I0&#45;&gt;QA -->\n<g id=\"edge3\" class=\"edge\">\n<title>I0&#45;&gt;QA</title>\n<path fill=\"none\" stroke=\"#000000\" d=\"M128.7341,-149.8973C145.8336,-149.8973 171.4621,-149.8973 192.3127,-149.8973\"/>\n<polygon fill=\"#000000\" stroke=\"#000000\" points=\"192.4076,-153.3974 202.4075,-149.8973 192.4075,-146.3974 192.4076,-153.3974\"/>\n<text text-anchor=\"middle\" x=\"165.6967\" y=\"-153.6973\" font-family=\"Times,serif\" font-size=\"14.00\" fill=\"#000000\">s ; #,R</text>\n</g>\n<!-- QD&#45;&gt;QA -->\n<g id=\"edge9\" class=\"edge\">\n<title>QD&#45;&gt;QA</title>\n<path fill=\"none\" stroke=\"#000000\" d=\"M474.288,-186.7358C467.8047,-189.6354 460.6468,-192.5988 453.887,-194.8973 400.6277,-213.007 383.1856,-220.2654 328.0923,-208.8973 300.601,-203.2248 294.1725,-198.3227 270.0923,-183.8973 264.7805,-180.7153 259.3986,-176.9426 254.3283,-173.0879\"/>\n<polygon fill=\"#000000\" stroke=\"#000000\" points=\"256.1686,-170.0806 246.1572,-166.6134 251.8213,-175.5671 256.1686,-170.0806\"/>\n<text text-anchor=\"middle\" x=\"361.9896\" y=\"-217.6973\" font-family=\"Times,serif\" font-size=\"14.00\" fill=\"#000000\"># ; #,R</text>\n</g>\n<!-- QA&#45;&gt;QB -->\n<g id=\"edge4\" class=\"edge\">\n<title>QA&#45;&gt;QB</title>\n<path fill=\"none\" stroke=\"#000000\" d=\"M251.7686,-154.6058C273.1493,-158.7359 304.4505,-164.7824 328.2382,-169.3775\"/>\n<polygon fill=\"#000000\" stroke=\"#000000\" points=\"327.7663,-172.851 338.2486,-171.3113 329.094,-165.978 327.7663,-172.851\"/>\n<text text-anchor=\"middle\" x=\"290.0923\" y=\"-168.6973\" font-family=\"Times,serif\" font-size=\"14.00\" fill=\"#000000\">a ; #,L</text>\n</g>\n<!-- QC -->\n<g id=\"node6\" class=\"node\">\n<title>QC</title>\n<ellipse fill=\"none\" stroke=\"#000000\" cx=\"361.9896\" cy=\"-109.8973\" rx=\"24.0958\" ry=\"24.0958\"/>\n<text text-anchor=\"middle\" x=\"361.9896\" y=\"-106.1973\" font-family=\"Times,serif\" font-size=\"14.00\" fill=\"#000000\">QC</text>\n</g>\n<!-- QA&#45;&gt;QC -->\n<g id=\"edge5\" class=\"edge\">\n<title>QA&#45;&gt;QC</title>\n<path fill=\"none\" stroke=\"#000000\" d=\"M251.1475,-142.8382C272.8069,-136.4014 305.012,-126.8304 329.1346,-119.6615\"/>\n<polygon fill=\"#000000\" stroke=\"#000000\" points=\"330.335,-122.9561 338.9236,-116.7523 328.3409,-116.2461 330.335,-122.9561\"/>\n<text text-anchor=\"middle\" x=\"290.0923\" y=\"-140.6973\" font-family=\"Times,serif\" font-size=\"14.00\" fill=\"#000000\">b ; #,L</text>\n</g>\n<!-- Fhalt -->\n<g id=\"node7\" class=\"node\">\n<title>Fhalt</title>\n<ellipse fill=\"none\" stroke=\"#000000\" cx=\"361.9896\" cy=\"-33.8973\" rx=\"29.8071\" ry=\"29.8071\"/>\n<ellipse fill=\"none\" stroke=\"#000000\" cx=\"361.9896\" cy=\"-33.8973\" rx=\"33.795\" ry=\"33.795\"/>\n<text text-anchor=\"middle\" x=\"361.9896\" y=\"-30.1973\" font-family=\"Times,serif\" font-size=\"14.00\" fill=\"#000000\">Fhalt</text>\n</g>\n<!-- QA&#45;&gt;Fhalt -->\n<g id=\"edge6\" class=\"edge\">\n<title>QA&#45;&gt;Fhalt</title>\n<path fill=\"none\" stroke=\"#000000\" d=\"M244.3918,-131.8467C252.0427,-123.9688 261.3128,-114.756 270.0923,-106.8973 288.097,-90.781 309.1419,-73.9304 326.5463,-60.4845\"/>\n<polygon fill=\"#000000\" stroke=\"#000000\" points=\"328.9656,-63.0398 334.7685,-54.1754 324.7043,-57.4863 328.9656,-63.0398\"/>\n<text text-anchor=\"middle\" x=\"290.0923\" y=\"-110.6973\" font-family=\"Times,serif\" font-size=\"14.00\" fill=\"#000000\">_ ; _,R</text>\n</g>\n<!-- QC&#45;&gt;QD -->\n<g id=\"edge8\" class=\"edge\">\n<title>QC&#45;&gt;QD</title>\n<path fill=\"none\" stroke=\"#000000\" d=\"M383.6147,-120.5014C405.6227,-131.2933 439.9696,-148.1355 465.0167,-160.4176\"/>\n<polygon fill=\"#000000\" stroke=\"#000000\" points=\"463.5962,-163.6192 474.1158,-164.8795 466.6781,-157.3341 463.5962,-163.6192\"/>\n<text text-anchor=\"middle\" x=\"433.887\" y=\"-157.6973\" font-family=\"Times,serif\" font-size=\"14.00\" fill=\"#000000\"># ; b,R</text>\n</g>\n</g>\n</svg>\n"
          },
          "metadata": {
            "tags": []
          },
          "execution_count": 2
        }
      ]
    },
    {
      "cell_type": "markdown",
      "metadata": {
        "id": "FmWSlviOsUC7"
      },
      "source": [
        "## TODO Create a DTM to Insert a Character"
      ]
    },
    {
      "cell_type": "markdown",
      "metadata": {
        "id": "jA2pQpkJsdXS"
      },
      "source": [
        "This task is the opposite of the first one, namely, to insert a character into the tape string. Inserting the symbol $\\sigma$ is done virtually the same way as deleting, except that the single pass goes from left to right, symbols are moved to the right instead of to the left, and the move that starts things off writes $\\sigma$ instead of a blank.\n"
      ]
    },
    {
      "cell_type": "code",
      "metadata": {
        "id": "CU1knQ_jcPU3",
        "outputId": "99d3e60f-ef0b-4ea3-cbbc-988a335e7064",
        "colab": {
          "base_uri": "https://localhost:8080/",
          "height": 128
        }
      },
      "source": [
        "dotObj_tm(md2mc('''\r\n",
        "  TM\r\n",
        "!!cs  sr  sw   md   ns\r\n",
        "  I0 : a ; a , L -> QA\r\n",
        "  I0 : b ; b , L -> QA\r\n",
        "  QA : _ ; s , S -> FHalt\r\n",
        "'''), FuseEdges=True)"
      ],
      "execution_count": 3,
      "outputs": [
        {
          "output_type": "execute_result",
          "data": {
            "text/plain": [
              "<graphviz.dot.Digraph at 0x7f177bfabbd0>"
            ],
            "image/svg+xml": "<?xml version=\"1.0\" encoding=\"UTF-8\" standalone=\"no\"?>\n<!DOCTYPE svg PUBLIC \"-//W3C//DTD SVG 1.1//EN\"\n \"http://www.w3.org/Graphics/SVG/1.1/DTD/svg11.dtd\">\n<!-- Generated by graphviz version 2.40.1 (20161225.0304)\n -->\n<!-- Title: %3 Pages: 1 -->\n<svg width=\"410pt\" height=\"80pt\"\n viewBox=\"0.00 0.00 409.79 79.69\" xmlns=\"http://www.w3.org/2000/svg\" xmlns:xlink=\"http://www.w3.org/1999/xlink\">\n<g id=\"graph0\" class=\"graph\" transform=\"scale(1 1) rotate(0) translate(4 75.6943)\">\n<title>%3</title>\n<polygon fill=\"#ffffff\" stroke=\"transparent\" points=\"-4,4 -4,-75.6943 405.7866,-75.6943 405.7866,4 -4,4\"/>\n<!-- EMPTY -->\n<g id=\"node1\" class=\"node\">\n<title>EMPTY</title>\n</g>\n<!-- I0 -->\n<g id=\"node3\" class=\"node\">\n<title>I0</title>\n<ellipse fill=\"none\" stroke=\"#000000\" cx=\"109.8483\" cy=\"-35.8472\" rx=\"18.6979\" ry=\"18.6979\"/>\n<text text-anchor=\"middle\" x=\"109.8483\" y=\"-32.1472\" font-family=\"Times,serif\" font-size=\"14.00\" fill=\"#000000\">I0</text>\n</g>\n<!-- EMPTY&#45;&gt;I0 -->\n<g id=\"edge1\" class=\"edge\">\n<title>EMPTY&#45;&gt;I0</title>\n<path fill=\"none\" stroke=\"#000000\" d=\"M54.1276,-35.8472C62.6494,-35.8472 72.0912,-35.8472 80.7441,-35.8472\"/>\n<polygon fill=\"#000000\" stroke=\"#000000\" points=\"80.7925,-39.3473 90.7925,-35.8472 80.7925,-32.3473 80.7925,-39.3473\"/>\n</g>\n<!-- QA -->\n<g id=\"node2\" class=\"node\">\n<title>QA</title>\n<ellipse fill=\"none\" stroke=\"#000000\" cx=\"232.3945\" cy=\"-35.8472\" rx=\"24.8972\" ry=\"24.8972\"/>\n<text text-anchor=\"middle\" x=\"232.3945\" y=\"-32.1472\" font-family=\"Times,serif\" font-size=\"14.00\" fill=\"#000000\">QA</text>\n</g>\n<!-- FHalt -->\n<g id=\"node4\" class=\"node\">\n<title>FHalt</title>\n<ellipse fill=\"none\" stroke=\"#000000\" cx=\"365.9394\" cy=\"-35.8472\" rx=\"31.712\" ry=\"31.712\"/>\n<ellipse fill=\"none\" stroke=\"#000000\" cx=\"365.9394\" cy=\"-35.8472\" rx=\"35.695\" ry=\"35.695\"/>\n<text text-anchor=\"middle\" x=\"365.9394\" y=\"-32.1472\" font-family=\"Times,serif\" font-size=\"14.00\" fill=\"#000000\">FHalt</text>\n</g>\n<!-- QA&#45;&gt;FHalt -->\n<g id=\"edge3\" class=\"edge\">\n<title>QA&#45;&gt;FHalt</title>\n<path fill=\"none\" stroke=\"#000000\" d=\"M257.2003,-35.8472C274.7672,-35.8472 298.8513,-35.8472 319.8891,-35.8472\"/>\n<polygon fill=\"#000000\" stroke=\"#000000\" points=\"319.9302,-39.3473 329.9302,-35.8472 319.9301,-32.3473 319.9302,-39.3473\"/>\n<text text-anchor=\"middle\" x=\"293.5923\" y=\"-39.6472\" font-family=\"Times,serif\" font-size=\"14.00\" fill=\"#000000\">_ ; s,S</text>\n</g>\n<!-- I0&#45;&gt;QA -->\n<g id=\"edge2\" class=\"edge\">\n<title>I0&#45;&gt;QA</title>\n<path fill=\"none\" stroke=\"#000000\" d=\"M128.7276,-35.8472C146.927,-35.8472 174.9135,-35.8472 197.2226,-35.8472\"/>\n<polygon fill=\"#000000\" stroke=\"#000000\" points=\"197.3333,-39.3473 207.3333,-35.8472 197.3332,-32.3473 197.3333,-39.3473\"/>\n<text text-anchor=\"middle\" x=\"168.1967\" y=\"-54.6472\" font-family=\"Times,serif\" font-size=\"14.00\" fill=\"#000000\">a ; a,L </text>\n<text text-anchor=\"middle\" x=\"168.1967\" y=\"-39.6472\" font-family=\"Times,serif\" font-size=\"14.00\" fill=\"#000000\"> b ; b,L</text>\n</g>\n</g>\n</svg>\n"
          },
          "metadata": {
            "tags": []
          },
          "execution_count": 3
        }
      ]
    },
    {
      "cell_type": "markdown",
      "metadata": {
        "id": "rgOacLFksrEm"
      },
      "source": [
        "## TODO Create a DTM to Copy a String"
      ]
    },
    {
      "cell_type": "markdown",
      "metadata": {
        "id": "Iw2WYYVPsuqJ"
      },
      "source": [
        "Let $\\sqcup$ represent the blank symbol. A *Copy* DTM starts with tape $\\sqcup\\ x$ where $x$ is a string of nonblank symbols, and ends up with $\\sqcup\\ x \\sqcup x$. Again, assume the input alphabet is $\\{a, b\\}$.\n",
        "\n",
        "HINT: This DTM requires about 10 states, and not quite double that many transitions."
      ]
    },
    {
      "cell_type": "markdown",
      "metadata": {
        "id": "Uuyko1tm2h4E"
      },
      "source": [
        "The following turing machine is designed to work on the turing machine run at this website: http://morphett.info/turing/"
      ]
    },
    {
      "cell_type": "code",
      "metadata": {
        "id": "yv9gDNYtc4e0",
        "outputId": "12434d9c-181f-4454-bfbc-f0221ce814b3",
        "colab": {
          "base_uri": "https://localhost:8080/",
          "height": 418
        }
      },
      "source": [
        "dotObj_tm(md2mc('''\r\n",
        "  TM\r\n",
        ";cs  sr  sw   md   ns\r\n",
        "0 _ * R 9\r\n",
        "0 0 * * 9\r\n",
        "0 1 * * 9\r\n",
        "\r\n",
        "9 1 _ R 1\r\n",
        "9 0 _ R 5\r\n",
        "9 _ * * halt\r\n",
        "\r\n",
        "1 1 * R 1\r\n",
        "1 0 * R 1 ;Go until we find the the end of x\r\n",
        "1 _ * R 2\r\n",
        "2 1 * R 2\r\n",
        "2 0 * R 2\r\n",
        "2 _ 1 L 3 ;Write our symbol\r\n",
        "3 _ * L 4\r\n",
        "3 0 * L 3\r\n",
        "3 1 * L 3\r\n",
        "4 1 * L 4\r\n",
        "4 0 * L 4 ;Loop back until we find the start\r\n",
        "4 _ 1 R 9 ;Rewrite the symbol we duplicated and return to start state\r\n",
        "\r\n",
        "5 1 * R 5\r\n",
        "5 0 * R 5 ;Go until we find the the end of x\r\n",
        "5 _ * R 6\r\n",
        "6 0 * R 6\r\n",
        "6 1 * R 6\r\n",
        "6 _ 0 L 7 ;Write our symbol\r\n",
        "7 _ * L 8\r\n",
        "7 0 * L 7\r\n",
        "7 1 * L 7\r\n",
        "8 1 * L 8\r\n",
        "8 0 * L 8 ;Loop back until we find the start\r\n",
        "8 _ 0 R 9 ;Rewrite the symbol we duplicated and return to start state\r\n",
        "'''), FuseEdges=True)"
      ],
      "execution_count": 4,
      "outputs": [
        {
          "output_type": "stream",
          "text": [
            "Syntax error at ';'  on line  3\n",
            "Your are hosed due to a syntax error!\n"
          ],
          "name": "stdout"
        },
        {
          "output_type": "stream",
          "text": [
            "ERROR:root:An unexpected error occurred while tokenizing input\n",
            "The following traceback may be corrupted or invalid\n",
            "The error message is: ('EOF in multi-line string', (1, 0))\n",
            "\n"
          ],
          "name": "stderr"
        },
        {
          "output_type": "error",
          "ename": "ValueError",
          "evalue": "ignored",
          "traceback": [
            "\u001b[0;31m---------------------------------------------------------------------------\u001b[0m",
            "\u001b[0;31mValueError\u001b[0m                                Traceback (most recent call last)",
            "\u001b[0;32m<ipython-input-4-1c730e6c97b9>\u001b[0m in \u001b[0;36m<module>\u001b[0;34m()\u001b[0m\n\u001b[1;32m     35\u001b[0m \u001b[0;36m8\u001b[0m \u001b[0;36m0\u001b[0m \u001b[0;34m*\u001b[0m \u001b[0mL\u001b[0m \u001b[0;36m8\u001b[0m \u001b[0;34m;\u001b[0m\u001b[0mLoop\u001b[0m \u001b[0mback\u001b[0m \u001b[0muntil\u001b[0m \u001b[0mwe\u001b[0m \u001b[0mfind\u001b[0m \u001b[0mthe\u001b[0m \u001b[0mstart\u001b[0m\u001b[0;34m\u001b[0m\u001b[0;34m\u001b[0m\u001b[0m\n\u001b[1;32m     36\u001b[0m \u001b[0;36m8\u001b[0m \u001b[0m_\u001b[0m \u001b[0;36m0\u001b[0m \u001b[0mR\u001b[0m \u001b[0;36m9\u001b[0m \u001b[0;34m;\u001b[0m\u001b[0mRewrite\u001b[0m \u001b[0mthe\u001b[0m \u001b[0msymbol\u001b[0m \u001b[0mwe\u001b[0m \u001b[0mduplicated\u001b[0m \u001b[0;32mand\u001b[0m \u001b[0;32mreturn\u001b[0m \u001b[0mto\u001b[0m \u001b[0mstart\u001b[0m \u001b[0mstate\u001b[0m\u001b[0;34m\u001b[0m\u001b[0;34m\u001b[0m\u001b[0m\n\u001b[0;32m---> 37\u001b[0;31m '''), FuseEdges=True)\n\u001b[0m",
            "\u001b[0;32m/content/Jove/jove/Def_md2mc.py\u001b[0m in \u001b[0;36mmd2mc\u001b[0;34m(src, fname)\u001b[0m\n\u001b[1;32m    704\u001b[0m       \u001b[0mG_in\u001b[0m\u001b[0;34m,\u001b[0m   \u001b[0mG_out\u001b[0m\u001b[0;34m,\u001b[0m\u001b[0;34m\u001b[0m\u001b[0;34m\u001b[0m\u001b[0m\n\u001b[1;32m    705\u001b[0m       \u001b[0mQ0\u001b[0m\u001b[0;34m,\u001b[0m     \u001b[0mF\u001b[0m\u001b[0;34m,\u001b[0m\u001b[0;34m\u001b[0m\u001b[0;34m\u001b[0m\u001b[0m\n\u001b[0;32m--> 706\u001b[0;31m       Sigma,  Dirn, Delta)) = rslt\n\u001b[0m\u001b[1;32m    707\u001b[0m     \u001b[0;31m#--\u001b[0m\u001b[0;34m\u001b[0m\u001b[0;34m\u001b[0m\u001b[0;34m\u001b[0m\u001b[0m\n\u001b[1;32m    708\u001b[0m     \u001b[0;31m#-- for now, make struct right here; later call right maker\u001b[0m\u001b[0;34m\u001b[0m\u001b[0;34m\u001b[0m\u001b[0;34m\u001b[0m\u001b[0m\n",
            "\u001b[0;31mValueError\u001b[0m: not enough values to unpack (expected 9, got 5)"
          ]
        }
      ]
    },
    {
      "cell_type": "markdown",
      "metadata": {
        "id": "sTNke7j5t9D6"
      },
      "source": [
        "## TODO Refresh Your Knowledge of the 3x+1 Conjecture"
      ]
    },
    {
      "cell_type": "markdown",
      "metadata": {
        "id": "NpXXTnxMuN8t"
      },
      "source": [
        "The code on page 200 does the 3x+1 Conjecture testing recursively:"
      ]
    },
    {
      "cell_type": "code",
      "metadata": {
        "id": "8E-aZBdbuCo5"
      },
      "source": [
        "def tep1(x):\n",
        "    if (x==1):\n",
        "        return 1\n",
        "    elif (x%2 == 0):\n",
        "        return tep1(x/2)\n",
        "    else:\n",
        "        return tep1(3*x+1)\n",
        "\n",
        "print(tep1(3))\n",
        "print(tep1(191))\n",
        "print(tep1(19192949297080))\n",
        "print(tep1(191929492970809272397923472398492839482))\n",
        "print(tep1(191929492970809272397923472398492839482938492))"
      ],
      "execution_count": null,
      "outputs": []
    },
    {
      "cell_type": "markdown",
      "metadata": {
        "id": "4zkYEg08uZju"
      },
      "source": [
        "Two Python techniques --- \"memoizing\" and \"listifying\" --- make for faster code:"
      ]
    },
    {
      "cell_type": "code",
      "metadata": {
        "id": "er7VN37Au07d"
      },
      "source": [
        "def memoize(func):\n",
        "    results = {}\n",
        "    def inner(i):\n",
        "        if not i in results:\n",
        "            results[i] = func(i)\n",
        "        return results[i]\n",
        "    return inner\n",
        "\n",
        "def listify(func):\n",
        "    def inner(x):\n",
        "        return list(func(x))\n",
        "    return inner\n",
        "\n",
        "@memoize\n",
        "def tep1(x):\n",
        "    return 1 if x == 2 else tep1(x/2) if x%2 == 0 else tep1(3*x+1)\n",
        "\n",
        "@listify\n",
        "def tepmany(x):\n",
        "    for i in range(1, x+1):\n",
        "        yield tep1(i)\n",
        "\n",
        "print(max(tepmany(100000)))"
      ],
      "execution_count": null,
      "outputs": []
    },
    {
      "cell_type": "markdown",
      "metadata": {
        "id": "0QX5geEMvvcw"
      },
      "source": [
        "# TODO Modify a NON-Trivial Turing Machine Program"
      ]
    },
    {
      "cell_type": "markdown",
      "metadata": {
        "id": "3TemaqVUv1MI"
      },
      "source": [
        "The Turing machine program on page 202 performs the continuing 3x+1 transformation on an input that is a binary number. So for example if the\n",
        "initial tape has\n",
        "\n",
        "$11$\n",
        "\n",
        "which is the binary representation of the decimal number three, the final tape\n",
        "will have\n",
        "\n",
        "$1$\n",
        "\n",
        "on it.\n",
        "\n",
        "Modify the program so that a trace of all intermediate results appears on the output tape, e.g.:\n",
        "\n",
        "$11*1010*101*10000*1000*100*10*1$\n",
        "\n",
        "which separates with a star the binary representations of the numbers in the\n",
        "continuing 3x+1 transformation from 3 to 10 to 5 to 16 to 8 to 4 to 2 to 1.\n"
      ]
    },
    {
      "cell_type": "markdown",
      "metadata": {
        "id": "-MFm_Dqs2Yib"
      },
      "source": [
        "The following turing machine is designed to work on the turing machine run at this website: http://morphett.info/turing/"
      ]
    },
    {
      "cell_type": "code",
      "metadata": {
        "id": "9gtSj2mD2UPk"
      },
      "source": [
        "0 0 _ R 0\r\n",
        "0 1 1 R goto_lsb\r\n",
        "0 _ _ * error\r\n",
        "goto_lsb 0 0 R goto_lsb\r\n",
        "goto_lsb 1 1 R goto_lsb\r\n",
        "goto_lsb _ # L copy_find_front\r\n",
        "\r\n",
        "copy_find_front 0 * L copy_find_front\r\n",
        "copy_find_front 1 * L copy_find_front\r\n",
        "copy_find_front # * R copy\r\n",
        "copy_find_front _ * R copy\r\n",
        "\r\n",
        "copy 0 & R copy1\r\n",
        "copy 1 & R copy2\r\n",
        "copy _ * R exit_copy\r\n",
        "copy # * R exit_copy\r\n",
        "\r\n",
        "exit_copy 1 * R exit_copy\r\n",
        "exit_copy 0 * R exit_copy\r\n",
        "exit_copy # * R exit_copy\r\n",
        "exit_copy _ * L branch  \r\n",
        "\r\n",
        ";0 block\r\n",
        "copy1 1 * R copy1\r\n",
        "copy1 0 * R copy1\r\n",
        "copy1 # * R copy_loop\r\n",
        "copy_loop 1 * R copy_loop\r\n",
        "copy_loop 0 * R copy_loop\r\n",
        "copy_loop _ 0 L copy_back_0\r\n",
        "copy_back_0 1 * L copy_back_0\r\n",
        "copy_back_0 0 * L copy_back_0\r\n",
        "copy_back_0 # * L copy_back_0\r\n",
        "copy_back_0 & 0 R copy\r\n",
        "\r\n",
        ";1 block\r\n",
        "copy2 1 * R copy2\r\n",
        "copy2 0 * R copy2\r\n",
        "copy2 # * R copy2_loop\r\n",
        "copy2_loop 1 * R copy2_loop\r\n",
        "copy2_loop 0 * R copy2_loop\r\n",
        "copy2_loop _ 1 L copy_back_1\r\n",
        "copy_back_1 1 * L copy_back_1\r\n",
        "copy_back_1 0 * L copy_back_1\r\n",
        "copy_back_1 # * L copy_back_1\r\n",
        "copy_back_1 & 1 R copy\r\n",
        "\r\n",
        "branch 0 # L copy_find_front\r\n",
        "branch 1 1 L check_n_eq_1\r\n",
        "\r\n",
        "check_n_eq_1 0 0 R 01_fma\r\n",
        "check_n_eq_1 1 1 R 01_fma\r\n",
        "check_n_eq_1 _ _ R halt\r\n",
        "check_n_eq_1 # * R clean_up\r\n",
        "\r\n",
        "clean_up 1 _ L clean_up\r\n",
        "clean_up 0 _ L clean_up\r\n",
        "clean_up # _ L halt\r\n",
        "\r\n",
        "00_fma 0 0 L 00_fma\r\n",
        "00_fma 1 1 L 01_fma\r\n",
        "00_fma # # R goto_lsb\r\n",
        "\r\n",
        "01_fma _ 1 R goto_lsb\r\n",
        "01_fma 1 0 L 10_fma\r\n",
        "01_fma 0 1 L 00_fma\r\n",
        "01_fma # * R 01_add_space\r\n",
        "\r\n",
        "01_add_space 1 _ R 01_add_space_1\r\n",
        "01_add_space 0 _ R 01_add_space_0\r\n",
        "\r\n",
        "01_add_space_1 1 1 R 01_add_space_1\r\n",
        "01_add_space_1 0 1 R 01_add_space_0\r\n",
        "01_add_space_1 _ 1 * 01_go_back\r\n",
        "\r\n",
        "01_add_space_0 1 0 R 01_add_space_1\r\n",
        "01_add_space_0 0 0 R 01_add_space_0\r\n",
        "01_add_space_0 _ 0 * 01_go_back\r\n",
        "\r\n",
        "01_go_back 0 * L 01_go_back\r\n",
        "01_go_back 1 * L 01_go_back\r\n",
        "01_go_back _ * * 01_fma\r\n",
        "\r\n",
        "10_fma 0 0 L 01_fma\r\n",
        "10_fma 1 1 L 10_fma\r\n",
        "10_fma _ 0 L 01_fma\r\n",
        "10_fma # * R 10_add_space\r\n",
        "\r\n",
        "10_add_space 1 _ R 10_add_space_1\r\n",
        "10_add_space 0 _ R 10_add_space_0\r\n",
        "\r\n",
        "10_add_space_1 1 1 R 10_add_space_1\r\n",
        "10_add_space_1 0 1 R 10_add_space_0\r\n",
        "10_add_space_1 _ 1 * 10_go_back\r\n",
        "\r\n",
        "10_add_space_0 1 0 R 10_add_space_1\r\n",
        "10_add_space_0 0 0 R 10_add_space_0\r\n",
        "10_add_space_0 _ 0 * 10_go_back\r\n",
        "\r\n",
        "10_go_back 0 * L 10_go_back\r\n",
        "10_go_back 1 * L 10_go_back\r\n",
        "10_go_back _ * * 10_fma\r\n",
        "\r\n",
        ";Move the current block one to the right\r\n",
        "move_right 1 * R move_right\r\n",
        "move_right 0 * R move_right\r\n",
        "move_right _ * L copy_right\r\n",
        "move_right # * R restart\r\n",
        "\r\n",
        "copy_right 0 _ R copy_0_right\r\n",
        "copy_right 1 _ R copy_1_right\r\n",
        "\r\n",
        "copy_0_right 1 * R copy_0_right\r\n",
        "copy_0_right 0 * R copy_0_right\r\n",
        "copy_0_right _ 0 L move_left\r\n",
        "\r\n",
        "copy_1_right 1 * R copy_1_right\r\n",
        "copy_1_right 0 * R copy_1_right\r\n",
        "copy_1_right _ 1 L move_left\r\n",
        "\r\n",
        "move_left 0 * L move_left\r\n",
        "move_left 1 * L move_left\r\n",
        "move_left _ * L move_right"
      ],
      "execution_count": null,
      "outputs": []
    }
  ]
}