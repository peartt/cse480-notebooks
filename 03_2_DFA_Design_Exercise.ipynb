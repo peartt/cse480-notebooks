{
  "nbformat": 4,
  "nbformat_minor": 0,
  "metadata": {
    "kernelspec": {
      "display_name": "Python 3",
      "language": "python",
      "name": "python3"
    },
    "language_info": {
      "codemirror_mode": {
        "name": "ipython",
        "version": 3
      },
      "file_extension": ".py",
      "mimetype": "text/x-python",
      "name": "python",
      "nbconvert_exporter": "python",
      "pygments_lexer": "ipython3",
      "version": "3.9.0"
    },
    "toc": {
      "colors": {
        "hover_highlight": "#DAA520",
        "running_highlight": "#FF0000",
        "selected_highlight": "#FFD700"
      },
      "moveMenuLeft": true,
      "nav_menu": {
        "height": "318px",
        "width": "252px"
      },
      "navigate_menu": true,
      "number_sections": true,
      "sideBar": true,
      "threshold": 4,
      "toc_cell": false,
      "toc_section_display": "block",
      "toc_window_display": false,
      "widenNotebook": false
    },
    "colab": {
      "name": "03_2_DFA_Design_Exercise.ipynb",
      "provenance": []
    }
  },
  "cells": [
    {
      "cell_type": "markdown",
      "metadata": {
        "run_control": {
          "frozen": false,
          "read_only": false
        },
        "id": "0r1TnrTXaet6"
      },
      "source": [
        "# DFA Design Exercise\n",
        "\n",
        "Design a DFA that accepts strings which are multiples of 3 in value\n",
        "and contain a 100 in them."
      ]
    },
    {
      "cell_type": "code",
      "metadata": {
        "run_control": {
          "frozen": false,
          "read_only": false
        },
        "scrolled": true,
        "id": "62ZUJOHoaet_",
        "outputId": "56219bac-fc69-40d1-de0e-1e6a751f18b3",
        "colab": {
          "base_uri": "https://localhost:8080/"
        }
      },
      "source": [
        "#~~~~~~~~~~~~~~~~~~~~~~~~~~~~~~~~~~~~~~~~~~~~~~~~~~~~~~~\n",
        "import sys\n",
        "\n",
        "# -- Detect if in Own Install or in Colab\n",
        "try:\n",
        "    import google.colab\n",
        "    OWN_INSTALL = False\n",
        "except:\n",
        "    OWN_INSTALL = True\n",
        "    \n",
        "if OWN_INSTALL:\n",
        "\n",
        "  sys.path[0:0] = ['../../../../..',  '../../../../../3rdparty',  \n",
        "                   '../../../..',  '../../../../3rdparty',  \n",
        "                   '../../..',     '../../../3rdparty', \n",
        "                   '../..',        '../../3rdparty',\n",
        "                   '..',           '../3rdparty' ]\n",
        "\n",
        "else: # In colab\n",
        "  ! if [ ! -d Jove ]; then git clone https://github.com/ganeshutah/Jove Jove; fi\n",
        "  sys.path.append('./Jove')\n",
        "  sys.path.append('./Jove/jove')\n",
        "\n",
        "# -- common imports --\n",
        "from jove.DotBashers import *\n",
        "from jove.Def_md2mc  import *\n",
        "from jove.Def_DFA    import *\n",
        "from jove.Def_NFA import *\n",
        "from jove.LangDef    import *  # for testing DFA actions\n",
        "from jove.Def_RE2NFA import *\n",
        "#~~~~~~~~~~~~~~~~~~~~~~~~~~~~~~~~~~~~~~~~~~~~~~~~~~~~~~~"
      ],
      "execution_count": 1,
      "outputs": [
        {
          "output_type": "stream",
          "text": [
            "Cloning into 'Jove'...\n",
            "remote: Enumerating objects: 4634, done.\u001b[K\n",
            "remote: Total 4634 (delta 0), reused 0 (delta 0), pack-reused 4634\u001b[K\n",
            "Receiving objects: 100% (4634/4634), 7.38 MiB | 23.31 MiB/s, done.\n",
            "Resolving deltas: 100% (3005/3005), done.\n",
            "You may use any of these help commands:\n",
            "help(ResetStNum)\n",
            "help(NxtStateStr)\n",
            "\n",
            "You may use any of these help commands:\n",
            "help(md2mc)\n",
            ".. and if you want to dig more, then ..\n",
            "help(default_line_attr)\n",
            "help(length_ok_input_items)\n",
            "help(union_line_attr_list_fld)\n",
            "help(extend_rsltdict)\n",
            "help(form_delta)\n",
            "help(get_machine_components)\n",
            "\n",
            "You may use any of these help commands:\n",
            "help(mkp_dfa)\n",
            "help(mk_dfa)\n",
            "help(totalize_dfa)\n",
            "help(addtosigma_delta)\n",
            "help(step_dfa)\n",
            "help(run_dfa)\n",
            "help(accepts_dfa)\n",
            "help(comp_dfa)\n",
            "help(union_dfa)\n",
            "help(intersect_dfa)\n",
            "help(pruneUnreach)\n",
            "help(iso_dfa)\n",
            "help(langeq_dfa)\n",
            "help(same_status)\n",
            "help(h_langeq_dfa)\n",
            "help(fixptDist)\n",
            "help(min_dfa)\n",
            "help(pairFR)\n",
            "help(state_combos)\n",
            "help(sepFinNonFin)\n",
            "help(bash_eql_classes)\n",
            "help(listminus)\n",
            "help(bash_1)\n",
            "help(mk_rep_eqc)\n",
            "help(F_of)\n",
            "help(rep_of_s)\n",
            "help(q0_of)\n",
            "help(Delta_of)\n",
            "help(mk_state_eqc_name)\n",
            "\n",
            "You may use any of these help commands:\n",
            "help(mk_nfa)\n",
            "help(totalize_nfa)\n",
            "help(step_nfa)\n",
            "help(run_nfa)\n",
            "help(ec_step_nfa)\n",
            "help(Eclosure)\n",
            "help(Echelp)\n",
            "help(accepts_nfa)\n",
            "help(nfa2dfa)\n",
            "help(n2d)\n",
            "help(inSets)\n",
            "help(rev_dfa)\n",
            "help(min_dfa_brz)\n",
            "\n",
            "You may use any of these help commands:\n",
            "help(lphi)\n",
            "help(lunit)\n",
            "help(lcat)\n",
            "help(lexp)\n",
            "help(lunion)\n",
            "help(lstar)\n",
            "help(srev)\n",
            "help(lrev)\n",
            "help(shomo)\n",
            "help(lhomo)\n",
            "help(powset)\n",
            "help(lint)\n",
            "help(lsymdiff)\n",
            "help(lminus)\n",
            "help(lissubset)\n",
            "help(lissuperset)\n",
            "help(lcomplem)\n",
            "help(product)\n",
            "help(nthnumeric)\n",
            "\n",
            "You may use any of these help commands:\n",
            "help(re2nfa)\n",
            "\n"
          ],
          "name": "stdout"
        }
      ]
    },
    {
      "cell_type": "markdown",
      "metadata": {
        "id": "OwvkmXMCaet_"
      },
      "source": [
        "# Mod-3 DFA \n",
        "\n",
        "Does it matter whether MSB-first or LSB-first?\n",
        "\n"
      ]
    },
    {
      "cell_type": "code",
      "metadata": {
        "run_control": {
          "frozen": false,
          "read_only": false
        },
        "id": "mHaq3aJHaeuA",
        "outputId": "1a864895-8375-4d4f-e63f-68b988520f1a",
        "colab": {
          "base_uri": "https://localhost:8080/",
          "height": 154
        }
      },
      "source": [
        "DFA3 = md2mc('''DFA\n",
        "\n",
        "IF : 0 -> IF\n",
        "IF : 1 -> S1 \n",
        "\n",
        "S1 : 0 -> S2\n",
        "S1 : 1 -> IF\n",
        "\n",
        "S2 : 0 -> S1\n",
        "S2 : 1 -> S2\n",
        "\n",
        "\n",
        "''')\n",
        "\n",
        "dotObj_dfa(DFA3)"
      ],
      "execution_count": 2,
      "outputs": [
        {
          "output_type": "stream",
          "text": [
            "Generating LALR tables\n"
          ],
          "name": "stderr"
        },
        {
          "output_type": "execute_result",
          "data": {
            "text/plain": [
              "<graphviz.dot.Digraph at 0x7f3ced3ffdd8>"
            ],
            "image/svg+xml": "<?xml version=\"1.0\" encoding=\"UTF-8\" standalone=\"no\"?>\n<!DOCTYPE svg PUBLIC \"-//W3C//DTD SVG 1.1//EN\"\n \"http://www.w3.org/Graphics/SVG/1.1/DTD/svg11.dtd\">\n<!-- Generated by graphviz version 2.40.1 (20161225.0304)\n -->\n<!-- Title: %3 Pages: 1 -->\n<svg width=\"324pt\" height=\"87pt\"\n viewBox=\"0.00 0.00 323.89 86.70\" xmlns=\"http://www.w3.org/2000/svg\" xmlns:xlink=\"http://www.w3.org/1999/xlink\">\n<g id=\"graph0\" class=\"graph\" transform=\"scale(1 1) rotate(0) translate(4 82.6967)\">\n<title>%3</title>\n<polygon fill=\"#ffffff\" stroke=\"transparent\" points=\"-4,4 -4,-82.6967 319.8893,-82.6967 319.8893,4 -4,4\"/>\n<!-- EMPTY -->\n<g id=\"node1\" class=\"node\">\n<title>EMPTY</title>\n</g>\n<!-- IF -->\n<g id=\"node4\" class=\"node\">\n<title>IF</title>\n<ellipse fill=\"none\" stroke=\"#000000\" cx=\"113.8483\" cy=\"-22.8483\" rx=\"18.724\" ry=\"18.724\"/>\n<ellipse fill=\"none\" stroke=\"#000000\" cx=\"113.8483\" cy=\"-22.8483\" rx=\"22.6977\" ry=\"22.6977\"/>\n<text text-anchor=\"middle\" x=\"113.8483\" y=\"-19.1483\" font-family=\"Times,serif\" font-size=\"14.00\" fill=\"#000000\">IF</text>\n</g>\n<!-- EMPTY&#45;&gt;IF -->\n<g id=\"edge1\" class=\"edge\">\n<title>EMPTY&#45;&gt;IF</title>\n<path fill=\"none\" stroke=\"#000000\" d=\"M54.0033,-22.8483C62.5212,-22.8483 72.0276,-22.8483 80.9112,-22.8483\"/>\n<polygon fill=\"#000000\" stroke=\"#000000\" points=\"80.9572,-26.3484 90.9572,-22.8483 80.9572,-19.3484 80.9572,-26.3484\"/>\n</g>\n<!-- S1 -->\n<g id=\"node2\" class=\"node\">\n<title>S1</title>\n<ellipse fill=\"none\" stroke=\"#000000\" cx=\"205.4948\" cy=\"-22.8483\" rx=\"20.5982\" ry=\"20.5982\"/>\n<text text-anchor=\"middle\" x=\"205.4948\" y=\"-19.1483\" font-family=\"Times,serif\" font-size=\"14.00\" fill=\"#000000\">S1</text>\n</g>\n<!-- S2 -->\n<g id=\"node3\" class=\"node\">\n<title>S2</title>\n<ellipse fill=\"none\" stroke=\"#000000\" cx=\"295.0911\" cy=\"-22.8483\" rx=\"20.5982\" ry=\"20.5982\"/>\n<text text-anchor=\"middle\" x=\"295.0911\" y=\"-19.1483\" font-family=\"Times,serif\" font-size=\"14.00\" fill=\"#000000\">S2</text>\n</g>\n<!-- S1&#45;&gt;S2 -->\n<g id=\"edge4\" class=\"edge\">\n<title>S1&#45;&gt;S2</title>\n<path fill=\"none\" stroke=\"#000000\" d=\"M226.7279,-22.8483C237.7744,-22.8483 251.4933,-22.8483 263.736,-22.8483\"/>\n<polygon fill=\"#000000\" stroke=\"#000000\" points=\"264.0105,-26.3484 274.0105,-22.8483 264.0104,-19.3484 264.0105,-26.3484\"/>\n<text text-anchor=\"middle\" x=\"250.293\" y=\"-26.6483\" font-family=\"Times,serif\" font-size=\"14.00\" fill=\"#000000\">0 </text>\n</g>\n<!-- S1&#45;&gt;IF -->\n<g id=\"edge5\" class=\"edge\">\n<title>S1&#45;&gt;IF</title>\n<path fill=\"none\" stroke=\"#000000\" d=\"M187.5833,-11.9656C181.221,-8.6807 173.8571,-5.5075 166.6967,-3.8483 158.6824,-1.9913 150.2101,-3.4224 142.4523,-6.1758\"/>\n<polygon fill=\"#000000\" stroke=\"#000000\" points=\"140.8848,-3.0404 133.0961,-10.2227 143.6638,-9.4651 140.8848,-3.0404\"/>\n<text text-anchor=\"middle\" x=\"160.6967\" y=\"-7.6483\" font-family=\"Times,serif\" font-size=\"14.00\" fill=\"#000000\">1 </text>\n</g>\n<!-- S2&#45;&gt;S1 -->\n<g id=\"edge6\" class=\"edge\">\n<title>S2&#45;&gt;S1</title>\n<path fill=\"none\" stroke=\"#000000\" d=\"M277.1796,-11.9656C270.8173,-8.6807 263.4534,-5.5075 256.293,-3.8483 248.2954,-1.9952 239.8532,-3.6082 232.1969,-6.5413\"/>\n<polygon fill=\"#000000\" stroke=\"#000000\" points=\"230.6112,-3.4186 223.0119,-10.801 233.5563,-9.7689 230.6112,-3.4186\"/>\n<text text-anchor=\"middle\" x=\"250.293\" y=\"-7.6483\" font-family=\"Times,serif\" font-size=\"14.00\" fill=\"#000000\">0 </text>\n</g>\n<!-- S2&#45;&gt;S2 -->\n<g id=\"edge7\" class=\"edge\">\n<title>S2&#45;&gt;S2</title>\n<path fill=\"none\" stroke=\"#000000\" d=\"M287.1312,-42.412C285.9065,-52.5279 288.5599,-61.6465 295.0911,-61.6465 299.2752,-61.6465 301.8678,-57.9042 302.8689,-52.5549\"/>\n<polygon fill=\"#000000\" stroke=\"#000000\" points=\"306.3708,-52.4733 303.0511,-42.412 299.3719,-52.3475 306.3708,-52.4733\"/>\n<text text-anchor=\"middle\" x=\"295.0911\" y=\"-65.4465\" font-family=\"Times,serif\" font-size=\"14.00\" fill=\"#000000\">1 </text>\n</g>\n<!-- IF&#45;&gt;S1 -->\n<g id=\"edge3\" class=\"edge\">\n<title>IF&#45;&gt;S1</title>\n<path fill=\"none\" stroke=\"#000000\" d=\"M136.9746,-22.8483C148.2941,-22.8483 162.0857,-22.8483 174.3202,-22.8483\"/>\n<polygon fill=\"#000000\" stroke=\"#000000\" points=\"174.5698,-26.3484 184.5698,-22.8483 174.5697,-19.3484 174.5698,-26.3484\"/>\n<text text-anchor=\"middle\" x=\"160.6967\" y=\"-26.6483\" font-family=\"Times,serif\" font-size=\"14.00\" fill=\"#000000\">1 </text>\n</g>\n<!-- IF&#45;&gt;IF -->\n<g id=\"edge2\" class=\"edge\">\n<title>IF&#45;&gt;IF</title>\n<path fill=\"none\" stroke=\"#000000\" d=\"M106.4966,-44.7016C105.6946,-54.8392 108.1452,-63.6967 113.8483,-63.6967 117.5019,-63.6967 119.8206,-60.0616 120.8045,-54.7835\"/>\n<polygon fill=\"#000000\" stroke=\"#000000\" points=\"124.3052,-54.8311 121.2,-44.7016 117.3106,-54.5566 124.3052,-54.8311\"/>\n<text text-anchor=\"middle\" x=\"113.8483\" y=\"-67.4967\" font-family=\"Times,serif\" font-size=\"14.00\" fill=\"#000000\">0 </text>\n</g>\n</g>\n</svg>\n"
          },
          "metadata": {
            "tags": []
          },
          "execution_count": 2
        }
      ]
    },
    {
      "cell_type": "markdown",
      "metadata": {
        "run_control": {
          "frozen": false,
          "read_only": false
        },
        "id": "BhAfDIM_aeuA"
      },
      "source": [
        "# DFA for \"contains 100\""
      ]
    },
    {
      "cell_type": "code",
      "metadata": {
        "run_control": {
          "frozen": false,
          "read_only": false
        },
        "id": "pvNVarcxaeuA"
      },
      "source": [
        "DFA100 = md2mc(''' DFA\n",
        "\n",
        "I : 0 -> I\n",
        "I : 1 -> S1\n",
        "\n",
        "S1  : 0 -> S10\n",
        "S1  : 1 -> S1\n",
        "\n",
        "S10 : 0 -> F\n",
        "S10 : 1 -> S1\n",
        "\n",
        "\n",
        "F   : 0|1 -> F\n",
        "\n",
        "''')"
      ],
      "execution_count": 3,
      "outputs": []
    },
    {
      "cell_type": "code",
      "metadata": {
        "id": "tjH3JRmEaeuB",
        "outputId": "ac84bd14-d5a5-4d2e-d23b-353d7a5a0a06",
        "colab": {
          "base_uri": "https://localhost:8080/",
          "height": 184
        }
      },
      "source": [
        "dotObj_dfa(DFA100)"
      ],
      "execution_count": 4,
      "outputs": [
        {
          "output_type": "execute_result",
          "data": {
            "text/plain": [
              "<graphviz.dot.Digraph at 0x7f3ced42d0f0>"
            ],
            "image/svg+xml": "<?xml version=\"1.0\" encoding=\"UTF-8\" standalone=\"no\"?>\n<!DOCTYPE svg PUBLIC \"-//W3C//DTD SVG 1.1//EN\"\n \"http://www.w3.org/Graphics/SVG/1.1/DTD/svg11.dtd\">\n<!-- Generated by graphviz version 2.40.1 (20161225.0304)\n -->\n<!-- Title: %3 Pages: 1 -->\n<svg width=\"417pt\" height=\"122pt\"\n viewBox=\"0.00 0.00 416.59 122.00\" xmlns=\"http://www.w3.org/2000/svg\" xmlns:xlink=\"http://www.w3.org/1999/xlink\">\n<g id=\"graph0\" class=\"graph\" transform=\"scale(1 1) rotate(0) translate(4 117.9977)\">\n<title>%3</title>\n<polygon fill=\"#ffffff\" stroke=\"transparent\" points=\"-4,4 -4,-117.9977 412.5917,-117.9977 412.5917,4 -4,4\"/>\n<!-- EMPTY -->\n<g id=\"node1\" class=\"node\">\n<title>EMPTY</title>\n</g>\n<!-- I -->\n<g id=\"node3\" class=\"node\">\n<title>I</title>\n<ellipse fill=\"none\" stroke=\"#000000\" cx=\"109\" cy=\"-25.9977\" rx=\"18\" ry=\"18\"/>\n<text text-anchor=\"middle\" x=\"109\" y=\"-22.2977\" font-family=\"Times,serif\" font-size=\"14.00\" fill=\"#000000\">I</text>\n</g>\n<!-- EMPTY&#45;&gt;I -->\n<g id=\"edge1\" class=\"edge\">\n<title>EMPTY&#45;&gt;I</title>\n<path fill=\"none\" stroke=\"#000000\" d=\"M54.3048,-25.9977C62.6909,-25.9977 71.9407,-25.9977 80.4103,-25.9977\"/>\n<polygon fill=\"#000000\" stroke=\"#000000\" points=\"80.5976,-29.4978 90.5976,-25.9977 80.5976,-22.4978 80.5976,-29.4978\"/>\n</g>\n<!-- S1 -->\n<g id=\"node2\" class=\"node\">\n<title>S1</title>\n<ellipse fill=\"none\" stroke=\"#000000\" cx=\"195.7982\" cy=\"-25.9977\" rx=\"20.5982\" ry=\"20.5982\"/>\n<text text-anchor=\"middle\" x=\"195.7982\" y=\"-22.2977\" font-family=\"Times,serif\" font-size=\"14.00\" fill=\"#000000\">S1</text>\n</g>\n<!-- S1&#45;&gt;S1 -->\n<g id=\"edge5\" class=\"edge\">\n<title>S1&#45;&gt;S1</title>\n<path fill=\"none\" stroke=\"#000000\" d=\"M187.8382,-45.5614C186.6136,-55.6773 189.2669,-64.7958 195.7982,-64.7958 199.9822,-64.7958 202.5748,-61.0536 203.5759,-55.7042\"/>\n<polygon fill=\"#000000\" stroke=\"#000000\" points=\"207.0778,-55.6226 203.7581,-45.5614 200.079,-55.4968 207.0778,-55.6226\"/>\n<text text-anchor=\"middle\" x=\"195.7982\" y=\"-68.5958\" font-family=\"Times,serif\" font-size=\"14.00\" fill=\"#000000\">1 </text>\n</g>\n<!-- S10 -->\n<g id=\"node4\" class=\"node\">\n<title>S10</title>\n<ellipse fill=\"none\" stroke=\"#000000\" cx=\"290.594\" cy=\"-25.9977\" rx=\"25.9954\" ry=\"25.9954\"/>\n<text text-anchor=\"middle\" x=\"290.594\" y=\"-22.2977\" font-family=\"Times,serif\" font-size=\"14.00\" fill=\"#000000\">S10</text>\n</g>\n<!-- S1&#45;&gt;S10 -->\n<g id=\"edge4\" class=\"edge\">\n<title>S1&#45;&gt;S10</title>\n<path fill=\"none\" stroke=\"#000000\" d=\"M216.8364,-25.9977C227.8309,-25.9977 241.5999,-25.9977 254.2549,-25.9977\"/>\n<polygon fill=\"#000000\" stroke=\"#000000\" points=\"254.5378,-29.4978 264.5378,-25.9977 254.5378,-22.4978 254.5378,-29.4978\"/>\n<text text-anchor=\"middle\" x=\"240.5963\" y=\"-29.7977\" font-family=\"Times,serif\" font-size=\"14.00\" fill=\"#000000\">0 </text>\n</g>\n<!-- I&#45;&gt;S1 -->\n<g id=\"edge3\" class=\"edge\">\n<title>I&#45;&gt;S1</title>\n<path fill=\"none\" stroke=\"#000000\" d=\"M127.4077,-25.9977C138.2934,-25.9977 152.3613,-25.9977 164.9052,-25.9977\"/>\n<polygon fill=\"#000000\" stroke=\"#000000\" points=\"164.9803,-29.4978 174.9802,-25.9977 164.9802,-22.4978 164.9803,-29.4978\"/>\n<text text-anchor=\"middle\" x=\"151\" y=\"-29.7977\" font-family=\"Times,serif\" font-size=\"14.00\" fill=\"#000000\">1 </text>\n</g>\n<!-- I&#45;&gt;I -->\n<g id=\"edge2\" class=\"edge\">\n<title>I&#45;&gt;I</title>\n<path fill=\"none\" stroke=\"#000000\" d=\"M102.6208,-43.035C101.3189,-52.8556 103.4453,-61.9977 109,-61.9977 112.4717,-61.9977 114.6042,-58.4266 115.3975,-53.3506\"/>\n<polygon fill=\"#000000\" stroke=\"#000000\" points=\"118.8971,-53.0287 115.3792,-43.035 111.8971,-53.0412 118.8971,-53.0287\"/>\n<text text-anchor=\"middle\" x=\"109\" y=\"-65.7977\" font-family=\"Times,serif\" font-size=\"14.00\" fill=\"#000000\">0 </text>\n</g>\n<!-- S10&#45;&gt;S1 -->\n<g id=\"edge7\" class=\"edge\">\n<title>S10&#45;&gt;S1</title>\n<path fill=\"none\" stroke=\"#000000\" d=\"M268.275,-12.3841C258.1326,-7.7741 245.8977,-4.379 234.5963,-6.9977 230.6805,-7.905 226.7038,-9.2652 222.8633,-10.8488\"/>\n<polygon fill=\"#000000\" stroke=\"#000000\" points=\"221.2951,-7.7182 213.7097,-15.115 224.2522,-14.0629 221.2951,-7.7182\"/>\n<text text-anchor=\"middle\" x=\"240.5963\" y=\"-10.7977\" font-family=\"Times,serif\" font-size=\"14.00\" fill=\"#000000\">1 </text>\n</g>\n<!-- F -->\n<g id=\"node5\" class=\"node\">\n<title>F</title>\n<ellipse fill=\"none\" stroke=\"#000000\" cx=\"386.5917\" cy=\"-25.9977\" rx=\"18\" ry=\"18\"/>\n<ellipse fill=\"none\" stroke=\"#000000\" cx=\"386.5917\" cy=\"-25.9977\" rx=\"22\" ry=\"22\"/>\n<text text-anchor=\"middle\" x=\"386.5917\" y=\"-22.2977\" font-family=\"Times,serif\" font-size=\"14.00\" fill=\"#000000\">F</text>\n</g>\n<!-- S10&#45;&gt;F -->\n<g id=\"edge6\" class=\"edge\">\n<title>S10&#45;&gt;F</title>\n<path fill=\"none\" stroke=\"#000000\" d=\"M316.8258,-25.9977C328.3328,-25.9977 341.9573,-25.9977 354.0988,-25.9977\"/>\n<polygon fill=\"#000000\" stroke=\"#000000\" points=\"354.2964,-29.4978 364.2964,-25.9977 354.2964,-22.4978 354.2964,-29.4978\"/>\n<text text-anchor=\"middle\" x=\"340.5917\" y=\"-29.7977\" font-family=\"Times,serif\" font-size=\"14.00\" fill=\"#000000\">0 </text>\n</g>\n<!-- F&#45;&gt;F -->\n<g id=\"edge8\" class=\"edge\">\n<title>F&#45;&gt;F</title>\n<path fill=\"none\" stroke=\"#000000\" d=\"M382.3466,-47.8043C381.9423,-57.5602 383.3573,-65.9977 386.5917,-65.9977 388.6132,-65.9977 389.924,-62.7018 390.5241,-57.8481\"/>\n<polygon fill=\"#000000\" stroke=\"#000000\" points=\"394.0238,-57.9084 390.8368,-47.8043 387.0272,-57.6905 394.0238,-57.9084\"/>\n<text text-anchor=\"middle\" x=\"386.5917\" y=\"-69.7977\" font-family=\"Times,serif\" font-size=\"14.00\" fill=\"#000000\">0 </text>\n</g>\n<!-- F&#45;&gt;F -->\n<g id=\"edge9\" class=\"edge\">\n<title>F&#45;&gt;F</title>\n<path fill=\"none\" stroke=\"#000000\" d=\"M379.3902,-46.8107C376.1052,-64.8815 378.5058,-83.9977 386.5917,-83.9977 393.1615,-83.9977 395.9781,-71.378 395.0414,-56.9529\"/>\n<polygon fill=\"#000000\" stroke=\"#000000\" points=\"398.4885,-56.3083 393.7932,-46.8107 391.5409,-57.1633 398.4885,-56.3083\"/>\n<text text-anchor=\"middle\" x=\"386.5917\" y=\"-87.7977\" font-family=\"Times,serif\" font-size=\"14.00\" fill=\"#000000\">1 </text>\n</g>\n</g>\n</svg>\n"
          },
          "metadata": {
            "tags": []
          },
          "execution_count": 4
        }
      ]
    },
    {
      "cell_type": "code",
      "metadata": {
        "id": "oYWCMpfWaeuB",
        "outputId": "2c7a4879-0e4a-4086-8c1e-f8653cdab8fa",
        "colab": {
          "base_uri": "https://localhost:8080/"
        }
      },
      "source": [
        "help(intersect_dfa)"
      ],
      "execution_count": 5,
      "outputs": [
        {
          "output_type": "stream",
          "text": [
            "Help on function intersect_dfa in module jove.Def_DFA:\n",
            "\n",
            "intersect_dfa(D1in, D2in)\n",
            "    In : D1in (consistent DFA)\n",
            "         D2in (consistent DFA)\n",
            "    Out: DFA for language intersection of D1in, D2in (consistent DFA).\n",
            "\n"
          ],
          "name": "stdout"
        }
      ]
    },
    {
      "cell_type": "code",
      "metadata": {
        "id": "NQc_7INcaeuB"
      },
      "source": [
        "DFA3_100 = intersect_dfa(DFA3, DFA100)"
      ],
      "execution_count": 6,
      "outputs": []
    },
    {
      "cell_type": "code",
      "metadata": {
        "id": "cy-By8tQaeuB",
        "outputId": "2e36136d-01ed-4835-b399-c9f36a968850",
        "colab": {
          "base_uri": "https://localhost:8080/",
          "height": 528
        }
      },
      "source": [
        "min_DFA3_100 = min_dfa(DFA3_100)\n",
        "dotObj_dfa(min_DFA3_100)"
      ],
      "execution_count": 7,
      "outputs": [
        {
          "output_type": "execute_result",
          "data": {
            "text/plain": [
              "<graphviz.dot.Digraph at 0x7f3ced3d0400>"
            ],
            "image/svg+xml": "<?xml version=\"1.0\" encoding=\"UTF-8\" standalone=\"no\"?>\n<!DOCTYPE svg PUBLIC \"-//W3C//DTD SVG 1.1//EN\"\n \"http://www.w3.org/Graphics/SVG/1.1/DTD/svg11.dtd\">\n<!-- Generated by graphviz version 2.40.1 (20161225.0304)\n -->\n<!-- Title: %3 Pages: 1 -->\n<svg width=\"1105pt\" height=\"380pt\"\n viewBox=\"0.00 0.00 1104.64 380.05\" xmlns=\"http://www.w3.org/2000/svg\" xmlns:xlink=\"http://www.w3.org/1999/xlink\">\n<g id=\"graph0\" class=\"graph\" transform=\"scale(1 1) rotate(0) translate(4 376.0467)\">\n<title>%3</title>\n<polygon fill=\"#ffffff\" stroke=\"transparent\" points=\"-4,4 -4,-376.0467 1100.6413,-376.0467 1100.6413,4 -4,4\"/>\n<!-- EMPTY -->\n<g id=\"node1\" class=\"node\">\n<title>EMPTY</title>\n</g>\n<!-- \\(IF_I\\) -->\n<g id=\"node2\" class=\"node\">\n<title>\\(IF_I\\)</title>\n<ellipse fill=\"none\" stroke=\"#000000\" cx=\"123.4971\" cy=\"-71\" rx=\"32.4942\" ry=\"32.4942\"/>\n<text text-anchor=\"middle\" x=\"123.4971\" y=\"-67.3\" font-family=\"Times,serif\" font-size=\"14.00\" fill=\"#000000\">(IF_I)</text>\n</g>\n<!-- EMPTY&#45;&gt;\\(IF_I\\) -->\n<g id=\"edge1\" class=\"edge\">\n<title>EMPTY&#45;&gt;\\(IF_I\\)</title>\n<path fill=\"none\" stroke=\"#000000\" d=\"M54.1366,-71C62.3991,-71 71.6905,-71 80.7226,-71\"/>\n<polygon fill=\"#000000\" stroke=\"#000000\" points=\"80.7414,-74.5001 90.7413,-71 80.7413,-67.5001 80.7414,-74.5001\"/>\n</g>\n<!-- \\(IF_I\\)&#45;&gt;\\(IF_I\\) -->\n<g id=\"edge20\" class=\"edge\">\n<title>\\(IF_I\\)&#45;&gt;\\(IF_I\\)</title>\n<path fill=\"none\" stroke=\"#000000\" d=\"M114.1221,-102.5607C114.1221,-113.0809 117.2471,-121.4971 123.4971,-121.4971 127.501,-121.4971 130.2224,-118.0431 131.6613,-112.7946\"/>\n<polygon fill=\"#000000\" stroke=\"#000000\" points=\"135.1729,-112.9027 132.8721,-102.5607 128.2214,-112.0802 135.1729,-112.9027\"/>\n<text text-anchor=\"middle\" x=\"123.4971\" y=\"-125.2971\" font-family=\"Times,serif\" font-size=\"14.00\" fill=\"#000000\">0 </text>\n</g>\n<!-- \\(S1_S1\\) -->\n<g id=\"node4\" class=\"node\">\n<title>\\(S1_S1\\)</title>\n<ellipse fill=\"none\" stroke=\"#000000\" cx=\"246.2405\" cy=\"-71\" rx=\"42.4939\" ry=\"42.4939\"/>\n<text text-anchor=\"middle\" x=\"246.2405\" y=\"-67.3\" font-family=\"Times,serif\" font-size=\"14.00\" fill=\"#000000\">(S1_S1)</text>\n</g>\n<!-- \\(IF_I\\)&#45;&gt;\\(S1_S1\\) -->\n<g id=\"edge15\" class=\"edge\">\n<title>\\(IF_I\\)&#45;&gt;\\(S1_S1\\)</title>\n<path fill=\"none\" stroke=\"#000000\" d=\"M156.0678,-71C167.6123,-71 180.9151,-71 193.6962,-71\"/>\n<polygon fill=\"#000000\" stroke=\"#000000\" points=\"193.7911,-74.5001 203.791,-71 193.791,-67.5001 193.7911,-74.5001\"/>\n<text text-anchor=\"middle\" x=\"179.9942\" y=\"-74.8\" font-family=\"Times,serif\" font-size=\"14.00\" fill=\"#000000\">1 </text>\n</g>\n<!-- \\(S2_F\\) -->\n<g id=\"node3\" class=\"node\">\n<title>\\(S2_F\\)</title>\n<ellipse fill=\"none\" stroke=\"#000000\" cx=\"792.4591\" cy=\"-302\" rx=\"37.0935\" ry=\"37.0935\"/>\n<text text-anchor=\"middle\" x=\"792.4591\" y=\"-298.3\" font-family=\"Times,serif\" font-size=\"14.00\" fill=\"#000000\">(S2_F)</text>\n</g>\n<!-- \\(S2_F\\)&#45;&gt;\\(S2_F\\) -->\n<g id=\"edge11\" class=\"edge\">\n<title>\\(S2_F\\)&#45;&gt;\\(S2_F\\)</title>\n<path fill=\"none\" stroke=\"#000000\" d=\"M780.4656,-337.2067C780.6488,-348.2973 784.6466,-357.0467 792.4591,-357.0467 797.7081,-357.0467 801.2351,-353.0971 803.0401,-347.1414\"/>\n<polygon fill=\"#000000\" stroke=\"#000000\" points=\"806.51,-347.5998 804.4525,-337.2067 799.5797,-346.6145 806.51,-347.5998\"/>\n<text text-anchor=\"middle\" x=\"792.4591\" y=\"-360.8467\" font-family=\"Times,serif\" font-size=\"14.00\" fill=\"#000000\">1 </text>\n</g>\n<!-- \\(S1_F\\) -->\n<g id=\"node7\" class=\"node\">\n<title>\\(S1_F\\)</title>\n<ellipse fill=\"none\" stroke=\"#000000\" cx=\"657.3668\" cy=\"-274\" rx=\"37.0935\" ry=\"37.0935\"/>\n<text text-anchor=\"middle\" x=\"657.3668\" y=\"-270.3\" font-family=\"Times,serif\" font-size=\"14.00\" fill=\"#000000\">(S1_F)</text>\n</g>\n<!-- \\(S2_F\\)&#45;&gt;\\(S1_F\\) -->\n<g id=\"edge21\" class=\"edge\">\n<title>\\(S2_F\\)&#45;&gt;\\(S1_F\\)</title>\n<path fill=\"none\" stroke=\"#000000\" d=\"M755.951,-294.8459C745.0722,-292.6826 733.1284,-290.2764 722.1626,-288 716.2431,-286.7711 710.0246,-285.4571 703.879,-284.1446\"/>\n<polygon fill=\"#000000\" stroke=\"#000000\" points=\"704.183,-280.6301 693.6711,-281.9525 702.7133,-287.4741 704.183,-280.6301\"/>\n<text text-anchor=\"middle\" x=\"728.1626\" y=\"-293.8\" font-family=\"Times,serif\" font-size=\"14.00\" fill=\"#000000\">0 </text>\n</g>\n<!-- \\(S2_S10\\) -->\n<g id=\"node6\" class=\"node\">\n<title>\\(S2_S10\\)</title>\n<ellipse fill=\"none\" stroke=\"#000000\" cx=\"383.2826\" cy=\"-172\" rx=\"46.5926\" ry=\"46.5926\"/>\n<text text-anchor=\"middle\" x=\"383.2826\" y=\"-168.3\" font-family=\"Times,serif\" font-size=\"14.00\" fill=\"#000000\">(S2_S10)</text>\n</g>\n<!-- \\(S1_S1\\)&#45;&gt;\\(S2_S10\\) -->\n<g id=\"edge3\" class=\"edge\">\n<title>\\(S1_S1\\)&#45;&gt;\\(S2_S10\\)</title>\n<path fill=\"none\" stroke=\"#000000\" d=\"M280.4685,-96.226C297.5185,-108.7919 318.3851,-124.1706 336.8539,-137.7821\"/>\n<polygon fill=\"#000000\" stroke=\"#000000\" points=\"335.0221,-140.7799 345.1485,-143.8952 339.1751,-135.1449 335.0221,-140.7799\"/>\n<text text-anchor=\"middle\" x=\"312.4867\" y=\"-125.8\" font-family=\"Times,serif\" font-size=\"14.00\" fill=\"#000000\">0 </text>\n</g>\n<!-- \\(IF_S1\\) -->\n<g id=\"node10\" class=\"node\">\n<title>\\(IF_S1\\)</title>\n<ellipse fill=\"none\" stroke=\"#000000\" cx=\"792.4591\" cy=\"-97\" rx=\"40.0939\" ry=\"40.0939\"/>\n<text text-anchor=\"middle\" x=\"792.4591\" y=\"-93.3\" font-family=\"Times,serif\" font-size=\"14.00\" fill=\"#000000\">(IF_S1)</text>\n</g>\n<!-- \\(S1_S1\\)&#45;&gt;\\(IF_S1\\) -->\n<g id=\"edge6\" class=\"edge\">\n<title>\\(S1_S1\\)&#45;&gt;\\(IF_S1\\)</title>\n<path fill=\"none\" stroke=\"#000000\" d=\"M286.9356,-82.8587C313.9989,-89.716 350.4693,-97 383.2826,-97 383.2826,-97 383.2826,-97 657.3668,-97 685.298,-97 716.4776,-97 741.8387,-97\"/>\n<polygon fill=\"#000000\" stroke=\"#000000\" points=\"741.9662,-100.5001 751.9661,-97 741.9661,-93.5001 741.9662,-100.5001\"/>\n<text text-anchor=\"middle\" x=\"520.3247\" y=\"-100.8\" font-family=\"Times,serif\" font-size=\"14.00\" fill=\"#000000\">1 </text>\n</g>\n<!-- \\(S1_S10\\) -->\n<g id=\"node5\" class=\"node\">\n<title>\\(S1_S10\\)</title>\n<ellipse fill=\"none\" stroke=\"#000000\" cx=\"657.3668\" cy=\"-172\" rx=\"46.5926\" ry=\"46.5926\"/>\n<text text-anchor=\"middle\" x=\"657.3668\" y=\"-168.3\" font-family=\"Times,serif\" font-size=\"14.00\" fill=\"#000000\">(S1_S10)</text>\n</g>\n<!-- \\(S1_S10\\)&#45;&gt;\\(S2_F\\) -->\n<g id=\"edge9\" class=\"edge\">\n<title>\\(S1_S10\\)&#45;&gt;\\(S2_F\\)</title>\n<path fill=\"none\" stroke=\"#000000\" d=\"M691.1078,-204.4691C711.5712,-224.1612 737.6119,-249.2203 758.1731,-269.0065\"/>\n<polygon fill=\"#000000\" stroke=\"#000000\" points=\"755.8475,-271.6259 765.48,-276.0379 760.7013,-266.5819 755.8475,-271.6259\"/>\n<text text-anchor=\"middle\" x=\"728.1626\" y=\"-247.8\" font-family=\"Times,serif\" font-size=\"14.00\" fill=\"#000000\">0 </text>\n</g>\n<!-- \\(S1_S10\\)&#45;&gt;\\(IF_S1\\) -->\n<g id=\"edge7\" class=\"edge\">\n<title>\\(S1_S10\\)&#45;&gt;\\(IF_S1\\)</title>\n<path fill=\"none\" stroke=\"#000000\" d=\"M698.633,-149.09C714.2003,-140.4474 731.974,-130.5799 747.8347,-121.7744\"/>\n<polygon fill=\"#000000\" stroke=\"#000000\" points=\"749.8769,-124.6439 756.921,-116.7299 746.4791,-118.5238 749.8769,-124.6439\"/>\n<text text-anchor=\"middle\" x=\"728.1626\" y=\"-138.8\" font-family=\"Times,serif\" font-size=\"14.00\" fill=\"#000000\">1 </text>\n</g>\n<!-- \\(S2_S10\\)&#45;&gt;\\(S1_F\\) -->\n<g id=\"edge8\" class=\"edge\">\n<title>\\(S2_S10\\)&#45;&gt;\\(S1_F\\)</title>\n<path fill=\"none\" stroke=\"#000000\" d=\"M413.8104,-208.1093C430.8213,-225.6616 453.5026,-245.2432 478.0784,-256 520.1217,-274.4022 572.858,-277.6242 610.2239,-277.0212\"/>\n<polygon fill=\"#000000\" stroke=\"#000000\" points=\"610.4278,-280.5172 620.3337,-276.7592 610.2464,-273.5196 610.4278,-280.5172\"/>\n<text text-anchor=\"middle\" x=\"520.3247\" y=\"-278.8\" font-family=\"Times,serif\" font-size=\"14.00\" fill=\"#000000\">0 </text>\n</g>\n<!-- \\(S2_S1\\) -->\n<g id=\"node8\" class=\"node\">\n<title>\\(S2_S1\\)</title>\n<ellipse fill=\"none\" stroke=\"#000000\" cx=\"520.3247\" cy=\"-172\" rx=\"42.4939\" ry=\"42.4939\"/>\n<text text-anchor=\"middle\" x=\"520.3247\" y=\"-168.3\" font-family=\"Times,serif\" font-size=\"14.00\" fill=\"#000000\">(S2_S1)</text>\n</g>\n<!-- \\(S2_S10\\)&#45;&gt;\\(S2_S1\\) -->\n<g id=\"edge17\" class=\"edge\">\n<title>\\(S2_S10\\)&#45;&gt;\\(S2_S1\\)</title>\n<path fill=\"none\" stroke=\"#000000\" d=\"M430.4447,-172C442.4213,-172 455.3652,-172 467.5988,-172\"/>\n<polygon fill=\"#000000\" stroke=\"#000000\" points=\"467.671,-175.5001 477.671,-172 467.671,-168.5001 467.671,-175.5001\"/>\n<text text-anchor=\"middle\" x=\"454.0784\" y=\"-175.8\" font-family=\"Times,serif\" font-size=\"14.00\" fill=\"#000000\">1 </text>\n</g>\n<!-- \\(S1_F\\)&#45;&gt;\\(S2_F\\) -->\n<g id=\"edge13\" class=\"edge\">\n<title>\\(S1_F\\)&#45;&gt;\\(S2_F\\)</title>\n<path fill=\"none\" stroke=\"#000000\" d=\"M694.4802,-269.9114C707.2066,-269.4567 721.4421,-270.0108 734.1626,-273 739.8728,-274.3419 745.6633,-276.3312 751.2669,-278.6505\"/>\n<polygon fill=\"#000000\" stroke=\"#000000\" points=\"749.9196,-281.8824 760.4739,-282.809 752.8011,-275.5029 749.9196,-281.8824\"/>\n<text text-anchor=\"middle\" x=\"728.1626\" y=\"-276.8\" font-family=\"Times,serif\" font-size=\"14.00\" fill=\"#000000\">0 </text>\n</g>\n<!-- \\(IF_F\\) -->\n<g id=\"node11\" class=\"node\">\n<title>\\(IF_F\\)</title>\n<ellipse fill=\"none\" stroke=\"#000000\" cx=\"1057.5444\" cy=\"-174\" rx=\"35.1841\" ry=\"35.1841\"/>\n<ellipse fill=\"none\" stroke=\"#000000\" cx=\"1057.5444\" cy=\"-174\" rx=\"39.194\" ry=\"39.194\"/>\n<text text-anchor=\"middle\" x=\"1057.5444\" y=\"-170.3\" font-family=\"Times,serif\" font-size=\"14.00\" fill=\"#000000\">(IF_F)</text>\n</g>\n<!-- \\(S1_F\\)&#45;&gt;\\(IF_F\\) -->\n<g id=\"edge18\" class=\"edge\">\n<title>\\(S1_F\\)&#45;&gt;\\(IF_F\\)</title>\n<path fill=\"none\" stroke=\"#000000\" d=\"M693.7193,-266.6004C752.279,-254.4914 871.0008,-229.1604 970.4475,-203 983.7121,-199.5106 997.9016,-195.0898 1010.895,-190.7583\"/>\n<polygon fill=\"#000000\" stroke=\"#000000\" points=\"1012.2164,-194.006 1020.5629,-187.4802 1009.9685,-187.3767 1012.2164,-194.006\"/>\n<text text-anchor=\"middle\" x=\"856.7555\" y=\"-235.8\" font-family=\"Times,serif\" font-size=\"14.00\" fill=\"#000000\">1 </text>\n</g>\n<!-- \\(S2_S1\\)&#45;&gt;\\(S1_S10\\) -->\n<g id=\"edge4\" class=\"edge\">\n<title>\\(S2_S1\\)&#45;&gt;\\(S1_S10\\)</title>\n<path fill=\"none\" stroke=\"#000000\" d=\"M562.9344,-172C574.7203,-172 587.7056,-172 600.1759,-172\"/>\n<polygon fill=\"#000000\" stroke=\"#000000\" points=\"600.4922,-175.5001 610.4922,-172 600.4922,-168.5001 600.4922,-175.5001\"/>\n<text text-anchor=\"middle\" x=\"586.5709\" y=\"-175.8\" font-family=\"Times,serif\" font-size=\"14.00\" fill=\"#000000\">0 </text>\n</g>\n<!-- \\(S2_S1\\)&#45;&gt;\\(S2_S1\\) -->\n<g id=\"edge5\" class=\"edge\">\n<title>\\(S2_S1\\)&#45;&gt;\\(S2_S1\\)</title>\n<path fill=\"none\" stroke=\"#000000\" d=\"M508.0252,-212.5461C508.6194,-223.7128 512.7192,-232.2463 520.3247,-232.2463 525.4346,-232.2463 528.962,-228.3941 530.9069,-222.4793\"/>\n<polygon fill=\"#000000\" stroke=\"#000000\" points=\"534.3694,-222.9962 532.6242,-212.5461 527.4717,-221.8037 534.3694,-222.9962\"/>\n<text text-anchor=\"middle\" x=\"520.3247\" y=\"-236.0463\" font-family=\"Times,serif\" font-size=\"14.00\" fill=\"#000000\">1 </text>\n</g>\n<!-- \\(IF_S10\\) -->\n<g id=\"node9\" class=\"node\">\n<title>\\(IF_S10\\)</title>\n<ellipse fill=\"none\" stroke=\"#000000\" cx=\"925.6015\" cy=\"-97\" rx=\"44.6926\" ry=\"44.6926\"/>\n<text text-anchor=\"middle\" x=\"925.6015\" y=\"-93.3\" font-family=\"Times,serif\" font-size=\"14.00\" fill=\"#000000\">(IF_S10)</text>\n</g>\n<!-- \\(IF_S10\\)&#45;&gt;\\(S1_S1\\) -->\n<g id=\"edge14\" class=\"edge\">\n<title>\\(IF_S10\\)&#45;&gt;\\(S1_S1\\)</title>\n<path fill=\"none\" stroke=\"#000000\" d=\"M898.3321,-61.1564C873.9506,-33.5247 835.5004,0 792.4591,0 383.2826,0 383.2826,0 383.2826,0 347.7398,0 312.2375,-19.0615 286.276,-37.4313\"/>\n<polygon fill=\"#000000\" stroke=\"#000000\" points=\"284.1968,-34.6158 278.1943,-43.3462 288.331,-40.2646 284.1968,-34.6158\"/>\n<text text-anchor=\"middle\" x=\"586.5709\" y=\"-3.8\" font-family=\"Times,serif\" font-size=\"14.00\" fill=\"#000000\">1 </text>\n</g>\n<!-- \\(IF_S10\\)&#45;&gt;\\(IF_F\\) -->\n<g id=\"edge10\" class=\"edge\">\n<title>\\(IF_S10\\)&#45;&gt;\\(IF_F\\)</title>\n<path fill=\"none\" stroke=\"#000000\" d=\"M964.4751,-119.6861C980.253,-128.8939 998.5339,-139.5623 1014.6953,-148.9939\"/>\n<polygon fill=\"#000000\" stroke=\"#000000\" points=\"1013.0254,-152.0717 1023.4264,-154.0892 1016.5537,-146.026 1013.0254,-152.0717\"/>\n<text text-anchor=\"middle\" x=\"994.4475\" y=\"-144.8\" font-family=\"Times,serif\" font-size=\"14.00\" fill=\"#000000\">0 </text>\n</g>\n<!-- \\(IF_S1\\)&#45;&gt;\\(S1_S1\\) -->\n<g id=\"edge12\" class=\"edge\">\n<title>\\(IF_S1\\)&#45;&gt;\\(S1_S1\\)</title>\n<path fill=\"none\" stroke=\"#000000\" d=\"M757.964,-76.1092C731.4325,-62.0249 693.3411,-46 657.3668,-46 383.2826,-46 383.2826,-46 383.2826,-46 354.3526,-46 322.5369,-51.4585 296.8489,-57.2744\"/>\n<polygon fill=\"#000000\" stroke=\"#000000\" points=\"295.8983,-53.9024 286.9642,-59.5974 297.4997,-60.7167 295.8983,-53.9024\"/>\n<text text-anchor=\"middle\" x=\"520.3247\" y=\"-49.8\" font-family=\"Times,serif\" font-size=\"14.00\" fill=\"#000000\">1 </text>\n</g>\n<!-- \\(IF_S1\\)&#45;&gt;\\(IF_S10\\) -->\n<g id=\"edge19\" class=\"edge\">\n<title>\\(IF_S1\\)&#45;&gt;\\(IF_S10\\)</title>\n<path fill=\"none\" stroke=\"#000000\" d=\"M832.7675,-97C844.4873,-97 857.5005,-97 869.9851,-97\"/>\n<polygon fill=\"#000000\" stroke=\"#000000\" points=\"870.3078,-100.5001 880.3078,-97 870.3078,-93.5001 870.3078,-100.5001\"/>\n<text text-anchor=\"middle\" x=\"856.7555\" y=\"-100.8\" font-family=\"Times,serif\" font-size=\"14.00\" fill=\"#000000\">0 </text>\n</g>\n<!-- \\(IF_F\\)&#45;&gt;\\(S1_F\\) -->\n<g id=\"edge2\" class=\"edge\">\n<title>\\(IF_F\\)&#45;&gt;\\(S1_F\\)</title>\n<path fill=\"none\" stroke=\"#000000\" d=\"M1018.4866,-177.6863C976.7715,-181.9086 908.8118,-189.6076 850.7555,-200 806.4639,-207.9284 795.4618,-210.7614 752.1626,-223 738.6379,-226.8228 734.8608,-226.9761 722.1626,-233 713.595,-237.0644 704.7784,-242.0415 696.5147,-247.1086\"/>\n<polygon fill=\"#000000\" stroke=\"#000000\" points=\"694.3938,-244.3082 687.8028,-252.6033 698.1281,-250.229 694.3938,-244.3082\"/>\n<text text-anchor=\"middle\" x=\"856.7555\" y=\"-203.8\" font-family=\"Times,serif\" font-size=\"14.00\" fill=\"#000000\">1 </text>\n</g>\n<!-- \\(IF_F\\)&#45;&gt;\\(IF_F\\) -->\n<g id=\"edge16\" class=\"edge\">\n<title>\\(IF_F\\)&#45;&gt;\\(IF_F\\)</title>\n<path fill=\"none\" stroke=\"#000000\" d=\"M1045.9449,-211.3419C1046.2912,-222.452 1050.1577,-231.0969 1057.5444,-231.0969 1062.5074,-231.0969 1065.8812,-227.1944 1067.666,-221.2638\"/>\n<polygon fill=\"#000000\" stroke=\"#000000\" points=\"1071.1323,-221.7484 1069.1439,-211.3419 1064.2087,-220.7171 1071.1323,-221.7484\"/>\n<text text-anchor=\"middle\" x=\"1057.5444\" y=\"-234.8969\" font-family=\"Times,serif\" font-size=\"14.00\" fill=\"#000000\">0 </text>\n</g>\n</g>\n</svg>\n"
          },
          "metadata": {
            "tags": []
          },
          "execution_count": 7
        }
      ]
    },
    {
      "cell_type": "code",
      "metadata": {
        "id": "vvliKX9NaeuB",
        "outputId": "7517bbb8-66d1-4cce-955c-fe7c584c84d8",
        "colab": {
          "base_uri": "https://localhost:8080/"
        }
      },
      "source": [
        "len(DFA3_100[\"Q\"])"
      ],
      "execution_count": 8,
      "outputs": [
        {
          "output_type": "execute_result",
          "data": {
            "text/plain": [
              "10"
            ]
          },
          "metadata": {
            "tags": []
          },
          "execution_count": 8
        }
      ]
    },
    {
      "cell_type": "code",
      "metadata": {
        "id": "GuUey17WaeuC",
        "outputId": "813e8fcc-24e6-4c33-c3c5-95b8aeffd6a1",
        "colab": {
          "base_uri": "https://localhost:8080/"
        }
      },
      "source": [
        "len(min_DFA3_100[\"Q\"])"
      ],
      "execution_count": 9,
      "outputs": [
        {
          "output_type": "execute_result",
          "data": {
            "text/plain": [
              "10"
            ]
          },
          "metadata": {
            "tags": []
          },
          "execution_count": 9
        }
      ]
    },
    {
      "cell_type": "markdown",
      "metadata": {
        "id": "pklcBKJBaeuC"
      },
      "source": [
        "# Observation: even the minimal DFA can be large!"
      ]
    },
    {
      "cell_type": "markdown",
      "metadata": {
        "id": "kMHXCeM_aeuC"
      },
      "source": [
        "# Illustrate Regular Expression to generate test DFA"
      ]
    },
    {
      "cell_type": "code",
      "metadata": {
        "id": "GpzKb7nDaeuC",
        "outputId": "61db9c32-f04d-46c9-e531-5b15d4f40e36",
        "colab": {
          "base_uri": "https://localhost:8080/"
        }
      },
      "source": [
        "re2nfa('00*(0+1*)')"
      ],
      "execution_count": 10,
      "outputs": [
        {
          "output_type": "stream",
          "text": [
            "Generating LALR tables\n"
          ],
          "name": "stderr"
        },
        {
          "output_type": "execute_result",
          "data": {
            "text/plain": [
              "{'Delta': {('St1', '0'): {'St2'},\n",
              "  ('St10', ''): {'St8'},\n",
              "  ('St2', ''): {'St5'},\n",
              "  ('St3', '0'): {'St4'},\n",
              "  ('St4', ''): {'St5'},\n",
              "  ('St5', ''): {'St10', 'St3', 'St6'},\n",
              "  ('St6', '0'): {'St7'},\n",
              "  ('St8', '1'): {'St9'},\n",
              "  ('St9', ''): {'St10'}},\n",
              " 'F': {'St10', 'St7'},\n",
              " 'Q': {'St1', 'St10', 'St2', 'St3', 'St4', 'St5', 'St6', 'St7', 'St8', 'St9'},\n",
              " 'Q0': {'St1'},\n",
              " 'Sigma': {'0', '1'}}"
            ]
          },
          "metadata": {
            "tags": []
          },
          "execution_count": 10
        }
      ]
    },
    {
      "cell_type": "code",
      "metadata": {
        "id": "ajPdPnWraeuC",
        "outputId": "bbdd579e-0074-464c-9e15-bd1aab0d4204",
        "colab": {
          "base_uri": "https://localhost:8080/"
        }
      },
      "source": [
        "nd = nfa2dfa(re2nfa('00*(0+1*)'))"
      ],
      "execution_count": 11,
      "outputs": [
        {
          "output_type": "stream",
          "text": [
            "Generating LALR tables\n"
          ],
          "name": "stderr"
        }
      ]
    },
    {
      "cell_type": "code",
      "metadata": {
        "id": "YeFrfpJDaeuD"
      },
      "source": [
        "mnd = min_dfa(nd, state_name_mode='verbose')"
      ],
      "execution_count": 12,
      "outputs": []
    },
    {
      "cell_type": "code",
      "metadata": {
        "id": "M0hGU-ebaeuD",
        "outputId": "c7e0fa17-3c97-4bff-c64f-8bab980f9cd1",
        "colab": {
          "base_uri": "https://localhost:8080/"
        }
      },
      "source": [
        "help(min_dfa)"
      ],
      "execution_count": 13,
      "outputs": [
        {
          "output_type": "stream",
          "text": [
            "Help on function min_dfa in module jove.Def_DFA:\n",
            "\n",
            "min_dfa(D, state_name_mode='succinct', chatty=False)\n",
            "    The top-level callable DFA minimizer.\n",
            "    \n",
            "    In : D (consistent DFA to be minimized)\n",
            "    Out: Minimized version of D.\n",
            "    \n",
            "    Given a DFA D, go through the state minimization algorithm.\n",
            "    \n",
            "    Setting chatty=True helps reveal the detailed steps. Please try it!        \n",
            "    \n",
            "    If the state_name_mode is verbose, we will make state names\n",
            "    by stringing together the state names in the equivalence\n",
            "    classes. If 'succinct', then only the name of the equivalence-class\n",
            "    representative is retained.\n",
            "\n"
          ],
          "name": "stdout"
        }
      ]
    },
    {
      "cell_type": "code",
      "metadata": {
        "id": "6NQZFaP0aeuD",
        "outputId": "9f4997c4-6ef0-4b28-8780-faa072f98a3b",
        "colab": {
          "base_uri": "https://localhost:8080/"
        }
      },
      "source": [
        "len(nd[\"Q\"])"
      ],
      "execution_count": 14,
      "outputs": [
        {
          "output_type": "execute_result",
          "data": {
            "text/plain": [
              "5"
            ]
          },
          "metadata": {
            "tags": []
          },
          "execution_count": 14
        }
      ]
    },
    {
      "cell_type": "code",
      "metadata": {
        "id": "nWeOm8mLaeuD",
        "outputId": "ade10cd0-8d7c-4b9c-96a6-5ee5068f5875",
        "colab": {
          "base_uri": "https://localhost:8080/"
        }
      },
      "source": [
        "len(mnd[\"Q\"])"
      ],
      "execution_count": 15,
      "outputs": [
        {
          "output_type": "execute_result",
          "data": {
            "text/plain": [
              "4"
            ]
          },
          "metadata": {
            "tags": []
          },
          "execution_count": 15
        }
      ]
    },
    {
      "cell_type": "code",
      "metadata": {
        "id": "nRglur55aeuE",
        "outputId": "c8c0ab95-5873-413f-8e8e-b1d0cc6c17fc",
        "colab": {
          "base_uri": "https://localhost:8080/",
          "height": 213
        }
      },
      "source": [
        "dotObj_dfa(nd, STATENAME_MAXSIZE=40)"
      ],
      "execution_count": 16,
      "outputs": [
        {
          "output_type": "execute_result",
          "data": {
            "text/plain": [
              "<graphviz.dot.Digraph at 0x7f3ced3d0a20>"
            ],
            "image/svg+xml": "<?xml version=\"1.0\" encoding=\"UTF-8\" standalone=\"no\"?>\n<!DOCTYPE svg PUBLIC \"-//W3C//DTD SVG 1.1//EN\"\n \"http://www.w3.org/Graphics/SVG/1.1/DTD/svg11.dtd\">\n<!-- Generated by graphviz version 2.40.1 (20161225.0304)\n -->\n<!-- Title: %3 Pages: 1 -->\n<svg width=\"454pt\" height=\"144pt\"\n viewBox=\"0.00 0.00 454.18 143.80\" xmlns=\"http://www.w3.org/2000/svg\" xmlns:xlink=\"http://www.w3.org/1999/xlink\">\n<g id=\"graph0\" class=\"graph\" transform=\"scale(1 1) rotate(0) translate(4 139.7958)\">\n<title>%3</title>\n<polygon fill=\"#ffffff\" stroke=\"transparent\" points=\"-4,4 -4,-139.7958 450.1834,-139.7958 450.1834,4 -4,4\"/>\n<!-- EMPTY -->\n<g id=\"node1\" class=\"node\">\n<title>EMPTY</title>\n</g>\n<!-- St1 -->\n<g id=\"node2\" class=\"node\">\n<title>St1</title>\n<ellipse fill=\"none\" stroke=\"#000000\" cx=\"114.3979\" cy=\"-75.3979\" rx=\"23.2963\" ry=\"23.2963\"/>\n<text text-anchor=\"middle\" x=\"114.3979\" y=\"-71.6979\" font-family=\"Times,serif\" font-size=\"14.00\" fill=\"#000000\">St1</text>\n</g>\n<!-- EMPTY&#45;&gt;St1 -->\n<g id=\"edge1\" class=\"edge\">\n<title>EMPTY&#45;&gt;St1</title>\n<path fill=\"none\" stroke=\"#000000\" d=\"M54.1742,-75.3979C62.5103,-75.3979 71.7873,-75.3979 80.5137,-75.3979\"/>\n<polygon fill=\"#000000\" stroke=\"#000000\" points=\"80.7846,-78.898 90.7846,-75.3979 80.7845,-71.898 80.7846,-78.898\"/>\n</g>\n<!-- St2 -->\n<g id=\"node3\" class=\"node\">\n<title>St2</title>\n<ellipse fill=\"none\" stroke=\"#000000\" cx=\"213.1938\" cy=\"-75.3979\" rx=\"23.3111\" ry=\"23.3111\"/>\n<ellipse fill=\"none\" stroke=\"#000000\" cx=\"213.1938\" cy=\"-75.3979\" rx=\"27.2962\" ry=\"27.2962\"/>\n<text text-anchor=\"middle\" x=\"213.1938\" y=\"-71.6979\" font-family=\"Times,serif\" font-size=\"14.00\" fill=\"#000000\">St2</text>\n</g>\n<!-- St1&#45;&gt;St2 -->\n<g id=\"edge2\" class=\"edge\">\n<title>St1&#45;&gt;St2</title>\n<path fill=\"none\" stroke=\"#000000\" d=\"M137.8112,-75.3979C149.0451,-75.3979 162.7854,-75.3979 175.4437,-75.3979\"/>\n<polygon fill=\"#000000\" stroke=\"#000000\" points=\"175.7434,-78.898 185.7433,-75.3979 175.7433,-71.898 175.7434,-78.898\"/>\n<text text-anchor=\"middle\" x=\"161.7958\" y=\"-79.1979\" font-family=\"Times,serif\" font-size=\"14.00\" fill=\"#000000\">0 </text>\n</g>\n<!-- St4 -->\n<g id=\"node4\" class=\"node\">\n<title>St4</title>\n<ellipse fill=\"none\" stroke=\"#000000\" cx=\"418.7855\" cy=\"-75.3979\" rx=\"23.3111\" ry=\"23.3111\"/>\n<ellipse fill=\"none\" stroke=\"#000000\" cx=\"418.7855\" cy=\"-75.3979\" rx=\"27.2962\" ry=\"27.2962\"/>\n<text text-anchor=\"middle\" x=\"418.7855\" y=\"-71.6979\" font-family=\"Times,serif\" font-size=\"14.00\" fill=\"#000000\">St4</text>\n</g>\n<!-- St2&#45;&gt;St4 -->\n<g id=\"edge4\" class=\"edge\">\n<title>St2&#45;&gt;St4</title>\n<path fill=\"none\" stroke=\"#000000\" d=\"M239.3439,-84.5703C253.6861,-89.1182 271.8975,-94.1165 288.5917,-96.3979 312.7211,-99.6955 319.2581,-99.6955 343.3875,-96.3979 356.4298,-94.6156 370.3983,-91.1749 382.7242,-87.5863\"/>\n<polygon fill=\"#000000\" stroke=\"#000000\" points=\"384.0875,-90.83 392.6353,-84.5703 382.0495,-84.1333 384.0875,-90.83\"/>\n<text text-anchor=\"middle\" x=\"315.9896\" y=\"-102.1979\" font-family=\"Times,serif\" font-size=\"14.00\" fill=\"#000000\">1 </text>\n</g>\n<!-- St3 -->\n<g id=\"node5\" class=\"node\">\n<title>St3</title>\n<ellipse fill=\"none\" stroke=\"#000000\" cx=\"315.9896\" cy=\"-27.3979\" rx=\"23.3111\" ry=\"23.3111\"/>\n<ellipse fill=\"none\" stroke=\"#000000\" cx=\"315.9896\" cy=\"-27.3979\" rx=\"27.2962\" ry=\"27.2962\"/>\n<text text-anchor=\"middle\" x=\"315.9896\" y=\"-23.6979\" font-family=\"Times,serif\" font-size=\"14.00\" fill=\"#000000\">St3</text>\n</g>\n<!-- St2&#45;&gt;St3 -->\n<g id=\"edge3\" class=\"edge\">\n<title>St2&#45;&gt;St3</title>\n<path fill=\"none\" stroke=\"#000000\" d=\"M238.0778,-63.7785C251.2382,-57.6333 267.5924,-49.9968 281.9143,-43.3092\"/>\n<polygon fill=\"#000000\" stroke=\"#000000\" points=\"283.3984,-46.479 290.9785,-39.0767 280.4368,-40.1364 283.3984,-46.479\"/>\n<text text-anchor=\"middle\" x=\"264.5917\" y=\"-56.1979\" font-family=\"Times,serif\" font-size=\"14.00\" fill=\"#000000\">0 </text>\n</g>\n<!-- St4&#45;&gt;St4 -->\n<g id=\"edge7\" class=\"edge\">\n<title>St4&#45;&gt;St4</title>\n<path fill=\"none\" stroke=\"#000000\" d=\"M409.4677,-101.523C408.9413,-112.0011 412.0472,-120.7958 418.7855,-120.7958 423.1022,-120.7958 425.9282,-117.1865 427.2634,-111.8374\"/>\n<polygon fill=\"#000000\" stroke=\"#000000\" points=\"430.7801,-111.7741 428.1032,-101.523 423.8032,-111.206 430.7801,-111.7741\"/>\n<text text-anchor=\"middle\" x=\"418.7855\" y=\"-124.5958\" font-family=\"Times,serif\" font-size=\"14.00\" fill=\"#000000\">1 </text>\n</g>\n<!-- St3&#45;&gt;St4 -->\n<g id=\"edge6\" class=\"edge\">\n<title>St3&#45;&gt;St4</title>\n<path fill=\"none\" stroke=\"#000000\" d=\"M340.8736,-39.0174C354.0341,-45.1626 370.3882,-52.7991 384.7102,-59.4866\"/>\n<polygon fill=\"#000000\" stroke=\"#000000\" points=\"383.2326,-62.6594 393.7743,-63.7191 386.1943,-56.3168 383.2326,-62.6594\"/>\n<text text-anchor=\"middle\" x=\"367.3875\" y=\"-56.1979\" font-family=\"Times,serif\" font-size=\"14.00\" fill=\"#000000\">1 </text>\n</g>\n<!-- St3&#45;&gt;St3 -->\n<g id=\"edge5\" class=\"edge\">\n<title>St3&#45;&gt;St3</title>\n<path fill=\"none\" stroke=\"#000000\" d=\"M306.6718,-53.523C306.1454,-64.0011 309.2513,-72.7958 315.9896,-72.7958 320.3063,-72.7958 323.1323,-69.1865 324.4676,-63.8374\"/>\n<polygon fill=\"#000000\" stroke=\"#000000\" points=\"327.9842,-63.7741 325.3074,-53.523 321.0073,-63.206 327.9842,-63.7741\"/>\n<text text-anchor=\"middle\" x=\"315.9896\" y=\"-76.5958\" font-family=\"Times,serif\" font-size=\"14.00\" fill=\"#000000\">0 </text>\n</g>\n</g>\n</svg>\n"
          },
          "metadata": {
            "tags": []
          },
          "execution_count": 16
        }
      ]
    },
    {
      "cell_type": "code",
      "metadata": {
        "scrolled": true,
        "id": "HStmZ6ifaeuE",
        "outputId": "c5ba0f5c-9616-416d-b419-cd704e961f5b",
        "colab": {
          "base_uri": "https://localhost:8080/",
          "height": 196
        }
      },
      "source": [
        "dotObj_dfa(mnd)"
      ],
      "execution_count": 17,
      "outputs": [
        {
          "output_type": "execute_result",
          "data": {
            "text/plain": [
              "<graphviz.dot.Digraph at 0x7f3ced3d0c88>"
            ],
            "image/svg+xml": "<?xml version=\"1.0\" encoding=\"UTF-8\" standalone=\"no\"?>\n<!DOCTYPE svg PUBLIC \"-//W3C//DTD SVG 1.1//EN\"\n \"http://www.w3.org/Graphics/SVG/1.1/DTD/svg11.dtd\">\n<!-- Generated by graphviz version 2.40.1 (20161225.0304)\n -->\n<!-- Title: %3 Pages: 1 -->\n<svg width=\"386pt\" height=\"131pt\"\n viewBox=\"0.00 0.00 386.48 130.89\" xmlns=\"http://www.w3.org/2000/svg\" xmlns:xlink=\"http://www.w3.org/1999/xlink\">\n<g id=\"graph0\" class=\"graph\" transform=\"scale(1 1) rotate(0) translate(4 126.8927)\">\n<title>%3</title>\n<polygon fill=\"#ffffff\" stroke=\"transparent\" points=\"-4,4 -4,-126.8927 382.4844,-126.8927 382.4844,4 -4,4\"/>\n<!-- EMPTY -->\n<g id=\"node1\" class=\"node\">\n<title>EMPTY</title>\n</g>\n<!-- St1 -->\n<g id=\"node2\" class=\"node\">\n<title>St1</title>\n<ellipse fill=\"none\" stroke=\"#000000\" cx=\"114.3979\" cy=\"-44.9464\" rx=\"23.2963\" ry=\"23.2963\"/>\n<text text-anchor=\"middle\" x=\"114.3979\" y=\"-41.2464\" font-family=\"Times,serif\" font-size=\"14.00\" fill=\"#000000\">St1</text>\n</g>\n<!-- EMPTY&#45;&gt;St1 -->\n<g id=\"edge1\" class=\"edge\">\n<title>EMPTY&#45;&gt;St1</title>\n<path fill=\"none\" stroke=\"#000000\" d=\"M54.1742,-44.9464C62.5103,-44.9464 71.7873,-44.9464 80.5137,-44.9464\"/>\n<polygon fill=\"#000000\" stroke=\"#000000\" points=\"80.7846,-48.4465 90.7846,-44.9464 80.7845,-41.4465 80.7846,-48.4465\"/>\n</g>\n<!-- St3_St2 -->\n<g id=\"node3\" class=\"node\">\n<title>St3_St2</title>\n<ellipse fill=\"none\" stroke=\"#000000\" cx=\"230.7422\" cy=\"-44.9464\" rx=\"40.8976\" ry=\"40.8976\"/>\n<ellipse fill=\"none\" stroke=\"#000000\" cx=\"230.7422\" cy=\"-44.9464\" rx=\"44.8928\" ry=\"44.8928\"/>\n<text text-anchor=\"middle\" x=\"230.7422\" y=\"-41.2464\" font-family=\"Times,serif\" font-size=\"14.00\" fill=\"#000000\">St3_St2</text>\n</g>\n<!-- St1&#45;&gt;St3_St2 -->\n<g id=\"edge2\" class=\"edge\">\n<title>St1&#45;&gt;St3_St2</title>\n<path fill=\"none\" stroke=\"#000000\" d=\"M137.9419,-44.9464C148.8417,-44.9464 162.2916,-44.9464 175.536,-44.9464\"/>\n<polygon fill=\"#000000\" stroke=\"#000000\" points=\"175.5784,-48.4465 185.5783,-44.9464 175.5783,-41.4465 175.5784,-48.4465\"/>\n<text text-anchor=\"middle\" x=\"161.7958\" y=\"-48.7464\" font-family=\"Times,serif\" font-size=\"14.00\" fill=\"#000000\">0 </text>\n</g>\n<!-- St3_St2&#45;&gt;St3_St2 -->\n<g id=\"edge3\" class=\"edge\">\n<title>St3_St2&#45;&gt;St3_St2</title>\n<path fill=\"none\" stroke=\"#000000\" d=\"M218.1237,-88.1941C218.8993,-99.4245 223.1055,-107.8927 230.7422,-107.8927 235.8731,-107.8927 239.4554,-104.07 241.4892,-98.1552\"/>\n<polygon fill=\"#000000\" stroke=\"#000000\" points=\"244.9539,-98.6684 243.3607,-88.1941 238.0743,-97.3758 244.9539,-98.6684\"/>\n<text text-anchor=\"middle\" x=\"230.7422\" y=\"-111.6927\" font-family=\"Times,serif\" font-size=\"14.00\" fill=\"#000000\">0 </text>\n</g>\n<!-- St4 -->\n<g id=\"node4\" class=\"node\">\n<title>St4</title>\n<ellipse fill=\"none\" stroke=\"#000000\" cx=\"351.0865\" cy=\"-44.9464\" rx=\"23.3111\" ry=\"23.3111\"/>\n<ellipse fill=\"none\" stroke=\"#000000\" cx=\"351.0865\" cy=\"-44.9464\" rx=\"27.2962\" ry=\"27.2962\"/>\n<text text-anchor=\"middle\" x=\"351.0865\" y=\"-41.2464\" font-family=\"Times,serif\" font-size=\"14.00\" fill=\"#000000\">St4</text>\n</g>\n<!-- St3_St2&#45;&gt;St4 -->\n<g id=\"edge4\" class=\"edge\">\n<title>St3_St2&#45;&gt;St4</title>\n<path fill=\"none\" stroke=\"#000000\" d=\"M275.8964,-44.9464C288.2768,-44.9464 301.5633,-44.9464 313.4716,-44.9464\"/>\n<polygon fill=\"#000000\" stroke=\"#000000\" points=\"313.5243,-48.4465 323.5243,-44.9464 313.5242,-41.4465 313.5243,-48.4465\"/>\n<text text-anchor=\"middle\" x=\"299.6886\" y=\"-48.7464\" font-family=\"Times,serif\" font-size=\"14.00\" fill=\"#000000\">1 </text>\n</g>\n<!-- St4&#45;&gt;St4 -->\n<g id=\"edge5\" class=\"edge\">\n<title>St4&#45;&gt;St4</title>\n<path fill=\"none\" stroke=\"#000000\" d=\"M341.7687,-71.0714C341.2423,-81.5496 344.3482,-90.3443 351.0865,-90.3443 355.4032,-90.3443 358.2292,-86.7349 359.5645,-81.3859\"/>\n<polygon fill=\"#000000\" stroke=\"#000000\" points=\"363.0811,-81.3225 360.4043,-71.0714 356.1042,-80.7544 363.0811,-81.3225\"/>\n<text text-anchor=\"middle\" x=\"351.0865\" y=\"-94.1443\" font-family=\"Times,serif\" font-size=\"14.00\" fill=\"#000000\">1 </text>\n</g>\n</g>\n</svg>\n"
          },
          "metadata": {
            "tags": []
          },
          "execution_count": 17
        }
      ]
    }
  ]
}