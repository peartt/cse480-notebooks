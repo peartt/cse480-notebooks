{
  "nbformat": 4,
  "nbformat_minor": 0,
  "metadata": {
    "colab": {
      "name": "11_3_Are_You_SATisfied.ipynb",
      "provenance": [],
      "authorship_tag": "ABX9TyOtICu5Rup4s67d2waARvHQ",
      "include_colab_link": true
    },
    "kernelspec": {
      "name": "python3",
      "display_name": "Python 3"
    }
  },
  "cells": [
    {
      "cell_type": "markdown",
      "metadata": {
        "id": "view-in-github",
        "colab_type": "text"
      },
      "source": [
        "<a href=\"https://colab.research.google.com/github/byui-cse/cse480-notebooks/blob/master/11_3_Are_You_SATisfied.ipynb\" target=\"_parent\"><img src=\"https://colab.research.google.com/assets/colab-badge.svg\" alt=\"Open In Colab\"/></a>"
      ]
    },
    {
      "cell_type": "markdown",
      "metadata": {
        "id": "4QOdGFeUICvC"
      },
      "source": [
        "# Solving Problems with Propositional Logic"
      ]
    },
    {
      "cell_type": "markdown",
      "metadata": {
        "id": "i8tbcDv_L0y_"
      },
      "source": [
        "All you need to do is encode the puzzle as a (potentially very large) compound logical proposition!\n",
        "\n",
        "For example ...\n"
      ]
    },
    {
      "cell_type": "markdown",
      "metadata": {
        "id": "AyxmOuO8LfC3"
      },
      "source": [
        "## A Famous Logic Puzzle"
      ]
    },
    {
      "cell_type": "markdown",
      "metadata": {
        "id": "wKPJnsftLidO"
      },
      "source": [
        "Five men with different nationalities and with different jobs live in consecutive houses on a street. These houses are painted different colors. The men have different pets and have different favorite drinks. Determine who owns a zebra and whose favorite drink is water (which is one of the favorite drinks) given these clues:\n",
        "\n",
        "1. The Englishman lives in the red house.\n",
        "2. The Spaniard owns a dog.\n",
        "3. The Japanese man is a painter.\n",
        "4. The Italian drinks tea.\n",
        "5. The Norwegian lives in the first house on the left.\n",
        "6. The green house is immediately to the right of the white one.\n",
        "7. The photographer breeds kittens.\n",
        "8. The diplomat lives in the yellow house.\n",
        "9. Milk is drunk in the middle house.\n",
        "10. The owner of the green house drinks coffee.\n",
        "11. The Norwegian's house is next to the blue one.\n",
        "12. The violinist drinks orange juice.\n",
        "13. The fox is in a house next to that of the physician.\n",
        "14. The horse is in a house next to that of the diplomat."
      ]
    },
    {
      "cell_type": "code",
      "metadata": {
        "id": "SBL207icLKhG"
      },
      "source": [
        "!curl -O https://rickneff.github.io/zebra.c > /dev/null 2>&1"
      ],
      "execution_count": 1,
      "outputs": []
    },
    {
      "cell_type": "code",
      "metadata": {
        "id": "TozUEOVdLTVt"
      },
      "source": [
        "!head -315 zebra.c"
      ],
      "execution_count": null,
      "outputs": []
    },
    {
      "cell_type": "code",
      "metadata": {
        "id": "SnYGmMsdLxHQ"
      },
      "source": [
        "!cc -E zebra.c | grep -v '^#' | grep -v '^$' > zebra_v155_c1135.cnf"
      ],
      "execution_count": 3,
      "outputs": []
    },
    {
      "cell_type": "code",
      "metadata": {
        "id": "55wal7vHPRaT"
      },
      "source": [
        "!cat zebra_v155_c1135.cnf"
      ],
      "execution_count": null,
      "outputs": []
    },
    {
      "cell_type": "markdown",
      "metadata": {
        "id": "Yo_PqN8GWiUs"
      },
      "source": [
        "## CNF"
      ]
    },
    {
      "cell_type": "markdown",
      "metadata": {
        "id": "c9-vKuffWlCO"
      },
      "source": [
        "Recall the discussion in Section 16.3 starting on page 248 that includes Definition 16.3:\n",
        "\n",
        "A variable or its negation is called a *literal*.\n",
        "\n",
        "A Boolean formula in *conjunctive normal form* (CNF) is a conjunction of clauses.\n",
        "\n",
        "It is a $2CNF$ formula if it is a conjunction of 2-Clauses and a $3CNF$ formula if it is a conjunction of 3-Clauses.\n",
        "\n",
        "A 2-Clause is a disjunction of two literals, and a 3-Clause is a disjunction of three literals.\n",
        "\n",
        "A 2-Clause is equivalent to a conjunction of two implications. \n",
        "\n",
        "\n",
        "Note that logical expressions are easiest to understand if the most natural logical operations are used. For example, conditionals (implications) that give necessary and/or sufficient conditions for some events. Use the logical equivalence\n",
        "\n",
        "$a \\rightarrow b \\equiv \\lnot a \\lor b$\n",
        "\n",
        "to convert conditionals to their equivalent normal form."
      ]
    },
    {
      "cell_type": "markdown",
      "metadata": {
        "id": "hKBHKZMcYjrq"
      },
      "source": [
        "### 3COLOR is NP-Complete"
      ]
    },
    {
      "cell_type": "markdown",
      "metadata": {
        "id": "gla36FykYqoa"
      },
      "source": [
        "Here's a fairly simple example of how to do an NP-Completeness proof, which requires the following steps:\n",
        "\n"
      ]
    },
    {
      "cell_type": "markdown",
      "metadata": {
        "id": "yEcT_Bj8Zoji"
      },
      "source": [
        "1. Describe the problem as a language.\n",
        "2. Show that the language is in NP.\n",
        "3. Select a known NP-complete problem XYZ.\n",
        "4. Construct a transformation f from XYZ to the new (unknown) language.\n",
        "5. Prove both directions of the transformation (if and only if).\n",
        "6. Prove that f is a polynomial time transformation (reduction)."
      ]
    },
    {
      "cell_type": "markdown",
      "metadata": {
        "id": "7NO0cWVAaQJL"
      },
      "source": [
        "3COLOR is defined as the set of all graphs that are colorable with 3 colors."
      ]
    },
    {
      "cell_type": "markdown",
      "metadata": {
        "id": "GbQZ2PeCZbwH"
      },
      "source": [
        "That 3COLOR is NP-Complete is proved by reduction from $SAT$.\n",
        "\n",
        "Transform any graph $G$ with vertex set $\\{v_i\\ |\\ i = 1,\\ldots,n \\}$\n",
        "into a $CNF$ Boolean formula by letting the variables\n",
        "\n",
        "* $r_i = 1$ if color$(v_i) =$ red, 0 otherwise;\n",
        "* $g_i = 1$ if color$(v_i) =$ green, 0 otherwise;\n",
        "* $b_i = 1$ if color$(v_i) =$ blue, 0 otherwise;\n",
        "\n",
        "Then for each vertex $v_i \\in G$ generate the clause $(r_i \\lor g_i \\lor b_i)$\n",
        "and for each edge $(v_i, v_j) \\in G$ generate the clause\n",
        "\n",
        "$(\\overline{r_i} \\lor \\overline{r_j}) \\land\n",
        "(\\overline{g_i} \\lor \\overline{g_j}) \\land\n",
        "(\\overline{b_i} \\lor \\overline{b_j})$.\n",
        "\n",
        "Graph $G$ having $n$ vertices implies this transformation takes no more than $n^2$ steps.\n",
        "\n",
        "Graph $G$ is three-colorable if and only if the generated Boolean formula is satisfiable."
      ]
    },
    {
      "cell_type": "markdown",
      "metadata": {
        "id": "a64WwHWlZ-LE"
      },
      "source": [
        "### TODO In-Class Exercise"
      ]
    },
    {
      "cell_type": "markdown",
      "metadata": {
        "id": "PxFcBodjaEyU"
      },
      "source": [
        "First, identify each of the steps (1-6) in the phrasing of the above proof."
      ]
    },
    {
      "cell_type": "markdown",
      "metadata": {
        "id": "vXjJ2BbYb-_c"
      },
      "source": [
        "Next, determine which of the following graphs is in 3COLOR, and which is not."
      ]
    },
    {
      "cell_type": "markdown",
      "metadata": {
        "id": "0ZInGUYIcNCa"
      },
      "source": [
        "#### Graph A"
      ]
    },
    {
      "cell_type": "markdown",
      "metadata": {
        "id": "bbV7udFBcWDU"
      },
      "source": [
        "![graph-A.png](data:image/png;base64,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)"
      ]
    },
    {
      "cell_type": "markdown",
      "metadata": {
        "id": "Rp41vu-fcU5L"
      },
      "source": [
        "#### Graph B"
      ]
    },
    {
      "cell_type": "markdown",
      "metadata": {
        "id": "VZOgfI_fciF5"
      },
      "source": [
        "![graph-B.png](data:image/png;base64,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)"
      ]
    },
    {
      "cell_type": "markdown",
      "metadata": {
        "id": "8FK4BQ_eKgVR"
      },
      "source": [
        "## A Brute Force SAT Solver"
      ]
    },
    {
      "cell_type": "code",
      "metadata": {
        "id": "sZjcs0n2_eci"
      },
      "source": [
        "vardict = {'a':1, 'b':0, 'c':1, 'd':0, 'e': 1, 'f': 0}"
      ],
      "execution_count": 5,
      "outputs": []
    },
    {
      "cell_type": "code",
      "metadata": {
        "id": "RxCsxnJPCeLx"
      },
      "source": [
        "import functools, math, operator, sys\n",
        "if sys.version_info >= (3, 8):\n",
        "  product = math.prod\n",
        "else:\n",
        "  product = functools.partial(functools.reduce, operator.mul)\n",
        "\n",
        "def make_literal(name):\n",
        "  name_l = name.lower()\n",
        "  globals()[name_l] = name_l\n",
        "  name_u = name.upper()\n",
        "  globals()[name_u] = name_u\n",
        "  return (name_l, name_u)\n",
        "\n",
        "def init_literals():\n",
        "  global vardict\n",
        "  return list(map(make_literal, vardict.keys()))\n",
        "\n",
        "def set_vars(var_assignments_str):\n",
        "  \"\"\"Take a string of the form 'a=1 b=0' to update\n",
        "     the vardict.\n",
        "  \"\"\"\n",
        "  global vardict\n",
        "  for var_assignment in var_assignments_str.split():\n",
        "    var, val = var_assignment.split('=')\n",
        "    vardict[var] = int(val)\n",
        "\n",
        "def setv(var, val):\n",
        "  global vardict\n",
        "  vardict[var] = val\n",
        "  return f'{var}={val}'\n",
        "\n",
        "def assign_vars(n):\n",
        "  \"\"\"Assign vars in vardict according to\n",
        "     to the binary representation of n.\n",
        "\n",
        "     assign_vars(0) will set all vars to 0.\n",
        "\n",
        "     assign_vars(63) will set all 6 vars (2^6 - 1 = 63) to 1.\n",
        "  \"\"\"\n",
        "  bits = bin(n)[::-1]\n",
        "  l = len(bits)\n",
        "  seen_b = False\n",
        "  vars = list(vardict.keys())\n",
        "  vars.reverse()\n",
        "  for i, var in enumerate(vars):\n",
        "    if i < l:\n",
        "      bit = bits[i]\n",
        "    if bit == 'b':\n",
        "      seen_b = True\n",
        "    setv(var, 0 if seen_b else int(bit))\n",
        "\n",
        "def getv(var):\n",
        "  \"\"\"Get the value of var, returns the value of var in vardict (0 or 1).\n",
        "  \"\"\"\n",
        "  global vardict\n",
        "  varl = var.lower()\n",
        "  return vardict[var] if var == varl and var in vardict else 1 - getv(varl)\n",
        "\n",
        "def flip(var):\n",
        "  \"\"\"Flip (invert) the value of a literal, to turn a 0 into a 1\n",
        "     and a 1 into a 0.\n",
        "  \"\"\"\n",
        "  vardict[var] = 0 if getv(var) else 1\n",
        "\n",
        "def eval_cnf(formula):\n",
        "  vals = [list(map(getv, clause)) for clause in formula]\n",
        "  print(vals)\n",
        "  return 1 if product(map(sum, vals)) else 0\n",
        "\n",
        "def eval_dnf(formula):\n",
        "  vals = [list(map(getv, clause)) for clause in formula]\n",
        "  print(vals)\n",
        "  return 1 if sum(map(product, vals)) else 0"
      ],
      "execution_count": 6,
      "outputs": []
    },
    {
      "cell_type": "code",
      "metadata": {
        "id": "D6V3Gg7AtimZ"
      },
      "source": [
        "vardict"
      ],
      "execution_count": null,
      "outputs": []
    },
    {
      "cell_type": "code",
      "metadata": {
        "id": "KxiSPWzHt0cE"
      },
      "source": [
        "list(vardict.keys())"
      ],
      "execution_count": null,
      "outputs": []
    },
    {
      "cell_type": "code",
      "metadata": {
        "id": "xI_Jr2pwYLre"
      },
      "source": [
        "init_literals()"
      ],
      "execution_count": null,
      "outputs": []
    },
    {
      "cell_type": "code",
      "metadata": {
        "id": "IyWmxo_TyHD7"
      },
      "source": [
        "' '.join([setv(a, 0), setv(b, 0)])"
      ],
      "execution_count": null,
      "outputs": []
    },
    {
      "cell_type": "code",
      "metadata": {
        "id": "CHAsC5bOrvV8"
      },
      "source": [
        "assign_vars(61)"
      ],
      "execution_count": 11,
      "outputs": []
    },
    {
      "cell_type": "code",
      "metadata": {
        "id": "UJU6J3MH-Be8"
      },
      "source": [
        "formula1 = ((a, b, c), (a, B, c), (A, B, c), (e, f))"
      ],
      "execution_count": 14,
      "outputs": []
    },
    {
      "cell_type": "code",
      "metadata": {
        "id": "SGDTYjxgXraY"
      },
      "source": [
        "[list(map(getv, clause)) for clause in formula1]"
      ],
      "execution_count": null,
      "outputs": []
    },
    {
      "cell_type": "code",
      "metadata": {
        "id": "4PFK5MXIYlGP"
      },
      "source": [
        "flip(a)"
      ],
      "execution_count": 16,
      "outputs": []
    },
    {
      "cell_type": "code",
      "metadata": {
        "id": "mrQoDkVnYkk2"
      },
      "source": [
        "[list(map(getv, clause)) for clause in formula1]"
      ],
      "execution_count": null,
      "outputs": []
    },
    {
      "cell_type": "code",
      "metadata": {
        "id": "0noEgrXIgHX7"
      },
      "source": [
        "set_vars('a=1 b=0')"
      ],
      "execution_count": 19,
      "outputs": []
    },
    {
      "cell_type": "code",
      "metadata": {
        "id": "Agk-BMz0ggSp"
      },
      "source": [
        "[list(map(getv, clause)) for clause in formula1]"
      ],
      "execution_count": null,
      "outputs": []
    },
    {
      "cell_type": "code",
      "metadata": {
        "id": "QVaam5czh_1a"
      },
      "source": [
        "eval_cnf(formula1)"
      ],
      "execution_count": null,
      "outputs": []
    },
    {
      "cell_type": "code",
      "metadata": {
        "id": "5sZ7wfOKilhZ"
      },
      "source": [
        "set_vars('e=1')"
      ],
      "execution_count": 22,
      "outputs": []
    },
    {
      "cell_type": "code",
      "metadata": {
        "id": "t1-56ZY5oQLe"
      },
      "source": [
        "eval_dnf(formula1)"
      ],
      "execution_count": null,
      "outputs": []
    },
    {
      "cell_type": "code",
      "metadata": {
        "id": "A_CCCPiKpwxN"
      },
      "source": [
        "set_vars('f=1')"
      ],
      "execution_count": 24,
      "outputs": []
    },
    {
      "cell_type": "code",
      "metadata": {
        "id": "oak6n69aqicQ"
      },
      "source": [
        "flip(f)"
      ],
      "execution_count": 25,
      "outputs": []
    },
    {
      "cell_type": "code",
      "metadata": {
        "id": "GxCpIl2RzJhc"
      },
      "source": [
        "def get_satisfying_assignments(formula, first_only=False):\n",
        "  global vardict\n",
        "  all_satisfying_assignments = []\n",
        "  l = 2 ** len(vardict.keys())\n",
        "  for n in range(l):\n",
        "    assign_vars(n)\n",
        "    if eval_cnf(formula):\n",
        "      if first_only:\n",
        "        return vardict.copy()\n",
        "      else:\n",
        "        all_satisfying_assignments.append(vardict.copy())\n",
        "  return None if first_only else all_satisfying_assignments"
      ],
      "execution_count": 26,
      "outputs": []
    },
    {
      "cell_type": "code",
      "metadata": {
        "id": "41XCuaIg0OGP"
      },
      "source": [
        "formula1"
      ],
      "execution_count": null,
      "outputs": []
    },
    {
      "cell_type": "code",
      "metadata": {
        "id": "3KGhAWOe0eQV"
      },
      "source": [
        "vardict"
      ],
      "execution_count": null,
      "outputs": []
    },
    {
      "cell_type": "code",
      "metadata": {
        "id": "ZBbYjbDkzxc6"
      },
      "source": [
        "get_satisfying_assignments(formula1)"
      ],
      "execution_count": null,
      "outputs": []
    },
    {
      "cell_type": "markdown",
      "metadata": {
        "id": "0aokDTyF2CBE"
      },
      "source": [
        "# Explore the Soos SAT Solver"
      ]
    },
    {
      "cell_type": "markdown",
      "metadata": {
        "id": "FypRCO_G2FMk"
      },
      "source": [
        "We can feed these Boolean formulas to [CryptoMiniSat by Mate Soos](https://msoos.github.io/cryptominisat_web) by converting them to the [DIMACS](https://en.wikipedia.org/wiki/DIMACS) format:"
      ]
    },
    {
      "cell_type": "code",
      "metadata": {
        "id": "BUGR4DbJ2vs6"
      },
      "source": [
        "def to_DIMACS(formula):\n",
        "  global vardict\n",
        "  literals = dict([(v, i + 1) for i, v in enumerate(vardict.keys())])\n",
        "  print(f'p cnf {len(literals)} {len(formula)}')\n",
        "  for clause in formula:\n",
        "    for literal in clause:\n",
        "      if literal.isupper():\n",
        "        print('-', end='')\n",
        "      print(f'{literals[literal.lower()]} ', end='')\n",
        "    print('0')"
      ],
      "execution_count": 30,
      "outputs": []
    },
    {
      "cell_type": "code",
      "metadata": {
        "id": "I6tdqHxi6szc"
      },
      "source": [
        "formula1"
      ],
      "execution_count": null,
      "outputs": []
    },
    {
      "cell_type": "code",
      "metadata": {
        "id": "Y7IAckwQ6m5s"
      },
      "source": [
        "%%capture cap\n",
        "to_DIMACS(formula1)"
      ],
      "execution_count": 32,
      "outputs": []
    },
    {
      "cell_type": "code",
      "metadata": {
        "id": "igU7pbag96wU"
      },
      "source": [
        "cap.show()"
      ],
      "execution_count": null,
      "outputs": []
    },
    {
      "cell_type": "markdown",
      "metadata": {
        "id": "_DQgYriXH4Up"
      },
      "source": [
        "# Alternative to Browser Interaction"
      ]
    },
    {
      "cell_type": "markdown",
      "metadata": {
        "id": "kUwQEjPXH72t"
      },
      "source": [
        "If you prefer not to copy/paste!"
      ]
    },
    {
      "cell_type": "code",
      "metadata": {
        "id": "KbV4e7eQEuxs"
      },
      "source": [
        "!pip install pycryptosat"
      ],
      "execution_count": null,
      "outputs": []
    },
    {
      "cell_type": "code",
      "metadata": {
        "id": "IGU9_YNoFNae"
      },
      "source": [
        "from pycryptosat import Solver\n",
        "\n",
        "def to_Solver(formula, solver=Solver()):\n",
        "  global vardict\n",
        "  literals = dict([(v, i + 1) for i, v in enumerate(vardict.keys())])\n",
        "  def get_var_num(literal):\n",
        "    num = literals[literal.lower()]\n",
        "    if literal.isupper():\n",
        "      num = -num\n",
        "    return num\n",
        "  for clause in formula:\n",
        "    solver.add_clause(list(map(get_var_num, clause)))\n",
        "  return solver"
      ],
      "execution_count": 35,
      "outputs": []
    },
    {
      "cell_type": "code",
      "metadata": {
        "id": "o5ftc6tVHT0b"
      },
      "source": [
        "s = to_Solver(formula1)"
      ],
      "execution_count": 36,
      "outputs": []
    },
    {
      "cell_type": "code",
      "metadata": {
        "id": "kPn26ZvXHYqq"
      },
      "source": [
        "sat, solution = s.solve()"
      ],
      "execution_count": 37,
      "outputs": []
    },
    {
      "cell_type": "code",
      "metadata": {
        "id": "ctleETEZHgJR"
      },
      "source": [
        "sat"
      ],
      "execution_count": null,
      "outputs": []
    },
    {
      "cell_type": "code",
      "metadata": {
        "id": "9uxpI8NZHhrB"
      },
      "source": [
        "solution"
      ],
      "execution_count": null,
      "outputs": []
    },
    {
      "cell_type": "markdown",
      "metadata": {
        "id": "HI19aYpyX2pT"
      },
      "source": [
        "# A Familiar Logic Puzzle"
      ]
    },
    {
      "cell_type": "markdown",
      "metadata": {
        "id": "q-rr9lTuVYwp"
      },
      "source": [
        "![sudoku.png](data:image/png;base64,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)"
      ]
    },
    {
      "cell_type": "markdown",
      "metadata": {
        "id": "iJASzbZLWDJT"
      },
      "source": [
        "## How do we model Sudoku in propositional logic?!"
      ]
    },
    {
      "cell_type": "markdown",
      "metadata": {
        "id": "rtSSlcCzX5sE"
      },
      "source": [
        "Let $p(i, j, n)$ be the proposition (true or false) that the cell at row $i$, column $j$ contains the number $n$.\n",
        "\n",
        "The three variables ($i$, $j$, and $n$) all range from $1$ to $9$, hence there are $9 \\cdot 9 \\cdot 9 = 729$ such propositions --- some of which are \"given\" (these are the initial hints)."
      ]
    },
    {
      "cell_type": "markdown",
      "metadata": {
        "id": "c-yeY_BOYmh0"
      },
      "source": [
        "### What are the constraints?"
      ]
    },
    {
      "cell_type": "markdown",
      "metadata": {
        "id": "PEI-wWjoYoY0"
      },
      "source": [
        "We need to form the conjunction of four different assertions:"
      ]
    },
    {
      "cell_type": "markdown",
      "metadata": {
        "id": "TVX8W7KNYuFX"
      },
      "source": [
        "#### Every row contains every number"
      ]
    },
    {
      "cell_type": "markdown",
      "metadata": {
        "id": "TYrhRGBvYygr"
      },
      "source": [
        "$$\\bigwedge_{i=1}^{9} \\bigwedge_{n=1}^{9} \\bigvee_{j=1}^{9} p(i, j, n)$$\n"
      ]
    },
    {
      "cell_type": "code",
      "metadata": {
        "id": "-_H-EVBeH6zD"
      },
      "source": [
        "from pycryptosat import Solver\n",
        "s = Solver(verbose=15)"
      ],
      "execution_count": 40,
      "outputs": []
    },
    {
      "cell_type": "code",
      "metadata": {
        "id": "WH_8OuStY_FZ"
      },
      "source": [
        "list(map(lambda c: s.add_clause(c), \n",
        "         [[int(f'{i}{j}{n}')]\n",
        "         for i in range(1, 10)\n",
        "           for n in range(1, 10)\n",
        "             for j in range(1, 10)]))\n",
        "s.nb_clauses()"
      ],
      "execution_count": null,
      "outputs": []
    },
    {
      "cell_type": "markdown",
      "metadata": {
        "id": "uvktDkjwbJOd"
      },
      "source": [
        "#### Every column contains every number"
      ]
    },
    {
      "cell_type": "markdown",
      "metadata": {
        "id": "nMG5nbQlbNm9"
      },
      "source": [
        "$$\\bigwedge_{j=1}^{9} \\bigwedge_{n=1}^{9} \\bigvee_{i=1}^{9} p(i, j, n)$$"
      ]
    },
    {
      "cell_type": "code",
      "metadata": {
        "id": "mN9UMLBVbIqk"
      },
      "source": [
        "list(map(lambda c: s.add_clause(c), \n",
        "         [[int(f'{i}{j}{n}')]\n",
        "         for j in range(1, 10)\n",
        "           for n in range(1, 10)\n",
        "             for i in range(1, 10)]))\n",
        "s.nb_clauses()"
      ],
      "execution_count": null,
      "outputs": []
    },
    {
      "cell_type": "markdown",
      "metadata": {
        "id": "MiYdRHpLbkKk"
      },
      "source": [
        "#### Each of the nine 3x3 blocks contains every number"
      ]
    },
    {
      "cell_type": "markdown",
      "metadata": {
        "id": "LtA_ZQS3bpDy"
      },
      "source": [
        "This is tricky.\n",
        "\n",
        "$$\\bigwedge_{r=0}^{2} \\bigwedge_{s=0}^{2} \\bigwedge_{n=1}^{9} \\bigvee_{i=1}^{3} \\bigvee_{j=1}^{3} p(3r + i, 3s + j, n)$$"
      ]
    },
    {
      "cell_type": "code",
      "metadata": {
        "id": "aNZxDtsnb4QM"
      },
      "source": [
        "list(map(lambda c: s.add_clause(c),\n",
        "         [[int(f'{3*r+i}{3*s+j}{n}')]\n",
        "         for r in range(3)\n",
        "           for s in range(3)\n",
        "             for n in range(1, 10)\n",
        "               for i in range(1, 4)\n",
        "                 for j in range(1, 4)]))\n",
        "s.nb_clauses()"
      ],
      "execution_count": null,
      "outputs": []
    },
    {
      "cell_type": "markdown",
      "metadata": {
        "id": "T4-U9xz7cfdL"
      },
      "source": [
        "#### No cell contains more than one number"
      ]
    },
    {
      "cell_type": "markdown",
      "metadata": {
        "id": "HhcvkRphcicm"
      },
      "source": [
        "Recall that for two propositional variables $x$ and $y$,\n",
        "\n",
        "$\\lnot (x \\land y) \\equiv \\lnot x \\lor \\lnot y \\equiv x \\rightarrow \\lnot y$.\n",
        "\n",
        "Take the conjunction over all values of $n$, $m$, $i$, and $j$ of\n",
        "\n",
        "$p(i, j, n) \\rightarrow \\lnot p(i, j, m)$\n",
        "\n",
        "where each variable ranges from $1$ to $9$ and $n \\ne m$.\n"
      ]
    },
    {
      "cell_type": "markdown",
      "metadata": {
        "id": "VirNqmjNCbQe"
      },
      "source": [
        "$$\\bigwedge^{9}_{i=1} \\bigwedge^{9}_{j=1} \\bigwedge^{8}_{n=1} \\bigwedge^{9}_{m=n+1} \\lnot p(i, j, n) \\lor \\lnot p(i, j, m)$$\n"
      ]
    },
    {
      "cell_type": "code",
      "metadata": {
        "id": "G-dX9jM9Cw16"
      },
      "source": [
        "list(map(lambda c: s.add_clause(c),\n",
        "         [[int(f'-{i}{j}{n}'), int(f'-{i}{j}{m}')]\n",
        "         for i in range(1, 10) \n",
        "           for j in range(1, 10)\n",
        "             for n in range(1, 9)\n",
        "               for m in range(n+1, 10)]))\n",
        "s.nb_clauses()"
      ],
      "execution_count": null,
      "outputs": []
    },
    {
      "cell_type": "code",
      "metadata": {
        "id": "o9MEZeh8Z5QT"
      },
      "source": [
        "print(s.solve())"
      ],
      "execution_count": null,
      "outputs": []
    },
    {
      "cell_type": "markdown",
      "metadata": {
        "id": "QMT2FqOXVb64"
      },
      "source": [
        "#### Starting Grids"
      ]
    },
    {
      "cell_type": "code",
      "metadata": {
        "id": "TjgO-a-BVmpQ"
      },
      "source": [
        "sudoku_9x9_grid1 = [[0,5,0,0,0,7,0,0,0],\n",
        "                    [0,0,8,0,0,0,0,0,0],\n",
        "                    [7,0,2,6,0,0,0,5,0],\n",
        "                    [0,0,0,0,0,3,7,0,0],\n",
        "                    [0,0,6,1,0,0,0,0,2],\n",
        "                    [0,0,0,0,0,4,0,0,0],\n",
        "                    [0,4,7,0,0,8,0,0,9],\n",
        "                    [0,9,0,5,0,0,0,0,1],\n",
        "                    [2,0,0,7,0,0,0,8,5]]\n",
        "\n",
        "sudoku_9x9_grid2 = [[0,0,0,0,0,5,0,7,8],\n",
        "                    [0,8,0,6,2,0,1,0,0],\n",
        "                    [2,0,5,0,4,8,0,0,3],\n",
        "                    [7,0,2,0,0,3,4,0,0],\n",
        "                    [0,0,0,0,0,0,0,0,0],\n",
        "                    [0,0,4,8,0,0,9,0,2],\n",
        "                    [6,0,0,3,1,0,8,0,4],\n",
        "                    [0,0,8,0,5,6,0,1,0],\n",
        "                    [1,7,0,2,0,0,0,0,0]]\n",
        "\n",
        "sudoku_9x9_grid3 = [[0,0,0,0,0,5,0,7,8],\n",
        "                    [0,8,0,6,2,0,1,0,0],\n",
        "                    [2,0,5,0,4,8,0,0,3],\n",
        "                    [7,0,2,0,0,3,4,0,0],\n",
        "                    [0,0,0,0,0,0,0,0,0],\n",
        "                    [0,0,4,8,0,0,9,0,2],\n",
        "                    [6,0,0,3,1,0,8,0,4],\n",
        "                    [0,0,8,0,5,6,0,1,0],\n",
        "                    [1,7,0,2,0,0,0,0,0]]\n",
        "\n",
        "sudoku_9x9_grid4 = [[9,1,8,7,0,0,0,3,0],\n",
        "                    [0,3,2,6,0,9,0,8,0],\n",
        "                    [0,0,7,2,8,0,9,1,0],\n",
        "                    [0,8,6,0,3,0,1,7,0],\n",
        "                    [3,0,4,0,0,0,0,5,6],\n",
        "                    [0,5,1,0,2,0,8,4,3],\n",
        "                    [1,0,9,0,5,0,3,2,0],\n",
        "                    [0,2,5,3,0,1,4,9,0],\n",
        "                    [0,0,3,0,0,2,0,6,1]]"
      ],
      "execution_count": 47,
      "outputs": []
    },
    {
      "cell_type": "code",
      "metadata": {
        "id": "y3dSy8RgXCPL"
      },
      "source": [
        "def add_hints(grid, solver):\n",
        "  def get_val(r, c):\n",
        "    n = grid[r][c]\n",
        "    return n if n else ''\n",
        "  vars = [int(f'{r+1}{c+1}{get_val(r, c)}')\n",
        "           for r in range(9)\n",
        "             for c in range(9)]\n",
        "  for var in vars:\n",
        "    if var > 100:\n",
        "      solver.add_clause([var])\n",
        "  return solver.nb_clauses()"
      ],
      "execution_count": 45,
      "outputs": []
    },
    {
      "cell_type": "code",
      "metadata": {
        "id": "6gAOW7GJY6d0"
      },
      "source": [
        "add_hints(sudoku_9x9_grid4, s)"
      ],
      "execution_count": null,
      "outputs": []
    },
    {
      "cell_type": "code",
      "metadata": {
        "id": "2w2FmuMOagY6"
      },
      "source": [
        "print(s.solve())"
      ],
      "execution_count": null,
      "outputs": []
    }
  ]
}