{
  "nbformat": 4,
  "nbformat_minor": 0,
  "metadata": {
    "colab": {
      "name": "06_2_The_Regular_Pumping_Lemma.ipynb",
      "provenance": [],
      "authorship_tag": "ABX9TyOki52x9JGMw9jUxOLHwg1M",
      "include_colab_link": true
    },
    "kernelspec": {
      "name": "python3",
      "display_name": "Python 3"
    }
  },
  "cells": [
    {
      "cell_type": "markdown",
      "metadata": {
        "id": "view-in-github",
        "colab_type": "text"
      },
      "source": [
        "<a href=\"https://colab.research.google.com/github/byui-cse/cse480-notebooks/blob/master/06_2_The_Regular_Pumping_Lemma.ipynb\" target=\"_parent\"><img src=\"https://colab.research.google.com/assets/colab-badge.svg\" alt=\"Open In Colab\"/></a>"
      ]
    },
    {
      "cell_type": "markdown",
      "metadata": {
        "id": "15fp3DYOO1OE"
      },
      "source": [
        "# The Regular Pumping Lemma\n",
        "## Class Directed Learning\n",
        "### Due: 9 February 2021"
      ]
    },
    {
      "cell_type": "markdown",
      "metadata": {
        "id": "Kb_PKGBePDV5"
      },
      "source": [
        "Do you understand this \"theorem helper\" (what a lemma is) and how it helps you prove by contradiction that a language is **NOT** regular? Do you understand why it cannot be used to prove that a language **IS** regular?\n",
        "\n",
        "Work through the two resources below and enhance your understanding by helping each other and assess your understanding by quizzing each other.\n",
        "\n",
        "https://rickneff.github.io/regular-languages-pumping-words.pdf\n",
        "\n",
        "https://cs.stackexchange.com/questions/50559/pumping-lemma-if-you-can-keep-pumping-what-does-this-tell-you\n"
      ]
    },
    {
      "cell_type": "markdown",
      "metadata": {
        "id": "ZzN4wvGTPu9d"
      },
      "source": [
        "## Insert your comments here"
      ]
    }
  ]
}